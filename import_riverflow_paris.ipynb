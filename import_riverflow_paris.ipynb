{
 "cells": [
  {
   "cell_type": "code",
   "execution_count": 1,
   "id": "adult-medicine",
   "metadata": {},
   "outputs": [],
   "source": [
    "from ews.models import *\n",
    "import pandas as pd\n",
    "import geojson\n",
    "import numpy as np"
   ]
  },
  {
   "cell_type": "code",
   "execution_count": 8,
   "id": "unlikely-humanity",
   "metadata": {},
   "outputs": [],
   "source": [
    "d = pd.read_csv('D:/DWC_plattform/riverflow_locations.csv')"
   ]
  },
  {
   "cell_type": "code",
   "execution_count": 9,
   "id": "electrical-journal",
   "metadata": {},
   "outputs": [
    {
     "data": {
      "text/html": [
       "<div>\n",
       "<style scoped>\n",
       "    .dataframe tbody tr th:only-of-type {\n",
       "        vertical-align: middle;\n",
       "    }\n",
       "\n",
       "    .dataframe tbody tr th {\n",
       "        vertical-align: top;\n",
       "    }\n",
       "\n",
       "    .dataframe thead th {\n",
       "        text-align: right;\n",
       "    }\n",
       "</style>\n",
       "<table border=\"1\" class=\"dataframe\">\n",
       "  <thead>\n",
       "    <tr style=\"text-align: right;\">\n",
       "      <th></th>\n",
       "      <th>SiteName</th>\n",
       "      <th>SiteReferencementName</th>\n",
       "      <th>SiteType</th>\n",
       "      <th>SourceID</th>\n",
       "      <th>SiteLatitude(y)</th>\n",
       "      <th>SiteLongitude(x)</th>\n",
       "    </tr>\n",
       "  </thead>\n",
       "  <tbody>\n",
       "    <tr>\n",
       "      <th>0</th>\n",
       "      <td>Alfortville</td>\n",
       "      <td>alfortville_seine</td>\n",
       "      <td>Riverflow</td>\n",
       "      <td>NaN</td>\n",
       "      <td>48.797558</td>\n",
       "      <td>2.418510</td>\n",
       "    </tr>\n",
       "    <tr>\n",
       "      <th>1</th>\n",
       "      <td>Austerllitz</td>\n",
       "      <td>austerlitz</td>\n",
       "      <td>Riverflow</td>\n",
       "      <td>NaN</td>\n",
       "      <td>48.845091</td>\n",
       "      <td>2.366067</td>\n",
       "    </tr>\n",
       "    <tr>\n",
       "      <th>2</th>\n",
       "      <td>Creteil</td>\n",
       "      <td>cr�teil_marne</td>\n",
       "      <td>Riverflow</td>\n",
       "      <td>NaN</td>\n",
       "      <td>48.790437</td>\n",
       "      <td>2.472380</td>\n",
       "    </tr>\n",
       "    <tr>\n",
       "      <th>3</th>\n",
       "      <td>Gournay-sur-Marne</td>\n",
       "      <td>gournay_sur_marne_marne</td>\n",
       "      <td>Riverflow</td>\n",
       "      <td>NaN</td>\n",
       "      <td>48.865347</td>\n",
       "      <td>2.574696</td>\n",
       "    </tr>\n",
       "    <tr>\n",
       "      <th>4</th>\n",
       "      <td>Saint-Fargeau-Ponthierry</td>\n",
       "      <td>saint_fargeau_ponthierry_marne</td>\n",
       "      <td>Riverflow</td>\n",
       "      <td>NaN</td>\n",
       "      <td>48.793223</td>\n",
       "      <td>2.739247</td>\n",
       "    </tr>\n",
       "  </tbody>\n",
       "</table>\n",
       "</div>"
      ],
      "text/plain": [
       "                   SiteName           SiteReferencementName   SiteType  \\\n",
       "0               Alfortville               alfortville_seine  Riverflow   \n",
       "1               Austerllitz                      austerlitz  Riverflow   \n",
       "2                   Creteil                   cr�teil_marne  Riverflow   \n",
       "3         Gournay-sur-Marne         gournay_sur_marne_marne  Riverflow   \n",
       "4  Saint-Fargeau-Ponthierry  saint_fargeau_ponthierry_marne  Riverflow   \n",
       "\n",
       "   SourceID  SiteLatitude(y)  SiteLongitude(x)  \n",
       "0       NaN        48.797558          2.418510  \n",
       "1       NaN        48.845091          2.366067  \n",
       "2       NaN        48.790437          2.472380  \n",
       "3       NaN        48.865347          2.574696  \n",
       "4       NaN        48.793223          2.739247  "
      ]
     },
     "execution_count": 9,
     "metadata": {},
     "output_type": "execute_result"
    }
   ],
   "source": [
    "d"
   ]
  },
  {
   "cell_type": "code",
   "execution_count": 10,
   "id": "reserved-enemy",
   "metadata": {},
   "outputs": [],
   "source": [
    "for index, row in d.iterrows():\n",
    "    loc = Site()\n",
    "    loc.name = row['SiteName']\n",
    "    loc.ref_name = row['SiteReferencementName']\n",
    "    loc.geom = {\"coordinates\": [row['SiteLongitude(x)'],row['SiteLatitude(y)']], \"type\": \"Point\"}\n",
    "    loc.feature_type = FeatureType.objects.get(name = row['SiteType'])\n",
    "    loc.owner = User.objects.get(id = 1)\n",
    "    try:\n",
    "        loc.save()\n",
    "    except:\n",
    "        print(loc)"
   ]
  },
  {
   "cell_type": "code",
   "execution_count": 18,
   "id": "practical-disco",
   "metadata": {},
   "outputs": [],
   "source": [
    "rf = pd.read_csv('D:/DigitalWaterCity/data_processed/river_flows.csv', parse_dates = True, index_col = \"Date\")"
   ]
  },
  {
   "cell_type": "code",
   "execution_count": 19,
   "id": "northern-kelly",
   "metadata": {},
   "outputs": [
    {
     "data": {
      "text/html": [
       "<div>\n",
       "<style scoped>\n",
       "    .dataframe tbody tr th:only-of-type {\n",
       "        vertical-align: middle;\n",
       "    }\n",
       "\n",
       "    .dataframe tbody tr th {\n",
       "        vertical-align: top;\n",
       "    }\n",
       "\n",
       "    .dataframe thead th {\n",
       "        text-align: right;\n",
       "    }\n",
       "</style>\n",
       "<table border=\"1\" class=\"dataframe\">\n",
       "  <thead>\n",
       "    <tr style=\"text-align: right;\">\n",
       "      <th></th>\n",
       "      <th>Q (m3/s)</th>\n",
       "      <th>name</th>\n",
       "      <th>river</th>\n",
       "    </tr>\n",
       "    <tr>\n",
       "      <th>Date</th>\n",
       "      <th></th>\n",
       "      <th></th>\n",
       "      <th></th>\n",
       "    </tr>\n",
       "  </thead>\n",
       "  <tbody>\n",
       "    <tr>\n",
       "      <th>2016-01-01 00:00:00+00:00</th>\n",
       "      <td>90.0</td>\n",
       "      <td>Alfortville</td>\n",
       "      <td>Seine</td>\n",
       "    </tr>\n",
       "    <tr>\n",
       "      <th>2016-01-01 01:00:00+00:00</th>\n",
       "      <td>90.3</td>\n",
       "      <td>Alfortville</td>\n",
       "      <td>Seine</td>\n",
       "    </tr>\n",
       "    <tr>\n",
       "      <th>2016-01-01 02:00:00+00:00</th>\n",
       "      <td>86.3</td>\n",
       "      <td>Alfortville</td>\n",
       "      <td>Seine</td>\n",
       "    </tr>\n",
       "    <tr>\n",
       "      <th>2016-01-01 03:00:00+00:00</th>\n",
       "      <td>88.6</td>\n",
       "      <td>Alfortville</td>\n",
       "      <td>Seine</td>\n",
       "    </tr>\n",
       "    <tr>\n",
       "      <th>2016-01-01 04:00:00+00:00</th>\n",
       "      <td>90.3</td>\n",
       "      <td>Alfortville</td>\n",
       "      <td>Seine</td>\n",
       "    </tr>\n",
       "    <tr>\n",
       "      <th>...</th>\n",
       "      <td>...</td>\n",
       "      <td>...</td>\n",
       "      <td>...</td>\n",
       "    </tr>\n",
       "    <tr>\n",
       "      <th>2020-09-14 06:00:00+00:00</th>\n",
       "      <td>103.0</td>\n",
       "      <td>Austerlitz</td>\n",
       "      <td>Seine</td>\n",
       "    </tr>\n",
       "    <tr>\n",
       "      <th>2020-09-14 07:00:00+00:00</th>\n",
       "      <td>105.0</td>\n",
       "      <td>Austerlitz</td>\n",
       "      <td>Seine</td>\n",
       "    </tr>\n",
       "    <tr>\n",
       "      <th>2020-09-14 08:00:00+00:00</th>\n",
       "      <td>111.0</td>\n",
       "      <td>Austerlitz</td>\n",
       "      <td>Seine</td>\n",
       "    </tr>\n",
       "    <tr>\n",
       "      <th>2020-09-14 09:00:00+00:00</th>\n",
       "      <td>122.0</td>\n",
       "      <td>Austerlitz</td>\n",
       "      <td>Seine</td>\n",
       "    </tr>\n",
       "    <tr>\n",
       "      <th>2020-09-14 10:00:00+00:00</th>\n",
       "      <td>107.0</td>\n",
       "      <td>Austerlitz</td>\n",
       "      <td>Seine</td>\n",
       "    </tr>\n",
       "  </tbody>\n",
       "</table>\n",
       "<p>198429 rows × 3 columns</p>\n",
       "</div>"
      ],
      "text/plain": [
       "                           Q (m3/s)         name  river\n",
       "Date                                                   \n",
       "2016-01-01 00:00:00+00:00      90.0  Alfortville  Seine\n",
       "2016-01-01 01:00:00+00:00      90.3  Alfortville  Seine\n",
       "2016-01-01 02:00:00+00:00      86.3  Alfortville  Seine\n",
       "2016-01-01 03:00:00+00:00      88.6  Alfortville  Seine\n",
       "2016-01-01 04:00:00+00:00      90.3  Alfortville  Seine\n",
       "...                             ...          ...    ...\n",
       "2020-09-14 06:00:00+00:00     103.0   Austerlitz  Seine\n",
       "2020-09-14 07:00:00+00:00     105.0   Austerlitz  Seine\n",
       "2020-09-14 08:00:00+00:00     111.0   Austerlitz  Seine\n",
       "2020-09-14 09:00:00+00:00     122.0   Austerlitz  Seine\n",
       "2020-09-14 10:00:00+00:00     107.0   Austerlitz  Seine\n",
       "\n",
       "[198429 rows x 3 columns]"
      ]
     },
     "execution_count": 19,
     "metadata": {},
     "output_type": "execute_result"
    }
   ],
   "source": [
    "rf"
   ]
  },
  {
   "cell_type": "code",
   "execution_count": 21,
   "id": "interracial-russia",
   "metadata": {},
   "outputs": [],
   "source": [
    "rf = rf.groupby(\"name\").resample(\"D\").mean().reset_index()"
   ]
  },
  {
   "cell_type": "code",
   "execution_count": 25,
   "id": "guided-processing",
   "metadata": {},
   "outputs": [],
   "source": [
    "rf[\"Q (m3/s)\"] = rf[\"Q (m3/s)\"].round(2)"
   ]
  },
  {
   "cell_type": "code",
   "execution_count": 28,
   "id": "filled-montgomery",
   "metadata": {},
   "outputs": [
    {
     "data": {
      "text/plain": [
       "array(['Alfortville', 'Austerlitz', 'Creteil', 'Gournay-sur-Marne',\n",
       "       'Saint-Fargeau-Ponthierry'], dtype=object)"
      ]
     },
     "execution_count": 28,
     "metadata": {},
     "output_type": "execute_result"
    }
   ],
   "source": []
  },
  {
   "cell_type": "code",
   "execution_count": 27,
   "id": "heard-madonna",
   "metadata": {},
   "outputs": [
    {
     "ename": "DoesNotExist",
     "evalue": "Site matching query does not exist.",
     "output_type": "error",
     "traceback": [
      "\u001b[1;31m---------------------------------------------------------------------------\u001b[0m",
      "\u001b[1;31mDoesNotExist\u001b[0m                              Traceback (most recent call last)",
      "\u001b[1;32m<ipython-input-27-058445679543>\u001b[0m in \u001b[0;36m<module>\u001b[1;34m\u001b[0m\n\u001b[0;32m      3\u001b[0m     \u001b[0mdpoint\u001b[0m\u001b[1;33m.\u001b[0m\u001b[0mdate\u001b[0m \u001b[1;33m=\u001b[0m \u001b[0mrow\u001b[0m\u001b[1;33m[\u001b[0m\u001b[1;34m\"Date\"\u001b[0m\u001b[1;33m]\u001b[0m\u001b[1;33m\u001b[0m\u001b[1;33m\u001b[0m\u001b[0m\n\u001b[0;32m      4\u001b[0m     \u001b[0mdpoint\u001b[0m\u001b[1;33m.\u001b[0m\u001b[0mvalue\u001b[0m \u001b[1;33m=\u001b[0m \u001b[0mrow\u001b[0m\u001b[1;33m[\u001b[0m\u001b[1;34m\"Q (m3/s)\"\u001b[0m\u001b[1;33m]\u001b[0m\u001b[1;33m\u001b[0m\u001b[1;33m\u001b[0m\u001b[0m\n\u001b[1;32m----> 5\u001b[1;33m     \u001b[0mdpoint\u001b[0m\u001b[1;33m.\u001b[0m\u001b[0msite\u001b[0m \u001b[1;33m=\u001b[0m \u001b[0mSite\u001b[0m\u001b[1;33m.\u001b[0m\u001b[0mobjects\u001b[0m\u001b[1;33m.\u001b[0m\u001b[0mget\u001b[0m\u001b[1;33m(\u001b[0m\u001b[0mname\u001b[0m \u001b[1;33m=\u001b[0m \u001b[0mrow\u001b[0m\u001b[1;33m[\u001b[0m\u001b[1;34m'name'\u001b[0m\u001b[1;33m]\u001b[0m\u001b[1;33m)\u001b[0m\u001b[1;33m\u001b[0m\u001b[1;33m\u001b[0m\u001b[0m\n\u001b[0m\u001b[0;32m      6\u001b[0m     \u001b[0mdpoint\u001b[0m\u001b[1;33m.\u001b[0m\u001b[0msave\u001b[0m\u001b[1;33m(\u001b[0m\u001b[1;33m)\u001b[0m\u001b[1;33m\u001b[0m\u001b[1;33m\u001b[0m\u001b[0m\n\u001b[0;32m      7\u001b[0m \u001b[1;33m\u001b[0m\u001b[0m\n",
      "\u001b[1;32m~\\miniconda3\\envs\\DWC\\lib\\site-packages\\django\\db\\models\\manager.py\u001b[0m in \u001b[0;36mmanager_method\u001b[1;34m(self, *args, **kwargs)\u001b[0m\n\u001b[0;32m     83\u001b[0m         \u001b[1;32mdef\u001b[0m \u001b[0mcreate_method\u001b[0m\u001b[1;33m(\u001b[0m\u001b[0mname\u001b[0m\u001b[1;33m,\u001b[0m \u001b[0mmethod\u001b[0m\u001b[1;33m)\u001b[0m\u001b[1;33m:\u001b[0m\u001b[1;33m\u001b[0m\u001b[1;33m\u001b[0m\u001b[0m\n\u001b[0;32m     84\u001b[0m             \u001b[1;32mdef\u001b[0m \u001b[0mmanager_method\u001b[0m\u001b[1;33m(\u001b[0m\u001b[0mself\u001b[0m\u001b[1;33m,\u001b[0m \u001b[1;33m*\u001b[0m\u001b[0margs\u001b[0m\u001b[1;33m,\u001b[0m \u001b[1;33m**\u001b[0m\u001b[0mkwargs\u001b[0m\u001b[1;33m)\u001b[0m\u001b[1;33m:\u001b[0m\u001b[1;33m\u001b[0m\u001b[1;33m\u001b[0m\u001b[0m\n\u001b[1;32m---> 85\u001b[1;33m                 \u001b[1;32mreturn\u001b[0m \u001b[0mgetattr\u001b[0m\u001b[1;33m(\u001b[0m\u001b[0mself\u001b[0m\u001b[1;33m.\u001b[0m\u001b[0mget_queryset\u001b[0m\u001b[1;33m(\u001b[0m\u001b[1;33m)\u001b[0m\u001b[1;33m,\u001b[0m \u001b[0mname\u001b[0m\u001b[1;33m)\u001b[0m\u001b[1;33m(\u001b[0m\u001b[1;33m*\u001b[0m\u001b[0margs\u001b[0m\u001b[1;33m,\u001b[0m \u001b[1;33m**\u001b[0m\u001b[0mkwargs\u001b[0m\u001b[1;33m)\u001b[0m\u001b[1;33m\u001b[0m\u001b[1;33m\u001b[0m\u001b[0m\n\u001b[0m\u001b[0;32m     86\u001b[0m             \u001b[0mmanager_method\u001b[0m\u001b[1;33m.\u001b[0m\u001b[0m__name__\u001b[0m \u001b[1;33m=\u001b[0m \u001b[0mmethod\u001b[0m\u001b[1;33m.\u001b[0m\u001b[0m__name__\u001b[0m\u001b[1;33m\u001b[0m\u001b[1;33m\u001b[0m\u001b[0m\n\u001b[0;32m     87\u001b[0m             \u001b[0mmanager_method\u001b[0m\u001b[1;33m.\u001b[0m\u001b[0m__doc__\u001b[0m \u001b[1;33m=\u001b[0m \u001b[0mmethod\u001b[0m\u001b[1;33m.\u001b[0m\u001b[0m__doc__\u001b[0m\u001b[1;33m\u001b[0m\u001b[1;33m\u001b[0m\u001b[0m\n",
      "\u001b[1;32m~\\miniconda3\\envs\\DWC\\lib\\site-packages\\django\\db\\models\\query.py\u001b[0m in \u001b[0;36mget\u001b[1;34m(self, *args, **kwargs)\u001b[0m\n\u001b[0;32m    427\u001b[0m             \u001b[1;32mreturn\u001b[0m \u001b[0mclone\u001b[0m\u001b[1;33m.\u001b[0m\u001b[0m_result_cache\u001b[0m\u001b[1;33m[\u001b[0m\u001b[1;36m0\u001b[0m\u001b[1;33m]\u001b[0m\u001b[1;33m\u001b[0m\u001b[1;33m\u001b[0m\u001b[0m\n\u001b[0;32m    428\u001b[0m         \u001b[1;32mif\u001b[0m \u001b[1;32mnot\u001b[0m \u001b[0mnum\u001b[0m\u001b[1;33m:\u001b[0m\u001b[1;33m\u001b[0m\u001b[1;33m\u001b[0m\u001b[0m\n\u001b[1;32m--> 429\u001b[1;33m             raise self.model.DoesNotExist(\n\u001b[0m\u001b[0;32m    430\u001b[0m                 \u001b[1;34m\"%s matching query does not exist.\"\u001b[0m \u001b[1;33m%\u001b[0m\u001b[1;33m\u001b[0m\u001b[1;33m\u001b[0m\u001b[0m\n\u001b[0;32m    431\u001b[0m                 \u001b[0mself\u001b[0m\u001b[1;33m.\u001b[0m\u001b[0mmodel\u001b[0m\u001b[1;33m.\u001b[0m\u001b[0m_meta\u001b[0m\u001b[1;33m.\u001b[0m\u001b[0mobject_name\u001b[0m\u001b[1;33m\u001b[0m\u001b[1;33m\u001b[0m\u001b[0m\n",
      "\u001b[1;31mDoesNotExist\u001b[0m: Site matching query does not exist."
     ]
    }
   ],
   "source": [
    "for index, row in rf.iterrows():\n",
    "    dpoint = FeatureData()\n",
    "    dpoint.date = row[\"Date\"]\n",
    "    dpoint.value = row[\"Q (m3/s)\"]\n",
    "    dpoint.site = Site.objects.get(name = row['name'])\n",
    "    dpoint.save()\n",
    "    "
   ]
  },
  {
   "cell_type": "code",
   "execution_count": 35,
   "id": "covered-intermediate",
   "metadata": {},
   "outputs": [],
   "source": []
  },
  {
   "cell_type": "code",
   "execution_count": 36,
   "id": "equal-subdivision",
   "metadata": {},
   "outputs": [],
   "source": []
  },
  {
   "cell_type": "code",
   "execution_count": null,
   "id": "extensive-thanksgiving",
   "metadata": {},
   "outputs": [],
   "source": []
  }
 ],
 "metadata": {
  "kernelspec": {
   "display_name": "Django Shell-Plus",
   "language": "python",
   "name": "django_extensions"
  },
  "language_info": {
   "codemirror_mode": {
    "name": "ipython",
    "version": 3
   },
   "file_extension": ".py",
   "mimetype": "text/x-python",
   "name": "python",
   "nbconvert_exporter": "python",
   "pygments_lexer": "ipython3",
   "version": "3.9.1"
  }
 },
 "nbformat": 4,
 "nbformat_minor": 5
}
