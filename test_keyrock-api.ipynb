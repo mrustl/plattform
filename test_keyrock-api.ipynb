{
 "cells": [
  {
   "cell_type": "code",
   "execution_count": 8,
   "id": "orange-branch",
   "metadata": {},
   "outputs": [],
   "source": [
    "import requests"
   ]
  },
  {
   "cell_type": "code",
   "execution_count": null,
   "id": "cutting-cricket",
   "metadata": {},
   "outputs": [],
   "source": [
    "curl -iX POST \\\n",
    "  'http://localhost:3005/v1/auth/tokens' \\\n",
    "  -H 'Content-Type: application/json' \\\n",
    "  -d '{\n",
    "  \"name\": \"alice-the-admin@test.com\",\n",
    "  \"password\": \"test\"\n",
    "}'\n"
   ]
  },
  {
   "cell_type": "raw",
   "id": "regular-court",
   "metadata": {},
   "source": []
  },
  {
   "cell_type": "code",
   "execution_count": 9,
   "id": "twelve-correspondence",
   "metadata": {},
   "outputs": [],
   "source": [
    "response = requests.post( 'http://localhost:3005/v1/auth/tokens', json = {\n",
    "  \"name\": \"alice-the-admin@test.com\",\n",
    "  \"password\": \"test\"\n",
    "})"
   ]
  },
  {
   "cell_type": "code",
   "execution_count": 11,
   "id": "tracked-fleece",
   "metadata": {},
   "outputs": [
    {
     "data": {
      "text/plain": [
       "{'token': {'methods': ['password'], 'expires_at': '2021-02-07T13:04:52.703Z'},\n",
       " 'idm_authorization_config': {'level': 'basic', 'authzforce': False}}"
      ]
     },
     "execution_count": 11,
     "metadata": {},
     "output_type": "execute_result"
    }
   ],
   "source": [
    "response.json()"
   ]
  },
  {
   "cell_type": "code",
   "execution_count": 12,
   "id": "cooked-galaxy",
   "metadata": {},
   "outputs": [
    {
     "data": {
      "text/plain": [
       "<Response [201]>"
      ]
     },
     "execution_count": 12,
     "metadata": {},
     "output_type": "execute_result"
    }
   ],
   "source": [
    "response"
   ]
  },
  {
   "cell_type": "code",
   "execution_count": 14,
   "id": "laden-american",
   "metadata": {},
   "outputs": [
    {
     "ename": "TypeError",
     "evalue": "'bytes' object is not callable",
     "output_type": "error",
     "traceback": [
      "\u001b[1;31m---------------------------------------------------------------------------\u001b[0m",
      "\u001b[1;31mTypeError\u001b[0m                                 Traceback (most recent call last)",
      "\u001b[1;32m<ipython-input-14-232165c8dabd>\u001b[0m in \u001b[0;36m<module>\u001b[1;34m\u001b[0m\n\u001b[1;32m----> 1\u001b[1;33m \u001b[0mresponse\u001b[0m\u001b[1;33m.\u001b[0m\u001b[0mcontent\u001b[0m\u001b[1;33m(\u001b[0m\u001b[1;33m)\u001b[0m\u001b[1;33m\u001b[0m\u001b[1;33m\u001b[0m\u001b[0m\n\u001b[0m",
      "\u001b[1;31mTypeError\u001b[0m: 'bytes' object is not callable"
     ]
    }
   ],
   "source": [
    "curl -X GET \\\n",
    "  'http://localhost:3005/v1/auth/tokens' \\\n",
    "  -H 'Content-Type: application/json' \\\n",
    "  -H 'X-Auth-token: {{X-Auth-token}}' \\\n",
    "  -H 'X-Subject-token: {{X-Subject-token}}'"
   ]
  },
  {
   "cell_type": "code",
   "execution_count": null,
   "id": "opposed-cylinder",
   "metadata": {},
   "outputs": [],
   "source": []
  },
  {
   "cell_type": "code",
   "execution_count": null,
   "id": "modified-depression",
   "metadata": {},
   "outputs": [],
   "source": []
  }
 ],
 "metadata": {
  "kernelspec": {
   "display_name": "Django Shell-Plus",
   "language": "python",
   "name": "django_extensions"
  },
  "language_info": {
   "codemirror_mode": {
    "name": "ipython",
    "version": 3
   },
   "file_extension": ".py",
   "mimetype": "text/x-python",
   "name": "python",
   "nbconvert_exporter": "python",
   "pygments_lexer": "ipython3",
   "version": "3.9.1"
  }
 },
 "nbformat": 4,
 "nbformat_minor": 5
}
