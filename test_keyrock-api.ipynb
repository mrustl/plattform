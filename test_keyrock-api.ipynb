{
 "cells": [
  {
   "cell_type": "code",
   "execution_count": 4,
   "id": "orange-branch",
   "metadata": {},
   "outputs": [],
   "source": [
    "import requests\n",
    "import json"
   ]
  },
  {
   "cell_type": "code",
   "execution_count": 74,
   "id": "changed-school",
   "metadata": {},
   "outputs": [],
   "source": [
    "get = requests.get(url=\"https://www.c-broker.xyz/v2/entities\")\n",
    "headers = {'Content-Type': 'application/json'}"
   ]
  },
  {
   "cell_type": "code",
   "execution_count": 75,
   "id": "multiple-designer",
   "metadata": {},
   "outputs": [
    {
     "data": {
      "text/plain": [
       "[{'id': 'Room1', 'type': 'Room'},\n",
       " {'id': 'Room2', 'type': 'Room'},\n",
       " {'id': 'Room3', 'type': 'Room'},\n",
       " {'id': 'Room4', 'type': 'Room'},\n",
       " {'id': '3', 'type': 'data'},\n",
       " {'id': 'Room10', 'type': 'data'},\n",
       " {'id': 'Room5', 'type': 'Room'},\n",
       " {'id': 'Room100', 'type': 'data'},\n",
       " {'id': 'Room101', 'type': 'data'},\n",
       " {'id': 'Room102', 'type': 'data'}]"
      ]
     },
     "execution_count": 75,
     "metadata": {},
     "output_type": "execute_result"
    }
   ],
   "source": [
    "get.json()"
   ]
  },
  {
   "cell_type": "code",
   "execution_count": 76,
   "id": "expected-teacher",
   "metadata": {},
   "outputs": [],
   "source": [
    "payload = {'id':'Room106', 'type': 'data'}"
   ]
  },
  {
   "cell_type": "code",
   "execution_count": 77,
   "id": "foster-cutting",
   "metadata": {},
   "outputs": [
    {
     "data": {
      "text/plain": [
       "<module 'json' from 'C:\\\\Users\\\\wolfg\\\\miniconda3\\\\envs\\\\DWC\\\\lib\\\\json\\\\__init__.py'>"
      ]
     },
     "execution_count": 77,
     "metadata": {},
     "output_type": "execute_result"
    }
   ],
   "source": [
    "json"
   ]
  },
  {
   "cell_type": "code",
   "execution_count": 78,
   "id": "approved-satellite",
   "metadata": {},
   "outputs": [],
   "source": [
    "post = requests.post(url=\"https://www.c-broker.xyz/v2/entities\", headers = headers, json = payload)"
   ]
  },
  {
   "cell_type": "code",
   "execution_count": 79,
   "id": "northern-likelihood",
   "metadata": {},
   "outputs": [
    {
     "data": {
      "text/plain": [
       "<Response [201]>"
      ]
     },
     "execution_count": 79,
     "metadata": {},
     "output_type": "execute_result"
    }
   ],
   "source": [
    "post"
   ]
  },
  {
   "cell_type": "code",
   "execution_count": 80,
   "id": "silver-admission",
   "metadata": {},
   "outputs": [
    {
     "data": {
      "text/plain": [
       "b''"
      ]
     },
     "execution_count": 80,
     "metadata": {},
     "output_type": "execute_result"
    }
   ],
   "source": [
    "post.content"
   ]
  },
  {
   "cell_type": "code",
   "execution_count": 9,
   "id": "geological-southwest",
   "metadata": {},
   "outputs": [],
   "source": [
    "client_id = r'c98dddaa-218d-411d-b4bd-9764abed0475'\n",
    "client_secret = r'ac283bdc-91b8-40a9-820e-f8475170ee90'\n",
    "redirect_uri = 'https://www.kicker.de'"
   ]
  },
  {
   "cell_type": "code",
   "execution_count": 13,
   "id": "compressed-methodology",
   "metadata": {},
   "outputs": [],
   "source": [
    "from requests_oauthlib import OAuth2Session\n",
    "oauth = OAuth2Session(client_id, redirect_uri=redirect_uri)\n"
   ]
  },
  {
   "cell_type": "code",
   "execution_count": 14,
   "id": "certified-bottle",
   "metadata": {},
   "outputs": [
    {
     "data": {
      "text/plain": [
       "<requests_oauthlib.oauth2_session.OAuth2Session at 0x2ace2ce6820>"
      ]
     },
     "execution_count": 14,
     "metadata": {},
     "output_type": "execute_result"
    }
   ],
   "source": [
    "oauth"
   ]
  },
  {
   "cell_type": "code",
   "execution_count": 17,
   "id": "exotic-niagara",
   "metadata": {},
   "outputs": [],
   "source": [
    "authorization_url, state = oauth.authorization_url(\n",
    "        'https://www.c-broker.xyz:3000')\n",
    "        # access_type and prompt are Google specific extra\n",
    "        # parameters)"
   ]
  },
  {
   "cell_type": "code",
   "execution_count": 19,
   "id": "scheduled-tumor",
   "metadata": {},
   "outputs": [
    {
     "data": {
      "text/plain": [
       "'https://www.c-broker.xyz:3000?response_type=code&client_id=c98dddaa-218d-411d-b4bd-9764abed0475&redirect_uri=https%3A%2F%2Fwww.kicker.de&state=0TTLuO5kY9GQDiMKJuB9kcnkVlquI6'"
      ]
     },
     "execution_count": 19,
     "metadata": {},
     "output_type": "execute_result"
    }
   ],
   "source": [
    "authorization_url"
   ]
  },
  {
   "cell_type": "code",
   "execution_count": 20,
   "id": "severe-ethnic",
   "metadata": {},
   "outputs": [
    {
     "data": {
      "text/plain": [
       "'0TTLuO5kY9GQDiMKJuB9kcnkVlquI6'"
      ]
     },
     "execution_count": 20,
     "metadata": {},
     "output_type": "execute_result"
    }
   ],
   "source": [
    "state"
   ]
  },
  {
   "cell_type": "code",
   "execution_count": null,
   "id": "center-position",
   "metadata": {},
   "outputs": [],
   "source": []
  }
 ],
 "metadata": {
  "kernelspec": {
   "display_name": "Django Shell-Plus",
   "language": "python",
   "name": "django_extensions"
  },
  "language_info": {
   "codemirror_mode": {
    "name": "ipython",
    "version": 3
   },
   "file_extension": ".py",
   "mimetype": "text/x-python",
   "name": "python",
   "nbconvert_exporter": "python",
   "pygments_lexer": "ipython3",
   "version": "3.9.1"
  }
 },
 "nbformat": 4,
 "nbformat_minor": 5
}
