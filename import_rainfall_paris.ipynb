{
 "cells": [
  {
   "cell_type": "code",
   "execution_count": 1,
   "id": "mexican-brass",
   "metadata": {},
   "outputs": [
    {
     "name": "stderr",
     "output_type": "stream",
     "text": [
      "Package `lxml` missing. Pretty print will be disabled\n"
     ]
    }
   ],
   "source": [
    "from ews.models import *\n",
    "import pandas as pd\n",
    "from fastkml import  kml"
   ]
  },
  {
   "cell_type": "code",
   "execution_count": 4,
   "id": "derived-norwegian",
   "metadata": {},
   "outputs": [],
   "source": [
    "kml_file = \"D:/DWC_plattform/rain.kml\"\n",
    "with open(kml_file, 'rt', encoding=\"utf-8\") as myfile:\n",
    "    doc=myfile.read()"
   ]
  },
  {
   "cell_type": "code",
   "execution_count": 6,
   "id": "supreme-voltage",
   "metadata": {},
   "outputs": [],
   "source": [
    "k = kml.KML()"
   ]
  },
  {
   "cell_type": "code",
   "execution_count": 7,
   "id": "arabic-crystal",
   "metadata": {},
   "outputs": [],
   "source": [
    "k.from_string(doc)"
   ]
  },
  {
   "cell_type": "code",
   "execution_count": 8,
   "id": "proper-point",
   "metadata": {},
   "outputs": [
    {
     "data": {
      "text/plain": [
       "<fastkml.kml.KML at 0x2b0bc9ea5b0>"
      ]
     },
     "execution_count": 8,
     "metadata": {},
     "output_type": "execute_result"
    }
   ],
   "source": [
    "k"
   ]
  },
  {
   "cell_type": "code",
   "execution_count": 12,
   "id": "recent-shanghai",
   "metadata": {},
   "outputs": [],
   "source": [
    "features = list(k.features())"
   ]
  },
  {
   "cell_type": "code",
   "execution_count": 14,
   "id": "white-energy",
   "metadata": {},
   "outputs": [
    {
     "data": {
      "text/plain": [
       "1"
      ]
     },
     "execution_count": 14,
     "metadata": {},
     "output_type": "execute_result"
    }
   ],
   "source": [
    "len(features)"
   ]
  },
  {
   "cell_type": "code",
   "execution_count": 27,
   "id": "piano-screen",
   "metadata": {},
   "outputs": [
    {
     "data": {
      "text/plain": [
       "[<fastkml.kml.Placemark at 0x2b0bcb1fcd0>,\n",
       " <fastkml.kml.Placemark at 0x2b0bcb1fe20>,\n",
       " <fastkml.kml.Placemark at 0x2b0bcb482b0>,\n",
       " <fastkml.kml.Placemark at 0x2b0bcb483d0>,\n",
       " <fastkml.kml.Placemark at 0x2b0bcb484f0>,\n",
       " <fastkml.kml.Placemark at 0x2b0bcb48610>,\n",
       " <fastkml.kml.Placemark at 0x2b0bcb48730>,\n",
       " <fastkml.kml.Placemark at 0x2b0bcb48850>,\n",
       " <fastkml.kml.Placemark at 0x2b0bcb48970>,\n",
       " <fastkml.kml.Placemark at 0x2b0bcb48a90>,\n",
       " <fastkml.kml.Placemark at 0x2b0bcb48bb0>,\n",
       " <fastkml.kml.Placemark at 0x2b0bcb48cd0>,\n",
       " <fastkml.kml.Placemark at 0x2b0bcb48df0>,\n",
       " <fastkml.kml.Placemark at 0x2b0bcb48f10>,\n",
       " <fastkml.kml.Placemark at 0x2b0bcb4b070>,\n",
       " <fastkml.kml.Placemark at 0x2b0bcb4b190>,\n",
       " <fastkml.kml.Placemark at 0x2b0bcb4b430>,\n",
       " <fastkml.kml.Placemark at 0x2b0bcb4b580>,\n",
       " <fastkml.kml.Placemark at 0x2b0bcb4b6a0>,\n",
       " <fastkml.kml.Placemark at 0x2b0bcb4b7c0>,\n",
       " <fastkml.kml.Placemark at 0x2b0bcb4b8e0>,\n",
       " <fastkml.kml.Placemark at 0x2b0bcb4ba00>,\n",
       " <fastkml.kml.Placemark at 0x2b0bcb4bb20>,\n",
       " <fastkml.kml.Placemark at 0x2b0bcb4bc40>,\n",
       " <fastkml.kml.Placemark at 0x2b0bcb4bd60>,\n",
       " <fastkml.kml.Placemark at 0x2b0bcb4be80>,\n",
       " <fastkml.kml.Placemark at 0x2b0bcb4bfa0>,\n",
       " <fastkml.kml.Placemark at 0x2b0bcb4f100>,\n",
       " <fastkml.kml.Placemark at 0x2b0bcb4f220>,\n",
       " <fastkml.kml.Placemark at 0x2b0bcb4f340>,\n",
       " <fastkml.kml.Placemark at 0x2b0bcb4f460>,\n",
       " <fastkml.kml.Placemark at 0x2b0bcb4f580>,\n",
       " <fastkml.kml.Placemark at 0x2b0bcb4f6a0>,\n",
       " <fastkml.kml.Placemark at 0x2b0bcb4f7c0>,\n",
       " <fastkml.kml.Placemark at 0x2b0bcb4f8e0>,\n",
       " <fastkml.kml.Placemark at 0x2b0bcb4fa00>,\n",
       " <fastkml.kml.Placemark at 0x2b0bcb4fb20>,\n",
       " <fastkml.kml.Placemark at 0x2b0bcb4fc40>,\n",
       " <fastkml.kml.Placemark at 0x2b0bcb4fd60>,\n",
       " <fastkml.kml.Placemark at 0x2b0bcb4fe80>,\n",
       " <fastkml.kml.Placemark at 0x2b0bcb4ffa0>,\n",
       " <fastkml.kml.Placemark at 0x2b0bcb53100>,\n",
       " <fastkml.kml.Placemark at 0x2b0bcb53220>,\n",
       " <fastkml.kml.Placemark at 0x2b0bcb53340>,\n",
       " <fastkml.kml.Placemark at 0x2b0bcb53460>,\n",
       " <fastkml.kml.Placemark at 0x2b0bcb53580>,\n",
       " <fastkml.kml.Placemark at 0x2b0bcb536a0>,\n",
       " <fastkml.kml.Placemark at 0x2b0bcb537c0>,\n",
       " <fastkml.kml.Placemark at 0x2b0bcb538e0>,\n",
       " <fastkml.kml.Placemark at 0x2b0bcb53a00>,\n",
       " <fastkml.kml.Placemark at 0x2b0bcb53b20>,\n",
       " <fastkml.kml.Placemark at 0x2b0bcb53c40>,\n",
       " <fastkml.kml.Placemark at 0x2b0bcb53d60>,\n",
       " <fastkml.kml.Placemark at 0x2b0bcb53e80>,\n",
       " <fastkml.kml.Placemark at 0x2b0bcb53fa0>,\n",
       " <fastkml.kml.Placemark at 0x2b0bcb56100>,\n",
       " <fastkml.kml.Placemark at 0x2b0bcb56220>,\n",
       " <fastkml.kml.Placemark at 0x2b0bcb56340>,\n",
       " <fastkml.kml.Placemark at 0x2b0bcb56460>,\n",
       " <fastkml.kml.Placemark at 0x2b0bcb56580>,\n",
       " <fastkml.kml.Placemark at 0x2b0bcb566a0>,\n",
       " <fastkml.kml.Placemark at 0x2b0bcb567c0>,\n",
       " <fastkml.kml.Placemark at 0x2b0bcb568e0>,\n",
       " <fastkml.kml.Placemark at 0x2b0bcb56a00>,\n",
       " <fastkml.kml.Placemark at 0x2b0bcb56b20>,\n",
       " <fastkml.kml.Placemark at 0x2b0bcb56c40>,\n",
       " <fastkml.kml.Placemark at 0x2b0bcb56d60>,\n",
       " <fastkml.kml.Placemark at 0x2b0bcb56e80>]"
      ]
     },
     "execution_count": 27,
     "metadata": {},
     "output_type": "execute_result"
    }
   ],
   "source": [
    "list(list(k.features())[0].features())"
   ]
  },
  {
   "cell_type": "code",
   "execution_count": 28,
   "id": "personalized-celebrity",
   "metadata": {},
   "outputs": [],
   "source": [
    "rain_raw = list(list(k.features())[0].features())"
   ]
  },
  {
   "cell_type": "code",
   "execution_count": 29,
   "id": "dense-apparatus",
   "metadata": {},
   "outputs": [
    {
     "name": "stdout",
     "output_type": "stream",
     "text": [
      "RB (93) 2.4736346 48.8836453\n",
      "LG (93) 2.5342468 48.9201319\n",
      "BR (93) 2.3371865 48.9460012\n",
      "BG (93) 2.424896 48.877997\n",
      "DR (93) 2.4517002 48.9249472\n"
     ]
    }
   ],
   "source": [
    "# print out the first 5 stations just as a sanity check\n",
    "for s in rain_raw[:5]:\n",
    "    # a type of pygeoif.geometry.Point\n",
    "    point = s._geometry.geometry\n",
    "    print(s.name, point.x, point.y)"
   ]
  },
  {
   "cell_type": "code",
   "execution_count": 31,
   "id": "mobile-dress",
   "metadata": {},
   "outputs": [
    {
     "name": "stdout",
     "output_type": "stream",
     "text": [
      "      name       lon        lat\n",
      "0  RB (93)  2.473635  48.883645\n",
      "1  LG (93)  2.534247  48.920132\n",
      "2  BR (93)  2.337187  48.946001\n",
      "3  BG (93)  2.424896  48.877997\n",
      "4  DR (93)  2.451700  48.924947\n"
     ]
    }
   ],
   "source": [
    "# lets put them into pandas dataframes\n",
    "import pandas as pd\n",
    "\n",
    "rain_list = [{\n",
    "    'name': s.name,\n",
    "    'lon': s._geometry.geometry.x,\n",
    "    'lat': s._geometry.geometry.y\n",
    "} for s in rain_raw]\n",
    "\n",
    "rain = pd.DataFrame(rain_list)\n",
    "\n",
    "# again, let's sanity check we have the right stuff\n",
    "print(rain.head())\n",
    "\n"
   ]
  },
  {
   "cell_type": "code",
   "execution_count": 41,
   "id": "patient-tragedy",
   "metadata": {},
   "outputs": [],
   "source": [
    "l = rain.name.str.split(' ')"
   ]
  },
  {
   "cell_type": "code",
   "execution_count": 42,
   "id": "dutch-arctic",
   "metadata": {},
   "outputs": [
    {
     "data": {
      "text/plain": [
       "0       [RB, (93)]\n",
       "1       [LG, (93)]\n",
       "2       [BR, (93)]\n",
       "3       [BG, (93)]\n",
       "4       [DR, (93)]\n",
       "          ...     \n",
       "63    [PL02, (75)]\n",
       "64    [PL16, (75)]\n",
       "65    [PL01, (75)]\n",
       "66    [PL06, (75)]\n",
       "67    [PL07, (75)]\n",
       "Name: name, Length: 68, dtype: object"
      ]
     },
     "execution_count": 42,
     "metadata": {},
     "output_type": "execute_result"
    }
   ],
   "source": [
    "l"
   ]
  },
  {
   "cell_type": "code",
   "execution_count": 45,
   "id": "double-theology",
   "metadata": {},
   "outputs": [],
   "source": [
    "rain.name = [item[0] for item in l]"
   ]
  },
  {
   "cell_type": "code",
   "execution_count": 59,
   "id": "becoming-science",
   "metadata": {},
   "outputs": [],
   "source": [
    "rainvalues = pd.read_csv(\"D:/DigitalWaterCity/data_processed/rain_siaap.csv\", parse_dates = True, index_col = \"Date\")"
   ]
  },
  {
   "cell_type": "code",
   "execution_count": 67,
   "id": "floral-banana",
   "metadata": {},
   "outputs": [],
   "source": [
    "rv = rainvalues.groupby(\"gauge\").resample(\"D\").sum()"
   ]
  },
  {
   "cell_type": "code",
   "execution_count": 68,
   "id": "engaging-titanium",
   "metadata": {},
   "outputs": [
    {
     "name": "stdout",
     "output_type": "stream",
     "text": [
      "                          value\n",
      "gauge         Date             \n",
      "BONN38_P (mm) 2016-01-01   0.24\n",
      "              2016-01-02   0.04\n",
      "              2016-01-03   0.56\n",
      "              2016-01-04   0.00\n",
      "              2016-01-05   0.04\n"
     ]
    }
   ],
   "source": [
    "print(rv.head())"
   ]
  },
  {
   "cell_type": "code",
   "execution_count": 72,
   "id": "invisible-pierce",
   "metadata": {},
   "outputs": [],
   "source": [
    "rv = rv.reset_index()"
   ]
  },
  {
   "cell_type": "code",
   "execution_count": 80,
   "id": "realistic-bryan",
   "metadata": {},
   "outputs": [],
   "source": [
    "gn = rv.gauge.str.split(\"_\")"
   ]
  },
  {
   "cell_type": "code",
   "execution_count": 81,
   "id": "seasonal-eating",
   "metadata": {},
   "outputs": [],
   "source": [
    "rv.gauge= [item[0] for item in gn]"
   ]
  },
  {
   "cell_type": "code",
   "execution_count": 89,
   "id": "endless-quarterly",
   "metadata": {},
   "outputs": [
    {
     "data": {
      "text/plain": [
       "<QuerySet [<FeatureType: WWTP>, <FeatureType: Network>, <FeatureType: River>]>"
      ]
     },
     "execution_count": 89,
     "metadata": {},
     "output_type": "execute_result"
    }
   ],
   "source": [
    "FeatureType.objects.all()"
   ]
  },
  {
   "cell_type": "code",
   "execution_count": 85,
   "id": "criminal-procedure",
   "metadata": {},
   "outputs": [
    {
     "data": {
      "text/plain": [
       "array(['BONN38', 'CHAM23', 'CHAM40'], dtype=object)"
      ]
     },
     "execution_count": 85,
     "metadata": {},
     "output_type": "execute_result"
    }
   ],
   "source": [
    "rv.gauge.unique()"
   ]
  },
  {
   "cell_type": "code",
   "execution_count": 86,
   "id": "prescription-married",
   "metadata": {},
   "outputs": [
    {
     "data": {
      "text/plain": [
       "array(['RB', 'LG', 'BR', 'BG', 'DR', 'NM', 'DU', 'CL', 'PN', 'LV', 'NC',\n",
       "       'BM', 'NP', 'NE', 'PM', 'MT', 'MO', 'OU', 'TF', 'BB', 'SD', 'RL',\n",
       "       'JE', 'GY', 'VI', 'GP', 'SL', 'LHAY35', 'MAIS37', 'MAIS32',\n",
       "       'VITR22', 'IVRY01', 'IVRY16', 'CHAM40', 'QUEU09', 'SMAN31',\n",
       "       'FONT05', 'NOIS17', 'SUCY29', 'BONN38', 'VALE39', 'ORLY20',\n",
       "       'VALE06', 'BOIS25', 'MAND30', 'SANT08', 'SMFO26', 'JOIN10',\n",
       "       'VILL14', 'CACH15', 'FRES34', 'RUNG19', 'CHAM23', 'VITR02', 'PL12',\n",
       "       'PL11', 'PL10', 'PL09', 'PL13', 'PL14', 'PL03', 'PL04', 'PL05',\n",
       "       'PL02', 'PL16', 'PL01', 'PL06', 'PL07'], dtype=object)"
      ]
     },
     "execution_count": 86,
     "metadata": {},
     "output_type": "execute_result"
    }
   ],
   "source": [
    "rain.name.unique()"
   ]
  },
  {
   "cell_type": "code",
   "execution_count": 90,
   "id": "sixth-investigation",
   "metadata": {},
   "outputs": [],
   "source": [
    "f = FeatureType()"
   ]
  },
  {
   "cell_type": "code",
   "execution_count": 91,
   "id": "tutorial-batman",
   "metadata": {},
   "outputs": [],
   "source": [
    "f.name = \"Rainfall\""
   ]
  },
  {
   "cell_type": "code",
   "execution_count": 92,
   "id": "amateur-supplement",
   "metadata": {},
   "outputs": [],
   "source": [
    "f.unit = \"mm\""
   ]
  },
  {
   "cell_type": "code",
   "execution_count": 93,
   "id": "imposed-object",
   "metadata": {},
   "outputs": [],
   "source": [
    "f.save()"
   ]
  },
  {
   "cell_type": "code",
   "execution_count": 94,
   "id": "patient-multimedia",
   "metadata": {},
   "outputs": [
    {
     "data": {
      "text/html": [
       "<div>\n",
       "<style scoped>\n",
       "    .dataframe tbody tr th:only-of-type {\n",
       "        vertical-align: middle;\n",
       "    }\n",
       "\n",
       "    .dataframe tbody tr th {\n",
       "        vertical-align: top;\n",
       "    }\n",
       "\n",
       "    .dataframe thead th {\n",
       "        text-align: right;\n",
       "    }\n",
       "</style>\n",
       "<table border=\"1\" class=\"dataframe\">\n",
       "  <thead>\n",
       "    <tr style=\"text-align: right;\">\n",
       "      <th></th>\n",
       "      <th>name</th>\n",
       "      <th>lon</th>\n",
       "      <th>lat</th>\n",
       "    </tr>\n",
       "  </thead>\n",
       "  <tbody>\n",
       "    <tr>\n",
       "      <th>0</th>\n",
       "      <td>RB</td>\n",
       "      <td>2.473635</td>\n",
       "      <td>48.883645</td>\n",
       "    </tr>\n",
       "    <tr>\n",
       "      <th>1</th>\n",
       "      <td>LG</td>\n",
       "      <td>2.534247</td>\n",
       "      <td>48.920132</td>\n",
       "    </tr>\n",
       "    <tr>\n",
       "      <th>2</th>\n",
       "      <td>BR</td>\n",
       "      <td>2.337187</td>\n",
       "      <td>48.946001</td>\n",
       "    </tr>\n",
       "    <tr>\n",
       "      <th>3</th>\n",
       "      <td>BG</td>\n",
       "      <td>2.424896</td>\n",
       "      <td>48.877997</td>\n",
       "    </tr>\n",
       "    <tr>\n",
       "      <th>4</th>\n",
       "      <td>DR</td>\n",
       "      <td>2.451700</td>\n",
       "      <td>48.924947</td>\n",
       "    </tr>\n",
       "    <tr>\n",
       "      <th>...</th>\n",
       "      <td>...</td>\n",
       "      <td>...</td>\n",
       "      <td>...</td>\n",
       "    </tr>\n",
       "    <tr>\n",
       "      <th>63</th>\n",
       "      <td>PL02</td>\n",
       "      <td>2.322609</td>\n",
       "      <td>48.839926</td>\n",
       "    </tr>\n",
       "    <tr>\n",
       "      <th>64</th>\n",
       "      <td>PL16</td>\n",
       "      <td>2.332222</td>\n",
       "      <td>48.829983</td>\n",
       "    </tr>\n",
       "    <tr>\n",
       "      <th>65</th>\n",
       "      <td>PL01</td>\n",
       "      <td>2.288032</td>\n",
       "      <td>48.852728</td>\n",
       "    </tr>\n",
       "    <tr>\n",
       "      <th>66</th>\n",
       "      <td>PL06</td>\n",
       "      <td>2.256447</td>\n",
       "      <td>48.839511</td>\n",
       "    </tr>\n",
       "    <tr>\n",
       "      <th>67</th>\n",
       "      <td>PL07</td>\n",
       "      <td>2.236121</td>\n",
       "      <td>48.857258</td>\n",
       "    </tr>\n",
       "  </tbody>\n",
       "</table>\n",
       "<p>68 rows × 3 columns</p>\n",
       "</div>"
      ],
      "text/plain": [
       "    name       lon        lat\n",
       "0     RB  2.473635  48.883645\n",
       "1     LG  2.534247  48.920132\n",
       "2     BR  2.337187  48.946001\n",
       "3     BG  2.424896  48.877997\n",
       "4     DR  2.451700  48.924947\n",
       "..   ...       ...        ...\n",
       "63  PL02  2.322609  48.839926\n",
       "64  PL16  2.332222  48.829983\n",
       "65  PL01  2.288032  48.852728\n",
       "66  PL06  2.256447  48.839511\n",
       "67  PL07  2.236121  48.857258\n",
       "\n",
       "[68 rows x 3 columns]"
      ]
     },
     "execution_count": 94,
     "metadata": {},
     "output_type": "execute_result"
    }
   ],
   "source": [
    "rain"
   ]
  },
  {
   "cell_type": "code",
   "execution_count": 95,
   "id": "moral-toronto",
   "metadata": {},
   "outputs": [],
   "source": [
    "for index, row in rain.iterrows():\n",
    "    loc = Site()\n",
    "    loc.name = row['name']\n",
    "    loc.ref_name = row['name']\n",
    "    loc.geom = {\"coordinates\": [row['lon'],row['lat']], \"type\": \"Point\"}\n",
    "    loc.feature_type = f\n",
    "    loc.owner = User.objects.get(id = 1)\n",
    "    try:\n",
    "        loc.save()\n",
    "    except:\n",
    "        print(loc)"
   ]
  },
  {
   "cell_type": "code",
   "execution_count": 96,
   "id": "offshore-earthquake",
   "metadata": {},
   "outputs": [
    {
     "data": {
      "text/html": [
       "<div>\n",
       "<style scoped>\n",
       "    .dataframe tbody tr th:only-of-type {\n",
       "        vertical-align: middle;\n",
       "    }\n",
       "\n",
       "    .dataframe tbody tr th {\n",
       "        vertical-align: top;\n",
       "    }\n",
       "\n",
       "    .dataframe thead th {\n",
       "        text-align: right;\n",
       "    }\n",
       "</style>\n",
       "<table border=\"1\" class=\"dataframe\">\n",
       "  <thead>\n",
       "    <tr style=\"text-align: right;\">\n",
       "      <th></th>\n",
       "      <th>name</th>\n",
       "      <th>lon</th>\n",
       "      <th>lat</th>\n",
       "    </tr>\n",
       "  </thead>\n",
       "  <tbody>\n",
       "    <tr>\n",
       "      <th>0</th>\n",
       "      <td>RB</td>\n",
       "      <td>2.473635</td>\n",
       "      <td>48.883645</td>\n",
       "    </tr>\n",
       "    <tr>\n",
       "      <th>1</th>\n",
       "      <td>LG</td>\n",
       "      <td>2.534247</td>\n",
       "      <td>48.920132</td>\n",
       "    </tr>\n",
       "    <tr>\n",
       "      <th>2</th>\n",
       "      <td>BR</td>\n",
       "      <td>2.337187</td>\n",
       "      <td>48.946001</td>\n",
       "    </tr>\n",
       "    <tr>\n",
       "      <th>3</th>\n",
       "      <td>BG</td>\n",
       "      <td>2.424896</td>\n",
       "      <td>48.877997</td>\n",
       "    </tr>\n",
       "    <tr>\n",
       "      <th>4</th>\n",
       "      <td>DR</td>\n",
       "      <td>2.451700</td>\n",
       "      <td>48.924947</td>\n",
       "    </tr>\n",
       "    <tr>\n",
       "      <th>...</th>\n",
       "      <td>...</td>\n",
       "      <td>...</td>\n",
       "      <td>...</td>\n",
       "    </tr>\n",
       "    <tr>\n",
       "      <th>63</th>\n",
       "      <td>PL02</td>\n",
       "      <td>2.322609</td>\n",
       "      <td>48.839926</td>\n",
       "    </tr>\n",
       "    <tr>\n",
       "      <th>64</th>\n",
       "      <td>PL16</td>\n",
       "      <td>2.332222</td>\n",
       "      <td>48.829983</td>\n",
       "    </tr>\n",
       "    <tr>\n",
       "      <th>65</th>\n",
       "      <td>PL01</td>\n",
       "      <td>2.288032</td>\n",
       "      <td>48.852728</td>\n",
       "    </tr>\n",
       "    <tr>\n",
       "      <th>66</th>\n",
       "      <td>PL06</td>\n",
       "      <td>2.256447</td>\n",
       "      <td>48.839511</td>\n",
       "    </tr>\n",
       "    <tr>\n",
       "      <th>67</th>\n",
       "      <td>PL07</td>\n",
       "      <td>2.236121</td>\n",
       "      <td>48.857258</td>\n",
       "    </tr>\n",
       "  </tbody>\n",
       "</table>\n",
       "<p>68 rows × 3 columns</p>\n",
       "</div>"
      ],
      "text/plain": [
       "    name       lon        lat\n",
       "0     RB  2.473635  48.883645\n",
       "1     LG  2.534247  48.920132\n",
       "2     BR  2.337187  48.946001\n",
       "3     BG  2.424896  48.877997\n",
       "4     DR  2.451700  48.924947\n",
       "..   ...       ...        ...\n",
       "63  PL02  2.322609  48.839926\n",
       "64  PL16  2.332222  48.829983\n",
       "65  PL01  2.288032  48.852728\n",
       "66  PL06  2.256447  48.839511\n",
       "67  PL07  2.236121  48.857258\n",
       "\n",
       "[68 rows x 3 columns]"
      ]
     },
     "execution_count": 96,
     "metadata": {},
     "output_type": "execute_result"
    }
   ],
   "source": [
    "rain"
   ]
  },
  {
   "cell_type": "code",
   "execution_count": null,
   "id": "existing-recorder",
   "metadata": {},
   "outputs": [],
   "source": []
  }
 ],
 "metadata": {
  "kernelspec": {
   "display_name": "Django Shell-Plus",
   "language": "python",
   "name": "django_extensions"
  },
  "language_info": {
   "codemirror_mode": {
    "name": "ipython",
    "version": 3
   },
   "file_extension": ".py",
   "mimetype": "text/x-python",
   "name": "python",
   "nbconvert_exporter": "python",
   "pygments_lexer": "ipython3",
   "version": "3.9.1"
  }
 },
 "nbformat": 4,
 "nbformat_minor": 5
}
