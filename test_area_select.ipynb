{
 "cells": [
  {
   "cell_type": "markdown",
   "id": "collect-interim",
   "metadata": {},
   "source": [
    "## Getting data by area and fitting Random forest model"
   ]
  },
  {
   "cell_type": "markdown",
   "id": "regulation-pocket",
   "metadata": {},
   "source": [
    "The present notebook:\n",
    "\n",
    "   - loads the data provided by the user selected by area.\n",
    "   - merges it with E.coli data\n",
    "   - trains a Random Forest model after grid search of hyperparameters\n",
    "   - Visualizes results in interactive plotly image"
   ]
  },
  {
   "cell_type": "code",
   "execution_count": 407,
   "id": "spatial-forest",
   "metadata": {},
   "outputs": [],
   "source": [
    "from ews.models import BathingSpot\n",
    "from django_pandas.io import read_frame\n",
    "import pandas as pd\n",
    "import numpy as np\n",
    "import json\n",
    "from sklearn.model_selection import train_test_split\n",
    "from sklearn.ensemble import RandomForestRegressor\n",
    "from sklearn.metrics import mean_squared_error\n",
    "from shapely.geometry import shape, Point\n",
    "import plotly.express as px\n",
    "import statsmodels\n"
   ]
  },
  {
   "cell_type": "code",
   "execution_count": 408,
   "id": "eastern-swiss",
   "metadata": {},
   "outputs": [],
   "source": [
    "model = PredictionModel.objects.get(name = \"24-features-RF-model\")"
   ]
  },
  {
   "cell_type": "code",
   "execution_count": 409,
   "id": "killing-recommendation",
   "metadata": {},
   "outputs": [
    {
     "data": {
      "text/plain": [
       "<QuerySet [<PredictionModel: 24-features-RF-model>]>"
      ]
     },
     "execution_count": 409,
     "metadata": {},
     "output_type": "execute_result"
    }
   ],
   "source": [
    "PredictionModel.objects.all()"
   ]
  },
  {
   "cell_type": "code",
   "execution_count": 410,
   "id": "gorgeous-digest",
   "metadata": {},
   "outputs": [
    {
     "data": {
      "text/plain": [
       "<QuerySet [<PredictionModel: 24-features-RF-model>]>"
      ]
     },
     "execution_count": 410,
     "metadata": {},
     "output_type": "execute_result"
    }
   ],
   "source": [
    "PredictionModel.objects.all()"
   ]
  },
  {
   "cell_type": "code",
   "execution_count": 411,
   "id": "upper-innocent",
   "metadata": {},
   "outputs": [],
   "source": [
    "areas = read_frame(model.area.all())"
   ]
  },
  {
   "cell_type": "code",
   "execution_count": 412,
   "id": "after-disposition",
   "metadata": {},
   "outputs": [
    {
     "data": {
      "text/html": [
       "<div>\n",
       "<style scoped>\n",
       "    .dataframe tbody tr th:only-of-type {\n",
       "        vertical-align: middle;\n",
       "    }\n",
       "\n",
       "    .dataframe tbody tr th {\n",
       "        vertical-align: top;\n",
       "    }\n",
       "\n",
       "    .dataframe thead th {\n",
       "        text-align: right;\n",
       "    }\n",
       "</style>\n",
       "<table border=\"1\" class=\"dataframe\">\n",
       "  <thead>\n",
       "    <tr style=\"text-align: right;\">\n",
       "      <th></th>\n",
       "      <th>id</th>\n",
       "      <th>name</th>\n",
       "      <th>geom</th>\n",
       "      <th>feature_type</th>\n",
       "    </tr>\n",
       "  </thead>\n",
       "  <tbody>\n",
       "    <tr>\n",
       "      <th>0</th>\n",
       "      <td>21</td>\n",
       "      <td>Rain I</td>\n",
       "      <td>{'type': 'Polygon', 'coordinates': [[[2.305902...</td>\n",
       "      <td>Rainfall</td>\n",
       "    </tr>\n",
       "    <tr>\n",
       "      <th>1</th>\n",
       "      <td>22</td>\n",
       "      <td>Rain II</td>\n",
       "      <td>{'type': 'Polygon', 'coordinates': [[[2.28048,...</td>\n",
       "      <td>Rainfall</td>\n",
       "    </tr>\n",
       "    <tr>\n",
       "      <th>2</th>\n",
       "      <td>23</td>\n",
       "      <td>Rain III</td>\n",
       "      <td>{'type': 'Polygon', 'coordinates': [[[2.338194...</td>\n",
       "      <td>Rainfall</td>\n",
       "    </tr>\n",
       "    <tr>\n",
       "      <th>3</th>\n",
       "      <td>24</td>\n",
       "      <td>Rain IV</td>\n",
       "      <td>{'type': 'Polygon', 'coordinates': [[[2.386288...</td>\n",
       "      <td>Rainfall</td>\n",
       "    </tr>\n",
       "    <tr>\n",
       "      <th>4</th>\n",
       "      <td>25</td>\n",
       "      <td>Rain V</td>\n",
       "      <td>{'type': 'Polygon', 'coordinates': [[[2.431634...</td>\n",
       "      <td>Rainfall</td>\n",
       "    </tr>\n",
       "    <tr>\n",
       "      <th>5</th>\n",
       "      <td>26</td>\n",
       "      <td>WWTP Marne</td>\n",
       "      <td>{'type': 'Polygon', 'coordinates': [[[2.490764...</td>\n",
       "      <td>WWTP</td>\n",
       "    </tr>\n",
       "    <tr>\n",
       "      <th>6</th>\n",
       "      <td>27</td>\n",
       "      <td>WWTP Seine</td>\n",
       "      <td>{'type': 'Polygon', 'coordinates': [[[2.389723...</td>\n",
       "      <td>WWTP</td>\n",
       "    </tr>\n",
       "    <tr>\n",
       "      <th>7</th>\n",
       "      <td>28</td>\n",
       "      <td>Flow center</td>\n",
       "      <td>{'type': 'Polygon', 'coordinates': [[[2.339568...</td>\n",
       "      <td>Riverflow</td>\n",
       "    </tr>\n",
       "    <tr>\n",
       "      <th>8</th>\n",
       "      <td>29</td>\n",
       "      <td>Flow Marne</td>\n",
       "      <td>{'type': 'Polygon', 'coordinates': [[[2.450096...</td>\n",
       "      <td>Riverflow</td>\n",
       "    </tr>\n",
       "    <tr>\n",
       "      <th>9</th>\n",
       "      <td>30</td>\n",
       "      <td>Flow Seine</td>\n",
       "      <td>{'type': 'Polygon', 'coordinates': [[[2.381478...</td>\n",
       "      <td>Riverflow</td>\n",
       "    </tr>\n",
       "    <tr>\n",
       "      <th>10</th>\n",
       "      <td>31</td>\n",
       "      <td>Network center</td>\n",
       "      <td>{'type': 'Polygon', 'coordinates': [[[2.308569...</td>\n",
       "      <td>Network</td>\n",
       "    </tr>\n",
       "    <tr>\n",
       "      <th>11</th>\n",
       "      <td>32</td>\n",
       "      <td>Network Marne</td>\n",
       "      <td>{'type': 'Polygon', 'coordinates': [[[2.424089...</td>\n",
       "      <td>Network</td>\n",
       "    </tr>\n",
       "    <tr>\n",
       "      <th>12</th>\n",
       "      <td>33</td>\n",
       "      <td>Network Seine</td>\n",
       "      <td>{'type': 'Polygon', 'coordinates': [[[2.366363...</td>\n",
       "      <td>Network</td>\n",
       "    </tr>\n",
       "  </tbody>\n",
       "</table>\n",
       "</div>"
      ],
      "text/plain": [
       "    id            name                                               geom  \\\n",
       "0   21          Rain I  {'type': 'Polygon', 'coordinates': [[[2.305902...   \n",
       "1   22         Rain II  {'type': 'Polygon', 'coordinates': [[[2.28048,...   \n",
       "2   23        Rain III  {'type': 'Polygon', 'coordinates': [[[2.338194...   \n",
       "3   24         Rain IV  {'type': 'Polygon', 'coordinates': [[[2.386288...   \n",
       "4   25          Rain V  {'type': 'Polygon', 'coordinates': [[[2.431634...   \n",
       "5   26      WWTP Marne  {'type': 'Polygon', 'coordinates': [[[2.490764...   \n",
       "6   27      WWTP Seine  {'type': 'Polygon', 'coordinates': [[[2.389723...   \n",
       "7   28     Flow center  {'type': 'Polygon', 'coordinates': [[[2.339568...   \n",
       "8   29      Flow Marne  {'type': 'Polygon', 'coordinates': [[[2.450096...   \n",
       "9   30      Flow Seine  {'type': 'Polygon', 'coordinates': [[[2.381478...   \n",
       "10  31  Network center  {'type': 'Polygon', 'coordinates': [[[2.308569...   \n",
       "11  32   Network Marne  {'type': 'Polygon', 'coordinates': [[[2.424089...   \n",
       "12  33   Network Seine  {'type': 'Polygon', 'coordinates': [[[2.366363...   \n",
       "\n",
       "   feature_type  \n",
       "0      Rainfall  \n",
       "1      Rainfall  \n",
       "2      Rainfall  \n",
       "3      Rainfall  \n",
       "4      Rainfall  \n",
       "5          WWTP  \n",
       "6          WWTP  \n",
       "7     Riverflow  \n",
       "8     Riverflow  \n",
       "9     Riverflow  \n",
       "10      Network  \n",
       "11      Network  \n",
       "12      Network  "
      ]
     },
     "execution_count": 412,
     "metadata": {},
     "output_type": "execute_result"
    }
   ],
   "source": [
    "areas"
   ]
  },
  {
   "cell_type": "code",
   "execution_count": 413,
   "id": "solid-embassy",
   "metadata": {},
   "outputs": [],
   "source": [
    "areavars = []\n",
    "for index1, row1 in areas.iterrows():\n",
    "    df = read_frame(Site.objects.filter(feature_type = FeatureType.objects.get(name=row1[\"feature_type\"])))\n",
    "    polygon = shape(row1[\"geom\"])\n",
    "    select = []\n",
    "    \n",
    "    for index2, row2 in df.iterrows():\n",
    "        select.append(polygon.contains(shape(row2['geom'])))\n",
    "    data = read_frame(FeatureData.objects.filter(site__in = df[select]['id']), index_col = \"date\")\n",
    "    data[\"area\"] = row1[\"name\"]\n",
    "    data[\"feature_type\"] = row1[\"feature_type\"]\n",
    "    areavars.append(data)"
   ]
  },
  {
   "cell_type": "code",
   "execution_count": 414,
   "id": "golden-adoption",
   "metadata": {},
   "outputs": [
    {
     "data": {
      "text/plain": [
       "[                               id  value    site variable    area feature_type\n",
       " date                                                                          \n",
       " 2016-01-01 00:00:00+00:00  289486  0.240  Lhay35     None  Rain I     Rainfall\n",
       " 2016-01-02 00:00:00+00:00  289487  0.240  Lhay35     None  Rain I     Rainfall\n",
       " 2016-01-03 00:00:00+00:00  289488  1.880  Lhay35     None  Rain I     Rainfall\n",
       " 2016-01-04 00:00:00+00:00  289489  0.040  Lhay35     None  Rain I     Rainfall\n",
       " 2016-01-05 00:00:00+00:00  289490  0.240  Lhay35     None  Rain I     Rainfall\n",
       " ...                           ...    ...     ...      ...     ...          ...\n",
       " 2019-12-27 00:00:00+00:00  299708  0.840  Vitr02     None  Rain I     Rainfall\n",
       " 2019-12-28 00:00:00+00:00  299709  0.000  Vitr02     None  Rain I     Rainfall\n",
       " 2019-12-29 00:00:00+00:00  299710  0.040  Vitr02     None  Rain I     Rainfall\n",
       " 2019-12-30 00:00:00+00:00  299711  0.000  Vitr02     None  Rain I     Rainfall\n",
       " 2019-12-31 00:00:00+00:00  299712  0.040  Vitr02     None  Rain I     Rainfall\n",
       " \n",
       " [2922 rows x 6 columns],\n",
       "                                id  value  site variable     area feature_type\n",
       " date                                                                         \n",
       " 2017-05-01 00:00:00+00:00  270666  0.400  Pl04     None  Rain II     Rainfall\n",
       " 2017-05-02 00:00:00+00:00  270667  0.000  Pl04     None  Rain II     Rainfall\n",
       " 2017-05-03 00:00:00+00:00  270668  9.600  Pl04     None  Rain II     Rainfall\n",
       " 2017-05-04 00:00:00+00:00  270669  3.200  Pl04     None  Rain II     Rainfall\n",
       " 2017-05-05 00:00:00+00:00  270670  0.000  Pl04     None  Rain II     Rainfall\n",
       " ...                           ...    ...   ...      ...      ...          ...\n",
       " 2019-10-27 00:00:00+00:00  280715  0.000  Pl16     None  Rain II     Rainfall\n",
       " 2019-10-28 00:00:00+00:00  280716  0.000  Pl16     None  Rain II     Rainfall\n",
       " 2019-10-29 00:00:00+00:00  280717  0.000  Pl16     None  Rain II     Rainfall\n",
       " 2019-10-30 00:00:00+00:00  280718  0.000  Pl16     None  Rain II     Rainfall\n",
       " 2019-10-31 00:00:00+00:00  280719  0.000  Pl16     None  Rain II     Rainfall\n",
       " \n",
       " [3656 rows x 6 columns],\n",
       "                                id  value  site variable      area feature_type\n",
       " date                                                                          \n",
       " 2017-05-01 00:00:00+00:00  277064  0.000  Pl12     None  Rain III     Rainfall\n",
       " 2017-05-02 00:00:00+00:00  277065  0.000  Pl12     None  Rain III     Rainfall\n",
       " 2017-05-03 00:00:00+00:00  277066  0.000  Pl12     None  Rain III     Rainfall\n",
       " 2017-05-04 00:00:00+00:00  277067  0.000  Pl12     None  Rain III     Rainfall\n",
       " 2017-05-05 00:00:00+00:00  277068  0.000  Pl12     None  Rain III     Rainfall\n",
       " ...                           ...    ...   ...      ...       ...          ...\n",
       " 2019-10-27 00:00:00+00:00  270661  0.000  Pl03     None  Rain III     Rainfall\n",
       " 2019-10-28 00:00:00+00:00  270662  0.000  Pl03     None  Rain III     Rainfall\n",
       " 2019-10-29 00:00:00+00:00  270663  0.000  Pl03     None  Rain III     Rainfall\n",
       " 2019-10-30 00:00:00+00:00  270664  0.000  Pl03     None  Rain III     Rainfall\n",
       " 2019-10-31 00:00:00+00:00  270665  0.000  Pl03     None  Rain III     Rainfall\n",
       " \n",
       " [5484 rows x 6 columns],\n",
       "                                id  value    site variable     area  \\\n",
       " date                                                                 \n",
       " 2016-01-01 00:00:00+00:00  285103  0.240  Font05     None  Rain IV   \n",
       " 2016-01-02 00:00:00+00:00  285104  0.320  Font05     None  Rain IV   \n",
       " 2016-01-03 00:00:00+00:00  285105  0.720  Font05     None  Rain IV   \n",
       " 2016-01-04 00:00:00+00:00  285106  0.000  Font05     None  Rain IV   \n",
       " 2016-01-05 00:00:00+00:00  285107  0.240  Font05     None  Rain IV   \n",
       " ...                           ...    ...     ...      ...      ...   \n",
       " 2019-10-27 00:00:00+00:00  270661  0.000    Pl03     None  Rain IV   \n",
       " 2019-10-28 00:00:00+00:00  270662  0.000    Pl03     None  Rain IV   \n",
       " 2019-10-29 00:00:00+00:00  270663  0.000    Pl03     None  Rain IV   \n",
       " 2019-10-30 00:00:00+00:00  270664  0.000    Pl03     None  Rain IV   \n",
       " 2019-10-31 00:00:00+00:00  270665  0.000    Pl03     None  Rain IV   \n",
       " \n",
       "                           feature_type  \n",
       " date                                    \n",
       " 2016-01-01 00:00:00+00:00     Rainfall  \n",
       " 2016-01-02 00:00:00+00:00     Rainfall  \n",
       " 2016-01-03 00:00:00+00:00     Rainfall  \n",
       " 2016-01-04 00:00:00+00:00     Rainfall  \n",
       " 2016-01-05 00:00:00+00:00     Rainfall  \n",
       " ...                                ...  \n",
       " 2019-10-27 00:00:00+00:00     Rainfall  \n",
       " 2019-10-28 00:00:00+00:00     Rainfall  \n",
       " 2019-10-29 00:00:00+00:00     Rainfall  \n",
       " 2019-10-30 00:00:00+00:00     Rainfall  \n",
       " 2019-10-31 00:00:00+00:00     Rainfall  \n",
       " \n",
       " [4203 rows x 6 columns],\n",
       "                                id  value    site variable    area feature_type\n",
       " date                                                                          \n",
       " 2016-01-01 00:00:00+00:00  290947  0.280  Mais32     None  Rain V     Rainfall\n",
       " 2016-01-02 00:00:00+00:00  290948  0.240  Mais32     None  Rain V     Rainfall\n",
       " 2016-01-03 00:00:00+00:00  290949  2.120  Mais32     None  Rain V     Rainfall\n",
       " 2016-01-04 00:00:00+00:00  290950  0.040  Mais32     None  Rain V     Rainfall\n",
       " 2016-01-05 00:00:00+00:00  290951  0.240  Mais32     None  Rain V     Rainfall\n",
       " ...                           ...    ...     ...      ...     ...          ...\n",
       " 2019-12-27 00:00:00+00:00  282176  0.800  Bonn38     None  Rain V     Rainfall\n",
       " 2019-12-28 00:00:00+00:00  282177  0.000  Bonn38     None  Rain V     Rainfall\n",
       " 2019-12-29 00:00:00+00:00  282178  0.040  Bonn38     None  Rain V     Rainfall\n",
       " 2019-12-30 00:00:00+00:00  282179  0.040  Bonn38     None  Rain V     Rainfall\n",
       " 2019-12-31 00:00:00+00:00  282180  0.040  Bonn38     None  Rain V     Rainfall\n",
       " \n",
       " [5844 rows x 6 columns],\n",
       "                                id       value             site variable  \\\n",
       " date                                                                      \n",
       " 2016-05-01 00:00:00+00:00  203736   38340.000  Marne aval wwtp     None   \n",
       " 2017-05-01 00:00:00+00:00  203764   39060.000  Marne aval wwtp     None   \n",
       " 2018-05-01 00:00:00+00:00  203819   76480.000  Marne aval wwtp     None   \n",
       " 2019-05-01 00:00:00+00:00  203883   29930.000  Marne aval wwtp     None   \n",
       " 2016-06-01 00:00:00+00:00  203915  110040.000  Marne aval wwtp     None   \n",
       " ...                           ...         ...              ...      ...   \n",
       " 2019-08-31 00:00:00+00:00  252805   38760.000  Marne aval wwtp     None   \n",
       " 2016-10-31 00:00:00+00:00  252865   48530.000  Marne aval wwtp     None   \n",
       " 2017-10-31 00:00:00+00:00  252894   27590.000  Marne aval wwtp     None   \n",
       " 2018-10-31 00:00:00+00:00  252947   45190.000  Marne aval wwtp     None   \n",
       " 2019-10-31 00:00:00+00:00  253010   44410.000  Marne aval wwtp     None   \n",
       " \n",
       "                                  area feature_type  \n",
       " date                                                \n",
       " 2016-05-01 00:00:00+00:00  WWTP Marne         WWTP  \n",
       " 2017-05-01 00:00:00+00:00  WWTP Marne         WWTP  \n",
       " 2018-05-01 00:00:00+00:00  WWTP Marne         WWTP  \n",
       " 2019-05-01 00:00:00+00:00  WWTP Marne         WWTP  \n",
       " 2016-06-01 00:00:00+00:00  WWTP Marne         WWTP  \n",
       " ...                               ...          ...  \n",
       " 2019-08-31 00:00:00+00:00  WWTP Marne         WWTP  \n",
       " 2016-10-31 00:00:00+00:00  WWTP Marne         WWTP  \n",
       " 2017-10-31 00:00:00+00:00  WWTP Marne         WWTP  \n",
       " 2018-10-31 00:00:00+00:00  WWTP Marne         WWTP  \n",
       " 2019-10-31 00:00:00+00:00  WWTP Marne         WWTP  \n",
       " \n",
       " [736 rows x 6 columns],\n",
       "                                id      value                 site variable  \\\n",
       " date                                                                         \n",
       " 2016-05-01 00:00:00+00:00  203741  13311.770  Seine valenton wwtp     None   \n",
       " 2017-05-01 00:00:00+00:00  203773  24830.945  Seine valenton wwtp     None   \n",
       " 2018-05-01 00:00:00+00:00  203835  25388.495  Seine valenton wwtp     None   \n",
       " 2019-05-01 00:00:00+00:00  203898  16039.896  Seine valenton wwtp     None   \n",
       " 2016-06-01 00:00:00+00:00  203920   4902.966  Seine valenton wwtp     None   \n",
       " ...                           ...        ...                  ...      ...   \n",
       " 2018-08-31 00:00:00+00:00  252728  17191.771  Seine valenton wwtp     None   \n",
       " 2019-08-31 00:00:00+00:00  252834  11216.021  Seine valenton wwtp     None   \n",
       " 2016-10-31 00:00:00+00:00  252870  14740.417  Seine valenton wwtp     None   \n",
       " 2018-10-31 00:00:00+00:00  252963  17758.057  Seine valenton wwtp     None   \n",
       " 2019-10-31 00:00:00+00:00  253026  10904.062  Seine valenton wwtp     None   \n",
       " \n",
       "                                  area feature_type  \n",
       " date                                                \n",
       " 2016-05-01 00:00:00+00:00  WWTP Seine         WWTP  \n",
       " 2017-05-01 00:00:00+00:00  WWTP Seine         WWTP  \n",
       " 2018-05-01 00:00:00+00:00  WWTP Seine         WWTP  \n",
       " 2019-05-01 00:00:00+00:00  WWTP Seine         WWTP  \n",
       " 2016-06-01 00:00:00+00:00  WWTP Seine         WWTP  \n",
       " ...                               ...          ...  \n",
       " 2018-08-31 00:00:00+00:00  WWTP Seine         WWTP  \n",
       " 2019-08-31 00:00:00+00:00  WWTP Seine         WWTP  \n",
       " 2016-10-31 00:00:00+00:00  WWTP Seine         WWTP  \n",
       " 2018-10-31 00:00:00+00:00  WWTP Seine         WWTP  \n",
       " 2019-10-31 00:00:00+00:00  WWTP Seine         WWTP  \n",
       " \n",
       " [561 rows x 6 columns],\n",
       "                                id    value        site variable         area  \\\n",
       " date                                                                           \n",
       " 2014-01-01 00:00:00+00:00  265484  594.580  Austerlitz     None  Flow center   \n",
       " 2014-01-02 00:00:00+00:00  265485  558.460  Austerlitz     None  Flow center   \n",
       " 2014-01-03 00:00:00+00:00  265486  576.500  Austerlitz     None  Flow center   \n",
       " 2014-01-04 00:00:00+00:00  265487  618.830  Austerlitz     None  Flow center   \n",
       " 2014-01-05 00:00:00+00:00  265488  598.830  Austerlitz     None  Flow center   \n",
       " ...                           ...      ...         ...      ...          ...   \n",
       " 2020-09-10 00:00:00+00:00  267919  106.830  Austerlitz     None  Flow center   \n",
       " 2020-09-11 00:00:00+00:00  267920  108.960  Austerlitz     None  Flow center   \n",
       " 2020-09-12 00:00:00+00:00  267921  104.460  Austerlitz     None  Flow center   \n",
       " 2020-09-13 00:00:00+00:00  267922  106.880  Austerlitz     None  Flow center   \n",
       " 2020-09-14 00:00:00+00:00  267923  101.910  Austerlitz     None  Flow center   \n",
       " \n",
       "                           feature_type  \n",
       " date                                    \n",
       " 2014-01-01 00:00:00+00:00    Riverflow  \n",
       " 2014-01-02 00:00:00+00:00    Riverflow  \n",
       " 2014-01-03 00:00:00+00:00    Riverflow  \n",
       " 2014-01-04 00:00:00+00:00    Riverflow  \n",
       " 2014-01-05 00:00:00+00:00    Riverflow  \n",
       " ...                                ...  \n",
       " 2020-09-10 00:00:00+00:00    Riverflow  \n",
       " 2020-09-11 00:00:00+00:00    Riverflow  \n",
       " 2020-09-12 00:00:00+00:00    Riverflow  \n",
       " 2020-09-13 00:00:00+00:00    Riverflow  \n",
       " 2020-09-14 00:00:00+00:00    Riverflow  \n",
       " \n",
       " [2440 rows x 6 columns],\n",
       "                                id    value     site variable        area  \\\n",
       " date                                                                       \n",
       " 2016-01-01 00:00:00+00:00  254490   89.140  Creteil     None  Flow Marne   \n",
       " 2016-01-02 00:00:00+00:00  254491   89.120  Creteil     None  Flow Marne   \n",
       " 2016-01-03 00:00:00+00:00  254492   99.600  Creteil     None  Flow Marne   \n",
       " 2016-01-04 00:00:00+00:00  254493  114.500  Creteil     None  Flow Marne   \n",
       " 2016-01-05 00:00:00+00:00  254494  121.580  Creteil     None  Flow Marne   \n",
       " ...                           ...      ...      ...      ...         ...   \n",
       " 2019-12-27 00:00:00+00:00  255946  571.170  Creteil     None  Flow Marne   \n",
       " 2019-12-28 00:00:00+00:00  255947  577.620  Creteil     None  Flow Marne   \n",
       " 2019-12-29 00:00:00+00:00  255948  607.540  Creteil     None  Flow Marne   \n",
       " 2019-12-30 00:00:00+00:00  255949  602.580  Creteil     None  Flow Marne   \n",
       " 2019-12-31 00:00:00+00:00  255950  576.580  Creteil     None  Flow Marne   \n",
       " \n",
       "                           feature_type  \n",
       " date                                    \n",
       " 2016-01-01 00:00:00+00:00    Riverflow  \n",
       " 2016-01-02 00:00:00+00:00    Riverflow  \n",
       " 2016-01-03 00:00:00+00:00    Riverflow  \n",
       " 2016-01-04 00:00:00+00:00    Riverflow  \n",
       " 2016-01-05 00:00:00+00:00    Riverflow  \n",
       " ...                                ...  \n",
       " 2019-12-27 00:00:00+00:00    Riverflow  \n",
       " 2019-12-28 00:00:00+00:00    Riverflow  \n",
       " 2019-12-29 00:00:00+00:00    Riverflow  \n",
       " 2019-12-30 00:00:00+00:00    Riverflow  \n",
       " 2019-12-31 00:00:00+00:00    Riverflow  \n",
       " \n",
       " [1461 rows x 6 columns],\n",
       "                                id    value         site variable        area  \\\n",
       " date                                                                           \n",
       " 2016-01-01 00:00:00+00:00  253029   89.140  Alfortville     None  Flow Seine   \n",
       " 2016-01-02 00:00:00+00:00  253030   89.120  Alfortville     None  Flow Seine   \n",
       " 2016-01-03 00:00:00+00:00  253031   99.600  Alfortville     None  Flow Seine   \n",
       " 2016-01-04 00:00:00+00:00  253032  114.500  Alfortville     None  Flow Seine   \n",
       " 2016-01-05 00:00:00+00:00  253033  121.580  Alfortville     None  Flow Seine   \n",
       " ...                           ...      ...          ...      ...         ...   \n",
       " 2019-12-27 00:00:00+00:00  254485  571.170  Alfortville     None  Flow Seine   \n",
       " 2019-12-28 00:00:00+00:00  254486  577.620  Alfortville     None  Flow Seine   \n",
       " 2019-12-29 00:00:00+00:00  254487  607.540  Alfortville     None  Flow Seine   \n",
       " 2019-12-30 00:00:00+00:00  254488  602.580  Alfortville     None  Flow Seine   \n",
       " 2019-12-31 00:00:00+00:00  254489  576.580  Alfortville     None  Flow Seine   \n",
       " \n",
       "                           feature_type  \n",
       " date                                    \n",
       " 2016-01-01 00:00:00+00:00    Riverflow  \n",
       " 2016-01-02 00:00:00+00:00    Riverflow  \n",
       " 2016-01-03 00:00:00+00:00    Riverflow  \n",
       " 2016-01-04 00:00:00+00:00    Riverflow  \n",
       " 2016-01-05 00:00:00+00:00    Riverflow  \n",
       " ...                                ...  \n",
       " 2019-12-27 00:00:00+00:00    Riverflow  \n",
       " 2019-12-28 00:00:00+00:00    Riverflow  \n",
       " 2019-12-29 00:00:00+00:00    Riverflow  \n",
       " 2019-12-30 00:00:00+00:00    Riverflow  \n",
       " 2019-12-31 00:00:00+00:00    Riverflow  \n",
       " \n",
       " [1461 rows x 6 columns],\n",
       "                                id  value                site variable  \\\n",
       " date                                                                    \n",
       " 2018-05-01 00:00:00+00:00  203818  0.000             Mandela     None   \n",
       " 2019-05-01 00:00:00+00:00  203881  0.000             Mandela     None   \n",
       " 2018-06-01 00:00:00+00:00  204053  0.001             Mandela     None   \n",
       " 2019-06-01 00:00:00+00:00  204159  0.000             Mandela     None   \n",
       " 2018-07-01 00:00:00+00:00  204359  0.000             Mandela     None   \n",
       " ...                           ...    ...                 ...      ...   \n",
       " 2018-07-31 00:00:00+00:00  252429  0.000  Usine de crue watt     None   \n",
       " 2019-07-31 00:00:00+00:00  252536  0.000  Usine de crue watt     None   \n",
       " 2017-08-31 00:00:00+00:00  252630  0.000  Usine de crue watt     None   \n",
       " 2018-08-31 00:00:00+00:00  252736  0.000  Usine de crue watt     None   \n",
       " 2019-08-31 00:00:00+00:00  252842  0.000  Usine de crue watt     None   \n",
       " \n",
       "                                      area feature_type  \n",
       " date                                                    \n",
       " 2018-05-01 00:00:00+00:00  Network center      Network  \n",
       " 2019-05-01 00:00:00+00:00  Network center      Network  \n",
       " 2018-06-01 00:00:00+00:00  Network center      Network  \n",
       " 2019-06-01 00:00:00+00:00  Network center      Network  \n",
       " 2018-07-01 00:00:00+00:00  Network center      Network  \n",
       " ...                                   ...          ...  \n",
       " 2018-07-31 00:00:00+00:00  Network center      Network  \n",
       " 2019-07-31 00:00:00+00:00  Network center      Network  \n",
       " 2017-08-31 00:00:00+00:00  Network center      Network  \n",
       " 2018-08-31 00:00:00+00:00  Network center      Network  \n",
       " 2019-08-31 00:00:00+00:00  Network center      Network  \n",
       " \n",
       " [9490 rows x 6 columns],\n",
       "                                id  value           site variable  \\\n",
       " date                                                               \n",
       " 2015-05-01 00:00:00+00:00  203724  0.176  Saint baudile     None   \n",
       " 2016-05-01 00:00:00+00:00  203740  0.039  Saint baudile     None   \n",
       " 2017-05-01 00:00:00+00:00  203772  0.005  Saint baudile     None   \n",
       " 2018-05-01 00:00:00+00:00  203834  0.021  Saint baudile     None   \n",
       " 2019-05-01 00:00:00+00:00  203897  0.000  Saint baudile     None   \n",
       " ...                           ...    ...            ...      ...   \n",
       " 2019-07-31 00:00:00+00:00  252446  0.000      Barrières     None   \n",
       " 2018-08-31 00:00:00+00:00  252647  0.000      Barrières     None   \n",
       " 2019-08-31 00:00:00+00:00  252753  0.000      Barrières     None   \n",
       " 2018-10-31 00:00:00+00:00  252913  0.000      Barrières     None   \n",
       " 2019-10-31 00:00:00+00:00  252974  0.000      Barrières     None   \n",
       " \n",
       "                                     area feature_type  \n",
       " date                                                   \n",
       " 2015-05-01 00:00:00+00:00  Network Marne      Network  \n",
       " 2016-05-01 00:00:00+00:00  Network Marne      Network  \n",
       " 2017-05-01 00:00:00+00:00  Network Marne      Network  \n",
       " 2018-05-01 00:00:00+00:00  Network Marne      Network  \n",
       " 2019-05-01 00:00:00+00:00  Network Marne      Network  \n",
       " ...                                  ...          ...  \n",
       " 2019-07-31 00:00:00+00:00  Network Marne      Network  \n",
       " 2018-08-31 00:00:00+00:00  Network Marne      Network  \n",
       " 2019-08-31 00:00:00+00:00  Network Marne      Network  \n",
       " 2018-10-31 00:00:00+00:00  Network Marne      Network  \n",
       " 2019-10-31 00:00:00+00:00  Network Marne      Network  \n",
       " \n",
       " [12074 rows x 6 columns],\n",
       "                                id  value            site variable  \\\n",
       " date                                                                \n",
       " 2018-05-01 00:00:00+00:00  203807  1.359  Fresnes choisy     None   \n",
       " 2016-06-01 00:00:00+00:00  203912  6.333  Fresnes choisy     None   \n",
       " 2018-06-01 00:00:00+00:00  204040  0.884  Fresnes choisy     None   \n",
       " 2018-07-01 00:00:00+00:00  204346  0.343  Fresnes choisy     None   \n",
       " 2018-08-01 00:00:00+00:00  204654  0.168  Fresnes choisy     None   \n",
       " ...                           ...    ...             ...      ...   \n",
       " 2019-07-31 00:00:00+00:00  252436  0.000    25 août 1944     None   \n",
       " 2018-08-31 00:00:00+00:00  252637  0.000    25 août 1944     None   \n",
       " 2019-08-31 00:00:00+00:00  252743  0.000    25 août 1944     None   \n",
       " 2018-10-31 00:00:00+00:00  252906  0.000    25 août 1944     None   \n",
       " 2019-10-31 00:00:00+00:00  252967  0.000    25 août 1944     None   \n",
       " \n",
       "                                     area feature_type  \n",
       " date                                                   \n",
       " 2018-05-01 00:00:00+00:00  Network Seine      Network  \n",
       " 2016-06-01 00:00:00+00:00  Network Seine      Network  \n",
       " 2018-06-01 00:00:00+00:00  Network Seine      Network  \n",
       " 2018-07-01 00:00:00+00:00  Network Seine      Network  \n",
       " 2018-08-01 00:00:00+00:00  Network Seine      Network  \n",
       " ...                                  ...          ...  \n",
       " 2019-07-31 00:00:00+00:00  Network Seine      Network  \n",
       " 2018-08-31 00:00:00+00:00  Network Seine      Network  \n",
       " 2019-08-31 00:00:00+00:00  Network Seine      Network  \n",
       " 2018-10-31 00:00:00+00:00  Network Seine      Network  \n",
       " 2019-10-31 00:00:00+00:00  Network Seine      Network  \n",
       " \n",
       " [8922 rows x 6 columns]]"
      ]
     },
     "execution_count": 414,
     "metadata": {},
     "output_type": "execute_result"
    }
   ],
   "source": [
    "areavars"
   ]
  },
  {
   "cell_type": "code",
   "execution_count": 417,
   "id": "obvious-rocket",
   "metadata": {},
   "outputs": [],
   "source": [
    "lagvars = []\n",
    "\n",
    "for i in range(len(areavars)):\n",
    "    ft = areavars[i].area.unique()+ \" \" +areavars[i].feature_type.unique()\n",
    "    d = areavars[i].pivot(columns = 'site', values = 'value')\n",
    "    if len(d.columns) > 1:\n",
    "        d = pd.DataFrame(d.mean(axis = 1, skipna = True))\n",
    "    for j in [1, 2, 3, 4, 5]:\n",
    "        df = pd.DataFrame()\n",
    "        df[ft + '_shift_'+ str(j)] = d.rolling(window=j).mean().shift(1)\n",
    "        lagvars.append(df)\n",
    "        \n",
    "res = pd.concat(lagvars, axis = 1)"
   ]
  },
  {
   "cell_type": "code",
   "execution_count": 418,
   "id": "corporate-arabic",
   "metadata": {},
   "outputs": [
    {
     "data": {
      "text/plain": [
       "<AxesSubplot:xlabel='date'>"
      ]
     },
     "execution_count": 418,
     "metadata": {},
     "output_type": "execute_result"
    },
    {
     "data": {
      "image/png": "[encoded data removed]",
      "text/plain": [
       "<Figure size 432x288 with 1 Axes>"
      ]
     },
     "metadata": {
      "needs_background": "light"
     },
     "output_type": "display_data"
    }
   ],
   "source": [
    "res.filter(regex='_shift_1').plot()"
   ]
  },
  {
   "cell_type": "code",
   "execution_count": 419,
   "id": "democratic-bread",
   "metadata": {},
   "outputs": [
    {
     "data": {
      "text/html": [
       "<div>\n",
       "<style scoped>\n",
       "    .dataframe tbody tr th:only-of-type {\n",
       "        vertical-align: middle;\n",
       "    }\n",
       "\n",
       "    .dataframe tbody tr th {\n",
       "        vertical-align: top;\n",
       "    }\n",
       "\n",
       "    .dataframe thead th {\n",
       "        text-align: right;\n",
       "    }\n",
       "</style>\n",
       "<table border=\"1\" class=\"dataframe\">\n",
       "  <thead>\n",
       "    <tr style=\"text-align: right;\">\n",
       "      <th></th>\n",
       "      <th>Rain I Rainfall_shift_1</th>\n",
       "      <th>Rain I Rainfall_shift_2</th>\n",
       "      <th>Rain I Rainfall_shift_3</th>\n",
       "      <th>Rain I Rainfall_shift_4</th>\n",
       "      <th>Rain I Rainfall_shift_5</th>\n",
       "      <th>Rain II Rainfall_shift_1</th>\n",
       "      <th>Rain II Rainfall_shift_2</th>\n",
       "      <th>Rain II Rainfall_shift_3</th>\n",
       "      <th>Rain II Rainfall_shift_4</th>\n",
       "      <th>Rain II Rainfall_shift_5</th>\n",
       "      <th>...</th>\n",
       "      <th>Network Marne Network_shift_1</th>\n",
       "      <th>Network Marne Network_shift_2</th>\n",
       "      <th>Network Marne Network_shift_3</th>\n",
       "      <th>Network Marne Network_shift_4</th>\n",
       "      <th>Network Marne Network_shift_5</th>\n",
       "      <th>Network Seine Network_shift_1</th>\n",
       "      <th>Network Seine Network_shift_2</th>\n",
       "      <th>Network Seine Network_shift_3</th>\n",
       "      <th>Network Seine Network_shift_4</th>\n",
       "      <th>Network Seine Network_shift_5</th>\n",
       "    </tr>\n",
       "  </thead>\n",
       "  <tbody>\n",
       "    <tr>\n",
       "      <th>count</th>\n",
       "      <td>1460.000000</td>\n",
       "      <td>1.459000e+03</td>\n",
       "      <td>1.458000e+03</td>\n",
       "      <td>1457.000000</td>\n",
       "      <td>1.456000e+03</td>\n",
       "      <td>913.000000</td>\n",
       "      <td>912.000000</td>\n",
       "      <td>911.000000</td>\n",
       "      <td>910.000000</td>\n",
       "      <td>909.000000</td>\n",
       "      <td>...</td>\n",
       "      <td>919.000000</td>\n",
       "      <td>918.000000</td>\n",
       "      <td>917.000000</td>\n",
       "      <td>916.000000</td>\n",
       "      <td>915.000000</td>\n",
       "      <td>733.000000</td>\n",
       "      <td>732.000000</td>\n",
       "      <td>731.000000</td>\n",
       "      <td>730.000000</td>\n",
       "      <td>729.000000</td>\n",
       "    </tr>\n",
       "    <tr>\n",
       "      <th>mean</th>\n",
       "      <td>0.364123</td>\n",
       "      <td>3.642838e-01</td>\n",
       "      <td>3.644490e-01</td>\n",
       "      <td>0.364314</td>\n",
       "      <td>3.641566e-01</td>\n",
       "      <td>1.120482</td>\n",
       "      <td>1.121628</td>\n",
       "      <td>1.122832</td>\n",
       "      <td>1.121676</td>\n",
       "      <td>1.120770</td>\n",
       "      <td>...</td>\n",
       "      <td>0.014636</td>\n",
       "      <td>0.014576</td>\n",
       "      <td>0.014553</td>\n",
       "      <td>0.014513</td>\n",
       "      <td>0.014479</td>\n",
       "      <td>0.098672</td>\n",
       "      <td>0.098807</td>\n",
       "      <td>0.098942</td>\n",
       "      <td>0.099077</td>\n",
       "      <td>0.099199</td>\n",
       "    </tr>\n",
       "    <tr>\n",
       "      <th>std</th>\n",
       "      <td>1.034241</td>\n",
       "      <td>8.278552e-01</td>\n",
       "      <td>7.183477e-01</td>\n",
       "      <td>0.655465</td>\n",
       "      <td>6.105645e-01</td>\n",
       "      <td>3.202082</td>\n",
       "      <td>2.545854</td>\n",
       "      <td>2.155692</td>\n",
       "      <td>1.921675</td>\n",
       "      <td>1.758323</td>\n",
       "      <td>...</td>\n",
       "      <td>0.046439</td>\n",
       "      <td>0.038191</td>\n",
       "      <td>0.033634</td>\n",
       "      <td>0.030761</td>\n",
       "      <td>0.028648</td>\n",
       "      <td>0.493911</td>\n",
       "      <td>0.450677</td>\n",
       "      <td>0.421201</td>\n",
       "      <td>0.399659</td>\n",
       "      <td>0.380002</td>\n",
       "    </tr>\n",
       "    <tr>\n",
       "      <th>min</th>\n",
       "      <td>0.000000</td>\n",
       "      <td>0.000000e+00</td>\n",
       "      <td>0.000000e+00</td>\n",
       "      <td>0.000000</td>\n",
       "      <td>0.000000e+00</td>\n",
       "      <td>0.000000</td>\n",
       "      <td>0.000000</td>\n",
       "      <td>0.000000</td>\n",
       "      <td>0.000000</td>\n",
       "      <td>0.000000</td>\n",
       "      <td>...</td>\n",
       "      <td>0.000714</td>\n",
       "      <td>0.000727</td>\n",
       "      <td>0.000727</td>\n",
       "      <td>0.000727</td>\n",
       "      <td>0.000727</td>\n",
       "      <td>0.000000</td>\n",
       "      <td>0.000000</td>\n",
       "      <td>0.000000</td>\n",
       "      <td>0.000000</td>\n",
       "      <td>0.000000</td>\n",
       "    </tr>\n",
       "    <tr>\n",
       "      <th>25%</th>\n",
       "      <td>0.000000</td>\n",
       "      <td>0.000000e+00</td>\n",
       "      <td>2.960595e-16</td>\n",
       "      <td>0.000000</td>\n",
       "      <td>5.329071e-16</td>\n",
       "      <td>0.000000</td>\n",
       "      <td>0.000000</td>\n",
       "      <td>0.000000</td>\n",
       "      <td>0.000000</td>\n",
       "      <td>0.020000</td>\n",
       "      <td>...</td>\n",
       "      <td>0.002050</td>\n",
       "      <td>0.002200</td>\n",
       "      <td>0.002233</td>\n",
       "      <td>0.002325</td>\n",
       "      <td>0.002429</td>\n",
       "      <td>0.000000</td>\n",
       "      <td>0.000000</td>\n",
       "      <td>0.000000</td>\n",
       "      <td>0.000000</td>\n",
       "      <td>0.000000</td>\n",
       "    </tr>\n",
       "    <tr>\n",
       "      <th>50%</th>\n",
       "      <td>0.000000</td>\n",
       "      <td>1.387779e-17</td>\n",
       "      <td>2.666667e-02</td>\n",
       "      <td>0.060000</td>\n",
       "      <td>8.200000e-02</td>\n",
       "      <td>0.000000</td>\n",
       "      <td>0.075000</td>\n",
       "      <td>0.200000</td>\n",
       "      <td>0.312500</td>\n",
       "      <td>0.370000</td>\n",
       "      <td>...</td>\n",
       "      <td>0.002650</td>\n",
       "      <td>0.003558</td>\n",
       "      <td>0.004963</td>\n",
       "      <td>0.005200</td>\n",
       "      <td>0.005240</td>\n",
       "      <td>0.000000</td>\n",
       "      <td>0.000000</td>\n",
       "      <td>0.008965</td>\n",
       "      <td>0.013158</td>\n",
       "      <td>0.013764</td>\n",
       "    </tr>\n",
       "    <tr>\n",
       "      <th>75%</th>\n",
       "      <td>0.180000</td>\n",
       "      <td>3.600000e-01</td>\n",
       "      <td>4.266667e-01</td>\n",
       "      <td>0.470000</td>\n",
       "      <td>5.360000e-01</td>\n",
       "      <td>0.600000</td>\n",
       "      <td>1.006250</td>\n",
       "      <td>1.325000</td>\n",
       "      <td>1.550000</td>\n",
       "      <td>1.560000</td>\n",
       "      <td>...</td>\n",
       "      <td>0.005800</td>\n",
       "      <td>0.008000</td>\n",
       "      <td>0.010683</td>\n",
       "      <td>0.012650</td>\n",
       "      <td>0.013022</td>\n",
       "      <td>0.017579</td>\n",
       "      <td>0.026316</td>\n",
       "      <td>0.030303</td>\n",
       "      <td>0.039059</td>\n",
       "      <td>0.036364</td>\n",
       "    </tr>\n",
       "    <tr>\n",
       "      <th>max</th>\n",
       "      <td>14.640000</td>\n",
       "      <td>8.560000e+00</td>\n",
       "      <td>5.893333e+00</td>\n",
       "      <td>4.850000</td>\n",
       "      <td>4.240000e+00</td>\n",
       "      <td>44.050000</td>\n",
       "      <td>32.625000</td>\n",
       "      <td>21.933333</td>\n",
       "      <td>16.537500</td>\n",
       "      <td>13.810000</td>\n",
       "      <td>...</td>\n",
       "      <td>0.615750</td>\n",
       "      <td>0.600275</td>\n",
       "      <td>0.421755</td>\n",
       "      <td>0.384745</td>\n",
       "      <td>0.317110</td>\n",
       "      <td>7.666500</td>\n",
       "      <td>6.999750</td>\n",
       "      <td>5.999833</td>\n",
       "      <td>5.499875</td>\n",
       "      <td>4.599900</td>\n",
       "    </tr>\n",
       "  </tbody>\n",
       "</table>\n",
       "<p>8 rows × 65 columns</p>\n",
       "</div>"
      ],
      "text/plain": [
       "       Rain I Rainfall_shift_1  Rain I Rainfall_shift_2  \\\n",
       "count              1460.000000             1.459000e+03   \n",
       "mean                  0.364123             3.642838e-01   \n",
       "std                   1.034241             8.278552e-01   \n",
       "min                   0.000000             0.000000e+00   \n",
       "25%                   0.000000             0.000000e+00   \n",
       "50%                   0.000000             1.387779e-17   \n",
       "75%                   0.180000             3.600000e-01   \n",
       "max                  14.640000             8.560000e+00   \n",
       "\n",
       "       Rain I Rainfall_shift_3  Rain I Rainfall_shift_4  \\\n",
       "count             1.458000e+03              1457.000000   \n",
       "mean              3.644490e-01                 0.364314   \n",
       "std               7.183477e-01                 0.655465   \n",
       "min               0.000000e+00                 0.000000   \n",
       "25%               2.960595e-16                 0.000000   \n",
       "50%               2.666667e-02                 0.060000   \n",
       "75%               4.266667e-01                 0.470000   \n",
       "max               5.893333e+00                 4.850000   \n",
       "\n",
       "       Rain I Rainfall_shift_5  Rain II Rainfall_shift_1  \\\n",
       "count             1.456000e+03                913.000000   \n",
       "mean              3.641566e-01                  1.120482   \n",
       "std               6.105645e-01                  3.202082   \n",
       "min               0.000000e+00                  0.000000   \n",
       "25%               5.329071e-16                  0.000000   \n",
       "50%               8.200000e-02                  0.000000   \n",
       "75%               5.360000e-01                  0.600000   \n",
       "max               4.240000e+00                 44.050000   \n",
       "\n",
       "       Rain II Rainfall_shift_2  Rain II Rainfall_shift_3  \\\n",
       "count                912.000000                911.000000   \n",
       "mean                   1.121628                  1.122832   \n",
       "std                    2.545854                  2.155692   \n",
       "min                    0.000000                  0.000000   \n",
       "25%                    0.000000                  0.000000   \n",
       "50%                    0.075000                  0.200000   \n",
       "75%                    1.006250                  1.325000   \n",
       "max                   32.625000                 21.933333   \n",
       "\n",
       "       Rain II Rainfall_shift_4  Rain II Rainfall_shift_5  ...  \\\n",
       "count                910.000000                909.000000  ...   \n",
       "mean                   1.121676                  1.120770  ...   \n",
       "std                    1.921675                  1.758323  ...   \n",
       "min                    0.000000                  0.000000  ...   \n",
       "25%                    0.000000                  0.020000  ...   \n",
       "50%                    0.312500                  0.370000  ...   \n",
       "75%                    1.550000                  1.560000  ...   \n",
       "max                   16.537500                 13.810000  ...   \n",
       "\n",
       "       Network Marne Network_shift_1  Network Marne Network_shift_2  \\\n",
       "count                     919.000000                     918.000000   \n",
       "mean                        0.014636                       0.014576   \n",
       "std                         0.046439                       0.038191   \n",
       "min                         0.000714                       0.000727   \n",
       "25%                         0.002050                       0.002200   \n",
       "50%                         0.002650                       0.003558   \n",
       "75%                         0.005800                       0.008000   \n",
       "max                         0.615750                       0.600275   \n",
       "\n",
       "       Network Marne Network_shift_3  Network Marne Network_shift_4  \\\n",
       "count                     917.000000                     916.000000   \n",
       "mean                        0.014553                       0.014513   \n",
       "std                         0.033634                       0.030761   \n",
       "min                         0.000727                       0.000727   \n",
       "25%                         0.002233                       0.002325   \n",
       "50%                         0.004963                       0.005200   \n",
       "75%                         0.010683                       0.012650   \n",
       "max                         0.421755                       0.384745   \n",
       "\n",
       "       Network Marne Network_shift_5  Network Seine Network_shift_1  \\\n",
       "count                     915.000000                     733.000000   \n",
       "mean                        0.014479                       0.098672   \n",
       "std                         0.028648                       0.493911   \n",
       "min                         0.000727                       0.000000   \n",
       "25%                         0.002429                       0.000000   \n",
       "50%                         0.005240                       0.000000   \n",
       "75%                         0.013022                       0.017579   \n",
       "max                         0.317110                       7.666500   \n",
       "\n",
       "       Network Seine Network_shift_2  Network Seine Network_shift_3  \\\n",
       "count                     732.000000                     731.000000   \n",
       "mean                        0.098807                       0.098942   \n",
       "std                         0.450677                       0.421201   \n",
       "min                         0.000000                       0.000000   \n",
       "25%                         0.000000                       0.000000   \n",
       "50%                         0.000000                       0.008965   \n",
       "75%                         0.026316                       0.030303   \n",
       "max                         6.999750                       5.999833   \n",
       "\n",
       "       Network Seine Network_shift_4  Network Seine Network_shift_5  \n",
       "count                     730.000000                     729.000000  \n",
       "mean                        0.099077                       0.099199  \n",
       "std                         0.399659                       0.380002  \n",
       "min                         0.000000                       0.000000  \n",
       "25%                         0.000000                       0.000000  \n",
       "50%                         0.013158                       0.013764  \n",
       "75%                         0.039059                       0.036364  \n",
       "max                         5.499875                       4.599900  \n",
       "\n",
       "[8 rows x 65 columns]"
      ]
     },
     "execution_count": 419,
     "metadata": {},
     "output_type": "execute_result"
    }
   ],
   "source": [
    "res.describe()"
   ]
  },
  {
   "cell_type": "code",
   "execution_count": 420,
   "id": "received-blake",
   "metadata": {},
   "outputs": [],
   "source": [
    "res = res[res.index.month.isin([5, 6, 7, 8, 9])].reset_index()"
   ]
  },
  {
   "cell_type": "code",
   "execution_count": 421,
   "id": "western-costa",
   "metadata": {},
   "outputs": [],
   "source": [
    "rain_cols = [col for col in res.columns if 'Rainfall' in col]"
   ]
  },
  {
   "cell_type": "code",
   "execution_count": 422,
   "id": "blond-church",
   "metadata": {},
   "outputs": [],
   "source": [
    "res[rain_cols] = res[rain_cols].add(1).apply(np.log)"
   ]
  },
  {
   "cell_type": "code",
   "execution_count": 425,
   "id": "diagnostic-residence",
   "metadata": {},
   "outputs": [
    {
     "data": {
      "text/plain": [
       "2.6989700043360187"
      ]
     },
     "execution_count": 425,
     "metadata": {},
     "output_type": "execute_result"
    }
   ],
   "source": [
    "np.log10(500)"
   ]
  },
  {
   "cell_type": "code",
   "execution_count": 344,
   "id": "extreme-calibration",
   "metadata": {},
   "outputs": [],
   "source": [
    "FIB = read_frame(FeatureData.objects.filter(site = model.site.all()[0]))"
   ]
  },
  {
   "cell_type": "code",
   "execution_count": 345,
   "id": "economic-profile",
   "metadata": {},
   "outputs": [],
   "source": [
    "FIB[\"date\"] = FIB.date.round(\"D\")"
   ]
  },
  {
   "cell_type": "code",
   "execution_count": 346,
   "id": "sought-eugene",
   "metadata": {},
   "outputs": [
    {
     "data": {
      "text/html": [
       "<div>\n",
       "<style scoped>\n",
       "    .dataframe tbody tr th:only-of-type {\n",
       "        vertical-align: middle;\n",
       "    }\n",
       "\n",
       "    .dataframe tbody tr th {\n",
       "        vertical-align: top;\n",
       "    }\n",
       "\n",
       "    .dataframe thead th {\n",
       "        text-align: right;\n",
       "    }\n",
       "</style>\n",
       "<table border=\"1\" class=\"dataframe\">\n",
       "  <thead>\n",
       "    <tr style=\"text-align: right;\">\n",
       "      <th></th>\n",
       "      <th>id</th>\n",
       "    </tr>\n",
       "  </thead>\n",
       "  <tbody>\n",
       "    <tr>\n",
       "      <th>count</th>\n",
       "      <td>789.000000</td>\n",
       "    </tr>\n",
       "    <tr>\n",
       "      <th>mean</th>\n",
       "      <td>300752.000000</td>\n",
       "    </tr>\n",
       "    <tr>\n",
       "      <th>std</th>\n",
       "      <td>227.908973</td>\n",
       "    </tr>\n",
       "    <tr>\n",
       "      <th>min</th>\n",
       "      <td>300358.000000</td>\n",
       "    </tr>\n",
       "    <tr>\n",
       "      <th>25%</th>\n",
       "      <td>300555.000000</td>\n",
       "    </tr>\n",
       "    <tr>\n",
       "      <th>50%</th>\n",
       "      <td>300752.000000</td>\n",
       "    </tr>\n",
       "    <tr>\n",
       "      <th>75%</th>\n",
       "      <td>300949.000000</td>\n",
       "    </tr>\n",
       "    <tr>\n",
       "      <th>max</th>\n",
       "      <td>301146.000000</td>\n",
       "    </tr>\n",
       "  </tbody>\n",
       "</table>\n",
       "</div>"
      ],
      "text/plain": [
       "                  id\n",
       "count     789.000000\n",
       "mean   300752.000000\n",
       "std       227.908973\n",
       "min    300358.000000\n",
       "25%    300555.000000\n",
       "50%    300752.000000\n",
       "75%    300949.000000\n",
       "max    301146.000000"
      ]
     },
     "execution_count": 346,
     "metadata": {},
     "output_type": "execute_result"
    }
   ],
   "source": [
    "FIB.describe()"
   ]
  },
  {
   "cell_type": "code",
   "execution_count": 347,
   "id": "horizontal-parallel",
   "metadata": {},
   "outputs": [],
   "source": [
    "d = FIB.merge(res, on= \"date\").drop(\"variable\", axis = 1)"
   ]
  },
  {
   "cell_type": "code",
   "execution_count": 348,
   "id": "specified-trance",
   "metadata": {},
   "outputs": [],
   "source": [
    "D = d.dropna()"
   ]
  },
  {
   "cell_type": "code",
   "execution_count": 349,
   "id": "rocky-ranking",
   "metadata": {},
   "outputs": [
    {
     "data": {
      "text/html": [
       "<div>\n",
       "<style scoped>\n",
       "    .dataframe tbody tr th:only-of-type {\n",
       "        vertical-align: middle;\n",
       "    }\n",
       "\n",
       "    .dataframe tbody tr th {\n",
       "        vertical-align: top;\n",
       "    }\n",
       "\n",
       "    .dataframe thead th {\n",
       "        text-align: right;\n",
       "    }\n",
       "</style>\n",
       "<table border=\"1\" class=\"dataframe\">\n",
       "  <thead>\n",
       "    <tr style=\"text-align: right;\">\n",
       "      <th></th>\n",
       "      <th>id</th>\n",
       "      <th>Rain I_shift_1</th>\n",
       "      <th>Rain I_shift_2</th>\n",
       "      <th>Rain I_shift_3</th>\n",
       "      <th>Rain I_shift_4</th>\n",
       "      <th>Rain I_shift_5</th>\n",
       "      <th>Rain II_shift_1</th>\n",
       "      <th>Rain II_shift_2</th>\n",
       "      <th>Rain II_shift_3</th>\n",
       "      <th>Rain II_shift_4</th>\n",
       "      <th>...</th>\n",
       "      <th>Network Marne_shift_1</th>\n",
       "      <th>Network Marne_shift_2</th>\n",
       "      <th>Network Marne_shift_3</th>\n",
       "      <th>Network Marne_shift_4</th>\n",
       "      <th>Network Marne_shift_5</th>\n",
       "      <th>Network Seine_shift_1</th>\n",
       "      <th>Network Seine_shift_2</th>\n",
       "      <th>Network Seine_shift_3</th>\n",
       "      <th>Network Seine_shift_4</th>\n",
       "      <th>Network Seine_shift_5</th>\n",
       "    </tr>\n",
       "  </thead>\n",
       "  <tbody>\n",
       "    <tr>\n",
       "      <th>count</th>\n",
       "      <td>390.000000</td>\n",
       "      <td>390.000000</td>\n",
       "      <td>390.000000</td>\n",
       "      <td>3.900000e+02</td>\n",
       "      <td>390.000000</td>\n",
       "      <td>3.900000e+02</td>\n",
       "      <td>390.000000</td>\n",
       "      <td>390.000000</td>\n",
       "      <td>390.000000</td>\n",
       "      <td>390.000000</td>\n",
       "      <td>...</td>\n",
       "      <td>390.000000</td>\n",
       "      <td>390.000000</td>\n",
       "      <td>390.000000</td>\n",
       "      <td>390.000000</td>\n",
       "      <td>390.000000</td>\n",
       "      <td>390.000000</td>\n",
       "      <td>390.000000</td>\n",
       "      <td>390.000000</td>\n",
       "      <td>390.000000</td>\n",
       "      <td>390.000000</td>\n",
       "    </tr>\n",
       "    <tr>\n",
       "      <th>mean</th>\n",
       "      <td>300775.458974</td>\n",
       "      <td>0.080788</td>\n",
       "      <td>0.095661</td>\n",
       "      <td>1.080514e-01</td>\n",
       "      <td>0.107864</td>\n",
       "      <td>1.116933e-01</td>\n",
       "      <td>0.187412</td>\n",
       "      <td>0.221782</td>\n",
       "      <td>0.255530</td>\n",
       "      <td>0.277769</td>\n",
       "      <td>...</td>\n",
       "      <td>0.008686</td>\n",
       "      <td>0.007802</td>\n",
       "      <td>0.007761</td>\n",
       "      <td>0.007550</td>\n",
       "      <td>0.007813</td>\n",
       "      <td>0.020344</td>\n",
       "      <td>0.019278</td>\n",
       "      <td>0.019030</td>\n",
       "      <td>0.018439</td>\n",
       "      <td>0.018828</td>\n",
       "    </tr>\n",
       "    <tr>\n",
       "      <th>std</th>\n",
       "      <td>219.633797</td>\n",
       "      <td>0.283999</td>\n",
       "      <td>0.258817</td>\n",
       "      <td>2.480522e-01</td>\n",
       "      <td>0.230544</td>\n",
       "      <td>2.199214e-01</td>\n",
       "      <td>0.530007</td>\n",
       "      <td>0.506625</td>\n",
       "      <td>0.485764</td>\n",
       "      <td>0.466189</td>\n",
       "      <td>...</td>\n",
       "      <td>0.030018</td>\n",
       "      <td>0.021650</td>\n",
       "      <td>0.017841</td>\n",
       "      <td>0.015192</td>\n",
       "      <td>0.014114</td>\n",
       "      <td>0.064312</td>\n",
       "      <td>0.054436</td>\n",
       "      <td>0.048092</td>\n",
       "      <td>0.042043</td>\n",
       "      <td>0.039690</td>\n",
       "    </tr>\n",
       "    <tr>\n",
       "      <th>min</th>\n",
       "      <td>300458.000000</td>\n",
       "      <td>0.000000</td>\n",
       "      <td>0.000000</td>\n",
       "      <td>0.000000e+00</td>\n",
       "      <td>0.000000</td>\n",
       "      <td>2.220446e-16</td>\n",
       "      <td>0.000000</td>\n",
       "      <td>0.000000</td>\n",
       "      <td>0.000000</td>\n",
       "      <td>0.000000</td>\n",
       "      <td>...</td>\n",
       "      <td>0.000727</td>\n",
       "      <td>0.000727</td>\n",
       "      <td>0.000727</td>\n",
       "      <td>0.000727</td>\n",
       "      <td>0.000727</td>\n",
       "      <td>0.000000</td>\n",
       "      <td>0.000000</td>\n",
       "      <td>0.000000</td>\n",
       "      <td>0.000000</td>\n",
       "      <td>0.000000</td>\n",
       "    </tr>\n",
       "    <tr>\n",
       "      <th>25%</th>\n",
       "      <td>300555.250000</td>\n",
       "      <td>0.000000</td>\n",
       "      <td>0.000000</td>\n",
       "      <td>0.000000e+00</td>\n",
       "      <td>0.000000</td>\n",
       "      <td>4.440892e-16</td>\n",
       "      <td>0.000000</td>\n",
       "      <td>0.000000</td>\n",
       "      <td>0.000000</td>\n",
       "      <td>0.000000</td>\n",
       "      <td>...</td>\n",
       "      <td>0.001090</td>\n",
       "      <td>0.001166</td>\n",
       "      <td>0.001283</td>\n",
       "      <td>0.001397</td>\n",
       "      <td>0.001481</td>\n",
       "      <td>0.000000</td>\n",
       "      <td>0.000000</td>\n",
       "      <td>0.000000</td>\n",
       "      <td>0.000000</td>\n",
       "      <td>0.000000</td>\n",
       "    </tr>\n",
       "    <tr>\n",
       "      <th>50%</th>\n",
       "      <td>300796.500000</td>\n",
       "      <td>0.000000</td>\n",
       "      <td>0.000000</td>\n",
       "      <td>2.220446e-16</td>\n",
       "      <td>0.000000</td>\n",
       "      <td>4.440892e-16</td>\n",
       "      <td>0.000000</td>\n",
       "      <td>0.000000</td>\n",
       "      <td>0.000000</td>\n",
       "      <td>0.054707</td>\n",
       "      <td>...</td>\n",
       "      <td>0.001476</td>\n",
       "      <td>0.001726</td>\n",
       "      <td>0.002077</td>\n",
       "      <td>0.002360</td>\n",
       "      <td>0.002467</td>\n",
       "      <td>0.003310</td>\n",
       "      <td>0.007420</td>\n",
       "      <td>0.008916</td>\n",
       "      <td>0.009787</td>\n",
       "      <td>0.010471</td>\n",
       "    </tr>\n",
       "    <tr>\n",
       "      <th>75%</th>\n",
       "      <td>300995.750000</td>\n",
       "      <td>0.000000</td>\n",
       "      <td>0.000000</td>\n",
       "      <td>3.278982e-02</td>\n",
       "      <td>0.076961</td>\n",
       "      <td>1.663518e-01</td>\n",
       "      <td>0.000000</td>\n",
       "      <td>0.139762</td>\n",
       "      <td>0.324496</td>\n",
       "      <td>0.378001</td>\n",
       "      <td>...</td>\n",
       "      <td>0.002361</td>\n",
       "      <td>0.004170</td>\n",
       "      <td>0.005726</td>\n",
       "      <td>0.007496</td>\n",
       "      <td>0.007641</td>\n",
       "      <td>0.014344</td>\n",
       "      <td>0.019177</td>\n",
       "      <td>0.017474</td>\n",
       "      <td>0.017190</td>\n",
       "      <td>0.019859</td>\n",
       "    </tr>\n",
       "    <tr>\n",
       "      <th>max</th>\n",
       "      <td>301097.000000</td>\n",
       "      <td>2.230014</td>\n",
       "      <td>1.958685</td>\n",
       "      <td>1.675226e+00</td>\n",
       "      <td>1.526056</td>\n",
       "      <td>1.355835e+00</td>\n",
       "      <td>3.258097</td>\n",
       "      <td>3.107944</td>\n",
       "      <td>2.744061</td>\n",
       "      <td>2.482821</td>\n",
       "      <td>...</td>\n",
       "      <td>0.286907</td>\n",
       "      <td>0.200325</td>\n",
       "      <td>0.149770</td>\n",
       "      <td>0.119360</td>\n",
       "      <td>0.099402</td>\n",
       "      <td>0.554067</td>\n",
       "      <td>0.488241</td>\n",
       "      <td>0.407638</td>\n",
       "      <td>0.343030</td>\n",
       "      <td>0.293086</td>\n",
       "    </tr>\n",
       "  </tbody>\n",
       "</table>\n",
       "<p>8 rows × 66 columns</p>\n",
       "</div>"
      ],
      "text/plain": [
       "                  id  Rain I_shift_1  Rain I_shift_2  Rain I_shift_3  \\\n",
       "count     390.000000      390.000000      390.000000    3.900000e+02   \n",
       "mean   300775.458974        0.080788        0.095661    1.080514e-01   \n",
       "std       219.633797        0.283999        0.258817    2.480522e-01   \n",
       "min    300458.000000        0.000000        0.000000    0.000000e+00   \n",
       "25%    300555.250000        0.000000        0.000000    0.000000e+00   \n",
       "50%    300796.500000        0.000000        0.000000    2.220446e-16   \n",
       "75%    300995.750000        0.000000        0.000000    3.278982e-02   \n",
       "max    301097.000000        2.230014        1.958685    1.675226e+00   \n",
       "\n",
       "       Rain I_shift_4  Rain I_shift_5  Rain II_shift_1  Rain II_shift_2  \\\n",
       "count      390.000000    3.900000e+02       390.000000       390.000000   \n",
       "mean         0.107864    1.116933e-01         0.187412         0.221782   \n",
       "std          0.230544    2.199214e-01         0.530007         0.506625   \n",
       "min          0.000000    2.220446e-16         0.000000         0.000000   \n",
       "25%          0.000000    4.440892e-16         0.000000         0.000000   \n",
       "50%          0.000000    4.440892e-16         0.000000         0.000000   \n",
       "75%          0.076961    1.663518e-01         0.000000         0.139762   \n",
       "max          1.526056    1.355835e+00         3.258097         3.107944   \n",
       "\n",
       "       Rain II_shift_3  Rain II_shift_4  ...  Network Marne_shift_1  \\\n",
       "count       390.000000       390.000000  ...             390.000000   \n",
       "mean          0.255530         0.277769  ...               0.008686   \n",
       "std           0.485764         0.466189  ...               0.030018   \n",
       "min           0.000000         0.000000  ...               0.000727   \n",
       "25%           0.000000         0.000000  ...               0.001090   \n",
       "50%           0.000000         0.054707  ...               0.001476   \n",
       "75%           0.324496         0.378001  ...               0.002361   \n",
       "max           2.744061         2.482821  ...               0.286907   \n",
       "\n",
       "       Network Marne_shift_2  Network Marne_shift_3  Network Marne_shift_4  \\\n",
       "count             390.000000             390.000000             390.000000   \n",
       "mean                0.007802               0.007761               0.007550   \n",
       "std                 0.021650               0.017841               0.015192   \n",
       "min                 0.000727               0.000727               0.000727   \n",
       "25%                 0.001166               0.001283               0.001397   \n",
       "50%                 0.001726               0.002077               0.002360   \n",
       "75%                 0.004170               0.005726               0.007496   \n",
       "max                 0.200325               0.149770               0.119360   \n",
       "\n",
       "       Network Marne_shift_5  Network Seine_shift_1  Network Seine_shift_2  \\\n",
       "count             390.000000             390.000000             390.000000   \n",
       "mean                0.007813               0.020344               0.019278   \n",
       "std                 0.014114               0.064312               0.054436   \n",
       "min                 0.000727               0.000000               0.000000   \n",
       "25%                 0.001481               0.000000               0.000000   \n",
       "50%                 0.002467               0.003310               0.007420   \n",
       "75%                 0.007641               0.014344               0.019177   \n",
       "max                 0.099402               0.554067               0.488241   \n",
       "\n",
       "       Network Seine_shift_3  Network Seine_shift_4  Network Seine_shift_5  \n",
       "count             390.000000             390.000000             390.000000  \n",
       "mean                0.019030               0.018439               0.018828  \n",
       "std                 0.048092               0.042043               0.039690  \n",
       "min                 0.000000               0.000000               0.000000  \n",
       "25%                 0.000000               0.000000               0.000000  \n",
       "50%                 0.008916               0.009787               0.010471  \n",
       "75%                 0.017474               0.017190               0.019859  \n",
       "max                 0.407638               0.343030               0.293086  \n",
       "\n",
       "[8 rows x 66 columns]"
      ]
     },
     "execution_count": 349,
     "metadata": {},
     "output_type": "execute_result"
    }
   ],
   "source": [
    "D.describe()"
   ]
  },
  {
   "cell_type": "code",
   "execution_count": 350,
   "id": "ready-destination",
   "metadata": {},
   "outputs": [
    {
     "name": "stdout",
     "output_type": "stream",
     "text": [
      "<class 'pandas.core.frame.DataFrame'>\n",
      "Int64Index: 559 entries, 0 to 558\n",
      "Data columns (total 69 columns):\n",
      " #   Column                  Non-Null Count  Dtype              \n",
      "---  ------                  --------------  -----              \n",
      " 0   id                      559 non-null    int64              \n",
      " 1   date                    559 non-null    datetime64[ns, UTC]\n",
      " 2   value                   559 non-null    object             \n",
      " 3   site                    559 non-null    object             \n",
      " 4   Rain I_shift_1          559 non-null    float64            \n",
      " 5   Rain I_shift_2          559 non-null    float64            \n",
      " 6   Rain I_shift_3          559 non-null    float64            \n",
      " 7   Rain I_shift_4          559 non-null    float64            \n",
      " 8   Rain I_shift_5          559 non-null    float64            \n",
      " 9   Rain II_shift_1         543 non-null    float64            \n",
      " 10  Rain II_shift_2         543 non-null    float64            \n",
      " 11  Rain II_shift_3         543 non-null    float64            \n",
      " 12  Rain II_shift_4         543 non-null    float64            \n",
      " 13  Rain II_shift_5         543 non-null    float64            \n",
      " 14  Rain III_shift_1        543 non-null    float64            \n",
      " 15  Rain III_shift_2        543 non-null    float64            \n",
      " 16  Rain III_shift_3        543 non-null    float64            \n",
      " 17  Rain III_shift_4        543 non-null    float64            \n",
      " 18  Rain III_shift_5        543 non-null    float64            \n",
      " 19  Rain IV_shift_1         559 non-null    float64            \n",
      " 20  Rain IV_shift_2         559 non-null    float64            \n",
      " 21  Rain IV_shift_3         559 non-null    float64            \n",
      " 22  Rain IV_shift_4         559 non-null    float64            \n",
      " 23  Rain IV_shift_5         559 non-null    float64            \n",
      " 24  Rain V_shift_1          559 non-null    float64            \n",
      " 25  Rain V_shift_2          559 non-null    float64            \n",
      " 26  Rain V_shift_3          559 non-null    float64            \n",
      " 27  Rain V_shift_4          559 non-null    float64            \n",
      " 28  Rain V_shift_5          559 non-null    float64            \n",
      " 29  WWTP Marne_shift_1      559 non-null    float64            \n",
      " 30  WWTP Marne_shift_2      559 non-null    float64            \n",
      " 31  WWTP Marne_shift_3      559 non-null    float64            \n",
      " 32  WWTP Marne_shift_4      559 non-null    float64            \n",
      " 33  WWTP Marne_shift_5      559 non-null    float64            \n",
      " 34  WWTP Seine_shift_1      412 non-null    float64            \n",
      " 35  WWTP Seine_shift_2      412 non-null    float64            \n",
      " 36  WWTP Seine_shift_3      412 non-null    float64            \n",
      " 37  WWTP Seine_shift_4      412 non-null    float64            \n",
      " 38  WWTP Seine_shift_5      412 non-null    float64            \n",
      " 39  Flow center_shift_1     553 non-null    float64            \n",
      " 40  Flow center_shift_2     553 non-null    float64            \n",
      " 41  Flow center_shift_3     553 non-null    float64            \n",
      " 42  Flow center_shift_4     553 non-null    float64            \n",
      " 43  Flow center_shift_5     553 non-null    float64            \n",
      " 44  Flow Marne_shift_1      559 non-null    float64            \n",
      " 45  Flow Marne_shift_2      559 non-null    float64            \n",
      " 46  Flow Marne_shift_3      559 non-null    float64            \n",
      " 47  Flow Marne_shift_4      559 non-null    float64            \n",
      " 48  Flow Marne_shift_5      559 non-null    float64            \n",
      " 49  Flow Seine_shift_1      559 non-null    float64            \n",
      " 50  Flow Seine_shift_2      559 non-null    float64            \n",
      " 51  Flow Seine_shift_3      559 non-null    float64            \n",
      " 52  Flow Seine_shift_4      559 non-null    float64            \n",
      " 53  Flow Seine_shift_5      559 non-null    float64            \n",
      " 54  Network center_shift_1  543 non-null    float64            \n",
      " 55  Network center_shift_2  542 non-null    float64            \n",
      " 56  Network center_shift_3  542 non-null    float64            \n",
      " 57  Network center_shift_4  542 non-null    float64            \n",
      " 58  Network center_shift_5  542 non-null    float64            \n",
      " 59  Network Marne_shift_1   559 non-null    float64            \n",
      " 60  Network Marne_shift_2   559 non-null    float64            \n",
      " 61  Network Marne_shift_3   559 non-null    float64            \n",
      " 62  Network Marne_shift_4   559 non-null    float64            \n",
      " 63  Network Marne_shift_5   559 non-null    float64            \n",
      " 64  Network Seine_shift_1   559 non-null    float64            \n",
      " 65  Network Seine_shift_2   559 non-null    float64            \n",
      " 66  Network Seine_shift_3   559 non-null    float64            \n",
      " 67  Network Seine_shift_4   559 non-null    float64            \n",
      " 68  Network Seine_shift_5   559 non-null    float64            \n",
      "dtypes: datetime64[ns, UTC](1), float64(65), int64(1), object(2)\n",
      "memory usage: 305.7+ KB\n"
     ]
    }
   ],
   "source": [
    "d.info()"
   ]
  },
  {
   "cell_type": "code",
   "execution_count": 351,
   "id": "sharp-consideration",
   "metadata": {},
   "outputs": [],
   "source": [
    "y = np.log10(D[\"value\"])"
   ]
  },
  {
   "cell_type": "code",
   "execution_count": 352,
   "id": "connected-headset",
   "metadata": {},
   "outputs": [],
   "source": [
    "X = D.drop([\"date\", \"value\", \"id\", \"site\"], axis = 1)"
   ]
  },
  {
   "cell_type": "code",
   "execution_count": 353,
   "id": "dimensional-quilt",
   "metadata": {},
   "outputs": [],
   "source": [
    "X = X.apply(pd.to_numeric, downcast='float')"
   ]
  },
  {
   "cell_type": "code",
   "execution_count": 354,
   "id": "alpine-luther",
   "metadata": {},
   "outputs": [],
   "source": [
    "y = y.apply(pd.to_numeric, downcast='float')"
   ]
  },
  {
   "cell_type": "code",
   "execution_count": 355,
   "id": "parallel-nerve",
   "metadata": {},
   "outputs": [],
   "source": [
    "X_train, X_test, y_train, y_test = train_test_split(X, y, test_size=0.2, random_state=12)\n"
   ]
  },
  {
   "cell_type": "code",
   "execution_count": 356,
   "id": "bacterial-horse",
   "metadata": {},
   "outputs": [],
   "source": [
    "grid = {'n_estimators':[100], 'max_depth': np.linspace(1, 15, 6), 'max_features': [2, 4, 6],  'min_samples_leaf':[1]} \n"
   ]
  },
  {
   "cell_type": "code",
   "execution_count": 357,
   "id": "advised-accommodation",
   "metadata": {},
   "outputs": [],
   "source": [
    "import numpy as np\n",
    "from sklearn.metrics import make_scorer\n",
    "\n",
    "def my_custom_loss_func(y_true, y_pred):\n",
    "    diff = np.abs(y_true - y_pred).max()\n",
    "    return diff\n",
    "\n",
    "# score will negate the return value of my_custom_loss_func,\n",
    "# which will be np.log(2), 0.693, given the values for X\n",
    "# and y defined below.\n",
    "score = make_scorer(my_custom_loss_func, greater_is_better=True)"
   ]
  },
  {
   "cell_type": "code",
   "execution_count": 285,
   "id": "blocked-synthesis",
   "metadata": {},
   "outputs": [
    {
     "name": "stdout",
     "output_type": "stream",
     "text": [
      "OUT OF SAMPLE METRICS:\n",
      "Tuned  RandomForest R squared: 0.2947032634746918\n",
      "Tuned RandomForestt MSE: 0.2365332661029718\n",
      "---------------------------\n",
      "IN SAMPLE METRICS:\n",
      "Tuned  RandomForest R squared: 0.7349533450582211\n",
      "Tuned RandomForestt MSE: 0.09848072965780284\n"
     ]
    }
   ],
   "source": [
    "\n",
    "from sklearn.model_selection import GridSearchCV, train_test_split\n",
    "\n",
    "\n",
    "# Instantiate the ElasticNet regressor: elastic_net\n",
    "rf = RandomForestRegressor()\n",
    "\n",
    "# Setup the GridSearchCV object: gm_cv\n",
    "gm_cv = GridSearchCV(rf, param_grid=grid,  cv = 5)\n",
    "\n",
    "# Fit it to the training data\n",
    "\n",
    "gm_cv.fit(X_train, y_train)\n",
    "rf = RandomForestRegressor(n_estimators = gm_cv.best_params_[\"n_estimators\"],\n",
    "                           max_depth = gm_cv.best_params_[\"max_depth\"],\n",
    "                           max_features = gm_cv.best_params_[\"max_features\"])\n",
    "rf.fit(X_train, y_train)\n",
    "\n",
    "\n",
    "# Predict on the test set and compute metrics\n",
    "y_pred = gm_cv.predict(X_test)\n",
    "y_pred1 = rf.predict(X_test)\n",
    "\n",
    "\n",
    "r2 = gm_cv.score(X_test, y_test)\n",
    "r2_in = gm_cv.score(X_train, y_train)\n",
    "\n",
    "mse = mean_squared_error(y_test, y_pred)\n",
    "mse_in = mean_squared_error(y_train, gm_cv.predict(X_train))\n",
    "\n",
    "print(str(\"OUT OF SAMPLE METRICS:\"))\n",
    "print(\"Tuned  RandomForest R squared: {}\".format(r2))\n",
    "print(\"Tuned RandomForestt MSE: {}\".format(mse))\n",
    "print('---------------------------')\n",
    "print(\"IN SAMPLE METRICS:\")\n",
    "print(\"Tuned  RandomForest R squared: {}\".format(r2_in))\n",
    "print(\"Tuned RandomForestt MSE: {}\".format(mse_in))\n",
    "\n"
   ]
  },
  {
   "cell_type": "code",
   "execution_count": 358,
   "id": "outdoor-mediterranean",
   "metadata": {},
   "outputs": [],
   "source": [
    "rf = RandomForestRegressor(n_estimators = 1000, min_samples_leaf = 1)"
   ]
  },
  {
   "cell_type": "code",
   "execution_count": 359,
   "id": "immune-creature",
   "metadata": {},
   "outputs": [
    {
     "data": {
      "text/plain": [
       "RandomForestRegressor(n_estimators=1000)"
      ]
     },
     "execution_count": 359,
     "metadata": {},
     "output_type": "execute_result"
    }
   ],
   "source": [
    "rf.fit(X_train, y_train)"
   ]
  },
  {
   "cell_type": "code",
   "execution_count": 360,
   "id": "verified-rendering",
   "metadata": {},
   "outputs": [
    {
     "data": {
      "text/plain": [
       "0.7957485406055833"
      ]
     },
     "execution_count": 360,
     "metadata": {},
     "output_type": "execute_result"
    }
   ],
   "source": [
    "rf.score(X_train, y_train)"
   ]
  },
  {
   "cell_type": "code",
   "execution_count": 361,
   "id": "timely-complement",
   "metadata": {},
   "outputs": [
    {
     "data": {
      "text/plain": [
       "0.2518332625006656"
      ]
     },
     "execution_count": 361,
     "metadata": {},
     "output_type": "execute_result"
    }
   ],
   "source": [
    "rf.score(X_test, y_test)"
   ]
  },
  {
   "cell_type": "code",
   "execution_count": 362,
   "id": "meaningful-nerve",
   "metadata": {},
   "outputs": [],
   "source": [
    "pred = rf.predict(X_test)"
   ]
  },
  {
   "cell_type": "code",
   "execution_count": 363,
   "id": "spatial-project",
   "metadata": {},
   "outputs": [
    {
     "data": {
      "text/plain": [
       "0.2509104506596171"
      ]
     },
     "execution_count": 363,
     "metadata": {},
     "output_type": "execute_result"
    }
   ],
   "source": [
    "mean_squared_error(pred, y_test)"
   ]
  },
  {
   "cell_type": "code",
   "execution_count": 364,
   "id": "colored-serum",
   "metadata": {},
   "outputs": [],
   "source": [
    "preds = []\n",
    "for i in range(1000):\n",
    "    preds.append(rf.estimators_[i].predict(X_test))\n",
    "\n",
    "el_arrays = []\n",
    "for j in range(len(y_test)):\n",
    "    el_arrays.append([item[j] for item in preds])"
   ]
  },
  {
   "cell_type": "code",
   "execution_count": 365,
   "id": "heated-masters",
   "metadata": {},
   "outputs": [],
   "source": [
    "lower = []\n",
    "upper = []\n",
    "for i in range(len(el_arrays)):\n",
    "    lower.append(np.percentile(el_arrays[i], 5))\n",
    "    upper.append(np.percentile(el_arrays[i], 95))"
   ]
  },
  {
   "cell_type": "code",
   "execution_count": 366,
   "id": "designed-georgia",
   "metadata": {},
   "outputs": [
    {
     "data": {
      "text/plain": [
       "2.6989700043360187"
      ]
     },
     "execution_count": 366,
     "metadata": {},
     "output_type": "execute_result"
    }
   ],
   "source": [
    "np.log10(500)"
   ]
  },
  {
   "cell_type": "code",
   "execution_count": 367,
   "id": "parental-interval",
   "metadata": {},
   "outputs": [],
   "source": [
    "df = pd.DataFrame({\"y_test\":y_test, \"mean\":pred, \"P95\": upper, \"P5\": lower})"
   ]
  },
  {
   "cell_type": "code",
   "execution_count": 368,
   "id": "acquired-donna",
   "metadata": {},
   "outputs": [],
   "source": [
    "comparison_column = np.where(df[\"y_test\"] < df[\"P95\"], True, False)"
   ]
  },
  {
   "cell_type": "code",
   "execution_count": 369,
   "id": "buried-combining",
   "metadata": {},
   "outputs": [
    {
     "data": {
      "text/plain": [
       "0.8589743589743589"
      ]
     },
     "execution_count": 369,
     "metadata": {},
     "output_type": "execute_result"
    }
   ],
   "source": [
    "np.mean(comparison_column)"
   ]
  },
  {
   "cell_type": "code",
   "execution_count": 370,
   "id": "preliminary-tracy",
   "metadata": {},
   "outputs": [],
   "source": [
    "df[\"sample_number\"] = np.linspace(1, len(y_test), len(y_test))"
   ]
  },
  {
   "cell_type": "code",
   "execution_count": 371,
   "id": "considerable-comfort",
   "metadata": {},
   "outputs": [],
   "source": [
    "predictions = df.melt(id_vars=['sample_number'], value_vars=['y_test', 'P5', 'mean', 'P95'])"
   ]
  },
  {
   "cell_type": "code",
   "execution_count": 372,
   "id": "fitting-courage",
   "metadata": {},
   "outputs": [
    {
     "data": {
      "text/html": [
       "<div>\n",
       "<style scoped>\n",
       "    .dataframe tbody tr th:only-of-type {\n",
       "        vertical-align: middle;\n",
       "    }\n",
       "\n",
       "    .dataframe tbody tr th {\n",
       "        vertical-align: top;\n",
       "    }\n",
       "\n",
       "    .dataframe thead th {\n",
       "        text-align: right;\n",
       "    }\n",
       "</style>\n",
       "<table border=\"1\" class=\"dataframe\">\n",
       "  <thead>\n",
       "    <tr style=\"text-align: right;\">\n",
       "      <th></th>\n",
       "      <th>y_test</th>\n",
       "      <th>mean</th>\n",
       "      <th>P95</th>\n",
       "      <th>P5</th>\n",
       "      <th>sample_number</th>\n",
       "    </tr>\n",
       "  </thead>\n",
       "  <tbody>\n",
       "    <tr>\n",
       "      <th>290</th>\n",
       "      <td>3.643946</td>\n",
       "      <td>4.056964</td>\n",
       "      <td>4.544068</td>\n",
       "      <td>2.701777</td>\n",
       "      <td>1.0</td>\n",
       "    </tr>\n",
       "    <tr>\n",
       "      <th>510</th>\n",
       "      <td>3.000434</td>\n",
       "      <td>3.298841</td>\n",
       "      <td>4.223755</td>\n",
       "      <td>2.833400</td>\n",
       "      <td>2.0</td>\n",
       "    </tr>\n",
       "    <tr>\n",
       "      <th>227</th>\n",
       "      <td>2.594393</td>\n",
       "      <td>2.777889</td>\n",
       "      <td>2.938019</td>\n",
       "      <td>2.682145</td>\n",
       "      <td>3.0</td>\n",
       "    </tr>\n",
       "    <tr>\n",
       "      <th>147</th>\n",
       "      <td>4.544068</td>\n",
       "      <td>3.337799</td>\n",
       "      <td>4.374217</td>\n",
       "      <td>2.586587</td>\n",
       "      <td>4.0</td>\n",
       "    </tr>\n",
       "    <tr>\n",
       "      <th>506</th>\n",
       "      <td>2.488551</td>\n",
       "      <td>2.448390</td>\n",
       "      <td>3.326131</td>\n",
       "      <td>2.225309</td>\n",
       "      <td>5.0</td>\n",
       "    </tr>\n",
       "    <tr>\n",
       "      <th>...</th>\n",
       "      <td>...</td>\n",
       "      <td>...</td>\n",
       "      <td>...</td>\n",
       "      <td>...</td>\n",
       "      <td>...</td>\n",
       "    </tr>\n",
       "    <tr>\n",
       "      <th>545</th>\n",
       "      <td>3.264109</td>\n",
       "      <td>2.960959</td>\n",
       "      <td>3.256237</td>\n",
       "      <td>2.744293</td>\n",
       "      <td>74.0</td>\n",
       "    </tr>\n",
       "    <tr>\n",
       "      <th>217</th>\n",
       "      <td>2.403121</td>\n",
       "      <td>3.129941</td>\n",
       "      <td>4.544068</td>\n",
       "      <td>2.328380</td>\n",
       "      <td>75.0</td>\n",
       "    </tr>\n",
       "    <tr>\n",
       "      <th>541</th>\n",
       "      <td>2.674861</td>\n",
       "      <td>2.699842</td>\n",
       "      <td>3.516991</td>\n",
       "      <td>2.287802</td>\n",
       "      <td>76.0</td>\n",
       "    </tr>\n",
       "    <tr>\n",
       "      <th>189</th>\n",
       "      <td>2.843233</td>\n",
       "      <td>3.624452</td>\n",
       "      <td>4.101506</td>\n",
       "      <td>2.747412</td>\n",
       "      <td>77.0</td>\n",
       "    </tr>\n",
       "    <tr>\n",
       "      <th>447</th>\n",
       "      <td>3.388101</td>\n",
       "      <td>3.098050</td>\n",
       "      <td>3.776371</td>\n",
       "      <td>2.487017</td>\n",
       "      <td>78.0</td>\n",
       "    </tr>\n",
       "  </tbody>\n",
       "</table>\n",
       "<p>78 rows × 5 columns</p>\n",
       "</div>"
      ],
      "text/plain": [
       "       y_test      mean       P95        P5  sample_number\n",
       "290  3.643946  4.056964  4.544068  2.701777            1.0\n",
       "510  3.000434  3.298841  4.223755  2.833400            2.0\n",
       "227  2.594393  2.777889  2.938019  2.682145            3.0\n",
       "147  4.544068  3.337799  4.374217  2.586587            4.0\n",
       "506  2.488551  2.448390  3.326131  2.225309            5.0\n",
       "..        ...       ...       ...       ...            ...\n",
       "545  3.264109  2.960959  3.256237  2.744293           74.0\n",
       "217  2.403121  3.129941  4.544068  2.328380           75.0\n",
       "541  2.674861  2.699842  3.516991  2.287802           76.0\n",
       "189  2.843233  3.624452  4.101506  2.747412           77.0\n",
       "447  3.388101  3.098050  3.776371  2.487017           78.0\n",
       "\n",
       "[78 rows x 5 columns]"
      ]
     },
     "execution_count": 372,
     "metadata": {},
     "output_type": "execute_result"
    }
   ],
   "source": [
    "df"
   ]
  },
  {
   "cell_type": "code",
   "execution_count": 373,
   "id": "brilliant-dining",
   "metadata": {},
   "outputs": [
    {
     "data": {
      "application/vnd.plotly.v1+json": {
       "config": {
        "plotlyServerURL": "https://plot.ly"
       },
       "data": [
        {
         "line": {
          "color": "rgba(68, 68, 68, 1)",
          "width": 0.5
         },
         "mode": "lines",
         "name": "Unteres Vorhersageintervall",
         "type": "scatter",
         "x": [
          1,
          2,
          3,
          4,
          5,
          6,
          7,
          8,
          9,
          10,
          11,
          12,
          13,
          14,
          15,
          16,
          17,
          18,
          19,
          20,
          21,
          22,
          23,
          24,
          25,
          26,
          27,
          28,
          29,
          30,
          31,
          32,
          33,
          34,
          35,
          36,
          37,
          38,
          39,
          40,
          41,
          42,
          43,
          44,
          45,
          46,
          47,
          48,
          49,
          50,
          51,
          52,
          53,
          54,
          55,
          56,
          57,
          58,
          59,
          60,
          61,
          62,
          63,
          64,
          65,
          66,
          67,
          68,
          69,
          70,
          71,
          72,
          73,
          74,
          75,
          76,
          77,
          78
         ],
         "y": [
          2.7017772993275684,
          2.8334001509744544,
          2.682145076373832,
          2.586587304671755,
          2.225309281725863,
          2.287801729930226,
          2.294466226161593,
          2.5477747053878224,
          2.8068580295188172,
          3.7137424784090824,
          2.574031267727719,
          2.4578818967339924,
          2.8573324964312685,
          2.2068258760318495,
          3.000434077479319,
          2.8118498720314884,
          2.8068580295188172,
          2.8068580295188172,
          2.209812680443872,
          2.9314273691789965,
          2.7150014381033425,
          2.3283796034387376,
          1.8298503118866627,
          3.1942367487238292,
          2.3016809505748554,
          3.000434077479319,
          2.590843295539607,
          2.306157542038795,
          2.7527161300396235,
          3.070037866607755,
          2.287801729930226,
          2.3577230958402953,
          2.8068580295188172,
          2.9314273691789965,
          2.7442929831226763,
          2.3263507097633123,
          2.2939941092035707,
          2.357934847000454,
          3.070037866607755,
          2.5514499979728753,
          3.1051694279993316,
          3.025715383901341,
          2.747411807886423,
          2.5477747053878224,
          2.680534389011538,
          2.7227242347863787,
          2.4578818967339924,
          2.4899584794248346,
          2.2068258760318495,
          2.100370545117563,
          1.8298503118866627,
          2.7435338371792537,
          3.5193028492354284,
          3.1180508946306826,
          2.287801729930226,
          2.6748611407378116,
          2.8750612633917,
          2.5477278241258863,
          2.4899584794248346,
          2.225309281725863,
          3.7137424784090824,
          2.806179973983887,
          2.4578818967339924,
          2.6127838567197355,
          2.3016809505748554,
          2.8068580295188172,
          2.7563816861937935,
          2.598790506763115,
          2.727541257028556,
          2.7227242347863787,
          3.5193028492354284,
          2.574031267727719,
          2.487017275512122,
          2.7442929831226763,
          2.3283796034387376,
          2.287801729930226,
          2.747411807886423,
          2.487017275512122
         ]
        },
        {
         "fillcolor": "rgba(68, 68, 68, 0.1)",
         "line": {
          "color": "rgb(0, 86, 110)",
          "width": 2
         },
         "marker": {
          "color": "rgb(0, 86, 110)"
         },
         "mode": "lines",
         "name": "Vorhergesagter Mittelwert",
         "type": "scatter",
         "x": [
          1,
          2,
          3,
          4,
          5,
          6,
          7,
          8,
          9,
          10,
          11,
          12,
          13,
          14,
          15,
          16,
          17,
          18,
          19,
          20,
          21,
          22,
          23,
          24,
          25,
          26,
          27,
          28,
          29,
          30,
          31,
          32,
          33,
          34,
          35,
          36,
          37,
          38,
          39,
          40,
          41,
          42,
          43,
          44,
          45,
          46,
          47,
          48,
          49,
          50,
          51,
          52,
          53,
          54,
          55,
          56,
          57,
          58,
          59,
          60,
          61,
          62,
          63,
          64,
          65,
          66,
          67,
          68,
          69,
          70,
          71,
          72,
          73,
          74,
          75,
          76,
          77,
          78
         ],
         "y": [
          4.056963941862633,
          3.2988413421320666,
          2.7778885333232464,
          3.337798979580591,
          2.448389760745315,
          2.6876541831977536,
          2.3697874277249777,
          2.7180756962610895,
          3.5498733344753655,
          3.7977454335561496,
          3.3195519605207355,
          3.200823417984605,
          3.05310563341557,
          2.568038001343379,
          3.387294981544783,
          3.7450689226283007,
          3.5498733344753655,
          2.930671807492254,
          3.00101429632261,
          3.2839464075070577,
          3.1015728805987646,
          2.9049565716983348,
          2.602462509485968,
          3.6445706548355723,
          2.9471649434201916,
          4.1508256426529035,
          2.800845373749532,
          3.0664268978766387,
          3.6579184381722483,
          3.9054166904944636,
          2.4334107095380655,
          3.4536814585323996,
          3.61334874387231,
          3.2839464075070577,
          3.4836892962235493,
          3.1167128088054947,
          2.8787143937107555,
          2.6255560006965895,
          3.880647085877436,
          3.020886158377377,
          4.335196238535024,
          3.475116833039307,
          3.065133408844983,
          3.445746453191184,
          3.045051552570671,
          3.579355265339704,
          2.8286985018457003,
          2.8415328543609304,
          2.568038001343379,
          2.4455307079563373,
          2.602462509485968,
          3.5949761889637237,
          4.152667073406326,
          3.708345392670434,
          2.6876541831977536,
          2.8522793085433387,
          3.587038914868575,
          2.836438003932312,
          3.2190863335078888,
          2.7501712355730996,
          3.7977454335561496,
          3.257295271636163,
          3.5147221853252444,
          3.3349865427546583,
          2.9471649434201916,
          2.930671807492254,
          2.9009210626950765,
          3.13346363451734,
          3.154118042256071,
          3.579355265339704,
          4.152667073406326,
          2.84941095895433,
          3.0980501615668214,
          2.960959413132449,
          3.129941262621332,
          2.6998424224529454,
          3.6244520420583908,
          3.0980501615668214
         ]
        },
        {
         "fillcolor": "rgba(68, 68, 68, 1)",
         "line": {
          "color": "rgba(68, 68, 68, 1)",
          "width": 0.5
         },
         "mode": "lines",
         "name": "Oberes Vorhersageintervall",
         "type": "scatter",
         "x": [
          1,
          2,
          3,
          4,
          5,
          6,
          7,
          8,
          9,
          10,
          11,
          12,
          13,
          14,
          15,
          16,
          17,
          18,
          19,
          20,
          21,
          22,
          23,
          24,
          25,
          26,
          27,
          28,
          29,
          30,
          31,
          32,
          33,
          34,
          35,
          36,
          37,
          38,
          39,
          40,
          41,
          42,
          43,
          44,
          45,
          46,
          47,
          48,
          49,
          50,
          51,
          52,
          53,
          54,
          55,
          56,
          57,
          58,
          59,
          60,
          61,
          62,
          63,
          64,
          65,
          66,
          67,
          68,
          69,
          70,
          71,
          72,
          73,
          74,
          75,
          76,
          77,
          78
         ],
         "y": [
          4.544068044350276,
          4.223755453657241,
          2.9380190974762104,
          4.374216605428374,
          3.3261309567107946,
          3.265460525618381,
          2.9098836374964057,
          3.349979266162276,
          4.374216605428374,
          3.9076263048432662,
          3.9039703606077496,
          4.544068044350276,
          3.8070529554790156,
          2.9052607738445166,
          3.7137424784090824,
          4.2954131455196585,
          4.374216605428374,
          3.1322596895310446,
          4.544068044350276,
          3.5341530741850624,
          3.256236533205923,
          3.7567881987681178,
          3.534153074185062,
          4.101506496139928,
          3.7758288144646124,
          4.544068044350276,
          3.584670384464349,
          3.2982129765349226,
          4.14188854970586,
          4.374216605428374,
          3.0881360887005513,
          4.547704117446809,
          4.357458385645036,
          3.5341530741850624,
          4.374216605428374,
          4.544068044350276,
          4.317958924700952,
          3.1322596895310446,
          4.544068044350276,
          3.7019994748896368,
          4.683182171097453,
          4.374216605428374,
          3.148178768363637,
          4.544068044350276,
          3.2641091563058082,
          3.8886510176801883,
          4.544068044350276,
          3.388116082432852,
          2.9052607738445166,
          2.747411807886423,
          3.534153074185062,
          4.317958924700952,
          4.551340190543342,
          3.7757560378440984,
          3.265460525618381,
          3.256236533205923,
          3.7758288144646124,
          3.000434077479319,
          4.101506496139928,
          3.4726376166095716,
          3.9076263048432662,
          3.4569495051254866,
          4.546976902827502,
          3.775756037844098,
          3.7758288144646124,
          3.1322596895310446,
          3.256236533205923,
          3.9076263048432662,
          3.2641091563058082,
          3.8886510176801883,
          4.551340190543342,
          3.683085330478792,
          3.7763713964012133,
          3.256236533205923,
          4.544068044350276,
          3.5169913352339,
          4.101506496139928,
          3.7763713964012133
         ]
        },
        {
         "fillcolor": "rgba(68, 68, 68, 0.1)",
         "line": {
          "color": "red",
          "width": 2
         },
         "marker": {
          "color": "orange",
          "opacity": 0.8,
          "size": 8
         },
         "mode": "markers",
         "name": "Vorhergesagter Mittelwert",
         "type": "scatter",
         "x": [
          1,
          2,
          3,
          4,
          5,
          6,
          7,
          8,
          9,
          10,
          11,
          12,
          13,
          14,
          15,
          16,
          17,
          18,
          19,
          20,
          21,
          22,
          23,
          24,
          25,
          26,
          27,
          28,
          29,
          30,
          31,
          32,
          33,
          34,
          35,
          36,
          37,
          38,
          39,
          40,
          41,
          42,
          43,
          44,
          45,
          46,
          47,
          48,
          49,
          50,
          51,
          52,
          53,
          54,
          55,
          56,
          57,
          58,
          59,
          60,
          61,
          62,
          63,
          64,
          65,
          66,
          67,
          68,
          69,
          70,
          71,
          72,
          73,
          74,
          75,
          76,
          77,
          78
         ],
         "y": [
          3.643945912748067,
          3.000434077479319,
          2.5943925503754266,
          4.544068044350276,
          2.4885507165004443,
          2.5477747053878224,
          3.1942367487238292,
          2.287801729930226,
          3.651762447380111,
          4.16354896490181,
          2.7442929831226763,
          2.155336037465062,
          2.7442929831226763,
          2.481442628502305,
          3.325925955771466,
          3.3261309567107946,
          3.6534054906645013,
          3.1743505974793798,
          2.7867514221455614,
          3.4500950758716025,
          2.3324384599156054,
          2.3961993470957363,
          3.000434077479319,
          3.3879234669734366,
          2.164352855784437,
          4.544068044350276,
          2.503790683057181,
          3.651762447380111,
          3.2643455070500926,
          3.325925955771466,
          2.247973266361807,
          3.651762447380111,
          2.938519725176492,
          3.070037866607755,
          2.884795363948981,
          2.6127838567197355,
          3.775756037844098,
          2.8068580295188172,
          3.8516863154424277,
          2.663700925389648,
          4.101540872558349,
          4.544068044350276,
          2.7589118923979736,
          3.2638726768652235,
          3.3261309567107946,
          3.1942367487238292,
          2.938519725176492,
          3.1942367487238292,
          2.041392685158225,
          3.7137424784090824,
          2.7442929831226763,
          2.9800033715837464,
          4.101506496139928,
          2.4183012913197452,
          2.5514499979728753,
          2.4899584794248346,
          3.3283796034387376,
          2.2528530309798933,
          2.682145076373832,
          2.7442929831226763,
          3.7285161047597666,
          2.893206753059848,
          3.9076263048432662,
          3.6516656039229356,
          2.7781512503836434,
          3.2641091563058082,
          2.7972675408307164,
          2.9380190974762104,
          3.0729847446279304,
          3.1300119496719043,
          3.070037866607755,
          2.682145076373832,
          3.584670384464349,
          3.2641091563058082,
          2.403120521175818,
          2.6748611407378116,
          2.8432327780980096,
          3.3881012015705165
         ]
        }
       ],
       "layout": {
        "template": {
         "data": {
          "bar": [
           {
            "error_x": {
             "color": "#2a3f5f"
            },
            "error_y": {
             "color": "#2a3f5f"
            },
            "marker": {
             "line": {
              "color": "#E5ECF6",
              "width": 0.5
             }
            },
            "type": "bar"
           }
          ],
          "barpolar": [
           {
            "marker": {
             "line": {
              "color": "#E5ECF6",
              "width": 0.5
             }
            },
            "type": "barpolar"
           }
          ],
          "carpet": [
           {
            "aaxis": {
             "endlinecolor": "#2a3f5f",
             "gridcolor": "white",
             "linecolor": "white",
             "minorgridcolor": "white",
             "startlinecolor": "#2a3f5f"
            },
            "baxis": {
             "endlinecolor": "#2a3f5f",
             "gridcolor": "white",
             "linecolor": "white",
             "minorgridcolor": "white",
             "startlinecolor": "#2a3f5f"
            },
            "type": "carpet"
           }
          ],
          "choropleth": [
           {
            "colorbar": {
             "outlinewidth": 0,
             "ticks": ""
            },
            "type": "choropleth"
           }
          ],
          "contour": [
           {
            "colorbar": {
             "outlinewidth": 0,
             "ticks": ""
            },
            "colorscale": [
             [
              0,
              "#0d0887"
             ],
             [
              0.1111111111111111,
              "#46039f"
             ],
             [
              0.2222222222222222,
              "#7201a8"
             ],
             [
              0.3333333333333333,
              "#9c179e"
             ],
             [
              0.4444444444444444,
              "#bd3786"
             ],
             [
              0.5555555555555556,
              "#d8576b"
             ],
             [
              0.6666666666666666,
              "#ed7953"
             ],
             [
              0.7777777777777778,
              "#fb9f3a"
             ],
             [
              0.8888888888888888,
              "#fdca26"
             ],
             [
              1,
              "#f0f921"
             ]
            ],
            "type": "contour"
           }
          ],
          "contourcarpet": [
           {
            "colorbar": {
             "outlinewidth": 0,
             "ticks": ""
            },
            "type": "contourcarpet"
           }
          ],
          "heatmap": [
           {
            "colorbar": {
             "outlinewidth": 0,
             "ticks": ""
            },
            "colorscale": [
             [
              0,
              "#0d0887"
             ],
             [
              0.1111111111111111,
              "#46039f"
             ],
             [
              0.2222222222222222,
              "#7201a8"
             ],
             [
              0.3333333333333333,
              "#9c179e"
             ],
             [
              0.4444444444444444,
              "#bd3786"
             ],
             [
              0.5555555555555556,
              "#d8576b"
             ],
             [
              0.6666666666666666,
              "#ed7953"
             ],
             [
              0.7777777777777778,
              "#fb9f3a"
             ],
             [
              0.8888888888888888,
              "#fdca26"
             ],
             [
              1,
              "#f0f921"
             ]
            ],
            "type": "heatmap"
           }
          ],
          "heatmapgl": [
           {
            "colorbar": {
             "outlinewidth": 0,
             "ticks": ""
            },
            "colorscale": [
             [
              0,
              "#0d0887"
             ],
             [
              0.1111111111111111,
              "#46039f"
             ],
             [
              0.2222222222222222,
              "#7201a8"
             ],
             [
              0.3333333333333333,
              "#9c179e"
             ],
             [
              0.4444444444444444,
              "#bd3786"
             ],
             [
              0.5555555555555556,
              "#d8576b"
             ],
             [
              0.6666666666666666,
              "#ed7953"
             ],
             [
              0.7777777777777778,
              "#fb9f3a"
             ],
             [
              0.8888888888888888,
              "#fdca26"
             ],
             [
              1,
              "#f0f921"
             ]
            ],
            "type": "heatmapgl"
           }
          ],
          "histogram": [
           {
            "marker": {
             "colorbar": {
              "outlinewidth": 0,
              "ticks": ""
             }
            },
            "type": "histogram"
           }
          ],
          "histogram2d": [
           {
            "colorbar": {
             "outlinewidth": 0,
             "ticks": ""
            },
            "colorscale": [
             [
              0,
              "#0d0887"
             ],
             [
              0.1111111111111111,
              "#46039f"
             ],
             [
              0.2222222222222222,
              "#7201a8"
             ],
             [
              0.3333333333333333,
              "#9c179e"
             ],
             [
              0.4444444444444444,
              "#bd3786"
             ],
             [
              0.5555555555555556,
              "#d8576b"
             ],
             [
              0.6666666666666666,
              "#ed7953"
             ],
             [
              0.7777777777777778,
              "#fb9f3a"
             ],
             [
              0.8888888888888888,
              "#fdca26"
             ],
             [
              1,
              "#f0f921"
             ]
            ],
            "type": "histogram2d"
           }
          ],
          "histogram2dcontour": [
           {
            "colorbar": {
             "outlinewidth": 0,
             "ticks": ""
            },
            "colorscale": [
             [
              0,
              "#0d0887"
             ],
             [
              0.1111111111111111,
              "#46039f"
             ],
             [
              0.2222222222222222,
              "#7201a8"
             ],
             [
              0.3333333333333333,
              "#9c179e"
             ],
             [
              0.4444444444444444,
              "#bd3786"
             ],
             [
              0.5555555555555556,
              "#d8576b"
             ],
             [
              0.6666666666666666,
              "#ed7953"
             ],
             [
              0.7777777777777778,
              "#fb9f3a"
             ],
             [
              0.8888888888888888,
              "#fdca26"
             ],
             [
              1,
              "#f0f921"
             ]
            ],
            "type": "histogram2dcontour"
           }
          ],
          "mesh3d": [
           {
            "colorbar": {
             "outlinewidth": 0,
             "ticks": ""
            },
            "type": "mesh3d"
           }
          ],
          "parcoords": [
           {
            "line": {
             "colorbar": {
              "outlinewidth": 0,
              "ticks": ""
             }
            },
            "type": "parcoords"
           }
          ],
          "pie": [
           {
            "automargin": true,
            "type": "pie"
           }
          ],
          "scatter": [
           {
            "marker": {
             "colorbar": {
              "outlinewidth": 0,
              "ticks": ""
             }
            },
            "type": "scatter"
           }
          ],
          "scatter3d": [
           {
            "line": {
             "colorbar": {
              "outlinewidth": 0,
              "ticks": ""
             }
            },
            "marker": {
             "colorbar": {
              "outlinewidth": 0,
              "ticks": ""
             }
            },
            "type": "scatter3d"
           }
          ],
          "scattercarpet": [
           {
            "marker": {
             "colorbar": {
              "outlinewidth": 0,
              "ticks": ""
             }
            },
            "type": "scattercarpet"
           }
          ],
          "scattergeo": [
           {
            "marker": {
             "colorbar": {
              "outlinewidth": 0,
              "ticks": ""
             }
            },
            "type": "scattergeo"
           }
          ],
          "scattergl": [
           {
            "marker": {
             "colorbar": {
              "outlinewidth": 0,
              "ticks": ""
             }
            },
            "type": "scattergl"
           }
          ],
          "scattermapbox": [
           {
            "marker": {
             "colorbar": {
              "outlinewidth": 0,
              "ticks": ""
             }
            },
            "type": "scattermapbox"
           }
          ],
          "scatterpolar": [
           {
            "marker": {
             "colorbar": {
              "outlinewidth": 0,
              "ticks": ""
             }
            },
            "type": "scatterpolar"
           }
          ],
          "scatterpolargl": [
           {
            "marker": {
             "colorbar": {
              "outlinewidth": 0,
              "ticks": ""
             }
            },
            "type": "scatterpolargl"
           }
          ],
          "scatterternary": [
           {
            "marker": {
             "colorbar": {
              "outlinewidth": 0,
              "ticks": ""
             }
            },
            "type": "scatterternary"
           }
          ],
          "surface": [
           {
            "colorbar": {
             "outlinewidth": 0,
             "ticks": ""
            },
            "colorscale": [
             [
              0,
              "#0d0887"
             ],
             [
              0.1111111111111111,
              "#46039f"
             ],
             [
              0.2222222222222222,
              "#7201a8"
             ],
             [
              0.3333333333333333,
              "#9c179e"
             ],
             [
              0.4444444444444444,
              "#bd3786"
             ],
             [
              0.5555555555555556,
              "#d8576b"
             ],
             [
              0.6666666666666666,
              "#ed7953"
             ],
             [
              0.7777777777777778,
              "#fb9f3a"
             ],
             [
              0.8888888888888888,
              "#fdca26"
             ],
             [
              1,
              "#f0f921"
             ]
            ],
            "type": "surface"
           }
          ],
          "table": [
           {
            "cells": {
             "fill": {
              "color": "#EBF0F8"
             },
             "line": {
              "color": "white"
             }
            },
            "header": {
             "fill": {
              "color": "#C8D4E3"
             },
             "line": {
              "color": "white"
             }
            },
            "type": "table"
           }
          ]
         },
         "layout": {
          "annotationdefaults": {
           "arrowcolor": "#2a3f5f",
           "arrowhead": 0,
           "arrowwidth": 1
          },
          "autotypenumbers": "strict",
          "coloraxis": {
           "colorbar": {
            "outlinewidth": 0,
            "ticks": ""
           }
          },
          "colorscale": {
           "diverging": [
            [
             0,
             "#8e0152"
            ],
            [
             0.1,
             "#c51b7d"
            ],
            [
             0.2,
             "#de77ae"
            ],
            [
             0.3,
             "#f1b6da"
            ],
            [
             0.4,
             "#fde0ef"
            ],
            [
             0.5,
             "#f7f7f7"
            ],
            [
             0.6,
             "#e6f5d0"
            ],
            [
             0.7,
             "#b8e186"
            ],
            [
             0.8,
             "#7fbc41"
            ],
            [
             0.9,
             "#4d9221"
            ],
            [
             1,
             "#276419"
            ]
           ],
           "sequential": [
            [
             0,
             "#0d0887"
            ],
            [
             0.1111111111111111,
             "#46039f"
            ],
            [
             0.2222222222222222,
             "#7201a8"
            ],
            [
             0.3333333333333333,
             "#9c179e"
            ],
            [
             0.4444444444444444,
             "#bd3786"
            ],
            [
             0.5555555555555556,
             "#d8576b"
            ],
            [
             0.6666666666666666,
             "#ed7953"
            ],
            [
             0.7777777777777778,
             "#fb9f3a"
            ],
            [
             0.8888888888888888,
             "#fdca26"
            ],
            [
             1,
             "#f0f921"
            ]
           ],
           "sequentialminus": [
            [
             0,
             "#0d0887"
            ],
            [
             0.1111111111111111,
             "#46039f"
            ],
            [
             0.2222222222222222,
             "#7201a8"
            ],
            [
             0.3333333333333333,
             "#9c179e"
            ],
            [
             0.4444444444444444,
             "#bd3786"
            ],
            [
             0.5555555555555556,
             "#d8576b"
            ],
            [
             0.6666666666666666,
             "#ed7953"
            ],
            [
             0.7777777777777778,
             "#fb9f3a"
            ],
            [
             0.8888888888888888,
             "#fdca26"
            ],
            [
             1,
             "#f0f921"
            ]
           ]
          },
          "colorway": [
           "#636efa",
           "#EF553B",
           "#00cc96",
           "#ab63fa",
           "#FFA15A",
           "#19d3f3",
           "#FF6692",
           "#B6E880",
           "#FF97FF",
           "#FECB52"
          ],
          "font": {
           "color": "#2a3f5f"
          },
          "geo": {
           "bgcolor": "white",
           "lakecolor": "white",
           "landcolor": "#E5ECF6",
           "showlakes": true,
           "showland": true,
           "subunitcolor": "white"
          },
          "hoverlabel": {
           "align": "left"
          },
          "hovermode": "closest",
          "mapbox": {
           "style": "light"
          },
          "paper_bgcolor": "white",
          "plot_bgcolor": "#E5ECF6",
          "polar": {
           "angularaxis": {
            "gridcolor": "white",
            "linecolor": "white",
            "ticks": ""
           },
           "bgcolor": "#E5ECF6",
           "radialaxis": {
            "gridcolor": "white",
            "linecolor": "white",
            "ticks": ""
           }
          },
          "scene": {
           "xaxis": {
            "backgroundcolor": "#E5ECF6",
            "gridcolor": "white",
            "gridwidth": 2,
            "linecolor": "white",
            "showbackground": true,
            "ticks": "",
            "zerolinecolor": "white"
           },
           "yaxis": {
            "backgroundcolor": "#E5ECF6",
            "gridcolor": "white",
            "gridwidth": 2,
            "linecolor": "white",
            "showbackground": true,
            "ticks": "",
            "zerolinecolor": "white"
           },
           "zaxis": {
            "backgroundcolor": "#E5ECF6",
            "gridcolor": "white",
            "gridwidth": 2,
            "linecolor": "white",
            "showbackground": true,
            "ticks": "",
            "zerolinecolor": "white"
           }
          },
          "shapedefaults": {
           "line": {
            "color": "#2a3f5f"
           }
          },
          "ternary": {
           "aaxis": {
            "gridcolor": "white",
            "linecolor": "white",
            "ticks": ""
           },
           "baxis": {
            "gridcolor": "white",
            "linecolor": "white",
            "ticks": ""
           },
           "bgcolor": "#E5ECF6",
           "caxis": {
            "gridcolor": "white",
            "linecolor": "white",
            "ticks": ""
           }
          },
          "title": {
           "x": 0.05
          },
          "xaxis": {
           "automargin": true,
           "gridcolor": "white",
           "linecolor": "white",
           "ticks": "",
           "title": {
            "standoff": 15
           },
           "zerolinecolor": "white",
           "zerolinewidth": 2
          },
          "yaxis": {
           "automargin": true,
           "gridcolor": "white",
           "linecolor": "white",
           "ticks": "",
           "title": {
            "standoff": 15
           },
           "zerolinecolor": "white",
           "zerolinewidth": 2
          }
         }
        },
        "title": {
         "text": "Vorhergesagte E.coli Konzentration seit Beginn der Badesaison 2020"
        },
        "yaxis": {
         "title": {
          "text": "E.coli lg [MPN/100ML), showlegend = True"
         }
        }
       }
      },
      "text/html": [
       "<div>                            <div id=\"99bbefad-c845-4903-8f41-2c70e8fcb37a\" class=\"plotly-graph-div\" style=\"height:525px; width:100%;\"></div>            <script type=\"text/javascript\">                require([\"plotly\"], function(Plotly) {                    window.PLOTLYENV=window.PLOTLYENV || {};                                    if (document.getElementById(\"99bbefad-c845-4903-8f41-2c70e8fcb37a\")) {                    Plotly.newPlot(                        \"99bbefad-c845-4903-8f41-2c70e8fcb37a\",                        [{\"line\": {\"color\": \"rgba(68, 68, 68, 1)\", \"width\": 0.5}, \"mode\": \"lines\", \"name\": \"Unteres Vorhersageintervall\", \"type\": \"scatter\", \"x\": [1.0, 2.0, 3.0, 4.0, 5.0, 6.0, 7.0, 8.0, 9.0, 10.0, 11.0, 12.0, 13.0, 14.0, 15.0, 16.0, 17.0, 18.0, 19.0, 20.0, 21.0, 22.0, 23.0, 24.0, 25.0, 26.0, 27.0, 28.0, 29.0, 30.0, 31.0, 32.0, 33.0, 34.0, 35.0, 36.0, 37.0, 38.0, 39.0, 40.0, 41.0, 42.0, 43.0, 44.0, 45.0, 46.0, 47.0, 48.0, 49.0, 50.0, 51.0, 52.0, 53.0, 54.0, 55.0, 56.0, 57.0, 58.0, 59.0, 60.0, 61.0, 62.0, 63.0, 64.0, 65.0, 66.0, 67.0, 68.0, 69.0, 70.0, 71.0, 72.0, 73.0, 74.0, 75.0, 76.0, 77.0, 78.0], \"y\": [2.7017772993275684, 2.8334001509744544, 2.682145076373832, 2.586587304671755, 2.225309281725863, 2.287801729930226, 2.294466226161593, 2.5477747053878224, 2.8068580295188172, 3.7137424784090824, 2.574031267727719, 2.4578818967339924, 2.8573324964312685, 2.2068258760318495, 3.000434077479319, 2.8118498720314884, 2.8068580295188172, 2.8068580295188172, 2.209812680443872, 2.9314273691789965, 2.7150014381033425, 2.3283796034387376, 1.8298503118866627, 3.1942367487238292, 2.3016809505748554, 3.000434077479319, 2.590843295539607, 2.306157542038795, 2.7527161300396235, 3.070037866607755, 2.287801729930226, 2.3577230958402953, 2.8068580295188172, 2.9314273691789965, 2.7442929831226763, 2.3263507097633123, 2.2939941092035707, 2.357934847000454, 3.070037866607755, 2.5514499979728753, 3.1051694279993316, 3.025715383901341, 2.747411807886423, 2.5477747053878224, 2.680534389011538, 2.7227242347863787, 2.4578818967339924, 2.4899584794248346, 2.2068258760318495, 2.100370545117563, 1.8298503118866627, 2.7435338371792537, 3.5193028492354284, 3.1180508946306826, 2.287801729930226, 2.6748611407378116, 2.8750612633917, 2.5477278241258863, 2.4899584794248346, 2.225309281725863, 3.7137424784090824, 2.806179973983887, 2.4578818967339924, 2.6127838567197355, 2.3016809505748554, 2.8068580295188172, 2.7563816861937935, 2.598790506763115, 2.727541257028556, 2.7227242347863787, 3.5193028492354284, 2.574031267727719, 2.487017275512122, 2.7442929831226763, 2.3283796034387376, 2.287801729930226, 2.747411807886423, 2.487017275512122]}, {\"fillcolor\": \"rgba(68, 68, 68, 0.1)\", \"line\": {\"color\": \"rgb(0, 86, 110)\", \"width\": 2}, \"marker\": {\"color\": \"rgb(0, 86, 110)\"}, \"mode\": \"lines\", \"name\": \"Vorhergesagter Mittelwert\", \"type\": \"scatter\", \"x\": [1.0, 2.0, 3.0, 4.0, 5.0, 6.0, 7.0, 8.0, 9.0, 10.0, 11.0, 12.0, 13.0, 14.0, 15.0, 16.0, 17.0, 18.0, 19.0, 20.0, 21.0, 22.0, 23.0, 24.0, 25.0, 26.0, 27.0, 28.0, 29.0, 30.0, 31.0, 32.0, 33.0, 34.0, 35.0, 36.0, 37.0, 38.0, 39.0, 40.0, 41.0, 42.0, 43.0, 44.0, 45.0, 46.0, 47.0, 48.0, 49.0, 50.0, 51.0, 52.0, 53.0, 54.0, 55.0, 56.0, 57.0, 58.0, 59.0, 60.0, 61.0, 62.0, 63.0, 64.0, 65.0, 66.0, 67.0, 68.0, 69.0, 70.0, 71.0, 72.0, 73.0, 74.0, 75.0, 76.0, 77.0, 78.0], \"y\": [4.056963941862633, 3.2988413421320666, 2.7778885333232464, 3.337798979580591, 2.448389760745315, 2.6876541831977536, 2.3697874277249777, 2.7180756962610895, 3.5498733344753655, 3.7977454335561496, 3.3195519605207355, 3.200823417984605, 3.05310563341557, 2.568038001343379, 3.387294981544783, 3.7450689226283007, 3.5498733344753655, 2.930671807492254, 3.00101429632261, 3.2839464075070577, 3.1015728805987646, 2.9049565716983348, 2.602462509485968, 3.6445706548355723, 2.9471649434201916, 4.1508256426529035, 2.800845373749532, 3.0664268978766387, 3.6579184381722483, 3.9054166904944636, 2.4334107095380655, 3.4536814585323996, 3.61334874387231, 3.2839464075070577, 3.4836892962235493, 3.1167128088054947, 2.8787143937107555, 2.6255560006965895, 3.880647085877436, 3.020886158377377, 4.335196238535024, 3.475116833039307, 3.065133408844983, 3.445746453191184, 3.045051552570671, 3.579355265339704, 2.8286985018457003, 2.8415328543609304, 2.568038001343379, 2.4455307079563373, 2.602462509485968, 3.5949761889637237, 4.152667073406326, 3.708345392670434, 2.6876541831977536, 2.8522793085433387, 3.587038914868575, 2.836438003932312, 3.2190863335078888, 2.7501712355730996, 3.7977454335561496, 3.257295271636163, 3.5147221853252444, 3.3349865427546583, 2.9471649434201916, 2.930671807492254, 2.9009210626950765, 3.13346363451734, 3.154118042256071, 3.579355265339704, 4.152667073406326, 2.84941095895433, 3.0980501615668214, 2.960959413132449, 3.129941262621332, 2.6998424224529454, 3.6244520420583908, 3.0980501615668214]}, {\"fillcolor\": \"rgba(68, 68, 68, 1)\", \"line\": {\"color\": \"rgba(68, 68, 68, 1)\", \"width\": 0.5}, \"mode\": \"lines\", \"name\": \"Oberes Vorhersageintervall\", \"type\": \"scatter\", \"x\": [1.0, 2.0, 3.0, 4.0, 5.0, 6.0, 7.0, 8.0, 9.0, 10.0, 11.0, 12.0, 13.0, 14.0, 15.0, 16.0, 17.0, 18.0, 19.0, 20.0, 21.0, 22.0, 23.0, 24.0, 25.0, 26.0, 27.0, 28.0, 29.0, 30.0, 31.0, 32.0, 33.0, 34.0, 35.0, 36.0, 37.0, 38.0, 39.0, 40.0, 41.0, 42.0, 43.0, 44.0, 45.0, 46.0, 47.0, 48.0, 49.0, 50.0, 51.0, 52.0, 53.0, 54.0, 55.0, 56.0, 57.0, 58.0, 59.0, 60.0, 61.0, 62.0, 63.0, 64.0, 65.0, 66.0, 67.0, 68.0, 69.0, 70.0, 71.0, 72.0, 73.0, 74.0, 75.0, 76.0, 77.0, 78.0], \"y\": [4.544068044350276, 4.223755453657241, 2.9380190974762104, 4.374216605428374, 3.3261309567107946, 3.265460525618381, 2.9098836374964057, 3.349979266162276, 4.374216605428374, 3.9076263048432662, 3.9039703606077496, 4.544068044350276, 3.8070529554790156, 2.9052607738445166, 3.7137424784090824, 4.2954131455196585, 4.374216605428374, 3.1322596895310446, 4.544068044350276, 3.5341530741850624, 3.256236533205923, 3.7567881987681178, 3.534153074185062, 4.101506496139928, 3.7758288144646124, 4.544068044350276, 3.584670384464349, 3.2982129765349226, 4.14188854970586, 4.374216605428374, 3.0881360887005513, 4.547704117446809, 4.357458385645036, 3.5341530741850624, 4.374216605428374, 4.544068044350276, 4.317958924700952, 3.1322596895310446, 4.544068044350276, 3.7019994748896368, 4.683182171097453, 4.374216605428374, 3.148178768363637, 4.544068044350276, 3.2641091563058082, 3.8886510176801883, 4.544068044350276, 3.388116082432852, 2.9052607738445166, 2.747411807886423, 3.534153074185062, 4.317958924700952, 4.551340190543342, 3.7757560378440984, 3.265460525618381, 3.256236533205923, 3.7758288144646124, 3.000434077479319, 4.101506496139928, 3.4726376166095716, 3.9076263048432662, 3.4569495051254866, 4.546976902827502, 3.775756037844098, 3.7758288144646124, 3.1322596895310446, 3.256236533205923, 3.9076263048432662, 3.2641091563058082, 3.8886510176801883, 4.551340190543342, 3.683085330478792, 3.7763713964012133, 3.256236533205923, 4.544068044350276, 3.5169913352339, 4.101506496139928, 3.7763713964012133]}, {\"fillcolor\": \"rgba(68, 68, 68, 0.1)\", \"line\": {\"color\": \"red\", \"width\": 2}, \"marker\": {\"color\": \"orange\", \"opacity\": 0.8, \"size\": 8}, \"mode\": \"markers\", \"name\": \"Vorhergesagter Mittelwert\", \"type\": \"scatter\", \"x\": [1.0, 2.0, 3.0, 4.0, 5.0, 6.0, 7.0, 8.0, 9.0, 10.0, 11.0, 12.0, 13.0, 14.0, 15.0, 16.0, 17.0, 18.0, 19.0, 20.0, 21.0, 22.0, 23.0, 24.0, 25.0, 26.0, 27.0, 28.0, 29.0, 30.0, 31.0, 32.0, 33.0, 34.0, 35.0, 36.0, 37.0, 38.0, 39.0, 40.0, 41.0, 42.0, 43.0, 44.0, 45.0, 46.0, 47.0, 48.0, 49.0, 50.0, 51.0, 52.0, 53.0, 54.0, 55.0, 56.0, 57.0, 58.0, 59.0, 60.0, 61.0, 62.0, 63.0, 64.0, 65.0, 66.0, 67.0, 68.0, 69.0, 70.0, 71.0, 72.0, 73.0, 74.0, 75.0, 76.0, 77.0, 78.0], \"y\": [3.643945912748067, 3.000434077479319, 2.5943925503754266, 4.544068044350276, 2.4885507165004443, 2.5477747053878224, 3.1942367487238292, 2.287801729930226, 3.651762447380111, 4.16354896490181, 2.7442929831226763, 2.155336037465062, 2.7442929831226763, 2.481442628502305, 3.325925955771466, 3.3261309567107946, 3.6534054906645013, 3.1743505974793798, 2.7867514221455614, 3.4500950758716025, 2.3324384599156054, 2.3961993470957363, 3.000434077479319, 3.3879234669734366, 2.164352855784437, 4.544068044350276, 2.503790683057181, 3.651762447380111, 3.2643455070500926, 3.325925955771466, 2.247973266361807, 3.651762447380111, 2.938519725176492, 3.070037866607755, 2.884795363948981, 2.6127838567197355, 3.775756037844098, 2.8068580295188172, 3.8516863154424277, 2.663700925389648, 4.101540872558349, 4.544068044350276, 2.7589118923979736, 3.2638726768652235, 3.3261309567107946, 3.1942367487238292, 2.938519725176492, 3.1942367487238292, 2.041392685158225, 3.7137424784090824, 2.7442929831226763, 2.9800033715837464, 4.101506496139928, 2.4183012913197452, 2.5514499979728753, 2.4899584794248346, 3.3283796034387376, 2.2528530309798933, 2.682145076373832, 2.7442929831226763, 3.7285161047597666, 2.893206753059848, 3.9076263048432662, 3.6516656039229356, 2.7781512503836434, 3.2641091563058082, 2.7972675408307164, 2.9380190974762104, 3.0729847446279304, 3.1300119496719043, 3.070037866607755, 2.682145076373832, 3.584670384464349, 3.2641091563058082, 2.403120521175818, 2.6748611407378116, 2.8432327780980096, 3.3881012015705165]}],                        {\"template\": {\"data\": {\"bar\": [{\"error_x\": {\"color\": \"#2a3f5f\"}, \"error_y\": {\"color\": \"#2a3f5f\"}, \"marker\": {\"line\": {\"color\": \"#E5ECF6\", \"width\": 0.5}}, \"type\": \"bar\"}], \"barpolar\": [{\"marker\": {\"line\": {\"color\": \"#E5ECF6\", \"width\": 0.5}}, \"type\": \"barpolar\"}], \"carpet\": [{\"aaxis\": {\"endlinecolor\": \"#2a3f5f\", \"gridcolor\": \"white\", \"linecolor\": \"white\", \"minorgridcolor\": \"white\", \"startlinecolor\": \"#2a3f5f\"}, \"baxis\": {\"endlinecolor\": \"#2a3f5f\", \"gridcolor\": \"white\", \"linecolor\": \"white\", \"minorgridcolor\": \"white\", \"startlinecolor\": \"#2a3f5f\"}, \"type\": \"carpet\"}], \"choropleth\": [{\"colorbar\": {\"outlinewidth\": 0, \"ticks\": \"\"}, \"type\": \"choropleth\"}], \"contour\": [{\"colorbar\": {\"outlinewidth\": 0, \"ticks\": \"\"}, \"colorscale\": [[0.0, \"#0d0887\"], [0.1111111111111111, \"#46039f\"], [0.2222222222222222, \"#7201a8\"], [0.3333333333333333, \"#9c179e\"], [0.4444444444444444, \"#bd3786\"], [0.5555555555555556, \"#d8576b\"], [0.6666666666666666, \"#ed7953\"], [0.7777777777777778, \"#fb9f3a\"], [0.8888888888888888, \"#fdca26\"], [1.0, \"#f0f921\"]], \"type\": \"contour\"}], \"contourcarpet\": [{\"colorbar\": {\"outlinewidth\": 0, \"ticks\": \"\"}, \"type\": \"contourcarpet\"}], \"heatmap\": [{\"colorbar\": {\"outlinewidth\": 0, \"ticks\": \"\"}, \"colorscale\": [[0.0, \"#0d0887\"], [0.1111111111111111, \"#46039f\"], [0.2222222222222222, \"#7201a8\"], [0.3333333333333333, \"#9c179e\"], [0.4444444444444444, \"#bd3786\"], [0.5555555555555556, \"#d8576b\"], [0.6666666666666666, \"#ed7953\"], [0.7777777777777778, \"#fb9f3a\"], [0.8888888888888888, \"#fdca26\"], [1.0, \"#f0f921\"]], \"type\": \"heatmap\"}], \"heatmapgl\": [{\"colorbar\": {\"outlinewidth\": 0, \"ticks\": \"\"}, \"colorscale\": [[0.0, \"#0d0887\"], [0.1111111111111111, \"#46039f\"], [0.2222222222222222, \"#7201a8\"], [0.3333333333333333, \"#9c179e\"], [0.4444444444444444, \"#bd3786\"], [0.5555555555555556, \"#d8576b\"], [0.6666666666666666, \"#ed7953\"], [0.7777777777777778, \"#fb9f3a\"], [0.8888888888888888, \"#fdca26\"], [1.0, \"#f0f921\"]], \"type\": \"heatmapgl\"}], \"histogram\": [{\"marker\": {\"colorbar\": {\"outlinewidth\": 0, \"ticks\": \"\"}}, \"type\": \"histogram\"}], \"histogram2d\": [{\"colorbar\": {\"outlinewidth\": 0, \"ticks\": \"\"}, \"colorscale\": [[0.0, \"#0d0887\"], [0.1111111111111111, \"#46039f\"], [0.2222222222222222, \"#7201a8\"], [0.3333333333333333, \"#9c179e\"], [0.4444444444444444, \"#bd3786\"], [0.5555555555555556, \"#d8576b\"], [0.6666666666666666, \"#ed7953\"], [0.7777777777777778, \"#fb9f3a\"], [0.8888888888888888, \"#fdca26\"], [1.0, \"#f0f921\"]], \"type\": \"histogram2d\"}], \"histogram2dcontour\": [{\"colorbar\": {\"outlinewidth\": 0, \"ticks\": \"\"}, \"colorscale\": [[0.0, \"#0d0887\"], [0.1111111111111111, \"#46039f\"], [0.2222222222222222, \"#7201a8\"], [0.3333333333333333, \"#9c179e\"], [0.4444444444444444, \"#bd3786\"], [0.5555555555555556, \"#d8576b\"], [0.6666666666666666, \"#ed7953\"], [0.7777777777777778, \"#fb9f3a\"], [0.8888888888888888, \"#fdca26\"], [1.0, \"#f0f921\"]], \"type\": \"histogram2dcontour\"}], \"mesh3d\": [{\"colorbar\": {\"outlinewidth\": 0, \"ticks\": \"\"}, \"type\": \"mesh3d\"}], \"parcoords\": [{\"line\": {\"colorbar\": {\"outlinewidth\": 0, \"ticks\": \"\"}}, \"type\": \"parcoords\"}], \"pie\": [{\"automargin\": true, \"type\": \"pie\"}], \"scatter\": [{\"marker\": {\"colorbar\": {\"outlinewidth\": 0, \"ticks\": \"\"}}, \"type\": \"scatter\"}], \"scatter3d\": [{\"line\": {\"colorbar\": {\"outlinewidth\": 0, \"ticks\": \"\"}}, \"marker\": {\"colorbar\": {\"outlinewidth\": 0, \"ticks\": \"\"}}, \"type\": \"scatter3d\"}], \"scattercarpet\": [{\"marker\": {\"colorbar\": {\"outlinewidth\": 0, \"ticks\": \"\"}}, \"type\": \"scattercarpet\"}], \"scattergeo\": [{\"marker\": {\"colorbar\": {\"outlinewidth\": 0, \"ticks\": \"\"}}, \"type\": \"scattergeo\"}], \"scattergl\": [{\"marker\": {\"colorbar\": {\"outlinewidth\": 0, \"ticks\": \"\"}}, \"type\": \"scattergl\"}], \"scattermapbox\": [{\"marker\": {\"colorbar\": {\"outlinewidth\": 0, \"ticks\": \"\"}}, \"type\": \"scattermapbox\"}], \"scatterpolar\": [{\"marker\": {\"colorbar\": {\"outlinewidth\": 0, \"ticks\": \"\"}}, \"type\": \"scatterpolar\"}], \"scatterpolargl\": [{\"marker\": {\"colorbar\": {\"outlinewidth\": 0, \"ticks\": \"\"}}, \"type\": \"scatterpolargl\"}], \"scatterternary\": [{\"marker\": {\"colorbar\": {\"outlinewidth\": 0, \"ticks\": \"\"}}, \"type\": \"scatterternary\"}], \"surface\": [{\"colorbar\": {\"outlinewidth\": 0, \"ticks\": \"\"}, \"colorscale\": [[0.0, \"#0d0887\"], [0.1111111111111111, \"#46039f\"], [0.2222222222222222, \"#7201a8\"], [0.3333333333333333, \"#9c179e\"], [0.4444444444444444, \"#bd3786\"], [0.5555555555555556, \"#d8576b\"], [0.6666666666666666, \"#ed7953\"], [0.7777777777777778, \"#fb9f3a\"], [0.8888888888888888, \"#fdca26\"], [1.0, \"#f0f921\"]], \"type\": \"surface\"}], \"table\": [{\"cells\": {\"fill\": {\"color\": \"#EBF0F8\"}, \"line\": {\"color\": \"white\"}}, \"header\": {\"fill\": {\"color\": \"#C8D4E3\"}, \"line\": {\"color\": \"white\"}}, \"type\": \"table\"}]}, \"layout\": {\"annotationdefaults\": {\"arrowcolor\": \"#2a3f5f\", \"arrowhead\": 0, \"arrowwidth\": 1}, \"autotypenumbers\": \"strict\", \"coloraxis\": {\"colorbar\": {\"outlinewidth\": 0, \"ticks\": \"\"}}, \"colorscale\": {\"diverging\": [[0, \"#8e0152\"], [0.1, \"#c51b7d\"], [0.2, \"#de77ae\"], [0.3, \"#f1b6da\"], [0.4, \"#fde0ef\"], [0.5, \"#f7f7f7\"], [0.6, \"#e6f5d0\"], [0.7, \"#b8e186\"], [0.8, \"#7fbc41\"], [0.9, \"#4d9221\"], [1, \"#276419\"]], \"sequential\": [[0.0, \"#0d0887\"], [0.1111111111111111, \"#46039f\"], [0.2222222222222222, \"#7201a8\"], [0.3333333333333333, \"#9c179e\"], [0.4444444444444444, \"#bd3786\"], [0.5555555555555556, \"#d8576b\"], [0.6666666666666666, \"#ed7953\"], [0.7777777777777778, \"#fb9f3a\"], [0.8888888888888888, \"#fdca26\"], [1.0, \"#f0f921\"]], \"sequentialminus\": [[0.0, \"#0d0887\"], [0.1111111111111111, \"#46039f\"], [0.2222222222222222, \"#7201a8\"], [0.3333333333333333, \"#9c179e\"], [0.4444444444444444, \"#bd3786\"], [0.5555555555555556, \"#d8576b\"], [0.6666666666666666, \"#ed7953\"], [0.7777777777777778, \"#fb9f3a\"], [0.8888888888888888, \"#fdca26\"], [1.0, \"#f0f921\"]]}, \"colorway\": [\"#636efa\", \"#EF553B\", \"#00cc96\", \"#ab63fa\", \"#FFA15A\", \"#19d3f3\", \"#FF6692\", \"#B6E880\", \"#FF97FF\", \"#FECB52\"], \"font\": {\"color\": \"#2a3f5f\"}, \"geo\": {\"bgcolor\": \"white\", \"lakecolor\": \"white\", \"landcolor\": \"#E5ECF6\", \"showlakes\": true, \"showland\": true, \"subunitcolor\": \"white\"}, \"hoverlabel\": {\"align\": \"left\"}, \"hovermode\": \"closest\", \"mapbox\": {\"style\": \"light\"}, \"paper_bgcolor\": \"white\", \"plot_bgcolor\": \"#E5ECF6\", \"polar\": {\"angularaxis\": {\"gridcolor\": \"white\", \"linecolor\": \"white\", \"ticks\": \"\"}, \"bgcolor\": \"#E5ECF6\", \"radialaxis\": {\"gridcolor\": \"white\", \"linecolor\": \"white\", \"ticks\": \"\"}}, \"scene\": {\"xaxis\": {\"backgroundcolor\": \"#E5ECF6\", \"gridcolor\": \"white\", \"gridwidth\": 2, \"linecolor\": \"white\", \"showbackground\": true, \"ticks\": \"\", \"zerolinecolor\": \"white\"}, \"yaxis\": {\"backgroundcolor\": \"#E5ECF6\", \"gridcolor\": \"white\", \"gridwidth\": 2, \"linecolor\": \"white\", \"showbackground\": true, \"ticks\": \"\", \"zerolinecolor\": \"white\"}, \"zaxis\": {\"backgroundcolor\": \"#E5ECF6\", \"gridcolor\": \"white\", \"gridwidth\": 2, \"linecolor\": \"white\", \"showbackground\": true, \"ticks\": \"\", \"zerolinecolor\": \"white\"}}, \"shapedefaults\": {\"line\": {\"color\": \"#2a3f5f\"}}, \"ternary\": {\"aaxis\": {\"gridcolor\": \"white\", \"linecolor\": \"white\", \"ticks\": \"\"}, \"baxis\": {\"gridcolor\": \"white\", \"linecolor\": \"white\", \"ticks\": \"\"}, \"bgcolor\": \"#E5ECF6\", \"caxis\": {\"gridcolor\": \"white\", \"linecolor\": \"white\", \"ticks\": \"\"}}, \"title\": {\"x\": 0.05}, \"xaxis\": {\"automargin\": true, \"gridcolor\": \"white\", \"linecolor\": \"white\", \"ticks\": \"\", \"title\": {\"standoff\": 15}, \"zerolinecolor\": \"white\", \"zerolinewidth\": 2}, \"yaxis\": {\"automargin\": true, \"gridcolor\": \"white\", \"linecolor\": \"white\", \"ticks\": \"\", \"title\": {\"standoff\": 15}, \"zerolinecolor\": \"white\", \"zerolinewidth\": 2}}}, \"title\": {\"text\": \"Vorhergesagte E.coli Konzentration seit Beginn der Badesaison 2020\"}, \"yaxis\": {\"title\": {\"text\": \"E.coli lg [MPN/100ML), showlegend = True\"}}},                        {\"responsive\": true}                    ).then(function(){\n",
       "                            \n",
       "var gd = document.getElementById('99bbefad-c845-4903-8f41-2c70e8fcb37a');\n",
       "var x = new MutationObserver(function (mutations, observer) {{\n",
       "        var display = window.getComputedStyle(gd).display;\n",
       "        if (!display || display === 'none') {{\n",
       "            console.log([gd, 'removed!']);\n",
       "            Plotly.purge(gd);\n",
       "            observer.disconnect();\n",
       "        }}\n",
       "}});\n",
       "\n",
       "// Listen for the removal of the full notebook cells\n",
       "var notebookContainer = gd.closest('#notebook-container');\n",
       "if (notebookContainer) {{\n",
       "    x.observe(notebookContainer, {childList: true});\n",
       "}}\n",
       "\n",
       "// Listen for the clearing of the current output cell\n",
       "var outputEl = gd.closest('.output');\n",
       "if (outputEl) {{\n",
       "    x.observe(outputEl, {childList: true});\n",
       "}}\n",
       "\n",
       "                        })                };                });            </script>        </div>"
      ]
     },
     "metadata": {},
     "output_type": "display_data"
    }
   ],
   "source": [
    "import plotly.graph_objects as go\n",
    "\n",
    "upper_bound = go.Scatter(name=\"Oberes Vorhersageintervall\",\n",
    "x= df[\"sample_number\"],\n",
    "y = df[\"P95\"],\n",
    "mode=\"lines\",\n",
    "line=dict(width=0.5, color=\"rgba(68, 68, 68, 1)\"),\n",
    "fillcolor=\"rgba(68, 68, 68, 1)\")#, fill=\"tonexty\")\n",
    "\n",
    "mean = go.Scatter(name=\"Vorhergesagter Mittelwert\",\n",
    "x= df[\"sample_number\"],\n",
    "y=df[\"mean\"],\n",
    "marker = dict(color = \"rgb(0, 86, 110)\"),\n",
    "mode=\"lines\",\n",
    "line=dict(width=2, color= \"rgb(0, 86, 110)\"),\n",
    "fillcolor=\"rgba(68, 68, 68, 0.1)\")#, fill=\"tonexty\")\n",
    "\n",
    "measurements = go.Scatter(name=\"Vorhergesagter Mittelwert\",\n",
    "x= df[\"sample_number\"],\n",
    "y=df[\"y_test\"],\n",
    "marker = dict(color = \"orange\", size = 8, opacity = .8),\n",
    "mode=\"markers\",\n",
    "line=dict(width=2, color= \"red\"),\n",
    "fillcolor=\"rgba(68, 68, 68, 0.1)\")#, fill=\"tonexty\")\n",
    "\n",
    "\n",
    "\n",
    "lower_bound = go.Scatter(name=\"Unteres Vorhersageintervall\",\n",
    "x=df[\"sample_number\"],\n",
    "y=df[\"P5\"],\n",
    "mode=\"lines\",\n",
    "line=dict(width=0.5, color=\"rgba(68, 68, 68, 1)\"))\n",
    "\n",
    "data = [lower_bound, mean, upper_bound, measurements]\n",
    "\n",
    "layout=go.Layout(title='Vorhergesagte E.coli Konzentration seit Beginn der Badesaison 2020',\n",
    "yaxis=dict(title=\"E.coli lg [MPN/100ML), showlegend = True\"))\n",
    "\n",
    "fig=go.Figure(data=data, layout = layout)\n",
    "#fig.update_layout(legend=dict(\n",
    "#    yanchor=\"top\",\n",
    "#    title=None,\n",
    "#    y=0.99,\n",
    "#    xanchor=\"left\",\n",
    "#    x=0.01\n",
    "#))\n",
    "\n",
    "fig.show()"
   ]
  },
  {
   "cell_type": "code",
   "execution_count": 374,
   "id": "animated-joint",
   "metadata": {},
   "outputs": [
    {
     "data": {
      "application/vnd.plotly.v1+json": {
       "config": {
        "plotlyServerURL": "https://plot.ly"
       },
       "data": [
        {
         "alignmentgroup": "True",
         "bingroup": "x",
         "hovertemplate": "x=%{x}<br>count=%{y}<extra></extra>",
         "legendgroup": "",
         "marker": {
          "color": "#636efa"
         },
         "name": "",
         "offsetgroup": "",
         "orientation": "v",
         "showlegend": false,
         "type": "histogram",
         "x": [
          -0.413018029114566,
          -0.2984072646527478,
          -0.18349598294781977,
          1.2062690647696845,
          0.04016095575512946,
          -0.13987947780993126,
          0.8244493209988515,
          -0.43027396633086346,
          0.10188911290474545,
          0.36580353134566,
          -0.5752589773980592,
          -1.045487380519543,
          -0.30881265029289384,
          -0.08659537284107399,
          -0.06136902577331682,
          -0.4189379659175061,
          0.1035321561891358,
          0.24367878998712555,
          -0.2142628741770487,
          0.16614866836454478,
          -0.7691344206831592,
          -0.5087572246025984,
          0.39797156799335065,
          -0.2566471878621357,
          -0.7828120876357545,
          0.3932424016973721,
          -0.297054690692351,
          0.5853355495034722,
          -0.39357293112215563,
          -0.5794907347229974,
          -0.18543744317625865,
          0.1980809888477113,
          -0.6748290186958181,
          -0.21390854089930267,
          -0.5988939322745681,
          -0.5039289520857593,
          0.8970416441333424,
          0.1813020288222278,
          -0.02896077043500833,
          -0.357185232987729,
          -0.23365536597667447,
          1.0689512113109685,
          -0.30622151644700946,
          -0.18187377632596036,
          0.28107940414012367,
          -0.3851185166158748,
          0.1098212233307918,
          0.35270389436289884,
          -0.5266453161851539,
          1.2682117704527451,
          0.1418304736367082,
          -0.6149728173799773,
          -0.05116057726639767,
          -1.2900441013506887,
          -0.13620418522487832,
          -0.36232082911850405,
          -0.2586593114298372,
          -0.5835849729524187,
          -0.5369412571340568,
          -0.0058782524504232825,
          -0.069229328796383,
          -0.36408851857631497,
          0.39290411951802184,
          0.31667906116827726,
          -0.16901369303654823,
          0.333437348813554,
          -0.10365352186436017,
          -0.19544453704112952,
          -0.0811332976281407,
          -0.4493433156677997,
          -1.0826292067985706,
          -0.16726588258049802,
          0.4866202228975274,
          0.3031497431733592,
          -0.7268207414455139,
          -0.024981281715133807,
          -0.7812192639603812,
          0.2900510400036951
         ],
         "xaxis": "x",
         "yaxis": "y"
        }
       ],
       "layout": {
        "barmode": "relative",
        "legend": {
         "tracegroupgap": 0
        },
        "margin": {
         "t": 60
        },
        "template": {
         "data": {
          "bar": [
           {
            "error_x": {
             "color": "#2a3f5f"
            },
            "error_y": {
             "color": "#2a3f5f"
            },
            "marker": {
             "line": {
              "color": "#E5ECF6",
              "width": 0.5
             }
            },
            "type": "bar"
           }
          ],
          "barpolar": [
           {
            "marker": {
             "line": {
              "color": "#E5ECF6",
              "width": 0.5
             }
            },
            "type": "barpolar"
           }
          ],
          "carpet": [
           {
            "aaxis": {
             "endlinecolor": "#2a3f5f",
             "gridcolor": "white",
             "linecolor": "white",
             "minorgridcolor": "white",
             "startlinecolor": "#2a3f5f"
            },
            "baxis": {
             "endlinecolor": "#2a3f5f",
             "gridcolor": "white",
             "linecolor": "white",
             "minorgridcolor": "white",
             "startlinecolor": "#2a3f5f"
            },
            "type": "carpet"
           }
          ],
          "choropleth": [
           {
            "colorbar": {
             "outlinewidth": 0,
             "ticks": ""
            },
            "type": "choropleth"
           }
          ],
          "contour": [
           {
            "colorbar": {
             "outlinewidth": 0,
             "ticks": ""
            },
            "colorscale": [
             [
              0,
              "#0d0887"
             ],
             [
              0.1111111111111111,
              "#46039f"
             ],
             [
              0.2222222222222222,
              "#7201a8"
             ],
             [
              0.3333333333333333,
              "#9c179e"
             ],
             [
              0.4444444444444444,
              "#bd3786"
             ],
             [
              0.5555555555555556,
              "#d8576b"
             ],
             [
              0.6666666666666666,
              "#ed7953"
             ],
             [
              0.7777777777777778,
              "#fb9f3a"
             ],
             [
              0.8888888888888888,
              "#fdca26"
             ],
             [
              1,
              "#f0f921"
             ]
            ],
            "type": "contour"
           }
          ],
          "contourcarpet": [
           {
            "colorbar": {
             "outlinewidth": 0,
             "ticks": ""
            },
            "type": "contourcarpet"
           }
          ],
          "heatmap": [
           {
            "colorbar": {
             "outlinewidth": 0,
             "ticks": ""
            },
            "colorscale": [
             [
              0,
              "#0d0887"
             ],
             [
              0.1111111111111111,
              "#46039f"
             ],
             [
              0.2222222222222222,
              "#7201a8"
             ],
             [
              0.3333333333333333,
              "#9c179e"
             ],
             [
              0.4444444444444444,
              "#bd3786"
             ],
             [
              0.5555555555555556,
              "#d8576b"
             ],
             [
              0.6666666666666666,
              "#ed7953"
             ],
             [
              0.7777777777777778,
              "#fb9f3a"
             ],
             [
              0.8888888888888888,
              "#fdca26"
             ],
             [
              1,
              "#f0f921"
             ]
            ],
            "type": "heatmap"
           }
          ],
          "heatmapgl": [
           {
            "colorbar": {
             "outlinewidth": 0,
             "ticks": ""
            },
            "colorscale": [
             [
              0,
              "#0d0887"
             ],
             [
              0.1111111111111111,
              "#46039f"
             ],
             [
              0.2222222222222222,
              "#7201a8"
             ],
             [
              0.3333333333333333,
              "#9c179e"
             ],
             [
              0.4444444444444444,
              "#bd3786"
             ],
             [
              0.5555555555555556,
              "#d8576b"
             ],
             [
              0.6666666666666666,
              "#ed7953"
             ],
             [
              0.7777777777777778,
              "#fb9f3a"
             ],
             [
              0.8888888888888888,
              "#fdca26"
             ],
             [
              1,
              "#f0f921"
             ]
            ],
            "type": "heatmapgl"
           }
          ],
          "histogram": [
           {
            "marker": {
             "colorbar": {
              "outlinewidth": 0,
              "ticks": ""
             }
            },
            "type": "histogram"
           }
          ],
          "histogram2d": [
           {
            "colorbar": {
             "outlinewidth": 0,
             "ticks": ""
            },
            "colorscale": [
             [
              0,
              "#0d0887"
             ],
             [
              0.1111111111111111,
              "#46039f"
             ],
             [
              0.2222222222222222,
              "#7201a8"
             ],
             [
              0.3333333333333333,
              "#9c179e"
             ],
             [
              0.4444444444444444,
              "#bd3786"
             ],
             [
              0.5555555555555556,
              "#d8576b"
             ],
             [
              0.6666666666666666,
              "#ed7953"
             ],
             [
              0.7777777777777778,
              "#fb9f3a"
             ],
             [
              0.8888888888888888,
              "#fdca26"
             ],
             [
              1,
              "#f0f921"
             ]
            ],
            "type": "histogram2d"
           }
          ],
          "histogram2dcontour": [
           {
            "colorbar": {
             "outlinewidth": 0,
             "ticks": ""
            },
            "colorscale": [
             [
              0,
              "#0d0887"
             ],
             [
              0.1111111111111111,
              "#46039f"
             ],
             [
              0.2222222222222222,
              "#7201a8"
             ],
             [
              0.3333333333333333,
              "#9c179e"
             ],
             [
              0.4444444444444444,
              "#bd3786"
             ],
             [
              0.5555555555555556,
              "#d8576b"
             ],
             [
              0.6666666666666666,
              "#ed7953"
             ],
             [
              0.7777777777777778,
              "#fb9f3a"
             ],
             [
              0.8888888888888888,
              "#fdca26"
             ],
             [
              1,
              "#f0f921"
             ]
            ],
            "type": "histogram2dcontour"
           }
          ],
          "mesh3d": [
           {
            "colorbar": {
             "outlinewidth": 0,
             "ticks": ""
            },
            "type": "mesh3d"
           }
          ],
          "parcoords": [
           {
            "line": {
             "colorbar": {
              "outlinewidth": 0,
              "ticks": ""
             }
            },
            "type": "parcoords"
           }
          ],
          "pie": [
           {
            "automargin": true,
            "type": "pie"
           }
          ],
          "scatter": [
           {
            "marker": {
             "colorbar": {
              "outlinewidth": 0,
              "ticks": ""
             }
            },
            "type": "scatter"
           }
          ],
          "scatter3d": [
           {
            "line": {
             "colorbar": {
              "outlinewidth": 0,
              "ticks": ""
             }
            },
            "marker": {
             "colorbar": {
              "outlinewidth": 0,
              "ticks": ""
             }
            },
            "type": "scatter3d"
           }
          ],
          "scattercarpet": [
           {
            "marker": {
             "colorbar": {
              "outlinewidth": 0,
              "ticks": ""
             }
            },
            "type": "scattercarpet"
           }
          ],
          "scattergeo": [
           {
            "marker": {
             "colorbar": {
              "outlinewidth": 0,
              "ticks": ""
             }
            },
            "type": "scattergeo"
           }
          ],
          "scattergl": [
           {
            "marker": {
             "colorbar": {
              "outlinewidth": 0,
              "ticks": ""
             }
            },
            "type": "scattergl"
           }
          ],
          "scattermapbox": [
           {
            "marker": {
             "colorbar": {
              "outlinewidth": 0,
              "ticks": ""
             }
            },
            "type": "scattermapbox"
           }
          ],
          "scatterpolar": [
           {
            "marker": {
             "colorbar": {
              "outlinewidth": 0,
              "ticks": ""
             }
            },
            "type": "scatterpolar"
           }
          ],
          "scatterpolargl": [
           {
            "marker": {
             "colorbar": {
              "outlinewidth": 0,
              "ticks": ""
             }
            },
            "type": "scatterpolargl"
           }
          ],
          "scatterternary": [
           {
            "marker": {
             "colorbar": {
              "outlinewidth": 0,
              "ticks": ""
             }
            },
            "type": "scatterternary"
           }
          ],
          "surface": [
           {
            "colorbar": {
             "outlinewidth": 0,
             "ticks": ""
            },
            "colorscale": [
             [
              0,
              "#0d0887"
             ],
             [
              0.1111111111111111,
              "#46039f"
             ],
             [
              0.2222222222222222,
              "#7201a8"
             ],
             [
              0.3333333333333333,
              "#9c179e"
             ],
             [
              0.4444444444444444,
              "#bd3786"
             ],
             [
              0.5555555555555556,
              "#d8576b"
             ],
             [
              0.6666666666666666,
              "#ed7953"
             ],
             [
              0.7777777777777778,
              "#fb9f3a"
             ],
             [
              0.8888888888888888,
              "#fdca26"
             ],
             [
              1,
              "#f0f921"
             ]
            ],
            "type": "surface"
           }
          ],
          "table": [
           {
            "cells": {
             "fill": {
              "color": "#EBF0F8"
             },
             "line": {
              "color": "white"
             }
            },
            "header": {
             "fill": {
              "color": "#C8D4E3"
             },
             "line": {
              "color": "white"
             }
            },
            "type": "table"
           }
          ]
         },
         "layout": {
          "annotationdefaults": {
           "arrowcolor": "#2a3f5f",
           "arrowhead": 0,
           "arrowwidth": 1
          },
          "autotypenumbers": "strict",
          "coloraxis": {
           "colorbar": {
            "outlinewidth": 0,
            "ticks": ""
           }
          },
          "colorscale": {
           "diverging": [
            [
             0,
             "#8e0152"
            ],
            [
             0.1,
             "#c51b7d"
            ],
            [
             0.2,
             "#de77ae"
            ],
            [
             0.3,
             "#f1b6da"
            ],
            [
             0.4,
             "#fde0ef"
            ],
            [
             0.5,
             "#f7f7f7"
            ],
            [
             0.6,
             "#e6f5d0"
            ],
            [
             0.7,
             "#b8e186"
            ],
            [
             0.8,
             "#7fbc41"
            ],
            [
             0.9,
             "#4d9221"
            ],
            [
             1,
             "#276419"
            ]
           ],
           "sequential": [
            [
             0,
             "#0d0887"
            ],
            [
             0.1111111111111111,
             "#46039f"
            ],
            [
             0.2222222222222222,
             "#7201a8"
            ],
            [
             0.3333333333333333,
             "#9c179e"
            ],
            [
             0.4444444444444444,
             "#bd3786"
            ],
            [
             0.5555555555555556,
             "#d8576b"
            ],
            [
             0.6666666666666666,
             "#ed7953"
            ],
            [
             0.7777777777777778,
             "#fb9f3a"
            ],
            [
             0.8888888888888888,
             "#fdca26"
            ],
            [
             1,
             "#f0f921"
            ]
           ],
           "sequentialminus": [
            [
             0,
             "#0d0887"
            ],
            [
             0.1111111111111111,
             "#46039f"
            ],
            [
             0.2222222222222222,
             "#7201a8"
            ],
            [
             0.3333333333333333,
             "#9c179e"
            ],
            [
             0.4444444444444444,
             "#bd3786"
            ],
            [
             0.5555555555555556,
             "#d8576b"
            ],
            [
             0.6666666666666666,
             "#ed7953"
            ],
            [
             0.7777777777777778,
             "#fb9f3a"
            ],
            [
             0.8888888888888888,
             "#fdca26"
            ],
            [
             1,
             "#f0f921"
            ]
           ]
          },
          "colorway": [
           "#636efa",
           "#EF553B",
           "#00cc96",
           "#ab63fa",
           "#FFA15A",
           "#19d3f3",
           "#FF6692",
           "#B6E880",
           "#FF97FF",
           "#FECB52"
          ],
          "font": {
           "color": "#2a3f5f"
          },
          "geo": {
           "bgcolor": "white",
           "lakecolor": "white",
           "landcolor": "#E5ECF6",
           "showlakes": true,
           "showland": true,
           "subunitcolor": "white"
          },
          "hoverlabel": {
           "align": "left"
          },
          "hovermode": "closest",
          "mapbox": {
           "style": "light"
          },
          "paper_bgcolor": "white",
          "plot_bgcolor": "#E5ECF6",
          "polar": {
           "angularaxis": {
            "gridcolor": "white",
            "linecolor": "white",
            "ticks": ""
           },
           "bgcolor": "#E5ECF6",
           "radialaxis": {
            "gridcolor": "white",
            "linecolor": "white",
            "ticks": ""
           }
          },
          "scene": {
           "xaxis": {
            "backgroundcolor": "#E5ECF6",
            "gridcolor": "white",
            "gridwidth": 2,
            "linecolor": "white",
            "showbackground": true,
            "ticks": "",
            "zerolinecolor": "white"
           },
           "yaxis": {
            "backgroundcolor": "#E5ECF6",
            "gridcolor": "white",
            "gridwidth": 2,
            "linecolor": "white",
            "showbackground": true,
            "ticks": "",
            "zerolinecolor": "white"
           },
           "zaxis": {
            "backgroundcolor": "#E5ECF6",
            "gridcolor": "white",
            "gridwidth": 2,
            "linecolor": "white",
            "showbackground": true,
            "ticks": "",
            "zerolinecolor": "white"
           }
          },
          "shapedefaults": {
           "line": {
            "color": "#2a3f5f"
           }
          },
          "ternary": {
           "aaxis": {
            "gridcolor": "white",
            "linecolor": "white",
            "ticks": ""
           },
           "baxis": {
            "gridcolor": "white",
            "linecolor": "white",
            "ticks": ""
           },
           "bgcolor": "#E5ECF6",
           "caxis": {
            "gridcolor": "white",
            "linecolor": "white",
            "ticks": ""
           }
          },
          "title": {
           "x": 0.05
          },
          "xaxis": {
           "automargin": true,
           "gridcolor": "white",
           "linecolor": "white",
           "ticks": "",
           "title": {
            "standoff": 15
           },
           "zerolinecolor": "white",
           "zerolinewidth": 2
          },
          "yaxis": {
           "automargin": true,
           "gridcolor": "white",
           "linecolor": "white",
           "ticks": "",
           "title": {
            "standoff": 15
           },
           "zerolinecolor": "white",
           "zerolinewidth": 2
          }
         }
        },
        "xaxis": {
         "anchor": "y",
         "domain": [
          0,
          1
         ],
         "title": {
          "text": "x"
         }
        },
        "yaxis": {
         "anchor": "x",
         "domain": [
          0,
          1
         ],
         "title": {
          "text": "count"
         }
        }
       }
      },
      "text/html": [
       "<div>                            <div id=\"9d049a72-9088-459c-813c-7b2ddcc16316\" class=\"plotly-graph-div\" style=\"height:525px; width:100%;\"></div>            <script type=\"text/javascript\">                require([\"plotly\"], function(Plotly) {                    window.PLOTLYENV=window.PLOTLYENV || {};                                    if (document.getElementById(\"9d049a72-9088-459c-813c-7b2ddcc16316\")) {                    Plotly.newPlot(                        \"9d049a72-9088-459c-813c-7b2ddcc16316\",                        [{\"alignmentgroup\": \"True\", \"bingroup\": \"x\", \"hovertemplate\": \"x=%{x}<br>count=%{y}<extra></extra>\", \"legendgroup\": \"\", \"marker\": {\"color\": \"#636efa\"}, \"name\": \"\", \"offsetgroup\": \"\", \"orientation\": \"v\", \"showlegend\": false, \"type\": \"histogram\", \"x\": [-0.413018029114566, -0.2984072646527478, -0.18349598294781977, 1.2062690647696845, 0.04016095575512946, -0.13987947780993126, 0.8244493209988515, -0.43027396633086346, 0.10188911290474545, 0.36580353134566, -0.5752589773980592, -1.045487380519543, -0.30881265029289384, -0.08659537284107399, -0.06136902577331682, -0.4189379659175061, 0.1035321561891358, 0.24367878998712555, -0.2142628741770487, 0.16614866836454478, -0.7691344206831592, -0.5087572246025984, 0.39797156799335065, -0.2566471878621357, -0.7828120876357545, 0.3932424016973721, -0.297054690692351, 0.5853355495034722, -0.39357293112215563, -0.5794907347229974, -0.18543744317625865, 0.1980809888477113, -0.6748290186958181, -0.21390854089930267, -0.5988939322745681, -0.5039289520857593, 0.8970416441333424, 0.1813020288222278, -0.02896077043500833, -0.357185232987729, -0.23365536597667447, 1.0689512113109685, -0.30622151644700946, -0.18187377632596036, 0.28107940414012367, -0.3851185166158748, 0.1098212233307918, 0.35270389436289884, -0.5266453161851539, 1.2682117704527451, 0.1418304736367082, -0.6149728173799773, -0.05116057726639767, -1.2900441013506887, -0.13620418522487832, -0.36232082911850405, -0.2586593114298372, -0.5835849729524187, -0.5369412571340568, -0.0058782524504232825, -0.069229328796383, -0.36408851857631497, 0.39290411951802184, 0.31667906116827726, -0.16901369303654823, 0.333437348813554, -0.10365352186436017, -0.19544453704112952, -0.0811332976281407, -0.4493433156677997, -1.0826292067985706, -0.16726588258049802, 0.4866202228975274, 0.3031497431733592, -0.7268207414455139, -0.024981281715133807, -0.7812192639603812, 0.2900510400036951], \"xaxis\": \"x\", \"yaxis\": \"y\"}],                        {\"barmode\": \"relative\", \"legend\": {\"tracegroupgap\": 0}, \"margin\": {\"t\": 60}, \"template\": {\"data\": {\"bar\": [{\"error_x\": {\"color\": \"#2a3f5f\"}, \"error_y\": {\"color\": \"#2a3f5f\"}, \"marker\": {\"line\": {\"color\": \"#E5ECF6\", \"width\": 0.5}}, \"type\": \"bar\"}], \"barpolar\": [{\"marker\": {\"line\": {\"color\": \"#E5ECF6\", \"width\": 0.5}}, \"type\": \"barpolar\"}], \"carpet\": [{\"aaxis\": {\"endlinecolor\": \"#2a3f5f\", \"gridcolor\": \"white\", \"linecolor\": \"white\", \"minorgridcolor\": \"white\", \"startlinecolor\": \"#2a3f5f\"}, \"baxis\": {\"endlinecolor\": \"#2a3f5f\", \"gridcolor\": \"white\", \"linecolor\": \"white\", \"minorgridcolor\": \"white\", \"startlinecolor\": \"#2a3f5f\"}, \"type\": \"carpet\"}], \"choropleth\": [{\"colorbar\": {\"outlinewidth\": 0, \"ticks\": \"\"}, \"type\": \"choropleth\"}], \"contour\": [{\"colorbar\": {\"outlinewidth\": 0, \"ticks\": \"\"}, \"colorscale\": [[0.0, \"#0d0887\"], [0.1111111111111111, \"#46039f\"], [0.2222222222222222, \"#7201a8\"], [0.3333333333333333, \"#9c179e\"], [0.4444444444444444, \"#bd3786\"], [0.5555555555555556, \"#d8576b\"], [0.6666666666666666, \"#ed7953\"], [0.7777777777777778, \"#fb9f3a\"], [0.8888888888888888, \"#fdca26\"], [1.0, \"#f0f921\"]], \"type\": \"contour\"}], \"contourcarpet\": [{\"colorbar\": {\"outlinewidth\": 0, \"ticks\": \"\"}, \"type\": \"contourcarpet\"}], \"heatmap\": [{\"colorbar\": {\"outlinewidth\": 0, \"ticks\": \"\"}, \"colorscale\": [[0.0, \"#0d0887\"], [0.1111111111111111, \"#46039f\"], [0.2222222222222222, \"#7201a8\"], [0.3333333333333333, \"#9c179e\"], [0.4444444444444444, \"#bd3786\"], [0.5555555555555556, \"#d8576b\"], [0.6666666666666666, \"#ed7953\"], [0.7777777777777778, \"#fb9f3a\"], [0.8888888888888888, \"#fdca26\"], [1.0, \"#f0f921\"]], \"type\": \"heatmap\"}], \"heatmapgl\": [{\"colorbar\": {\"outlinewidth\": 0, \"ticks\": \"\"}, \"colorscale\": [[0.0, \"#0d0887\"], [0.1111111111111111, \"#46039f\"], [0.2222222222222222, \"#7201a8\"], [0.3333333333333333, \"#9c179e\"], [0.4444444444444444, \"#bd3786\"], [0.5555555555555556, \"#d8576b\"], [0.6666666666666666, \"#ed7953\"], [0.7777777777777778, \"#fb9f3a\"], [0.8888888888888888, \"#fdca26\"], [1.0, \"#f0f921\"]], \"type\": \"heatmapgl\"}], \"histogram\": [{\"marker\": {\"colorbar\": {\"outlinewidth\": 0, \"ticks\": \"\"}}, \"type\": \"histogram\"}], \"histogram2d\": [{\"colorbar\": {\"outlinewidth\": 0, \"ticks\": \"\"}, \"colorscale\": [[0.0, \"#0d0887\"], [0.1111111111111111, \"#46039f\"], [0.2222222222222222, \"#7201a8\"], [0.3333333333333333, \"#9c179e\"], [0.4444444444444444, \"#bd3786\"], [0.5555555555555556, \"#d8576b\"], [0.6666666666666666, \"#ed7953\"], [0.7777777777777778, \"#fb9f3a\"], [0.8888888888888888, \"#fdca26\"], [1.0, \"#f0f921\"]], \"type\": \"histogram2d\"}], \"histogram2dcontour\": [{\"colorbar\": {\"outlinewidth\": 0, \"ticks\": \"\"}, \"colorscale\": [[0.0, \"#0d0887\"], [0.1111111111111111, \"#46039f\"], [0.2222222222222222, \"#7201a8\"], [0.3333333333333333, \"#9c179e\"], [0.4444444444444444, \"#bd3786\"], [0.5555555555555556, \"#d8576b\"], [0.6666666666666666, \"#ed7953\"], [0.7777777777777778, \"#fb9f3a\"], [0.8888888888888888, \"#fdca26\"], [1.0, \"#f0f921\"]], \"type\": \"histogram2dcontour\"}], \"mesh3d\": [{\"colorbar\": {\"outlinewidth\": 0, \"ticks\": \"\"}, \"type\": \"mesh3d\"}], \"parcoords\": [{\"line\": {\"colorbar\": {\"outlinewidth\": 0, \"ticks\": \"\"}}, \"type\": \"parcoords\"}], \"pie\": [{\"automargin\": true, \"type\": \"pie\"}], \"scatter\": [{\"marker\": {\"colorbar\": {\"outlinewidth\": 0, \"ticks\": \"\"}}, \"type\": \"scatter\"}], \"scatter3d\": [{\"line\": {\"colorbar\": {\"outlinewidth\": 0, \"ticks\": \"\"}}, \"marker\": {\"colorbar\": {\"outlinewidth\": 0, \"ticks\": \"\"}}, \"type\": \"scatter3d\"}], \"scattercarpet\": [{\"marker\": {\"colorbar\": {\"outlinewidth\": 0, \"ticks\": \"\"}}, \"type\": \"scattercarpet\"}], \"scattergeo\": [{\"marker\": {\"colorbar\": {\"outlinewidth\": 0, \"ticks\": \"\"}}, \"type\": \"scattergeo\"}], \"scattergl\": [{\"marker\": {\"colorbar\": {\"outlinewidth\": 0, \"ticks\": \"\"}}, \"type\": \"scattergl\"}], \"scattermapbox\": [{\"marker\": {\"colorbar\": {\"outlinewidth\": 0, \"ticks\": \"\"}}, \"type\": \"scattermapbox\"}], \"scatterpolar\": [{\"marker\": {\"colorbar\": {\"outlinewidth\": 0, \"ticks\": \"\"}}, \"type\": \"scatterpolar\"}], \"scatterpolargl\": [{\"marker\": {\"colorbar\": {\"outlinewidth\": 0, \"ticks\": \"\"}}, \"type\": \"scatterpolargl\"}], \"scatterternary\": [{\"marker\": {\"colorbar\": {\"outlinewidth\": 0, \"ticks\": \"\"}}, \"type\": \"scatterternary\"}], \"surface\": [{\"colorbar\": {\"outlinewidth\": 0, \"ticks\": \"\"}, \"colorscale\": [[0.0, \"#0d0887\"], [0.1111111111111111, \"#46039f\"], [0.2222222222222222, \"#7201a8\"], [0.3333333333333333, \"#9c179e\"], [0.4444444444444444, \"#bd3786\"], [0.5555555555555556, \"#d8576b\"], [0.6666666666666666, \"#ed7953\"], [0.7777777777777778, \"#fb9f3a\"], [0.8888888888888888, \"#fdca26\"], [1.0, \"#f0f921\"]], \"type\": \"surface\"}], \"table\": [{\"cells\": {\"fill\": {\"color\": \"#EBF0F8\"}, \"line\": {\"color\": \"white\"}}, \"header\": {\"fill\": {\"color\": \"#C8D4E3\"}, \"line\": {\"color\": \"white\"}}, \"type\": \"table\"}]}, \"layout\": {\"annotationdefaults\": {\"arrowcolor\": \"#2a3f5f\", \"arrowhead\": 0, \"arrowwidth\": 1}, \"autotypenumbers\": \"strict\", \"coloraxis\": {\"colorbar\": {\"outlinewidth\": 0, \"ticks\": \"\"}}, \"colorscale\": {\"diverging\": [[0, \"#8e0152\"], [0.1, \"#c51b7d\"], [0.2, \"#de77ae\"], [0.3, \"#f1b6da\"], [0.4, \"#fde0ef\"], [0.5, \"#f7f7f7\"], [0.6, \"#e6f5d0\"], [0.7, \"#b8e186\"], [0.8, \"#7fbc41\"], [0.9, \"#4d9221\"], [1, \"#276419\"]], \"sequential\": [[0.0, \"#0d0887\"], [0.1111111111111111, \"#46039f\"], [0.2222222222222222, \"#7201a8\"], [0.3333333333333333, \"#9c179e\"], [0.4444444444444444, \"#bd3786\"], [0.5555555555555556, \"#d8576b\"], [0.6666666666666666, \"#ed7953\"], [0.7777777777777778, \"#fb9f3a\"], [0.8888888888888888, \"#fdca26\"], [1.0, \"#f0f921\"]], \"sequentialminus\": [[0.0, \"#0d0887\"], [0.1111111111111111, \"#46039f\"], [0.2222222222222222, \"#7201a8\"], [0.3333333333333333, \"#9c179e\"], [0.4444444444444444, \"#bd3786\"], [0.5555555555555556, \"#d8576b\"], [0.6666666666666666, \"#ed7953\"], [0.7777777777777778, \"#fb9f3a\"], [0.8888888888888888, \"#fdca26\"], [1.0, \"#f0f921\"]]}, \"colorway\": [\"#636efa\", \"#EF553B\", \"#00cc96\", \"#ab63fa\", \"#FFA15A\", \"#19d3f3\", \"#FF6692\", \"#B6E880\", \"#FF97FF\", \"#FECB52\"], \"font\": {\"color\": \"#2a3f5f\"}, \"geo\": {\"bgcolor\": \"white\", \"lakecolor\": \"white\", \"landcolor\": \"#E5ECF6\", \"showlakes\": true, \"showland\": true, \"subunitcolor\": \"white\"}, \"hoverlabel\": {\"align\": \"left\"}, \"hovermode\": \"closest\", \"mapbox\": {\"style\": \"light\"}, \"paper_bgcolor\": \"white\", \"plot_bgcolor\": \"#E5ECF6\", \"polar\": {\"angularaxis\": {\"gridcolor\": \"white\", \"linecolor\": \"white\", \"ticks\": \"\"}, \"bgcolor\": \"#E5ECF6\", \"radialaxis\": {\"gridcolor\": \"white\", \"linecolor\": \"white\", \"ticks\": \"\"}}, \"scene\": {\"xaxis\": {\"backgroundcolor\": \"#E5ECF6\", \"gridcolor\": \"white\", \"gridwidth\": 2, \"linecolor\": \"white\", \"showbackground\": true, \"ticks\": \"\", \"zerolinecolor\": \"white\"}, \"yaxis\": {\"backgroundcolor\": \"#E5ECF6\", \"gridcolor\": \"white\", \"gridwidth\": 2, \"linecolor\": \"white\", \"showbackground\": true, \"ticks\": \"\", \"zerolinecolor\": \"white\"}, \"zaxis\": {\"backgroundcolor\": \"#E5ECF6\", \"gridcolor\": \"white\", \"gridwidth\": 2, \"linecolor\": \"white\", \"showbackground\": true, \"ticks\": \"\", \"zerolinecolor\": \"white\"}}, \"shapedefaults\": {\"line\": {\"color\": \"#2a3f5f\"}}, \"ternary\": {\"aaxis\": {\"gridcolor\": \"white\", \"linecolor\": \"white\", \"ticks\": \"\"}, \"baxis\": {\"gridcolor\": \"white\", \"linecolor\": \"white\", \"ticks\": \"\"}, \"bgcolor\": \"#E5ECF6\", \"caxis\": {\"gridcolor\": \"white\", \"linecolor\": \"white\", \"ticks\": \"\"}}, \"title\": {\"x\": 0.05}, \"xaxis\": {\"automargin\": true, \"gridcolor\": \"white\", \"linecolor\": \"white\", \"ticks\": \"\", \"title\": {\"standoff\": 15}, \"zerolinecolor\": \"white\", \"zerolinewidth\": 2}, \"yaxis\": {\"automargin\": true, \"gridcolor\": \"white\", \"linecolor\": \"white\", \"ticks\": \"\", \"title\": {\"standoff\": 15}, \"zerolinecolor\": \"white\", \"zerolinewidth\": 2}}}, \"xaxis\": {\"anchor\": \"y\", \"domain\": [0.0, 1.0], \"title\": {\"text\": \"x\"}}, \"yaxis\": {\"anchor\": \"x\", \"domain\": [0.0, 1.0], \"title\": {\"text\": \"count\"}}},                        {\"responsive\": true}                    ).then(function(){\n",
       "                            \n",
       "var gd = document.getElementById('9d049a72-9088-459c-813c-7b2ddcc16316');\n",
       "var x = new MutationObserver(function (mutations, observer) {{\n",
       "        var display = window.getComputedStyle(gd).display;\n",
       "        if (!display || display === 'none') {{\n",
       "            console.log([gd, 'removed!']);\n",
       "            Plotly.purge(gd);\n",
       "            observer.disconnect();\n",
       "        }}\n",
       "}});\n",
       "\n",
       "// Listen for the removal of the full notebook cells\n",
       "var notebookContainer = gd.closest('#notebook-container');\n",
       "if (notebookContainer) {{\n",
       "    x.observe(notebookContainer, {childList: true});\n",
       "}}\n",
       "\n",
       "// Listen for the clearing of the current output cell\n",
       "var outputEl = gd.closest('.output');\n",
       "if (outputEl) {{\n",
       "    x.observe(outputEl, {childList: true});\n",
       "}}\n",
       "\n",
       "                        })                };                });            </script>        </div>"
      ]
     },
     "metadata": {},
     "output_type": "display_data"
    }
   ],
   "source": [
    "px.histogram(x = y_test-pred)"
   ]
  },
  {
   "cell_type": "code",
   "execution_count": 375,
   "id": "applied-affiliate",
   "metadata": {},
   "outputs": [
    {
     "data": {
      "text/plain": [
       "0.500909623245169"
      ]
     },
     "execution_count": 375,
     "metadata": {},
     "output_type": "execute_result"
    }
   ],
   "source": [
    "np.sqrt(np.mean((y_test-pred)**2))"
   ]
  },
  {
   "cell_type": "code",
   "execution_count": 376,
   "id": "stretch-option",
   "metadata": {},
   "outputs": [
    {
     "data": {
      "text/plain": [
       "0.4875475724800684"
      ]
     },
     "execution_count": 376,
     "metadata": {},
     "output_type": "execute_result"
    }
   ],
   "source": [
    "np.std(y_test-pred)"
   ]
  },
  {
   "cell_type": "code",
   "execution_count": 377,
   "id": "welsh-barbados",
   "metadata": {},
   "outputs": [],
   "source": [
    "df_test = pd.DataFrame({'meas': y_test, 'pred': rf.predict(X_test), 'split': 'out of sample'})\n",
    "df_train = pd.DataFrame({'meas': y_train, 'pred': rf.predict(X_train), 'split': 'in sample'})\n",
    "df = pd.concat([df_test, df_train])\n",
    "                        \n"
   ]
  },
  {
   "cell_type": "code",
   "execution_count": 378,
   "id": "treated-rendering",
   "metadata": {
    "scrolled": true
   },
   "outputs": [
    {
     "data": {
      "application/vnd.plotly.v1+json": {
       "config": {
        "plotlyServerURL": "https://plot.ly"
       },
       "data": [
        {
         "hovertemplate": "split=out of sample<br>meas=%{x}<br>pred=%{y}<extra></extra>",
         "legendgroup": "out of sample",
         "marker": {
          "color": "#212c52",
          "size": 10,
          "symbol": "circle"
         },
         "mode": "markers",
         "name": "out of sample",
         "orientation": "v",
         "showlegend": true,
         "type": "scatter",
         "x": [
          3.643945912748067,
          3.000434077479319,
          2.5943925503754266,
          4.544068044350276,
          2.4885507165004443,
          2.5477747053878224,
          3.1942367487238292,
          2.287801729930226,
          3.651762447380111,
          4.16354896490181,
          2.7442929831226763,
          2.155336037465062,
          2.7442929831226763,
          2.481442628502305,
          3.325925955771466,
          3.3261309567107946,
          3.6534054906645013,
          3.1743505974793798,
          2.7867514221455614,
          3.4500950758716025,
          2.3324384599156054,
          2.3961993470957363,
          3.000434077479319,
          3.3879234669734366,
          2.164352855784437,
          4.544068044350276,
          2.503790683057181,
          3.651762447380111,
          3.2643455070500926,
          3.325925955771466,
          2.247973266361807,
          3.651762447380111,
          2.938519725176492,
          3.070037866607755,
          2.884795363948981,
          2.6127838567197355,
          3.775756037844098,
          2.8068580295188172,
          3.8516863154424277,
          2.663700925389648,
          4.101540872558349,
          4.544068044350276,
          2.7589118923979736,
          3.2638726768652235,
          3.3261309567107946,
          3.1942367487238292,
          2.938519725176492,
          3.1942367487238292,
          2.041392685158225,
          3.7137424784090824,
          2.7442929831226763,
          2.9800033715837464,
          4.101506496139928,
          2.4183012913197452,
          2.5514499979728753,
          2.4899584794248346,
          3.3283796034387376,
          2.2528530309798933,
          2.682145076373832,
          2.7442929831226763,
          3.7285161047597666,
          2.893206753059848,
          3.9076263048432662,
          3.6516656039229356,
          2.7781512503836434,
          3.2641091563058082,
          2.7972675408307164,
          2.9380190974762104,
          3.0729847446279304,
          3.1300119496719043,
          3.070037866607755,
          2.682145076373832,
          3.584670384464349,
          3.2641091563058082,
          2.403120521175818,
          2.6748611407378116,
          2.8432327780980096,
          3.3881012015705165
         ],
         "xaxis": "x",
         "y": [
          4.056963941862633,
          3.2988413421320666,
          2.7778885333232464,
          3.337798979580591,
          2.448389760745315,
          2.6876541831977536,
          2.3697874277249777,
          2.7180756962610895,
          3.5498733344753655,
          3.7977454335561496,
          3.3195519605207355,
          3.200823417984605,
          3.05310563341557,
          2.568038001343379,
          3.387294981544783,
          3.7450689226283007,
          3.5498733344753655,
          2.930671807492254,
          3.00101429632261,
          3.2839464075070577,
          3.1015728805987646,
          2.9049565716983348,
          2.602462509485968,
          3.6445706548355723,
          2.9471649434201916,
          4.1508256426529035,
          2.800845373749532,
          3.0664268978766387,
          3.6579184381722483,
          3.9054166904944636,
          2.4334107095380655,
          3.4536814585323996,
          3.61334874387231,
          3.2839464075070577,
          3.4836892962235493,
          3.1167128088054947,
          2.8787143937107555,
          2.6255560006965895,
          3.880647085877436,
          3.020886158377377,
          4.335196238535024,
          3.475116833039307,
          3.065133408844983,
          3.445746453191184,
          3.045051552570671,
          3.579355265339704,
          2.8286985018457003,
          2.8415328543609304,
          2.568038001343379,
          2.4455307079563373,
          2.602462509485968,
          3.5949761889637237,
          4.152667073406326,
          3.708345392670434,
          2.6876541831977536,
          2.8522793085433387,
          3.587038914868575,
          2.836438003932312,
          3.2190863335078888,
          2.7501712355730996,
          3.7977454335561496,
          3.257295271636163,
          3.5147221853252444,
          3.3349865427546583,
          2.9471649434201916,
          2.930671807492254,
          2.9009210626950765,
          3.13346363451734,
          3.154118042256071,
          3.579355265339704,
          4.152667073406326,
          2.84941095895433,
          3.0980501615668214,
          2.960959413132449,
          3.129941262621332,
          2.6998424224529454,
          3.6244520420583908,
          3.0980501615668214
         ],
         "yaxis": "y"
        },
        {
         "hovertemplate": "split=in sample<br>meas=%{x}<br>pred=%{y}<extra></extra>",
         "legendgroup": "in sample",
         "marker": {
          "color": "#75c3ff",
          "size": 10,
          "symbol": "circle"
         },
         "mode": "markers",
         "name": "in sample",
         "orientation": "v",
         "showlegend": true,
         "type": "scatter",
         "x": [
          2.7442929831226763,
          3.7285161047597666,
          2.870403905279027,
          3.3925210899319325,
          3.4459154139511234,
          2.8068580295188172,
          2.574031267727719,
          3.5199591807520685,
          3.4578818967339924,
          2.3324384599156054,
          4.039453778961737,
          2.8068580295188172,
          3.520483532740792,
          2.8068580295188172,
          3.470704429722788,
          2.900913067737669,
          3.885530833188092,
          2.4885507165004443,
          2.4885507165004443,
          2.6414741105040997,
          3.1942367487238292,
          3.000434077479319,
          3.307282047033346,
          2.4899584794248346,
          2.6748611407378116,
          3.336859820916809,
          4.551340190543342,
          3.519302849235429,
          2.8686444383948255,
          3.519827993775719,
          4.039453778961737,
          2.403120521175818,
          2.938519725176492,
          2.7234556720351857,
          3.003029470553618,
          3.000434077479319,
          4.544068044350276,
          4.544068044350276,
          2.6857417386022635,
          3.7023443583557687,
          3.775756037844098,
          3.3881012015705165,
          3.2641091563058082,
          2.6127838567197355,
          3.837840861655523,
          2.294466226161593,
          3.7137424784090824,
          2.4885507165004443,
          3.7137424784090824,
          2.4899584794248346,
          2.6414741105040997,
          4.544068044350276,
          2.8068580295188172,
          3.9205928620848085,
          1.9030899869919435,
          3.7137424784090824,
          2.938519725176492,
          4.357458385645036,
          3.9076263048432662,
          3.019116290447073,
          2.876217840591642,
          2.7589118923979736,
          4.544068044350276,
          3.025715383901341,
          3.9076263048432662,
          3.000434077479319,
          3.256236533205923,
          2.225309281725863,
          2.682145076373832,
          2.7193312869837265,
          2.5477747053878224,
          2.598790506763115,
          3.070037866607755,
          2.9469432706978256,
          3.2638726768652235,
          3.581835924057648,
          2.876217840591642,
          2.419955748489758,
          3.119585774961784,
          3.000434077479319,
          3.1942367487238292,
          3.7567881987681178,
          3.317854489331469,
          4.544068044350276,
          1.7781512503836436,
          2.682145076373832,
          3.070037866607755,
          3.6769678142947586,
          3.3881012015705165,
          2.2068258760318495,
          3.1942367487238292,
          3.2638726768652235,
          3.062581984228163,
          2.6748611407378116,
          3.1322596895310446,
          3.5199591807520685,
          3.1322596895310446,
          2.6127838567197355,
          3.643945912748067,
          3.000434077479319,
          3.651762447380111,
          2.938519725176492,
          2.369215857410143,
          2.357934847000454,
          2.6127838567197355,
          3.3261309567107946,
          4.2255935481548,
          3.3261309567107946,
          4.223755453657241,
          3.070037866607755,
          3.9696488404807253,
          2.9380190974762104,
          2.3654879848909,
          3.1451964061141817,
          3.0773679052841563,
          2.5477747053878224,
          2.225309281725863,
          4.4428872189023485,
          4.544068044350276,
          3.062581984228163,
          3.256236533205923,
          2.8068580295188172,
          3.1051694279993316,
          2.6127838567197355,
          2.100370545117563,
          2.682145076373832,
          4.317958924700952,
          2.637489729512511,
          3.0318122713303706,
          3.070037866607755,
          3.520483532740792,
          3.143327129992046,
          2.7442929831226763,
          3.3261309567107946,
          3.2638726768652235,
          2.586587304671755,
          2.8573324964312685,
          2.870403905279027,
          4.374216605428374,
          3.0145205387579237,
          3.336859820916809,
          4.2954131455196585,
          4.544068044350276,
          4.544068044350276,
          3.9076263048432662,
          4.103358939866562,
          3.2641091563058082,
          2.9804578922761,
          3.003029470553618,
          2.747411807886423,
          3.7758288144646124,
          3.274850320016665,
          2.7442929831226763,
          3.1942367487238292,
          3.7758288144646124,
          3.1942367487238292,
          2.7442929831226763,
          2.876217840591642,
          2.3283796034387376,
          3.000434077479319,
          4.544068044350276,
          3.519827993775719,
          4.14188854970586,
          3.037027879755775,
          2.6830470382388496,
          3.7567881987681178,
          3.9076263048432662,
          4.374216605428374,
          2.419955748489758,
          4.357458385645036,
          3.2641091563058082,
          3.256236533205923,
          2.910624404889201,
          2.6830470382388496,
          2.938519725176492,
          2.8750612633917,
          1.7781512503836436,
          2.938519725176492,
          3.1826999033360424,
          2.481442628502305,
          2.294466226161593,
          3.253580289562183,
          2.6148972160331345,
          3.1942367487238292,
          2.6127838567197355,
          3.3881012015705165,
          4.163578765188774,
          3.5341530741850624,
          2.8068580295188172,
          3.0881360887005513,
          2.7442929831226763,
          2.7442929831226763,
          2.287801729930226,
          2.8524799936368566,
          2.663700925389648,
          2.5514499979728753,
          2.574031267727719,
          3.3261309567107946,
          3.256236533205923,
          2.82020145948564,
          3.4933186082321015,
          3.7019994748896368,
          3.6516656039229356,
          2.6127838567197355,
          3.7480328941301435,
          3.062581984228163,
          2.6180480967120925,
          3.7137424784090824,
          2.591064607026499,
          4.544068044350276,
          3.1319392952104246,
          3.000434077479319,
          2.637489729512511,
          3.3261309567107946,
          4.317958924700952,
          2.8344207036815328,
          3.1942367487238292,
          2.8068580295188172,
          4.374216605428374,
          2.6830470382388496,
          4.544068044350276,
          2.9304395947667,
          4.2954131455196585,
          3.1322596895310446,
          2.9508514588885464,
          3.3261309567107946,
          3.2641091563058082,
          4.551340190543342,
          2.710963118995276,
          3.1322596895310446,
          3.581835924057648,
          2.8068580295188172,
          2.5943925503754266,
          3.519827993775719,
          3.584670384464349,
          2.893206753059848,
          2.5514499979728753,
          3.7480328941301435,
          2.940516484932567,
          2.9380190974762104,
          2.419955748489758,
          3.3261309567107946,
          3.2095150145426308,
          2.419955748489758,
          3.083860800866573,
          3.070037866607755,
          3.7758288144646124,
          2.4578818967339924,
          3.2543063323312857,
          2.419955748489758,
          3.3492775274679554,
          2.940516484932567,
          2.7442929831226763,
          3.7866804531966487,
          3.2641091563058082,
          2.5514499979728753,
          3.1319392952104246,
          2.428134794028789,
          3.256236533205923,
          3.4577305482459986,
          2.94546858513182,
          2.747411807886423,
          3.1319392952104246,
          4.683182171097453,
          2.494154594018443,
          3.1319392952104246,
          3.2068258760318495,
          2.357934847000454,
          3.4214393902200495,
          3.6516656039229356,
          3.7137424784090824,
          4.101506496139928,
          2.727541257028556,
          3.581949658373318,
          3.581835924057648,
          1.9084850188786497,
          2.357934847000454,
          2.2068258760318495,
          3.1319392952104246,
          2.100370545117563,
          3.0492180226701815,
          3.2538224387080734,
          2.94546858513182,
          4.544068044350276,
          2.681241237375587,
          3.775756037844098,
          3.775756037844098,
          4.069298012115529,
          4.163578765188774,
          3.643945912748067,
          2.9380190974762104,
          3.244524511570084,
          4.815026229442373,
          2.8750612633917,
          3.3879234669734366,
          2.806179973983887,
          2.7442929831226763,
          2.9858753573083936,
          2.7315887651867388,
          2.6127838567197355,
          2.9380190974762104,
          2.9628426812012423,
          2.7589118923979736,
          3.000434077479319,
          3.274619619091238,
          3.3879234669734366,
          3.7866804531966487,
          3.4577305482459986,
          3.5199591807520685,
          2.876217840591642,
          3.3261309567107946,
          3.1319392952104246
         ],
         "xaxis": "x",
         "y": [
          2.616204676574224,
          3.648584496250609,
          3.120995260058462,
          3.5464254368065258,
          3.4834339921395148,
          2.8506535519200322,
          2.84941095895433,
          2.9937219529104464,
          3.3837633894340393,
          2.3697874277249777,
          3.786357123883237,
          2.850931437715111,
          3.4362511448903237,
          2.98621411520669,
          3.3349865427546583,
          2.62292044788747,
          3.7473524957016435,
          2.631822593839464,
          2.4844777309523245,
          2.3203795696307212,
          3.250315768555313,
          3.0673938923068595,
          3.31092420193734,
          2.8415328543609304,
          2.609808509616657,
          3.3277521129991574,
          4.382437113351222,
          3.9478883426511864,
          2.882113213221313,
          3.405937229839728,
          3.8701115458951443,
          2.7225519580181827,
          2.960959413132449,
          3.064540667689496,
          3.0045997349331293,
          2.89041561508722,
          4.085419027136626,
          3.6927452060428747,
          2.7399402788485205,
          3.3061166380706672,
          3.6244520420583908,
          3.0542063963052755,
          3.126716348364268,
          2.7883816788426774,
          4.151221790527758,
          2.62292044788747,
          2.8298902735949,
          2.722639875485963,
          3.7977454335561496,
          2.7761862688876535,
          2.752928615599249,
          4.37017187328868,
          2.895159782861489,
          3.457094285218352,
          2.4261665822724616,
          3.3180011939349705,
          2.984112833285536,
          4.1508256426529035,
          3.6274306749016265,
          2.9825578014848166,
          2.836438003932312,
          2.86968791328373,
          4.4768533523361995,
          3.174539017099506,
          3.7450689226283007,
          3.120523992373725,
          3.3372986058496625,
          2.448389760745315,
          2.7778885333232464,
          2.8298902735949,
          2.722175382289697,
          2.957873568346318,
          3.781200694642777,
          2.9090497430063844,
          2.9841734932479276,
          3.1155607538789307,
          2.7689974618521735,
          2.4844777309523245,
          3.0997757417390575,
          3.036232247554801,
          3.3364093788119593,
          3.495235875985801,
          3.3239885491466725,
          4.041317655443102,
          2.3203795696307212,
          2.800845373749532,
          2.7761862688876535,
          3.6459297281688463,
          3.064540667689496,
          2.561128300242759,
          3.0582320254409856,
          3.6445706548355723,
          2.984112833285536,
          2.7849344080807077,
          2.9333989307494015,
          3.4834339921395148,
          3.041673930673353,
          2.833628247609366,
          3.68847661267679,
          2.828690210506399,
          3.3387752259300365,
          2.901626383674332,
          2.601493333282222,
          2.4417371905653287,
          2.62292044788747,
          3.31092420193734,
          4.37017187328868,
          3.3239885491466725,
          3.983179596199858,
          3.332065159641477,
          3.796147909666648,
          2.9372035748010106,
          2.499052405001743,
          2.9818519615672425,
          3.3387752259300365,
          2.7180756962610895,
          2.3397573399379676,
          4.151221790527758,
          4.352838857982242,
          2.8415328543609304,
          3.1015728805987646,
          2.909664349831818,
          3.3092023188367525,
          2.568038001343379,
          2.8298902735949,
          3.560266221159917,
          3.8120899575356884,
          2.7689974618521735,
          3.126716348364268,
          3.457094285218352,
          3.3290895355924297,
          3.387294981544783,
          2.901626383674332,
          3.3341273921853145,
          3.795226664146925,
          2.88268373981801,
          3.05310563341557,
          2.8936684033150293,
          4.2388003302073525,
          2.901626383674332,
          3.3341273921853145,
          4.112364024524343,
          3.781200694642777,
          4.056963941862633,
          3.727858165382877,
          3.9054166904944636,
          3.154118042256071,
          3.3180011939349705,
          2.8361398547481858,
          2.8662938388498804,
          3.2574252237409067,
          3.3132331098182286,
          2.7501712355730996,
          2.957873568346318,
          3.587038914868575,
          3.2988413421320666,
          3.6927452060428747,
          2.9009210626950765,
          2.7142646789803333,
          2.9499532053029305,
          3.747872016137318,
          3.5758599663208743,
          3.8550554755408037,
          3.0369029952913023,
          2.8361398547481858,
          3.409761642377552,
          3.7977454335561496,
          4.082067466433918,
          3.120995260058462,
          4.0682735175240925,
          3.2673688519551423,
          3.3101690180992205,
          3.0582320254409856,
          2.9333989307494015,
          2.9499532053029305,
          2.976896943908963,
          1.9677360652967413,
          2.9825578014848166,
          3.327079761811636,
          2.609808509616657,
          2.3697874277249777,
          3.0809808410947883,
          3.1009958859076203,
          2.9818519615672425,
          2.9818519615672425,
          3.3277521129991574,
          3.120995260058462,
          3.3531612818140064,
          2.85557261285643,
          3.045051552570671,
          2.752928615599249,
          2.646086351390506,
          2.4334107095380655,
          2.940517227412015,
          2.712098146365947,
          3.020886158377377,
          2.828690210506399,
          3.2673688519551423,
          3.3180011939349705,
          2.85557261285643,
          3.427040539020864,
          3.796147909666648,
          3.5949761889637237,
          3.0542063963052755,
          3.563587192961239,
          3.200823417984605,
          3.1155607538789307,
          3.387294981544783,
          2.9841734932479276,
          3.560266221159917,
          3.1009958859076203,
          3.0809808410947883,
          2.565199231357969,
          3.257295271636163,
          4.240137605342732,
          2.882113213221313,
          2.98621411520669,
          2.9457642075350603,
          4.293812016642967,
          2.9090497430063844,
          3.795226664146925,
          3.3061166380706672,
          3.9478883426511864,
          3.1282928185955785,
          2.8595058510464315,
          3.020886158377377,
          3.3132331098182286,
          4.352838857982242,
          2.8096770244640856,
          3.065133408844983,
          3.3364093788119593,
          2.4261665822724616,
          2.631822593839464,
          3.1009958859076203,
          3.4993908402150664,
          2.833628247609366,
          2.646086351390506,
          3.708345392670434,
          2.984112833285536,
          3.160875249277661,
          2.9937219529104464,
          3.427040539020864,
          3.036232247554801,
          2.565199231357969,
          3.039150898378503,
          3.05310563341557,
          4.041317655443102,
          2.8286985018457003,
          3.1282928185955785,
          2.5378052643763196,
          3.3195519605207355,
          3.175306688370736,
          2.8595058510464315,
          3.68847661267679,
          3.250315768555313,
          2.65683383924901,
          3.3032957449633447,
          2.616204676574224,
          3.3290895355924297,
          3.175306688370736,
          2.871887954098478,
          2.794763841918001,
          3.2552082086839524,
          4.335196238535024,
          2.5378052643763196,
          3.113982137789871,
          3.385160572411707,
          2.499052405001743,
          3.3372986058496625,
          3.648584496250609,
          3.674701263877547,
          3.6445706548355723,
          2.89041561508722,
          3.385160572411707,
          3.6459297281688463,
          1.9677360652967413,
          2.5285951206006967,
          2.4104895157653656,
          3.747872016137318,
          2.4455307079563373,
          3.041673930673353,
          3.3837633894340393,
          2.909664349831818,
          3.664881409248415,
          2.4455307079563373,
          3.708345392670434,
          3.796147909666648,
          4.0682735175240925,
          4.2388003302073525,
          3.61334874387231,
          3.0429406875553657,
          3.0664268978766387,
          4.4768533523361995,
          2.8506535519200322,
          3.495235875985801,
          2.7778885333232464,
          2.8522793085433387,
          2.9442217125918986,
          2.8422572791739475,
          2.784443651611185,
          3.664881409248415,
          3.0429406875553657,
          3.2574252237409067,
          2.7225519580181827,
          3.2839464075070577,
          3.402368581010087,
          3.674701263877547,
          3.8120899575356884,
          3.3837633894340393,
          2.930671807492254,
          3.563587192961239,
          3.0561074067557463
         ],
         "yaxis": "y"
        }
       ],
       "layout": {
        "font": {
         "color": "black",
         "family": "Helvetica Neue, Helvetica, Arial, sans-serif"
        },
        "legend": {
         "title": {},
         "tracegroupgap": 0,
         "x": 0.01,
         "xanchor": "left",
         "y": 0.99,
         "yanchor": "top"
        },
        "margin": {
         "t": 60
        },
        "template": {
         "data": {
          "bar": [
           {
            "error_x": {
             "color": "#2a3f5f"
            },
            "error_y": {
             "color": "#2a3f5f"
            },
            "marker": {
             "line": {
              "color": "#E5ECF6",
              "width": 0.5
             }
            },
            "type": "bar"
           }
          ],
          "barpolar": [
           {
            "marker": {
             "line": {
              "color": "#E5ECF6",
              "width": 0.5
             }
            },
            "type": "barpolar"
           }
          ],
          "carpet": [
           {
            "aaxis": {
             "endlinecolor": "#2a3f5f",
             "gridcolor": "white",
             "linecolor": "white",
             "minorgridcolor": "white",
             "startlinecolor": "#2a3f5f"
            },
            "baxis": {
             "endlinecolor": "#2a3f5f",
             "gridcolor": "white",
             "linecolor": "white",
             "minorgridcolor": "white",
             "startlinecolor": "#2a3f5f"
            },
            "type": "carpet"
           }
          ],
          "choropleth": [
           {
            "colorbar": {
             "outlinewidth": 0,
             "ticks": ""
            },
            "type": "choropleth"
           }
          ],
          "contour": [
           {
            "colorbar": {
             "outlinewidth": 0,
             "ticks": ""
            },
            "colorscale": [
             [
              0,
              "#0d0887"
             ],
             [
              0.1111111111111111,
              "#46039f"
             ],
             [
              0.2222222222222222,
              "#7201a8"
             ],
             [
              0.3333333333333333,
              "#9c179e"
             ],
             [
              0.4444444444444444,
              "#bd3786"
             ],
             [
              0.5555555555555556,
              "#d8576b"
             ],
             [
              0.6666666666666666,
              "#ed7953"
             ],
             [
              0.7777777777777778,
              "#fb9f3a"
             ],
             [
              0.8888888888888888,
              "#fdca26"
             ],
             [
              1,
              "#f0f921"
             ]
            ],
            "type": "contour"
           }
          ],
          "contourcarpet": [
           {
            "colorbar": {
             "outlinewidth": 0,
             "ticks": ""
            },
            "type": "contourcarpet"
           }
          ],
          "heatmap": [
           {
            "colorbar": {
             "outlinewidth": 0,
             "ticks": ""
            },
            "colorscale": [
             [
              0,
              "#0d0887"
             ],
             [
              0.1111111111111111,
              "#46039f"
             ],
             [
              0.2222222222222222,
              "#7201a8"
             ],
             [
              0.3333333333333333,
              "#9c179e"
             ],
             [
              0.4444444444444444,
              "#bd3786"
             ],
             [
              0.5555555555555556,
              "#d8576b"
             ],
             [
              0.6666666666666666,
              "#ed7953"
             ],
             [
              0.7777777777777778,
              "#fb9f3a"
             ],
             [
              0.8888888888888888,
              "#fdca26"
             ],
             [
              1,
              "#f0f921"
             ]
            ],
            "type": "heatmap"
           }
          ],
          "heatmapgl": [
           {
            "colorbar": {
             "outlinewidth": 0,
             "ticks": ""
            },
            "colorscale": [
             [
              0,
              "#0d0887"
             ],
             [
              0.1111111111111111,
              "#46039f"
             ],
             [
              0.2222222222222222,
              "#7201a8"
             ],
             [
              0.3333333333333333,
              "#9c179e"
             ],
             [
              0.4444444444444444,
              "#bd3786"
             ],
             [
              0.5555555555555556,
              "#d8576b"
             ],
             [
              0.6666666666666666,
              "#ed7953"
             ],
             [
              0.7777777777777778,
              "#fb9f3a"
             ],
             [
              0.8888888888888888,
              "#fdca26"
             ],
             [
              1,
              "#f0f921"
             ]
            ],
            "type": "heatmapgl"
           }
          ],
          "histogram": [
           {
            "marker": {
             "colorbar": {
              "outlinewidth": 0,
              "ticks": ""
             }
            },
            "type": "histogram"
           }
          ],
          "histogram2d": [
           {
            "colorbar": {
             "outlinewidth": 0,
             "ticks": ""
            },
            "colorscale": [
             [
              0,
              "#0d0887"
             ],
             [
              0.1111111111111111,
              "#46039f"
             ],
             [
              0.2222222222222222,
              "#7201a8"
             ],
             [
              0.3333333333333333,
              "#9c179e"
             ],
             [
              0.4444444444444444,
              "#bd3786"
             ],
             [
              0.5555555555555556,
              "#d8576b"
             ],
             [
              0.6666666666666666,
              "#ed7953"
             ],
             [
              0.7777777777777778,
              "#fb9f3a"
             ],
             [
              0.8888888888888888,
              "#fdca26"
             ],
             [
              1,
              "#f0f921"
             ]
            ],
            "type": "histogram2d"
           }
          ],
          "histogram2dcontour": [
           {
            "colorbar": {
             "outlinewidth": 0,
             "ticks": ""
            },
            "colorscale": [
             [
              0,
              "#0d0887"
             ],
             [
              0.1111111111111111,
              "#46039f"
             ],
             [
              0.2222222222222222,
              "#7201a8"
             ],
             [
              0.3333333333333333,
              "#9c179e"
             ],
             [
              0.4444444444444444,
              "#bd3786"
             ],
             [
              0.5555555555555556,
              "#d8576b"
             ],
             [
              0.6666666666666666,
              "#ed7953"
             ],
             [
              0.7777777777777778,
              "#fb9f3a"
             ],
             [
              0.8888888888888888,
              "#fdca26"
             ],
             [
              1,
              "#f0f921"
             ]
            ],
            "type": "histogram2dcontour"
           }
          ],
          "mesh3d": [
           {
            "colorbar": {
             "outlinewidth": 0,
             "ticks": ""
            },
            "type": "mesh3d"
           }
          ],
          "parcoords": [
           {
            "line": {
             "colorbar": {
              "outlinewidth": 0,
              "ticks": ""
             }
            },
            "type": "parcoords"
           }
          ],
          "pie": [
           {
            "automargin": true,
            "type": "pie"
           }
          ],
          "scatter": [
           {
            "marker": {
             "colorbar": {
              "outlinewidth": 0,
              "ticks": ""
             }
            },
            "type": "scatter"
           }
          ],
          "scatter3d": [
           {
            "line": {
             "colorbar": {
              "outlinewidth": 0,
              "ticks": ""
             }
            },
            "marker": {
             "colorbar": {
              "outlinewidth": 0,
              "ticks": ""
             }
            },
            "type": "scatter3d"
           }
          ],
          "scattercarpet": [
           {
            "marker": {
             "colorbar": {
              "outlinewidth": 0,
              "ticks": ""
             }
            },
            "type": "scattercarpet"
           }
          ],
          "scattergeo": [
           {
            "marker": {
             "colorbar": {
              "outlinewidth": 0,
              "ticks": ""
             }
            },
            "type": "scattergeo"
           }
          ],
          "scattergl": [
           {
            "marker": {
             "colorbar": {
              "outlinewidth": 0,
              "ticks": ""
             }
            },
            "type": "scattergl"
           }
          ],
          "scattermapbox": [
           {
            "marker": {
             "colorbar": {
              "outlinewidth": 0,
              "ticks": ""
             }
            },
            "type": "scattermapbox"
           }
          ],
          "scatterpolar": [
           {
            "marker": {
             "colorbar": {
              "outlinewidth": 0,
              "ticks": ""
             }
            },
            "type": "scatterpolar"
           }
          ],
          "scatterpolargl": [
           {
            "marker": {
             "colorbar": {
              "outlinewidth": 0,
              "ticks": ""
             }
            },
            "type": "scatterpolargl"
           }
          ],
          "scatterternary": [
           {
            "marker": {
             "colorbar": {
              "outlinewidth": 0,
              "ticks": ""
             }
            },
            "type": "scatterternary"
           }
          ],
          "surface": [
           {
            "colorbar": {
             "outlinewidth": 0,
             "ticks": ""
            },
            "colorscale": [
             [
              0,
              "#0d0887"
             ],
             [
              0.1111111111111111,
              "#46039f"
             ],
             [
              0.2222222222222222,
              "#7201a8"
             ],
             [
              0.3333333333333333,
              "#9c179e"
             ],
             [
              0.4444444444444444,
              "#bd3786"
             ],
             [
              0.5555555555555556,
              "#d8576b"
             ],
             [
              0.6666666666666666,
              "#ed7953"
             ],
             [
              0.7777777777777778,
              "#fb9f3a"
             ],
             [
              0.8888888888888888,
              "#fdca26"
             ],
             [
              1,
              "#f0f921"
             ]
            ],
            "type": "surface"
           }
          ],
          "table": [
           {
            "cells": {
             "fill": {
              "color": "#EBF0F8"
             },
             "line": {
              "color": "white"
             }
            },
            "header": {
             "fill": {
              "color": "#C8D4E3"
             },
             "line": {
              "color": "white"
             }
            },
            "type": "table"
           }
          ]
         },
         "layout": {
          "annotationdefaults": {
           "arrowcolor": "#2a3f5f",
           "arrowhead": 0,
           "arrowwidth": 1
          },
          "autotypenumbers": "strict",
          "coloraxis": {
           "colorbar": {
            "outlinewidth": 0,
            "ticks": ""
           }
          },
          "colorscale": {
           "diverging": [
            [
             0,
             "#8e0152"
            ],
            [
             0.1,
             "#c51b7d"
            ],
            [
             0.2,
             "#de77ae"
            ],
            [
             0.3,
             "#f1b6da"
            ],
            [
             0.4,
             "#fde0ef"
            ],
            [
             0.5,
             "#f7f7f7"
            ],
            [
             0.6,
             "#e6f5d0"
            ],
            [
             0.7,
             "#b8e186"
            ],
            [
             0.8,
             "#7fbc41"
            ],
            [
             0.9,
             "#4d9221"
            ],
            [
             1,
             "#276419"
            ]
           ],
           "sequential": [
            [
             0,
             "#0d0887"
            ],
            [
             0.1111111111111111,
             "#46039f"
            ],
            [
             0.2222222222222222,
             "#7201a8"
            ],
            [
             0.3333333333333333,
             "#9c179e"
            ],
            [
             0.4444444444444444,
             "#bd3786"
            ],
            [
             0.5555555555555556,
             "#d8576b"
            ],
            [
             0.6666666666666666,
             "#ed7953"
            ],
            [
             0.7777777777777778,
             "#fb9f3a"
            ],
            [
             0.8888888888888888,
             "#fdca26"
            ],
            [
             1,
             "#f0f921"
            ]
           ],
           "sequentialminus": [
            [
             0,
             "#0d0887"
            ],
            [
             0.1111111111111111,
             "#46039f"
            ],
            [
             0.2222222222222222,
             "#7201a8"
            ],
            [
             0.3333333333333333,
             "#9c179e"
            ],
            [
             0.4444444444444444,
             "#bd3786"
            ],
            [
             0.5555555555555556,
             "#d8576b"
            ],
            [
             0.6666666666666666,
             "#ed7953"
            ],
            [
             0.7777777777777778,
             "#fb9f3a"
            ],
            [
             0.8888888888888888,
             "#fdca26"
            ],
            [
             1,
             "#f0f921"
            ]
           ]
          },
          "colorway": [
           "#636efa",
           "#EF553B",
           "#00cc96",
           "#ab63fa",
           "#FFA15A",
           "#19d3f3",
           "#FF6692",
           "#B6E880",
           "#FF97FF",
           "#FECB52"
          ],
          "font": {
           "color": "#2a3f5f"
          },
          "geo": {
           "bgcolor": "white",
           "lakecolor": "white",
           "landcolor": "#E5ECF6",
           "showlakes": true,
           "showland": true,
           "subunitcolor": "white"
          },
          "hoverlabel": {
           "align": "left"
          },
          "hovermode": "closest",
          "mapbox": {
           "style": "light"
          },
          "paper_bgcolor": "white",
          "plot_bgcolor": "#E5ECF6",
          "polar": {
           "angularaxis": {
            "gridcolor": "white",
            "linecolor": "white",
            "ticks": ""
           },
           "bgcolor": "#E5ECF6",
           "radialaxis": {
            "gridcolor": "white",
            "linecolor": "white",
            "ticks": ""
           }
          },
          "scene": {
           "xaxis": {
            "backgroundcolor": "#E5ECF6",
            "gridcolor": "white",
            "gridwidth": 2,
            "linecolor": "white",
            "showbackground": true,
            "ticks": "",
            "zerolinecolor": "white"
           },
           "yaxis": {
            "backgroundcolor": "#E5ECF6",
            "gridcolor": "white",
            "gridwidth": 2,
            "linecolor": "white",
            "showbackground": true,
            "ticks": "",
            "zerolinecolor": "white"
           },
           "zaxis": {
            "backgroundcolor": "#E5ECF6",
            "gridcolor": "white",
            "gridwidth": 2,
            "linecolor": "white",
            "showbackground": true,
            "ticks": "",
            "zerolinecolor": "white"
           }
          },
          "shapedefaults": {
           "line": {
            "color": "#2a3f5f"
           }
          },
          "ternary": {
           "aaxis": {
            "gridcolor": "white",
            "linecolor": "white",
            "ticks": ""
           },
           "baxis": {
            "gridcolor": "white",
            "linecolor": "white",
            "ticks": ""
           },
           "bgcolor": "#E5ECF6",
           "caxis": {
            "gridcolor": "white",
            "linecolor": "white",
            "ticks": ""
           }
          },
          "title": {
           "x": 0.05
          },
          "xaxis": {
           "automargin": true,
           "gridcolor": "white",
           "linecolor": "white",
           "ticks": "",
           "title": {
            "standoff": 15
           },
           "zerolinecolor": "white",
           "zerolinewidth": 2
          },
          "yaxis": {
           "automargin": true,
           "gridcolor": "white",
           "linecolor": "white",
           "ticks": "",
           "title": {
            "standoff": 15
           },
           "zerolinecolor": "white",
           "zerolinewidth": 2
          }
         }
        },
        "title": {
         "text": "Model fit of Random Forest model"
        },
        "xaxis": {
         "anchor": "y",
         "domain": [
          0,
          1
         ],
         "title": {
          "text": "measured data (sample)"
         }
        },
        "yaxis": {
         "anchor": "x",
         "domain": [
          0,
          1
         ],
         "title": {
          "text": "fitted values (in sample fit)"
         }
        }
       }
      },
      "text/html": [
       "<div>                            <div id=\"71ecb84f-9bd5-4bd6-8482-9e9ead8b077b\" class=\"plotly-graph-div\" style=\"height:525px; width:100%;\"></div>            <script type=\"text/javascript\">                require([\"plotly\"], function(Plotly) {                    window.PLOTLYENV=window.PLOTLYENV || {};                                    if (document.getElementById(\"71ecb84f-9bd5-4bd6-8482-9e9ead8b077b\")) {                    Plotly.newPlot(                        \"71ecb84f-9bd5-4bd6-8482-9e9ead8b077b\",                        [{\"hovertemplate\": \"split=out of sample<br>meas=%{x}<br>pred=%{y}<extra></extra>\", \"legendgroup\": \"out of sample\", \"marker\": {\"color\": \"#212c52\", \"size\": 10, \"symbol\": \"circle\"}, \"mode\": \"markers\", \"name\": \"out of sample\", \"orientation\": \"v\", \"showlegend\": true, \"type\": \"scatter\", \"x\": [3.643945912748067, 3.000434077479319, 2.5943925503754266, 4.544068044350276, 2.4885507165004443, 2.5477747053878224, 3.1942367487238292, 2.287801729930226, 3.651762447380111, 4.16354896490181, 2.7442929831226763, 2.155336037465062, 2.7442929831226763, 2.481442628502305, 3.325925955771466, 3.3261309567107946, 3.6534054906645013, 3.1743505974793798, 2.7867514221455614, 3.4500950758716025, 2.3324384599156054, 2.3961993470957363, 3.000434077479319, 3.3879234669734366, 2.164352855784437, 4.544068044350276, 2.503790683057181, 3.651762447380111, 3.2643455070500926, 3.325925955771466, 2.247973266361807, 3.651762447380111, 2.938519725176492, 3.070037866607755, 2.884795363948981, 2.6127838567197355, 3.775756037844098, 2.8068580295188172, 3.8516863154424277, 2.663700925389648, 4.101540872558349, 4.544068044350276, 2.7589118923979736, 3.2638726768652235, 3.3261309567107946, 3.1942367487238292, 2.938519725176492, 3.1942367487238292, 2.041392685158225, 3.7137424784090824, 2.7442929831226763, 2.9800033715837464, 4.101506496139928, 2.4183012913197452, 2.5514499979728753, 2.4899584794248346, 3.3283796034387376, 2.2528530309798933, 2.682145076373832, 2.7442929831226763, 3.7285161047597666, 2.893206753059848, 3.9076263048432662, 3.6516656039229356, 2.7781512503836434, 3.2641091563058082, 2.7972675408307164, 2.9380190974762104, 3.0729847446279304, 3.1300119496719043, 3.070037866607755, 2.682145076373832, 3.584670384464349, 3.2641091563058082, 2.403120521175818, 2.6748611407378116, 2.8432327780980096, 3.3881012015705165], \"xaxis\": \"x\", \"y\": [4.056963941862633, 3.2988413421320666, 2.7778885333232464, 3.337798979580591, 2.448389760745315, 2.6876541831977536, 2.3697874277249777, 2.7180756962610895, 3.5498733344753655, 3.7977454335561496, 3.3195519605207355, 3.200823417984605, 3.05310563341557, 2.568038001343379, 3.387294981544783, 3.7450689226283007, 3.5498733344753655, 2.930671807492254, 3.00101429632261, 3.2839464075070577, 3.1015728805987646, 2.9049565716983348, 2.602462509485968, 3.6445706548355723, 2.9471649434201916, 4.1508256426529035, 2.800845373749532, 3.0664268978766387, 3.6579184381722483, 3.9054166904944636, 2.4334107095380655, 3.4536814585323996, 3.61334874387231, 3.2839464075070577, 3.4836892962235493, 3.1167128088054947, 2.8787143937107555, 2.6255560006965895, 3.880647085877436, 3.020886158377377, 4.335196238535024, 3.475116833039307, 3.065133408844983, 3.445746453191184, 3.045051552570671, 3.579355265339704, 2.8286985018457003, 2.8415328543609304, 2.568038001343379, 2.4455307079563373, 2.602462509485968, 3.5949761889637237, 4.152667073406326, 3.708345392670434, 2.6876541831977536, 2.8522793085433387, 3.587038914868575, 2.836438003932312, 3.2190863335078888, 2.7501712355730996, 3.7977454335561496, 3.257295271636163, 3.5147221853252444, 3.3349865427546583, 2.9471649434201916, 2.930671807492254, 2.9009210626950765, 3.13346363451734, 3.154118042256071, 3.579355265339704, 4.152667073406326, 2.84941095895433, 3.0980501615668214, 2.960959413132449, 3.129941262621332, 2.6998424224529454, 3.6244520420583908, 3.0980501615668214], \"yaxis\": \"y\"}, {\"hovertemplate\": \"split=in sample<br>meas=%{x}<br>pred=%{y}<extra></extra>\", \"legendgroup\": \"in sample\", \"marker\": {\"color\": \"#75c3ff\", \"size\": 10, \"symbol\": \"circle\"}, \"mode\": \"markers\", \"name\": \"in sample\", \"orientation\": \"v\", \"showlegend\": true, \"type\": \"scatter\", \"x\": [2.7442929831226763, 3.7285161047597666, 2.870403905279027, 3.3925210899319325, 3.4459154139511234, 2.8068580295188172, 2.574031267727719, 3.5199591807520685, 3.4578818967339924, 2.3324384599156054, 4.039453778961737, 2.8068580295188172, 3.520483532740792, 2.8068580295188172, 3.470704429722788, 2.900913067737669, 3.885530833188092, 2.4885507165004443, 2.4885507165004443, 2.6414741105040997, 3.1942367487238292, 3.000434077479319, 3.307282047033346, 2.4899584794248346, 2.6748611407378116, 3.336859820916809, 4.551340190543342, 3.519302849235429, 2.8686444383948255, 3.519827993775719, 4.039453778961737, 2.403120521175818, 2.938519725176492, 2.7234556720351857, 3.003029470553618, 3.000434077479319, 4.544068044350276, 4.544068044350276, 2.6857417386022635, 3.7023443583557687, 3.775756037844098, 3.3881012015705165, 3.2641091563058082, 2.6127838567197355, 3.837840861655523, 2.294466226161593, 3.7137424784090824, 2.4885507165004443, 3.7137424784090824, 2.4899584794248346, 2.6414741105040997, 4.544068044350276, 2.8068580295188172, 3.9205928620848085, 1.9030899869919435, 3.7137424784090824, 2.938519725176492, 4.357458385645036, 3.9076263048432662, 3.019116290447073, 2.876217840591642, 2.7589118923979736, 4.544068044350276, 3.025715383901341, 3.9076263048432662, 3.000434077479319, 3.256236533205923, 2.225309281725863, 2.682145076373832, 2.7193312869837265, 2.5477747053878224, 2.598790506763115, 3.070037866607755, 2.9469432706978256, 3.2638726768652235, 3.581835924057648, 2.876217840591642, 2.419955748489758, 3.119585774961784, 3.000434077479319, 3.1942367487238292, 3.7567881987681178, 3.317854489331469, 4.544068044350276, 1.7781512503836436, 2.682145076373832, 3.070037866607755, 3.6769678142947586, 3.3881012015705165, 2.2068258760318495, 3.1942367487238292, 3.2638726768652235, 3.062581984228163, 2.6748611407378116, 3.1322596895310446, 3.5199591807520685, 3.1322596895310446, 2.6127838567197355, 3.643945912748067, 3.000434077479319, 3.651762447380111, 2.938519725176492, 2.369215857410143, 2.357934847000454, 2.6127838567197355, 3.3261309567107946, 4.2255935481548, 3.3261309567107946, 4.223755453657241, 3.070037866607755, 3.9696488404807253, 2.9380190974762104, 2.3654879848909, 3.1451964061141817, 3.0773679052841563, 2.5477747053878224, 2.225309281725863, 4.4428872189023485, 4.544068044350276, 3.062581984228163, 3.256236533205923, 2.8068580295188172, 3.1051694279993316, 2.6127838567197355, 2.100370545117563, 2.682145076373832, 4.317958924700952, 2.637489729512511, 3.0318122713303706, 3.070037866607755, 3.520483532740792, 3.143327129992046, 2.7442929831226763, 3.3261309567107946, 3.2638726768652235, 2.586587304671755, 2.8573324964312685, 2.870403905279027, 4.374216605428374, 3.0145205387579237, 3.336859820916809, 4.2954131455196585, 4.544068044350276, 4.544068044350276, 3.9076263048432662, 4.103358939866562, 3.2641091563058082, 2.9804578922761, 3.003029470553618, 2.747411807886423, 3.7758288144646124, 3.274850320016665, 2.7442929831226763, 3.1942367487238292, 3.7758288144646124, 3.1942367487238292, 2.7442929831226763, 2.876217840591642, 2.3283796034387376, 3.000434077479319, 4.544068044350276, 3.519827993775719, 4.14188854970586, 3.037027879755775, 2.6830470382388496, 3.7567881987681178, 3.9076263048432662, 4.374216605428374, 2.419955748489758, 4.357458385645036, 3.2641091563058082, 3.256236533205923, 2.910624404889201, 2.6830470382388496, 2.938519725176492, 2.8750612633917, 1.7781512503836436, 2.938519725176492, 3.1826999033360424, 2.481442628502305, 2.294466226161593, 3.253580289562183, 2.6148972160331345, 3.1942367487238292, 2.6127838567197355, 3.3881012015705165, 4.163578765188774, 3.5341530741850624, 2.8068580295188172, 3.0881360887005513, 2.7442929831226763, 2.7442929831226763, 2.287801729930226, 2.8524799936368566, 2.663700925389648, 2.5514499979728753, 2.574031267727719, 3.3261309567107946, 3.256236533205923, 2.82020145948564, 3.4933186082321015, 3.7019994748896368, 3.6516656039229356, 2.6127838567197355, 3.7480328941301435, 3.062581984228163, 2.6180480967120925, 3.7137424784090824, 2.591064607026499, 4.544068044350276, 3.1319392952104246, 3.000434077479319, 2.637489729512511, 3.3261309567107946, 4.317958924700952, 2.8344207036815328, 3.1942367487238292, 2.8068580295188172, 4.374216605428374, 2.6830470382388496, 4.544068044350276, 2.9304395947667, 4.2954131455196585, 3.1322596895310446, 2.9508514588885464, 3.3261309567107946, 3.2641091563058082, 4.551340190543342, 2.710963118995276, 3.1322596895310446, 3.581835924057648, 2.8068580295188172, 2.5943925503754266, 3.519827993775719, 3.584670384464349, 2.893206753059848, 2.5514499979728753, 3.7480328941301435, 2.940516484932567, 2.9380190974762104, 2.419955748489758, 3.3261309567107946, 3.2095150145426308, 2.419955748489758, 3.083860800866573, 3.070037866607755, 3.7758288144646124, 2.4578818967339924, 3.2543063323312857, 2.419955748489758, 3.3492775274679554, 2.940516484932567, 2.7442929831226763, 3.7866804531966487, 3.2641091563058082, 2.5514499979728753, 3.1319392952104246, 2.428134794028789, 3.256236533205923, 3.4577305482459986, 2.94546858513182, 2.747411807886423, 3.1319392952104246, 4.683182171097453, 2.494154594018443, 3.1319392952104246, 3.2068258760318495, 2.357934847000454, 3.4214393902200495, 3.6516656039229356, 3.7137424784090824, 4.101506496139928, 2.727541257028556, 3.581949658373318, 3.581835924057648, 1.9084850188786497, 2.357934847000454, 2.2068258760318495, 3.1319392952104246, 2.100370545117563, 3.0492180226701815, 3.2538224387080734, 2.94546858513182, 4.544068044350276, 2.681241237375587, 3.775756037844098, 3.775756037844098, 4.069298012115529, 4.163578765188774, 3.643945912748067, 2.9380190974762104, 3.244524511570084, 4.815026229442373, 2.8750612633917, 3.3879234669734366, 2.806179973983887, 2.7442929831226763, 2.9858753573083936, 2.7315887651867388, 2.6127838567197355, 2.9380190974762104, 2.9628426812012423, 2.7589118923979736, 3.000434077479319, 3.274619619091238, 3.3879234669734366, 3.7866804531966487, 3.4577305482459986, 3.5199591807520685, 2.876217840591642, 3.3261309567107946, 3.1319392952104246], \"xaxis\": \"x\", \"y\": [2.616204676574224, 3.648584496250609, 3.120995260058462, 3.5464254368065258, 3.4834339921395148, 2.8506535519200322, 2.84941095895433, 2.9937219529104464, 3.3837633894340393, 2.3697874277249777, 3.786357123883237, 2.850931437715111, 3.4362511448903237, 2.98621411520669, 3.3349865427546583, 2.62292044788747, 3.7473524957016435, 2.631822593839464, 2.4844777309523245, 2.3203795696307212, 3.250315768555313, 3.0673938923068595, 3.31092420193734, 2.8415328543609304, 2.609808509616657, 3.3277521129991574, 4.382437113351222, 3.9478883426511864, 2.882113213221313, 3.405937229839728, 3.8701115458951443, 2.7225519580181827, 2.960959413132449, 3.064540667689496, 3.0045997349331293, 2.89041561508722, 4.085419027136626, 3.6927452060428747, 2.7399402788485205, 3.3061166380706672, 3.6244520420583908, 3.0542063963052755, 3.126716348364268, 2.7883816788426774, 4.151221790527758, 2.62292044788747, 2.8298902735949, 2.722639875485963, 3.7977454335561496, 2.7761862688876535, 2.752928615599249, 4.37017187328868, 2.895159782861489, 3.457094285218352, 2.4261665822724616, 3.3180011939349705, 2.984112833285536, 4.1508256426529035, 3.6274306749016265, 2.9825578014848166, 2.836438003932312, 2.86968791328373, 4.4768533523361995, 3.174539017099506, 3.7450689226283007, 3.120523992373725, 3.3372986058496625, 2.448389760745315, 2.7778885333232464, 2.8298902735949, 2.722175382289697, 2.957873568346318, 3.781200694642777, 2.9090497430063844, 2.9841734932479276, 3.1155607538789307, 2.7689974618521735, 2.4844777309523245, 3.0997757417390575, 3.036232247554801, 3.3364093788119593, 3.495235875985801, 3.3239885491466725, 4.041317655443102, 2.3203795696307212, 2.800845373749532, 2.7761862688876535, 3.6459297281688463, 3.064540667689496, 2.561128300242759, 3.0582320254409856, 3.6445706548355723, 2.984112833285536, 2.7849344080807077, 2.9333989307494015, 3.4834339921395148, 3.041673930673353, 2.833628247609366, 3.68847661267679, 2.828690210506399, 3.3387752259300365, 2.901626383674332, 2.601493333282222, 2.4417371905653287, 2.62292044788747, 3.31092420193734, 4.37017187328868, 3.3239885491466725, 3.983179596199858, 3.332065159641477, 3.796147909666648, 2.9372035748010106, 2.499052405001743, 2.9818519615672425, 3.3387752259300365, 2.7180756962610895, 2.3397573399379676, 4.151221790527758, 4.352838857982242, 2.8415328543609304, 3.1015728805987646, 2.909664349831818, 3.3092023188367525, 2.568038001343379, 2.8298902735949, 3.560266221159917, 3.8120899575356884, 2.7689974618521735, 3.126716348364268, 3.457094285218352, 3.3290895355924297, 3.387294981544783, 2.901626383674332, 3.3341273921853145, 3.795226664146925, 2.88268373981801, 3.05310563341557, 2.8936684033150293, 4.2388003302073525, 2.901626383674332, 3.3341273921853145, 4.112364024524343, 3.781200694642777, 4.056963941862633, 3.727858165382877, 3.9054166904944636, 3.154118042256071, 3.3180011939349705, 2.8361398547481858, 2.8662938388498804, 3.2574252237409067, 3.3132331098182286, 2.7501712355730996, 2.957873568346318, 3.587038914868575, 3.2988413421320666, 3.6927452060428747, 2.9009210626950765, 2.7142646789803333, 2.9499532053029305, 3.747872016137318, 3.5758599663208743, 3.8550554755408037, 3.0369029952913023, 2.8361398547481858, 3.409761642377552, 3.7977454335561496, 4.082067466433918, 3.120995260058462, 4.0682735175240925, 3.2673688519551423, 3.3101690180992205, 3.0582320254409856, 2.9333989307494015, 2.9499532053029305, 2.976896943908963, 1.9677360652967413, 2.9825578014848166, 3.327079761811636, 2.609808509616657, 2.3697874277249777, 3.0809808410947883, 3.1009958859076203, 2.9818519615672425, 2.9818519615672425, 3.3277521129991574, 3.120995260058462, 3.3531612818140064, 2.85557261285643, 3.045051552570671, 2.752928615599249, 2.646086351390506, 2.4334107095380655, 2.940517227412015, 2.712098146365947, 3.020886158377377, 2.828690210506399, 3.2673688519551423, 3.3180011939349705, 2.85557261285643, 3.427040539020864, 3.796147909666648, 3.5949761889637237, 3.0542063963052755, 3.563587192961239, 3.200823417984605, 3.1155607538789307, 3.387294981544783, 2.9841734932479276, 3.560266221159917, 3.1009958859076203, 3.0809808410947883, 2.565199231357969, 3.257295271636163, 4.240137605342732, 2.882113213221313, 2.98621411520669, 2.9457642075350603, 4.293812016642967, 2.9090497430063844, 3.795226664146925, 3.3061166380706672, 3.9478883426511864, 3.1282928185955785, 2.8595058510464315, 3.020886158377377, 3.3132331098182286, 4.352838857982242, 2.8096770244640856, 3.065133408844983, 3.3364093788119593, 2.4261665822724616, 2.631822593839464, 3.1009958859076203, 3.4993908402150664, 2.833628247609366, 2.646086351390506, 3.708345392670434, 2.984112833285536, 3.160875249277661, 2.9937219529104464, 3.427040539020864, 3.036232247554801, 2.565199231357969, 3.039150898378503, 3.05310563341557, 4.041317655443102, 2.8286985018457003, 3.1282928185955785, 2.5378052643763196, 3.3195519605207355, 3.175306688370736, 2.8595058510464315, 3.68847661267679, 3.250315768555313, 2.65683383924901, 3.3032957449633447, 2.616204676574224, 3.3290895355924297, 3.175306688370736, 2.871887954098478, 2.794763841918001, 3.2552082086839524, 4.335196238535024, 2.5378052643763196, 3.113982137789871, 3.385160572411707, 2.499052405001743, 3.3372986058496625, 3.648584496250609, 3.674701263877547, 3.6445706548355723, 2.89041561508722, 3.385160572411707, 3.6459297281688463, 1.9677360652967413, 2.5285951206006967, 2.4104895157653656, 3.747872016137318, 2.4455307079563373, 3.041673930673353, 3.3837633894340393, 2.909664349831818, 3.664881409248415, 2.4455307079563373, 3.708345392670434, 3.796147909666648, 4.0682735175240925, 4.2388003302073525, 3.61334874387231, 3.0429406875553657, 3.0664268978766387, 4.4768533523361995, 2.8506535519200322, 3.495235875985801, 2.7778885333232464, 2.8522793085433387, 2.9442217125918986, 2.8422572791739475, 2.784443651611185, 3.664881409248415, 3.0429406875553657, 3.2574252237409067, 2.7225519580181827, 3.2839464075070577, 3.402368581010087, 3.674701263877547, 3.8120899575356884, 3.3837633894340393, 2.930671807492254, 3.563587192961239, 3.0561074067557463], \"yaxis\": \"y\"}],                        {\"font\": {\"color\": \"black\", \"family\": \"Helvetica Neue, Helvetica, Arial, sans-serif\"}, \"legend\": {\"title\": {}, \"tracegroupgap\": 0, \"x\": 0.01, \"xanchor\": \"left\", \"y\": 0.99, \"yanchor\": \"top\"}, \"margin\": {\"t\": 60}, \"template\": {\"data\": {\"bar\": [{\"error_x\": {\"color\": \"#2a3f5f\"}, \"error_y\": {\"color\": \"#2a3f5f\"}, \"marker\": {\"line\": {\"color\": \"#E5ECF6\", \"width\": 0.5}}, \"type\": \"bar\"}], \"barpolar\": [{\"marker\": {\"line\": {\"color\": \"#E5ECF6\", \"width\": 0.5}}, \"type\": \"barpolar\"}], \"carpet\": [{\"aaxis\": {\"endlinecolor\": \"#2a3f5f\", \"gridcolor\": \"white\", \"linecolor\": \"white\", \"minorgridcolor\": \"white\", \"startlinecolor\": \"#2a3f5f\"}, \"baxis\": {\"endlinecolor\": \"#2a3f5f\", \"gridcolor\": \"white\", \"linecolor\": \"white\", \"minorgridcolor\": \"white\", \"startlinecolor\": \"#2a3f5f\"}, \"type\": \"carpet\"}], \"choropleth\": [{\"colorbar\": {\"outlinewidth\": 0, \"ticks\": \"\"}, \"type\": \"choropleth\"}], \"contour\": [{\"colorbar\": {\"outlinewidth\": 0, \"ticks\": \"\"}, \"colorscale\": [[0.0, \"#0d0887\"], [0.1111111111111111, \"#46039f\"], [0.2222222222222222, \"#7201a8\"], [0.3333333333333333, \"#9c179e\"], [0.4444444444444444, \"#bd3786\"], [0.5555555555555556, \"#d8576b\"], [0.6666666666666666, \"#ed7953\"], [0.7777777777777778, \"#fb9f3a\"], [0.8888888888888888, \"#fdca26\"], [1.0, \"#f0f921\"]], \"type\": \"contour\"}], \"contourcarpet\": [{\"colorbar\": {\"outlinewidth\": 0, \"ticks\": \"\"}, \"type\": \"contourcarpet\"}], \"heatmap\": [{\"colorbar\": {\"outlinewidth\": 0, \"ticks\": \"\"}, \"colorscale\": [[0.0, \"#0d0887\"], [0.1111111111111111, \"#46039f\"], [0.2222222222222222, \"#7201a8\"], [0.3333333333333333, \"#9c179e\"], [0.4444444444444444, \"#bd3786\"], [0.5555555555555556, \"#d8576b\"], [0.6666666666666666, \"#ed7953\"], [0.7777777777777778, \"#fb9f3a\"], [0.8888888888888888, \"#fdca26\"], [1.0, \"#f0f921\"]], \"type\": \"heatmap\"}], \"heatmapgl\": [{\"colorbar\": {\"outlinewidth\": 0, \"ticks\": \"\"}, \"colorscale\": [[0.0, \"#0d0887\"], [0.1111111111111111, \"#46039f\"], [0.2222222222222222, \"#7201a8\"], [0.3333333333333333, \"#9c179e\"], [0.4444444444444444, \"#bd3786\"], [0.5555555555555556, \"#d8576b\"], [0.6666666666666666, \"#ed7953\"], [0.7777777777777778, \"#fb9f3a\"], [0.8888888888888888, \"#fdca26\"], [1.0, \"#f0f921\"]], \"type\": \"heatmapgl\"}], \"histogram\": [{\"marker\": {\"colorbar\": {\"outlinewidth\": 0, \"ticks\": \"\"}}, \"type\": \"histogram\"}], \"histogram2d\": [{\"colorbar\": {\"outlinewidth\": 0, \"ticks\": \"\"}, \"colorscale\": [[0.0, \"#0d0887\"], [0.1111111111111111, \"#46039f\"], [0.2222222222222222, \"#7201a8\"], [0.3333333333333333, \"#9c179e\"], [0.4444444444444444, \"#bd3786\"], [0.5555555555555556, \"#d8576b\"], [0.6666666666666666, \"#ed7953\"], [0.7777777777777778, \"#fb9f3a\"], [0.8888888888888888, \"#fdca26\"], [1.0, \"#f0f921\"]], \"type\": \"histogram2d\"}], \"histogram2dcontour\": [{\"colorbar\": {\"outlinewidth\": 0, \"ticks\": \"\"}, \"colorscale\": [[0.0, \"#0d0887\"], [0.1111111111111111, \"#46039f\"], [0.2222222222222222, \"#7201a8\"], [0.3333333333333333, \"#9c179e\"], [0.4444444444444444, \"#bd3786\"], [0.5555555555555556, \"#d8576b\"], [0.6666666666666666, \"#ed7953\"], [0.7777777777777778, \"#fb9f3a\"], [0.8888888888888888, \"#fdca26\"], [1.0, \"#f0f921\"]], \"type\": \"histogram2dcontour\"}], \"mesh3d\": [{\"colorbar\": {\"outlinewidth\": 0, \"ticks\": \"\"}, \"type\": \"mesh3d\"}], \"parcoords\": [{\"line\": {\"colorbar\": {\"outlinewidth\": 0, \"ticks\": \"\"}}, \"type\": \"parcoords\"}], \"pie\": [{\"automargin\": true, \"type\": \"pie\"}], \"scatter\": [{\"marker\": {\"colorbar\": {\"outlinewidth\": 0, \"ticks\": \"\"}}, \"type\": \"scatter\"}], \"scatter3d\": [{\"line\": {\"colorbar\": {\"outlinewidth\": 0, \"ticks\": \"\"}}, \"marker\": {\"colorbar\": {\"outlinewidth\": 0, \"ticks\": \"\"}}, \"type\": \"scatter3d\"}], \"scattercarpet\": [{\"marker\": {\"colorbar\": {\"outlinewidth\": 0, \"ticks\": \"\"}}, \"type\": \"scattercarpet\"}], \"scattergeo\": [{\"marker\": {\"colorbar\": {\"outlinewidth\": 0, \"ticks\": \"\"}}, \"type\": \"scattergeo\"}], \"scattergl\": [{\"marker\": {\"colorbar\": {\"outlinewidth\": 0, \"ticks\": \"\"}}, \"type\": \"scattergl\"}], \"scattermapbox\": [{\"marker\": {\"colorbar\": {\"outlinewidth\": 0, \"ticks\": \"\"}}, \"type\": \"scattermapbox\"}], \"scatterpolar\": [{\"marker\": {\"colorbar\": {\"outlinewidth\": 0, \"ticks\": \"\"}}, \"type\": \"scatterpolar\"}], \"scatterpolargl\": [{\"marker\": {\"colorbar\": {\"outlinewidth\": 0, \"ticks\": \"\"}}, \"type\": \"scatterpolargl\"}], \"scatterternary\": [{\"marker\": {\"colorbar\": {\"outlinewidth\": 0, \"ticks\": \"\"}}, \"type\": \"scatterternary\"}], \"surface\": [{\"colorbar\": {\"outlinewidth\": 0, \"ticks\": \"\"}, \"colorscale\": [[0.0, \"#0d0887\"], [0.1111111111111111, \"#46039f\"], [0.2222222222222222, \"#7201a8\"], [0.3333333333333333, \"#9c179e\"], [0.4444444444444444, \"#bd3786\"], [0.5555555555555556, \"#d8576b\"], [0.6666666666666666, \"#ed7953\"], [0.7777777777777778, \"#fb9f3a\"], [0.8888888888888888, \"#fdca26\"], [1.0, \"#f0f921\"]], \"type\": \"surface\"}], \"table\": [{\"cells\": {\"fill\": {\"color\": \"#EBF0F8\"}, \"line\": {\"color\": \"white\"}}, \"header\": {\"fill\": {\"color\": \"#C8D4E3\"}, \"line\": {\"color\": \"white\"}}, \"type\": \"table\"}]}, \"layout\": {\"annotationdefaults\": {\"arrowcolor\": \"#2a3f5f\", \"arrowhead\": 0, \"arrowwidth\": 1}, \"autotypenumbers\": \"strict\", \"coloraxis\": {\"colorbar\": {\"outlinewidth\": 0, \"ticks\": \"\"}}, \"colorscale\": {\"diverging\": [[0, \"#8e0152\"], [0.1, \"#c51b7d\"], [0.2, \"#de77ae\"], [0.3, \"#f1b6da\"], [0.4, \"#fde0ef\"], [0.5, \"#f7f7f7\"], [0.6, \"#e6f5d0\"], [0.7, \"#b8e186\"], [0.8, \"#7fbc41\"], [0.9, \"#4d9221\"], [1, \"#276419\"]], \"sequential\": [[0.0, \"#0d0887\"], [0.1111111111111111, \"#46039f\"], [0.2222222222222222, \"#7201a8\"], [0.3333333333333333, \"#9c179e\"], [0.4444444444444444, \"#bd3786\"], [0.5555555555555556, \"#d8576b\"], [0.6666666666666666, \"#ed7953\"], [0.7777777777777778, \"#fb9f3a\"], [0.8888888888888888, \"#fdca26\"], [1.0, \"#f0f921\"]], \"sequentialminus\": [[0.0, \"#0d0887\"], [0.1111111111111111, \"#46039f\"], [0.2222222222222222, \"#7201a8\"], [0.3333333333333333, \"#9c179e\"], [0.4444444444444444, \"#bd3786\"], [0.5555555555555556, \"#d8576b\"], [0.6666666666666666, \"#ed7953\"], [0.7777777777777778, \"#fb9f3a\"], [0.8888888888888888, \"#fdca26\"], [1.0, \"#f0f921\"]]}, \"colorway\": [\"#636efa\", \"#EF553B\", \"#00cc96\", \"#ab63fa\", \"#FFA15A\", \"#19d3f3\", \"#FF6692\", \"#B6E880\", \"#FF97FF\", \"#FECB52\"], \"font\": {\"color\": \"#2a3f5f\"}, \"geo\": {\"bgcolor\": \"white\", \"lakecolor\": \"white\", \"landcolor\": \"#E5ECF6\", \"showlakes\": true, \"showland\": true, \"subunitcolor\": \"white\"}, \"hoverlabel\": {\"align\": \"left\"}, \"hovermode\": \"closest\", \"mapbox\": {\"style\": \"light\"}, \"paper_bgcolor\": \"white\", \"plot_bgcolor\": \"#E5ECF6\", \"polar\": {\"angularaxis\": {\"gridcolor\": \"white\", \"linecolor\": \"white\", \"ticks\": \"\"}, \"bgcolor\": \"#E5ECF6\", \"radialaxis\": {\"gridcolor\": \"white\", \"linecolor\": \"white\", \"ticks\": \"\"}}, \"scene\": {\"xaxis\": {\"backgroundcolor\": \"#E5ECF6\", \"gridcolor\": \"white\", \"gridwidth\": 2, \"linecolor\": \"white\", \"showbackground\": true, \"ticks\": \"\", \"zerolinecolor\": \"white\"}, \"yaxis\": {\"backgroundcolor\": \"#E5ECF6\", \"gridcolor\": \"white\", \"gridwidth\": 2, \"linecolor\": \"white\", \"showbackground\": true, \"ticks\": \"\", \"zerolinecolor\": \"white\"}, \"zaxis\": {\"backgroundcolor\": \"#E5ECF6\", \"gridcolor\": \"white\", \"gridwidth\": 2, \"linecolor\": \"white\", \"showbackground\": true, \"ticks\": \"\", \"zerolinecolor\": \"white\"}}, \"shapedefaults\": {\"line\": {\"color\": \"#2a3f5f\"}}, \"ternary\": {\"aaxis\": {\"gridcolor\": \"white\", \"linecolor\": \"white\", \"ticks\": \"\"}, \"baxis\": {\"gridcolor\": \"white\", \"linecolor\": \"white\", \"ticks\": \"\"}, \"bgcolor\": \"#E5ECF6\", \"caxis\": {\"gridcolor\": \"white\", \"linecolor\": \"white\", \"ticks\": \"\"}}, \"title\": {\"x\": 0.05}, \"xaxis\": {\"automargin\": true, \"gridcolor\": \"white\", \"linecolor\": \"white\", \"ticks\": \"\", \"title\": {\"standoff\": 15}, \"zerolinecolor\": \"white\", \"zerolinewidth\": 2}, \"yaxis\": {\"automargin\": true, \"gridcolor\": \"white\", \"linecolor\": \"white\", \"ticks\": \"\", \"title\": {\"standoff\": 15}, \"zerolinecolor\": \"white\", \"zerolinewidth\": 2}}}, \"title\": {\"text\": \"Model fit of Random Forest model\"}, \"xaxis\": {\"anchor\": \"y\", \"domain\": [0.0, 1.0], \"title\": {\"text\": \"measured data (sample)\"}}, \"yaxis\": {\"anchor\": \"x\", \"domain\": [0.0, 1.0], \"title\": {\"text\": \"fitted values (in sample fit)\"}}},                        {\"responsive\": true}                    ).then(function(){\n",
       "                            \n",
       "var gd = document.getElementById('71ecb84f-9bd5-4bd6-8482-9e9ead8b077b');\n",
       "var x = new MutationObserver(function (mutations, observer) {{\n",
       "        var display = window.getComputedStyle(gd).display;\n",
       "        if (!display || display === 'none') {{\n",
       "            console.log([gd, 'removed!']);\n",
       "            Plotly.purge(gd);\n",
       "            observer.disconnect();\n",
       "        }}\n",
       "}});\n",
       "\n",
       "// Listen for the removal of the full notebook cells\n",
       "var notebookContainer = gd.closest('#notebook-container');\n",
       "if (notebookContainer) {{\n",
       "    x.observe(notebookContainer, {childList: true});\n",
       "}}\n",
       "\n",
       "// Listen for the clearing of the current output cell\n",
       "var outputEl = gd.closest('.output');\n",
       "if (outputEl) {{\n",
       "    x.observe(outputEl, {childList: true});\n",
       "}}\n",
       "\n",
       "                        })                };                });            </script>        </div>"
      ]
     },
     "metadata": {},
     "output_type": "display_data"
    }
   ],
   "source": [
    "fig = px.scatter(df, x = \"meas\", y = \"pred\", color = \"split\", \n",
    "                 color_discrete_sequence=['#212c52','#75c3ff'])\n",
    "\n",
    "fig.update_layout(\n",
    "    font_family=\"Helvetica Neue, Helvetica, Arial, sans-serif\",\n",
    "    font_color=\"black\",\n",
    "    title = {'text':'Model fit of Random Forest model'},\n",
    "    xaxis_title = \"measured data (sample)\",\n",
    "    yaxis_title = \"fitted values (in sample fit)\",\n",
    "    #markersize= 12,\n",
    "  )\n",
    "fig.update_layout(legend=dict(\n",
    "    yanchor=\"top\",\n",
    "    title=None,\n",
    "    y=0.99,\n",
    "    xanchor=\"left\",\n",
    "    x=0.01\n",
    "))\n",
    "fig.update_traces(marker_size = 10)\n",
    "\n",
    "#['#75c3ff', \"red\"],#, marker_line_color='#212c52',\n",
    " #                 marker_line_width=1.5, opacity=1)\n",
    "\n"
   ]
  },
  {
   "cell_type": "code",
   "execution_count": 379,
   "id": "interpreted-howard",
   "metadata": {},
   "outputs": [
    {
     "data": {
      "application/vnd.plotly.v1+json": {
       "config": {
        "plotlyServerURL": "https://plot.ly"
       },
       "data": [
        {
         "hovertemplate": "split=out of sample<br>meas=%{x}<br>pred=%{y}<extra></extra>",
         "legendgroup": "out of sample",
         "marker": {
          "color": "#212c52",
          "size": 10,
          "symbol": "circle"
         },
         "mode": "markers",
         "name": "out of sample",
         "orientation": "v",
         "showlegend": true,
         "type": "scatter",
         "x": [
          3.643945912748067,
          3.000434077479319,
          2.5943925503754266,
          4.544068044350276,
          2.4885507165004443,
          2.5477747053878224,
          3.1942367487238292,
          2.287801729930226,
          3.651762447380111,
          4.16354896490181,
          2.7442929831226763,
          2.155336037465062,
          2.7442929831226763,
          2.481442628502305,
          3.325925955771466,
          3.3261309567107946,
          3.6534054906645013,
          3.1743505974793798,
          2.7867514221455614,
          3.4500950758716025,
          2.3324384599156054,
          2.3961993470957363,
          3.000434077479319,
          3.3879234669734366,
          2.164352855784437,
          4.544068044350276,
          2.503790683057181,
          3.651762447380111,
          3.2643455070500926,
          3.325925955771466,
          2.247973266361807,
          3.651762447380111,
          2.938519725176492,
          3.070037866607755,
          2.884795363948981,
          2.6127838567197355,
          3.775756037844098,
          2.8068580295188172,
          3.8516863154424277,
          2.663700925389648,
          4.101540872558349,
          4.544068044350276,
          2.7589118923979736,
          3.2638726768652235,
          3.3261309567107946,
          3.1942367487238292,
          2.938519725176492,
          3.1942367487238292,
          2.041392685158225,
          3.7137424784090824,
          2.7442929831226763,
          2.9800033715837464,
          4.101506496139928,
          2.4183012913197452,
          2.5514499979728753,
          2.4899584794248346,
          3.3283796034387376,
          2.2528530309798933,
          2.682145076373832,
          2.7442929831226763,
          3.7285161047597666,
          2.893206753059848,
          3.9076263048432662,
          3.6516656039229356,
          2.7781512503836434,
          3.2641091563058082,
          2.7972675408307164,
          2.9380190974762104,
          3.0729847446279304,
          3.1300119496719043,
          3.070037866607755,
          2.682145076373832,
          3.584670384464349,
          3.2641091563058082,
          2.403120521175818,
          2.6748611407378116,
          2.8432327780980096,
          3.3881012015705165
         ],
         "xaxis": "x",
         "y": [
          4.056963941862633,
          3.2988413421320666,
          2.7778885333232464,
          3.337798979580591,
          2.448389760745315,
          2.6876541831977536,
          2.3697874277249777,
          2.7180756962610895,
          3.5498733344753655,
          3.7977454335561496,
          3.3195519605207355,
          3.200823417984605,
          3.05310563341557,
          2.568038001343379,
          3.387294981544783,
          3.7450689226283007,
          3.5498733344753655,
          2.930671807492254,
          3.00101429632261,
          3.2839464075070577,
          3.1015728805987646,
          2.9049565716983348,
          2.602462509485968,
          3.6445706548355723,
          2.9471649434201916,
          4.1508256426529035,
          2.800845373749532,
          3.0664268978766387,
          3.6579184381722483,
          3.9054166904944636,
          2.4334107095380655,
          3.4536814585323996,
          3.61334874387231,
          3.2839464075070577,
          3.4836892962235493,
          3.1167128088054947,
          2.8787143937107555,
          2.6255560006965895,
          3.880647085877436,
          3.020886158377377,
          4.335196238535024,
          3.475116833039307,
          3.065133408844983,
          3.445746453191184,
          3.045051552570671,
          3.579355265339704,
          2.8286985018457003,
          2.8415328543609304,
          2.568038001343379,
          2.4455307079563373,
          2.602462509485968,
          3.5949761889637237,
          4.152667073406326,
          3.708345392670434,
          2.6876541831977536,
          2.8522793085433387,
          3.587038914868575,
          2.836438003932312,
          3.2190863335078888,
          2.7501712355730996,
          3.7977454335561496,
          3.257295271636163,
          3.5147221853252444,
          3.3349865427546583,
          2.9471649434201916,
          2.930671807492254,
          2.9009210626950765,
          3.13346363451734,
          3.154118042256071,
          3.579355265339704,
          4.152667073406326,
          2.84941095895433,
          3.0980501615668214,
          2.960959413132449,
          3.129941262621332,
          2.6998424224529454,
          3.6244520420583908,
          3.0980501615668214
         ],
         "yaxis": "y"
        },
        {
         "hovertemplate": "split=in sample<br>meas=%{x}<br>pred=%{y}<extra></extra>",
         "legendgroup": "in sample",
         "marker": {
          "color": "#75c3ff",
          "size": 10,
          "symbol": "circle"
         },
         "mode": "markers",
         "name": "in sample",
         "orientation": "v",
         "showlegend": true,
         "type": "scatter",
         "x": [
          2.7442929831226763,
          3.7285161047597666,
          2.870403905279027,
          3.3925210899319325,
          3.4459154139511234,
          2.8068580295188172,
          2.574031267727719,
          3.5199591807520685,
          3.4578818967339924,
          2.3324384599156054,
          4.039453778961737,
          2.8068580295188172,
          3.520483532740792,
          2.8068580295188172,
          3.470704429722788,
          2.900913067737669,
          3.885530833188092,
          2.4885507165004443,
          2.4885507165004443,
          2.6414741105040997,
          3.1942367487238292,
          3.000434077479319,
          3.307282047033346,
          2.4899584794248346,
          2.6748611407378116,
          3.336859820916809,
          4.551340190543342,
          3.519302849235429,
          2.8686444383948255,
          3.519827993775719,
          4.039453778961737,
          2.403120521175818,
          2.938519725176492,
          2.7234556720351857,
          3.003029470553618,
          3.000434077479319,
          4.544068044350276,
          4.544068044350276,
          2.6857417386022635,
          3.7023443583557687,
          3.775756037844098,
          3.3881012015705165,
          3.2641091563058082,
          2.6127838567197355,
          3.837840861655523,
          2.294466226161593,
          3.7137424784090824,
          2.4885507165004443,
          3.7137424784090824,
          2.4899584794248346,
          2.6414741105040997,
          4.544068044350276,
          2.8068580295188172,
          3.9205928620848085,
          1.9030899869919435,
          3.7137424784090824,
          2.938519725176492,
          4.357458385645036,
          3.9076263048432662,
          3.019116290447073,
          2.876217840591642,
          2.7589118923979736,
          4.544068044350276,
          3.025715383901341,
          3.9076263048432662,
          3.000434077479319,
          3.256236533205923,
          2.225309281725863,
          2.682145076373832,
          2.7193312869837265,
          2.5477747053878224,
          2.598790506763115,
          3.070037866607755,
          2.9469432706978256,
          3.2638726768652235,
          3.581835924057648,
          2.876217840591642,
          2.419955748489758,
          3.119585774961784,
          3.000434077479319,
          3.1942367487238292,
          3.7567881987681178,
          3.317854489331469,
          4.544068044350276,
          1.7781512503836436,
          2.682145076373832,
          3.070037866607755,
          3.6769678142947586,
          3.3881012015705165,
          2.2068258760318495,
          3.1942367487238292,
          3.2638726768652235,
          3.062581984228163,
          2.6748611407378116,
          3.1322596895310446,
          3.5199591807520685,
          3.1322596895310446,
          2.6127838567197355,
          3.643945912748067,
          3.000434077479319,
          3.651762447380111,
          2.938519725176492,
          2.369215857410143,
          2.357934847000454,
          2.6127838567197355,
          3.3261309567107946,
          4.2255935481548,
          3.3261309567107946,
          4.223755453657241,
          3.070037866607755,
          3.9696488404807253,
          2.9380190974762104,
          2.3654879848909,
          3.1451964061141817,
          3.0773679052841563,
          2.5477747053878224,
          2.225309281725863,
          4.4428872189023485,
          4.544068044350276,
          3.062581984228163,
          3.256236533205923,
          2.8068580295188172,
          3.1051694279993316,
          2.6127838567197355,
          2.100370545117563,
          2.682145076373832,
          4.317958924700952,
          2.637489729512511,
          3.0318122713303706,
          3.070037866607755,
          3.520483532740792,
          3.143327129992046,
          2.7442929831226763,
          3.3261309567107946,
          3.2638726768652235,
          2.586587304671755,
          2.8573324964312685,
          2.870403905279027,
          4.374216605428374,
          3.0145205387579237,
          3.336859820916809,
          4.2954131455196585,
          4.544068044350276,
          4.544068044350276,
          3.9076263048432662,
          4.103358939866562,
          3.2641091563058082,
          2.9804578922761,
          3.003029470553618,
          2.747411807886423,
          3.7758288144646124,
          3.274850320016665,
          2.7442929831226763,
          3.1942367487238292,
          3.7758288144646124,
          3.1942367487238292,
          2.7442929831226763,
          2.876217840591642,
          2.3283796034387376,
          3.000434077479319,
          4.544068044350276,
          3.519827993775719,
          4.14188854970586,
          3.037027879755775,
          2.6830470382388496,
          3.7567881987681178,
          3.9076263048432662,
          4.374216605428374,
          2.419955748489758,
          4.357458385645036,
          3.2641091563058082,
          3.256236533205923,
          2.910624404889201,
          2.6830470382388496,
          2.938519725176492,
          2.8750612633917,
          1.7781512503836436,
          2.938519725176492,
          3.1826999033360424,
          2.481442628502305,
          2.294466226161593,
          3.253580289562183,
          2.6148972160331345,
          3.1942367487238292,
          2.6127838567197355,
          3.3881012015705165,
          4.163578765188774,
          3.5341530741850624,
          2.8068580295188172,
          3.0881360887005513,
          2.7442929831226763,
          2.7442929831226763,
          2.287801729930226,
          2.8524799936368566,
          2.663700925389648,
          2.5514499979728753,
          2.574031267727719,
          3.3261309567107946,
          3.256236533205923,
          2.82020145948564,
          3.4933186082321015,
          3.7019994748896368,
          3.6516656039229356,
          2.6127838567197355,
          3.7480328941301435,
          3.062581984228163,
          2.6180480967120925,
          3.7137424784090824,
          2.591064607026499,
          4.544068044350276,
          3.1319392952104246,
          3.000434077479319,
          2.637489729512511,
          3.3261309567107946,
          4.317958924700952,
          2.8344207036815328,
          3.1942367487238292,
          2.8068580295188172,
          4.374216605428374,
          2.6830470382388496,
          4.544068044350276,
          2.9304395947667,
          4.2954131455196585,
          3.1322596895310446,
          2.9508514588885464,
          3.3261309567107946,
          3.2641091563058082,
          4.551340190543342,
          2.710963118995276,
          3.1322596895310446,
          3.581835924057648,
          2.8068580295188172,
          2.5943925503754266,
          3.519827993775719,
          3.584670384464349,
          2.893206753059848,
          2.5514499979728753,
          3.7480328941301435,
          2.940516484932567,
          2.9380190974762104,
          2.419955748489758,
          3.3261309567107946,
          3.2095150145426308,
          2.419955748489758,
          3.083860800866573,
          3.070037866607755,
          3.7758288144646124,
          2.4578818967339924,
          3.2543063323312857,
          2.419955748489758,
          3.3492775274679554,
          2.940516484932567,
          2.7442929831226763,
          3.7866804531966487,
          3.2641091563058082,
          2.5514499979728753,
          3.1319392952104246,
          2.428134794028789,
          3.256236533205923,
          3.4577305482459986,
          2.94546858513182,
          2.747411807886423,
          3.1319392952104246,
          4.683182171097453,
          2.494154594018443,
          3.1319392952104246,
          3.2068258760318495,
          2.357934847000454,
          3.4214393902200495,
          3.6516656039229356,
          3.7137424784090824,
          4.101506496139928,
          2.727541257028556,
          3.581949658373318,
          3.581835924057648,
          1.9084850188786497,
          2.357934847000454,
          2.2068258760318495,
          3.1319392952104246,
          2.100370545117563,
          3.0492180226701815,
          3.2538224387080734,
          2.94546858513182,
          4.544068044350276,
          2.681241237375587,
          3.775756037844098,
          3.775756037844098,
          4.069298012115529,
          4.163578765188774,
          3.643945912748067,
          2.9380190974762104,
          3.244524511570084,
          4.815026229442373,
          2.8750612633917,
          3.3879234669734366,
          2.806179973983887,
          2.7442929831226763,
          2.9858753573083936,
          2.7315887651867388,
          2.6127838567197355,
          2.9380190974762104,
          2.9628426812012423,
          2.7589118923979736,
          3.000434077479319,
          3.274619619091238,
          3.3879234669734366,
          3.7866804531966487,
          3.4577305482459986,
          3.5199591807520685,
          2.876217840591642,
          3.3261309567107946,
          3.1319392952104246
         ],
         "xaxis": "x",
         "y": [
          2.616204676574224,
          3.648584496250609,
          3.120995260058462,
          3.5464254368065258,
          3.4834339921395148,
          2.8506535519200322,
          2.84941095895433,
          2.9937219529104464,
          3.3837633894340393,
          2.3697874277249777,
          3.786357123883237,
          2.850931437715111,
          3.4362511448903237,
          2.98621411520669,
          3.3349865427546583,
          2.62292044788747,
          3.7473524957016435,
          2.631822593839464,
          2.4844777309523245,
          2.3203795696307212,
          3.250315768555313,
          3.0673938923068595,
          3.31092420193734,
          2.8415328543609304,
          2.609808509616657,
          3.3277521129991574,
          4.382437113351222,
          3.9478883426511864,
          2.882113213221313,
          3.405937229839728,
          3.8701115458951443,
          2.7225519580181827,
          2.960959413132449,
          3.064540667689496,
          3.0045997349331293,
          2.89041561508722,
          4.085419027136626,
          3.6927452060428747,
          2.7399402788485205,
          3.3061166380706672,
          3.6244520420583908,
          3.0542063963052755,
          3.126716348364268,
          2.7883816788426774,
          4.151221790527758,
          2.62292044788747,
          2.8298902735949,
          2.722639875485963,
          3.7977454335561496,
          2.7761862688876535,
          2.752928615599249,
          4.37017187328868,
          2.895159782861489,
          3.457094285218352,
          2.4261665822724616,
          3.3180011939349705,
          2.984112833285536,
          4.1508256426529035,
          3.6274306749016265,
          2.9825578014848166,
          2.836438003932312,
          2.86968791328373,
          4.4768533523361995,
          3.174539017099506,
          3.7450689226283007,
          3.120523992373725,
          3.3372986058496625,
          2.448389760745315,
          2.7778885333232464,
          2.8298902735949,
          2.722175382289697,
          2.957873568346318,
          3.781200694642777,
          2.9090497430063844,
          2.9841734932479276,
          3.1155607538789307,
          2.7689974618521735,
          2.4844777309523245,
          3.0997757417390575,
          3.036232247554801,
          3.3364093788119593,
          3.495235875985801,
          3.3239885491466725,
          4.041317655443102,
          2.3203795696307212,
          2.800845373749532,
          2.7761862688876535,
          3.6459297281688463,
          3.064540667689496,
          2.561128300242759,
          3.0582320254409856,
          3.6445706548355723,
          2.984112833285536,
          2.7849344080807077,
          2.9333989307494015,
          3.4834339921395148,
          3.041673930673353,
          2.833628247609366,
          3.68847661267679,
          2.828690210506399,
          3.3387752259300365,
          2.901626383674332,
          2.601493333282222,
          2.4417371905653287,
          2.62292044788747,
          3.31092420193734,
          4.37017187328868,
          3.3239885491466725,
          3.983179596199858,
          3.332065159641477,
          3.796147909666648,
          2.9372035748010106,
          2.499052405001743,
          2.9818519615672425,
          3.3387752259300365,
          2.7180756962610895,
          2.3397573399379676,
          4.151221790527758,
          4.352838857982242,
          2.8415328543609304,
          3.1015728805987646,
          2.909664349831818,
          3.3092023188367525,
          2.568038001343379,
          2.8298902735949,
          3.560266221159917,
          3.8120899575356884,
          2.7689974618521735,
          3.126716348364268,
          3.457094285218352,
          3.3290895355924297,
          3.387294981544783,
          2.901626383674332,
          3.3341273921853145,
          3.795226664146925,
          2.88268373981801,
          3.05310563341557,
          2.8936684033150293,
          4.2388003302073525,
          2.901626383674332,
          3.3341273921853145,
          4.112364024524343,
          3.781200694642777,
          4.056963941862633,
          3.727858165382877,
          3.9054166904944636,
          3.154118042256071,
          3.3180011939349705,
          2.8361398547481858,
          2.8662938388498804,
          3.2574252237409067,
          3.3132331098182286,
          2.7501712355730996,
          2.957873568346318,
          3.587038914868575,
          3.2988413421320666,
          3.6927452060428747,
          2.9009210626950765,
          2.7142646789803333,
          2.9499532053029305,
          3.747872016137318,
          3.5758599663208743,
          3.8550554755408037,
          3.0369029952913023,
          2.8361398547481858,
          3.409761642377552,
          3.7977454335561496,
          4.082067466433918,
          3.120995260058462,
          4.0682735175240925,
          3.2673688519551423,
          3.3101690180992205,
          3.0582320254409856,
          2.9333989307494015,
          2.9499532053029305,
          2.976896943908963,
          1.9677360652967413,
          2.9825578014848166,
          3.327079761811636,
          2.609808509616657,
          2.3697874277249777,
          3.0809808410947883,
          3.1009958859076203,
          2.9818519615672425,
          2.9818519615672425,
          3.3277521129991574,
          3.120995260058462,
          3.3531612818140064,
          2.85557261285643,
          3.045051552570671,
          2.752928615599249,
          2.646086351390506,
          2.4334107095380655,
          2.940517227412015,
          2.712098146365947,
          3.020886158377377,
          2.828690210506399,
          3.2673688519551423,
          3.3180011939349705,
          2.85557261285643,
          3.427040539020864,
          3.796147909666648,
          3.5949761889637237,
          3.0542063963052755,
          3.563587192961239,
          3.200823417984605,
          3.1155607538789307,
          3.387294981544783,
          2.9841734932479276,
          3.560266221159917,
          3.1009958859076203,
          3.0809808410947883,
          2.565199231357969,
          3.257295271636163,
          4.240137605342732,
          2.882113213221313,
          2.98621411520669,
          2.9457642075350603,
          4.293812016642967,
          2.9090497430063844,
          3.795226664146925,
          3.3061166380706672,
          3.9478883426511864,
          3.1282928185955785,
          2.8595058510464315,
          3.020886158377377,
          3.3132331098182286,
          4.352838857982242,
          2.8096770244640856,
          3.065133408844983,
          3.3364093788119593,
          2.4261665822724616,
          2.631822593839464,
          3.1009958859076203,
          3.4993908402150664,
          2.833628247609366,
          2.646086351390506,
          3.708345392670434,
          2.984112833285536,
          3.160875249277661,
          2.9937219529104464,
          3.427040539020864,
          3.036232247554801,
          2.565199231357969,
          3.039150898378503,
          3.05310563341557,
          4.041317655443102,
          2.8286985018457003,
          3.1282928185955785,
          2.5378052643763196,
          3.3195519605207355,
          3.175306688370736,
          2.8595058510464315,
          3.68847661267679,
          3.250315768555313,
          2.65683383924901,
          3.3032957449633447,
          2.616204676574224,
          3.3290895355924297,
          3.175306688370736,
          2.871887954098478,
          2.794763841918001,
          3.2552082086839524,
          4.335196238535024,
          2.5378052643763196,
          3.113982137789871,
          3.385160572411707,
          2.499052405001743,
          3.3372986058496625,
          3.648584496250609,
          3.674701263877547,
          3.6445706548355723,
          2.89041561508722,
          3.385160572411707,
          3.6459297281688463,
          1.9677360652967413,
          2.5285951206006967,
          2.4104895157653656,
          3.747872016137318,
          2.4455307079563373,
          3.041673930673353,
          3.3837633894340393,
          2.909664349831818,
          3.664881409248415,
          2.4455307079563373,
          3.708345392670434,
          3.796147909666648,
          4.0682735175240925,
          4.2388003302073525,
          3.61334874387231,
          3.0429406875553657,
          3.0664268978766387,
          4.4768533523361995,
          2.8506535519200322,
          3.495235875985801,
          2.7778885333232464,
          2.8522793085433387,
          2.9442217125918986,
          2.8422572791739475,
          2.784443651611185,
          3.664881409248415,
          3.0429406875553657,
          3.2574252237409067,
          2.7225519580181827,
          3.2839464075070577,
          3.402368581010087,
          3.674701263877547,
          3.8120899575356884,
          3.3837633894340393,
          2.930671807492254,
          3.563587192961239,
          3.0561074067557463
         ],
         "yaxis": "y"
        }
       ],
       "layout": {
        "font": {
         "color": "black",
         "family": "Helvetica Neue, Helvetica, Arial, sans-serif"
        },
        "legend": {
         "title": {},
         "tracegroupgap": 0,
         "x": 0.01,
         "xanchor": "left",
         "y": 0.99,
         "yanchor": "top"
        },
        "margin": {
         "t": 60
        },
        "template": {
         "data": {
          "bar": [
           {
            "error_x": {
             "color": "#2a3f5f"
            },
            "error_y": {
             "color": "#2a3f5f"
            },
            "marker": {
             "line": {
              "color": "#E5ECF6",
              "width": 0.5
             }
            },
            "type": "bar"
           }
          ],
          "barpolar": [
           {
            "marker": {
             "line": {
              "color": "#E5ECF6",
              "width": 0.5
             }
            },
            "type": "barpolar"
           }
          ],
          "carpet": [
           {
            "aaxis": {
             "endlinecolor": "#2a3f5f",
             "gridcolor": "white",
             "linecolor": "white",
             "minorgridcolor": "white",
             "startlinecolor": "#2a3f5f"
            },
            "baxis": {
             "endlinecolor": "#2a3f5f",
             "gridcolor": "white",
             "linecolor": "white",
             "minorgridcolor": "white",
             "startlinecolor": "#2a3f5f"
            },
            "type": "carpet"
           }
          ],
          "choropleth": [
           {
            "colorbar": {
             "outlinewidth": 0,
             "ticks": ""
            },
            "type": "choropleth"
           }
          ],
          "contour": [
           {
            "colorbar": {
             "outlinewidth": 0,
             "ticks": ""
            },
            "colorscale": [
             [
              0,
              "#0d0887"
             ],
             [
              0.1111111111111111,
              "#46039f"
             ],
             [
              0.2222222222222222,
              "#7201a8"
             ],
             [
              0.3333333333333333,
              "#9c179e"
             ],
             [
              0.4444444444444444,
              "#bd3786"
             ],
             [
              0.5555555555555556,
              "#d8576b"
             ],
             [
              0.6666666666666666,
              "#ed7953"
             ],
             [
              0.7777777777777778,
              "#fb9f3a"
             ],
             [
              0.8888888888888888,
              "#fdca26"
             ],
             [
              1,
              "#f0f921"
             ]
            ],
            "type": "contour"
           }
          ],
          "contourcarpet": [
           {
            "colorbar": {
             "outlinewidth": 0,
             "ticks": ""
            },
            "type": "contourcarpet"
           }
          ],
          "heatmap": [
           {
            "colorbar": {
             "outlinewidth": 0,
             "ticks": ""
            },
            "colorscale": [
             [
              0,
              "#0d0887"
             ],
             [
              0.1111111111111111,
              "#46039f"
             ],
             [
              0.2222222222222222,
              "#7201a8"
             ],
             [
              0.3333333333333333,
              "#9c179e"
             ],
             [
              0.4444444444444444,
              "#bd3786"
             ],
             [
              0.5555555555555556,
              "#d8576b"
             ],
             [
              0.6666666666666666,
              "#ed7953"
             ],
             [
              0.7777777777777778,
              "#fb9f3a"
             ],
             [
              0.8888888888888888,
              "#fdca26"
             ],
             [
              1,
              "#f0f921"
             ]
            ],
            "type": "heatmap"
           }
          ],
          "heatmapgl": [
           {
            "colorbar": {
             "outlinewidth": 0,
             "ticks": ""
            },
            "colorscale": [
             [
              0,
              "#0d0887"
             ],
             [
              0.1111111111111111,
              "#46039f"
             ],
             [
              0.2222222222222222,
              "#7201a8"
             ],
             [
              0.3333333333333333,
              "#9c179e"
             ],
             [
              0.4444444444444444,
              "#bd3786"
             ],
             [
              0.5555555555555556,
              "#d8576b"
             ],
             [
              0.6666666666666666,
              "#ed7953"
             ],
             [
              0.7777777777777778,
              "#fb9f3a"
             ],
             [
              0.8888888888888888,
              "#fdca26"
             ],
             [
              1,
              "#f0f921"
             ]
            ],
            "type": "heatmapgl"
           }
          ],
          "histogram": [
           {
            "marker": {
             "colorbar": {
              "outlinewidth": 0,
              "ticks": ""
             }
            },
            "type": "histogram"
           }
          ],
          "histogram2d": [
           {
            "colorbar": {
             "outlinewidth": 0,
             "ticks": ""
            },
            "colorscale": [
             [
              0,
              "#0d0887"
             ],
             [
              0.1111111111111111,
              "#46039f"
             ],
             [
              0.2222222222222222,
              "#7201a8"
             ],
             [
              0.3333333333333333,
              "#9c179e"
             ],
             [
              0.4444444444444444,
              "#bd3786"
             ],
             [
              0.5555555555555556,
              "#d8576b"
             ],
             [
              0.6666666666666666,
              "#ed7953"
             ],
             [
              0.7777777777777778,
              "#fb9f3a"
             ],
             [
              0.8888888888888888,
              "#fdca26"
             ],
             [
              1,
              "#f0f921"
             ]
            ],
            "type": "histogram2d"
           }
          ],
          "histogram2dcontour": [
           {
            "colorbar": {
             "outlinewidth": 0,
             "ticks": ""
            },
            "colorscale": [
             [
              0,
              "#0d0887"
             ],
             [
              0.1111111111111111,
              "#46039f"
             ],
             [
              0.2222222222222222,
              "#7201a8"
             ],
             [
              0.3333333333333333,
              "#9c179e"
             ],
             [
              0.4444444444444444,
              "#bd3786"
             ],
             [
              0.5555555555555556,
              "#d8576b"
             ],
             [
              0.6666666666666666,
              "#ed7953"
             ],
             [
              0.7777777777777778,
              "#fb9f3a"
             ],
             [
              0.8888888888888888,
              "#fdca26"
             ],
             [
              1,
              "#f0f921"
             ]
            ],
            "type": "histogram2dcontour"
           }
          ],
          "mesh3d": [
           {
            "colorbar": {
             "outlinewidth": 0,
             "ticks": ""
            },
            "type": "mesh3d"
           }
          ],
          "parcoords": [
           {
            "line": {
             "colorbar": {
              "outlinewidth": 0,
              "ticks": ""
             }
            },
            "type": "parcoords"
           }
          ],
          "pie": [
           {
            "automargin": true,
            "type": "pie"
           }
          ],
          "scatter": [
           {
            "marker": {
             "colorbar": {
              "outlinewidth": 0,
              "ticks": ""
             }
            },
            "type": "scatter"
           }
          ],
          "scatter3d": [
           {
            "line": {
             "colorbar": {
              "outlinewidth": 0,
              "ticks": ""
             }
            },
            "marker": {
             "colorbar": {
              "outlinewidth": 0,
              "ticks": ""
             }
            },
            "type": "scatter3d"
           }
          ],
          "scattercarpet": [
           {
            "marker": {
             "colorbar": {
              "outlinewidth": 0,
              "ticks": ""
             }
            },
            "type": "scattercarpet"
           }
          ],
          "scattergeo": [
           {
            "marker": {
             "colorbar": {
              "outlinewidth": 0,
              "ticks": ""
             }
            },
            "type": "scattergeo"
           }
          ],
          "scattergl": [
           {
            "marker": {
             "colorbar": {
              "outlinewidth": 0,
              "ticks": ""
             }
            },
            "type": "scattergl"
           }
          ],
          "scattermapbox": [
           {
            "marker": {
             "colorbar": {
              "outlinewidth": 0,
              "ticks": ""
             }
            },
            "type": "scattermapbox"
           }
          ],
          "scatterpolar": [
           {
            "marker": {
             "colorbar": {
              "outlinewidth": 0,
              "ticks": ""
             }
            },
            "type": "scatterpolar"
           }
          ],
          "scatterpolargl": [
           {
            "marker": {
             "colorbar": {
              "outlinewidth": 0,
              "ticks": ""
             }
            },
            "type": "scatterpolargl"
           }
          ],
          "scatterternary": [
           {
            "marker": {
             "colorbar": {
              "outlinewidth": 0,
              "ticks": ""
             }
            },
            "type": "scatterternary"
           }
          ],
          "surface": [
           {
            "colorbar": {
             "outlinewidth": 0,
             "ticks": ""
            },
            "colorscale": [
             [
              0,
              "#0d0887"
             ],
             [
              0.1111111111111111,
              "#46039f"
             ],
             [
              0.2222222222222222,
              "#7201a8"
             ],
             [
              0.3333333333333333,
              "#9c179e"
             ],
             [
              0.4444444444444444,
              "#bd3786"
             ],
             [
              0.5555555555555556,
              "#d8576b"
             ],
             [
              0.6666666666666666,
              "#ed7953"
             ],
             [
              0.7777777777777778,
              "#fb9f3a"
             ],
             [
              0.8888888888888888,
              "#fdca26"
             ],
             [
              1,
              "#f0f921"
             ]
            ],
            "type": "surface"
           }
          ],
          "table": [
           {
            "cells": {
             "fill": {
              "color": "#EBF0F8"
             },
             "line": {
              "color": "white"
             }
            },
            "header": {
             "fill": {
              "color": "#C8D4E3"
             },
             "line": {
              "color": "white"
             }
            },
            "type": "table"
           }
          ]
         },
         "layout": {
          "annotationdefaults": {
           "arrowcolor": "#2a3f5f",
           "arrowhead": 0,
           "arrowwidth": 1
          },
          "autotypenumbers": "strict",
          "coloraxis": {
           "colorbar": {
            "outlinewidth": 0,
            "ticks": ""
           }
          },
          "colorscale": {
           "diverging": [
            [
             0,
             "#8e0152"
            ],
            [
             0.1,
             "#c51b7d"
            ],
            [
             0.2,
             "#de77ae"
            ],
            [
             0.3,
             "#f1b6da"
            ],
            [
             0.4,
             "#fde0ef"
            ],
            [
             0.5,
             "#f7f7f7"
            ],
            [
             0.6,
             "#e6f5d0"
            ],
            [
             0.7,
             "#b8e186"
            ],
            [
             0.8,
             "#7fbc41"
            ],
            [
             0.9,
             "#4d9221"
            ],
            [
             1,
             "#276419"
            ]
           ],
           "sequential": [
            [
             0,
             "#0d0887"
            ],
            [
             0.1111111111111111,
             "#46039f"
            ],
            [
             0.2222222222222222,
             "#7201a8"
            ],
            [
             0.3333333333333333,
             "#9c179e"
            ],
            [
             0.4444444444444444,
             "#bd3786"
            ],
            [
             0.5555555555555556,
             "#d8576b"
            ],
            [
             0.6666666666666666,
             "#ed7953"
            ],
            [
             0.7777777777777778,
             "#fb9f3a"
            ],
            [
             0.8888888888888888,
             "#fdca26"
            ],
            [
             1,
             "#f0f921"
            ]
           ],
           "sequentialminus": [
            [
             0,
             "#0d0887"
            ],
            [
             0.1111111111111111,
             "#46039f"
            ],
            [
             0.2222222222222222,
             "#7201a8"
            ],
            [
             0.3333333333333333,
             "#9c179e"
            ],
            [
             0.4444444444444444,
             "#bd3786"
            ],
            [
             0.5555555555555556,
             "#d8576b"
            ],
            [
             0.6666666666666666,
             "#ed7953"
            ],
            [
             0.7777777777777778,
             "#fb9f3a"
            ],
            [
             0.8888888888888888,
             "#fdca26"
            ],
            [
             1,
             "#f0f921"
            ]
           ]
          },
          "colorway": [
           "#636efa",
           "#EF553B",
           "#00cc96",
           "#ab63fa",
           "#FFA15A",
           "#19d3f3",
           "#FF6692",
           "#B6E880",
           "#FF97FF",
           "#FECB52"
          ],
          "font": {
           "color": "#2a3f5f"
          },
          "geo": {
           "bgcolor": "white",
           "lakecolor": "white",
           "landcolor": "#E5ECF6",
           "showlakes": true,
           "showland": true,
           "subunitcolor": "white"
          },
          "hoverlabel": {
           "align": "left"
          },
          "hovermode": "closest",
          "mapbox": {
           "style": "light"
          },
          "paper_bgcolor": "white",
          "plot_bgcolor": "#E5ECF6",
          "polar": {
           "angularaxis": {
            "gridcolor": "white",
            "linecolor": "white",
            "ticks": ""
           },
           "bgcolor": "#E5ECF6",
           "radialaxis": {
            "gridcolor": "white",
            "linecolor": "white",
            "ticks": ""
           }
          },
          "scene": {
           "xaxis": {
            "backgroundcolor": "#E5ECF6",
            "gridcolor": "white",
            "gridwidth": 2,
            "linecolor": "white",
            "showbackground": true,
            "ticks": "",
            "zerolinecolor": "white"
           },
           "yaxis": {
            "backgroundcolor": "#E5ECF6",
            "gridcolor": "white",
            "gridwidth": 2,
            "linecolor": "white",
            "showbackground": true,
            "ticks": "",
            "zerolinecolor": "white"
           },
           "zaxis": {
            "backgroundcolor": "#E5ECF6",
            "gridcolor": "white",
            "gridwidth": 2,
            "linecolor": "white",
            "showbackground": true,
            "ticks": "",
            "zerolinecolor": "white"
           }
          },
          "shapedefaults": {
           "line": {
            "color": "#2a3f5f"
           }
          },
          "ternary": {
           "aaxis": {
            "gridcolor": "white",
            "linecolor": "white",
            "ticks": ""
           },
           "baxis": {
            "gridcolor": "white",
            "linecolor": "white",
            "ticks": ""
           },
           "bgcolor": "#E5ECF6",
           "caxis": {
            "gridcolor": "white",
            "linecolor": "white",
            "ticks": ""
           }
          },
          "title": {
           "x": 0.05
          },
          "xaxis": {
           "automargin": true,
           "gridcolor": "white",
           "linecolor": "white",
           "ticks": "",
           "title": {
            "standoff": 15
           },
           "zerolinecolor": "white",
           "zerolinewidth": 2
          },
          "yaxis": {
           "automargin": true,
           "gridcolor": "white",
           "linecolor": "white",
           "ticks": "",
           "title": {
            "standoff": 15
           },
           "zerolinecolor": "white",
           "zerolinewidth": 2
          }
         }
        },
        "title": {
         "text": "Model fit of Random Forest model"
        },
        "xaxis": {
         "anchor": "y",
         "domain": [
          0,
          1
         ],
         "title": {
          "text": "measured data (sample)"
         }
        },
        "yaxis": {
         "anchor": "x",
         "domain": [
          0,
          1
         ],
         "title": {
          "text": "fitted values (in sample fit)"
         }
        }
       }
      },
      "text/html": [
       "<div>                            <div id=\"92b4baf2-f17f-4065-9e41-9afc0ab5112b\" class=\"plotly-graph-div\" style=\"height:525px; width:100%;\"></div>            <script type=\"text/javascript\">                require([\"plotly\"], function(Plotly) {                    window.PLOTLYENV=window.PLOTLYENV || {};                                    if (document.getElementById(\"92b4baf2-f17f-4065-9e41-9afc0ab5112b\")) {                    Plotly.newPlot(                        \"92b4baf2-f17f-4065-9e41-9afc0ab5112b\",                        [{\"hovertemplate\": \"split=out of sample<br>meas=%{x}<br>pred=%{y}<extra></extra>\", \"legendgroup\": \"out of sample\", \"marker\": {\"color\": \"#212c52\", \"size\": 10, \"symbol\": \"circle\"}, \"mode\": \"markers\", \"name\": \"out of sample\", \"orientation\": \"v\", \"showlegend\": true, \"type\": \"scatter\", \"x\": [3.643945912748067, 3.000434077479319, 2.5943925503754266, 4.544068044350276, 2.4885507165004443, 2.5477747053878224, 3.1942367487238292, 2.287801729930226, 3.651762447380111, 4.16354896490181, 2.7442929831226763, 2.155336037465062, 2.7442929831226763, 2.481442628502305, 3.325925955771466, 3.3261309567107946, 3.6534054906645013, 3.1743505974793798, 2.7867514221455614, 3.4500950758716025, 2.3324384599156054, 2.3961993470957363, 3.000434077479319, 3.3879234669734366, 2.164352855784437, 4.544068044350276, 2.503790683057181, 3.651762447380111, 3.2643455070500926, 3.325925955771466, 2.247973266361807, 3.651762447380111, 2.938519725176492, 3.070037866607755, 2.884795363948981, 2.6127838567197355, 3.775756037844098, 2.8068580295188172, 3.8516863154424277, 2.663700925389648, 4.101540872558349, 4.544068044350276, 2.7589118923979736, 3.2638726768652235, 3.3261309567107946, 3.1942367487238292, 2.938519725176492, 3.1942367487238292, 2.041392685158225, 3.7137424784090824, 2.7442929831226763, 2.9800033715837464, 4.101506496139928, 2.4183012913197452, 2.5514499979728753, 2.4899584794248346, 3.3283796034387376, 2.2528530309798933, 2.682145076373832, 2.7442929831226763, 3.7285161047597666, 2.893206753059848, 3.9076263048432662, 3.6516656039229356, 2.7781512503836434, 3.2641091563058082, 2.7972675408307164, 2.9380190974762104, 3.0729847446279304, 3.1300119496719043, 3.070037866607755, 2.682145076373832, 3.584670384464349, 3.2641091563058082, 2.403120521175818, 2.6748611407378116, 2.8432327780980096, 3.3881012015705165], \"xaxis\": \"x\", \"y\": [4.056963941862633, 3.2988413421320666, 2.7778885333232464, 3.337798979580591, 2.448389760745315, 2.6876541831977536, 2.3697874277249777, 2.7180756962610895, 3.5498733344753655, 3.7977454335561496, 3.3195519605207355, 3.200823417984605, 3.05310563341557, 2.568038001343379, 3.387294981544783, 3.7450689226283007, 3.5498733344753655, 2.930671807492254, 3.00101429632261, 3.2839464075070577, 3.1015728805987646, 2.9049565716983348, 2.602462509485968, 3.6445706548355723, 2.9471649434201916, 4.1508256426529035, 2.800845373749532, 3.0664268978766387, 3.6579184381722483, 3.9054166904944636, 2.4334107095380655, 3.4536814585323996, 3.61334874387231, 3.2839464075070577, 3.4836892962235493, 3.1167128088054947, 2.8787143937107555, 2.6255560006965895, 3.880647085877436, 3.020886158377377, 4.335196238535024, 3.475116833039307, 3.065133408844983, 3.445746453191184, 3.045051552570671, 3.579355265339704, 2.8286985018457003, 2.8415328543609304, 2.568038001343379, 2.4455307079563373, 2.602462509485968, 3.5949761889637237, 4.152667073406326, 3.708345392670434, 2.6876541831977536, 2.8522793085433387, 3.587038914868575, 2.836438003932312, 3.2190863335078888, 2.7501712355730996, 3.7977454335561496, 3.257295271636163, 3.5147221853252444, 3.3349865427546583, 2.9471649434201916, 2.930671807492254, 2.9009210626950765, 3.13346363451734, 3.154118042256071, 3.579355265339704, 4.152667073406326, 2.84941095895433, 3.0980501615668214, 2.960959413132449, 3.129941262621332, 2.6998424224529454, 3.6244520420583908, 3.0980501615668214], \"yaxis\": \"y\"}, {\"hovertemplate\": \"split=in sample<br>meas=%{x}<br>pred=%{y}<extra></extra>\", \"legendgroup\": \"in sample\", \"marker\": {\"color\": \"#75c3ff\", \"size\": 10, \"symbol\": \"circle\"}, \"mode\": \"markers\", \"name\": \"in sample\", \"orientation\": \"v\", \"showlegend\": true, \"type\": \"scatter\", \"x\": [2.7442929831226763, 3.7285161047597666, 2.870403905279027, 3.3925210899319325, 3.4459154139511234, 2.8068580295188172, 2.574031267727719, 3.5199591807520685, 3.4578818967339924, 2.3324384599156054, 4.039453778961737, 2.8068580295188172, 3.520483532740792, 2.8068580295188172, 3.470704429722788, 2.900913067737669, 3.885530833188092, 2.4885507165004443, 2.4885507165004443, 2.6414741105040997, 3.1942367487238292, 3.000434077479319, 3.307282047033346, 2.4899584794248346, 2.6748611407378116, 3.336859820916809, 4.551340190543342, 3.519302849235429, 2.8686444383948255, 3.519827993775719, 4.039453778961737, 2.403120521175818, 2.938519725176492, 2.7234556720351857, 3.003029470553618, 3.000434077479319, 4.544068044350276, 4.544068044350276, 2.6857417386022635, 3.7023443583557687, 3.775756037844098, 3.3881012015705165, 3.2641091563058082, 2.6127838567197355, 3.837840861655523, 2.294466226161593, 3.7137424784090824, 2.4885507165004443, 3.7137424784090824, 2.4899584794248346, 2.6414741105040997, 4.544068044350276, 2.8068580295188172, 3.9205928620848085, 1.9030899869919435, 3.7137424784090824, 2.938519725176492, 4.357458385645036, 3.9076263048432662, 3.019116290447073, 2.876217840591642, 2.7589118923979736, 4.544068044350276, 3.025715383901341, 3.9076263048432662, 3.000434077479319, 3.256236533205923, 2.225309281725863, 2.682145076373832, 2.7193312869837265, 2.5477747053878224, 2.598790506763115, 3.070037866607755, 2.9469432706978256, 3.2638726768652235, 3.581835924057648, 2.876217840591642, 2.419955748489758, 3.119585774961784, 3.000434077479319, 3.1942367487238292, 3.7567881987681178, 3.317854489331469, 4.544068044350276, 1.7781512503836436, 2.682145076373832, 3.070037866607755, 3.6769678142947586, 3.3881012015705165, 2.2068258760318495, 3.1942367487238292, 3.2638726768652235, 3.062581984228163, 2.6748611407378116, 3.1322596895310446, 3.5199591807520685, 3.1322596895310446, 2.6127838567197355, 3.643945912748067, 3.000434077479319, 3.651762447380111, 2.938519725176492, 2.369215857410143, 2.357934847000454, 2.6127838567197355, 3.3261309567107946, 4.2255935481548, 3.3261309567107946, 4.223755453657241, 3.070037866607755, 3.9696488404807253, 2.9380190974762104, 2.3654879848909, 3.1451964061141817, 3.0773679052841563, 2.5477747053878224, 2.225309281725863, 4.4428872189023485, 4.544068044350276, 3.062581984228163, 3.256236533205923, 2.8068580295188172, 3.1051694279993316, 2.6127838567197355, 2.100370545117563, 2.682145076373832, 4.317958924700952, 2.637489729512511, 3.0318122713303706, 3.070037866607755, 3.520483532740792, 3.143327129992046, 2.7442929831226763, 3.3261309567107946, 3.2638726768652235, 2.586587304671755, 2.8573324964312685, 2.870403905279027, 4.374216605428374, 3.0145205387579237, 3.336859820916809, 4.2954131455196585, 4.544068044350276, 4.544068044350276, 3.9076263048432662, 4.103358939866562, 3.2641091563058082, 2.9804578922761, 3.003029470553618, 2.747411807886423, 3.7758288144646124, 3.274850320016665, 2.7442929831226763, 3.1942367487238292, 3.7758288144646124, 3.1942367487238292, 2.7442929831226763, 2.876217840591642, 2.3283796034387376, 3.000434077479319, 4.544068044350276, 3.519827993775719, 4.14188854970586, 3.037027879755775, 2.6830470382388496, 3.7567881987681178, 3.9076263048432662, 4.374216605428374, 2.419955748489758, 4.357458385645036, 3.2641091563058082, 3.256236533205923, 2.910624404889201, 2.6830470382388496, 2.938519725176492, 2.8750612633917, 1.7781512503836436, 2.938519725176492, 3.1826999033360424, 2.481442628502305, 2.294466226161593, 3.253580289562183, 2.6148972160331345, 3.1942367487238292, 2.6127838567197355, 3.3881012015705165, 4.163578765188774, 3.5341530741850624, 2.8068580295188172, 3.0881360887005513, 2.7442929831226763, 2.7442929831226763, 2.287801729930226, 2.8524799936368566, 2.663700925389648, 2.5514499979728753, 2.574031267727719, 3.3261309567107946, 3.256236533205923, 2.82020145948564, 3.4933186082321015, 3.7019994748896368, 3.6516656039229356, 2.6127838567197355, 3.7480328941301435, 3.062581984228163, 2.6180480967120925, 3.7137424784090824, 2.591064607026499, 4.544068044350276, 3.1319392952104246, 3.000434077479319, 2.637489729512511, 3.3261309567107946, 4.317958924700952, 2.8344207036815328, 3.1942367487238292, 2.8068580295188172, 4.374216605428374, 2.6830470382388496, 4.544068044350276, 2.9304395947667, 4.2954131455196585, 3.1322596895310446, 2.9508514588885464, 3.3261309567107946, 3.2641091563058082, 4.551340190543342, 2.710963118995276, 3.1322596895310446, 3.581835924057648, 2.8068580295188172, 2.5943925503754266, 3.519827993775719, 3.584670384464349, 2.893206753059848, 2.5514499979728753, 3.7480328941301435, 2.940516484932567, 2.9380190974762104, 2.419955748489758, 3.3261309567107946, 3.2095150145426308, 2.419955748489758, 3.083860800866573, 3.070037866607755, 3.7758288144646124, 2.4578818967339924, 3.2543063323312857, 2.419955748489758, 3.3492775274679554, 2.940516484932567, 2.7442929831226763, 3.7866804531966487, 3.2641091563058082, 2.5514499979728753, 3.1319392952104246, 2.428134794028789, 3.256236533205923, 3.4577305482459986, 2.94546858513182, 2.747411807886423, 3.1319392952104246, 4.683182171097453, 2.494154594018443, 3.1319392952104246, 3.2068258760318495, 2.357934847000454, 3.4214393902200495, 3.6516656039229356, 3.7137424784090824, 4.101506496139928, 2.727541257028556, 3.581949658373318, 3.581835924057648, 1.9084850188786497, 2.357934847000454, 2.2068258760318495, 3.1319392952104246, 2.100370545117563, 3.0492180226701815, 3.2538224387080734, 2.94546858513182, 4.544068044350276, 2.681241237375587, 3.775756037844098, 3.775756037844098, 4.069298012115529, 4.163578765188774, 3.643945912748067, 2.9380190974762104, 3.244524511570084, 4.815026229442373, 2.8750612633917, 3.3879234669734366, 2.806179973983887, 2.7442929831226763, 2.9858753573083936, 2.7315887651867388, 2.6127838567197355, 2.9380190974762104, 2.9628426812012423, 2.7589118923979736, 3.000434077479319, 3.274619619091238, 3.3879234669734366, 3.7866804531966487, 3.4577305482459986, 3.5199591807520685, 2.876217840591642, 3.3261309567107946, 3.1319392952104246], \"xaxis\": \"x\", \"y\": [2.616204676574224, 3.648584496250609, 3.120995260058462, 3.5464254368065258, 3.4834339921395148, 2.8506535519200322, 2.84941095895433, 2.9937219529104464, 3.3837633894340393, 2.3697874277249777, 3.786357123883237, 2.850931437715111, 3.4362511448903237, 2.98621411520669, 3.3349865427546583, 2.62292044788747, 3.7473524957016435, 2.631822593839464, 2.4844777309523245, 2.3203795696307212, 3.250315768555313, 3.0673938923068595, 3.31092420193734, 2.8415328543609304, 2.609808509616657, 3.3277521129991574, 4.382437113351222, 3.9478883426511864, 2.882113213221313, 3.405937229839728, 3.8701115458951443, 2.7225519580181827, 2.960959413132449, 3.064540667689496, 3.0045997349331293, 2.89041561508722, 4.085419027136626, 3.6927452060428747, 2.7399402788485205, 3.3061166380706672, 3.6244520420583908, 3.0542063963052755, 3.126716348364268, 2.7883816788426774, 4.151221790527758, 2.62292044788747, 2.8298902735949, 2.722639875485963, 3.7977454335561496, 2.7761862688876535, 2.752928615599249, 4.37017187328868, 2.895159782861489, 3.457094285218352, 2.4261665822724616, 3.3180011939349705, 2.984112833285536, 4.1508256426529035, 3.6274306749016265, 2.9825578014848166, 2.836438003932312, 2.86968791328373, 4.4768533523361995, 3.174539017099506, 3.7450689226283007, 3.120523992373725, 3.3372986058496625, 2.448389760745315, 2.7778885333232464, 2.8298902735949, 2.722175382289697, 2.957873568346318, 3.781200694642777, 2.9090497430063844, 2.9841734932479276, 3.1155607538789307, 2.7689974618521735, 2.4844777309523245, 3.0997757417390575, 3.036232247554801, 3.3364093788119593, 3.495235875985801, 3.3239885491466725, 4.041317655443102, 2.3203795696307212, 2.800845373749532, 2.7761862688876535, 3.6459297281688463, 3.064540667689496, 2.561128300242759, 3.0582320254409856, 3.6445706548355723, 2.984112833285536, 2.7849344080807077, 2.9333989307494015, 3.4834339921395148, 3.041673930673353, 2.833628247609366, 3.68847661267679, 2.828690210506399, 3.3387752259300365, 2.901626383674332, 2.601493333282222, 2.4417371905653287, 2.62292044788747, 3.31092420193734, 4.37017187328868, 3.3239885491466725, 3.983179596199858, 3.332065159641477, 3.796147909666648, 2.9372035748010106, 2.499052405001743, 2.9818519615672425, 3.3387752259300365, 2.7180756962610895, 2.3397573399379676, 4.151221790527758, 4.352838857982242, 2.8415328543609304, 3.1015728805987646, 2.909664349831818, 3.3092023188367525, 2.568038001343379, 2.8298902735949, 3.560266221159917, 3.8120899575356884, 2.7689974618521735, 3.126716348364268, 3.457094285218352, 3.3290895355924297, 3.387294981544783, 2.901626383674332, 3.3341273921853145, 3.795226664146925, 2.88268373981801, 3.05310563341557, 2.8936684033150293, 4.2388003302073525, 2.901626383674332, 3.3341273921853145, 4.112364024524343, 3.781200694642777, 4.056963941862633, 3.727858165382877, 3.9054166904944636, 3.154118042256071, 3.3180011939349705, 2.8361398547481858, 2.8662938388498804, 3.2574252237409067, 3.3132331098182286, 2.7501712355730996, 2.957873568346318, 3.587038914868575, 3.2988413421320666, 3.6927452060428747, 2.9009210626950765, 2.7142646789803333, 2.9499532053029305, 3.747872016137318, 3.5758599663208743, 3.8550554755408037, 3.0369029952913023, 2.8361398547481858, 3.409761642377552, 3.7977454335561496, 4.082067466433918, 3.120995260058462, 4.0682735175240925, 3.2673688519551423, 3.3101690180992205, 3.0582320254409856, 2.9333989307494015, 2.9499532053029305, 2.976896943908963, 1.9677360652967413, 2.9825578014848166, 3.327079761811636, 2.609808509616657, 2.3697874277249777, 3.0809808410947883, 3.1009958859076203, 2.9818519615672425, 2.9818519615672425, 3.3277521129991574, 3.120995260058462, 3.3531612818140064, 2.85557261285643, 3.045051552570671, 2.752928615599249, 2.646086351390506, 2.4334107095380655, 2.940517227412015, 2.712098146365947, 3.020886158377377, 2.828690210506399, 3.2673688519551423, 3.3180011939349705, 2.85557261285643, 3.427040539020864, 3.796147909666648, 3.5949761889637237, 3.0542063963052755, 3.563587192961239, 3.200823417984605, 3.1155607538789307, 3.387294981544783, 2.9841734932479276, 3.560266221159917, 3.1009958859076203, 3.0809808410947883, 2.565199231357969, 3.257295271636163, 4.240137605342732, 2.882113213221313, 2.98621411520669, 2.9457642075350603, 4.293812016642967, 2.9090497430063844, 3.795226664146925, 3.3061166380706672, 3.9478883426511864, 3.1282928185955785, 2.8595058510464315, 3.020886158377377, 3.3132331098182286, 4.352838857982242, 2.8096770244640856, 3.065133408844983, 3.3364093788119593, 2.4261665822724616, 2.631822593839464, 3.1009958859076203, 3.4993908402150664, 2.833628247609366, 2.646086351390506, 3.708345392670434, 2.984112833285536, 3.160875249277661, 2.9937219529104464, 3.427040539020864, 3.036232247554801, 2.565199231357969, 3.039150898378503, 3.05310563341557, 4.041317655443102, 2.8286985018457003, 3.1282928185955785, 2.5378052643763196, 3.3195519605207355, 3.175306688370736, 2.8595058510464315, 3.68847661267679, 3.250315768555313, 2.65683383924901, 3.3032957449633447, 2.616204676574224, 3.3290895355924297, 3.175306688370736, 2.871887954098478, 2.794763841918001, 3.2552082086839524, 4.335196238535024, 2.5378052643763196, 3.113982137789871, 3.385160572411707, 2.499052405001743, 3.3372986058496625, 3.648584496250609, 3.674701263877547, 3.6445706548355723, 2.89041561508722, 3.385160572411707, 3.6459297281688463, 1.9677360652967413, 2.5285951206006967, 2.4104895157653656, 3.747872016137318, 2.4455307079563373, 3.041673930673353, 3.3837633894340393, 2.909664349831818, 3.664881409248415, 2.4455307079563373, 3.708345392670434, 3.796147909666648, 4.0682735175240925, 4.2388003302073525, 3.61334874387231, 3.0429406875553657, 3.0664268978766387, 4.4768533523361995, 2.8506535519200322, 3.495235875985801, 2.7778885333232464, 2.8522793085433387, 2.9442217125918986, 2.8422572791739475, 2.784443651611185, 3.664881409248415, 3.0429406875553657, 3.2574252237409067, 2.7225519580181827, 3.2839464075070577, 3.402368581010087, 3.674701263877547, 3.8120899575356884, 3.3837633894340393, 2.930671807492254, 3.563587192961239, 3.0561074067557463], \"yaxis\": \"y\"}],                        {\"font\": {\"color\": \"black\", \"family\": \"Helvetica Neue, Helvetica, Arial, sans-serif\"}, \"legend\": {\"title\": {}, \"tracegroupgap\": 0, \"x\": 0.01, \"xanchor\": \"left\", \"y\": 0.99, \"yanchor\": \"top\"}, \"margin\": {\"t\": 60}, \"template\": {\"data\": {\"bar\": [{\"error_x\": {\"color\": \"#2a3f5f\"}, \"error_y\": {\"color\": \"#2a3f5f\"}, \"marker\": {\"line\": {\"color\": \"#E5ECF6\", \"width\": 0.5}}, \"type\": \"bar\"}], \"barpolar\": [{\"marker\": {\"line\": {\"color\": \"#E5ECF6\", \"width\": 0.5}}, \"type\": \"barpolar\"}], \"carpet\": [{\"aaxis\": {\"endlinecolor\": \"#2a3f5f\", \"gridcolor\": \"white\", \"linecolor\": \"white\", \"minorgridcolor\": \"white\", \"startlinecolor\": \"#2a3f5f\"}, \"baxis\": {\"endlinecolor\": \"#2a3f5f\", \"gridcolor\": \"white\", \"linecolor\": \"white\", \"minorgridcolor\": \"white\", \"startlinecolor\": \"#2a3f5f\"}, \"type\": \"carpet\"}], \"choropleth\": [{\"colorbar\": {\"outlinewidth\": 0, \"ticks\": \"\"}, \"type\": \"choropleth\"}], \"contour\": [{\"colorbar\": {\"outlinewidth\": 0, \"ticks\": \"\"}, \"colorscale\": [[0.0, \"#0d0887\"], [0.1111111111111111, \"#46039f\"], [0.2222222222222222, \"#7201a8\"], [0.3333333333333333, \"#9c179e\"], [0.4444444444444444, \"#bd3786\"], [0.5555555555555556, \"#d8576b\"], [0.6666666666666666, \"#ed7953\"], [0.7777777777777778, \"#fb9f3a\"], [0.8888888888888888, \"#fdca26\"], [1.0, \"#f0f921\"]], \"type\": \"contour\"}], \"contourcarpet\": [{\"colorbar\": {\"outlinewidth\": 0, \"ticks\": \"\"}, \"type\": \"contourcarpet\"}], \"heatmap\": [{\"colorbar\": {\"outlinewidth\": 0, \"ticks\": \"\"}, \"colorscale\": [[0.0, \"#0d0887\"], [0.1111111111111111, \"#46039f\"], [0.2222222222222222, \"#7201a8\"], [0.3333333333333333, \"#9c179e\"], [0.4444444444444444, \"#bd3786\"], [0.5555555555555556, \"#d8576b\"], [0.6666666666666666, \"#ed7953\"], [0.7777777777777778, \"#fb9f3a\"], [0.8888888888888888, \"#fdca26\"], [1.0, \"#f0f921\"]], \"type\": \"heatmap\"}], \"heatmapgl\": [{\"colorbar\": {\"outlinewidth\": 0, \"ticks\": \"\"}, \"colorscale\": [[0.0, \"#0d0887\"], [0.1111111111111111, \"#46039f\"], [0.2222222222222222, \"#7201a8\"], [0.3333333333333333, \"#9c179e\"], [0.4444444444444444, \"#bd3786\"], [0.5555555555555556, \"#d8576b\"], [0.6666666666666666, \"#ed7953\"], [0.7777777777777778, \"#fb9f3a\"], [0.8888888888888888, \"#fdca26\"], [1.0, \"#f0f921\"]], \"type\": \"heatmapgl\"}], \"histogram\": [{\"marker\": {\"colorbar\": {\"outlinewidth\": 0, \"ticks\": \"\"}}, \"type\": \"histogram\"}], \"histogram2d\": [{\"colorbar\": {\"outlinewidth\": 0, \"ticks\": \"\"}, \"colorscale\": [[0.0, \"#0d0887\"], [0.1111111111111111, \"#46039f\"], [0.2222222222222222, \"#7201a8\"], [0.3333333333333333, \"#9c179e\"], [0.4444444444444444, \"#bd3786\"], [0.5555555555555556, \"#d8576b\"], [0.6666666666666666, \"#ed7953\"], [0.7777777777777778, \"#fb9f3a\"], [0.8888888888888888, \"#fdca26\"], [1.0, \"#f0f921\"]], \"type\": \"histogram2d\"}], \"histogram2dcontour\": [{\"colorbar\": {\"outlinewidth\": 0, \"ticks\": \"\"}, \"colorscale\": [[0.0, \"#0d0887\"], [0.1111111111111111, \"#46039f\"], [0.2222222222222222, \"#7201a8\"], [0.3333333333333333, \"#9c179e\"], [0.4444444444444444, \"#bd3786\"], [0.5555555555555556, \"#d8576b\"], [0.6666666666666666, \"#ed7953\"], [0.7777777777777778, \"#fb9f3a\"], [0.8888888888888888, \"#fdca26\"], [1.0, \"#f0f921\"]], \"type\": \"histogram2dcontour\"}], \"mesh3d\": [{\"colorbar\": {\"outlinewidth\": 0, \"ticks\": \"\"}, \"type\": \"mesh3d\"}], \"parcoords\": [{\"line\": {\"colorbar\": {\"outlinewidth\": 0, \"ticks\": \"\"}}, \"type\": \"parcoords\"}], \"pie\": [{\"automargin\": true, \"type\": \"pie\"}], \"scatter\": [{\"marker\": {\"colorbar\": {\"outlinewidth\": 0, \"ticks\": \"\"}}, \"type\": \"scatter\"}], \"scatter3d\": [{\"line\": {\"colorbar\": {\"outlinewidth\": 0, \"ticks\": \"\"}}, \"marker\": {\"colorbar\": {\"outlinewidth\": 0, \"ticks\": \"\"}}, \"type\": \"scatter3d\"}], \"scattercarpet\": [{\"marker\": {\"colorbar\": {\"outlinewidth\": 0, \"ticks\": \"\"}}, \"type\": \"scattercarpet\"}], \"scattergeo\": [{\"marker\": {\"colorbar\": {\"outlinewidth\": 0, \"ticks\": \"\"}}, \"type\": \"scattergeo\"}], \"scattergl\": [{\"marker\": {\"colorbar\": {\"outlinewidth\": 0, \"ticks\": \"\"}}, \"type\": \"scattergl\"}], \"scattermapbox\": [{\"marker\": {\"colorbar\": {\"outlinewidth\": 0, \"ticks\": \"\"}}, \"type\": \"scattermapbox\"}], \"scatterpolar\": [{\"marker\": {\"colorbar\": {\"outlinewidth\": 0, \"ticks\": \"\"}}, \"type\": \"scatterpolar\"}], \"scatterpolargl\": [{\"marker\": {\"colorbar\": {\"outlinewidth\": 0, \"ticks\": \"\"}}, \"type\": \"scatterpolargl\"}], \"scatterternary\": [{\"marker\": {\"colorbar\": {\"outlinewidth\": 0, \"ticks\": \"\"}}, \"type\": \"scatterternary\"}], \"surface\": [{\"colorbar\": {\"outlinewidth\": 0, \"ticks\": \"\"}, \"colorscale\": [[0.0, \"#0d0887\"], [0.1111111111111111, \"#46039f\"], [0.2222222222222222, \"#7201a8\"], [0.3333333333333333, \"#9c179e\"], [0.4444444444444444, \"#bd3786\"], [0.5555555555555556, \"#d8576b\"], [0.6666666666666666, \"#ed7953\"], [0.7777777777777778, \"#fb9f3a\"], [0.8888888888888888, \"#fdca26\"], [1.0, \"#f0f921\"]], \"type\": \"surface\"}], \"table\": [{\"cells\": {\"fill\": {\"color\": \"#EBF0F8\"}, \"line\": {\"color\": \"white\"}}, \"header\": {\"fill\": {\"color\": \"#C8D4E3\"}, \"line\": {\"color\": \"white\"}}, \"type\": \"table\"}]}, \"layout\": {\"annotationdefaults\": {\"arrowcolor\": \"#2a3f5f\", \"arrowhead\": 0, \"arrowwidth\": 1}, \"autotypenumbers\": \"strict\", \"coloraxis\": {\"colorbar\": {\"outlinewidth\": 0, \"ticks\": \"\"}}, \"colorscale\": {\"diverging\": [[0, \"#8e0152\"], [0.1, \"#c51b7d\"], [0.2, \"#de77ae\"], [0.3, \"#f1b6da\"], [0.4, \"#fde0ef\"], [0.5, \"#f7f7f7\"], [0.6, \"#e6f5d0\"], [0.7, \"#b8e186\"], [0.8, \"#7fbc41\"], [0.9, \"#4d9221\"], [1, \"#276419\"]], \"sequential\": [[0.0, \"#0d0887\"], [0.1111111111111111, \"#46039f\"], [0.2222222222222222, \"#7201a8\"], [0.3333333333333333, \"#9c179e\"], [0.4444444444444444, \"#bd3786\"], [0.5555555555555556, \"#d8576b\"], [0.6666666666666666, \"#ed7953\"], [0.7777777777777778, \"#fb9f3a\"], [0.8888888888888888, \"#fdca26\"], [1.0, \"#f0f921\"]], \"sequentialminus\": [[0.0, \"#0d0887\"], [0.1111111111111111, \"#46039f\"], [0.2222222222222222, \"#7201a8\"], [0.3333333333333333, \"#9c179e\"], [0.4444444444444444, \"#bd3786\"], [0.5555555555555556, \"#d8576b\"], [0.6666666666666666, \"#ed7953\"], [0.7777777777777778, \"#fb9f3a\"], [0.8888888888888888, \"#fdca26\"], [1.0, \"#f0f921\"]]}, \"colorway\": [\"#636efa\", \"#EF553B\", \"#00cc96\", \"#ab63fa\", \"#FFA15A\", \"#19d3f3\", \"#FF6692\", \"#B6E880\", \"#FF97FF\", \"#FECB52\"], \"font\": {\"color\": \"#2a3f5f\"}, \"geo\": {\"bgcolor\": \"white\", \"lakecolor\": \"white\", \"landcolor\": \"#E5ECF6\", \"showlakes\": true, \"showland\": true, \"subunitcolor\": \"white\"}, \"hoverlabel\": {\"align\": \"left\"}, \"hovermode\": \"closest\", \"mapbox\": {\"style\": \"light\"}, \"paper_bgcolor\": \"white\", \"plot_bgcolor\": \"#E5ECF6\", \"polar\": {\"angularaxis\": {\"gridcolor\": \"white\", \"linecolor\": \"white\", \"ticks\": \"\"}, \"bgcolor\": \"#E5ECF6\", \"radialaxis\": {\"gridcolor\": \"white\", \"linecolor\": \"white\", \"ticks\": \"\"}}, \"scene\": {\"xaxis\": {\"backgroundcolor\": \"#E5ECF6\", \"gridcolor\": \"white\", \"gridwidth\": 2, \"linecolor\": \"white\", \"showbackground\": true, \"ticks\": \"\", \"zerolinecolor\": \"white\"}, \"yaxis\": {\"backgroundcolor\": \"#E5ECF6\", \"gridcolor\": \"white\", \"gridwidth\": 2, \"linecolor\": \"white\", \"showbackground\": true, \"ticks\": \"\", \"zerolinecolor\": \"white\"}, \"zaxis\": {\"backgroundcolor\": \"#E5ECF6\", \"gridcolor\": \"white\", \"gridwidth\": 2, \"linecolor\": \"white\", \"showbackground\": true, \"ticks\": \"\", \"zerolinecolor\": \"white\"}}, \"shapedefaults\": {\"line\": {\"color\": \"#2a3f5f\"}}, \"ternary\": {\"aaxis\": {\"gridcolor\": \"white\", \"linecolor\": \"white\", \"ticks\": \"\"}, \"baxis\": {\"gridcolor\": \"white\", \"linecolor\": \"white\", \"ticks\": \"\"}, \"bgcolor\": \"#E5ECF6\", \"caxis\": {\"gridcolor\": \"white\", \"linecolor\": \"white\", \"ticks\": \"\"}}, \"title\": {\"x\": 0.05}, \"xaxis\": {\"automargin\": true, \"gridcolor\": \"white\", \"linecolor\": \"white\", \"ticks\": \"\", \"title\": {\"standoff\": 15}, \"zerolinecolor\": \"white\", \"zerolinewidth\": 2}, \"yaxis\": {\"automargin\": true, \"gridcolor\": \"white\", \"linecolor\": \"white\", \"ticks\": \"\", \"title\": {\"standoff\": 15}, \"zerolinecolor\": \"white\", \"zerolinewidth\": 2}}}, \"title\": {\"text\": \"Model fit of Random Forest model\"}, \"xaxis\": {\"anchor\": \"y\", \"domain\": [0.0, 1.0], \"title\": {\"text\": \"measured data (sample)\"}}, \"yaxis\": {\"anchor\": \"x\", \"domain\": [0.0, 1.0], \"title\": {\"text\": \"fitted values (in sample fit)\"}}},                        {\"responsive\": true}                    ).then(function(){\n",
       "                            \n",
       "var gd = document.getElementById('92b4baf2-f17f-4065-9e41-9afc0ab5112b');\n",
       "var x = new MutationObserver(function (mutations, observer) {{\n",
       "        var display = window.getComputedStyle(gd).display;\n",
       "        if (!display || display === 'none') {{\n",
       "            console.log([gd, 'removed!']);\n",
       "            Plotly.purge(gd);\n",
       "            observer.disconnect();\n",
       "        }}\n",
       "}});\n",
       "\n",
       "// Listen for the removal of the full notebook cells\n",
       "var notebookContainer = gd.closest('#notebook-container');\n",
       "if (notebookContainer) {{\n",
       "    x.observe(notebookContainer, {childList: true});\n",
       "}}\n",
       "\n",
       "// Listen for the clearing of the current output cell\n",
       "var outputEl = gd.closest('.output');\n",
       "if (outputEl) {{\n",
       "    x.observe(outputEl, {childList: true});\n",
       "}}\n",
       "\n",
       "                        })                };                });            </script>        </div>"
      ]
     },
     "metadata": {},
     "output_type": "display_data"
    }
   ],
   "source": [
    "fig.show()"
   ]
  },
  {
   "cell_type": "code",
   "execution_count": 202,
   "id": "actual-applicant",
   "metadata": {},
   "outputs": [],
   "source": [
    "importances = pd.Series(data=rf.feature_importances_,\n",
    "                        index= X.columns)\n",
    "\n",
    "# Sort importances\n",
    "importances_sorted = importances.sort_values()\n",
    "importances_df = importances_sorted.reset_index()\n",
    "importances_df.columns = [\"feature\", \"importance\"]"
   ]
  },
  {
   "cell_type": "code",
   "execution_count": null,
   "id": "attached-verse",
   "metadata": {},
   "outputs": [],
   "source": []
  },
  {
   "cell_type": "code",
   "execution_count": null,
   "id": "continued-captain",
   "metadata": {},
   "outputs": [],
   "source": []
  },
  {
   "cell_type": "code",
   "execution_count": null,
   "id": "functioning-ivory",
   "metadata": {},
   "outputs": [],
   "source": []
  },
  {
   "cell_type": "code",
   "execution_count": 203,
   "id": "third-terrorist",
   "metadata": {},
   "outputs": [
    {
     "data": {
      "application/vnd.plotly.v1+json": {
       "config": {
        "plotlyServerURL": "https://plot.ly"
       },
       "data": [
        {
         "alignmentgroup": "True",
         "hovertemplate": "importance=%{x}<br>feature=%{y}<extra></extra>",
         "legendgroup": "",
         "marker": {
          "color": "#75c3ff",
          "line": {
           "color": "#75c3ff",
           "width": 1.5
          }
         },
         "name": "",
         "offsetgroup": "",
         "opacity": 1,
         "orientation": "h",
         "showlegend": false,
         "textposition": "auto",
         "type": "bar",
         "x": [
          0.001430501338491505,
          0.001636004516964425,
          0.0022447273910482933,
          0.002440027693742257,
          0.0026984625502417046,
          0.002837946905219219,
          0.0033151090430125754,
          0.003916819603263783,
          0.0044329016964214756,
          0.004439926957323952,
          0.004818351427823098,
          0.00496007340766088,
          0.005079557153665222,
          0.005317580968377776,
          0.00554282787135818,
          0.005776570396440372,
          0.005777671195802639,
          0.006232998648189869,
          0.00636794939072992,
          0.0063843568180828895,
          0.0065156377281966205,
          0.0069772410935538196,
          0.007374042987985074,
          0.0074049300093030415,
          0.007706292343257797,
          0.007732516395127597,
          0.00779948282655239,
          0.00849159135651828,
          0.008537512449790256,
          0.008826220807633315,
          0.008975759476220922,
          0.009213934819969362,
          0.009735807372431248,
          0.0099170177809072,
          0.010119980861809012,
          0.010604158578617877,
          0.011556444880507668,
          0.011701478361132682,
          0.011801575112679754,
          0.012374713952563189,
          0.012428949244621464,
          0.012946407508012285,
          0.013071087020242754,
          0.01505532749910651,
          0.015574527329055723,
          0.016020792384003082,
          0.016227849166977483,
          0.016958107722611103,
          0.017029868388764108,
          0.02079866770061286,
          0.020976584805118895,
          0.02267135595941011,
          0.023801755991336916,
          0.024987800307317027,
          0.02624617978289344,
          0.03018822580634304,
          0.03056533304387356,
          0.03210140190133239,
          0.03369565563469024,
          0.03631711204387516,
          0.03878086787101152,
          0.055523479219816825,
          0.05834824388191978,
          0.06913043705781544,
          0.07153727856062113
         ],
         "xaxis": "x",
         "y": [
          "Rain I_shift_2",
          "Rain I_shift_1",
          "Rain I_shift_5",
          "Rain V_shift_3",
          "Rain I_shift_3",
          "Rain I_shift_4",
          "Rain V_shift_4",
          "Rain V_shift_2",
          "Flow Seine_shift_4",
          "Rain V_shift_5",
          "Flow Marne_shift_4",
          "Flow Marne_shift_3",
          "Flow Marne_shift_2",
          "Flow Seine_shift_2",
          "Flow Seine_shift_3",
          "Network center_shift_3",
          "Flow Seine_shift_5",
          "Rain V_shift_1",
          "Flow Marne_shift_5",
          "Flow Marne_shift_1",
          "Network center_shift_2",
          "Rain II_shift_1",
          "Flow Seine_shift_1",
          "Rain IV_shift_3",
          "Network Seine_shift_3",
          "Network center_shift_4",
          "Rain III_shift_1",
          "Rain III_shift_3",
          "Rain III_shift_5",
          "Rain IV_shift_1",
          "Flow center_shift_3",
          "Rain IV_shift_5",
          "Flow center_shift_4",
          "Network center_shift_5",
          "Rain IV_shift_4",
          "Flow center_shift_2",
          "Network Seine_shift_4",
          "Rain II_shift_5",
          "Rain III_shift_4",
          "Rain IV_shift_2",
          "Network Seine_shift_5",
          "Rain II_shift_2",
          "Rain II_shift_4",
          "WWTP Seine_shift_3",
          "Network Seine_shift_2",
          "WWTP Seine_shift_5",
          "Rain II_shift_3",
          "WWTP Marne_shift_3",
          "Flow center_shift_5",
          "WWTP Marne_shift_4",
          "WWTP Seine_shift_4",
          "Flow center_shift_1",
          "Network Marne_shift_5",
          "WWTP Marne_shift_5",
          "WWTP Marne_shift_2",
          "Network Marne_shift_4",
          "Network Marne_shift_1",
          "Network Marne_shift_3",
          "WWTP Seine_shift_1",
          "WWTP Seine_shift_2",
          "Network center_shift_1",
          "WWTP Marne_shift_1",
          "Rain III_shift_2",
          "Network Seine_shift_1",
          "Network Marne_shift_2"
         ],
         "yaxis": "y"
        }
       ],
       "layout": {
        "barmode": "relative",
        "font": {
         "color": "black",
         "family": "Helvetica Neue, Helvetica, Arial, sans-serif"
        },
        "legend": {
         "tracegroupgap": 0
        },
        "margin": {
         "t": 60
        },
        "template": {
         "data": {
          "bar": [
           {
            "error_x": {
             "color": "#2a3f5f"
            },
            "error_y": {
             "color": "#2a3f5f"
            },
            "marker": {
             "line": {
              "color": "#E5ECF6",
              "width": 0.5
             }
            },
            "type": "bar"
           }
          ],
          "barpolar": [
           {
            "marker": {
             "line": {
              "color": "#E5ECF6",
              "width": 0.5
             }
            },
            "type": "barpolar"
           }
          ],
          "carpet": [
           {
            "aaxis": {
             "endlinecolor": "#2a3f5f",
             "gridcolor": "white",
             "linecolor": "white",
             "minorgridcolor": "white",
             "startlinecolor": "#2a3f5f"
            },
            "baxis": {
             "endlinecolor": "#2a3f5f",
             "gridcolor": "white",
             "linecolor": "white",
             "minorgridcolor": "white",
             "startlinecolor": "#2a3f5f"
            },
            "type": "carpet"
           }
          ],
          "choropleth": [
           {
            "colorbar": {
             "outlinewidth": 0,
             "ticks": ""
            },
            "type": "choropleth"
           }
          ],
          "contour": [
           {
            "colorbar": {
             "outlinewidth": 0,
             "ticks": ""
            },
            "colorscale": [
             [
              0,
              "#0d0887"
             ],
             [
              0.1111111111111111,
              "#46039f"
             ],
             [
              0.2222222222222222,
              "#7201a8"
             ],
             [
              0.3333333333333333,
              "#9c179e"
             ],
             [
              0.4444444444444444,
              "#bd3786"
             ],
             [
              0.5555555555555556,
              "#d8576b"
             ],
             [
              0.6666666666666666,
              "#ed7953"
             ],
             [
              0.7777777777777778,
              "#fb9f3a"
             ],
             [
              0.8888888888888888,
              "#fdca26"
             ],
             [
              1,
              "#f0f921"
             ]
            ],
            "type": "contour"
           }
          ],
          "contourcarpet": [
           {
            "colorbar": {
             "outlinewidth": 0,
             "ticks": ""
            },
            "type": "contourcarpet"
           }
          ],
          "heatmap": [
           {
            "colorbar": {
             "outlinewidth": 0,
             "ticks": ""
            },
            "colorscale": [
             [
              0,
              "#0d0887"
             ],
             [
              0.1111111111111111,
              "#46039f"
             ],
             [
              0.2222222222222222,
              "#7201a8"
             ],
             [
              0.3333333333333333,
              "#9c179e"
             ],
             [
              0.4444444444444444,
              "#bd3786"
             ],
             [
              0.5555555555555556,
              "#d8576b"
             ],
             [
              0.6666666666666666,
              "#ed7953"
             ],
             [
              0.7777777777777778,
              "#fb9f3a"
             ],
             [
              0.8888888888888888,
              "#fdca26"
             ],
             [
              1,
              "#f0f921"
             ]
            ],
            "type": "heatmap"
           }
          ],
          "heatmapgl": [
           {
            "colorbar": {
             "outlinewidth": 0,
             "ticks": ""
            },
            "colorscale": [
             [
              0,
              "#0d0887"
             ],
             [
              0.1111111111111111,
              "#46039f"
             ],
             [
              0.2222222222222222,
              "#7201a8"
             ],
             [
              0.3333333333333333,
              "#9c179e"
             ],
             [
              0.4444444444444444,
              "#bd3786"
             ],
             [
              0.5555555555555556,
              "#d8576b"
             ],
             [
              0.6666666666666666,
              "#ed7953"
             ],
             [
              0.7777777777777778,
              "#fb9f3a"
             ],
             [
              0.8888888888888888,
              "#fdca26"
             ],
             [
              1,
              "#f0f921"
             ]
            ],
            "type": "heatmapgl"
           }
          ],
          "histogram": [
           {
            "marker": {
             "colorbar": {
              "outlinewidth": 0,
              "ticks": ""
             }
            },
            "type": "histogram"
           }
          ],
          "histogram2d": [
           {
            "colorbar": {
             "outlinewidth": 0,
             "ticks": ""
            },
            "colorscale": [
             [
              0,
              "#0d0887"
             ],
             [
              0.1111111111111111,
              "#46039f"
             ],
             [
              0.2222222222222222,
              "#7201a8"
             ],
             [
              0.3333333333333333,
              "#9c179e"
             ],
             [
              0.4444444444444444,
              "#bd3786"
             ],
             [
              0.5555555555555556,
              "#d8576b"
             ],
             [
              0.6666666666666666,
              "#ed7953"
             ],
             [
              0.7777777777777778,
              "#fb9f3a"
             ],
             [
              0.8888888888888888,
              "#fdca26"
             ],
             [
              1,
              "#f0f921"
             ]
            ],
            "type": "histogram2d"
           }
          ],
          "histogram2dcontour": [
           {
            "colorbar": {
             "outlinewidth": 0,
             "ticks": ""
            },
            "colorscale": [
             [
              0,
              "#0d0887"
             ],
             [
              0.1111111111111111,
              "#46039f"
             ],
             [
              0.2222222222222222,
              "#7201a8"
             ],
             [
              0.3333333333333333,
              "#9c179e"
             ],
             [
              0.4444444444444444,
              "#bd3786"
             ],
             [
              0.5555555555555556,
              "#d8576b"
             ],
             [
              0.6666666666666666,
              "#ed7953"
             ],
             [
              0.7777777777777778,
              "#fb9f3a"
             ],
             [
              0.8888888888888888,
              "#fdca26"
             ],
             [
              1,
              "#f0f921"
             ]
            ],
            "type": "histogram2dcontour"
           }
          ],
          "mesh3d": [
           {
            "colorbar": {
             "outlinewidth": 0,
             "ticks": ""
            },
            "type": "mesh3d"
           }
          ],
          "parcoords": [
           {
            "line": {
             "colorbar": {
              "outlinewidth": 0,
              "ticks": ""
             }
            },
            "type": "parcoords"
           }
          ],
          "pie": [
           {
            "automargin": true,
            "type": "pie"
           }
          ],
          "scatter": [
           {
            "marker": {
             "colorbar": {
              "outlinewidth": 0,
              "ticks": ""
             }
            },
            "type": "scatter"
           }
          ],
          "scatter3d": [
           {
            "line": {
             "colorbar": {
              "outlinewidth": 0,
              "ticks": ""
             }
            },
            "marker": {
             "colorbar": {
              "outlinewidth": 0,
              "ticks": ""
             }
            },
            "type": "scatter3d"
           }
          ],
          "scattercarpet": [
           {
            "marker": {
             "colorbar": {
              "outlinewidth": 0,
              "ticks": ""
             }
            },
            "type": "scattercarpet"
           }
          ],
          "scattergeo": [
           {
            "marker": {
             "colorbar": {
              "outlinewidth": 0,
              "ticks": ""
             }
            },
            "type": "scattergeo"
           }
          ],
          "scattergl": [
           {
            "marker": {
             "colorbar": {
              "outlinewidth": 0,
              "ticks": ""
             }
            },
            "type": "scattergl"
           }
          ],
          "scattermapbox": [
           {
            "marker": {
             "colorbar": {
              "outlinewidth": 0,
              "ticks": ""
             }
            },
            "type": "scattermapbox"
           }
          ],
          "scatterpolar": [
           {
            "marker": {
             "colorbar": {
              "outlinewidth": 0,
              "ticks": ""
             }
            },
            "type": "scatterpolar"
           }
          ],
          "scatterpolargl": [
           {
            "marker": {
             "colorbar": {
              "outlinewidth": 0,
              "ticks": ""
             }
            },
            "type": "scatterpolargl"
           }
          ],
          "scatterternary": [
           {
            "marker": {
             "colorbar": {
              "outlinewidth": 0,
              "ticks": ""
             }
            },
            "type": "scatterternary"
           }
          ],
          "surface": [
           {
            "colorbar": {
             "outlinewidth": 0,
             "ticks": ""
            },
            "colorscale": [
             [
              0,
              "#0d0887"
             ],
             [
              0.1111111111111111,
              "#46039f"
             ],
             [
              0.2222222222222222,
              "#7201a8"
             ],
             [
              0.3333333333333333,
              "#9c179e"
             ],
             [
              0.4444444444444444,
              "#bd3786"
             ],
             [
              0.5555555555555556,
              "#d8576b"
             ],
             [
              0.6666666666666666,
              "#ed7953"
             ],
             [
              0.7777777777777778,
              "#fb9f3a"
             ],
             [
              0.8888888888888888,
              "#fdca26"
             ],
             [
              1,
              "#f0f921"
             ]
            ],
            "type": "surface"
           }
          ],
          "table": [
           {
            "cells": {
             "fill": {
              "color": "#EBF0F8"
             },
             "line": {
              "color": "white"
             }
            },
            "header": {
             "fill": {
              "color": "#C8D4E3"
             },
             "line": {
              "color": "white"
             }
            },
            "type": "table"
           }
          ]
         },
         "layout": {
          "annotationdefaults": {
           "arrowcolor": "#2a3f5f",
           "arrowhead": 0,
           "arrowwidth": 1
          },
          "autotypenumbers": "strict",
          "coloraxis": {
           "colorbar": {
            "outlinewidth": 0,
            "ticks": ""
           }
          },
          "colorscale": {
           "diverging": [
            [
             0,
             "#8e0152"
            ],
            [
             0.1,
             "#c51b7d"
            ],
            [
             0.2,
             "#de77ae"
            ],
            [
             0.3,
             "#f1b6da"
            ],
            [
             0.4,
             "#fde0ef"
            ],
            [
             0.5,
             "#f7f7f7"
            ],
            [
             0.6,
             "#e6f5d0"
            ],
            [
             0.7,
             "#b8e186"
            ],
            [
             0.8,
             "#7fbc41"
            ],
            [
             0.9,
             "#4d9221"
            ],
            [
             1,
             "#276419"
            ]
           ],
           "sequential": [
            [
             0,
             "#0d0887"
            ],
            [
             0.1111111111111111,
             "#46039f"
            ],
            [
             0.2222222222222222,
             "#7201a8"
            ],
            [
             0.3333333333333333,
             "#9c179e"
            ],
            [
             0.4444444444444444,
             "#bd3786"
            ],
            [
             0.5555555555555556,
             "#d8576b"
            ],
            [
             0.6666666666666666,
             "#ed7953"
            ],
            [
             0.7777777777777778,
             "#fb9f3a"
            ],
            [
             0.8888888888888888,
             "#fdca26"
            ],
            [
             1,
             "#f0f921"
            ]
           ],
           "sequentialminus": [
            [
             0,
             "#0d0887"
            ],
            [
             0.1111111111111111,
             "#46039f"
            ],
            [
             0.2222222222222222,
             "#7201a8"
            ],
            [
             0.3333333333333333,
             "#9c179e"
            ],
            [
             0.4444444444444444,
             "#bd3786"
            ],
            [
             0.5555555555555556,
             "#d8576b"
            ],
            [
             0.6666666666666666,
             "#ed7953"
            ],
            [
             0.7777777777777778,
             "#fb9f3a"
            ],
            [
             0.8888888888888888,
             "#fdca26"
            ],
            [
             1,
             "#f0f921"
            ]
           ]
          },
          "colorway": [
           "#636efa",
           "#EF553B",
           "#00cc96",
           "#ab63fa",
           "#FFA15A",
           "#19d3f3",
           "#FF6692",
           "#B6E880",
           "#FF97FF",
           "#FECB52"
          ],
          "font": {
           "color": "#2a3f5f"
          },
          "geo": {
           "bgcolor": "white",
           "lakecolor": "white",
           "landcolor": "#E5ECF6",
           "showlakes": true,
           "showland": true,
           "subunitcolor": "white"
          },
          "hoverlabel": {
           "align": "left"
          },
          "hovermode": "closest",
          "mapbox": {
           "style": "light"
          },
          "paper_bgcolor": "white",
          "plot_bgcolor": "#E5ECF6",
          "polar": {
           "angularaxis": {
            "gridcolor": "white",
            "linecolor": "white",
            "ticks": ""
           },
           "bgcolor": "#E5ECF6",
           "radialaxis": {
            "gridcolor": "white",
            "linecolor": "white",
            "ticks": ""
           }
          },
          "scene": {
           "xaxis": {
            "backgroundcolor": "#E5ECF6",
            "gridcolor": "white",
            "gridwidth": 2,
            "linecolor": "white",
            "showbackground": true,
            "ticks": "",
            "zerolinecolor": "white"
           },
           "yaxis": {
            "backgroundcolor": "#E5ECF6",
            "gridcolor": "white",
            "gridwidth": 2,
            "linecolor": "white",
            "showbackground": true,
            "ticks": "",
            "zerolinecolor": "white"
           },
           "zaxis": {
            "backgroundcolor": "#E5ECF6",
            "gridcolor": "white",
            "gridwidth": 2,
            "linecolor": "white",
            "showbackground": true,
            "ticks": "",
            "zerolinecolor": "white"
           }
          },
          "shapedefaults": {
           "line": {
            "color": "#2a3f5f"
           }
          },
          "ternary": {
           "aaxis": {
            "gridcolor": "white",
            "linecolor": "white",
            "ticks": ""
           },
           "baxis": {
            "gridcolor": "white",
            "linecolor": "white",
            "ticks": ""
           },
           "bgcolor": "#E5ECF6",
           "caxis": {
            "gridcolor": "white",
            "linecolor": "white",
            "ticks": ""
           }
          },
          "title": {
           "x": 0.05
          },
          "xaxis": {
           "automargin": true,
           "gridcolor": "white",
           "linecolor": "white",
           "ticks": "",
           "title": {
            "standoff": 15
           },
           "zerolinecolor": "white",
           "zerolinewidth": 2
          },
          "yaxis": {
           "automargin": true,
           "gridcolor": "white",
           "linecolor": "white",
           "ticks": "",
           "title": {
            "standoff": 15
           },
           "zerolinecolor": "white",
           "zerolinewidth": 2
          }
         }
        },
        "title": {
         "text": "Feature importance of Random Forest model"
        },
        "xaxis": {
         "anchor": "y",
         "domain": [
          0,
          1
         ],
         "title": {
          "text": "importance"
         }
        },
        "yaxis": {
         "anchor": "x",
         "domain": [
          0,
          1
         ],
         "title": {
          "text": "feature"
         }
        }
       }
      },
      "text/html": [
       "<div>                            <div id=\"d7144996-946f-4d70-9d9c-04968d0d144a\" class=\"plotly-graph-div\" style=\"height:525px; width:100%;\"></div>            <script type=\"text/javascript\">                require([\"plotly\"], function(Plotly) {                    window.PLOTLYENV=window.PLOTLYENV || {};                                    if (document.getElementById(\"d7144996-946f-4d70-9d9c-04968d0d144a\")) {                    Plotly.newPlot(                        \"d7144996-946f-4d70-9d9c-04968d0d144a\",                        [{\"alignmentgroup\": \"True\", \"hovertemplate\": \"importance=%{x}<br>feature=%{y}<extra></extra>\", \"legendgroup\": \"\", \"marker\": {\"color\": \"#75c3ff\", \"line\": {\"color\": \"#75c3ff\", \"width\": 1.5}}, \"name\": \"\", \"offsetgroup\": \"\", \"opacity\": 1, \"orientation\": \"h\", \"showlegend\": false, \"textposition\": \"auto\", \"type\": \"bar\", \"x\": [0.001430501338491505, 0.001636004516964425, 0.0022447273910482933, 0.002440027693742257, 0.0026984625502417046, 0.002837946905219219, 0.0033151090430125754, 0.003916819603263783, 0.0044329016964214756, 0.004439926957323952, 0.004818351427823098, 0.00496007340766088, 0.005079557153665222, 0.005317580968377776, 0.00554282787135818, 0.005776570396440372, 0.005777671195802639, 0.006232998648189869, 0.00636794939072992, 0.0063843568180828895, 0.0065156377281966205, 0.0069772410935538196, 0.007374042987985074, 0.0074049300093030415, 0.007706292343257797, 0.007732516395127597, 0.00779948282655239, 0.00849159135651828, 0.008537512449790256, 0.008826220807633315, 0.008975759476220922, 0.009213934819969362, 0.009735807372431248, 0.0099170177809072, 0.010119980861809012, 0.010604158578617877, 0.011556444880507668, 0.011701478361132682, 0.011801575112679754, 0.012374713952563189, 0.012428949244621464, 0.012946407508012285, 0.013071087020242754, 0.01505532749910651, 0.015574527329055723, 0.016020792384003082, 0.016227849166977483, 0.016958107722611103, 0.017029868388764108, 0.02079866770061286, 0.020976584805118895, 0.02267135595941011, 0.023801755991336916, 0.024987800307317027, 0.02624617978289344, 0.03018822580634304, 0.03056533304387356, 0.03210140190133239, 0.03369565563469024, 0.03631711204387516, 0.03878086787101152, 0.055523479219816825, 0.05834824388191978, 0.06913043705781544, 0.07153727856062113], \"xaxis\": \"x\", \"y\": [\"Rain I_shift_2\", \"Rain I_shift_1\", \"Rain I_shift_5\", \"Rain V_shift_3\", \"Rain I_shift_3\", \"Rain I_shift_4\", \"Rain V_shift_4\", \"Rain V_shift_2\", \"Flow Seine_shift_4\", \"Rain V_shift_5\", \"Flow Marne_shift_4\", \"Flow Marne_shift_3\", \"Flow Marne_shift_2\", \"Flow Seine_shift_2\", \"Flow Seine_shift_3\", \"Network center_shift_3\", \"Flow Seine_shift_5\", \"Rain V_shift_1\", \"Flow Marne_shift_5\", \"Flow Marne_shift_1\", \"Network center_shift_2\", \"Rain II_shift_1\", \"Flow Seine_shift_1\", \"Rain IV_shift_3\", \"Network Seine_shift_3\", \"Network center_shift_4\", \"Rain III_shift_1\", \"Rain III_shift_3\", \"Rain III_shift_5\", \"Rain IV_shift_1\", \"Flow center_shift_3\", \"Rain IV_shift_5\", \"Flow center_shift_4\", \"Network center_shift_5\", \"Rain IV_shift_4\", \"Flow center_shift_2\", \"Network Seine_shift_4\", \"Rain II_shift_5\", \"Rain III_shift_4\", \"Rain IV_shift_2\", \"Network Seine_shift_5\", \"Rain II_shift_2\", \"Rain II_shift_4\", \"WWTP Seine_shift_3\", \"Network Seine_shift_2\", \"WWTP Seine_shift_5\", \"Rain II_shift_3\", \"WWTP Marne_shift_3\", \"Flow center_shift_5\", \"WWTP Marne_shift_4\", \"WWTP Seine_shift_4\", \"Flow center_shift_1\", \"Network Marne_shift_5\", \"WWTP Marne_shift_5\", \"WWTP Marne_shift_2\", \"Network Marne_shift_4\", \"Network Marne_shift_1\", \"Network Marne_shift_3\", \"WWTP Seine_shift_1\", \"WWTP Seine_shift_2\", \"Network center_shift_1\", \"WWTP Marne_shift_1\", \"Rain III_shift_2\", \"Network Seine_shift_1\", \"Network Marne_shift_2\"], \"yaxis\": \"y\"}],                        {\"barmode\": \"relative\", \"font\": {\"color\": \"black\", \"family\": \"Helvetica Neue, Helvetica, Arial, sans-serif\"}, \"legend\": {\"tracegroupgap\": 0}, \"margin\": {\"t\": 60}, \"template\": {\"data\": {\"bar\": [{\"error_x\": {\"color\": \"#2a3f5f\"}, \"error_y\": {\"color\": \"#2a3f5f\"}, \"marker\": {\"line\": {\"color\": \"#E5ECF6\", \"width\": 0.5}}, \"type\": \"bar\"}], \"barpolar\": [{\"marker\": {\"line\": {\"color\": \"#E5ECF6\", \"width\": 0.5}}, \"type\": \"barpolar\"}], \"carpet\": [{\"aaxis\": {\"endlinecolor\": \"#2a3f5f\", \"gridcolor\": \"white\", \"linecolor\": \"white\", \"minorgridcolor\": \"white\", \"startlinecolor\": \"#2a3f5f\"}, \"baxis\": {\"endlinecolor\": \"#2a3f5f\", \"gridcolor\": \"white\", \"linecolor\": \"white\", \"minorgridcolor\": \"white\", \"startlinecolor\": \"#2a3f5f\"}, \"type\": \"carpet\"}], \"choropleth\": [{\"colorbar\": {\"outlinewidth\": 0, \"ticks\": \"\"}, \"type\": \"choropleth\"}], \"contour\": [{\"colorbar\": {\"outlinewidth\": 0, \"ticks\": \"\"}, \"colorscale\": [[0.0, \"#0d0887\"], [0.1111111111111111, \"#46039f\"], [0.2222222222222222, \"#7201a8\"], [0.3333333333333333, \"#9c179e\"], [0.4444444444444444, \"#bd3786\"], [0.5555555555555556, \"#d8576b\"], [0.6666666666666666, \"#ed7953\"], [0.7777777777777778, \"#fb9f3a\"], [0.8888888888888888, \"#fdca26\"], [1.0, \"#f0f921\"]], \"type\": \"contour\"}], \"contourcarpet\": [{\"colorbar\": {\"outlinewidth\": 0, \"ticks\": \"\"}, \"type\": \"contourcarpet\"}], \"heatmap\": [{\"colorbar\": {\"outlinewidth\": 0, \"ticks\": \"\"}, \"colorscale\": [[0.0, \"#0d0887\"], [0.1111111111111111, \"#46039f\"], [0.2222222222222222, \"#7201a8\"], [0.3333333333333333, \"#9c179e\"], [0.4444444444444444, \"#bd3786\"], [0.5555555555555556, \"#d8576b\"], [0.6666666666666666, \"#ed7953\"], [0.7777777777777778, \"#fb9f3a\"], [0.8888888888888888, \"#fdca26\"], [1.0, \"#f0f921\"]], \"type\": \"heatmap\"}], \"heatmapgl\": [{\"colorbar\": {\"outlinewidth\": 0, \"ticks\": \"\"}, \"colorscale\": [[0.0, \"#0d0887\"], [0.1111111111111111, \"#46039f\"], [0.2222222222222222, \"#7201a8\"], [0.3333333333333333, \"#9c179e\"], [0.4444444444444444, \"#bd3786\"], [0.5555555555555556, \"#d8576b\"], [0.6666666666666666, \"#ed7953\"], [0.7777777777777778, \"#fb9f3a\"], [0.8888888888888888, \"#fdca26\"], [1.0, \"#f0f921\"]], \"type\": \"heatmapgl\"}], \"histogram\": [{\"marker\": {\"colorbar\": {\"outlinewidth\": 0, \"ticks\": \"\"}}, \"type\": \"histogram\"}], \"histogram2d\": [{\"colorbar\": {\"outlinewidth\": 0, \"ticks\": \"\"}, \"colorscale\": [[0.0, \"#0d0887\"], [0.1111111111111111, \"#46039f\"], [0.2222222222222222, \"#7201a8\"], [0.3333333333333333, \"#9c179e\"], [0.4444444444444444, \"#bd3786\"], [0.5555555555555556, \"#d8576b\"], [0.6666666666666666, \"#ed7953\"], [0.7777777777777778, \"#fb9f3a\"], [0.8888888888888888, \"#fdca26\"], [1.0, \"#f0f921\"]], \"type\": \"histogram2d\"}], \"histogram2dcontour\": [{\"colorbar\": {\"outlinewidth\": 0, \"ticks\": \"\"}, \"colorscale\": [[0.0, \"#0d0887\"], [0.1111111111111111, \"#46039f\"], [0.2222222222222222, \"#7201a8\"], [0.3333333333333333, \"#9c179e\"], [0.4444444444444444, \"#bd3786\"], [0.5555555555555556, \"#d8576b\"], [0.6666666666666666, \"#ed7953\"], [0.7777777777777778, \"#fb9f3a\"], [0.8888888888888888, \"#fdca26\"], [1.0, \"#f0f921\"]], \"type\": \"histogram2dcontour\"}], \"mesh3d\": [{\"colorbar\": {\"outlinewidth\": 0, \"ticks\": \"\"}, \"type\": \"mesh3d\"}], \"parcoords\": [{\"line\": {\"colorbar\": {\"outlinewidth\": 0, \"ticks\": \"\"}}, \"type\": \"parcoords\"}], \"pie\": [{\"automargin\": true, \"type\": \"pie\"}], \"scatter\": [{\"marker\": {\"colorbar\": {\"outlinewidth\": 0, \"ticks\": \"\"}}, \"type\": \"scatter\"}], \"scatter3d\": [{\"line\": {\"colorbar\": {\"outlinewidth\": 0, \"ticks\": \"\"}}, \"marker\": {\"colorbar\": {\"outlinewidth\": 0, \"ticks\": \"\"}}, \"type\": \"scatter3d\"}], \"scattercarpet\": [{\"marker\": {\"colorbar\": {\"outlinewidth\": 0, \"ticks\": \"\"}}, \"type\": \"scattercarpet\"}], \"scattergeo\": [{\"marker\": {\"colorbar\": {\"outlinewidth\": 0, \"ticks\": \"\"}}, \"type\": \"scattergeo\"}], \"scattergl\": [{\"marker\": {\"colorbar\": {\"outlinewidth\": 0, \"ticks\": \"\"}}, \"type\": \"scattergl\"}], \"scattermapbox\": [{\"marker\": {\"colorbar\": {\"outlinewidth\": 0, \"ticks\": \"\"}}, \"type\": \"scattermapbox\"}], \"scatterpolar\": [{\"marker\": {\"colorbar\": {\"outlinewidth\": 0, \"ticks\": \"\"}}, \"type\": \"scatterpolar\"}], \"scatterpolargl\": [{\"marker\": {\"colorbar\": {\"outlinewidth\": 0, \"ticks\": \"\"}}, \"type\": \"scatterpolargl\"}], \"scatterternary\": [{\"marker\": {\"colorbar\": {\"outlinewidth\": 0, \"ticks\": \"\"}}, \"type\": \"scatterternary\"}], \"surface\": [{\"colorbar\": {\"outlinewidth\": 0, \"ticks\": \"\"}, \"colorscale\": [[0.0, \"#0d0887\"], [0.1111111111111111, \"#46039f\"], [0.2222222222222222, \"#7201a8\"], [0.3333333333333333, \"#9c179e\"], [0.4444444444444444, \"#bd3786\"], [0.5555555555555556, \"#d8576b\"], [0.6666666666666666, \"#ed7953\"], [0.7777777777777778, \"#fb9f3a\"], [0.8888888888888888, \"#fdca26\"], [1.0, \"#f0f921\"]], \"type\": \"surface\"}], \"table\": [{\"cells\": {\"fill\": {\"color\": \"#EBF0F8\"}, \"line\": {\"color\": \"white\"}}, \"header\": {\"fill\": {\"color\": \"#C8D4E3\"}, \"line\": {\"color\": \"white\"}}, \"type\": \"table\"}]}, \"layout\": {\"annotationdefaults\": {\"arrowcolor\": \"#2a3f5f\", \"arrowhead\": 0, \"arrowwidth\": 1}, \"autotypenumbers\": \"strict\", \"coloraxis\": {\"colorbar\": {\"outlinewidth\": 0, \"ticks\": \"\"}}, \"colorscale\": {\"diverging\": [[0, \"#8e0152\"], [0.1, \"#c51b7d\"], [0.2, \"#de77ae\"], [0.3, \"#f1b6da\"], [0.4, \"#fde0ef\"], [0.5, \"#f7f7f7\"], [0.6, \"#e6f5d0\"], [0.7, \"#b8e186\"], [0.8, \"#7fbc41\"], [0.9, \"#4d9221\"], [1, \"#276419\"]], \"sequential\": [[0.0, \"#0d0887\"], [0.1111111111111111, \"#46039f\"], [0.2222222222222222, \"#7201a8\"], [0.3333333333333333, \"#9c179e\"], [0.4444444444444444, \"#bd3786\"], [0.5555555555555556, \"#d8576b\"], [0.6666666666666666, \"#ed7953\"], [0.7777777777777778, \"#fb9f3a\"], [0.8888888888888888, \"#fdca26\"], [1.0, \"#f0f921\"]], \"sequentialminus\": [[0.0, \"#0d0887\"], [0.1111111111111111, \"#46039f\"], [0.2222222222222222, \"#7201a8\"], [0.3333333333333333, \"#9c179e\"], [0.4444444444444444, \"#bd3786\"], [0.5555555555555556, \"#d8576b\"], [0.6666666666666666, \"#ed7953\"], [0.7777777777777778, \"#fb9f3a\"], [0.8888888888888888, \"#fdca26\"], [1.0, \"#f0f921\"]]}, \"colorway\": [\"#636efa\", \"#EF553B\", \"#00cc96\", \"#ab63fa\", \"#FFA15A\", \"#19d3f3\", \"#FF6692\", \"#B6E880\", \"#FF97FF\", \"#FECB52\"], \"font\": {\"color\": \"#2a3f5f\"}, \"geo\": {\"bgcolor\": \"white\", \"lakecolor\": \"white\", \"landcolor\": \"#E5ECF6\", \"showlakes\": true, \"showland\": true, \"subunitcolor\": \"white\"}, \"hoverlabel\": {\"align\": \"left\"}, \"hovermode\": \"closest\", \"mapbox\": {\"style\": \"light\"}, \"paper_bgcolor\": \"white\", \"plot_bgcolor\": \"#E5ECF6\", \"polar\": {\"angularaxis\": {\"gridcolor\": \"white\", \"linecolor\": \"white\", \"ticks\": \"\"}, \"bgcolor\": \"#E5ECF6\", \"radialaxis\": {\"gridcolor\": \"white\", \"linecolor\": \"white\", \"ticks\": \"\"}}, \"scene\": {\"xaxis\": {\"backgroundcolor\": \"#E5ECF6\", \"gridcolor\": \"white\", \"gridwidth\": 2, \"linecolor\": \"white\", \"showbackground\": true, \"ticks\": \"\", \"zerolinecolor\": \"white\"}, \"yaxis\": {\"backgroundcolor\": \"#E5ECF6\", \"gridcolor\": \"white\", \"gridwidth\": 2, \"linecolor\": \"white\", \"showbackground\": true, \"ticks\": \"\", \"zerolinecolor\": \"white\"}, \"zaxis\": {\"backgroundcolor\": \"#E5ECF6\", \"gridcolor\": \"white\", \"gridwidth\": 2, \"linecolor\": \"white\", \"showbackground\": true, \"ticks\": \"\", \"zerolinecolor\": \"white\"}}, \"shapedefaults\": {\"line\": {\"color\": \"#2a3f5f\"}}, \"ternary\": {\"aaxis\": {\"gridcolor\": \"white\", \"linecolor\": \"white\", \"ticks\": \"\"}, \"baxis\": {\"gridcolor\": \"white\", \"linecolor\": \"white\", \"ticks\": \"\"}, \"bgcolor\": \"#E5ECF6\", \"caxis\": {\"gridcolor\": \"white\", \"linecolor\": \"white\", \"ticks\": \"\"}}, \"title\": {\"x\": 0.05}, \"xaxis\": {\"automargin\": true, \"gridcolor\": \"white\", \"linecolor\": \"white\", \"ticks\": \"\", \"title\": {\"standoff\": 15}, \"zerolinecolor\": \"white\", \"zerolinewidth\": 2}, \"yaxis\": {\"automargin\": true, \"gridcolor\": \"white\", \"linecolor\": \"white\", \"ticks\": \"\", \"title\": {\"standoff\": 15}, \"zerolinecolor\": \"white\", \"zerolinewidth\": 2}}}, \"title\": {\"text\": \"Feature importance of Random Forest model\"}, \"xaxis\": {\"anchor\": \"y\", \"domain\": [0.0, 1.0], \"title\": {\"text\": \"importance\"}}, \"yaxis\": {\"anchor\": \"x\", \"domain\": [0.0, 1.0], \"title\": {\"text\": \"feature\"}}},                        {\"responsive\": true}                    ).then(function(){\n",
       "                            \n",
       "var gd = document.getElementById('d7144996-946f-4d70-9d9c-04968d0d144a');\n",
       "var x = new MutationObserver(function (mutations, observer) {{\n",
       "        var display = window.getComputedStyle(gd).display;\n",
       "        if (!display || display === 'none') {{\n",
       "            console.log([gd, 'removed!']);\n",
       "            Plotly.purge(gd);\n",
       "            observer.disconnect();\n",
       "        }}\n",
       "}});\n",
       "\n",
       "// Listen for the removal of the full notebook cells\n",
       "var notebookContainer = gd.closest('#notebook-container');\n",
       "if (notebookContainer) {{\n",
       "    x.observe(notebookContainer, {childList: true});\n",
       "}}\n",
       "\n",
       "// Listen for the clearing of the current output cell\n",
       "var outputEl = gd.closest('.output');\n",
       "if (outputEl) {{\n",
       "    x.observe(outputEl, {childList: true});\n",
       "}}\n",
       "\n",
       "                        })                };                });            </script>        </div>"
      ]
     },
     "metadata": {},
     "output_type": "display_data"
    }
   ],
   "source": [
    "# Draw a horizontal barplot of importances_sorted\n",
    "import plotly.express as px\n",
    "\n",
    "\n",
    "fig = px.bar(importances_df, y=\"feature\", x=\"importance\", orientation='h'    )\n",
    "\n",
    "fig.update_layout(\n",
    "    font_family=\"Helvetica Neue, Helvetica, Arial, sans-serif\",\n",
    "    font_color=\"black\",\n",
    "    title = {'text':'Feature importance of Random Forest model'}\n",
    "    #markercolor = \"#212c52\"\n",
    "  \n",
    ")\n",
    "fig.update_traces(marker_color='#75c3ff', marker_line_color='#75c3ff',\n",
    "                  marker_line_width=1.5, opacity=1)\n",
    "\n",
    "fig.show()\n"
   ]
  },
  {
   "cell_type": "markdown",
   "id": "fallen-dietary",
   "metadata": {},
   "source": [
    "# AdaBoost"
   ]
  },
  {
   "cell_type": "code",
   "execution_count": 204,
   "id": "assumed-daughter",
   "metadata": {},
   "outputs": [],
   "source": [
    "from sklearn.ensemble import AdaBoostRegressor"
   ]
  },
  {
   "cell_type": "code",
   "execution_count": 205,
   "id": "social-tracy",
   "metadata": {},
   "outputs": [],
   "source": [
    "ada = AdaBoostRegressor(n_estimators=10000)"
   ]
  },
  {
   "cell_type": "code",
   "execution_count": 206,
   "id": "lightweight-asset",
   "metadata": {},
   "outputs": [
    {
     "data": {
      "text/plain": [
       "AdaBoostRegressor(n_estimators=10000)"
      ]
     },
     "execution_count": 206,
     "metadata": {},
     "output_type": "execute_result"
    }
   ],
   "source": [
    "ada.fit(X_train, y_train)"
   ]
  },
  {
   "cell_type": "code",
   "execution_count": 207,
   "id": "intensive-taxation",
   "metadata": {},
   "outputs": [
    {
     "data": {
      "text/plain": [
       "0.4062334633007445"
      ]
     },
     "execution_count": 207,
     "metadata": {},
     "output_type": "execute_result"
    }
   ],
   "source": [
    "ada.score(X_train, y_train)"
   ]
  },
  {
   "cell_type": "code",
   "execution_count": 208,
   "id": "lightweight-testimony",
   "metadata": {},
   "outputs": [],
   "source": [
    "y_pred = ada.predict(X_test)"
   ]
  },
  {
   "cell_type": "code",
   "execution_count": 209,
   "id": "current-technology",
   "metadata": {},
   "outputs": [
    {
     "data": {
      "text/plain": [
       "0.12597199442058238"
      ]
     },
     "execution_count": 209,
     "metadata": {},
     "output_type": "execute_result"
    }
   ],
   "source": [
    "ada.score(X_test, y_test)"
   ]
  },
  {
   "cell_type": "code",
   "execution_count": 210,
   "id": "likely-prompt",
   "metadata": {},
   "outputs": [
    {
     "data": {
      "application/vnd.plotly.v1+json": {
       "config": {
        "plotlyServerURL": "https://plot.ly"
       },
       "data": [
        {
         "hovertemplate": "x=%{x}<br>y=%{y}<extra></extra>",
         "legendgroup": "",
         "marker": {
          "color": "#636efa",
          "size": 10,
          "symbol": "circle"
         },
         "mode": "markers",
         "name": "",
         "orientation": "v",
         "showlegend": false,
         "type": "scatter",
         "x": [
          4.374216605428374,
          3.6516656039229356,
          3.7567881987681178,
          3.2638726768652235,
          2.7972675408307164,
          4.2954131455196585,
          2.682145076373832,
          2.4899584794248346,
          3.2068258760318495,
          2.6148972160331345,
          2.938519725176492,
          2.6830470382388496,
          2.6180480967120925,
          2.3654879848909,
          3.274619619091238,
          3.256236533205923,
          2.8524799936368566,
          4.374216605428374,
          3.2643455070500926,
          3.0773679052841563,
          2.884795363948981,
          4.163578765188774,
          3.651762447380111,
          2.494154594018443,
          2.9800033715837464,
          3.3925210899319325,
          3.7137424784090824,
          2.876217840591642,
          3.651762447380111,
          3.3261309567107946,
          4.551340190543342,
          2.591064607026499,
          3.0881360887005513,
          2.3283796034387376,
          3.317854489331469,
          3.581835924057648,
          3.9076263048432662,
          3.581835924057648,
          2.663700925389648,
          4.551340190543342,
          2.164352855784437,
          2.9380190974762104,
          2.3961993470957363,
          2.5514499979728753,
          3.256236533205923,
          2.938519725176492,
          2.2068258760318495,
          2.8068580295188172,
          3.2641091563058082,
          2.9628426812012423,
          2.893206753059848,
          3.1322596895310446,
          2.9508514588885464,
          4.544068044350276,
          2.5477747053878224,
          2.806179973983887,
          3.3261309567107946,
          3.775756037844098,
          4.544068044350276,
          2.870403905279027,
          3.000434077479319,
          3.9076263048432662,
          3.1319392952104246,
          2.7589118923979736,
          2.6830470382388496,
          3.325925955771466,
          4.103358939866562,
          3.037027879755775,
          3.519827993775719,
          3.7758288144646124,
          2.6830470382388496,
          2.938519725176492,
          2.100370545117563,
          2.8068580295188172,
          4.544068044350276,
          3.025715383901341,
          3.1451964061141817,
          2.7442929831226763
         ],
         "xaxis": "x",
         "y": [
          3.65026083488929,
          2.859227292624743,
          3.595865975044428,
          3.6153061659805235,
          2.747411807886423,
          3.618764671285248,
          3.684495573143481,
          2.8411560402994436,
          2.8972734658976176,
          3.0447331972594753,
          2.8560211776690494,
          3.5913258139726896,
          3.1582295414760906,
          2.660210012122199,
          2.910197693725861,
          2.7832609494972895,
          3.3163121005159537,
          3.650061489456606,
          3.63392253690174,
          2.827014082759016,
          3.649684101338533,
          2.6127838567197355,
          3.1353021381216104,
          2.589338308831544,
          3.651363415269888,
          3.670599572071339,
          3.64035141495079,
          3.119308377851515,
          3.6350291151200826,
          3.6212874725791493,
          3.6538618830099563,
          3.561847526774786,
          2.9380190974762104,
          2.790845639020515,
          2.872199197166491,
          3.1582295414760906,
          3.6440929270988014,
          3.669985332684838,
          3.5678772467377198,
          4.209417398910191,
          2.999105444051377,
          2.829140165062804,
          2.702943299909091,
          2.830727375788893,
          3.625805995722519,
          2.7442929831226763,
          3.6103881111727842,
          2.4145221731933995,
          3.6422900846093147,
          3.608143066510768,
          3.1319392952104246,
          2.8068580295188172,
          3.503821800401572,
          3.639687919165101,
          3.6054939237826367,
          3.0466369572725482,
          3.644180513736494,
          3.597237716528097,
          3.1919937362706623,
          3.6182855920245545,
          2.549536150154213,
          3.6215720208865694,
          3.6609742689104183,
          3.040739860318863,
          2.6349505150767447,
          3.5702912622127614,
          3.6428982900534055,
          3.025995233463956,
          3.0447331972594753,
          3.7137424784090824,
          2.8068580295188172,
          2.949144419687162,
          3.515455971124056,
          3.1319392952104246,
          3.6511838456783137,
          3.6150195333347654,
          3.135499475442339,
          2.7525937475459217
         ],
         "yaxis": "y"
        }
       ],
       "layout": {
        "font": {
         "color": "black",
         "family": "Helvetica Neue, Helvetica, Arial, sans-serif"
        },
        "legend": {
         "title": {},
         "tracegroupgap": 0,
         "x": 0.01,
         "xanchor": "left",
         "y": 0.99,
         "yanchor": "top"
        },
        "margin": {
         "t": 60
        },
        "template": {
         "data": {
          "bar": [
           {
            "error_x": {
             "color": "#2a3f5f"
            },
            "error_y": {
             "color": "#2a3f5f"
            },
            "marker": {
             "line": {
              "color": "#E5ECF6",
              "width": 0.5
             }
            },
            "type": "bar"
           }
          ],
          "barpolar": [
           {
            "marker": {
             "line": {
              "color": "#E5ECF6",
              "width": 0.5
             }
            },
            "type": "barpolar"
           }
          ],
          "carpet": [
           {
            "aaxis": {
             "endlinecolor": "#2a3f5f",
             "gridcolor": "white",
             "linecolor": "white",
             "minorgridcolor": "white",
             "startlinecolor": "#2a3f5f"
            },
            "baxis": {
             "endlinecolor": "#2a3f5f",
             "gridcolor": "white",
             "linecolor": "white",
             "minorgridcolor": "white",
             "startlinecolor": "#2a3f5f"
            },
            "type": "carpet"
           }
          ],
          "choropleth": [
           {
            "colorbar": {
             "outlinewidth": 0,
             "ticks": ""
            },
            "type": "choropleth"
           }
          ],
          "contour": [
           {
            "colorbar": {
             "outlinewidth": 0,
             "ticks": ""
            },
            "colorscale": [
             [
              0,
              "#0d0887"
             ],
             [
              0.1111111111111111,
              "#46039f"
             ],
             [
              0.2222222222222222,
              "#7201a8"
             ],
             [
              0.3333333333333333,
              "#9c179e"
             ],
             [
              0.4444444444444444,
              "#bd3786"
             ],
             [
              0.5555555555555556,
              "#d8576b"
             ],
             [
              0.6666666666666666,
              "#ed7953"
             ],
             [
              0.7777777777777778,
              "#fb9f3a"
             ],
             [
              0.8888888888888888,
              "#fdca26"
             ],
             [
              1,
              "#f0f921"
             ]
            ],
            "type": "contour"
           }
          ],
          "contourcarpet": [
           {
            "colorbar": {
             "outlinewidth": 0,
             "ticks": ""
            },
            "type": "contourcarpet"
           }
          ],
          "heatmap": [
           {
            "colorbar": {
             "outlinewidth": 0,
             "ticks": ""
            },
            "colorscale": [
             [
              0,
              "#0d0887"
             ],
             [
              0.1111111111111111,
              "#46039f"
             ],
             [
              0.2222222222222222,
              "#7201a8"
             ],
             [
              0.3333333333333333,
              "#9c179e"
             ],
             [
              0.4444444444444444,
              "#bd3786"
             ],
             [
              0.5555555555555556,
              "#d8576b"
             ],
             [
              0.6666666666666666,
              "#ed7953"
             ],
             [
              0.7777777777777778,
              "#fb9f3a"
             ],
             [
              0.8888888888888888,
              "#fdca26"
             ],
             [
              1,
              "#f0f921"
             ]
            ],
            "type": "heatmap"
           }
          ],
          "heatmapgl": [
           {
            "colorbar": {
             "outlinewidth": 0,
             "ticks": ""
            },
            "colorscale": [
             [
              0,
              "#0d0887"
             ],
             [
              0.1111111111111111,
              "#46039f"
             ],
             [
              0.2222222222222222,
              "#7201a8"
             ],
             [
              0.3333333333333333,
              "#9c179e"
             ],
             [
              0.4444444444444444,
              "#bd3786"
             ],
             [
              0.5555555555555556,
              "#d8576b"
             ],
             [
              0.6666666666666666,
              "#ed7953"
             ],
             [
              0.7777777777777778,
              "#fb9f3a"
             ],
             [
              0.8888888888888888,
              "#fdca26"
             ],
             [
              1,
              "#f0f921"
             ]
            ],
            "type": "heatmapgl"
           }
          ],
          "histogram": [
           {
            "marker": {
             "colorbar": {
              "outlinewidth": 0,
              "ticks": ""
             }
            },
            "type": "histogram"
           }
          ],
          "histogram2d": [
           {
            "colorbar": {
             "outlinewidth": 0,
             "ticks": ""
            },
            "colorscale": [
             [
              0,
              "#0d0887"
             ],
             [
              0.1111111111111111,
              "#46039f"
             ],
             [
              0.2222222222222222,
              "#7201a8"
             ],
             [
              0.3333333333333333,
              "#9c179e"
             ],
             [
              0.4444444444444444,
              "#bd3786"
             ],
             [
              0.5555555555555556,
              "#d8576b"
             ],
             [
              0.6666666666666666,
              "#ed7953"
             ],
             [
              0.7777777777777778,
              "#fb9f3a"
             ],
             [
              0.8888888888888888,
              "#fdca26"
             ],
             [
              1,
              "#f0f921"
             ]
            ],
            "type": "histogram2d"
           }
          ],
          "histogram2dcontour": [
           {
            "colorbar": {
             "outlinewidth": 0,
             "ticks": ""
            },
            "colorscale": [
             [
              0,
              "#0d0887"
             ],
             [
              0.1111111111111111,
              "#46039f"
             ],
             [
              0.2222222222222222,
              "#7201a8"
             ],
             [
              0.3333333333333333,
              "#9c179e"
             ],
             [
              0.4444444444444444,
              "#bd3786"
             ],
             [
              0.5555555555555556,
              "#d8576b"
             ],
             [
              0.6666666666666666,
              "#ed7953"
             ],
             [
              0.7777777777777778,
              "#fb9f3a"
             ],
             [
              0.8888888888888888,
              "#fdca26"
             ],
             [
              1,
              "#f0f921"
             ]
            ],
            "type": "histogram2dcontour"
           }
          ],
          "mesh3d": [
           {
            "colorbar": {
             "outlinewidth": 0,
             "ticks": ""
            },
            "type": "mesh3d"
           }
          ],
          "parcoords": [
           {
            "line": {
             "colorbar": {
              "outlinewidth": 0,
              "ticks": ""
             }
            },
            "type": "parcoords"
           }
          ],
          "pie": [
           {
            "automargin": true,
            "type": "pie"
           }
          ],
          "scatter": [
           {
            "marker": {
             "colorbar": {
              "outlinewidth": 0,
              "ticks": ""
             }
            },
            "type": "scatter"
           }
          ],
          "scatter3d": [
           {
            "line": {
             "colorbar": {
              "outlinewidth": 0,
              "ticks": ""
             }
            },
            "marker": {
             "colorbar": {
              "outlinewidth": 0,
              "ticks": ""
             }
            },
            "type": "scatter3d"
           }
          ],
          "scattercarpet": [
           {
            "marker": {
             "colorbar": {
              "outlinewidth": 0,
              "ticks": ""
             }
            },
            "type": "scattercarpet"
           }
          ],
          "scattergeo": [
           {
            "marker": {
             "colorbar": {
              "outlinewidth": 0,
              "ticks": ""
             }
            },
            "type": "scattergeo"
           }
          ],
          "scattergl": [
           {
            "marker": {
             "colorbar": {
              "outlinewidth": 0,
              "ticks": ""
             }
            },
            "type": "scattergl"
           }
          ],
          "scattermapbox": [
           {
            "marker": {
             "colorbar": {
              "outlinewidth": 0,
              "ticks": ""
             }
            },
            "type": "scattermapbox"
           }
          ],
          "scatterpolar": [
           {
            "marker": {
             "colorbar": {
              "outlinewidth": 0,
              "ticks": ""
             }
            },
            "type": "scatterpolar"
           }
          ],
          "scatterpolargl": [
           {
            "marker": {
             "colorbar": {
              "outlinewidth": 0,
              "ticks": ""
             }
            },
            "type": "scatterpolargl"
           }
          ],
          "scatterternary": [
           {
            "marker": {
             "colorbar": {
              "outlinewidth": 0,
              "ticks": ""
             }
            },
            "type": "scatterternary"
           }
          ],
          "surface": [
           {
            "colorbar": {
             "outlinewidth": 0,
             "ticks": ""
            },
            "colorscale": [
             [
              0,
              "#0d0887"
             ],
             [
              0.1111111111111111,
              "#46039f"
             ],
             [
              0.2222222222222222,
              "#7201a8"
             ],
             [
              0.3333333333333333,
              "#9c179e"
             ],
             [
              0.4444444444444444,
              "#bd3786"
             ],
             [
              0.5555555555555556,
              "#d8576b"
             ],
             [
              0.6666666666666666,
              "#ed7953"
             ],
             [
              0.7777777777777778,
              "#fb9f3a"
             ],
             [
              0.8888888888888888,
              "#fdca26"
             ],
             [
              1,
              "#f0f921"
             ]
            ],
            "type": "surface"
           }
          ],
          "table": [
           {
            "cells": {
             "fill": {
              "color": "#EBF0F8"
             },
             "line": {
              "color": "white"
             }
            },
            "header": {
             "fill": {
              "color": "#C8D4E3"
             },
             "line": {
              "color": "white"
             }
            },
            "type": "table"
           }
          ]
         },
         "layout": {
          "annotationdefaults": {
           "arrowcolor": "#2a3f5f",
           "arrowhead": 0,
           "arrowwidth": 1
          },
          "autotypenumbers": "strict",
          "coloraxis": {
           "colorbar": {
            "outlinewidth": 0,
            "ticks": ""
           }
          },
          "colorscale": {
           "diverging": [
            [
             0,
             "#8e0152"
            ],
            [
             0.1,
             "#c51b7d"
            ],
            [
             0.2,
             "#de77ae"
            ],
            [
             0.3,
             "#f1b6da"
            ],
            [
             0.4,
             "#fde0ef"
            ],
            [
             0.5,
             "#f7f7f7"
            ],
            [
             0.6,
             "#e6f5d0"
            ],
            [
             0.7,
             "#b8e186"
            ],
            [
             0.8,
             "#7fbc41"
            ],
            [
             0.9,
             "#4d9221"
            ],
            [
             1,
             "#276419"
            ]
           ],
           "sequential": [
            [
             0,
             "#0d0887"
            ],
            [
             0.1111111111111111,
             "#46039f"
            ],
            [
             0.2222222222222222,
             "#7201a8"
            ],
            [
             0.3333333333333333,
             "#9c179e"
            ],
            [
             0.4444444444444444,
             "#bd3786"
            ],
            [
             0.5555555555555556,
             "#d8576b"
            ],
            [
             0.6666666666666666,
             "#ed7953"
            ],
            [
             0.7777777777777778,
             "#fb9f3a"
            ],
            [
             0.8888888888888888,
             "#fdca26"
            ],
            [
             1,
             "#f0f921"
            ]
           ],
           "sequentialminus": [
            [
             0,
             "#0d0887"
            ],
            [
             0.1111111111111111,
             "#46039f"
            ],
            [
             0.2222222222222222,
             "#7201a8"
            ],
            [
             0.3333333333333333,
             "#9c179e"
            ],
            [
             0.4444444444444444,
             "#bd3786"
            ],
            [
             0.5555555555555556,
             "#d8576b"
            ],
            [
             0.6666666666666666,
             "#ed7953"
            ],
            [
             0.7777777777777778,
             "#fb9f3a"
            ],
            [
             0.8888888888888888,
             "#fdca26"
            ],
            [
             1,
             "#f0f921"
            ]
           ]
          },
          "colorway": [
           "#636efa",
           "#EF553B",
           "#00cc96",
           "#ab63fa",
           "#FFA15A",
           "#19d3f3",
           "#FF6692",
           "#B6E880",
           "#FF97FF",
           "#FECB52"
          ],
          "font": {
           "color": "#2a3f5f"
          },
          "geo": {
           "bgcolor": "white",
           "lakecolor": "white",
           "landcolor": "#E5ECF6",
           "showlakes": true,
           "showland": true,
           "subunitcolor": "white"
          },
          "hoverlabel": {
           "align": "left"
          },
          "hovermode": "closest",
          "mapbox": {
           "style": "light"
          },
          "paper_bgcolor": "white",
          "plot_bgcolor": "#E5ECF6",
          "polar": {
           "angularaxis": {
            "gridcolor": "white",
            "linecolor": "white",
            "ticks": ""
           },
           "bgcolor": "#E5ECF6",
           "radialaxis": {
            "gridcolor": "white",
            "linecolor": "white",
            "ticks": ""
           }
          },
          "scene": {
           "xaxis": {
            "backgroundcolor": "#E5ECF6",
            "gridcolor": "white",
            "gridwidth": 2,
            "linecolor": "white",
            "showbackground": true,
            "ticks": "",
            "zerolinecolor": "white"
           },
           "yaxis": {
            "backgroundcolor": "#E5ECF6",
            "gridcolor": "white",
            "gridwidth": 2,
            "linecolor": "white",
            "showbackground": true,
            "ticks": "",
            "zerolinecolor": "white"
           },
           "zaxis": {
            "backgroundcolor": "#E5ECF6",
            "gridcolor": "white",
            "gridwidth": 2,
            "linecolor": "white",
            "showbackground": true,
            "ticks": "",
            "zerolinecolor": "white"
           }
          },
          "shapedefaults": {
           "line": {
            "color": "#2a3f5f"
           }
          },
          "ternary": {
           "aaxis": {
            "gridcolor": "white",
            "linecolor": "white",
            "ticks": ""
           },
           "baxis": {
            "gridcolor": "white",
            "linecolor": "white",
            "ticks": ""
           },
           "bgcolor": "#E5ECF6",
           "caxis": {
            "gridcolor": "white",
            "linecolor": "white",
            "ticks": ""
           }
          },
          "title": {
           "x": 0.05
          },
          "xaxis": {
           "automargin": true,
           "gridcolor": "white",
           "linecolor": "white",
           "ticks": "",
           "title": {
            "standoff": 15
           },
           "zerolinecolor": "white",
           "zerolinewidth": 2
          },
          "yaxis": {
           "automargin": true,
           "gridcolor": "white",
           "linecolor": "white",
           "ticks": "",
           "title": {
            "standoff": 15
           },
           "zerolinecolor": "white",
           "zerolinewidth": 2
          }
         }
        },
        "title": {
         "text": "Model fit of Random Forest model"
        },
        "xaxis": {
         "anchor": "y",
         "domain": [
          0,
          1
         ],
         "title": {
          "text": "measured data (sample)"
         }
        },
        "yaxis": {
         "anchor": "x",
         "domain": [
          0,
          1
         ],
         "title": {
          "text": "fitted values (in sample fit)"
         }
        }
       }
      },
      "text/html": [
       "<div>                            <div id=\"906689d2-07be-45fd-b38c-895eb715ec5b\" class=\"plotly-graph-div\" style=\"height:525px; width:100%;\"></div>            <script type=\"text/javascript\">                require([\"plotly\"], function(Plotly) {                    window.PLOTLYENV=window.PLOTLYENV || {};                                    if (document.getElementById(\"906689d2-07be-45fd-b38c-895eb715ec5b\")) {                    Plotly.newPlot(                        \"906689d2-07be-45fd-b38c-895eb715ec5b\",                        [{\"hovertemplate\": \"x=%{x}<br>y=%{y}<extra></extra>\", \"legendgroup\": \"\", \"marker\": {\"color\": \"#636efa\", \"size\": 10, \"symbol\": \"circle\"}, \"mode\": \"markers\", \"name\": \"\", \"orientation\": \"v\", \"showlegend\": false, \"type\": \"scatter\", \"x\": [4.374216605428374, 3.6516656039229356, 3.7567881987681178, 3.2638726768652235, 2.7972675408307164, 4.2954131455196585, 2.682145076373832, 2.4899584794248346, 3.2068258760318495, 2.6148972160331345, 2.938519725176492, 2.6830470382388496, 2.6180480967120925, 2.3654879848909, 3.274619619091238, 3.256236533205923, 2.8524799936368566, 4.374216605428374, 3.2643455070500926, 3.0773679052841563, 2.884795363948981, 4.163578765188774, 3.651762447380111, 2.494154594018443, 2.9800033715837464, 3.3925210899319325, 3.7137424784090824, 2.876217840591642, 3.651762447380111, 3.3261309567107946, 4.551340190543342, 2.591064607026499, 3.0881360887005513, 2.3283796034387376, 3.317854489331469, 3.581835924057648, 3.9076263048432662, 3.581835924057648, 2.663700925389648, 4.551340190543342, 2.164352855784437, 2.9380190974762104, 2.3961993470957363, 2.5514499979728753, 3.256236533205923, 2.938519725176492, 2.2068258760318495, 2.8068580295188172, 3.2641091563058082, 2.9628426812012423, 2.893206753059848, 3.1322596895310446, 2.9508514588885464, 4.544068044350276, 2.5477747053878224, 2.806179973983887, 3.3261309567107946, 3.775756037844098, 4.544068044350276, 2.870403905279027, 3.000434077479319, 3.9076263048432662, 3.1319392952104246, 2.7589118923979736, 2.6830470382388496, 3.325925955771466, 4.103358939866562, 3.037027879755775, 3.519827993775719, 3.7758288144646124, 2.6830470382388496, 2.938519725176492, 2.100370545117563, 2.8068580295188172, 4.544068044350276, 3.025715383901341, 3.1451964061141817, 2.7442929831226763], \"xaxis\": \"x\", \"y\": [3.65026083488929, 2.859227292624743, 3.595865975044428, 3.6153061659805235, 2.747411807886423, 3.618764671285248, 3.684495573143481, 2.8411560402994436, 2.8972734658976176, 3.0447331972594753, 2.8560211776690494, 3.5913258139726896, 3.1582295414760906, 2.660210012122199, 2.910197693725861, 2.7832609494972895, 3.3163121005159537, 3.650061489456606, 3.63392253690174, 2.827014082759016, 3.649684101338533, 2.6127838567197355, 3.1353021381216104, 2.589338308831544, 3.651363415269888, 3.670599572071339, 3.64035141495079, 3.119308377851515, 3.6350291151200826, 3.6212874725791493, 3.6538618830099563, 3.561847526774786, 2.9380190974762104, 2.790845639020515, 2.872199197166491, 3.1582295414760906, 3.6440929270988014, 3.669985332684838, 3.5678772467377198, 4.209417398910191, 2.999105444051377, 2.829140165062804, 2.702943299909091, 2.830727375788893, 3.625805995722519, 2.7442929831226763, 3.6103881111727842, 2.4145221731933995, 3.6422900846093147, 3.608143066510768, 3.1319392952104246, 2.8068580295188172, 3.503821800401572, 3.639687919165101, 3.6054939237826367, 3.0466369572725482, 3.644180513736494, 3.597237716528097, 3.1919937362706623, 3.6182855920245545, 2.549536150154213, 3.6215720208865694, 3.6609742689104183, 3.040739860318863, 2.6349505150767447, 3.5702912622127614, 3.6428982900534055, 3.025995233463956, 3.0447331972594753, 3.7137424784090824, 2.8068580295188172, 2.949144419687162, 3.515455971124056, 3.1319392952104246, 3.6511838456783137, 3.6150195333347654, 3.135499475442339, 2.7525937475459217], \"yaxis\": \"y\"}],                        {\"font\": {\"color\": \"black\", \"family\": \"Helvetica Neue, Helvetica, Arial, sans-serif\"}, \"legend\": {\"title\": {}, \"tracegroupgap\": 0, \"x\": 0.01, \"xanchor\": \"left\", \"y\": 0.99, \"yanchor\": \"top\"}, \"margin\": {\"t\": 60}, \"template\": {\"data\": {\"bar\": [{\"error_x\": {\"color\": \"#2a3f5f\"}, \"error_y\": {\"color\": \"#2a3f5f\"}, \"marker\": {\"line\": {\"color\": \"#E5ECF6\", \"width\": 0.5}}, \"type\": \"bar\"}], \"barpolar\": [{\"marker\": {\"line\": {\"color\": \"#E5ECF6\", \"width\": 0.5}}, \"type\": \"barpolar\"}], \"carpet\": [{\"aaxis\": {\"endlinecolor\": \"#2a3f5f\", \"gridcolor\": \"white\", \"linecolor\": \"white\", \"minorgridcolor\": \"white\", \"startlinecolor\": \"#2a3f5f\"}, \"baxis\": {\"endlinecolor\": \"#2a3f5f\", \"gridcolor\": \"white\", \"linecolor\": \"white\", \"minorgridcolor\": \"white\", \"startlinecolor\": \"#2a3f5f\"}, \"type\": \"carpet\"}], \"choropleth\": [{\"colorbar\": {\"outlinewidth\": 0, \"ticks\": \"\"}, \"type\": \"choropleth\"}], \"contour\": [{\"colorbar\": {\"outlinewidth\": 0, \"ticks\": \"\"}, \"colorscale\": [[0.0, \"#0d0887\"], [0.1111111111111111, \"#46039f\"], [0.2222222222222222, \"#7201a8\"], [0.3333333333333333, \"#9c179e\"], [0.4444444444444444, \"#bd3786\"], [0.5555555555555556, \"#d8576b\"], [0.6666666666666666, \"#ed7953\"], [0.7777777777777778, \"#fb9f3a\"], [0.8888888888888888, \"#fdca26\"], [1.0, \"#f0f921\"]], \"type\": \"contour\"}], \"contourcarpet\": [{\"colorbar\": {\"outlinewidth\": 0, \"ticks\": \"\"}, \"type\": \"contourcarpet\"}], \"heatmap\": [{\"colorbar\": {\"outlinewidth\": 0, \"ticks\": \"\"}, \"colorscale\": [[0.0, \"#0d0887\"], [0.1111111111111111, \"#46039f\"], [0.2222222222222222, \"#7201a8\"], [0.3333333333333333, \"#9c179e\"], [0.4444444444444444, \"#bd3786\"], [0.5555555555555556, \"#d8576b\"], [0.6666666666666666, \"#ed7953\"], [0.7777777777777778, \"#fb9f3a\"], [0.8888888888888888, \"#fdca26\"], [1.0, \"#f0f921\"]], \"type\": \"heatmap\"}], \"heatmapgl\": [{\"colorbar\": {\"outlinewidth\": 0, \"ticks\": \"\"}, \"colorscale\": [[0.0, \"#0d0887\"], [0.1111111111111111, \"#46039f\"], [0.2222222222222222, \"#7201a8\"], [0.3333333333333333, \"#9c179e\"], [0.4444444444444444, \"#bd3786\"], [0.5555555555555556, \"#d8576b\"], [0.6666666666666666, \"#ed7953\"], [0.7777777777777778, \"#fb9f3a\"], [0.8888888888888888, \"#fdca26\"], [1.0, \"#f0f921\"]], \"type\": \"heatmapgl\"}], \"histogram\": [{\"marker\": {\"colorbar\": {\"outlinewidth\": 0, \"ticks\": \"\"}}, \"type\": \"histogram\"}], \"histogram2d\": [{\"colorbar\": {\"outlinewidth\": 0, \"ticks\": \"\"}, \"colorscale\": [[0.0, \"#0d0887\"], [0.1111111111111111, \"#46039f\"], [0.2222222222222222, \"#7201a8\"], [0.3333333333333333, \"#9c179e\"], [0.4444444444444444, \"#bd3786\"], [0.5555555555555556, \"#d8576b\"], [0.6666666666666666, \"#ed7953\"], [0.7777777777777778, \"#fb9f3a\"], [0.8888888888888888, \"#fdca26\"], [1.0, \"#f0f921\"]], \"type\": \"histogram2d\"}], \"histogram2dcontour\": [{\"colorbar\": {\"outlinewidth\": 0, \"ticks\": \"\"}, \"colorscale\": [[0.0, \"#0d0887\"], [0.1111111111111111, \"#46039f\"], [0.2222222222222222, \"#7201a8\"], [0.3333333333333333, \"#9c179e\"], [0.4444444444444444, \"#bd3786\"], [0.5555555555555556, \"#d8576b\"], [0.6666666666666666, \"#ed7953\"], [0.7777777777777778, \"#fb9f3a\"], [0.8888888888888888, \"#fdca26\"], [1.0, \"#f0f921\"]], \"type\": \"histogram2dcontour\"}], \"mesh3d\": [{\"colorbar\": {\"outlinewidth\": 0, \"ticks\": \"\"}, \"type\": \"mesh3d\"}], \"parcoords\": [{\"line\": {\"colorbar\": {\"outlinewidth\": 0, \"ticks\": \"\"}}, \"type\": \"parcoords\"}], \"pie\": [{\"automargin\": true, \"type\": \"pie\"}], \"scatter\": [{\"marker\": {\"colorbar\": {\"outlinewidth\": 0, \"ticks\": \"\"}}, \"type\": \"scatter\"}], \"scatter3d\": [{\"line\": {\"colorbar\": {\"outlinewidth\": 0, \"ticks\": \"\"}}, \"marker\": {\"colorbar\": {\"outlinewidth\": 0, \"ticks\": \"\"}}, \"type\": \"scatter3d\"}], \"scattercarpet\": [{\"marker\": {\"colorbar\": {\"outlinewidth\": 0, \"ticks\": \"\"}}, \"type\": \"scattercarpet\"}], \"scattergeo\": [{\"marker\": {\"colorbar\": {\"outlinewidth\": 0, \"ticks\": \"\"}}, \"type\": \"scattergeo\"}], \"scattergl\": [{\"marker\": {\"colorbar\": {\"outlinewidth\": 0, \"ticks\": \"\"}}, \"type\": \"scattergl\"}], \"scattermapbox\": [{\"marker\": {\"colorbar\": {\"outlinewidth\": 0, \"ticks\": \"\"}}, \"type\": \"scattermapbox\"}], \"scatterpolar\": [{\"marker\": {\"colorbar\": {\"outlinewidth\": 0, \"ticks\": \"\"}}, \"type\": \"scatterpolar\"}], \"scatterpolargl\": [{\"marker\": {\"colorbar\": {\"outlinewidth\": 0, \"ticks\": \"\"}}, \"type\": \"scatterpolargl\"}], \"scatterternary\": [{\"marker\": {\"colorbar\": {\"outlinewidth\": 0, \"ticks\": \"\"}}, \"type\": \"scatterternary\"}], \"surface\": [{\"colorbar\": {\"outlinewidth\": 0, \"ticks\": \"\"}, \"colorscale\": [[0.0, \"#0d0887\"], [0.1111111111111111, \"#46039f\"], [0.2222222222222222, \"#7201a8\"], [0.3333333333333333, \"#9c179e\"], [0.4444444444444444, \"#bd3786\"], [0.5555555555555556, \"#d8576b\"], [0.6666666666666666, \"#ed7953\"], [0.7777777777777778, \"#fb9f3a\"], [0.8888888888888888, \"#fdca26\"], [1.0, \"#f0f921\"]], \"type\": \"surface\"}], \"table\": [{\"cells\": {\"fill\": {\"color\": \"#EBF0F8\"}, \"line\": {\"color\": \"white\"}}, \"header\": {\"fill\": {\"color\": \"#C8D4E3\"}, \"line\": {\"color\": \"white\"}}, \"type\": \"table\"}]}, \"layout\": {\"annotationdefaults\": {\"arrowcolor\": \"#2a3f5f\", \"arrowhead\": 0, \"arrowwidth\": 1}, \"autotypenumbers\": \"strict\", \"coloraxis\": {\"colorbar\": {\"outlinewidth\": 0, \"ticks\": \"\"}}, \"colorscale\": {\"diverging\": [[0, \"#8e0152\"], [0.1, \"#c51b7d\"], [0.2, \"#de77ae\"], [0.3, \"#f1b6da\"], [0.4, \"#fde0ef\"], [0.5, \"#f7f7f7\"], [0.6, \"#e6f5d0\"], [0.7, \"#b8e186\"], [0.8, \"#7fbc41\"], [0.9, \"#4d9221\"], [1, \"#276419\"]], \"sequential\": [[0.0, \"#0d0887\"], [0.1111111111111111, \"#46039f\"], [0.2222222222222222, \"#7201a8\"], [0.3333333333333333, \"#9c179e\"], [0.4444444444444444, \"#bd3786\"], [0.5555555555555556, \"#d8576b\"], [0.6666666666666666, \"#ed7953\"], [0.7777777777777778, \"#fb9f3a\"], [0.8888888888888888, \"#fdca26\"], [1.0, \"#f0f921\"]], \"sequentialminus\": [[0.0, \"#0d0887\"], [0.1111111111111111, \"#46039f\"], [0.2222222222222222, \"#7201a8\"], [0.3333333333333333, \"#9c179e\"], [0.4444444444444444, \"#bd3786\"], [0.5555555555555556, \"#d8576b\"], [0.6666666666666666, \"#ed7953\"], [0.7777777777777778, \"#fb9f3a\"], [0.8888888888888888, \"#fdca26\"], [1.0, \"#f0f921\"]]}, \"colorway\": [\"#636efa\", \"#EF553B\", \"#00cc96\", \"#ab63fa\", \"#FFA15A\", \"#19d3f3\", \"#FF6692\", \"#B6E880\", \"#FF97FF\", \"#FECB52\"], \"font\": {\"color\": \"#2a3f5f\"}, \"geo\": {\"bgcolor\": \"white\", \"lakecolor\": \"white\", \"landcolor\": \"#E5ECF6\", \"showlakes\": true, \"showland\": true, \"subunitcolor\": \"white\"}, \"hoverlabel\": {\"align\": \"left\"}, \"hovermode\": \"closest\", \"mapbox\": {\"style\": \"light\"}, \"paper_bgcolor\": \"white\", \"plot_bgcolor\": \"#E5ECF6\", \"polar\": {\"angularaxis\": {\"gridcolor\": \"white\", \"linecolor\": \"white\", \"ticks\": \"\"}, \"bgcolor\": \"#E5ECF6\", \"radialaxis\": {\"gridcolor\": \"white\", \"linecolor\": \"white\", \"ticks\": \"\"}}, \"scene\": {\"xaxis\": {\"backgroundcolor\": \"#E5ECF6\", \"gridcolor\": \"white\", \"gridwidth\": 2, \"linecolor\": \"white\", \"showbackground\": true, \"ticks\": \"\", \"zerolinecolor\": \"white\"}, \"yaxis\": {\"backgroundcolor\": \"#E5ECF6\", \"gridcolor\": \"white\", \"gridwidth\": 2, \"linecolor\": \"white\", \"showbackground\": true, \"ticks\": \"\", \"zerolinecolor\": \"white\"}, \"zaxis\": {\"backgroundcolor\": \"#E5ECF6\", \"gridcolor\": \"white\", \"gridwidth\": 2, \"linecolor\": \"white\", \"showbackground\": true, \"ticks\": \"\", \"zerolinecolor\": \"white\"}}, \"shapedefaults\": {\"line\": {\"color\": \"#2a3f5f\"}}, \"ternary\": {\"aaxis\": {\"gridcolor\": \"white\", \"linecolor\": \"white\", \"ticks\": \"\"}, \"baxis\": {\"gridcolor\": \"white\", \"linecolor\": \"white\", \"ticks\": \"\"}, \"bgcolor\": \"#E5ECF6\", \"caxis\": {\"gridcolor\": \"white\", \"linecolor\": \"white\", \"ticks\": \"\"}}, \"title\": {\"x\": 0.05}, \"xaxis\": {\"automargin\": true, \"gridcolor\": \"white\", \"linecolor\": \"white\", \"ticks\": \"\", \"title\": {\"standoff\": 15}, \"zerolinecolor\": \"white\", \"zerolinewidth\": 2}, \"yaxis\": {\"automargin\": true, \"gridcolor\": \"white\", \"linecolor\": \"white\", \"ticks\": \"\", \"title\": {\"standoff\": 15}, \"zerolinecolor\": \"white\", \"zerolinewidth\": 2}}}, \"title\": {\"text\": \"Model fit of Random Forest model\"}, \"xaxis\": {\"anchor\": \"y\", \"domain\": [0.0, 1.0], \"title\": {\"text\": \"measured data (sample)\"}}, \"yaxis\": {\"anchor\": \"x\", \"domain\": [0.0, 1.0], \"title\": {\"text\": \"fitted values (in sample fit)\"}}},                        {\"responsive\": true}                    ).then(function(){\n",
       "                            \n",
       "var gd = document.getElementById('906689d2-07be-45fd-b38c-895eb715ec5b');\n",
       "var x = new MutationObserver(function (mutations, observer) {{\n",
       "        var display = window.getComputedStyle(gd).display;\n",
       "        if (!display || display === 'none') {{\n",
       "            console.log([gd, 'removed!']);\n",
       "            Plotly.purge(gd);\n",
       "            observer.disconnect();\n",
       "        }}\n",
       "}});\n",
       "\n",
       "// Listen for the removal of the full notebook cells\n",
       "var notebookContainer = gd.closest('#notebook-container');\n",
       "if (notebookContainer) {{\n",
       "    x.observe(notebookContainer, {childList: true});\n",
       "}}\n",
       "\n",
       "// Listen for the clearing of the current output cell\n",
       "var outputEl = gd.closest('.output');\n",
       "if (outputEl) {{\n",
       "    x.observe(outputEl, {childList: true});\n",
       "}}\n",
       "\n",
       "                        })                };                });            </script>        </div>"
      ]
     },
     "metadata": {},
     "output_type": "display_data"
    }
   ],
   "source": [
    "fig = px.scatter(x = y_test, y = y_pred)\n",
    "\n",
    "fig.update_layout(\n",
    "    font_family=\"Helvetica Neue, Helvetica, Arial, sans-serif\",\n",
    "    font_color=\"black\",\n",
    "    title = {'text':'Model fit of Random Forest model'},\n",
    "    xaxis_title = \"measured data (sample)\",\n",
    "    yaxis_title = \"fitted values (in sample fit)\",\n",
    "    #markersize= 12,\n",
    "  )\n",
    "fig.update_layout(legend=dict(\n",
    "    yanchor=\"top\",\n",
    "    title=None,\n",
    "    y=0.99,\n",
    "    xanchor=\"left\",\n",
    "    x=0.01\n",
    "))\n",
    "fig.update_traces(marker_size = 10)"
   ]
  },
  {
   "cell_type": "code",
   "execution_count": 211,
   "id": "short-concentrate",
   "metadata": {},
   "outputs": [
    {
     "data": {
      "application/vnd.plotly.v1+json": {
       "config": {
        "plotlyServerURL": "https://plot.ly"
       },
       "data": [
        {
         "hovertemplate": "x=%{x}<br>y=%{y}<extra></extra>",
         "legendgroup": "",
         "marker": {
          "color": "#636efa",
          "size": 10,
          "symbol": "circle"
         },
         "mode": "markers",
         "name": "",
         "orientation": "v",
         "showlegend": false,
         "type": "scatter",
         "x": [
          4.374216605428374,
          3.6516656039229356,
          3.7567881987681178,
          3.2638726768652235,
          2.7972675408307164,
          4.2954131455196585,
          2.682145076373832,
          2.4899584794248346,
          3.2068258760318495,
          2.6148972160331345,
          2.938519725176492,
          2.6830470382388496,
          2.6180480967120925,
          2.3654879848909,
          3.274619619091238,
          3.256236533205923,
          2.8524799936368566,
          4.374216605428374,
          3.2643455070500926,
          3.0773679052841563,
          2.884795363948981,
          4.163578765188774,
          3.651762447380111,
          2.494154594018443,
          2.9800033715837464,
          3.3925210899319325,
          3.7137424784090824,
          2.876217840591642,
          3.651762447380111,
          3.3261309567107946,
          4.551340190543342,
          2.591064607026499,
          3.0881360887005513,
          2.3283796034387376,
          3.317854489331469,
          3.581835924057648,
          3.9076263048432662,
          3.581835924057648,
          2.663700925389648,
          4.551340190543342,
          2.164352855784437,
          2.9380190974762104,
          2.3961993470957363,
          2.5514499979728753,
          3.256236533205923,
          2.938519725176492,
          2.2068258760318495,
          2.8068580295188172,
          3.2641091563058082,
          2.9628426812012423,
          2.893206753059848,
          3.1322596895310446,
          2.9508514588885464,
          4.544068044350276,
          2.5477747053878224,
          2.806179973983887,
          3.3261309567107946,
          3.775756037844098,
          4.544068044350276,
          2.870403905279027,
          3.000434077479319,
          3.9076263048432662,
          3.1319392952104246,
          2.7589118923979736,
          2.6830470382388496,
          3.325925955771466,
          4.103358939866562,
          3.037027879755775,
          3.519827993775719,
          3.7758288144646124,
          2.6830470382388496,
          2.938519725176492,
          2.100370545117563,
          2.8068580295188172,
          4.544068044350276,
          3.025715383901341,
          3.1451964061141817,
          2.7442929831226763
         ],
         "xaxis": "x",
         "y": [
          3.65026083488929,
          2.859227292624743,
          3.595865975044428,
          3.6153061659805235,
          2.747411807886423,
          3.618764671285248,
          3.684495573143481,
          2.8411560402994436,
          2.8972734658976176,
          3.0447331972594753,
          2.8560211776690494,
          3.5913258139726896,
          3.1582295414760906,
          2.660210012122199,
          2.910197693725861,
          2.7832609494972895,
          3.3163121005159537,
          3.650061489456606,
          3.63392253690174,
          2.827014082759016,
          3.649684101338533,
          2.6127838567197355,
          3.1353021381216104,
          2.589338308831544,
          3.651363415269888,
          3.670599572071339,
          3.64035141495079,
          3.119308377851515,
          3.6350291151200826,
          3.6212874725791493,
          3.6538618830099563,
          3.561847526774786,
          2.9380190974762104,
          2.790845639020515,
          2.872199197166491,
          3.1582295414760906,
          3.6440929270988014,
          3.669985332684838,
          3.5678772467377198,
          4.209417398910191,
          2.999105444051377,
          2.829140165062804,
          2.702943299909091,
          2.830727375788893,
          3.625805995722519,
          2.7442929831226763,
          3.6103881111727842,
          2.4145221731933995,
          3.6422900846093147,
          3.608143066510768,
          3.1319392952104246,
          2.8068580295188172,
          3.503821800401572,
          3.639687919165101,
          3.6054939237826367,
          3.0466369572725482,
          3.644180513736494,
          3.597237716528097,
          3.1919937362706623,
          3.6182855920245545,
          2.549536150154213,
          3.6215720208865694,
          3.6609742689104183,
          3.040739860318863,
          2.6349505150767447,
          3.5702912622127614,
          3.6428982900534055,
          3.025995233463956,
          3.0447331972594753,
          3.7137424784090824,
          2.8068580295188172,
          2.949144419687162,
          3.515455971124056,
          3.1319392952104246,
          3.6511838456783137,
          3.6150195333347654,
          3.135499475442339,
          2.7525937475459217
         ],
         "yaxis": "y"
        }
       ],
       "layout": {
        "font": {
         "color": "black",
         "family": "Helvetica Neue, Helvetica, Arial, sans-serif"
        },
        "legend": {
         "title": {},
         "tracegroupgap": 0,
         "x": 0.01,
         "xanchor": "left",
         "y": 0.99,
         "yanchor": "top"
        },
        "margin": {
         "t": 60
        },
        "template": {
         "data": {
          "bar": [
           {
            "error_x": {
             "color": "#2a3f5f"
            },
            "error_y": {
             "color": "#2a3f5f"
            },
            "marker": {
             "line": {
              "color": "#E5ECF6",
              "width": 0.5
             }
            },
            "type": "bar"
           }
          ],
          "barpolar": [
           {
            "marker": {
             "line": {
              "color": "#E5ECF6",
              "width": 0.5
             }
            },
            "type": "barpolar"
           }
          ],
          "carpet": [
           {
            "aaxis": {
             "endlinecolor": "#2a3f5f",
             "gridcolor": "white",
             "linecolor": "white",
             "minorgridcolor": "white",
             "startlinecolor": "#2a3f5f"
            },
            "baxis": {
             "endlinecolor": "#2a3f5f",
             "gridcolor": "white",
             "linecolor": "white",
             "minorgridcolor": "white",
             "startlinecolor": "#2a3f5f"
            },
            "type": "carpet"
           }
          ],
          "choropleth": [
           {
            "colorbar": {
             "outlinewidth": 0,
             "ticks": ""
            },
            "type": "choropleth"
           }
          ],
          "contour": [
           {
            "colorbar": {
             "outlinewidth": 0,
             "ticks": ""
            },
            "colorscale": [
             [
              0,
              "#0d0887"
             ],
             [
              0.1111111111111111,
              "#46039f"
             ],
             [
              0.2222222222222222,
              "#7201a8"
             ],
             [
              0.3333333333333333,
              "#9c179e"
             ],
             [
              0.4444444444444444,
              "#bd3786"
             ],
             [
              0.5555555555555556,
              "#d8576b"
             ],
             [
              0.6666666666666666,
              "#ed7953"
             ],
             [
              0.7777777777777778,
              "#fb9f3a"
             ],
             [
              0.8888888888888888,
              "#fdca26"
             ],
             [
              1,
              "#f0f921"
             ]
            ],
            "type": "contour"
           }
          ],
          "contourcarpet": [
           {
            "colorbar": {
             "outlinewidth": 0,
             "ticks": ""
            },
            "type": "contourcarpet"
           }
          ],
          "heatmap": [
           {
            "colorbar": {
             "outlinewidth": 0,
             "ticks": ""
            },
            "colorscale": [
             [
              0,
              "#0d0887"
             ],
             [
              0.1111111111111111,
              "#46039f"
             ],
             [
              0.2222222222222222,
              "#7201a8"
             ],
             [
              0.3333333333333333,
              "#9c179e"
             ],
             [
              0.4444444444444444,
              "#bd3786"
             ],
             [
              0.5555555555555556,
              "#d8576b"
             ],
             [
              0.6666666666666666,
              "#ed7953"
             ],
             [
              0.7777777777777778,
              "#fb9f3a"
             ],
             [
              0.8888888888888888,
              "#fdca26"
             ],
             [
              1,
              "#f0f921"
             ]
            ],
            "type": "heatmap"
           }
          ],
          "heatmapgl": [
           {
            "colorbar": {
             "outlinewidth": 0,
             "ticks": ""
            },
            "colorscale": [
             [
              0,
              "#0d0887"
             ],
             [
              0.1111111111111111,
              "#46039f"
             ],
             [
              0.2222222222222222,
              "#7201a8"
             ],
             [
              0.3333333333333333,
              "#9c179e"
             ],
             [
              0.4444444444444444,
              "#bd3786"
             ],
             [
              0.5555555555555556,
              "#d8576b"
             ],
             [
              0.6666666666666666,
              "#ed7953"
             ],
             [
              0.7777777777777778,
              "#fb9f3a"
             ],
             [
              0.8888888888888888,
              "#fdca26"
             ],
             [
              1,
              "#f0f921"
             ]
            ],
            "type": "heatmapgl"
           }
          ],
          "histogram": [
           {
            "marker": {
             "colorbar": {
              "outlinewidth": 0,
              "ticks": ""
             }
            },
            "type": "histogram"
           }
          ],
          "histogram2d": [
           {
            "colorbar": {
             "outlinewidth": 0,
             "ticks": ""
            },
            "colorscale": [
             [
              0,
              "#0d0887"
             ],
             [
              0.1111111111111111,
              "#46039f"
             ],
             [
              0.2222222222222222,
              "#7201a8"
             ],
             [
              0.3333333333333333,
              "#9c179e"
             ],
             [
              0.4444444444444444,
              "#bd3786"
             ],
             [
              0.5555555555555556,
              "#d8576b"
             ],
             [
              0.6666666666666666,
              "#ed7953"
             ],
             [
              0.7777777777777778,
              "#fb9f3a"
             ],
             [
              0.8888888888888888,
              "#fdca26"
             ],
             [
              1,
              "#f0f921"
             ]
            ],
            "type": "histogram2d"
           }
          ],
          "histogram2dcontour": [
           {
            "colorbar": {
             "outlinewidth": 0,
             "ticks": ""
            },
            "colorscale": [
             [
              0,
              "#0d0887"
             ],
             [
              0.1111111111111111,
              "#46039f"
             ],
             [
              0.2222222222222222,
              "#7201a8"
             ],
             [
              0.3333333333333333,
              "#9c179e"
             ],
             [
              0.4444444444444444,
              "#bd3786"
             ],
             [
              0.5555555555555556,
              "#d8576b"
             ],
             [
              0.6666666666666666,
              "#ed7953"
             ],
             [
              0.7777777777777778,
              "#fb9f3a"
             ],
             [
              0.8888888888888888,
              "#fdca26"
             ],
             [
              1,
              "#f0f921"
             ]
            ],
            "type": "histogram2dcontour"
           }
          ],
          "mesh3d": [
           {
            "colorbar": {
             "outlinewidth": 0,
             "ticks": ""
            },
            "type": "mesh3d"
           }
          ],
          "parcoords": [
           {
            "line": {
             "colorbar": {
              "outlinewidth": 0,
              "ticks": ""
             }
            },
            "type": "parcoords"
           }
          ],
          "pie": [
           {
            "automargin": true,
            "type": "pie"
           }
          ],
          "scatter": [
           {
            "marker": {
             "colorbar": {
              "outlinewidth": 0,
              "ticks": ""
             }
            },
            "type": "scatter"
           }
          ],
          "scatter3d": [
           {
            "line": {
             "colorbar": {
              "outlinewidth": 0,
              "ticks": ""
             }
            },
            "marker": {
             "colorbar": {
              "outlinewidth": 0,
              "ticks": ""
             }
            },
            "type": "scatter3d"
           }
          ],
          "scattercarpet": [
           {
            "marker": {
             "colorbar": {
              "outlinewidth": 0,
              "ticks": ""
             }
            },
            "type": "scattercarpet"
           }
          ],
          "scattergeo": [
           {
            "marker": {
             "colorbar": {
              "outlinewidth": 0,
              "ticks": ""
             }
            },
            "type": "scattergeo"
           }
          ],
          "scattergl": [
           {
            "marker": {
             "colorbar": {
              "outlinewidth": 0,
              "ticks": ""
             }
            },
            "type": "scattergl"
           }
          ],
          "scattermapbox": [
           {
            "marker": {
             "colorbar": {
              "outlinewidth": 0,
              "ticks": ""
             }
            },
            "type": "scattermapbox"
           }
          ],
          "scatterpolar": [
           {
            "marker": {
             "colorbar": {
              "outlinewidth": 0,
              "ticks": ""
             }
            },
            "type": "scatterpolar"
           }
          ],
          "scatterpolargl": [
           {
            "marker": {
             "colorbar": {
              "outlinewidth": 0,
              "ticks": ""
             }
            },
            "type": "scatterpolargl"
           }
          ],
          "scatterternary": [
           {
            "marker": {
             "colorbar": {
              "outlinewidth": 0,
              "ticks": ""
             }
            },
            "type": "scatterternary"
           }
          ],
          "surface": [
           {
            "colorbar": {
             "outlinewidth": 0,
             "ticks": ""
            },
            "colorscale": [
             [
              0,
              "#0d0887"
             ],
             [
              0.1111111111111111,
              "#46039f"
             ],
             [
              0.2222222222222222,
              "#7201a8"
             ],
             [
              0.3333333333333333,
              "#9c179e"
             ],
             [
              0.4444444444444444,
              "#bd3786"
             ],
             [
              0.5555555555555556,
              "#d8576b"
             ],
             [
              0.6666666666666666,
              "#ed7953"
             ],
             [
              0.7777777777777778,
              "#fb9f3a"
             ],
             [
              0.8888888888888888,
              "#fdca26"
             ],
             [
              1,
              "#f0f921"
             ]
            ],
            "type": "surface"
           }
          ],
          "table": [
           {
            "cells": {
             "fill": {
              "color": "#EBF0F8"
             },
             "line": {
              "color": "white"
             }
            },
            "header": {
             "fill": {
              "color": "#C8D4E3"
             },
             "line": {
              "color": "white"
             }
            },
            "type": "table"
           }
          ]
         },
         "layout": {
          "annotationdefaults": {
           "arrowcolor": "#2a3f5f",
           "arrowhead": 0,
           "arrowwidth": 1
          },
          "autotypenumbers": "strict",
          "coloraxis": {
           "colorbar": {
            "outlinewidth": 0,
            "ticks": ""
           }
          },
          "colorscale": {
           "diverging": [
            [
             0,
             "#8e0152"
            ],
            [
             0.1,
             "#c51b7d"
            ],
            [
             0.2,
             "#de77ae"
            ],
            [
             0.3,
             "#f1b6da"
            ],
            [
             0.4,
             "#fde0ef"
            ],
            [
             0.5,
             "#f7f7f7"
            ],
            [
             0.6,
             "#e6f5d0"
            ],
            [
             0.7,
             "#b8e186"
            ],
            [
             0.8,
             "#7fbc41"
            ],
            [
             0.9,
             "#4d9221"
            ],
            [
             1,
             "#276419"
            ]
           ],
           "sequential": [
            [
             0,
             "#0d0887"
            ],
            [
             0.1111111111111111,
             "#46039f"
            ],
            [
             0.2222222222222222,
             "#7201a8"
            ],
            [
             0.3333333333333333,
             "#9c179e"
            ],
            [
             0.4444444444444444,
             "#bd3786"
            ],
            [
             0.5555555555555556,
             "#d8576b"
            ],
            [
             0.6666666666666666,
             "#ed7953"
            ],
            [
             0.7777777777777778,
             "#fb9f3a"
            ],
            [
             0.8888888888888888,
             "#fdca26"
            ],
            [
             1,
             "#f0f921"
            ]
           ],
           "sequentialminus": [
            [
             0,
             "#0d0887"
            ],
            [
             0.1111111111111111,
             "#46039f"
            ],
            [
             0.2222222222222222,
             "#7201a8"
            ],
            [
             0.3333333333333333,
             "#9c179e"
            ],
            [
             0.4444444444444444,
             "#bd3786"
            ],
            [
             0.5555555555555556,
             "#d8576b"
            ],
            [
             0.6666666666666666,
             "#ed7953"
            ],
            [
             0.7777777777777778,
             "#fb9f3a"
            ],
            [
             0.8888888888888888,
             "#fdca26"
            ],
            [
             1,
             "#f0f921"
            ]
           ]
          },
          "colorway": [
           "#636efa",
           "#EF553B",
           "#00cc96",
           "#ab63fa",
           "#FFA15A",
           "#19d3f3",
           "#FF6692",
           "#B6E880",
           "#FF97FF",
           "#FECB52"
          ],
          "font": {
           "color": "#2a3f5f"
          },
          "geo": {
           "bgcolor": "white",
           "lakecolor": "white",
           "landcolor": "#E5ECF6",
           "showlakes": true,
           "showland": true,
           "subunitcolor": "white"
          },
          "hoverlabel": {
           "align": "left"
          },
          "hovermode": "closest",
          "mapbox": {
           "style": "light"
          },
          "paper_bgcolor": "white",
          "plot_bgcolor": "#E5ECF6",
          "polar": {
           "angularaxis": {
            "gridcolor": "white",
            "linecolor": "white",
            "ticks": ""
           },
           "bgcolor": "#E5ECF6",
           "radialaxis": {
            "gridcolor": "white",
            "linecolor": "white",
            "ticks": ""
           }
          },
          "scene": {
           "xaxis": {
            "backgroundcolor": "#E5ECF6",
            "gridcolor": "white",
            "gridwidth": 2,
            "linecolor": "white",
            "showbackground": true,
            "ticks": "",
            "zerolinecolor": "white"
           },
           "yaxis": {
            "backgroundcolor": "#E5ECF6",
            "gridcolor": "white",
            "gridwidth": 2,
            "linecolor": "white",
            "showbackground": true,
            "ticks": "",
            "zerolinecolor": "white"
           },
           "zaxis": {
            "backgroundcolor": "#E5ECF6",
            "gridcolor": "white",
            "gridwidth": 2,
            "linecolor": "white",
            "showbackground": true,
            "ticks": "",
            "zerolinecolor": "white"
           }
          },
          "shapedefaults": {
           "line": {
            "color": "#2a3f5f"
           }
          },
          "ternary": {
           "aaxis": {
            "gridcolor": "white",
            "linecolor": "white",
            "ticks": ""
           },
           "baxis": {
            "gridcolor": "white",
            "linecolor": "white",
            "ticks": ""
           },
           "bgcolor": "#E5ECF6",
           "caxis": {
            "gridcolor": "white",
            "linecolor": "white",
            "ticks": ""
           }
          },
          "title": {
           "x": 0.05
          },
          "xaxis": {
           "automargin": true,
           "gridcolor": "white",
           "linecolor": "white",
           "ticks": "",
           "title": {
            "standoff": 15
           },
           "zerolinecolor": "white",
           "zerolinewidth": 2
          },
          "yaxis": {
           "automargin": true,
           "gridcolor": "white",
           "linecolor": "white",
           "ticks": "",
           "title": {
            "standoff": 15
           },
           "zerolinecolor": "white",
           "zerolinewidth": 2
          }
         }
        },
        "title": {
         "text": "Model fit of Random Forest model"
        },
        "xaxis": {
         "anchor": "y",
         "domain": [
          0,
          1
         ],
         "title": {
          "text": "measured data (sample)"
         }
        },
        "yaxis": {
         "anchor": "x",
         "domain": [
          0,
          1
         ],
         "title": {
          "text": "fitted values (in sample fit)"
         }
        }
       }
      },
      "text/html": [
       "<div>                            <div id=\"28280009-4977-4819-a8fa-b4f06e8033bd\" class=\"plotly-graph-div\" style=\"height:525px; width:100%;\"></div>            <script type=\"text/javascript\">                require([\"plotly\"], function(Plotly) {                    window.PLOTLYENV=window.PLOTLYENV || {};                                    if (document.getElementById(\"28280009-4977-4819-a8fa-b4f06e8033bd\")) {                    Plotly.newPlot(                        \"28280009-4977-4819-a8fa-b4f06e8033bd\",                        [{\"hovertemplate\": \"x=%{x}<br>y=%{y}<extra></extra>\", \"legendgroup\": \"\", \"marker\": {\"color\": \"#636efa\", \"size\": 10, \"symbol\": \"circle\"}, \"mode\": \"markers\", \"name\": \"\", \"orientation\": \"v\", \"showlegend\": false, \"type\": \"scatter\", \"x\": [4.374216605428374, 3.6516656039229356, 3.7567881987681178, 3.2638726768652235, 2.7972675408307164, 4.2954131455196585, 2.682145076373832, 2.4899584794248346, 3.2068258760318495, 2.6148972160331345, 2.938519725176492, 2.6830470382388496, 2.6180480967120925, 2.3654879848909, 3.274619619091238, 3.256236533205923, 2.8524799936368566, 4.374216605428374, 3.2643455070500926, 3.0773679052841563, 2.884795363948981, 4.163578765188774, 3.651762447380111, 2.494154594018443, 2.9800033715837464, 3.3925210899319325, 3.7137424784090824, 2.876217840591642, 3.651762447380111, 3.3261309567107946, 4.551340190543342, 2.591064607026499, 3.0881360887005513, 2.3283796034387376, 3.317854489331469, 3.581835924057648, 3.9076263048432662, 3.581835924057648, 2.663700925389648, 4.551340190543342, 2.164352855784437, 2.9380190974762104, 2.3961993470957363, 2.5514499979728753, 3.256236533205923, 2.938519725176492, 2.2068258760318495, 2.8068580295188172, 3.2641091563058082, 2.9628426812012423, 2.893206753059848, 3.1322596895310446, 2.9508514588885464, 4.544068044350276, 2.5477747053878224, 2.806179973983887, 3.3261309567107946, 3.775756037844098, 4.544068044350276, 2.870403905279027, 3.000434077479319, 3.9076263048432662, 3.1319392952104246, 2.7589118923979736, 2.6830470382388496, 3.325925955771466, 4.103358939866562, 3.037027879755775, 3.519827993775719, 3.7758288144646124, 2.6830470382388496, 2.938519725176492, 2.100370545117563, 2.8068580295188172, 4.544068044350276, 3.025715383901341, 3.1451964061141817, 2.7442929831226763], \"xaxis\": \"x\", \"y\": [3.65026083488929, 2.859227292624743, 3.595865975044428, 3.6153061659805235, 2.747411807886423, 3.618764671285248, 3.684495573143481, 2.8411560402994436, 2.8972734658976176, 3.0447331972594753, 2.8560211776690494, 3.5913258139726896, 3.1582295414760906, 2.660210012122199, 2.910197693725861, 2.7832609494972895, 3.3163121005159537, 3.650061489456606, 3.63392253690174, 2.827014082759016, 3.649684101338533, 2.6127838567197355, 3.1353021381216104, 2.589338308831544, 3.651363415269888, 3.670599572071339, 3.64035141495079, 3.119308377851515, 3.6350291151200826, 3.6212874725791493, 3.6538618830099563, 3.561847526774786, 2.9380190974762104, 2.790845639020515, 2.872199197166491, 3.1582295414760906, 3.6440929270988014, 3.669985332684838, 3.5678772467377198, 4.209417398910191, 2.999105444051377, 2.829140165062804, 2.702943299909091, 2.830727375788893, 3.625805995722519, 2.7442929831226763, 3.6103881111727842, 2.4145221731933995, 3.6422900846093147, 3.608143066510768, 3.1319392952104246, 2.8068580295188172, 3.503821800401572, 3.639687919165101, 3.6054939237826367, 3.0466369572725482, 3.644180513736494, 3.597237716528097, 3.1919937362706623, 3.6182855920245545, 2.549536150154213, 3.6215720208865694, 3.6609742689104183, 3.040739860318863, 2.6349505150767447, 3.5702912622127614, 3.6428982900534055, 3.025995233463956, 3.0447331972594753, 3.7137424784090824, 2.8068580295188172, 2.949144419687162, 3.515455971124056, 3.1319392952104246, 3.6511838456783137, 3.6150195333347654, 3.135499475442339, 2.7525937475459217], \"yaxis\": \"y\"}],                        {\"font\": {\"color\": \"black\", \"family\": \"Helvetica Neue, Helvetica, Arial, sans-serif\"}, \"legend\": {\"title\": {}, \"tracegroupgap\": 0, \"x\": 0.01, \"xanchor\": \"left\", \"y\": 0.99, \"yanchor\": \"top\"}, \"margin\": {\"t\": 60}, \"template\": {\"data\": {\"bar\": [{\"error_x\": {\"color\": \"#2a3f5f\"}, \"error_y\": {\"color\": \"#2a3f5f\"}, \"marker\": {\"line\": {\"color\": \"#E5ECF6\", \"width\": 0.5}}, \"type\": \"bar\"}], \"barpolar\": [{\"marker\": {\"line\": {\"color\": \"#E5ECF6\", \"width\": 0.5}}, \"type\": \"barpolar\"}], \"carpet\": [{\"aaxis\": {\"endlinecolor\": \"#2a3f5f\", \"gridcolor\": \"white\", \"linecolor\": \"white\", \"minorgridcolor\": \"white\", \"startlinecolor\": \"#2a3f5f\"}, \"baxis\": {\"endlinecolor\": \"#2a3f5f\", \"gridcolor\": \"white\", \"linecolor\": \"white\", \"minorgridcolor\": \"white\", \"startlinecolor\": \"#2a3f5f\"}, \"type\": \"carpet\"}], \"choropleth\": [{\"colorbar\": {\"outlinewidth\": 0, \"ticks\": \"\"}, \"type\": \"choropleth\"}], \"contour\": [{\"colorbar\": {\"outlinewidth\": 0, \"ticks\": \"\"}, \"colorscale\": [[0.0, \"#0d0887\"], [0.1111111111111111, \"#46039f\"], [0.2222222222222222, \"#7201a8\"], [0.3333333333333333, \"#9c179e\"], [0.4444444444444444, \"#bd3786\"], [0.5555555555555556, \"#d8576b\"], [0.6666666666666666, \"#ed7953\"], [0.7777777777777778, \"#fb9f3a\"], [0.8888888888888888, \"#fdca26\"], [1.0, \"#f0f921\"]], \"type\": \"contour\"}], \"contourcarpet\": [{\"colorbar\": {\"outlinewidth\": 0, \"ticks\": \"\"}, \"type\": \"contourcarpet\"}], \"heatmap\": [{\"colorbar\": {\"outlinewidth\": 0, \"ticks\": \"\"}, \"colorscale\": [[0.0, \"#0d0887\"], [0.1111111111111111, \"#46039f\"], [0.2222222222222222, \"#7201a8\"], [0.3333333333333333, \"#9c179e\"], [0.4444444444444444, \"#bd3786\"], [0.5555555555555556, \"#d8576b\"], [0.6666666666666666, \"#ed7953\"], [0.7777777777777778, \"#fb9f3a\"], [0.8888888888888888, \"#fdca26\"], [1.0, \"#f0f921\"]], \"type\": \"heatmap\"}], \"heatmapgl\": [{\"colorbar\": {\"outlinewidth\": 0, \"ticks\": \"\"}, \"colorscale\": [[0.0, \"#0d0887\"], [0.1111111111111111, \"#46039f\"], [0.2222222222222222, \"#7201a8\"], [0.3333333333333333, \"#9c179e\"], [0.4444444444444444, \"#bd3786\"], [0.5555555555555556, \"#d8576b\"], [0.6666666666666666, \"#ed7953\"], [0.7777777777777778, \"#fb9f3a\"], [0.8888888888888888, \"#fdca26\"], [1.0, \"#f0f921\"]], \"type\": \"heatmapgl\"}], \"histogram\": [{\"marker\": {\"colorbar\": {\"outlinewidth\": 0, \"ticks\": \"\"}}, \"type\": \"histogram\"}], \"histogram2d\": [{\"colorbar\": {\"outlinewidth\": 0, \"ticks\": \"\"}, \"colorscale\": [[0.0, \"#0d0887\"], [0.1111111111111111, \"#46039f\"], [0.2222222222222222, \"#7201a8\"], [0.3333333333333333, \"#9c179e\"], [0.4444444444444444, \"#bd3786\"], [0.5555555555555556, \"#d8576b\"], [0.6666666666666666, \"#ed7953\"], [0.7777777777777778, \"#fb9f3a\"], [0.8888888888888888, \"#fdca26\"], [1.0, \"#f0f921\"]], \"type\": \"histogram2d\"}], \"histogram2dcontour\": [{\"colorbar\": {\"outlinewidth\": 0, \"ticks\": \"\"}, \"colorscale\": [[0.0, \"#0d0887\"], [0.1111111111111111, \"#46039f\"], [0.2222222222222222, \"#7201a8\"], [0.3333333333333333, \"#9c179e\"], [0.4444444444444444, \"#bd3786\"], [0.5555555555555556, \"#d8576b\"], [0.6666666666666666, \"#ed7953\"], [0.7777777777777778, \"#fb9f3a\"], [0.8888888888888888, \"#fdca26\"], [1.0, \"#f0f921\"]], \"type\": \"histogram2dcontour\"}], \"mesh3d\": [{\"colorbar\": {\"outlinewidth\": 0, \"ticks\": \"\"}, \"type\": \"mesh3d\"}], \"parcoords\": [{\"line\": {\"colorbar\": {\"outlinewidth\": 0, \"ticks\": \"\"}}, \"type\": \"parcoords\"}], \"pie\": [{\"automargin\": true, \"type\": \"pie\"}], \"scatter\": [{\"marker\": {\"colorbar\": {\"outlinewidth\": 0, \"ticks\": \"\"}}, \"type\": \"scatter\"}], \"scatter3d\": [{\"line\": {\"colorbar\": {\"outlinewidth\": 0, \"ticks\": \"\"}}, \"marker\": {\"colorbar\": {\"outlinewidth\": 0, \"ticks\": \"\"}}, \"type\": \"scatter3d\"}], \"scattercarpet\": [{\"marker\": {\"colorbar\": {\"outlinewidth\": 0, \"ticks\": \"\"}}, \"type\": \"scattercarpet\"}], \"scattergeo\": [{\"marker\": {\"colorbar\": {\"outlinewidth\": 0, \"ticks\": \"\"}}, \"type\": \"scattergeo\"}], \"scattergl\": [{\"marker\": {\"colorbar\": {\"outlinewidth\": 0, \"ticks\": \"\"}}, \"type\": \"scattergl\"}], \"scattermapbox\": [{\"marker\": {\"colorbar\": {\"outlinewidth\": 0, \"ticks\": \"\"}}, \"type\": \"scattermapbox\"}], \"scatterpolar\": [{\"marker\": {\"colorbar\": {\"outlinewidth\": 0, \"ticks\": \"\"}}, \"type\": \"scatterpolar\"}], \"scatterpolargl\": [{\"marker\": {\"colorbar\": {\"outlinewidth\": 0, \"ticks\": \"\"}}, \"type\": \"scatterpolargl\"}], \"scatterternary\": [{\"marker\": {\"colorbar\": {\"outlinewidth\": 0, \"ticks\": \"\"}}, \"type\": \"scatterternary\"}], \"surface\": [{\"colorbar\": {\"outlinewidth\": 0, \"ticks\": \"\"}, \"colorscale\": [[0.0, \"#0d0887\"], [0.1111111111111111, \"#46039f\"], [0.2222222222222222, \"#7201a8\"], [0.3333333333333333, \"#9c179e\"], [0.4444444444444444, \"#bd3786\"], [0.5555555555555556, \"#d8576b\"], [0.6666666666666666, \"#ed7953\"], [0.7777777777777778, \"#fb9f3a\"], [0.8888888888888888, \"#fdca26\"], [1.0, \"#f0f921\"]], \"type\": \"surface\"}], \"table\": [{\"cells\": {\"fill\": {\"color\": \"#EBF0F8\"}, \"line\": {\"color\": \"white\"}}, \"header\": {\"fill\": {\"color\": \"#C8D4E3\"}, \"line\": {\"color\": \"white\"}}, \"type\": \"table\"}]}, \"layout\": {\"annotationdefaults\": {\"arrowcolor\": \"#2a3f5f\", \"arrowhead\": 0, \"arrowwidth\": 1}, \"autotypenumbers\": \"strict\", \"coloraxis\": {\"colorbar\": {\"outlinewidth\": 0, \"ticks\": \"\"}}, \"colorscale\": {\"diverging\": [[0, \"#8e0152\"], [0.1, \"#c51b7d\"], [0.2, \"#de77ae\"], [0.3, \"#f1b6da\"], [0.4, \"#fde0ef\"], [0.5, \"#f7f7f7\"], [0.6, \"#e6f5d0\"], [0.7, \"#b8e186\"], [0.8, \"#7fbc41\"], [0.9, \"#4d9221\"], [1, \"#276419\"]], \"sequential\": [[0.0, \"#0d0887\"], [0.1111111111111111, \"#46039f\"], [0.2222222222222222, \"#7201a8\"], [0.3333333333333333, \"#9c179e\"], [0.4444444444444444, \"#bd3786\"], [0.5555555555555556, \"#d8576b\"], [0.6666666666666666, \"#ed7953\"], [0.7777777777777778, \"#fb9f3a\"], [0.8888888888888888, \"#fdca26\"], [1.0, \"#f0f921\"]], \"sequentialminus\": [[0.0, \"#0d0887\"], [0.1111111111111111, \"#46039f\"], [0.2222222222222222, \"#7201a8\"], [0.3333333333333333, \"#9c179e\"], [0.4444444444444444, \"#bd3786\"], [0.5555555555555556, \"#d8576b\"], [0.6666666666666666, \"#ed7953\"], [0.7777777777777778, \"#fb9f3a\"], [0.8888888888888888, \"#fdca26\"], [1.0, \"#f0f921\"]]}, \"colorway\": [\"#636efa\", \"#EF553B\", \"#00cc96\", \"#ab63fa\", \"#FFA15A\", \"#19d3f3\", \"#FF6692\", \"#B6E880\", \"#FF97FF\", \"#FECB52\"], \"font\": {\"color\": \"#2a3f5f\"}, \"geo\": {\"bgcolor\": \"white\", \"lakecolor\": \"white\", \"landcolor\": \"#E5ECF6\", \"showlakes\": true, \"showland\": true, \"subunitcolor\": \"white\"}, \"hoverlabel\": {\"align\": \"left\"}, \"hovermode\": \"closest\", \"mapbox\": {\"style\": \"light\"}, \"paper_bgcolor\": \"white\", \"plot_bgcolor\": \"#E5ECF6\", \"polar\": {\"angularaxis\": {\"gridcolor\": \"white\", \"linecolor\": \"white\", \"ticks\": \"\"}, \"bgcolor\": \"#E5ECF6\", \"radialaxis\": {\"gridcolor\": \"white\", \"linecolor\": \"white\", \"ticks\": \"\"}}, \"scene\": {\"xaxis\": {\"backgroundcolor\": \"#E5ECF6\", \"gridcolor\": \"white\", \"gridwidth\": 2, \"linecolor\": \"white\", \"showbackground\": true, \"ticks\": \"\", \"zerolinecolor\": \"white\"}, \"yaxis\": {\"backgroundcolor\": \"#E5ECF6\", \"gridcolor\": \"white\", \"gridwidth\": 2, \"linecolor\": \"white\", \"showbackground\": true, \"ticks\": \"\", \"zerolinecolor\": \"white\"}, \"zaxis\": {\"backgroundcolor\": \"#E5ECF6\", \"gridcolor\": \"white\", \"gridwidth\": 2, \"linecolor\": \"white\", \"showbackground\": true, \"ticks\": \"\", \"zerolinecolor\": \"white\"}}, \"shapedefaults\": {\"line\": {\"color\": \"#2a3f5f\"}}, \"ternary\": {\"aaxis\": {\"gridcolor\": \"white\", \"linecolor\": \"white\", \"ticks\": \"\"}, \"baxis\": {\"gridcolor\": \"white\", \"linecolor\": \"white\", \"ticks\": \"\"}, \"bgcolor\": \"#E5ECF6\", \"caxis\": {\"gridcolor\": \"white\", \"linecolor\": \"white\", \"ticks\": \"\"}}, \"title\": {\"x\": 0.05}, \"xaxis\": {\"automargin\": true, \"gridcolor\": \"white\", \"linecolor\": \"white\", \"ticks\": \"\", \"title\": {\"standoff\": 15}, \"zerolinecolor\": \"white\", \"zerolinewidth\": 2}, \"yaxis\": {\"automargin\": true, \"gridcolor\": \"white\", \"linecolor\": \"white\", \"ticks\": \"\", \"title\": {\"standoff\": 15}, \"zerolinecolor\": \"white\", \"zerolinewidth\": 2}}}, \"title\": {\"text\": \"Model fit of Random Forest model\"}, \"xaxis\": {\"anchor\": \"y\", \"domain\": [0.0, 1.0], \"title\": {\"text\": \"measured data (sample)\"}}, \"yaxis\": {\"anchor\": \"x\", \"domain\": [0.0, 1.0], \"title\": {\"text\": \"fitted values (in sample fit)\"}}},                        {\"responsive\": true}                    ).then(function(){\n",
       "                            \n",
       "var gd = document.getElementById('28280009-4977-4819-a8fa-b4f06e8033bd');\n",
       "var x = new MutationObserver(function (mutations, observer) {{\n",
       "        var display = window.getComputedStyle(gd).display;\n",
       "        if (!display || display === 'none') {{\n",
       "            console.log([gd, 'removed!']);\n",
       "            Plotly.purge(gd);\n",
       "            observer.disconnect();\n",
       "        }}\n",
       "}});\n",
       "\n",
       "// Listen for the removal of the full notebook cells\n",
       "var notebookContainer = gd.closest('#notebook-container');\n",
       "if (notebookContainer) {{\n",
       "    x.observe(notebookContainer, {childList: true});\n",
       "}}\n",
       "\n",
       "// Listen for the clearing of the current output cell\n",
       "var outputEl = gd.closest('.output');\n",
       "if (outputEl) {{\n",
       "    x.observe(outputEl, {childList: true});\n",
       "}}\n",
       "\n",
       "                        })                };                });            </script>        </div>"
      ]
     },
     "metadata": {},
     "output_type": "display_data"
    }
   ],
   "source": [
    "fig.show()"
   ]
  },
  {
   "cell_type": "code",
   "execution_count": null,
   "id": "arabic-belarus",
   "metadata": {},
   "outputs": [],
   "source": []
  },
  {
   "cell_type": "markdown",
   "id": "ceramic-speech",
   "metadata": {},
   "source": [
    "## Calculating prediction intervals"
   ]
  },
  {
   "cell_type": "code",
   "execution_count": 380,
   "id": "positive-daniel",
   "metadata": {},
   "outputs": [],
   "source": [
    "from sklearn.ensemble import GradientBoostingRegressor# Set lower and upper quantile\n",
    "\n",
    "LOWER_ALPHA = 0.05\n",
    "UPPER_ALPHA = 0.95# Each model has to be separate\n",
    "\n",
    "lower_model = GradientBoostingRegressor(loss=\"quantile\",                   \n",
    "                                        alpha=LOWER_ALPHA)\n",
    "# The mid model will use the default loss\n",
    "mid_model = GradientBoostingRegressor(loss=\"ls\")\n",
    "\n",
    "upper_model = GradientBoostingRegressor(loss=\"quantile\",\n",
    "                                        alpha=UPPER_ALPHA)"
   ]
  },
  {
   "cell_type": "code",
   "execution_count": 388,
   "id": "senior-making",
   "metadata": {},
   "outputs": [],
   "source": [
    "import scipy.stats\n",
    "import decimal\n",
    "\n",
    "weights = scipy.stats.norm(3, .7).pdf(y_train.apply(float))"
   ]
  },
  {
   "cell_type": "code",
   "execution_count": 389,
   "id": "serial-valve",
   "metadata": {},
   "outputs": [
    {
     "data": {
      "application/vnd.plotly.v1+json": {
       "config": {
        "plotlyServerURL": "https://plot.ly"
       },
       "data": [
        {
         "hovertemplate": "x=%{x}<br>y=%{y}<extra></extra>",
         "legendgroup": "",
         "marker": {
          "color": "#636efa",
          "symbol": "circle"
         },
         "mode": "markers",
         "name": "",
         "orientation": "v",
         "showlegend": false,
         "type": "scatter",
         "x": [
          2.7442929831226763,
          3.7285161047597666,
          2.870403905279027,
          3.3925210899319325,
          3.4459154139511234,
          2.8068580295188172,
          2.574031267727719,
          3.5199591807520685,
          3.4578818967339924,
          2.3324384599156054,
          4.039453778961737,
          2.8068580295188172,
          3.520483532740792,
          2.8068580295188172,
          3.470704429722788,
          2.900913067737669,
          3.885530833188092,
          2.4885507165004443,
          2.4885507165004443,
          2.6414741105040997,
          3.1942367487238292,
          3.000434077479319,
          3.307282047033346,
          2.4899584794248346,
          2.6748611407378116,
          3.336859820916809,
          4.551340190543342,
          3.519302849235429,
          2.8686444383948255,
          3.519827993775719,
          4.039453778961737,
          2.403120521175818,
          2.938519725176492,
          2.7234556720351857,
          3.003029470553618,
          3.000434077479319,
          4.544068044350276,
          4.544068044350276,
          2.6857417386022635,
          3.7023443583557687,
          3.775756037844098,
          3.3881012015705165,
          3.2641091563058082,
          2.6127838567197355,
          3.837840861655523,
          2.294466226161593,
          3.7137424784090824,
          2.4885507165004443,
          3.7137424784090824,
          2.4899584794248346,
          2.6414741105040997,
          4.544068044350276,
          2.8068580295188172,
          3.9205928620848085,
          1.9030899869919435,
          3.7137424784090824,
          2.938519725176492,
          4.357458385645036,
          3.9076263048432662,
          3.019116290447073,
          2.876217840591642,
          2.7589118923979736,
          4.544068044350276,
          3.025715383901341,
          3.9076263048432662,
          3.000434077479319,
          3.256236533205923,
          2.225309281725863,
          2.682145076373832,
          2.7193312869837265,
          2.5477747053878224,
          2.598790506763115,
          3.070037866607755,
          2.9469432706978256,
          3.2638726768652235,
          3.581835924057648,
          2.876217840591642,
          2.419955748489758,
          3.119585774961784,
          3.000434077479319,
          3.1942367487238292,
          3.7567881987681178,
          3.317854489331469,
          4.544068044350276,
          1.7781512503836436,
          2.682145076373832,
          3.070037866607755,
          3.6769678142947586,
          3.3881012015705165,
          2.2068258760318495,
          3.1942367487238292,
          3.2638726768652235,
          3.062581984228163,
          2.6748611407378116,
          3.1322596895310446,
          3.5199591807520685,
          3.1322596895310446,
          2.6127838567197355,
          3.643945912748067,
          3.000434077479319,
          3.651762447380111,
          2.938519725176492,
          2.369215857410143,
          2.357934847000454,
          2.6127838567197355,
          3.3261309567107946,
          4.2255935481548,
          3.3261309567107946,
          4.223755453657241,
          3.070037866607755,
          3.9696488404807253,
          2.9380190974762104,
          2.3654879848909,
          3.1451964061141817,
          3.0773679052841563,
          2.5477747053878224,
          2.225309281725863,
          4.4428872189023485,
          4.544068044350276,
          3.062581984228163,
          3.256236533205923,
          2.8068580295188172,
          3.1051694279993316,
          2.6127838567197355,
          2.100370545117563,
          2.682145076373832,
          4.317958924700952,
          2.637489729512511,
          3.0318122713303706,
          3.070037866607755,
          3.520483532740792,
          3.143327129992046,
          2.7442929831226763,
          3.3261309567107946,
          3.2638726768652235,
          2.586587304671755,
          2.8573324964312685,
          2.870403905279027,
          4.374216605428374,
          3.0145205387579237,
          3.336859820916809,
          4.2954131455196585,
          4.544068044350276,
          4.544068044350276,
          3.9076263048432662,
          4.103358939866562,
          3.2641091563058082,
          2.9804578922761,
          3.003029470553618,
          2.747411807886423,
          3.7758288144646124,
          3.274850320016665,
          2.7442929831226763,
          3.1942367487238292,
          3.7758288144646124,
          3.1942367487238292,
          2.7442929831226763,
          2.876217840591642,
          2.3283796034387376,
          3.000434077479319,
          4.544068044350276,
          3.519827993775719,
          4.14188854970586,
          3.037027879755775,
          2.6830470382388496,
          3.7567881987681178,
          3.9076263048432662,
          4.374216605428374,
          2.419955748489758,
          4.357458385645036,
          3.2641091563058082,
          3.256236533205923,
          2.910624404889201,
          2.6830470382388496,
          2.938519725176492,
          2.8750612633917,
          1.7781512503836436,
          2.938519725176492,
          3.1826999033360424,
          2.481442628502305,
          2.294466226161593,
          3.253580289562183,
          2.6148972160331345,
          3.1942367487238292,
          2.6127838567197355,
          3.3881012015705165,
          4.163578765188774,
          3.5341530741850624,
          2.8068580295188172,
          3.0881360887005513,
          2.7442929831226763,
          2.7442929831226763,
          2.287801729930226,
          2.8524799936368566,
          2.663700925389648,
          2.5514499979728753,
          2.574031267727719,
          3.3261309567107946,
          3.256236533205923,
          2.82020145948564,
          3.4933186082321015,
          3.7019994748896368,
          3.6516656039229356,
          2.6127838567197355,
          3.7480328941301435,
          3.062581984228163,
          2.6180480967120925,
          3.7137424784090824,
          2.591064607026499,
          4.544068044350276,
          3.1319392952104246,
          3.000434077479319,
          2.637489729512511,
          3.3261309567107946,
          4.317958924700952,
          2.8344207036815328,
          3.1942367487238292,
          2.8068580295188172,
          4.374216605428374,
          2.6830470382388496,
          4.544068044350276,
          2.9304395947667,
          4.2954131455196585,
          3.1322596895310446,
          2.9508514588885464,
          3.3261309567107946,
          3.2641091563058082,
          4.551340190543342,
          2.710963118995276,
          3.1322596895310446,
          3.581835924057648,
          2.8068580295188172,
          2.5943925503754266,
          3.519827993775719,
          3.584670384464349,
          2.893206753059848,
          2.5514499979728753,
          3.7480328941301435,
          2.940516484932567,
          2.9380190974762104,
          2.419955748489758,
          3.3261309567107946,
          3.2095150145426308,
          2.419955748489758,
          3.083860800866573,
          3.070037866607755,
          3.7758288144646124,
          2.4578818967339924,
          3.2543063323312857,
          2.419955748489758,
          3.3492775274679554,
          2.940516484932567,
          2.7442929831226763,
          3.7866804531966487,
          3.2641091563058082,
          2.5514499979728753,
          3.1319392952104246,
          2.428134794028789,
          3.256236533205923,
          3.4577305482459986,
          2.94546858513182,
          2.747411807886423,
          3.1319392952104246,
          4.683182171097453,
          2.494154594018443,
          3.1319392952104246,
          3.2068258760318495,
          2.357934847000454,
          3.4214393902200495,
          3.6516656039229356,
          3.7137424784090824,
          4.101506496139928,
          2.727541257028556,
          3.581949658373318,
          3.581835924057648,
          1.9084850188786497,
          2.357934847000454,
          2.2068258760318495,
          3.1319392952104246,
          2.100370545117563,
          3.0492180226701815,
          3.2538224387080734,
          2.94546858513182,
          4.544068044350276,
          2.681241237375587,
          3.775756037844098,
          3.775756037844098,
          4.069298012115529,
          4.163578765188774,
          3.643945912748067,
          2.9380190974762104,
          3.244524511570084,
          4.815026229442373,
          2.8750612633917,
          3.3879234669734366,
          2.806179973983887,
          2.7442929831226763,
          2.9858753573083936,
          2.7315887651867388,
          2.6127838567197355,
          2.9380190974762104,
          2.9628426812012423,
          2.7589118923979736,
          3.000434077479319,
          3.274619619091238,
          3.3879234669734366,
          3.7866804531966487,
          3.4577305482459986,
          3.5199591807520685,
          2.876217840591642,
          3.3261309567107946,
          3.1319392952104246
         ],
         "xaxis": "x",
         "y": [
          0.5331331479316176,
          0.331598411785847,
          0.5602335687530464,
          0.48700507340338217,
          0.4652584989184219,
          0.5486312645004128,
          0.47358872707677085,
          0.4325148404898613,
          0.4601521372354893,
          0.36167955712510463,
          0.18923265600388178,
          0.5486312645004128,
          0.4322741299250345,
          0.5486312645004128,
          0.4545951954466566,
          0.5642362787543493,
          0.2560373849479653,
          0.43640597491350197,
          0.43640597491350197,
          0.49985976764292356,
          0.5483938963602502,
          0.569917433853363,
          0.5175687923913943,
          0.4370468114577345,
          0.5116388255489499,
          0.5076038618408463,
          0.048897186862703744,
          0.432815984622088,
          0.559971157487157,
          0.4325750465685226,
          0.18923265600388178,
          0.39621455135958594,
          0.5677236259390356,
          0.5271336776069258,
          0.5699122061825639,
          0.569917433853363,
          0.05003333687479018,
          0.05003333687479018,
          0.5152838739060501,
          0.34451478202577535,
          0.30840463762029546,
          0.48872268272445124,
          0.5307624191025939,
          0.4890650086973567,
          0.2784360229072938,
          0.34293984436109654,
          0.33888705060022634,
          0.43640597491350197,
          0.33888705060022634,
          0.4370468114577345,
          0.49985976764292356,
          0.05003333687479018,
          0.5486312645004128,
          0.24001579480344634,
          0.16695507675797785,
          0.33888705060022634,
          0.5677236259390356,
          0.08693775787420477,
          0.24589244658006923,
          0.5697050662860276,
          0.5610763387013731,
          0.5370987774530348,
          0.05003333687479018,
          0.5695331061850389,
          0.24589244658006923,
          0.569917433853363,
          0.5329856958261755,
          0.3089248702929248,
          0.5140898546871622,
          0.525898964553434,
          0.462575758522789,
          0.4835900527921055,
          0.5670719994015837,
          0.5682828237171721,
          0.5308300451685893,
          0.40344888861585215,
          0.5610763387013731,
          0.4043068026514369,
          0.5616613453659766,
          0.569917433853363,
          0.5483938963602502,
          0.31768965471441285,
          0.5140899995163812,
          0.05003333687479018,
          0.1242268938428401,
          0.5140898546871622,
          0.5670719994015837,
          0.3570420294561964,
          0.48872268272445124,
          0.29992343012818323,
          0.5483938963602502,
          0.5308300451685893,
          0.5676444510708979,
          0.5116388255489499,
          0.5598349856841245,
          0.4325148404898613,
          0.5598349856841245,
          0.4890650086973567,
          0.37329267850644626,
          0.569917433853363,
          0.36945469850534973,
          0.5677236259390356,
          0.37973850798280584,
          0.37421511709274563,
          0.4890650086973567,
          0.5113016084858298,
          0.12307051205296912,
          0.5113016084858298,
          0.1236372005505133,
          0.5670719994015837,
          0.21834681116487098,
          0.5676878210372346,
          0.3779151704659428,
          0.5577882714584359,
          0.5664471239098562,
          0.462575758522789,
          0.3089248702929248,
          0.06810699524086733,
          0.05003333687479018,
          0.5676444510708979,
          0.5329856958261755,
          0.5486312645004128,
          0.5635214252097116,
          0.4890650086973567,
          0.24954556666458375,
          0.5140898546871622,
          0.09683675880901885,
          0.49839656796288634,
          0.5693293081306158,
          0.5670719994015837,
          0.4322741299250345,
          0.5580953274079592,
          0.5331331479316176,
          0.5113016084858298,
          0.5308300451685893,
          0.4787093712757276,
          0.5582027708815809,
          0.5602335687530464,
          0.0829700899585035,
          0.569794939415591,
          0.5076038618408463,
          0.10283745459322306,
          0.05003333687479018,
          0.05003333687479018,
          0.24589244658006923,
          0.1645551581955849,
          0.5307624191025939,
          0.5696954968247043,
          0.5699122061825639,
          0.5339962614385885,
          0.3083691041830608,
          0.5276363437837852,
          0.5331331479316176,
          0.5483938963602502,
          0.3083691041830608,
          0.5483938963602502,
          0.5331331479316176,
          0.5610763387013731,
          0.3596790628237106,
          0.569917433853363,
          0.05003333687479018,
          0.4325750465685226,
          0.15065189323778438,
          0.5691207607667453,
          0.5143903033825229,
          0.31768965471441285,
          0.24589244658006923,
          0.0829700899585035,
          0.4043068026514369,
          0.08693775787420477,
          0.5307624191025939,
          0.5329856958261755,
          0.5652910167118991,
          0.5143903033825229,
          0.5677236259390356,
          0.5609116669744593,
          0.1242268938428401,
          0.5677236259390356,
          0.5508327509377247,
          0.43315782409352144,
          0.34293984436109654,
          0.533722702879672,
          0.48988022385162583,
          0.5483938963602502,
          0.4890650086973567,
          0.48872268272445124,
          0.14315747061066203,
          0.42596165734242314,
          0.5486312645004128,
          0.5654179485248745,
          0.5331331479316176,
          0.5331331479316176,
          0.33964934770173716,
          0.5574012802569012,
          0.5077994157468632,
          0.46414106343396444,
          0.47358872707677085,
          0.5113016084858298,
          0.5329856958261755,
          0.5514242239464394,
          0.44459415000725766,
          0.34468508998074776,
          0.369502289023823,
          0.4890650086973567,
          0.32198952879191295,
          0.5676444510708979,
          0.4910898683669013,
          0.33888705060022634,
          0.4805112852405133,
          0.05003333687479018,
          0.5598833437218089,
          0.569917433853363,
          0.49839656796288634,
          0.5113016084858298,
          0.09683675880901885,
          0.5541944765605687,
          0.5483938963602502,
          0.5486312645004128,
          0.0829700899585035,
          0.5143903033825229,
          0.05003333687479018,
          0.5671105690058162,
          0.10283745459322306,
          0.5598349856841245,
          0.5685144968778153,
          0.5113016084858298,
          0.5307624191025939,
          0.048897186862703744,
          0.5233468439772783,
          0.5598349856841245,
          0.40344888861585215,
          0.5486312645004128,
          0.4818422549034728,
          0.4325750465685226,
          0.40208998858427064,
          0.5633235437575934,
          0.46414106343396444,
          0.32198952879191295,
          0.5678635671451497,
          0.5676878210372346,
          0.4043068026514369,
          0.5113016084858298,
          0.5449528627824888,
          0.4043068026514369,
          0.5658423651738265,
          0.5670719994015837,
          0.3083691041830608,
          0.42225181544579826,
          0.5335219152860762,
          0.4043068026514369,
          0.5032098142667845,
          0.5678635671451497,
          0.5331331479316176,
          0.3030796472392943,
          0.5307624191025939,
          0.46414106343396444,
          0.5598833437218089,
          0.4082124697645776,
          0.5329856958261755,
          0.460217209489056,
          0.5681908280984032,
          0.5339962614385885,
          0.5598833437218089,
          0.031644711959441164,
          0.4389520066441108,
          0.5598833437218089,
          0.5455757984594888,
          0.37421511709274563,
          0.47544718941332564,
          0.369502289023823,
          0.33888705060022634,
          0.1652424131295381,
          0.5283415493093483,
          0.4033944010244103,
          0.40344888861585215,
          0.16897864548922123,
          0.37421511709274563,
          0.29992343012818323,
          0.5598833437218089,
          0.24954556666458375,
          0.56851053198906,
          0.5336557917879092,
          0.5681908280984032,
          0.05003333687479018,
          0.5137881010487007,
          0.30840463762029546,
          0.30840463762029546,
          0.17746240666882934,
          0.14315747061066203,
          0.37329267850644626,
          0.5676878210372346,
          0.5361849745063395,
          0.01976554857801585,
          0.5609116669744593,
          0.4887914710096676,
          0.5484843955738387,
          0.5331331479316176,
          0.5698015330944161,
          0.529523105726815,
          0.4890650086973567,
          0.5676878210372346,
          0.5691151843043015,
          0.5370987774530348,
          0.569917433853363,
          0.5277045980794174,
          0.4887914710096676,
          0.3030796472392943,
          0.460217209489056,
          0.4325148404898613,
          0.5610763387013731,
          0.5113016084858298,
          0.5598833437218089
         ],
         "yaxis": "y"
        }
       ],
       "layout": {
        "legend": {
         "tracegroupgap": 0
        },
        "margin": {
         "t": 60
        },
        "template": {
         "data": {
          "bar": [
           {
            "error_x": {
             "color": "#2a3f5f"
            },
            "error_y": {
             "color": "#2a3f5f"
            },
            "marker": {
             "line": {
              "color": "#E5ECF6",
              "width": 0.5
             }
            },
            "type": "bar"
           }
          ],
          "barpolar": [
           {
            "marker": {
             "line": {
              "color": "#E5ECF6",
              "width": 0.5
             }
            },
            "type": "barpolar"
           }
          ],
          "carpet": [
           {
            "aaxis": {
             "endlinecolor": "#2a3f5f",
             "gridcolor": "white",
             "linecolor": "white",
             "minorgridcolor": "white",
             "startlinecolor": "#2a3f5f"
            },
            "baxis": {
             "endlinecolor": "#2a3f5f",
             "gridcolor": "white",
             "linecolor": "white",
             "minorgridcolor": "white",
             "startlinecolor": "#2a3f5f"
            },
            "type": "carpet"
           }
          ],
          "choropleth": [
           {
            "colorbar": {
             "outlinewidth": 0,
             "ticks": ""
            },
            "type": "choropleth"
           }
          ],
          "contour": [
           {
            "colorbar": {
             "outlinewidth": 0,
             "ticks": ""
            },
            "colorscale": [
             [
              0,
              "#0d0887"
             ],
             [
              0.1111111111111111,
              "#46039f"
             ],
             [
              0.2222222222222222,
              "#7201a8"
             ],
             [
              0.3333333333333333,
              "#9c179e"
             ],
             [
              0.4444444444444444,
              "#bd3786"
             ],
             [
              0.5555555555555556,
              "#d8576b"
             ],
             [
              0.6666666666666666,
              "#ed7953"
             ],
             [
              0.7777777777777778,
              "#fb9f3a"
             ],
             [
              0.8888888888888888,
              "#fdca26"
             ],
             [
              1,
              "#f0f921"
             ]
            ],
            "type": "contour"
           }
          ],
          "contourcarpet": [
           {
            "colorbar": {
             "outlinewidth": 0,
             "ticks": ""
            },
            "type": "contourcarpet"
           }
          ],
          "heatmap": [
           {
            "colorbar": {
             "outlinewidth": 0,
             "ticks": ""
            },
            "colorscale": [
             [
              0,
              "#0d0887"
             ],
             [
              0.1111111111111111,
              "#46039f"
             ],
             [
              0.2222222222222222,
              "#7201a8"
             ],
             [
              0.3333333333333333,
              "#9c179e"
             ],
             [
              0.4444444444444444,
              "#bd3786"
             ],
             [
              0.5555555555555556,
              "#d8576b"
             ],
             [
              0.6666666666666666,
              "#ed7953"
             ],
             [
              0.7777777777777778,
              "#fb9f3a"
             ],
             [
              0.8888888888888888,
              "#fdca26"
             ],
             [
              1,
              "#f0f921"
             ]
            ],
            "type": "heatmap"
           }
          ],
          "heatmapgl": [
           {
            "colorbar": {
             "outlinewidth": 0,
             "ticks": ""
            },
            "colorscale": [
             [
              0,
              "#0d0887"
             ],
             [
              0.1111111111111111,
              "#46039f"
             ],
             [
              0.2222222222222222,
              "#7201a8"
             ],
             [
              0.3333333333333333,
              "#9c179e"
             ],
             [
              0.4444444444444444,
              "#bd3786"
             ],
             [
              0.5555555555555556,
              "#d8576b"
             ],
             [
              0.6666666666666666,
              "#ed7953"
             ],
             [
              0.7777777777777778,
              "#fb9f3a"
             ],
             [
              0.8888888888888888,
              "#fdca26"
             ],
             [
              1,
              "#f0f921"
             ]
            ],
            "type": "heatmapgl"
           }
          ],
          "histogram": [
           {
            "marker": {
             "colorbar": {
              "outlinewidth": 0,
              "ticks": ""
             }
            },
            "type": "histogram"
           }
          ],
          "histogram2d": [
           {
            "colorbar": {
             "outlinewidth": 0,
             "ticks": ""
            },
            "colorscale": [
             [
              0,
              "#0d0887"
             ],
             [
              0.1111111111111111,
              "#46039f"
             ],
             [
              0.2222222222222222,
              "#7201a8"
             ],
             [
              0.3333333333333333,
              "#9c179e"
             ],
             [
              0.4444444444444444,
              "#bd3786"
             ],
             [
              0.5555555555555556,
              "#d8576b"
             ],
             [
              0.6666666666666666,
              "#ed7953"
             ],
             [
              0.7777777777777778,
              "#fb9f3a"
             ],
             [
              0.8888888888888888,
              "#fdca26"
             ],
             [
              1,
              "#f0f921"
             ]
            ],
            "type": "histogram2d"
           }
          ],
          "histogram2dcontour": [
           {
            "colorbar": {
             "outlinewidth": 0,
             "ticks": ""
            },
            "colorscale": [
             [
              0,
              "#0d0887"
             ],
             [
              0.1111111111111111,
              "#46039f"
             ],
             [
              0.2222222222222222,
              "#7201a8"
             ],
             [
              0.3333333333333333,
              "#9c179e"
             ],
             [
              0.4444444444444444,
              "#bd3786"
             ],
             [
              0.5555555555555556,
              "#d8576b"
             ],
             [
              0.6666666666666666,
              "#ed7953"
             ],
             [
              0.7777777777777778,
              "#fb9f3a"
             ],
             [
              0.8888888888888888,
              "#fdca26"
             ],
             [
              1,
              "#f0f921"
             ]
            ],
            "type": "histogram2dcontour"
           }
          ],
          "mesh3d": [
           {
            "colorbar": {
             "outlinewidth": 0,
             "ticks": ""
            },
            "type": "mesh3d"
           }
          ],
          "parcoords": [
           {
            "line": {
             "colorbar": {
              "outlinewidth": 0,
              "ticks": ""
             }
            },
            "type": "parcoords"
           }
          ],
          "pie": [
           {
            "automargin": true,
            "type": "pie"
           }
          ],
          "scatter": [
           {
            "marker": {
             "colorbar": {
              "outlinewidth": 0,
              "ticks": ""
             }
            },
            "type": "scatter"
           }
          ],
          "scatter3d": [
           {
            "line": {
             "colorbar": {
              "outlinewidth": 0,
              "ticks": ""
             }
            },
            "marker": {
             "colorbar": {
              "outlinewidth": 0,
              "ticks": ""
             }
            },
            "type": "scatter3d"
           }
          ],
          "scattercarpet": [
           {
            "marker": {
             "colorbar": {
              "outlinewidth": 0,
              "ticks": ""
             }
            },
            "type": "scattercarpet"
           }
          ],
          "scattergeo": [
           {
            "marker": {
             "colorbar": {
              "outlinewidth": 0,
              "ticks": ""
             }
            },
            "type": "scattergeo"
           }
          ],
          "scattergl": [
           {
            "marker": {
             "colorbar": {
              "outlinewidth": 0,
              "ticks": ""
             }
            },
            "type": "scattergl"
           }
          ],
          "scattermapbox": [
           {
            "marker": {
             "colorbar": {
              "outlinewidth": 0,
              "ticks": ""
             }
            },
            "type": "scattermapbox"
           }
          ],
          "scatterpolar": [
           {
            "marker": {
             "colorbar": {
              "outlinewidth": 0,
              "ticks": ""
             }
            },
            "type": "scatterpolar"
           }
          ],
          "scatterpolargl": [
           {
            "marker": {
             "colorbar": {
              "outlinewidth": 0,
              "ticks": ""
             }
            },
            "type": "scatterpolargl"
           }
          ],
          "scatterternary": [
           {
            "marker": {
             "colorbar": {
              "outlinewidth": 0,
              "ticks": ""
             }
            },
            "type": "scatterternary"
           }
          ],
          "surface": [
           {
            "colorbar": {
             "outlinewidth": 0,
             "ticks": ""
            },
            "colorscale": [
             [
              0,
              "#0d0887"
             ],
             [
              0.1111111111111111,
              "#46039f"
             ],
             [
              0.2222222222222222,
              "#7201a8"
             ],
             [
              0.3333333333333333,
              "#9c179e"
             ],
             [
              0.4444444444444444,
              "#bd3786"
             ],
             [
              0.5555555555555556,
              "#d8576b"
             ],
             [
              0.6666666666666666,
              "#ed7953"
             ],
             [
              0.7777777777777778,
              "#fb9f3a"
             ],
             [
              0.8888888888888888,
              "#fdca26"
             ],
             [
              1,
              "#f0f921"
             ]
            ],
            "type": "surface"
           }
          ],
          "table": [
           {
            "cells": {
             "fill": {
              "color": "#EBF0F8"
             },
             "line": {
              "color": "white"
             }
            },
            "header": {
             "fill": {
              "color": "#C8D4E3"
             },
             "line": {
              "color": "white"
             }
            },
            "type": "table"
           }
          ]
         },
         "layout": {
          "annotationdefaults": {
           "arrowcolor": "#2a3f5f",
           "arrowhead": 0,
           "arrowwidth": 1
          },
          "autotypenumbers": "strict",
          "coloraxis": {
           "colorbar": {
            "outlinewidth": 0,
            "ticks": ""
           }
          },
          "colorscale": {
           "diverging": [
            [
             0,
             "#8e0152"
            ],
            [
             0.1,
             "#c51b7d"
            ],
            [
             0.2,
             "#de77ae"
            ],
            [
             0.3,
             "#f1b6da"
            ],
            [
             0.4,
             "#fde0ef"
            ],
            [
             0.5,
             "#f7f7f7"
            ],
            [
             0.6,
             "#e6f5d0"
            ],
            [
             0.7,
             "#b8e186"
            ],
            [
             0.8,
             "#7fbc41"
            ],
            [
             0.9,
             "#4d9221"
            ],
            [
             1,
             "#276419"
            ]
           ],
           "sequential": [
            [
             0,
             "#0d0887"
            ],
            [
             0.1111111111111111,
             "#46039f"
            ],
            [
             0.2222222222222222,
             "#7201a8"
            ],
            [
             0.3333333333333333,
             "#9c179e"
            ],
            [
             0.4444444444444444,
             "#bd3786"
            ],
            [
             0.5555555555555556,
             "#d8576b"
            ],
            [
             0.6666666666666666,
             "#ed7953"
            ],
            [
             0.7777777777777778,
             "#fb9f3a"
            ],
            [
             0.8888888888888888,
             "#fdca26"
            ],
            [
             1,
             "#f0f921"
            ]
           ],
           "sequentialminus": [
            [
             0,
             "#0d0887"
            ],
            [
             0.1111111111111111,
             "#46039f"
            ],
            [
             0.2222222222222222,
             "#7201a8"
            ],
            [
             0.3333333333333333,
             "#9c179e"
            ],
            [
             0.4444444444444444,
             "#bd3786"
            ],
            [
             0.5555555555555556,
             "#d8576b"
            ],
            [
             0.6666666666666666,
             "#ed7953"
            ],
            [
             0.7777777777777778,
             "#fb9f3a"
            ],
            [
             0.8888888888888888,
             "#fdca26"
            ],
            [
             1,
             "#f0f921"
            ]
           ]
          },
          "colorway": [
           "#636efa",
           "#EF553B",
           "#00cc96",
           "#ab63fa",
           "#FFA15A",
           "#19d3f3",
           "#FF6692",
           "#B6E880",
           "#FF97FF",
           "#FECB52"
          ],
          "font": {
           "color": "#2a3f5f"
          },
          "geo": {
           "bgcolor": "white",
           "lakecolor": "white",
           "landcolor": "#E5ECF6",
           "showlakes": true,
           "showland": true,
           "subunitcolor": "white"
          },
          "hoverlabel": {
           "align": "left"
          },
          "hovermode": "closest",
          "mapbox": {
           "style": "light"
          },
          "paper_bgcolor": "white",
          "plot_bgcolor": "#E5ECF6",
          "polar": {
           "angularaxis": {
            "gridcolor": "white",
            "linecolor": "white",
            "ticks": ""
           },
           "bgcolor": "#E5ECF6",
           "radialaxis": {
            "gridcolor": "white",
            "linecolor": "white",
            "ticks": ""
           }
          },
          "scene": {
           "xaxis": {
            "backgroundcolor": "#E5ECF6",
            "gridcolor": "white",
            "gridwidth": 2,
            "linecolor": "white",
            "showbackground": true,
            "ticks": "",
            "zerolinecolor": "white"
           },
           "yaxis": {
            "backgroundcolor": "#E5ECF6",
            "gridcolor": "white",
            "gridwidth": 2,
            "linecolor": "white",
            "showbackground": true,
            "ticks": "",
            "zerolinecolor": "white"
           },
           "zaxis": {
            "backgroundcolor": "#E5ECF6",
            "gridcolor": "white",
            "gridwidth": 2,
            "linecolor": "white",
            "showbackground": true,
            "ticks": "",
            "zerolinecolor": "white"
           }
          },
          "shapedefaults": {
           "line": {
            "color": "#2a3f5f"
           }
          },
          "ternary": {
           "aaxis": {
            "gridcolor": "white",
            "linecolor": "white",
            "ticks": ""
           },
           "baxis": {
            "gridcolor": "white",
            "linecolor": "white",
            "ticks": ""
           },
           "bgcolor": "#E5ECF6",
           "caxis": {
            "gridcolor": "white",
            "linecolor": "white",
            "ticks": ""
           }
          },
          "title": {
           "x": 0.05
          },
          "xaxis": {
           "automargin": true,
           "gridcolor": "white",
           "linecolor": "white",
           "ticks": "",
           "title": {
            "standoff": 15
           },
           "zerolinecolor": "white",
           "zerolinewidth": 2
          },
          "yaxis": {
           "automargin": true,
           "gridcolor": "white",
           "linecolor": "white",
           "ticks": "",
           "title": {
            "standoff": 15
           },
           "zerolinecolor": "white",
           "zerolinewidth": 2
          }
         }
        },
        "xaxis": {
         "anchor": "y",
         "domain": [
          0,
          1
         ],
         "title": {
          "text": "x"
         }
        },
        "yaxis": {
         "anchor": "x",
         "domain": [
          0,
          1
         ],
         "title": {
          "text": "y"
         }
        }
       }
      },
      "text/html": [
       "<div>                            <div id=\"026206ea-83d9-419b-b191-e1ac6d690fed\" class=\"plotly-graph-div\" style=\"height:525px; width:100%;\"></div>            <script type=\"text/javascript\">                require([\"plotly\"], function(Plotly) {                    window.PLOTLYENV=window.PLOTLYENV || {};                                    if (document.getElementById(\"026206ea-83d9-419b-b191-e1ac6d690fed\")) {                    Plotly.newPlot(                        \"026206ea-83d9-419b-b191-e1ac6d690fed\",                        [{\"hovertemplate\": \"x=%{x}<br>y=%{y}<extra></extra>\", \"legendgroup\": \"\", \"marker\": {\"color\": \"#636efa\", \"symbol\": \"circle\"}, \"mode\": \"markers\", \"name\": \"\", \"orientation\": \"v\", \"showlegend\": false, \"type\": \"scatter\", \"x\": [2.7442929831226763, 3.7285161047597666, 2.870403905279027, 3.3925210899319325, 3.4459154139511234, 2.8068580295188172, 2.574031267727719, 3.5199591807520685, 3.4578818967339924, 2.3324384599156054, 4.039453778961737, 2.8068580295188172, 3.520483532740792, 2.8068580295188172, 3.470704429722788, 2.900913067737669, 3.885530833188092, 2.4885507165004443, 2.4885507165004443, 2.6414741105040997, 3.1942367487238292, 3.000434077479319, 3.307282047033346, 2.4899584794248346, 2.6748611407378116, 3.336859820916809, 4.551340190543342, 3.519302849235429, 2.8686444383948255, 3.519827993775719, 4.039453778961737, 2.403120521175818, 2.938519725176492, 2.7234556720351857, 3.003029470553618, 3.000434077479319, 4.544068044350276, 4.544068044350276, 2.6857417386022635, 3.7023443583557687, 3.775756037844098, 3.3881012015705165, 3.2641091563058082, 2.6127838567197355, 3.837840861655523, 2.294466226161593, 3.7137424784090824, 2.4885507165004443, 3.7137424784090824, 2.4899584794248346, 2.6414741105040997, 4.544068044350276, 2.8068580295188172, 3.9205928620848085, 1.9030899869919435, 3.7137424784090824, 2.938519725176492, 4.357458385645036, 3.9076263048432662, 3.019116290447073, 2.876217840591642, 2.7589118923979736, 4.544068044350276, 3.025715383901341, 3.9076263048432662, 3.000434077479319, 3.256236533205923, 2.225309281725863, 2.682145076373832, 2.7193312869837265, 2.5477747053878224, 2.598790506763115, 3.070037866607755, 2.9469432706978256, 3.2638726768652235, 3.581835924057648, 2.876217840591642, 2.419955748489758, 3.119585774961784, 3.000434077479319, 3.1942367487238292, 3.7567881987681178, 3.317854489331469, 4.544068044350276, 1.7781512503836436, 2.682145076373832, 3.070037866607755, 3.6769678142947586, 3.3881012015705165, 2.2068258760318495, 3.1942367487238292, 3.2638726768652235, 3.062581984228163, 2.6748611407378116, 3.1322596895310446, 3.5199591807520685, 3.1322596895310446, 2.6127838567197355, 3.643945912748067, 3.000434077479319, 3.651762447380111, 2.938519725176492, 2.369215857410143, 2.357934847000454, 2.6127838567197355, 3.3261309567107946, 4.2255935481548, 3.3261309567107946, 4.223755453657241, 3.070037866607755, 3.9696488404807253, 2.9380190974762104, 2.3654879848909, 3.1451964061141817, 3.0773679052841563, 2.5477747053878224, 2.225309281725863, 4.4428872189023485, 4.544068044350276, 3.062581984228163, 3.256236533205923, 2.8068580295188172, 3.1051694279993316, 2.6127838567197355, 2.100370545117563, 2.682145076373832, 4.317958924700952, 2.637489729512511, 3.0318122713303706, 3.070037866607755, 3.520483532740792, 3.143327129992046, 2.7442929831226763, 3.3261309567107946, 3.2638726768652235, 2.586587304671755, 2.8573324964312685, 2.870403905279027, 4.374216605428374, 3.0145205387579237, 3.336859820916809, 4.2954131455196585, 4.544068044350276, 4.544068044350276, 3.9076263048432662, 4.103358939866562, 3.2641091563058082, 2.9804578922761, 3.003029470553618, 2.747411807886423, 3.7758288144646124, 3.274850320016665, 2.7442929831226763, 3.1942367487238292, 3.7758288144646124, 3.1942367487238292, 2.7442929831226763, 2.876217840591642, 2.3283796034387376, 3.000434077479319, 4.544068044350276, 3.519827993775719, 4.14188854970586, 3.037027879755775, 2.6830470382388496, 3.7567881987681178, 3.9076263048432662, 4.374216605428374, 2.419955748489758, 4.357458385645036, 3.2641091563058082, 3.256236533205923, 2.910624404889201, 2.6830470382388496, 2.938519725176492, 2.8750612633917, 1.7781512503836436, 2.938519725176492, 3.1826999033360424, 2.481442628502305, 2.294466226161593, 3.253580289562183, 2.6148972160331345, 3.1942367487238292, 2.6127838567197355, 3.3881012015705165, 4.163578765188774, 3.5341530741850624, 2.8068580295188172, 3.0881360887005513, 2.7442929831226763, 2.7442929831226763, 2.287801729930226, 2.8524799936368566, 2.663700925389648, 2.5514499979728753, 2.574031267727719, 3.3261309567107946, 3.256236533205923, 2.82020145948564, 3.4933186082321015, 3.7019994748896368, 3.6516656039229356, 2.6127838567197355, 3.7480328941301435, 3.062581984228163, 2.6180480967120925, 3.7137424784090824, 2.591064607026499, 4.544068044350276, 3.1319392952104246, 3.000434077479319, 2.637489729512511, 3.3261309567107946, 4.317958924700952, 2.8344207036815328, 3.1942367487238292, 2.8068580295188172, 4.374216605428374, 2.6830470382388496, 4.544068044350276, 2.9304395947667, 4.2954131455196585, 3.1322596895310446, 2.9508514588885464, 3.3261309567107946, 3.2641091563058082, 4.551340190543342, 2.710963118995276, 3.1322596895310446, 3.581835924057648, 2.8068580295188172, 2.5943925503754266, 3.519827993775719, 3.584670384464349, 2.893206753059848, 2.5514499979728753, 3.7480328941301435, 2.940516484932567, 2.9380190974762104, 2.419955748489758, 3.3261309567107946, 3.2095150145426308, 2.419955748489758, 3.083860800866573, 3.070037866607755, 3.7758288144646124, 2.4578818967339924, 3.2543063323312857, 2.419955748489758, 3.3492775274679554, 2.940516484932567, 2.7442929831226763, 3.7866804531966487, 3.2641091563058082, 2.5514499979728753, 3.1319392952104246, 2.428134794028789, 3.256236533205923, 3.4577305482459986, 2.94546858513182, 2.747411807886423, 3.1319392952104246, 4.683182171097453, 2.494154594018443, 3.1319392952104246, 3.2068258760318495, 2.357934847000454, 3.4214393902200495, 3.6516656039229356, 3.7137424784090824, 4.101506496139928, 2.727541257028556, 3.581949658373318, 3.581835924057648, 1.9084850188786497, 2.357934847000454, 2.2068258760318495, 3.1319392952104246, 2.100370545117563, 3.0492180226701815, 3.2538224387080734, 2.94546858513182, 4.544068044350276, 2.681241237375587, 3.775756037844098, 3.775756037844098, 4.069298012115529, 4.163578765188774, 3.643945912748067, 2.9380190974762104, 3.244524511570084, 4.815026229442373, 2.8750612633917, 3.3879234669734366, 2.806179973983887, 2.7442929831226763, 2.9858753573083936, 2.7315887651867388, 2.6127838567197355, 2.9380190974762104, 2.9628426812012423, 2.7589118923979736, 3.000434077479319, 3.274619619091238, 3.3879234669734366, 3.7866804531966487, 3.4577305482459986, 3.5199591807520685, 2.876217840591642, 3.3261309567107946, 3.1319392952104246], \"xaxis\": \"x\", \"y\": [0.5331331479316176, 0.331598411785847, 0.5602335687530464, 0.48700507340338217, 0.4652584989184219, 0.5486312645004128, 0.47358872707677085, 0.4325148404898613, 0.4601521372354893, 0.36167955712510463, 0.18923265600388178, 0.5486312645004128, 0.4322741299250345, 0.5486312645004128, 0.4545951954466566, 0.5642362787543493, 0.2560373849479653, 0.43640597491350197, 0.43640597491350197, 0.49985976764292356, 0.5483938963602502, 0.569917433853363, 0.5175687923913943, 0.4370468114577345, 0.5116388255489499, 0.5076038618408463, 0.048897186862703744, 0.432815984622088, 0.559971157487157, 0.4325750465685226, 0.18923265600388178, 0.39621455135958594, 0.5677236259390356, 0.5271336776069258, 0.5699122061825639, 0.569917433853363, 0.05003333687479018, 0.05003333687479018, 0.5152838739060501, 0.34451478202577535, 0.30840463762029546, 0.48872268272445124, 0.5307624191025939, 0.4890650086973567, 0.2784360229072938, 0.34293984436109654, 0.33888705060022634, 0.43640597491350197, 0.33888705060022634, 0.4370468114577345, 0.49985976764292356, 0.05003333687479018, 0.5486312645004128, 0.24001579480344634, 0.16695507675797785, 0.33888705060022634, 0.5677236259390356, 0.08693775787420477, 0.24589244658006923, 0.5697050662860276, 0.5610763387013731, 0.5370987774530348, 0.05003333687479018, 0.5695331061850389, 0.24589244658006923, 0.569917433853363, 0.5329856958261755, 0.3089248702929248, 0.5140898546871622, 0.525898964553434, 0.462575758522789, 0.4835900527921055, 0.5670719994015837, 0.5682828237171721, 0.5308300451685893, 0.40344888861585215, 0.5610763387013731, 0.4043068026514369, 0.5616613453659766, 0.569917433853363, 0.5483938963602502, 0.31768965471441285, 0.5140899995163812, 0.05003333687479018, 0.1242268938428401, 0.5140898546871622, 0.5670719994015837, 0.3570420294561964, 0.48872268272445124, 0.29992343012818323, 0.5483938963602502, 0.5308300451685893, 0.5676444510708979, 0.5116388255489499, 0.5598349856841245, 0.4325148404898613, 0.5598349856841245, 0.4890650086973567, 0.37329267850644626, 0.569917433853363, 0.36945469850534973, 0.5677236259390356, 0.37973850798280584, 0.37421511709274563, 0.4890650086973567, 0.5113016084858298, 0.12307051205296912, 0.5113016084858298, 0.1236372005505133, 0.5670719994015837, 0.21834681116487098, 0.5676878210372346, 0.3779151704659428, 0.5577882714584359, 0.5664471239098562, 0.462575758522789, 0.3089248702929248, 0.06810699524086733, 0.05003333687479018, 0.5676444510708979, 0.5329856958261755, 0.5486312645004128, 0.5635214252097116, 0.4890650086973567, 0.24954556666458375, 0.5140898546871622, 0.09683675880901885, 0.49839656796288634, 0.5693293081306158, 0.5670719994015837, 0.4322741299250345, 0.5580953274079592, 0.5331331479316176, 0.5113016084858298, 0.5308300451685893, 0.4787093712757276, 0.5582027708815809, 0.5602335687530464, 0.0829700899585035, 0.569794939415591, 0.5076038618408463, 0.10283745459322306, 0.05003333687479018, 0.05003333687479018, 0.24589244658006923, 0.1645551581955849, 0.5307624191025939, 0.5696954968247043, 0.5699122061825639, 0.5339962614385885, 0.3083691041830608, 0.5276363437837852, 0.5331331479316176, 0.5483938963602502, 0.3083691041830608, 0.5483938963602502, 0.5331331479316176, 0.5610763387013731, 0.3596790628237106, 0.569917433853363, 0.05003333687479018, 0.4325750465685226, 0.15065189323778438, 0.5691207607667453, 0.5143903033825229, 0.31768965471441285, 0.24589244658006923, 0.0829700899585035, 0.4043068026514369, 0.08693775787420477, 0.5307624191025939, 0.5329856958261755, 0.5652910167118991, 0.5143903033825229, 0.5677236259390356, 0.5609116669744593, 0.1242268938428401, 0.5677236259390356, 0.5508327509377247, 0.43315782409352144, 0.34293984436109654, 0.533722702879672, 0.48988022385162583, 0.5483938963602502, 0.4890650086973567, 0.48872268272445124, 0.14315747061066203, 0.42596165734242314, 0.5486312645004128, 0.5654179485248745, 0.5331331479316176, 0.5331331479316176, 0.33964934770173716, 0.5574012802569012, 0.5077994157468632, 0.46414106343396444, 0.47358872707677085, 0.5113016084858298, 0.5329856958261755, 0.5514242239464394, 0.44459415000725766, 0.34468508998074776, 0.369502289023823, 0.4890650086973567, 0.32198952879191295, 0.5676444510708979, 0.4910898683669013, 0.33888705060022634, 0.4805112852405133, 0.05003333687479018, 0.5598833437218089, 0.569917433853363, 0.49839656796288634, 0.5113016084858298, 0.09683675880901885, 0.5541944765605687, 0.5483938963602502, 0.5486312645004128, 0.0829700899585035, 0.5143903033825229, 0.05003333687479018, 0.5671105690058162, 0.10283745459322306, 0.5598349856841245, 0.5685144968778153, 0.5113016084858298, 0.5307624191025939, 0.048897186862703744, 0.5233468439772783, 0.5598349856841245, 0.40344888861585215, 0.5486312645004128, 0.4818422549034728, 0.4325750465685226, 0.40208998858427064, 0.5633235437575934, 0.46414106343396444, 0.32198952879191295, 0.5678635671451497, 0.5676878210372346, 0.4043068026514369, 0.5113016084858298, 0.5449528627824888, 0.4043068026514369, 0.5658423651738265, 0.5670719994015837, 0.3083691041830608, 0.42225181544579826, 0.5335219152860762, 0.4043068026514369, 0.5032098142667845, 0.5678635671451497, 0.5331331479316176, 0.3030796472392943, 0.5307624191025939, 0.46414106343396444, 0.5598833437218089, 0.4082124697645776, 0.5329856958261755, 0.460217209489056, 0.5681908280984032, 0.5339962614385885, 0.5598833437218089, 0.031644711959441164, 0.4389520066441108, 0.5598833437218089, 0.5455757984594888, 0.37421511709274563, 0.47544718941332564, 0.369502289023823, 0.33888705060022634, 0.1652424131295381, 0.5283415493093483, 0.4033944010244103, 0.40344888861585215, 0.16897864548922123, 0.37421511709274563, 0.29992343012818323, 0.5598833437218089, 0.24954556666458375, 0.56851053198906, 0.5336557917879092, 0.5681908280984032, 0.05003333687479018, 0.5137881010487007, 0.30840463762029546, 0.30840463762029546, 0.17746240666882934, 0.14315747061066203, 0.37329267850644626, 0.5676878210372346, 0.5361849745063395, 0.01976554857801585, 0.5609116669744593, 0.4887914710096676, 0.5484843955738387, 0.5331331479316176, 0.5698015330944161, 0.529523105726815, 0.4890650086973567, 0.5676878210372346, 0.5691151843043015, 0.5370987774530348, 0.569917433853363, 0.5277045980794174, 0.4887914710096676, 0.3030796472392943, 0.460217209489056, 0.4325148404898613, 0.5610763387013731, 0.5113016084858298, 0.5598833437218089], \"yaxis\": \"y\"}],                        {\"legend\": {\"tracegroupgap\": 0}, \"margin\": {\"t\": 60}, \"template\": {\"data\": {\"bar\": [{\"error_x\": {\"color\": \"#2a3f5f\"}, \"error_y\": {\"color\": \"#2a3f5f\"}, \"marker\": {\"line\": {\"color\": \"#E5ECF6\", \"width\": 0.5}}, \"type\": \"bar\"}], \"barpolar\": [{\"marker\": {\"line\": {\"color\": \"#E5ECF6\", \"width\": 0.5}}, \"type\": \"barpolar\"}], \"carpet\": [{\"aaxis\": {\"endlinecolor\": \"#2a3f5f\", \"gridcolor\": \"white\", \"linecolor\": \"white\", \"minorgridcolor\": \"white\", \"startlinecolor\": \"#2a3f5f\"}, \"baxis\": {\"endlinecolor\": \"#2a3f5f\", \"gridcolor\": \"white\", \"linecolor\": \"white\", \"minorgridcolor\": \"white\", \"startlinecolor\": \"#2a3f5f\"}, \"type\": \"carpet\"}], \"choropleth\": [{\"colorbar\": {\"outlinewidth\": 0, \"ticks\": \"\"}, \"type\": \"choropleth\"}], \"contour\": [{\"colorbar\": {\"outlinewidth\": 0, \"ticks\": \"\"}, \"colorscale\": [[0.0, \"#0d0887\"], [0.1111111111111111, \"#46039f\"], [0.2222222222222222, \"#7201a8\"], [0.3333333333333333, \"#9c179e\"], [0.4444444444444444, \"#bd3786\"], [0.5555555555555556, \"#d8576b\"], [0.6666666666666666, \"#ed7953\"], [0.7777777777777778, \"#fb9f3a\"], [0.8888888888888888, \"#fdca26\"], [1.0, \"#f0f921\"]], \"type\": \"contour\"}], \"contourcarpet\": [{\"colorbar\": {\"outlinewidth\": 0, \"ticks\": \"\"}, \"type\": \"contourcarpet\"}], \"heatmap\": [{\"colorbar\": {\"outlinewidth\": 0, \"ticks\": \"\"}, \"colorscale\": [[0.0, \"#0d0887\"], [0.1111111111111111, \"#46039f\"], [0.2222222222222222, \"#7201a8\"], [0.3333333333333333, \"#9c179e\"], [0.4444444444444444, \"#bd3786\"], [0.5555555555555556, \"#d8576b\"], [0.6666666666666666, \"#ed7953\"], [0.7777777777777778, \"#fb9f3a\"], [0.8888888888888888, \"#fdca26\"], [1.0, \"#f0f921\"]], \"type\": \"heatmap\"}], \"heatmapgl\": [{\"colorbar\": {\"outlinewidth\": 0, \"ticks\": \"\"}, \"colorscale\": [[0.0, \"#0d0887\"], [0.1111111111111111, \"#46039f\"], [0.2222222222222222, \"#7201a8\"], [0.3333333333333333, \"#9c179e\"], [0.4444444444444444, \"#bd3786\"], [0.5555555555555556, \"#d8576b\"], [0.6666666666666666, \"#ed7953\"], [0.7777777777777778, \"#fb9f3a\"], [0.8888888888888888, \"#fdca26\"], [1.0, \"#f0f921\"]], \"type\": \"heatmapgl\"}], \"histogram\": [{\"marker\": {\"colorbar\": {\"outlinewidth\": 0, \"ticks\": \"\"}}, \"type\": \"histogram\"}], \"histogram2d\": [{\"colorbar\": {\"outlinewidth\": 0, \"ticks\": \"\"}, \"colorscale\": [[0.0, \"#0d0887\"], [0.1111111111111111, \"#46039f\"], [0.2222222222222222, \"#7201a8\"], [0.3333333333333333, \"#9c179e\"], [0.4444444444444444, \"#bd3786\"], [0.5555555555555556, \"#d8576b\"], [0.6666666666666666, \"#ed7953\"], [0.7777777777777778, \"#fb9f3a\"], [0.8888888888888888, \"#fdca26\"], [1.0, \"#f0f921\"]], \"type\": \"histogram2d\"}], \"histogram2dcontour\": [{\"colorbar\": {\"outlinewidth\": 0, \"ticks\": \"\"}, \"colorscale\": [[0.0, \"#0d0887\"], [0.1111111111111111, \"#46039f\"], [0.2222222222222222, \"#7201a8\"], [0.3333333333333333, \"#9c179e\"], [0.4444444444444444, \"#bd3786\"], [0.5555555555555556, \"#d8576b\"], [0.6666666666666666, \"#ed7953\"], [0.7777777777777778, \"#fb9f3a\"], [0.8888888888888888, \"#fdca26\"], [1.0, \"#f0f921\"]], \"type\": \"histogram2dcontour\"}], \"mesh3d\": [{\"colorbar\": {\"outlinewidth\": 0, \"ticks\": \"\"}, \"type\": \"mesh3d\"}], \"parcoords\": [{\"line\": {\"colorbar\": {\"outlinewidth\": 0, \"ticks\": \"\"}}, \"type\": \"parcoords\"}], \"pie\": [{\"automargin\": true, \"type\": \"pie\"}], \"scatter\": [{\"marker\": {\"colorbar\": {\"outlinewidth\": 0, \"ticks\": \"\"}}, \"type\": \"scatter\"}], \"scatter3d\": [{\"line\": {\"colorbar\": {\"outlinewidth\": 0, \"ticks\": \"\"}}, \"marker\": {\"colorbar\": {\"outlinewidth\": 0, \"ticks\": \"\"}}, \"type\": \"scatter3d\"}], \"scattercarpet\": [{\"marker\": {\"colorbar\": {\"outlinewidth\": 0, \"ticks\": \"\"}}, \"type\": \"scattercarpet\"}], \"scattergeo\": [{\"marker\": {\"colorbar\": {\"outlinewidth\": 0, \"ticks\": \"\"}}, \"type\": \"scattergeo\"}], \"scattergl\": [{\"marker\": {\"colorbar\": {\"outlinewidth\": 0, \"ticks\": \"\"}}, \"type\": \"scattergl\"}], \"scattermapbox\": [{\"marker\": {\"colorbar\": {\"outlinewidth\": 0, \"ticks\": \"\"}}, \"type\": \"scattermapbox\"}], \"scatterpolar\": [{\"marker\": {\"colorbar\": {\"outlinewidth\": 0, \"ticks\": \"\"}}, \"type\": \"scatterpolar\"}], \"scatterpolargl\": [{\"marker\": {\"colorbar\": {\"outlinewidth\": 0, \"ticks\": \"\"}}, \"type\": \"scatterpolargl\"}], \"scatterternary\": [{\"marker\": {\"colorbar\": {\"outlinewidth\": 0, \"ticks\": \"\"}}, \"type\": \"scatterternary\"}], \"surface\": [{\"colorbar\": {\"outlinewidth\": 0, \"ticks\": \"\"}, \"colorscale\": [[0.0, \"#0d0887\"], [0.1111111111111111, \"#46039f\"], [0.2222222222222222, \"#7201a8\"], [0.3333333333333333, \"#9c179e\"], [0.4444444444444444, \"#bd3786\"], [0.5555555555555556, \"#d8576b\"], [0.6666666666666666, \"#ed7953\"], [0.7777777777777778, \"#fb9f3a\"], [0.8888888888888888, \"#fdca26\"], [1.0, \"#f0f921\"]], \"type\": \"surface\"}], \"table\": [{\"cells\": {\"fill\": {\"color\": \"#EBF0F8\"}, \"line\": {\"color\": \"white\"}}, \"header\": {\"fill\": {\"color\": \"#C8D4E3\"}, \"line\": {\"color\": \"white\"}}, \"type\": \"table\"}]}, \"layout\": {\"annotationdefaults\": {\"arrowcolor\": \"#2a3f5f\", \"arrowhead\": 0, \"arrowwidth\": 1}, \"autotypenumbers\": \"strict\", \"coloraxis\": {\"colorbar\": {\"outlinewidth\": 0, \"ticks\": \"\"}}, \"colorscale\": {\"diverging\": [[0, \"#8e0152\"], [0.1, \"#c51b7d\"], [0.2, \"#de77ae\"], [0.3, \"#f1b6da\"], [0.4, \"#fde0ef\"], [0.5, \"#f7f7f7\"], [0.6, \"#e6f5d0\"], [0.7, \"#b8e186\"], [0.8, \"#7fbc41\"], [0.9, \"#4d9221\"], [1, \"#276419\"]], \"sequential\": [[0.0, \"#0d0887\"], [0.1111111111111111, \"#46039f\"], [0.2222222222222222, \"#7201a8\"], [0.3333333333333333, \"#9c179e\"], [0.4444444444444444, \"#bd3786\"], [0.5555555555555556, \"#d8576b\"], [0.6666666666666666, \"#ed7953\"], [0.7777777777777778, \"#fb9f3a\"], [0.8888888888888888, \"#fdca26\"], [1.0, \"#f0f921\"]], \"sequentialminus\": [[0.0, \"#0d0887\"], [0.1111111111111111, \"#46039f\"], [0.2222222222222222, \"#7201a8\"], [0.3333333333333333, \"#9c179e\"], [0.4444444444444444, \"#bd3786\"], [0.5555555555555556, \"#d8576b\"], [0.6666666666666666, \"#ed7953\"], [0.7777777777777778, \"#fb9f3a\"], [0.8888888888888888, \"#fdca26\"], [1.0, \"#f0f921\"]]}, \"colorway\": [\"#636efa\", \"#EF553B\", \"#00cc96\", \"#ab63fa\", \"#FFA15A\", \"#19d3f3\", \"#FF6692\", \"#B6E880\", \"#FF97FF\", \"#FECB52\"], \"font\": {\"color\": \"#2a3f5f\"}, \"geo\": {\"bgcolor\": \"white\", \"lakecolor\": \"white\", \"landcolor\": \"#E5ECF6\", \"showlakes\": true, \"showland\": true, \"subunitcolor\": \"white\"}, \"hoverlabel\": {\"align\": \"left\"}, \"hovermode\": \"closest\", \"mapbox\": {\"style\": \"light\"}, \"paper_bgcolor\": \"white\", \"plot_bgcolor\": \"#E5ECF6\", \"polar\": {\"angularaxis\": {\"gridcolor\": \"white\", \"linecolor\": \"white\", \"ticks\": \"\"}, \"bgcolor\": \"#E5ECF6\", \"radialaxis\": {\"gridcolor\": \"white\", \"linecolor\": \"white\", \"ticks\": \"\"}}, \"scene\": {\"xaxis\": {\"backgroundcolor\": \"#E5ECF6\", \"gridcolor\": \"white\", \"gridwidth\": 2, \"linecolor\": \"white\", \"showbackground\": true, \"ticks\": \"\", \"zerolinecolor\": \"white\"}, \"yaxis\": {\"backgroundcolor\": \"#E5ECF6\", \"gridcolor\": \"white\", \"gridwidth\": 2, \"linecolor\": \"white\", \"showbackground\": true, \"ticks\": \"\", \"zerolinecolor\": \"white\"}, \"zaxis\": {\"backgroundcolor\": \"#E5ECF6\", \"gridcolor\": \"white\", \"gridwidth\": 2, \"linecolor\": \"white\", \"showbackground\": true, \"ticks\": \"\", \"zerolinecolor\": \"white\"}}, \"shapedefaults\": {\"line\": {\"color\": \"#2a3f5f\"}}, \"ternary\": {\"aaxis\": {\"gridcolor\": \"white\", \"linecolor\": \"white\", \"ticks\": \"\"}, \"baxis\": {\"gridcolor\": \"white\", \"linecolor\": \"white\", \"ticks\": \"\"}, \"bgcolor\": \"#E5ECF6\", \"caxis\": {\"gridcolor\": \"white\", \"linecolor\": \"white\", \"ticks\": \"\"}}, \"title\": {\"x\": 0.05}, \"xaxis\": {\"automargin\": true, \"gridcolor\": \"white\", \"linecolor\": \"white\", \"ticks\": \"\", \"title\": {\"standoff\": 15}, \"zerolinecolor\": \"white\", \"zerolinewidth\": 2}, \"yaxis\": {\"automargin\": true, \"gridcolor\": \"white\", \"linecolor\": \"white\", \"ticks\": \"\", \"title\": {\"standoff\": 15}, \"zerolinecolor\": \"white\", \"zerolinewidth\": 2}}}, \"xaxis\": {\"anchor\": \"y\", \"domain\": [0.0, 1.0], \"title\": {\"text\": \"x\"}}, \"yaxis\": {\"anchor\": \"x\", \"domain\": [0.0, 1.0], \"title\": {\"text\": \"y\"}}},                        {\"responsive\": true}                    ).then(function(){\n",
       "                            \n",
       "var gd = document.getElementById('026206ea-83d9-419b-b191-e1ac6d690fed');\n",
       "var x = new MutationObserver(function (mutations, observer) {{\n",
       "        var display = window.getComputedStyle(gd).display;\n",
       "        if (!display || display === 'none') {{\n",
       "            console.log([gd, 'removed!']);\n",
       "            Plotly.purge(gd);\n",
       "            observer.disconnect();\n",
       "        }}\n",
       "}});\n",
       "\n",
       "// Listen for the removal of the full notebook cells\n",
       "var notebookContainer = gd.closest('#notebook-container');\n",
       "if (notebookContainer) {{\n",
       "    x.observe(notebookContainer, {childList: true});\n",
       "}}\n",
       "\n",
       "// Listen for the clearing of the current output cell\n",
       "var outputEl = gd.closest('.output');\n",
       "if (outputEl) {{\n",
       "    x.observe(outputEl, {childList: true});\n",
       "}}\n",
       "\n",
       "                        })                };                });            </script>        </div>"
      ]
     },
     "metadata": {},
     "output_type": "display_data"
    }
   ],
   "source": [
    "px.scatter(x = y_train, y = weights)"
   ]
  },
  {
   "cell_type": "code",
   "execution_count": 390,
   "id": "weighted-nicholas",
   "metadata": {},
   "outputs": [],
   "source": [
    "# Fit models\n",
    "lower_model.fit(X_train, y_train, sample_weight =weights)\n",
    "mid_model.fit(X_train, y_train, sample_weight =weights)\n",
    "upper_model.fit(X_train, y_train, sample_weight =weights)# Record actual values on test set\n",
    "\n",
    "predictions = pd.DataFrame(y_test)# Predict\n",
    "\n",
    "predictions['lower'] = lower_model.predict(X_test)\n",
    "predictions['mid'] = mid_model.predict(X_test)\n",
    "predictions['upper'] = upper_model.predict(X_test)"
   ]
  },
  {
   "cell_type": "code",
   "execution_count": 391,
   "id": "psychological-watershed",
   "metadata": {},
   "outputs": [],
   "source": [
    "predictions[\"Nummer\"] = range(len(predictions))"
   ]
  },
  {
   "cell_type": "code",
   "execution_count": 392,
   "id": "laughing-yemen",
   "metadata": {},
   "outputs": [
    {
     "data": {
      "application/vnd.plotly.v1+json": {
       "config": {
        "plotlyServerURL": "https://plot.ly"
       },
       "data": [
        {
         "line": {
          "color": "rgba(68, 68, 68, 1)",
          "width": 0.5
         },
         "mode": "lines",
         "name": "Unteres Vorhersageintervall",
         "type": "scatter",
         "x": [
          0,
          1,
          2,
          3,
          4,
          5,
          6,
          7,
          8,
          9,
          10,
          11,
          12,
          13,
          14,
          15,
          16,
          17,
          18,
          19,
          20,
          21,
          22,
          23,
          24,
          25,
          26,
          27,
          28,
          29,
          30,
          31,
          32,
          33,
          34,
          35,
          36,
          37,
          38,
          39,
          40,
          41,
          42,
          43,
          44,
          45,
          46,
          47,
          48,
          49,
          50,
          51,
          52,
          53,
          54,
          55,
          56,
          57,
          58,
          59,
          60,
          61,
          62,
          63,
          64,
          65,
          66,
          67,
          68,
          69,
          70,
          71,
          72,
          73,
          74,
          75,
          76,
          77
         ],
         "y": [
          2.5071966895933095,
          2.532202584239848,
          2.524951968139351,
          2.4493656584123538,
          2.274340226336134,
          2.5626331518054175,
          2.28047258877359,
          2.548164464455843,
          2.5405672757177693,
          2.6064628118405158,
          2.488747243979718,
          2.5201136750774054,
          2.4713033889822724,
          2.413306197338095,
          2.5499358755411436,
          2.5405672757177693,
          2.5405672757177693,
          2.594416424267003,
          2.4131284579704864,
          2.6064628118405158,
          2.594416424267003,
          2.4876741384855774,
          2.3467609861389547,
          2.4407151391364335,
          2.535974402654267,
          2.5096047474426615,
          2.4310833361253503,
          2.488550877268717,
          2.581478904438724,
          2.4735239949984753,
          2.2878043884713843,
          2.4267716524611074,
          2.511252193059827,
          2.6064628118405158,
          2.456800240902354,
          2.4905799306654415,
          2.535362159581432,
          2.449339155668104,
          2.4809585774884755,
          2.5514647524843608,
          2.9320836745400345,
          2.415731231734641,
          2.594416424267003,
          2.456800240902354,
          2.594416424267003,
          2.4931510124605185,
          2.452045935325359,
          2.4899590348607816,
          2.413306197338095,
          2.5103782521796405,
          2.3467609861389547,
          2.4936101367039334,
          2.473332285943782,
          2.5831063441198343,
          2.5626331518054175,
          2.594416424267003,
          2.6064628118405158,
          2.4119948942312788,
          2.4147558976515966,
          2.3697981593073654,
          2.6064628118405158,
          2.5499358755411436,
          2.451778539797294,
          2.415731231734641,
          2.535974402654267,
          2.594416424267003,
          2.6064628118405158,
          2.4230146490839775,
          2.594416424267003,
          2.4931510124605185,
          2.473332285943782,
          2.488747243979718,
          2.5211657338715097,
          2.594416424267003,
          2.452045935325359,
          2.4332401082853203,
          2.4407151391364335,
          2.5211657338715097
         ]
        },
        {
         "fillcolor": "rgba(68, 68, 68, 0.1)",
         "line": {
          "color": "rgb(0, 86, 110)",
          "width": 2
         },
         "marker": {
          "color": "rgb(0, 86, 110)"
         },
         "mode": "lines",
         "name": "Vorhergesagter Mittelwert",
         "type": "scatter",
         "x": [
          0,
          1,
          2,
          3,
          4,
          5,
          6,
          7,
          8,
          9,
          10,
          11,
          12,
          13,
          14,
          15,
          16,
          17,
          18,
          19,
          20,
          21,
          22,
          23,
          24,
          25,
          26,
          27,
          28,
          29,
          30,
          31,
          32,
          33,
          34,
          35,
          36,
          37,
          38,
          39,
          40,
          41,
          42,
          43,
          44,
          45,
          46,
          47,
          48,
          49,
          50,
          51,
          52,
          53,
          54,
          55,
          56,
          57,
          58,
          59,
          60,
          61,
          62,
          63,
          64,
          65,
          66,
          67,
          68,
          69,
          70,
          71,
          72,
          73,
          74,
          75,
          76,
          77
         ],
         "y": [
          3.8891358070429223,
          3.2556536275372077,
          2.865289736468582,
          3.0262563475963087,
          2.5628223949619384,
          2.723201254225563,
          2.445157557889697,
          2.75623807798895,
          3.53151700170854,
          3.75278493979088,
          3.2396628109679275,
          3.029968286991482,
          3.0172696000075994,
          2.609280791641922,
          3.236993484732761,
          3.854620931227093,
          3.53151700170854,
          2.9544479301608355,
          2.999479113499582,
          3.2478828149746666,
          3.0935073073343724,
          2.943144191347485,
          2.540551398758816,
          3.4575749024103053,
          3.0670476038064973,
          4.052712749202248,
          2.756442493238052,
          3.041849054202699,
          3.796834660938981,
          3.9404108645452114,
          2.3837713900710003,
          3.3475098355728647,
          3.4789370650208773,
          3.2478828149746666,
          3.17530052267335,
          2.8379121892726142,
          3.1173600055590724,
          2.492582580268503,
          4.033314994698704,
          3.012802496224378,
          4.453139778931696,
          3.305581296548386,
          3.02757414990059,
          3.0280276503632857,
          2.99209503765613,
          3.44078810651611,
          2.6843465268041045,
          2.8170317824007296,
          2.609280791641922,
          2.6829869230938703,
          2.540551398758816,
          3.513229694498373,
          4.226079847268423,
          3.7152543316638598,
          2.723201254225563,
          2.88411759317978,
          3.6086741227338353,
          2.8877436547015862,
          2.9280689102340105,
          2.735212747140552,
          3.75278493979088,
          3.211546979395226,
          3.9303468661188745,
          3.363576129870589,
          3.0670476038064973,
          2.9544479301608355,
          2.8827981749105027,
          3.1472783721197213,
          3.147699204171836,
          3.44078810651611,
          4.226079847268423,
          2.8515817623683364,
          3.0768122389445187,
          2.950144089332126,
          3.023859674028195,
          2.7446309490443803,
          3.4685466449447113,
          3.0768122389445187
         ]
        },
        {
         "fillcolor": "rgba(68, 68, 68, 1)",
         "line": {
          "color": "rgba(68, 68, 68, 1)",
          "width": 0.5
         },
         "mode": "lines",
         "name": "Oberes Vorhersageintervall",
         "type": "scatter",
         "x": [
          0,
          1,
          2,
          3,
          4,
          5,
          6,
          7,
          8,
          9,
          10,
          11,
          12,
          13,
          14,
          15,
          16,
          17,
          18,
          19,
          20,
          21,
          22,
          23,
          24,
          25,
          26,
          27,
          28,
          29,
          30,
          31,
          32,
          33,
          34,
          35,
          36,
          37,
          38,
          39,
          40,
          41,
          42,
          43,
          44,
          45,
          46,
          47,
          48,
          49,
          50,
          51,
          52,
          53,
          54,
          55,
          56,
          57,
          58,
          59,
          60,
          61,
          62,
          63,
          64,
          65,
          66,
          67,
          68,
          69,
          70,
          71,
          72,
          73,
          74,
          75,
          76,
          77
         ],
         "y": [
          4.329029261918396,
          3.7628425201242424,
          3.7179616103790307,
          3.7859509661126935,
          3.571840481592548,
          3.571840481592548,
          3.571840481592548,
          3.571840481592548,
          3.736141354621455,
          3.749983212948056,
          3.7179616103790307,
          3.571840481592548,
          3.773304441497533,
          3.571840481592548,
          3.7179616103790307,
          3.906831914382545,
          3.736141354621455,
          3.571840481592548,
          3.5944022371286026,
          3.571840481592548,
          3.571840481592548,
          3.571840481592548,
          3.571840481592548,
          3.749983212948056,
          3.571840481592548,
          4.260634742205526,
          3.7179616103790307,
          3.571840481592548,
          3.7180315660933445,
          4.065647526072744,
          3.571840481592548,
          3.594082201734925,
          3.804658412067897,
          3.571840481592548,
          4.025617062308174,
          3.571840481592548,
          3.7179616103790307,
          3.571840481592548,
          4.6454308610615405,
          3.904182435375418,
          4.71229728644999,
          3.929570894469691,
          3.7131803968437236,
          3.7915821827247873,
          3.571840481592548,
          3.7131803968437236,
          3.571840481592548,
          3.571840481592548,
          3.571840481592548,
          3.7179616103790307,
          3.571840481592548,
          3.7179616103790307,
          4.510085921378479,
          3.753732176216606,
          3.571840481592548,
          3.571840481592548,
          3.7758288125315635,
          3.7179616103790307,
          3.6989288110001484,
          3.571840481592548,
          3.749983212948056,
          3.571840481592548,
          3.8447481602118962,
          3.7309504135691736,
          3.571840481592548,
          3.571840481592548,
          3.571840481592548,
          3.749983212948056,
          3.571840481592548,
          3.7131803968437236,
          4.510085921378479,
          3.7179616103790307,
          3.571840481592548,
          3.571840481592548,
          3.653039444429723,
          3.571840481592548,
          3.749983212948056,
          3.571840481592548
         ]
        },
        {
         "fillcolor": "rgba(68, 68, 68, 0.1)",
         "line": {
          "color": "red",
          "width": 2
         },
         "marker": {
          "color": "orange",
          "opacity": 0.8,
          "size": 8
         },
         "mode": "markers",
         "name": "Vorhergesagter Mittelwert",
         "type": "scatter",
         "x": [
          0,
          1,
          2,
          3,
          4,
          5,
          6,
          7,
          8,
          9,
          10,
          11,
          12,
          13,
          14,
          15,
          16,
          17,
          18,
          19,
          20,
          21,
          22,
          23,
          24,
          25,
          26,
          27,
          28,
          29,
          30,
          31,
          32,
          33,
          34,
          35,
          36,
          37,
          38,
          39,
          40,
          41,
          42,
          43,
          44,
          45,
          46,
          47,
          48,
          49,
          50,
          51,
          52,
          53,
          54,
          55,
          56,
          57,
          58,
          59,
          60,
          61,
          62,
          63,
          64,
          65,
          66,
          67,
          68,
          69,
          70,
          71,
          72,
          73,
          74,
          75,
          76,
          77
         ],
         "y": [
          3.643945912748067,
          3.000434077479319,
          2.5943925503754266,
          4.544068044350276,
          2.4885507165004443,
          2.5477747053878224,
          3.1942367487238292,
          2.287801729930226,
          3.651762447380111,
          4.16354896490181,
          2.7442929831226763,
          2.155336037465062,
          2.7442929831226763,
          2.481442628502305,
          3.325925955771466,
          3.3261309567107946,
          3.6534054906645013,
          3.1743505974793798,
          2.7867514221455614,
          3.4500950758716025,
          2.3324384599156054,
          2.3961993470957363,
          3.000434077479319,
          3.3879234669734366,
          2.164352855784437,
          4.544068044350276,
          2.503790683057181,
          3.651762447380111,
          3.2643455070500926,
          3.325925955771466,
          2.247973266361807,
          3.651762447380111,
          2.938519725176492,
          3.070037866607755,
          2.884795363948981,
          2.6127838567197355,
          3.775756037844098,
          2.8068580295188172,
          3.8516863154424277,
          2.663700925389648,
          4.101540872558349,
          4.544068044350276,
          2.7589118923979736,
          3.2638726768652235,
          3.3261309567107946,
          3.1942367487238292,
          2.938519725176492,
          3.1942367487238292,
          2.041392685158225,
          3.7137424784090824,
          2.7442929831226763,
          2.9800033715837464,
          4.101506496139928,
          2.4183012913197452,
          2.5514499979728753,
          2.4899584794248346,
          3.3283796034387376,
          2.2528530309798933,
          2.682145076373832,
          2.7442929831226763,
          3.7285161047597666,
          2.893206753059848,
          3.9076263048432662,
          3.6516656039229356,
          2.7781512503836434,
          3.2641091563058082,
          2.7972675408307164,
          2.9380190974762104,
          3.0729847446279304,
          3.1300119496719043,
          3.070037866607755,
          2.682145076373832,
          3.584670384464349,
          3.2641091563058082,
          2.403120521175818,
          2.6748611407378116,
          2.8432327780980096,
          3.3881012015705165
         ]
        }
       ],
       "layout": {
        "template": {
         "data": {
          "bar": [
           {
            "error_x": {
             "color": "#2a3f5f"
            },
            "error_y": {
             "color": "#2a3f5f"
            },
            "marker": {
             "line": {
              "color": "#E5ECF6",
              "width": 0.5
             }
            },
            "type": "bar"
           }
          ],
          "barpolar": [
           {
            "marker": {
             "line": {
              "color": "#E5ECF6",
              "width": 0.5
             }
            },
            "type": "barpolar"
           }
          ],
          "carpet": [
           {
            "aaxis": {
             "endlinecolor": "#2a3f5f",
             "gridcolor": "white",
             "linecolor": "white",
             "minorgridcolor": "white",
             "startlinecolor": "#2a3f5f"
            },
            "baxis": {
             "endlinecolor": "#2a3f5f",
             "gridcolor": "white",
             "linecolor": "white",
             "minorgridcolor": "white",
             "startlinecolor": "#2a3f5f"
            },
            "type": "carpet"
           }
          ],
          "choropleth": [
           {
            "colorbar": {
             "outlinewidth": 0,
             "ticks": ""
            },
            "type": "choropleth"
           }
          ],
          "contour": [
           {
            "colorbar": {
             "outlinewidth": 0,
             "ticks": ""
            },
            "colorscale": [
             [
              0,
              "#0d0887"
             ],
             [
              0.1111111111111111,
              "#46039f"
             ],
             [
              0.2222222222222222,
              "#7201a8"
             ],
             [
              0.3333333333333333,
              "#9c179e"
             ],
             [
              0.4444444444444444,
              "#bd3786"
             ],
             [
              0.5555555555555556,
              "#d8576b"
             ],
             [
              0.6666666666666666,
              "#ed7953"
             ],
             [
              0.7777777777777778,
              "#fb9f3a"
             ],
             [
              0.8888888888888888,
              "#fdca26"
             ],
             [
              1,
              "#f0f921"
             ]
            ],
            "type": "contour"
           }
          ],
          "contourcarpet": [
           {
            "colorbar": {
             "outlinewidth": 0,
             "ticks": ""
            },
            "type": "contourcarpet"
           }
          ],
          "heatmap": [
           {
            "colorbar": {
             "outlinewidth": 0,
             "ticks": ""
            },
            "colorscale": [
             [
              0,
              "#0d0887"
             ],
             [
              0.1111111111111111,
              "#46039f"
             ],
             [
              0.2222222222222222,
              "#7201a8"
             ],
             [
              0.3333333333333333,
              "#9c179e"
             ],
             [
              0.4444444444444444,
              "#bd3786"
             ],
             [
              0.5555555555555556,
              "#d8576b"
             ],
             [
              0.6666666666666666,
              "#ed7953"
             ],
             [
              0.7777777777777778,
              "#fb9f3a"
             ],
             [
              0.8888888888888888,
              "#fdca26"
             ],
             [
              1,
              "#f0f921"
             ]
            ],
            "type": "heatmap"
           }
          ],
          "heatmapgl": [
           {
            "colorbar": {
             "outlinewidth": 0,
             "ticks": ""
            },
            "colorscale": [
             [
              0,
              "#0d0887"
             ],
             [
              0.1111111111111111,
              "#46039f"
             ],
             [
              0.2222222222222222,
              "#7201a8"
             ],
             [
              0.3333333333333333,
              "#9c179e"
             ],
             [
              0.4444444444444444,
              "#bd3786"
             ],
             [
              0.5555555555555556,
              "#d8576b"
             ],
             [
              0.6666666666666666,
              "#ed7953"
             ],
             [
              0.7777777777777778,
              "#fb9f3a"
             ],
             [
              0.8888888888888888,
              "#fdca26"
             ],
             [
              1,
              "#f0f921"
             ]
            ],
            "type": "heatmapgl"
           }
          ],
          "histogram": [
           {
            "marker": {
             "colorbar": {
              "outlinewidth": 0,
              "ticks": ""
             }
            },
            "type": "histogram"
           }
          ],
          "histogram2d": [
           {
            "colorbar": {
             "outlinewidth": 0,
             "ticks": ""
            },
            "colorscale": [
             [
              0,
              "#0d0887"
             ],
             [
              0.1111111111111111,
              "#46039f"
             ],
             [
              0.2222222222222222,
              "#7201a8"
             ],
             [
              0.3333333333333333,
              "#9c179e"
             ],
             [
              0.4444444444444444,
              "#bd3786"
             ],
             [
              0.5555555555555556,
              "#d8576b"
             ],
             [
              0.6666666666666666,
              "#ed7953"
             ],
             [
              0.7777777777777778,
              "#fb9f3a"
             ],
             [
              0.8888888888888888,
              "#fdca26"
             ],
             [
              1,
              "#f0f921"
             ]
            ],
            "type": "histogram2d"
           }
          ],
          "histogram2dcontour": [
           {
            "colorbar": {
             "outlinewidth": 0,
             "ticks": ""
            },
            "colorscale": [
             [
              0,
              "#0d0887"
             ],
             [
              0.1111111111111111,
              "#46039f"
             ],
             [
              0.2222222222222222,
              "#7201a8"
             ],
             [
              0.3333333333333333,
              "#9c179e"
             ],
             [
              0.4444444444444444,
              "#bd3786"
             ],
             [
              0.5555555555555556,
              "#d8576b"
             ],
             [
              0.6666666666666666,
              "#ed7953"
             ],
             [
              0.7777777777777778,
              "#fb9f3a"
             ],
             [
              0.8888888888888888,
              "#fdca26"
             ],
             [
              1,
              "#f0f921"
             ]
            ],
            "type": "histogram2dcontour"
           }
          ],
          "mesh3d": [
           {
            "colorbar": {
             "outlinewidth": 0,
             "ticks": ""
            },
            "type": "mesh3d"
           }
          ],
          "parcoords": [
           {
            "line": {
             "colorbar": {
              "outlinewidth": 0,
              "ticks": ""
             }
            },
            "type": "parcoords"
           }
          ],
          "pie": [
           {
            "automargin": true,
            "type": "pie"
           }
          ],
          "scatter": [
           {
            "marker": {
             "colorbar": {
              "outlinewidth": 0,
              "ticks": ""
             }
            },
            "type": "scatter"
           }
          ],
          "scatter3d": [
           {
            "line": {
             "colorbar": {
              "outlinewidth": 0,
              "ticks": ""
             }
            },
            "marker": {
             "colorbar": {
              "outlinewidth": 0,
              "ticks": ""
             }
            },
            "type": "scatter3d"
           }
          ],
          "scattercarpet": [
           {
            "marker": {
             "colorbar": {
              "outlinewidth": 0,
              "ticks": ""
             }
            },
            "type": "scattercarpet"
           }
          ],
          "scattergeo": [
           {
            "marker": {
             "colorbar": {
              "outlinewidth": 0,
              "ticks": ""
             }
            },
            "type": "scattergeo"
           }
          ],
          "scattergl": [
           {
            "marker": {
             "colorbar": {
              "outlinewidth": 0,
              "ticks": ""
             }
            },
            "type": "scattergl"
           }
          ],
          "scattermapbox": [
           {
            "marker": {
             "colorbar": {
              "outlinewidth": 0,
              "ticks": ""
             }
            },
            "type": "scattermapbox"
           }
          ],
          "scatterpolar": [
           {
            "marker": {
             "colorbar": {
              "outlinewidth": 0,
              "ticks": ""
             }
            },
            "type": "scatterpolar"
           }
          ],
          "scatterpolargl": [
           {
            "marker": {
             "colorbar": {
              "outlinewidth": 0,
              "ticks": ""
             }
            },
            "type": "scatterpolargl"
           }
          ],
          "scatterternary": [
           {
            "marker": {
             "colorbar": {
              "outlinewidth": 0,
              "ticks": ""
             }
            },
            "type": "scatterternary"
           }
          ],
          "surface": [
           {
            "colorbar": {
             "outlinewidth": 0,
             "ticks": ""
            },
            "colorscale": [
             [
              0,
              "#0d0887"
             ],
             [
              0.1111111111111111,
              "#46039f"
             ],
             [
              0.2222222222222222,
              "#7201a8"
             ],
             [
              0.3333333333333333,
              "#9c179e"
             ],
             [
              0.4444444444444444,
              "#bd3786"
             ],
             [
              0.5555555555555556,
              "#d8576b"
             ],
             [
              0.6666666666666666,
              "#ed7953"
             ],
             [
              0.7777777777777778,
              "#fb9f3a"
             ],
             [
              0.8888888888888888,
              "#fdca26"
             ],
             [
              1,
              "#f0f921"
             ]
            ],
            "type": "surface"
           }
          ],
          "table": [
           {
            "cells": {
             "fill": {
              "color": "#EBF0F8"
             },
             "line": {
              "color": "white"
             }
            },
            "header": {
             "fill": {
              "color": "#C8D4E3"
             },
             "line": {
              "color": "white"
             }
            },
            "type": "table"
           }
          ]
         },
         "layout": {
          "annotationdefaults": {
           "arrowcolor": "#2a3f5f",
           "arrowhead": 0,
           "arrowwidth": 1
          },
          "autotypenumbers": "strict",
          "coloraxis": {
           "colorbar": {
            "outlinewidth": 0,
            "ticks": ""
           }
          },
          "colorscale": {
           "diverging": [
            [
             0,
             "#8e0152"
            ],
            [
             0.1,
             "#c51b7d"
            ],
            [
             0.2,
             "#de77ae"
            ],
            [
             0.3,
             "#f1b6da"
            ],
            [
             0.4,
             "#fde0ef"
            ],
            [
             0.5,
             "#f7f7f7"
            ],
            [
             0.6,
             "#e6f5d0"
            ],
            [
             0.7,
             "#b8e186"
            ],
            [
             0.8,
             "#7fbc41"
            ],
            [
             0.9,
             "#4d9221"
            ],
            [
             1,
             "#276419"
            ]
           ],
           "sequential": [
            [
             0,
             "#0d0887"
            ],
            [
             0.1111111111111111,
             "#46039f"
            ],
            [
             0.2222222222222222,
             "#7201a8"
            ],
            [
             0.3333333333333333,
             "#9c179e"
            ],
            [
             0.4444444444444444,
             "#bd3786"
            ],
            [
             0.5555555555555556,
             "#d8576b"
            ],
            [
             0.6666666666666666,
             "#ed7953"
            ],
            [
             0.7777777777777778,
             "#fb9f3a"
            ],
            [
             0.8888888888888888,
             "#fdca26"
            ],
            [
             1,
             "#f0f921"
            ]
           ],
           "sequentialminus": [
            [
             0,
             "#0d0887"
            ],
            [
             0.1111111111111111,
             "#46039f"
            ],
            [
             0.2222222222222222,
             "#7201a8"
            ],
            [
             0.3333333333333333,
             "#9c179e"
            ],
            [
             0.4444444444444444,
             "#bd3786"
            ],
            [
             0.5555555555555556,
             "#d8576b"
            ],
            [
             0.6666666666666666,
             "#ed7953"
            ],
            [
             0.7777777777777778,
             "#fb9f3a"
            ],
            [
             0.8888888888888888,
             "#fdca26"
            ],
            [
             1,
             "#f0f921"
            ]
           ]
          },
          "colorway": [
           "#636efa",
           "#EF553B",
           "#00cc96",
           "#ab63fa",
           "#FFA15A",
           "#19d3f3",
           "#FF6692",
           "#B6E880",
           "#FF97FF",
           "#FECB52"
          ],
          "font": {
           "color": "#2a3f5f"
          },
          "geo": {
           "bgcolor": "white",
           "lakecolor": "white",
           "landcolor": "#E5ECF6",
           "showlakes": true,
           "showland": true,
           "subunitcolor": "white"
          },
          "hoverlabel": {
           "align": "left"
          },
          "hovermode": "closest",
          "mapbox": {
           "style": "light"
          },
          "paper_bgcolor": "white",
          "plot_bgcolor": "#E5ECF6",
          "polar": {
           "angularaxis": {
            "gridcolor": "white",
            "linecolor": "white",
            "ticks": ""
           },
           "bgcolor": "#E5ECF6",
           "radialaxis": {
            "gridcolor": "white",
            "linecolor": "white",
            "ticks": ""
           }
          },
          "scene": {
           "xaxis": {
            "backgroundcolor": "#E5ECF6",
            "gridcolor": "white",
            "gridwidth": 2,
            "linecolor": "white",
            "showbackground": true,
            "ticks": "",
            "zerolinecolor": "white"
           },
           "yaxis": {
            "backgroundcolor": "#E5ECF6",
            "gridcolor": "white",
            "gridwidth": 2,
            "linecolor": "white",
            "showbackground": true,
            "ticks": "",
            "zerolinecolor": "white"
           },
           "zaxis": {
            "backgroundcolor": "#E5ECF6",
            "gridcolor": "white",
            "gridwidth": 2,
            "linecolor": "white",
            "showbackground": true,
            "ticks": "",
            "zerolinecolor": "white"
           }
          },
          "shapedefaults": {
           "line": {
            "color": "#2a3f5f"
           }
          },
          "ternary": {
           "aaxis": {
            "gridcolor": "white",
            "linecolor": "white",
            "ticks": ""
           },
           "baxis": {
            "gridcolor": "white",
            "linecolor": "white",
            "ticks": ""
           },
           "bgcolor": "#E5ECF6",
           "caxis": {
            "gridcolor": "white",
            "linecolor": "white",
            "ticks": ""
           }
          },
          "title": {
           "x": 0.05
          },
          "xaxis": {
           "automargin": true,
           "gridcolor": "white",
           "linecolor": "white",
           "ticks": "",
           "title": {
            "standoff": 15
           },
           "zerolinecolor": "white",
           "zerolinewidth": 2
          },
          "yaxis": {
           "automargin": true,
           "gridcolor": "white",
           "linecolor": "white",
           "ticks": "",
           "title": {
            "standoff": 15
           },
           "zerolinecolor": "white",
           "zerolinewidth": 2
          }
         }
        },
        "title": {
         "text": "Vorhergesagte E.coli Konzentration seit Beginn der Badesaison 2020"
        },
        "yaxis": {
         "title": {
          "text": "E.coli lg [MPN/100ML), showlegend = True"
         }
        }
       }
      },
      "text/html": [
       "<div>                            <div id=\"c5dba018-62d2-4adc-8478-f1e9e52a2d79\" class=\"plotly-graph-div\" style=\"height:525px; width:100%;\"></div>            <script type=\"text/javascript\">                require([\"plotly\"], function(Plotly) {                    window.PLOTLYENV=window.PLOTLYENV || {};                                    if (document.getElementById(\"c5dba018-62d2-4adc-8478-f1e9e52a2d79\")) {                    Plotly.newPlot(                        \"c5dba018-62d2-4adc-8478-f1e9e52a2d79\",                        [{\"line\": {\"color\": \"rgba(68, 68, 68, 1)\", \"width\": 0.5}, \"mode\": \"lines\", \"name\": \"Unteres Vorhersageintervall\", \"type\": \"scatter\", \"x\": [0, 1, 2, 3, 4, 5, 6, 7, 8, 9, 10, 11, 12, 13, 14, 15, 16, 17, 18, 19, 20, 21, 22, 23, 24, 25, 26, 27, 28, 29, 30, 31, 32, 33, 34, 35, 36, 37, 38, 39, 40, 41, 42, 43, 44, 45, 46, 47, 48, 49, 50, 51, 52, 53, 54, 55, 56, 57, 58, 59, 60, 61, 62, 63, 64, 65, 66, 67, 68, 69, 70, 71, 72, 73, 74, 75, 76, 77], \"y\": [2.5071966895933095, 2.532202584239848, 2.524951968139351, 2.4493656584123538, 2.274340226336134, 2.5626331518054175, 2.28047258877359, 2.548164464455843, 2.5405672757177693, 2.6064628118405158, 2.488747243979718, 2.5201136750774054, 2.4713033889822724, 2.413306197338095, 2.5499358755411436, 2.5405672757177693, 2.5405672757177693, 2.594416424267003, 2.4131284579704864, 2.6064628118405158, 2.594416424267003, 2.4876741384855774, 2.3467609861389547, 2.4407151391364335, 2.535974402654267, 2.5096047474426615, 2.4310833361253503, 2.488550877268717, 2.581478904438724, 2.4735239949984753, 2.2878043884713843, 2.4267716524611074, 2.511252193059827, 2.6064628118405158, 2.456800240902354, 2.4905799306654415, 2.535362159581432, 2.449339155668104, 2.4809585774884755, 2.5514647524843608, 2.9320836745400345, 2.415731231734641, 2.594416424267003, 2.456800240902354, 2.594416424267003, 2.4931510124605185, 2.452045935325359, 2.4899590348607816, 2.413306197338095, 2.5103782521796405, 2.3467609861389547, 2.4936101367039334, 2.473332285943782, 2.5831063441198343, 2.5626331518054175, 2.594416424267003, 2.6064628118405158, 2.4119948942312788, 2.4147558976515966, 2.3697981593073654, 2.6064628118405158, 2.5499358755411436, 2.451778539797294, 2.415731231734641, 2.535974402654267, 2.594416424267003, 2.6064628118405158, 2.4230146490839775, 2.594416424267003, 2.4931510124605185, 2.473332285943782, 2.488747243979718, 2.5211657338715097, 2.594416424267003, 2.452045935325359, 2.4332401082853203, 2.4407151391364335, 2.5211657338715097]}, {\"fillcolor\": \"rgba(68, 68, 68, 0.1)\", \"line\": {\"color\": \"rgb(0, 86, 110)\", \"width\": 2}, \"marker\": {\"color\": \"rgb(0, 86, 110)\"}, \"mode\": \"lines\", \"name\": \"Vorhergesagter Mittelwert\", \"type\": \"scatter\", \"x\": [0, 1, 2, 3, 4, 5, 6, 7, 8, 9, 10, 11, 12, 13, 14, 15, 16, 17, 18, 19, 20, 21, 22, 23, 24, 25, 26, 27, 28, 29, 30, 31, 32, 33, 34, 35, 36, 37, 38, 39, 40, 41, 42, 43, 44, 45, 46, 47, 48, 49, 50, 51, 52, 53, 54, 55, 56, 57, 58, 59, 60, 61, 62, 63, 64, 65, 66, 67, 68, 69, 70, 71, 72, 73, 74, 75, 76, 77], \"y\": [3.8891358070429223, 3.2556536275372077, 2.865289736468582, 3.0262563475963087, 2.5628223949619384, 2.723201254225563, 2.445157557889697, 2.75623807798895, 3.53151700170854, 3.75278493979088, 3.2396628109679275, 3.029968286991482, 3.0172696000075994, 2.609280791641922, 3.236993484732761, 3.854620931227093, 3.53151700170854, 2.9544479301608355, 2.999479113499582, 3.2478828149746666, 3.0935073073343724, 2.943144191347485, 2.540551398758816, 3.4575749024103053, 3.0670476038064973, 4.052712749202248, 2.756442493238052, 3.041849054202699, 3.796834660938981, 3.9404108645452114, 2.3837713900710003, 3.3475098355728647, 3.4789370650208773, 3.2478828149746666, 3.17530052267335, 2.8379121892726142, 3.1173600055590724, 2.492582580268503, 4.033314994698704, 3.012802496224378, 4.453139778931696, 3.305581296548386, 3.02757414990059, 3.0280276503632857, 2.99209503765613, 3.44078810651611, 2.6843465268041045, 2.8170317824007296, 2.609280791641922, 2.6829869230938703, 2.540551398758816, 3.513229694498373, 4.226079847268423, 3.7152543316638598, 2.723201254225563, 2.88411759317978, 3.6086741227338353, 2.8877436547015862, 2.9280689102340105, 2.735212747140552, 3.75278493979088, 3.211546979395226, 3.9303468661188745, 3.363576129870589, 3.0670476038064973, 2.9544479301608355, 2.8827981749105027, 3.1472783721197213, 3.147699204171836, 3.44078810651611, 4.226079847268423, 2.8515817623683364, 3.0768122389445187, 2.950144089332126, 3.023859674028195, 2.7446309490443803, 3.4685466449447113, 3.0768122389445187]}, {\"fillcolor\": \"rgba(68, 68, 68, 1)\", \"line\": {\"color\": \"rgba(68, 68, 68, 1)\", \"width\": 0.5}, \"mode\": \"lines\", \"name\": \"Oberes Vorhersageintervall\", \"type\": \"scatter\", \"x\": [0, 1, 2, 3, 4, 5, 6, 7, 8, 9, 10, 11, 12, 13, 14, 15, 16, 17, 18, 19, 20, 21, 22, 23, 24, 25, 26, 27, 28, 29, 30, 31, 32, 33, 34, 35, 36, 37, 38, 39, 40, 41, 42, 43, 44, 45, 46, 47, 48, 49, 50, 51, 52, 53, 54, 55, 56, 57, 58, 59, 60, 61, 62, 63, 64, 65, 66, 67, 68, 69, 70, 71, 72, 73, 74, 75, 76, 77], \"y\": [4.329029261918396, 3.7628425201242424, 3.7179616103790307, 3.7859509661126935, 3.571840481592548, 3.571840481592548, 3.571840481592548, 3.571840481592548, 3.736141354621455, 3.749983212948056, 3.7179616103790307, 3.571840481592548, 3.773304441497533, 3.571840481592548, 3.7179616103790307, 3.906831914382545, 3.736141354621455, 3.571840481592548, 3.5944022371286026, 3.571840481592548, 3.571840481592548, 3.571840481592548, 3.571840481592548, 3.749983212948056, 3.571840481592548, 4.260634742205526, 3.7179616103790307, 3.571840481592548, 3.7180315660933445, 4.065647526072744, 3.571840481592548, 3.594082201734925, 3.804658412067897, 3.571840481592548, 4.025617062308174, 3.571840481592548, 3.7179616103790307, 3.571840481592548, 4.6454308610615405, 3.904182435375418, 4.71229728644999, 3.929570894469691, 3.7131803968437236, 3.7915821827247873, 3.571840481592548, 3.7131803968437236, 3.571840481592548, 3.571840481592548, 3.571840481592548, 3.7179616103790307, 3.571840481592548, 3.7179616103790307, 4.510085921378479, 3.753732176216606, 3.571840481592548, 3.571840481592548, 3.7758288125315635, 3.7179616103790307, 3.6989288110001484, 3.571840481592548, 3.749983212948056, 3.571840481592548, 3.8447481602118962, 3.7309504135691736, 3.571840481592548, 3.571840481592548, 3.571840481592548, 3.749983212948056, 3.571840481592548, 3.7131803968437236, 4.510085921378479, 3.7179616103790307, 3.571840481592548, 3.571840481592548, 3.653039444429723, 3.571840481592548, 3.749983212948056, 3.571840481592548]}, {\"fillcolor\": \"rgba(68, 68, 68, 0.1)\", \"line\": {\"color\": \"red\", \"width\": 2}, \"marker\": {\"color\": \"orange\", \"opacity\": 0.8, \"size\": 8}, \"mode\": \"markers\", \"name\": \"Vorhergesagter Mittelwert\", \"type\": \"scatter\", \"x\": [0, 1, 2, 3, 4, 5, 6, 7, 8, 9, 10, 11, 12, 13, 14, 15, 16, 17, 18, 19, 20, 21, 22, 23, 24, 25, 26, 27, 28, 29, 30, 31, 32, 33, 34, 35, 36, 37, 38, 39, 40, 41, 42, 43, 44, 45, 46, 47, 48, 49, 50, 51, 52, 53, 54, 55, 56, 57, 58, 59, 60, 61, 62, 63, 64, 65, 66, 67, 68, 69, 70, 71, 72, 73, 74, 75, 76, 77], \"y\": [3.643945912748067, 3.000434077479319, 2.5943925503754266, 4.544068044350276, 2.4885507165004443, 2.5477747053878224, 3.1942367487238292, 2.287801729930226, 3.651762447380111, 4.16354896490181, 2.7442929831226763, 2.155336037465062, 2.7442929831226763, 2.481442628502305, 3.325925955771466, 3.3261309567107946, 3.6534054906645013, 3.1743505974793798, 2.7867514221455614, 3.4500950758716025, 2.3324384599156054, 2.3961993470957363, 3.000434077479319, 3.3879234669734366, 2.164352855784437, 4.544068044350276, 2.503790683057181, 3.651762447380111, 3.2643455070500926, 3.325925955771466, 2.247973266361807, 3.651762447380111, 2.938519725176492, 3.070037866607755, 2.884795363948981, 2.6127838567197355, 3.775756037844098, 2.8068580295188172, 3.8516863154424277, 2.663700925389648, 4.101540872558349, 4.544068044350276, 2.7589118923979736, 3.2638726768652235, 3.3261309567107946, 3.1942367487238292, 2.938519725176492, 3.1942367487238292, 2.041392685158225, 3.7137424784090824, 2.7442929831226763, 2.9800033715837464, 4.101506496139928, 2.4183012913197452, 2.5514499979728753, 2.4899584794248346, 3.3283796034387376, 2.2528530309798933, 2.682145076373832, 2.7442929831226763, 3.7285161047597666, 2.893206753059848, 3.9076263048432662, 3.6516656039229356, 2.7781512503836434, 3.2641091563058082, 2.7972675408307164, 2.9380190974762104, 3.0729847446279304, 3.1300119496719043, 3.070037866607755, 2.682145076373832, 3.584670384464349, 3.2641091563058082, 2.403120521175818, 2.6748611407378116, 2.8432327780980096, 3.3881012015705165]}],                        {\"template\": {\"data\": {\"bar\": [{\"error_x\": {\"color\": \"#2a3f5f\"}, \"error_y\": {\"color\": \"#2a3f5f\"}, \"marker\": {\"line\": {\"color\": \"#E5ECF6\", \"width\": 0.5}}, \"type\": \"bar\"}], \"barpolar\": [{\"marker\": {\"line\": {\"color\": \"#E5ECF6\", \"width\": 0.5}}, \"type\": \"barpolar\"}], \"carpet\": [{\"aaxis\": {\"endlinecolor\": \"#2a3f5f\", \"gridcolor\": \"white\", \"linecolor\": \"white\", \"minorgridcolor\": \"white\", \"startlinecolor\": \"#2a3f5f\"}, \"baxis\": {\"endlinecolor\": \"#2a3f5f\", \"gridcolor\": \"white\", \"linecolor\": \"white\", \"minorgridcolor\": \"white\", \"startlinecolor\": \"#2a3f5f\"}, \"type\": \"carpet\"}], \"choropleth\": [{\"colorbar\": {\"outlinewidth\": 0, \"ticks\": \"\"}, \"type\": \"choropleth\"}], \"contour\": [{\"colorbar\": {\"outlinewidth\": 0, \"ticks\": \"\"}, \"colorscale\": [[0.0, \"#0d0887\"], [0.1111111111111111, \"#46039f\"], [0.2222222222222222, \"#7201a8\"], [0.3333333333333333, \"#9c179e\"], [0.4444444444444444, \"#bd3786\"], [0.5555555555555556, \"#d8576b\"], [0.6666666666666666, \"#ed7953\"], [0.7777777777777778, \"#fb9f3a\"], [0.8888888888888888, \"#fdca26\"], [1.0, \"#f0f921\"]], \"type\": \"contour\"}], \"contourcarpet\": [{\"colorbar\": {\"outlinewidth\": 0, \"ticks\": \"\"}, \"type\": \"contourcarpet\"}], \"heatmap\": [{\"colorbar\": {\"outlinewidth\": 0, \"ticks\": \"\"}, \"colorscale\": [[0.0, \"#0d0887\"], [0.1111111111111111, \"#46039f\"], [0.2222222222222222, \"#7201a8\"], [0.3333333333333333, \"#9c179e\"], [0.4444444444444444, \"#bd3786\"], [0.5555555555555556, \"#d8576b\"], [0.6666666666666666, \"#ed7953\"], [0.7777777777777778, \"#fb9f3a\"], [0.8888888888888888, \"#fdca26\"], [1.0, \"#f0f921\"]], \"type\": \"heatmap\"}], \"heatmapgl\": [{\"colorbar\": {\"outlinewidth\": 0, \"ticks\": \"\"}, \"colorscale\": [[0.0, \"#0d0887\"], [0.1111111111111111, \"#46039f\"], [0.2222222222222222, \"#7201a8\"], [0.3333333333333333, \"#9c179e\"], [0.4444444444444444, \"#bd3786\"], [0.5555555555555556, \"#d8576b\"], [0.6666666666666666, \"#ed7953\"], [0.7777777777777778, \"#fb9f3a\"], [0.8888888888888888, \"#fdca26\"], [1.0, \"#f0f921\"]], \"type\": \"heatmapgl\"}], \"histogram\": [{\"marker\": {\"colorbar\": {\"outlinewidth\": 0, \"ticks\": \"\"}}, \"type\": \"histogram\"}], \"histogram2d\": [{\"colorbar\": {\"outlinewidth\": 0, \"ticks\": \"\"}, \"colorscale\": [[0.0, \"#0d0887\"], [0.1111111111111111, \"#46039f\"], [0.2222222222222222, \"#7201a8\"], [0.3333333333333333, \"#9c179e\"], [0.4444444444444444, \"#bd3786\"], [0.5555555555555556, \"#d8576b\"], [0.6666666666666666, \"#ed7953\"], [0.7777777777777778, \"#fb9f3a\"], [0.8888888888888888, \"#fdca26\"], [1.0, \"#f0f921\"]], \"type\": \"histogram2d\"}], \"histogram2dcontour\": [{\"colorbar\": {\"outlinewidth\": 0, \"ticks\": \"\"}, \"colorscale\": [[0.0, \"#0d0887\"], [0.1111111111111111, \"#46039f\"], [0.2222222222222222, \"#7201a8\"], [0.3333333333333333, \"#9c179e\"], [0.4444444444444444, \"#bd3786\"], [0.5555555555555556, \"#d8576b\"], [0.6666666666666666, \"#ed7953\"], [0.7777777777777778, \"#fb9f3a\"], [0.8888888888888888, \"#fdca26\"], [1.0, \"#f0f921\"]], \"type\": \"histogram2dcontour\"}], \"mesh3d\": [{\"colorbar\": {\"outlinewidth\": 0, \"ticks\": \"\"}, \"type\": \"mesh3d\"}], \"parcoords\": [{\"line\": {\"colorbar\": {\"outlinewidth\": 0, \"ticks\": \"\"}}, \"type\": \"parcoords\"}], \"pie\": [{\"automargin\": true, \"type\": \"pie\"}], \"scatter\": [{\"marker\": {\"colorbar\": {\"outlinewidth\": 0, \"ticks\": \"\"}}, \"type\": \"scatter\"}], \"scatter3d\": [{\"line\": {\"colorbar\": {\"outlinewidth\": 0, \"ticks\": \"\"}}, \"marker\": {\"colorbar\": {\"outlinewidth\": 0, \"ticks\": \"\"}}, \"type\": \"scatter3d\"}], \"scattercarpet\": [{\"marker\": {\"colorbar\": {\"outlinewidth\": 0, \"ticks\": \"\"}}, \"type\": \"scattercarpet\"}], \"scattergeo\": [{\"marker\": {\"colorbar\": {\"outlinewidth\": 0, \"ticks\": \"\"}}, \"type\": \"scattergeo\"}], \"scattergl\": [{\"marker\": {\"colorbar\": {\"outlinewidth\": 0, \"ticks\": \"\"}}, \"type\": \"scattergl\"}], \"scattermapbox\": [{\"marker\": {\"colorbar\": {\"outlinewidth\": 0, \"ticks\": \"\"}}, \"type\": \"scattermapbox\"}], \"scatterpolar\": [{\"marker\": {\"colorbar\": {\"outlinewidth\": 0, \"ticks\": \"\"}}, \"type\": \"scatterpolar\"}], \"scatterpolargl\": [{\"marker\": {\"colorbar\": {\"outlinewidth\": 0, \"ticks\": \"\"}}, \"type\": \"scatterpolargl\"}], \"scatterternary\": [{\"marker\": {\"colorbar\": {\"outlinewidth\": 0, \"ticks\": \"\"}}, \"type\": \"scatterternary\"}], \"surface\": [{\"colorbar\": {\"outlinewidth\": 0, \"ticks\": \"\"}, \"colorscale\": [[0.0, \"#0d0887\"], [0.1111111111111111, \"#46039f\"], [0.2222222222222222, \"#7201a8\"], [0.3333333333333333, \"#9c179e\"], [0.4444444444444444, \"#bd3786\"], [0.5555555555555556, \"#d8576b\"], [0.6666666666666666, \"#ed7953\"], [0.7777777777777778, \"#fb9f3a\"], [0.8888888888888888, \"#fdca26\"], [1.0, \"#f0f921\"]], \"type\": \"surface\"}], \"table\": [{\"cells\": {\"fill\": {\"color\": \"#EBF0F8\"}, \"line\": {\"color\": \"white\"}}, \"header\": {\"fill\": {\"color\": \"#C8D4E3\"}, \"line\": {\"color\": \"white\"}}, \"type\": \"table\"}]}, \"layout\": {\"annotationdefaults\": {\"arrowcolor\": \"#2a3f5f\", \"arrowhead\": 0, \"arrowwidth\": 1}, \"autotypenumbers\": \"strict\", \"coloraxis\": {\"colorbar\": {\"outlinewidth\": 0, \"ticks\": \"\"}}, \"colorscale\": {\"diverging\": [[0, \"#8e0152\"], [0.1, \"#c51b7d\"], [0.2, \"#de77ae\"], [0.3, \"#f1b6da\"], [0.4, \"#fde0ef\"], [0.5, \"#f7f7f7\"], [0.6, \"#e6f5d0\"], [0.7, \"#b8e186\"], [0.8, \"#7fbc41\"], [0.9, \"#4d9221\"], [1, \"#276419\"]], \"sequential\": [[0.0, \"#0d0887\"], [0.1111111111111111, \"#46039f\"], [0.2222222222222222, \"#7201a8\"], [0.3333333333333333, \"#9c179e\"], [0.4444444444444444, \"#bd3786\"], [0.5555555555555556, \"#d8576b\"], [0.6666666666666666, \"#ed7953\"], [0.7777777777777778, \"#fb9f3a\"], [0.8888888888888888, \"#fdca26\"], [1.0, \"#f0f921\"]], \"sequentialminus\": [[0.0, \"#0d0887\"], [0.1111111111111111, \"#46039f\"], [0.2222222222222222, \"#7201a8\"], [0.3333333333333333, \"#9c179e\"], [0.4444444444444444, \"#bd3786\"], [0.5555555555555556, \"#d8576b\"], [0.6666666666666666, \"#ed7953\"], [0.7777777777777778, \"#fb9f3a\"], [0.8888888888888888, \"#fdca26\"], [1.0, \"#f0f921\"]]}, \"colorway\": [\"#636efa\", \"#EF553B\", \"#00cc96\", \"#ab63fa\", \"#FFA15A\", \"#19d3f3\", \"#FF6692\", \"#B6E880\", \"#FF97FF\", \"#FECB52\"], \"font\": {\"color\": \"#2a3f5f\"}, \"geo\": {\"bgcolor\": \"white\", \"lakecolor\": \"white\", \"landcolor\": \"#E5ECF6\", \"showlakes\": true, \"showland\": true, \"subunitcolor\": \"white\"}, \"hoverlabel\": {\"align\": \"left\"}, \"hovermode\": \"closest\", \"mapbox\": {\"style\": \"light\"}, \"paper_bgcolor\": \"white\", \"plot_bgcolor\": \"#E5ECF6\", \"polar\": {\"angularaxis\": {\"gridcolor\": \"white\", \"linecolor\": \"white\", \"ticks\": \"\"}, \"bgcolor\": \"#E5ECF6\", \"radialaxis\": {\"gridcolor\": \"white\", \"linecolor\": \"white\", \"ticks\": \"\"}}, \"scene\": {\"xaxis\": {\"backgroundcolor\": \"#E5ECF6\", \"gridcolor\": \"white\", \"gridwidth\": 2, \"linecolor\": \"white\", \"showbackground\": true, \"ticks\": \"\", \"zerolinecolor\": \"white\"}, \"yaxis\": {\"backgroundcolor\": \"#E5ECF6\", \"gridcolor\": \"white\", \"gridwidth\": 2, \"linecolor\": \"white\", \"showbackground\": true, \"ticks\": \"\", \"zerolinecolor\": \"white\"}, \"zaxis\": {\"backgroundcolor\": \"#E5ECF6\", \"gridcolor\": \"white\", \"gridwidth\": 2, \"linecolor\": \"white\", \"showbackground\": true, \"ticks\": \"\", \"zerolinecolor\": \"white\"}}, \"shapedefaults\": {\"line\": {\"color\": \"#2a3f5f\"}}, \"ternary\": {\"aaxis\": {\"gridcolor\": \"white\", \"linecolor\": \"white\", \"ticks\": \"\"}, \"baxis\": {\"gridcolor\": \"white\", \"linecolor\": \"white\", \"ticks\": \"\"}, \"bgcolor\": \"#E5ECF6\", \"caxis\": {\"gridcolor\": \"white\", \"linecolor\": \"white\", \"ticks\": \"\"}}, \"title\": {\"x\": 0.05}, \"xaxis\": {\"automargin\": true, \"gridcolor\": \"white\", \"linecolor\": \"white\", \"ticks\": \"\", \"title\": {\"standoff\": 15}, \"zerolinecolor\": \"white\", \"zerolinewidth\": 2}, \"yaxis\": {\"automargin\": true, \"gridcolor\": \"white\", \"linecolor\": \"white\", \"ticks\": \"\", \"title\": {\"standoff\": 15}, \"zerolinecolor\": \"white\", \"zerolinewidth\": 2}}}, \"title\": {\"text\": \"Vorhergesagte E.coli Konzentration seit Beginn der Badesaison 2020\"}, \"yaxis\": {\"title\": {\"text\": \"E.coli lg [MPN/100ML), showlegend = True\"}}},                        {\"responsive\": true}                    ).then(function(){\n",
       "                            \n",
       "var gd = document.getElementById('c5dba018-62d2-4adc-8478-f1e9e52a2d79');\n",
       "var x = new MutationObserver(function (mutations, observer) {{\n",
       "        var display = window.getComputedStyle(gd).display;\n",
       "        if (!display || display === 'none') {{\n",
       "            console.log([gd, 'removed!']);\n",
       "            Plotly.purge(gd);\n",
       "            observer.disconnect();\n",
       "        }}\n",
       "}});\n",
       "\n",
       "// Listen for the removal of the full notebook cells\n",
       "var notebookContainer = gd.closest('#notebook-container');\n",
       "if (notebookContainer) {{\n",
       "    x.observe(notebookContainer, {childList: true});\n",
       "}}\n",
       "\n",
       "// Listen for the clearing of the current output cell\n",
       "var outputEl = gd.closest('.output');\n",
       "if (outputEl) {{\n",
       "    x.observe(outputEl, {childList: true});\n",
       "}}\n",
       "\n",
       "                        })                };                });            </script>        </div>"
      ]
     },
     "metadata": {},
     "output_type": "display_data"
    }
   ],
   "source": [
    "import plotly.graph_objects as go\n",
    "\n",
    "upper_bound = go.Scatter(name=\"Oberes Vorhersageintervall\",\n",
    "x= predictions[\"Nummer\"],\n",
    "y=predictions[\"upper\"],\n",
    "mode=\"lines\",\n",
    "line=dict(width=0.5, color=\"rgba(68, 68, 68, 1)\"),\n",
    "fillcolor=\"rgba(68, 68, 68, 1)\")#, fill=\"tonexty\")\n",
    "\n",
    "mean = go.Scatter(name=\"Vorhergesagter Mittelwert\",\n",
    "x= predictions[\"Nummer\"],\n",
    "y=predictions[\"mid\"],\n",
    "marker = dict(color = \"rgb(0, 86, 110)\"),\n",
    "mode=\"lines\",\n",
    "line=dict(width=2, color= \"rgb(0, 86, 110)\"),\n",
    "fillcolor=\"rgba(68, 68, 68, 0.1)\")#, fill=\"tonexty\")\n",
    "\n",
    "measurements = go.Scatter(name=\"Vorhergesagter Mittelwert\",\n",
    "x= predictions[\"Nummer\"],\n",
    "y=predictions[\"value\"],\n",
    "marker = dict(color = \"orange\", size = 8, opacity = .8),\n",
    "mode=\"markers\",\n",
    "line=dict(width=2, color= \"red\"),\n",
    "fillcolor=\"rgba(68, 68, 68, 0.1)\")#, fill=\"tonexty\")\n",
    "\n",
    "\n",
    "\n",
    "lower_bound = go.Scatter(name=\"Unteres Vorhersageintervall\",\n",
    "x= predictions[\"Nummer\"],\n",
    "y=predictions[\"lower\"],\n",
    "mode=\"lines\",\n",
    "line=dict(width=0.5, color=\"rgba(68, 68, 68, 1)\"))\n",
    "\n",
    "data = [lower_bound, mean, upper_bound, measurements]\n",
    "\n",
    "layout=go.Layout(title='Vorhergesagte E.coli Konzentration seit Beginn der Badesaison 2020',\n",
    "yaxis=dict(title=\"E.coli lg [MPN/100ML), showlegend = True\"))\n",
    "\n",
    "fig=go.Figure(data=data, layout = layout)\n",
    "#fig.update_layout(legend=dict(\n",
    "#    yanchor=\"top\",\n",
    "#    title=None,\n",
    "#    y=0.99,\n",
    "#    xanchor=\"left\",\n",
    "#    x=0.01\n",
    "#))\n",
    "\n",
    "fig.show()\n",
    "    "
   ]
  },
  {
   "cell_type": "code",
   "execution_count": 393,
   "id": "mature-zealand",
   "metadata": {},
   "outputs": [
    {
     "data": {
      "application/vnd.plotly.v1+json": {
       "config": {
        "plotlyServerURL": "https://plot.ly"
       },
       "data": [
        {
         "hovertemplate": "value=%{x}<br>mid=%{y}<extra></extra>",
         "legendgroup": "",
         "marker": {
          "color": "#212c52",
          "size": 10,
          "symbol": "circle"
         },
         "mode": "markers",
         "name": "",
         "orientation": "v",
         "showlegend": false,
         "type": "scatter",
         "x": [
          3.643945912748067,
          3.000434077479319,
          2.5943925503754266,
          4.544068044350276,
          2.4885507165004443,
          2.5477747053878224,
          3.1942367487238292,
          2.287801729930226,
          3.651762447380111,
          4.16354896490181,
          2.7442929831226763,
          2.155336037465062,
          2.7442929831226763,
          2.481442628502305,
          3.325925955771466,
          3.3261309567107946,
          3.6534054906645013,
          3.1743505974793798,
          2.7867514221455614,
          3.4500950758716025,
          2.3324384599156054,
          2.3961993470957363,
          3.000434077479319,
          3.3879234669734366,
          2.164352855784437,
          4.544068044350276,
          2.503790683057181,
          3.651762447380111,
          3.2643455070500926,
          3.325925955771466,
          2.247973266361807,
          3.651762447380111,
          2.938519725176492,
          3.070037866607755,
          2.884795363948981,
          2.6127838567197355,
          3.775756037844098,
          2.8068580295188172,
          3.8516863154424277,
          2.663700925389648,
          4.101540872558349,
          4.544068044350276,
          2.7589118923979736,
          3.2638726768652235,
          3.3261309567107946,
          3.1942367487238292,
          2.938519725176492,
          3.1942367487238292,
          2.041392685158225,
          3.7137424784090824,
          2.7442929831226763,
          2.9800033715837464,
          4.101506496139928,
          2.4183012913197452,
          2.5514499979728753,
          2.4899584794248346,
          3.3283796034387376,
          2.2528530309798933,
          2.682145076373832,
          2.7442929831226763,
          3.7285161047597666,
          2.893206753059848,
          3.9076263048432662,
          3.6516656039229356,
          2.7781512503836434,
          3.2641091563058082,
          2.7972675408307164,
          2.9380190974762104,
          3.0729847446279304,
          3.1300119496719043,
          3.070037866607755,
          2.682145076373832,
          3.584670384464349,
          3.2641091563058082,
          2.403120521175818,
          2.6748611407378116,
          2.8432327780980096,
          3.3881012015705165
         ],
         "xaxis": "x",
         "y": [
          3.8891358070429223,
          3.2556536275372077,
          2.865289736468582,
          3.0262563475963087,
          2.5628223949619384,
          2.723201254225563,
          2.445157557889697,
          2.75623807798895,
          3.53151700170854,
          3.75278493979088,
          3.2396628109679275,
          3.029968286991482,
          3.0172696000075994,
          2.609280791641922,
          3.236993484732761,
          3.854620931227093,
          3.53151700170854,
          2.9544479301608355,
          2.999479113499582,
          3.2478828149746666,
          3.0935073073343724,
          2.943144191347485,
          2.540551398758816,
          3.4575749024103053,
          3.0670476038064973,
          4.052712749202248,
          2.756442493238052,
          3.041849054202699,
          3.796834660938981,
          3.9404108645452114,
          2.3837713900710003,
          3.3475098355728647,
          3.4789370650208773,
          3.2478828149746666,
          3.17530052267335,
          2.8379121892726142,
          3.1173600055590724,
          2.492582580268503,
          4.033314994698704,
          3.012802496224378,
          4.453139778931696,
          3.305581296548386,
          3.02757414990059,
          3.0280276503632857,
          2.99209503765613,
          3.44078810651611,
          2.6843465268041045,
          2.8170317824007296,
          2.609280791641922,
          2.6829869230938703,
          2.540551398758816,
          3.513229694498373,
          4.226079847268423,
          3.7152543316638598,
          2.723201254225563,
          2.88411759317978,
          3.6086741227338353,
          2.8877436547015862,
          2.9280689102340105,
          2.735212747140552,
          3.75278493979088,
          3.211546979395226,
          3.9303468661188745,
          3.363576129870589,
          3.0670476038064973,
          2.9544479301608355,
          2.8827981749105027,
          3.1472783721197213,
          3.147699204171836,
          3.44078810651611,
          4.226079847268423,
          2.8515817623683364,
          3.0768122389445187,
          2.950144089332126,
          3.023859674028195,
          2.7446309490443803,
          3.4685466449447113,
          3.0768122389445187
         ],
         "yaxis": "y"
        },
        {
         "hovertemplate": "<extra></extra>",
         "legendgroup": "",
         "marker": {
          "color": "#212c52",
          "size": 10,
          "symbol": "circle"
         },
         "mode": "lines",
         "name": "",
         "showlegend": false,
         "type": "scatter",
         "xaxis": "x",
         "yaxis": "y"
        }
       ],
       "layout": {
        "font": {
         "color": "black",
         "family": "Helvetica Neue, Helvetica, Arial, sans-serif"
        },
        "legend": {
         "title": {},
         "tracegroupgap": 0,
         "x": 0.01,
         "xanchor": "left",
         "y": 0.99,
         "yanchor": "top"
        },
        "margin": {
         "t": 60
        },
        "template": {
         "data": {
          "bar": [
           {
            "error_x": {
             "color": "#2a3f5f"
            },
            "error_y": {
             "color": "#2a3f5f"
            },
            "marker": {
             "line": {
              "color": "#E5ECF6",
              "width": 0.5
             }
            },
            "type": "bar"
           }
          ],
          "barpolar": [
           {
            "marker": {
             "line": {
              "color": "#E5ECF6",
              "width": 0.5
             }
            },
            "type": "barpolar"
           }
          ],
          "carpet": [
           {
            "aaxis": {
             "endlinecolor": "#2a3f5f",
             "gridcolor": "white",
             "linecolor": "white",
             "minorgridcolor": "white",
             "startlinecolor": "#2a3f5f"
            },
            "baxis": {
             "endlinecolor": "#2a3f5f",
             "gridcolor": "white",
             "linecolor": "white",
             "minorgridcolor": "white",
             "startlinecolor": "#2a3f5f"
            },
            "type": "carpet"
           }
          ],
          "choropleth": [
           {
            "colorbar": {
             "outlinewidth": 0,
             "ticks": ""
            },
            "type": "choropleth"
           }
          ],
          "contour": [
           {
            "colorbar": {
             "outlinewidth": 0,
             "ticks": ""
            },
            "colorscale": [
             [
              0,
              "#0d0887"
             ],
             [
              0.1111111111111111,
              "#46039f"
             ],
             [
              0.2222222222222222,
              "#7201a8"
             ],
             [
              0.3333333333333333,
              "#9c179e"
             ],
             [
              0.4444444444444444,
              "#bd3786"
             ],
             [
              0.5555555555555556,
              "#d8576b"
             ],
             [
              0.6666666666666666,
              "#ed7953"
             ],
             [
              0.7777777777777778,
              "#fb9f3a"
             ],
             [
              0.8888888888888888,
              "#fdca26"
             ],
             [
              1,
              "#f0f921"
             ]
            ],
            "type": "contour"
           }
          ],
          "contourcarpet": [
           {
            "colorbar": {
             "outlinewidth": 0,
             "ticks": ""
            },
            "type": "contourcarpet"
           }
          ],
          "heatmap": [
           {
            "colorbar": {
             "outlinewidth": 0,
             "ticks": ""
            },
            "colorscale": [
             [
              0,
              "#0d0887"
             ],
             [
              0.1111111111111111,
              "#46039f"
             ],
             [
              0.2222222222222222,
              "#7201a8"
             ],
             [
              0.3333333333333333,
              "#9c179e"
             ],
             [
              0.4444444444444444,
              "#bd3786"
             ],
             [
              0.5555555555555556,
              "#d8576b"
             ],
             [
              0.6666666666666666,
              "#ed7953"
             ],
             [
              0.7777777777777778,
              "#fb9f3a"
             ],
             [
              0.8888888888888888,
              "#fdca26"
             ],
             [
              1,
              "#f0f921"
             ]
            ],
            "type": "heatmap"
           }
          ],
          "heatmapgl": [
           {
            "colorbar": {
             "outlinewidth": 0,
             "ticks": ""
            },
            "colorscale": [
             [
              0,
              "#0d0887"
             ],
             [
              0.1111111111111111,
              "#46039f"
             ],
             [
              0.2222222222222222,
              "#7201a8"
             ],
             [
              0.3333333333333333,
              "#9c179e"
             ],
             [
              0.4444444444444444,
              "#bd3786"
             ],
             [
              0.5555555555555556,
              "#d8576b"
             ],
             [
              0.6666666666666666,
              "#ed7953"
             ],
             [
              0.7777777777777778,
              "#fb9f3a"
             ],
             [
              0.8888888888888888,
              "#fdca26"
             ],
             [
              1,
              "#f0f921"
             ]
            ],
            "type": "heatmapgl"
           }
          ],
          "histogram": [
           {
            "marker": {
             "colorbar": {
              "outlinewidth": 0,
              "ticks": ""
             }
            },
            "type": "histogram"
           }
          ],
          "histogram2d": [
           {
            "colorbar": {
             "outlinewidth": 0,
             "ticks": ""
            },
            "colorscale": [
             [
              0,
              "#0d0887"
             ],
             [
              0.1111111111111111,
              "#46039f"
             ],
             [
              0.2222222222222222,
              "#7201a8"
             ],
             [
              0.3333333333333333,
              "#9c179e"
             ],
             [
              0.4444444444444444,
              "#bd3786"
             ],
             [
              0.5555555555555556,
              "#d8576b"
             ],
             [
              0.6666666666666666,
              "#ed7953"
             ],
             [
              0.7777777777777778,
              "#fb9f3a"
             ],
             [
              0.8888888888888888,
              "#fdca26"
             ],
             [
              1,
              "#f0f921"
             ]
            ],
            "type": "histogram2d"
           }
          ],
          "histogram2dcontour": [
           {
            "colorbar": {
             "outlinewidth": 0,
             "ticks": ""
            },
            "colorscale": [
             [
              0,
              "#0d0887"
             ],
             [
              0.1111111111111111,
              "#46039f"
             ],
             [
              0.2222222222222222,
              "#7201a8"
             ],
             [
              0.3333333333333333,
              "#9c179e"
             ],
             [
              0.4444444444444444,
              "#bd3786"
             ],
             [
              0.5555555555555556,
              "#d8576b"
             ],
             [
              0.6666666666666666,
              "#ed7953"
             ],
             [
              0.7777777777777778,
              "#fb9f3a"
             ],
             [
              0.8888888888888888,
              "#fdca26"
             ],
             [
              1,
              "#f0f921"
             ]
            ],
            "type": "histogram2dcontour"
           }
          ],
          "mesh3d": [
           {
            "colorbar": {
             "outlinewidth": 0,
             "ticks": ""
            },
            "type": "mesh3d"
           }
          ],
          "parcoords": [
           {
            "line": {
             "colorbar": {
              "outlinewidth": 0,
              "ticks": ""
             }
            },
            "type": "parcoords"
           }
          ],
          "pie": [
           {
            "automargin": true,
            "type": "pie"
           }
          ],
          "scatter": [
           {
            "marker": {
             "colorbar": {
              "outlinewidth": 0,
              "ticks": ""
             }
            },
            "type": "scatter"
           }
          ],
          "scatter3d": [
           {
            "line": {
             "colorbar": {
              "outlinewidth": 0,
              "ticks": ""
             }
            },
            "marker": {
             "colorbar": {
              "outlinewidth": 0,
              "ticks": ""
             }
            },
            "type": "scatter3d"
           }
          ],
          "scattercarpet": [
           {
            "marker": {
             "colorbar": {
              "outlinewidth": 0,
              "ticks": ""
             }
            },
            "type": "scattercarpet"
           }
          ],
          "scattergeo": [
           {
            "marker": {
             "colorbar": {
              "outlinewidth": 0,
              "ticks": ""
             }
            },
            "type": "scattergeo"
           }
          ],
          "scattergl": [
           {
            "marker": {
             "colorbar": {
              "outlinewidth": 0,
              "ticks": ""
             }
            },
            "type": "scattergl"
           }
          ],
          "scattermapbox": [
           {
            "marker": {
             "colorbar": {
              "outlinewidth": 0,
              "ticks": ""
             }
            },
            "type": "scattermapbox"
           }
          ],
          "scatterpolar": [
           {
            "marker": {
             "colorbar": {
              "outlinewidth": 0,
              "ticks": ""
             }
            },
            "type": "scatterpolar"
           }
          ],
          "scatterpolargl": [
           {
            "marker": {
             "colorbar": {
              "outlinewidth": 0,
              "ticks": ""
             }
            },
            "type": "scatterpolargl"
           }
          ],
          "scatterternary": [
           {
            "marker": {
             "colorbar": {
              "outlinewidth": 0,
              "ticks": ""
             }
            },
            "type": "scatterternary"
           }
          ],
          "surface": [
           {
            "colorbar": {
             "outlinewidth": 0,
             "ticks": ""
            },
            "colorscale": [
             [
              0,
              "#0d0887"
             ],
             [
              0.1111111111111111,
              "#46039f"
             ],
             [
              0.2222222222222222,
              "#7201a8"
             ],
             [
              0.3333333333333333,
              "#9c179e"
             ],
             [
              0.4444444444444444,
              "#bd3786"
             ],
             [
              0.5555555555555556,
              "#d8576b"
             ],
             [
              0.6666666666666666,
              "#ed7953"
             ],
             [
              0.7777777777777778,
              "#fb9f3a"
             ],
             [
              0.8888888888888888,
              "#fdca26"
             ],
             [
              1,
              "#f0f921"
             ]
            ],
            "type": "surface"
           }
          ],
          "table": [
           {
            "cells": {
             "fill": {
              "color": "#EBF0F8"
             },
             "line": {
              "color": "white"
             }
            },
            "header": {
             "fill": {
              "color": "#C8D4E3"
             },
             "line": {
              "color": "white"
             }
            },
            "type": "table"
           }
          ]
         },
         "layout": {
          "annotationdefaults": {
           "arrowcolor": "#2a3f5f",
           "arrowhead": 0,
           "arrowwidth": 1
          },
          "autotypenumbers": "strict",
          "coloraxis": {
           "colorbar": {
            "outlinewidth": 0,
            "ticks": ""
           }
          },
          "colorscale": {
           "diverging": [
            [
             0,
             "#8e0152"
            ],
            [
             0.1,
             "#c51b7d"
            ],
            [
             0.2,
             "#de77ae"
            ],
            [
             0.3,
             "#f1b6da"
            ],
            [
             0.4,
             "#fde0ef"
            ],
            [
             0.5,
             "#f7f7f7"
            ],
            [
             0.6,
             "#e6f5d0"
            ],
            [
             0.7,
             "#b8e186"
            ],
            [
             0.8,
             "#7fbc41"
            ],
            [
             0.9,
             "#4d9221"
            ],
            [
             1,
             "#276419"
            ]
           ],
           "sequential": [
            [
             0,
             "#0d0887"
            ],
            [
             0.1111111111111111,
             "#46039f"
            ],
            [
             0.2222222222222222,
             "#7201a8"
            ],
            [
             0.3333333333333333,
             "#9c179e"
            ],
            [
             0.4444444444444444,
             "#bd3786"
            ],
            [
             0.5555555555555556,
             "#d8576b"
            ],
            [
             0.6666666666666666,
             "#ed7953"
            ],
            [
             0.7777777777777778,
             "#fb9f3a"
            ],
            [
             0.8888888888888888,
             "#fdca26"
            ],
            [
             1,
             "#f0f921"
            ]
           ],
           "sequentialminus": [
            [
             0,
             "#0d0887"
            ],
            [
             0.1111111111111111,
             "#46039f"
            ],
            [
             0.2222222222222222,
             "#7201a8"
            ],
            [
             0.3333333333333333,
             "#9c179e"
            ],
            [
             0.4444444444444444,
             "#bd3786"
            ],
            [
             0.5555555555555556,
             "#d8576b"
            ],
            [
             0.6666666666666666,
             "#ed7953"
            ],
            [
             0.7777777777777778,
             "#fb9f3a"
            ],
            [
             0.8888888888888888,
             "#fdca26"
            ],
            [
             1,
             "#f0f921"
            ]
           ]
          },
          "colorway": [
           "#636efa",
           "#EF553B",
           "#00cc96",
           "#ab63fa",
           "#FFA15A",
           "#19d3f3",
           "#FF6692",
           "#B6E880",
           "#FF97FF",
           "#FECB52"
          ],
          "font": {
           "color": "#2a3f5f"
          },
          "geo": {
           "bgcolor": "white",
           "lakecolor": "white",
           "landcolor": "#E5ECF6",
           "showlakes": true,
           "showland": true,
           "subunitcolor": "white"
          },
          "hoverlabel": {
           "align": "left"
          },
          "hovermode": "closest",
          "mapbox": {
           "style": "light"
          },
          "paper_bgcolor": "white",
          "plot_bgcolor": "#E5ECF6",
          "polar": {
           "angularaxis": {
            "gridcolor": "white",
            "linecolor": "white",
            "ticks": ""
           },
           "bgcolor": "#E5ECF6",
           "radialaxis": {
            "gridcolor": "white",
            "linecolor": "white",
            "ticks": ""
           }
          },
          "scene": {
           "xaxis": {
            "backgroundcolor": "#E5ECF6",
            "gridcolor": "white",
            "gridwidth": 2,
            "linecolor": "white",
            "showbackground": true,
            "ticks": "",
            "zerolinecolor": "white"
           },
           "yaxis": {
            "backgroundcolor": "#E5ECF6",
            "gridcolor": "white",
            "gridwidth": 2,
            "linecolor": "white",
            "showbackground": true,
            "ticks": "",
            "zerolinecolor": "white"
           },
           "zaxis": {
            "backgroundcolor": "#E5ECF6",
            "gridcolor": "white",
            "gridwidth": 2,
            "linecolor": "white",
            "showbackground": true,
            "ticks": "",
            "zerolinecolor": "white"
           }
          },
          "shapedefaults": {
           "line": {
            "color": "#2a3f5f"
           }
          },
          "ternary": {
           "aaxis": {
            "gridcolor": "white",
            "linecolor": "white",
            "ticks": ""
           },
           "baxis": {
            "gridcolor": "white",
            "linecolor": "white",
            "ticks": ""
           },
           "bgcolor": "#E5ECF6",
           "caxis": {
            "gridcolor": "white",
            "linecolor": "white",
            "ticks": ""
           }
          },
          "title": {
           "x": 0.05
          },
          "xaxis": {
           "automargin": true,
           "gridcolor": "white",
           "linecolor": "white",
           "ticks": "",
           "title": {
            "standoff": 15
           },
           "zerolinecolor": "white",
           "zerolinewidth": 2
          },
          "yaxis": {
           "automargin": true,
           "gridcolor": "white",
           "linecolor": "white",
           "ticks": "",
           "title": {
            "standoff": 15
           },
           "zerolinecolor": "white",
           "zerolinewidth": 2
          }
         }
        },
        "title": {
         "text": "Model fit of Random Forest model"
        },
        "xaxis": {
         "anchor": "y",
         "domain": [
          0,
          1
         ],
         "title": {
          "text": "measured data (sample)"
         }
        },
        "yaxis": {
         "anchor": "x",
         "domain": [
          0,
          1
         ],
         "title": {
          "text": "fitted values (in sample fit)"
         }
        }
       }
      },
      "text/html": [
       "<div>                            <div id=\"5a102122-08a6-4c65-bb60-368db06a7530\" class=\"plotly-graph-div\" style=\"height:525px; width:100%;\"></div>            <script type=\"text/javascript\">                require([\"plotly\"], function(Plotly) {                    window.PLOTLYENV=window.PLOTLYENV || {};                                    if (document.getElementById(\"5a102122-08a6-4c65-bb60-368db06a7530\")) {                    Plotly.newPlot(                        \"5a102122-08a6-4c65-bb60-368db06a7530\",                        [{\"hovertemplate\": \"value=%{x}<br>mid=%{y}<extra></extra>\", \"legendgroup\": \"\", \"marker\": {\"color\": \"#212c52\", \"size\": 10, \"symbol\": \"circle\"}, \"mode\": \"markers\", \"name\": \"\", \"orientation\": \"v\", \"showlegend\": false, \"type\": \"scatter\", \"x\": [3.643945912748067, 3.000434077479319, 2.5943925503754266, 4.544068044350276, 2.4885507165004443, 2.5477747053878224, 3.1942367487238292, 2.287801729930226, 3.651762447380111, 4.16354896490181, 2.7442929831226763, 2.155336037465062, 2.7442929831226763, 2.481442628502305, 3.325925955771466, 3.3261309567107946, 3.6534054906645013, 3.1743505974793798, 2.7867514221455614, 3.4500950758716025, 2.3324384599156054, 2.3961993470957363, 3.000434077479319, 3.3879234669734366, 2.164352855784437, 4.544068044350276, 2.503790683057181, 3.651762447380111, 3.2643455070500926, 3.325925955771466, 2.247973266361807, 3.651762447380111, 2.938519725176492, 3.070037866607755, 2.884795363948981, 2.6127838567197355, 3.775756037844098, 2.8068580295188172, 3.8516863154424277, 2.663700925389648, 4.101540872558349, 4.544068044350276, 2.7589118923979736, 3.2638726768652235, 3.3261309567107946, 3.1942367487238292, 2.938519725176492, 3.1942367487238292, 2.041392685158225, 3.7137424784090824, 2.7442929831226763, 2.9800033715837464, 4.101506496139928, 2.4183012913197452, 2.5514499979728753, 2.4899584794248346, 3.3283796034387376, 2.2528530309798933, 2.682145076373832, 2.7442929831226763, 3.7285161047597666, 2.893206753059848, 3.9076263048432662, 3.6516656039229356, 2.7781512503836434, 3.2641091563058082, 2.7972675408307164, 2.9380190974762104, 3.0729847446279304, 3.1300119496719043, 3.070037866607755, 2.682145076373832, 3.584670384464349, 3.2641091563058082, 2.403120521175818, 2.6748611407378116, 2.8432327780980096, 3.3881012015705165], \"xaxis\": \"x\", \"y\": [3.8891358070429223, 3.2556536275372077, 2.865289736468582, 3.0262563475963087, 2.5628223949619384, 2.723201254225563, 2.445157557889697, 2.75623807798895, 3.53151700170854, 3.75278493979088, 3.2396628109679275, 3.029968286991482, 3.0172696000075994, 2.609280791641922, 3.236993484732761, 3.854620931227093, 3.53151700170854, 2.9544479301608355, 2.999479113499582, 3.2478828149746666, 3.0935073073343724, 2.943144191347485, 2.540551398758816, 3.4575749024103053, 3.0670476038064973, 4.052712749202248, 2.756442493238052, 3.041849054202699, 3.796834660938981, 3.9404108645452114, 2.3837713900710003, 3.3475098355728647, 3.4789370650208773, 3.2478828149746666, 3.17530052267335, 2.8379121892726142, 3.1173600055590724, 2.492582580268503, 4.033314994698704, 3.012802496224378, 4.453139778931696, 3.305581296548386, 3.02757414990059, 3.0280276503632857, 2.99209503765613, 3.44078810651611, 2.6843465268041045, 2.8170317824007296, 2.609280791641922, 2.6829869230938703, 2.540551398758816, 3.513229694498373, 4.226079847268423, 3.7152543316638598, 2.723201254225563, 2.88411759317978, 3.6086741227338353, 2.8877436547015862, 2.9280689102340105, 2.735212747140552, 3.75278493979088, 3.211546979395226, 3.9303468661188745, 3.363576129870589, 3.0670476038064973, 2.9544479301608355, 2.8827981749105027, 3.1472783721197213, 3.147699204171836, 3.44078810651611, 4.226079847268423, 2.8515817623683364, 3.0768122389445187, 2.950144089332126, 3.023859674028195, 2.7446309490443803, 3.4685466449447113, 3.0768122389445187], \"yaxis\": \"y\"}, {\"hovertemplate\": \"<extra></extra>\", \"legendgroup\": \"\", \"marker\": {\"color\": \"#212c52\", \"size\": 10, \"symbol\": \"circle\"}, \"mode\": \"lines\", \"name\": \"\", \"showlegend\": false, \"type\": \"scatter\", \"xaxis\": \"x\", \"yaxis\": \"y\"}],                        {\"font\": {\"color\": \"black\", \"family\": \"Helvetica Neue, Helvetica, Arial, sans-serif\"}, \"legend\": {\"title\": {}, \"tracegroupgap\": 0, \"x\": 0.01, \"xanchor\": \"left\", \"y\": 0.99, \"yanchor\": \"top\"}, \"margin\": {\"t\": 60}, \"template\": {\"data\": {\"bar\": [{\"error_x\": {\"color\": \"#2a3f5f\"}, \"error_y\": {\"color\": \"#2a3f5f\"}, \"marker\": {\"line\": {\"color\": \"#E5ECF6\", \"width\": 0.5}}, \"type\": \"bar\"}], \"barpolar\": [{\"marker\": {\"line\": {\"color\": \"#E5ECF6\", \"width\": 0.5}}, \"type\": \"barpolar\"}], \"carpet\": [{\"aaxis\": {\"endlinecolor\": \"#2a3f5f\", \"gridcolor\": \"white\", \"linecolor\": \"white\", \"minorgridcolor\": \"white\", \"startlinecolor\": \"#2a3f5f\"}, \"baxis\": {\"endlinecolor\": \"#2a3f5f\", \"gridcolor\": \"white\", \"linecolor\": \"white\", \"minorgridcolor\": \"white\", \"startlinecolor\": \"#2a3f5f\"}, \"type\": \"carpet\"}], \"choropleth\": [{\"colorbar\": {\"outlinewidth\": 0, \"ticks\": \"\"}, \"type\": \"choropleth\"}], \"contour\": [{\"colorbar\": {\"outlinewidth\": 0, \"ticks\": \"\"}, \"colorscale\": [[0.0, \"#0d0887\"], [0.1111111111111111, \"#46039f\"], [0.2222222222222222, \"#7201a8\"], [0.3333333333333333, \"#9c179e\"], [0.4444444444444444, \"#bd3786\"], [0.5555555555555556, \"#d8576b\"], [0.6666666666666666, \"#ed7953\"], [0.7777777777777778, \"#fb9f3a\"], [0.8888888888888888, \"#fdca26\"], [1.0, \"#f0f921\"]], \"type\": \"contour\"}], \"contourcarpet\": [{\"colorbar\": {\"outlinewidth\": 0, \"ticks\": \"\"}, \"type\": \"contourcarpet\"}], \"heatmap\": [{\"colorbar\": {\"outlinewidth\": 0, \"ticks\": \"\"}, \"colorscale\": [[0.0, \"#0d0887\"], [0.1111111111111111, \"#46039f\"], [0.2222222222222222, \"#7201a8\"], [0.3333333333333333, \"#9c179e\"], [0.4444444444444444, \"#bd3786\"], [0.5555555555555556, \"#d8576b\"], [0.6666666666666666, \"#ed7953\"], [0.7777777777777778, \"#fb9f3a\"], [0.8888888888888888, \"#fdca26\"], [1.0, \"#f0f921\"]], \"type\": \"heatmap\"}], \"heatmapgl\": [{\"colorbar\": {\"outlinewidth\": 0, \"ticks\": \"\"}, \"colorscale\": [[0.0, \"#0d0887\"], [0.1111111111111111, \"#46039f\"], [0.2222222222222222, \"#7201a8\"], [0.3333333333333333, \"#9c179e\"], [0.4444444444444444, \"#bd3786\"], [0.5555555555555556, \"#d8576b\"], [0.6666666666666666, \"#ed7953\"], [0.7777777777777778, \"#fb9f3a\"], [0.8888888888888888, \"#fdca26\"], [1.0, \"#f0f921\"]], \"type\": \"heatmapgl\"}], \"histogram\": [{\"marker\": {\"colorbar\": {\"outlinewidth\": 0, \"ticks\": \"\"}}, \"type\": \"histogram\"}], \"histogram2d\": [{\"colorbar\": {\"outlinewidth\": 0, \"ticks\": \"\"}, \"colorscale\": [[0.0, \"#0d0887\"], [0.1111111111111111, \"#46039f\"], [0.2222222222222222, \"#7201a8\"], [0.3333333333333333, \"#9c179e\"], [0.4444444444444444, \"#bd3786\"], [0.5555555555555556, \"#d8576b\"], [0.6666666666666666, \"#ed7953\"], [0.7777777777777778, \"#fb9f3a\"], [0.8888888888888888, \"#fdca26\"], [1.0, \"#f0f921\"]], \"type\": \"histogram2d\"}], \"histogram2dcontour\": [{\"colorbar\": {\"outlinewidth\": 0, \"ticks\": \"\"}, \"colorscale\": [[0.0, \"#0d0887\"], [0.1111111111111111, \"#46039f\"], [0.2222222222222222, \"#7201a8\"], [0.3333333333333333, \"#9c179e\"], [0.4444444444444444, \"#bd3786\"], [0.5555555555555556, \"#d8576b\"], [0.6666666666666666, \"#ed7953\"], [0.7777777777777778, \"#fb9f3a\"], [0.8888888888888888, \"#fdca26\"], [1.0, \"#f0f921\"]], \"type\": \"histogram2dcontour\"}], \"mesh3d\": [{\"colorbar\": {\"outlinewidth\": 0, \"ticks\": \"\"}, \"type\": \"mesh3d\"}], \"parcoords\": [{\"line\": {\"colorbar\": {\"outlinewidth\": 0, \"ticks\": \"\"}}, \"type\": \"parcoords\"}], \"pie\": [{\"automargin\": true, \"type\": \"pie\"}], \"scatter\": [{\"marker\": {\"colorbar\": {\"outlinewidth\": 0, \"ticks\": \"\"}}, \"type\": \"scatter\"}], \"scatter3d\": [{\"line\": {\"colorbar\": {\"outlinewidth\": 0, \"ticks\": \"\"}}, \"marker\": {\"colorbar\": {\"outlinewidth\": 0, \"ticks\": \"\"}}, \"type\": \"scatter3d\"}], \"scattercarpet\": [{\"marker\": {\"colorbar\": {\"outlinewidth\": 0, \"ticks\": \"\"}}, \"type\": \"scattercarpet\"}], \"scattergeo\": [{\"marker\": {\"colorbar\": {\"outlinewidth\": 0, \"ticks\": \"\"}}, \"type\": \"scattergeo\"}], \"scattergl\": [{\"marker\": {\"colorbar\": {\"outlinewidth\": 0, \"ticks\": \"\"}}, \"type\": \"scattergl\"}], \"scattermapbox\": [{\"marker\": {\"colorbar\": {\"outlinewidth\": 0, \"ticks\": \"\"}}, \"type\": \"scattermapbox\"}], \"scatterpolar\": [{\"marker\": {\"colorbar\": {\"outlinewidth\": 0, \"ticks\": \"\"}}, \"type\": \"scatterpolar\"}], \"scatterpolargl\": [{\"marker\": {\"colorbar\": {\"outlinewidth\": 0, \"ticks\": \"\"}}, \"type\": \"scatterpolargl\"}], \"scatterternary\": [{\"marker\": {\"colorbar\": {\"outlinewidth\": 0, \"ticks\": \"\"}}, \"type\": \"scatterternary\"}], \"surface\": [{\"colorbar\": {\"outlinewidth\": 0, \"ticks\": \"\"}, \"colorscale\": [[0.0, \"#0d0887\"], [0.1111111111111111, \"#46039f\"], [0.2222222222222222, \"#7201a8\"], [0.3333333333333333, \"#9c179e\"], [0.4444444444444444, \"#bd3786\"], [0.5555555555555556, \"#d8576b\"], [0.6666666666666666, \"#ed7953\"], [0.7777777777777778, \"#fb9f3a\"], [0.8888888888888888, \"#fdca26\"], [1.0, \"#f0f921\"]], \"type\": \"surface\"}], \"table\": [{\"cells\": {\"fill\": {\"color\": \"#EBF0F8\"}, \"line\": {\"color\": \"white\"}}, \"header\": {\"fill\": {\"color\": \"#C8D4E3\"}, \"line\": {\"color\": \"white\"}}, \"type\": \"table\"}]}, \"layout\": {\"annotationdefaults\": {\"arrowcolor\": \"#2a3f5f\", \"arrowhead\": 0, \"arrowwidth\": 1}, \"autotypenumbers\": \"strict\", \"coloraxis\": {\"colorbar\": {\"outlinewidth\": 0, \"ticks\": \"\"}}, \"colorscale\": {\"diverging\": [[0, \"#8e0152\"], [0.1, \"#c51b7d\"], [0.2, \"#de77ae\"], [0.3, \"#f1b6da\"], [0.4, \"#fde0ef\"], [0.5, \"#f7f7f7\"], [0.6, \"#e6f5d0\"], [0.7, \"#b8e186\"], [0.8, \"#7fbc41\"], [0.9, \"#4d9221\"], [1, \"#276419\"]], \"sequential\": [[0.0, \"#0d0887\"], [0.1111111111111111, \"#46039f\"], [0.2222222222222222, \"#7201a8\"], [0.3333333333333333, \"#9c179e\"], [0.4444444444444444, \"#bd3786\"], [0.5555555555555556, \"#d8576b\"], [0.6666666666666666, \"#ed7953\"], [0.7777777777777778, \"#fb9f3a\"], [0.8888888888888888, \"#fdca26\"], [1.0, \"#f0f921\"]], \"sequentialminus\": [[0.0, \"#0d0887\"], [0.1111111111111111, \"#46039f\"], [0.2222222222222222, \"#7201a8\"], [0.3333333333333333, \"#9c179e\"], [0.4444444444444444, \"#bd3786\"], [0.5555555555555556, \"#d8576b\"], [0.6666666666666666, \"#ed7953\"], [0.7777777777777778, \"#fb9f3a\"], [0.8888888888888888, \"#fdca26\"], [1.0, \"#f0f921\"]]}, \"colorway\": [\"#636efa\", \"#EF553B\", \"#00cc96\", \"#ab63fa\", \"#FFA15A\", \"#19d3f3\", \"#FF6692\", \"#B6E880\", \"#FF97FF\", \"#FECB52\"], \"font\": {\"color\": \"#2a3f5f\"}, \"geo\": {\"bgcolor\": \"white\", \"lakecolor\": \"white\", \"landcolor\": \"#E5ECF6\", \"showlakes\": true, \"showland\": true, \"subunitcolor\": \"white\"}, \"hoverlabel\": {\"align\": \"left\"}, \"hovermode\": \"closest\", \"mapbox\": {\"style\": \"light\"}, \"paper_bgcolor\": \"white\", \"plot_bgcolor\": \"#E5ECF6\", \"polar\": {\"angularaxis\": {\"gridcolor\": \"white\", \"linecolor\": \"white\", \"ticks\": \"\"}, \"bgcolor\": \"#E5ECF6\", \"radialaxis\": {\"gridcolor\": \"white\", \"linecolor\": \"white\", \"ticks\": \"\"}}, \"scene\": {\"xaxis\": {\"backgroundcolor\": \"#E5ECF6\", \"gridcolor\": \"white\", \"gridwidth\": 2, \"linecolor\": \"white\", \"showbackground\": true, \"ticks\": \"\", \"zerolinecolor\": \"white\"}, \"yaxis\": {\"backgroundcolor\": \"#E5ECF6\", \"gridcolor\": \"white\", \"gridwidth\": 2, \"linecolor\": \"white\", \"showbackground\": true, \"ticks\": \"\", \"zerolinecolor\": \"white\"}, \"zaxis\": {\"backgroundcolor\": \"#E5ECF6\", \"gridcolor\": \"white\", \"gridwidth\": 2, \"linecolor\": \"white\", \"showbackground\": true, \"ticks\": \"\", \"zerolinecolor\": \"white\"}}, \"shapedefaults\": {\"line\": {\"color\": \"#2a3f5f\"}}, \"ternary\": {\"aaxis\": {\"gridcolor\": \"white\", \"linecolor\": \"white\", \"ticks\": \"\"}, \"baxis\": {\"gridcolor\": \"white\", \"linecolor\": \"white\", \"ticks\": \"\"}, \"bgcolor\": \"#E5ECF6\", \"caxis\": {\"gridcolor\": \"white\", \"linecolor\": \"white\", \"ticks\": \"\"}}, \"title\": {\"x\": 0.05}, \"xaxis\": {\"automargin\": true, \"gridcolor\": \"white\", \"linecolor\": \"white\", \"ticks\": \"\", \"title\": {\"standoff\": 15}, \"zerolinecolor\": \"white\", \"zerolinewidth\": 2}, \"yaxis\": {\"automargin\": true, \"gridcolor\": \"white\", \"linecolor\": \"white\", \"ticks\": \"\", \"title\": {\"standoff\": 15}, \"zerolinecolor\": \"white\", \"zerolinewidth\": 2}}}, \"title\": {\"text\": \"Model fit of Random Forest model\"}, \"xaxis\": {\"anchor\": \"y\", \"domain\": [0.0, 1.0], \"title\": {\"text\": \"measured data (sample)\"}}, \"yaxis\": {\"anchor\": \"x\", \"domain\": [0.0, 1.0], \"title\": {\"text\": \"fitted values (in sample fit)\"}}},                        {\"responsive\": true}                    ).then(function(){\n",
       "                            \n",
       "var gd = document.getElementById('5a102122-08a6-4c65-bb60-368db06a7530');\n",
       "var x = new MutationObserver(function (mutations, observer) {{\n",
       "        var display = window.getComputedStyle(gd).display;\n",
       "        if (!display || display === 'none') {{\n",
       "            console.log([gd, 'removed!']);\n",
       "            Plotly.purge(gd);\n",
       "            observer.disconnect();\n",
       "        }}\n",
       "}});\n",
       "\n",
       "// Listen for the removal of the full notebook cells\n",
       "var notebookContainer = gd.closest('#notebook-container');\n",
       "if (notebookContainer) {{\n",
       "    x.observe(notebookContainer, {childList: true});\n",
       "}}\n",
       "\n",
       "// Listen for the clearing of the current output cell\n",
       "var outputEl = gd.closest('.output');\n",
       "if (outputEl) {{\n",
       "    x.observe(outputEl, {childList: true});\n",
       "}}\n",
       "\n",
       "                        })                };                });            </script>        </div>"
      ]
     },
     "metadata": {},
     "output_type": "display_data"
    }
   ],
   "source": [
    "fig = px.scatter(predictions, x = \"value\", y = \"mid\", \n",
    "                 color_discrete_sequence=['#212c52'], trendline = 'OLS')\n",
    "\n",
    "fig.update_layout(\n",
    "    font_family=\"Helvetica Neue, Helvetica, Arial, sans-serif\",\n",
    "    font_color=\"black\",\n",
    "    title = {'text':'Model fit of Random Forest model'},\n",
    "    xaxis_title = \"measured data (sample)\",\n",
    "    yaxis_title = \"fitted values (in sample fit)\",\n",
    "    #markersize= 12,\n",
    "  )\n",
    "fig.update_layout(legend=dict(\n",
    "    yanchor=\"top\",\n",
    "    title=None,\n",
    "    y=0.99,\n",
    "    xanchor=\"left\",\n",
    "    x=0.01\n",
    "))\n",
    "fig.update_traces(marker_size = 10)#['#75c3ff', \"red\"],#, marker_line_color='#212c52',\n",
    " #                 marker_line_width=1.5, opacity=1)\n",
    "\n",
    "fig.show()"
   ]
  },
  {
   "cell_type": "code",
   "execution_count": 394,
   "id": "assigned-account",
   "metadata": {},
   "outputs": [],
   "source": [
    "\n",
    "\n",
    "import numpy as np\n",
    "import pandas as pd\n",
    "from sklearn.datasets import make_regression\n",
    "\n",
    "from matplotlib import pyplot as plt\n",
    "%matplotlib inline\n",
    "\n",
    "from bartpy.sklearnmodel import SklearnModel\n",
    "\n"
   ]
  },
  {
   "cell_type": "code",
   "execution_count": 395,
   "id": "balanced-tennis",
   "metadata": {},
   "outputs": [],
   "source": [
    "def get_clean_model():\n",
    "    return SklearnModel(n_chains=4, \n",
    "                        n_jobs= 4, \n",
    "                        n_burn=200,\n",
    "                        n_samples=1000, \n",
    "                        n_trees=200, \n",
    "                        initializer=None)\n",
    "\n"
   ]
  },
  {
   "cell_type": "code",
   "execution_count": 396,
   "id": "hairy-immune",
   "metadata": {},
   "outputs": [],
   "source": [
    "model = get_clean_model()\n",
    "\n"
   ]
  },
  {
   "cell_type": "code",
   "execution_count": 397,
   "id": "missing-directory",
   "metadata": {},
   "outputs": [],
   "source": [
    "bart = model.fit(X_train, y_train)"
   ]
  },
  {
   "cell_type": "code",
   "execution_count": 400,
   "id": "partial-fellowship",
   "metadata": {},
   "outputs": [
    {
     "data": {
      "text/plain": [
       "0.27379552008100017"
      ]
     },
     "execution_count": 400,
     "metadata": {},
     "output_type": "execute_result"
    }
   ],
   "source": [
    "bart.score(X_test, y_test)"
   ]
  },
  {
   "cell_type": "raw",
   "id": "tough-breath",
   "metadata": {},
   "source": []
  },
  {
   "cell_type": "code",
   "execution_count": null,
   "id": "basic-requirement",
   "metadata": {},
   "outputs": [],
   "source": []
  },
  {
   "cell_type": "code",
   "execution_count": 398,
   "id": "convenient-excuse",
   "metadata": {},
   "outputs": [
    {
     "data": {
      "application/vnd.plotly.v1+json": {
       "config": {
        "plotlyServerURL": "https://plot.ly"
       },
       "data": [
        {
         "hovertemplate": "x=%{x}<br>y=%{y}<extra></extra>",
         "legendgroup": "",
         "marker": {
          "color": "#212c52",
          "size": 10,
          "symbol": "circle"
         },
         "mode": "markers",
         "name": "",
         "orientation": "v",
         "showlegend": false,
         "type": "scatter",
         "x": [
          3.643945912748067,
          3.000434077479319,
          2.5943925503754266,
          4.544068044350276,
          2.4885507165004443,
          2.5477747053878224,
          3.1942367487238292,
          2.287801729930226,
          3.651762447380111,
          4.16354896490181,
          2.7442929831226763,
          2.155336037465062,
          2.7442929831226763,
          2.481442628502305,
          3.325925955771466,
          3.3261309567107946,
          3.6534054906645013,
          3.1743505974793798,
          2.7867514221455614,
          3.4500950758716025,
          2.3324384599156054,
          2.3961993470957363,
          3.000434077479319,
          3.3879234669734366,
          2.164352855784437,
          4.544068044350276,
          2.503790683057181,
          3.651762447380111,
          3.2643455070500926,
          3.325925955771466,
          2.247973266361807,
          3.651762447380111,
          2.938519725176492,
          3.070037866607755,
          2.884795363948981,
          2.6127838567197355,
          3.775756037844098,
          2.8068580295188172,
          3.8516863154424277,
          2.663700925389648,
          4.101540872558349,
          4.544068044350276,
          2.7589118923979736,
          3.2638726768652235,
          3.3261309567107946,
          3.1942367487238292,
          2.938519725176492,
          3.1942367487238292,
          2.041392685158225,
          3.7137424784090824,
          2.7442929831226763,
          2.9800033715837464,
          4.101506496139928,
          2.4183012913197452,
          2.5514499979728753,
          2.4899584794248346,
          3.3283796034387376,
          2.2528530309798933,
          2.682145076373832,
          2.7442929831226763,
          3.7285161047597666,
          2.893206753059848,
          3.9076263048432662,
          3.6516656039229356,
          2.7781512503836434,
          3.2641091563058082,
          2.7972675408307164,
          2.9380190974762104,
          3.0729847446279304,
          3.1300119496719043,
          3.070037866607755,
          2.682145076373832,
          3.584670384464349,
          3.2641091563058082,
          2.403120521175818,
          2.6748611407378116,
          2.8432327780980096,
          3.3881012015705165
         ],
         "xaxis": "x",
         "y": [
          3.5224143601461106,
          3.3694522698010303,
          2.9211035222080444,
          3.4672337163386118,
          2.9498124971546087,
          2.8003562965927657,
          2.6609818685494138,
          2.915834388514871,
          3.517231590153419,
          3.50213278242285,
          3.3373043181869084,
          2.981279762330244,
          3.2728588610284106,
          2.8120472247806623,
          3.253460307670151,
          3.4922919963620775,
          3.517231590153419,
          3.081365273554574,
          3.1454408333797597,
          3.1099500334884578,
          3.006079994655048,
          3.3442117872698374,
          2.812935721414936,
          3.2715159422615985,
          2.8911918230413547,
          3.706699316323359,
          2.8234521862564375,
          3.1023096356367175,
          3.4249822599110917,
          3.8400661148181374,
          2.786433162339172,
          3.2133734142263237,
          3.476168619961232,
          3.1099500334884578,
          3.325385330385658,
          3.469099958451536,
          3.1640671223774346,
          2.760883153348925,
          4.089437419904262,
          3.5123223357750035,
          3.9324124814336425,
          3.4771442520525726,
          3.098810296057589,
          3.4510046726721084,
          2.9750791652279895,
          3.2804100773965583,
          2.824125711184114,
          2.959242696358461,
          2.8120472247806623,
          2.901607174606034,
          2.812935721414936,
          3.4833862700189817,
          4.019750067712227,
          3.401864489097176,
          2.8003562965927657,
          2.9681700665378186,
          3.1105941586287624,
          2.8420256139848457,
          3.0116163005002,
          2.8145491721546767,
          3.50213278242285,
          3.2304397371733597,
          3.4333967684215705,
          2.983213844136661,
          2.8911918230413547,
          3.081365273554574,
          2.9252141107445664,
          3.1659965998153394,
          2.9078049435678532,
          3.2804100773965583,
          4.019750067712227,
          3.068958202835553,
          3.0554040093933716,
          2.95066460956446,
          3.2823373222705237,
          2.7758314468656944,
          3.21413304850812,
          3.0554040093933716
         ],
         "yaxis": "y"
        }
       ],
       "layout": {
        "font": {
         "color": "black",
         "family": "Helvetica Neue, Helvetica, Arial, sans-serif"
        },
        "legend": {
         "title": {},
         "tracegroupgap": 0,
         "x": 0.01,
         "xanchor": "left",
         "y": 0.99,
         "yanchor": "top"
        },
        "margin": {
         "t": 60
        },
        "template": {
         "data": {
          "bar": [
           {
            "error_x": {
             "color": "#2a3f5f"
            },
            "error_y": {
             "color": "#2a3f5f"
            },
            "marker": {
             "line": {
              "color": "#E5ECF6",
              "width": 0.5
             }
            },
            "type": "bar"
           }
          ],
          "barpolar": [
           {
            "marker": {
             "line": {
              "color": "#E5ECF6",
              "width": 0.5
             }
            },
            "type": "barpolar"
           }
          ],
          "carpet": [
           {
            "aaxis": {
             "endlinecolor": "#2a3f5f",
             "gridcolor": "white",
             "linecolor": "white",
             "minorgridcolor": "white",
             "startlinecolor": "#2a3f5f"
            },
            "baxis": {
             "endlinecolor": "#2a3f5f",
             "gridcolor": "white",
             "linecolor": "white",
             "minorgridcolor": "white",
             "startlinecolor": "#2a3f5f"
            },
            "type": "carpet"
           }
          ],
          "choropleth": [
           {
            "colorbar": {
             "outlinewidth": 0,
             "ticks": ""
            },
            "type": "choropleth"
           }
          ],
          "contour": [
           {
            "colorbar": {
             "outlinewidth": 0,
             "ticks": ""
            },
            "colorscale": [
             [
              0,
              "#0d0887"
             ],
             [
              0.1111111111111111,
              "#46039f"
             ],
             [
              0.2222222222222222,
              "#7201a8"
             ],
             [
              0.3333333333333333,
              "#9c179e"
             ],
             [
              0.4444444444444444,
              "#bd3786"
             ],
             [
              0.5555555555555556,
              "#d8576b"
             ],
             [
              0.6666666666666666,
              "#ed7953"
             ],
             [
              0.7777777777777778,
              "#fb9f3a"
             ],
             [
              0.8888888888888888,
              "#fdca26"
             ],
             [
              1,
              "#f0f921"
             ]
            ],
            "type": "contour"
           }
          ],
          "contourcarpet": [
           {
            "colorbar": {
             "outlinewidth": 0,
             "ticks": ""
            },
            "type": "contourcarpet"
           }
          ],
          "heatmap": [
           {
            "colorbar": {
             "outlinewidth": 0,
             "ticks": ""
            },
            "colorscale": [
             [
              0,
              "#0d0887"
             ],
             [
              0.1111111111111111,
              "#46039f"
             ],
             [
              0.2222222222222222,
              "#7201a8"
             ],
             [
              0.3333333333333333,
              "#9c179e"
             ],
             [
              0.4444444444444444,
              "#bd3786"
             ],
             [
              0.5555555555555556,
              "#d8576b"
             ],
             [
              0.6666666666666666,
              "#ed7953"
             ],
             [
              0.7777777777777778,
              "#fb9f3a"
             ],
             [
              0.8888888888888888,
              "#fdca26"
             ],
             [
              1,
              "#f0f921"
             ]
            ],
            "type": "heatmap"
           }
          ],
          "heatmapgl": [
           {
            "colorbar": {
             "outlinewidth": 0,
             "ticks": ""
            },
            "colorscale": [
             [
              0,
              "#0d0887"
             ],
             [
              0.1111111111111111,
              "#46039f"
             ],
             [
              0.2222222222222222,
              "#7201a8"
             ],
             [
              0.3333333333333333,
              "#9c179e"
             ],
             [
              0.4444444444444444,
              "#bd3786"
             ],
             [
              0.5555555555555556,
              "#d8576b"
             ],
             [
              0.6666666666666666,
              "#ed7953"
             ],
             [
              0.7777777777777778,
              "#fb9f3a"
             ],
             [
              0.8888888888888888,
              "#fdca26"
             ],
             [
              1,
              "#f0f921"
             ]
            ],
            "type": "heatmapgl"
           }
          ],
          "histogram": [
           {
            "marker": {
             "colorbar": {
              "outlinewidth": 0,
              "ticks": ""
             }
            },
            "type": "histogram"
           }
          ],
          "histogram2d": [
           {
            "colorbar": {
             "outlinewidth": 0,
             "ticks": ""
            },
            "colorscale": [
             [
              0,
              "#0d0887"
             ],
             [
              0.1111111111111111,
              "#46039f"
             ],
             [
              0.2222222222222222,
              "#7201a8"
             ],
             [
              0.3333333333333333,
              "#9c179e"
             ],
             [
              0.4444444444444444,
              "#bd3786"
             ],
             [
              0.5555555555555556,
              "#d8576b"
             ],
             [
              0.6666666666666666,
              "#ed7953"
             ],
             [
              0.7777777777777778,
              "#fb9f3a"
             ],
             [
              0.8888888888888888,
              "#fdca26"
             ],
             [
              1,
              "#f0f921"
             ]
            ],
            "type": "histogram2d"
           }
          ],
          "histogram2dcontour": [
           {
            "colorbar": {
             "outlinewidth": 0,
             "ticks": ""
            },
            "colorscale": [
             [
              0,
              "#0d0887"
             ],
             [
              0.1111111111111111,
              "#46039f"
             ],
             [
              0.2222222222222222,
              "#7201a8"
             ],
             [
              0.3333333333333333,
              "#9c179e"
             ],
             [
              0.4444444444444444,
              "#bd3786"
             ],
             [
              0.5555555555555556,
              "#d8576b"
             ],
             [
              0.6666666666666666,
              "#ed7953"
             ],
             [
              0.7777777777777778,
              "#fb9f3a"
             ],
             [
              0.8888888888888888,
              "#fdca26"
             ],
             [
              1,
              "#f0f921"
             ]
            ],
            "type": "histogram2dcontour"
           }
          ],
          "mesh3d": [
           {
            "colorbar": {
             "outlinewidth": 0,
             "ticks": ""
            },
            "type": "mesh3d"
           }
          ],
          "parcoords": [
           {
            "line": {
             "colorbar": {
              "outlinewidth": 0,
              "ticks": ""
             }
            },
            "type": "parcoords"
           }
          ],
          "pie": [
           {
            "automargin": true,
            "type": "pie"
           }
          ],
          "scatter": [
           {
            "marker": {
             "colorbar": {
              "outlinewidth": 0,
              "ticks": ""
             }
            },
            "type": "scatter"
           }
          ],
          "scatter3d": [
           {
            "line": {
             "colorbar": {
              "outlinewidth": 0,
              "ticks": ""
             }
            },
            "marker": {
             "colorbar": {
              "outlinewidth": 0,
              "ticks": ""
             }
            },
            "type": "scatter3d"
           }
          ],
          "scattercarpet": [
           {
            "marker": {
             "colorbar": {
              "outlinewidth": 0,
              "ticks": ""
             }
            },
            "type": "scattercarpet"
           }
          ],
          "scattergeo": [
           {
            "marker": {
             "colorbar": {
              "outlinewidth": 0,
              "ticks": ""
             }
            },
            "type": "scattergeo"
           }
          ],
          "scattergl": [
           {
            "marker": {
             "colorbar": {
              "outlinewidth": 0,
              "ticks": ""
             }
            },
            "type": "scattergl"
           }
          ],
          "scattermapbox": [
           {
            "marker": {
             "colorbar": {
              "outlinewidth": 0,
              "ticks": ""
             }
            },
            "type": "scattermapbox"
           }
          ],
          "scatterpolar": [
           {
            "marker": {
             "colorbar": {
              "outlinewidth": 0,
              "ticks": ""
             }
            },
            "type": "scatterpolar"
           }
          ],
          "scatterpolargl": [
           {
            "marker": {
             "colorbar": {
              "outlinewidth": 0,
              "ticks": ""
             }
            },
            "type": "scatterpolargl"
           }
          ],
          "scatterternary": [
           {
            "marker": {
             "colorbar": {
              "outlinewidth": 0,
              "ticks": ""
             }
            },
            "type": "scatterternary"
           }
          ],
          "surface": [
           {
            "colorbar": {
             "outlinewidth": 0,
             "ticks": ""
            },
            "colorscale": [
             [
              0,
              "#0d0887"
             ],
             [
              0.1111111111111111,
              "#46039f"
             ],
             [
              0.2222222222222222,
              "#7201a8"
             ],
             [
              0.3333333333333333,
              "#9c179e"
             ],
             [
              0.4444444444444444,
              "#bd3786"
             ],
             [
              0.5555555555555556,
              "#d8576b"
             ],
             [
              0.6666666666666666,
              "#ed7953"
             ],
             [
              0.7777777777777778,
              "#fb9f3a"
             ],
             [
              0.8888888888888888,
              "#fdca26"
             ],
             [
              1,
              "#f0f921"
             ]
            ],
            "type": "surface"
           }
          ],
          "table": [
           {
            "cells": {
             "fill": {
              "color": "#EBF0F8"
             },
             "line": {
              "color": "white"
             }
            },
            "header": {
             "fill": {
              "color": "#C8D4E3"
             },
             "line": {
              "color": "white"
             }
            },
            "type": "table"
           }
          ]
         },
         "layout": {
          "annotationdefaults": {
           "arrowcolor": "#2a3f5f",
           "arrowhead": 0,
           "arrowwidth": 1
          },
          "autotypenumbers": "strict",
          "coloraxis": {
           "colorbar": {
            "outlinewidth": 0,
            "ticks": ""
           }
          },
          "colorscale": {
           "diverging": [
            [
             0,
             "#8e0152"
            ],
            [
             0.1,
             "#c51b7d"
            ],
            [
             0.2,
             "#de77ae"
            ],
            [
             0.3,
             "#f1b6da"
            ],
            [
             0.4,
             "#fde0ef"
            ],
            [
             0.5,
             "#f7f7f7"
            ],
            [
             0.6,
             "#e6f5d0"
            ],
            [
             0.7,
             "#b8e186"
            ],
            [
             0.8,
             "#7fbc41"
            ],
            [
             0.9,
             "#4d9221"
            ],
            [
             1,
             "#276419"
            ]
           ],
           "sequential": [
            [
             0,
             "#0d0887"
            ],
            [
             0.1111111111111111,
             "#46039f"
            ],
            [
             0.2222222222222222,
             "#7201a8"
            ],
            [
             0.3333333333333333,
             "#9c179e"
            ],
            [
             0.4444444444444444,
             "#bd3786"
            ],
            [
             0.5555555555555556,
             "#d8576b"
            ],
            [
             0.6666666666666666,
             "#ed7953"
            ],
            [
             0.7777777777777778,
             "#fb9f3a"
            ],
            [
             0.8888888888888888,
             "#fdca26"
            ],
            [
             1,
             "#f0f921"
            ]
           ],
           "sequentialminus": [
            [
             0,
             "#0d0887"
            ],
            [
             0.1111111111111111,
             "#46039f"
            ],
            [
             0.2222222222222222,
             "#7201a8"
            ],
            [
             0.3333333333333333,
             "#9c179e"
            ],
            [
             0.4444444444444444,
             "#bd3786"
            ],
            [
             0.5555555555555556,
             "#d8576b"
            ],
            [
             0.6666666666666666,
             "#ed7953"
            ],
            [
             0.7777777777777778,
             "#fb9f3a"
            ],
            [
             0.8888888888888888,
             "#fdca26"
            ],
            [
             1,
             "#f0f921"
            ]
           ]
          },
          "colorway": [
           "#636efa",
           "#EF553B",
           "#00cc96",
           "#ab63fa",
           "#FFA15A",
           "#19d3f3",
           "#FF6692",
           "#B6E880",
           "#FF97FF",
           "#FECB52"
          ],
          "font": {
           "color": "#2a3f5f"
          },
          "geo": {
           "bgcolor": "white",
           "lakecolor": "white",
           "landcolor": "#E5ECF6",
           "showlakes": true,
           "showland": true,
           "subunitcolor": "white"
          },
          "hoverlabel": {
           "align": "left"
          },
          "hovermode": "closest",
          "mapbox": {
           "style": "light"
          },
          "paper_bgcolor": "white",
          "plot_bgcolor": "#E5ECF6",
          "polar": {
           "angularaxis": {
            "gridcolor": "white",
            "linecolor": "white",
            "ticks": ""
           },
           "bgcolor": "#E5ECF6",
           "radialaxis": {
            "gridcolor": "white",
            "linecolor": "white",
            "ticks": ""
           }
          },
          "scene": {
           "xaxis": {
            "backgroundcolor": "#E5ECF6",
            "gridcolor": "white",
            "gridwidth": 2,
            "linecolor": "white",
            "showbackground": true,
            "ticks": "",
            "zerolinecolor": "white"
           },
           "yaxis": {
            "backgroundcolor": "#E5ECF6",
            "gridcolor": "white",
            "gridwidth": 2,
            "linecolor": "white",
            "showbackground": true,
            "ticks": "",
            "zerolinecolor": "white"
           },
           "zaxis": {
            "backgroundcolor": "#E5ECF6",
            "gridcolor": "white",
            "gridwidth": 2,
            "linecolor": "white",
            "showbackground": true,
            "ticks": "",
            "zerolinecolor": "white"
           }
          },
          "shapedefaults": {
           "line": {
            "color": "#2a3f5f"
           }
          },
          "ternary": {
           "aaxis": {
            "gridcolor": "white",
            "linecolor": "white",
            "ticks": ""
           },
           "baxis": {
            "gridcolor": "white",
            "linecolor": "white",
            "ticks": ""
           },
           "bgcolor": "#E5ECF6",
           "caxis": {
            "gridcolor": "white",
            "linecolor": "white",
            "ticks": ""
           }
          },
          "title": {
           "x": 0.05
          },
          "xaxis": {
           "automargin": true,
           "gridcolor": "white",
           "linecolor": "white",
           "ticks": "",
           "title": {
            "standoff": 15
           },
           "zerolinecolor": "white",
           "zerolinewidth": 2
          },
          "yaxis": {
           "automargin": true,
           "gridcolor": "white",
           "linecolor": "white",
           "ticks": "",
           "title": {
            "standoff": 15
           },
           "zerolinecolor": "white",
           "zerolinewidth": 2
          }
         }
        },
        "title": {
         "text": "Model fit of Random Forest model"
        },
        "xaxis": {
         "anchor": "y",
         "domain": [
          0,
          1
         ],
         "title": {
          "text": "measured data (sample)"
         }
        },
        "yaxis": {
         "anchor": "x",
         "domain": [
          0,
          1
         ],
         "title": {
          "text": "ground truth and predicted"
         }
        }
       }
      },
      "text/html": [
       "<div>                            <div id=\"747042c1-f296-4578-a490-a4720e5e1a4b\" class=\"plotly-graph-div\" style=\"height:525px; width:100%;\"></div>            <script type=\"text/javascript\">                require([\"plotly\"], function(Plotly) {                    window.PLOTLYENV=window.PLOTLYENV || {};                                    if (document.getElementById(\"747042c1-f296-4578-a490-a4720e5e1a4b\")) {                    Plotly.newPlot(                        \"747042c1-f296-4578-a490-a4720e5e1a4b\",                        [{\"hovertemplate\": \"x=%{x}<br>y=%{y}<extra></extra>\", \"legendgroup\": \"\", \"marker\": {\"color\": \"#212c52\", \"size\": 10, \"symbol\": \"circle\"}, \"mode\": \"markers\", \"name\": \"\", \"orientation\": \"v\", \"showlegend\": false, \"type\": \"scatter\", \"x\": [3.643945912748067, 3.000434077479319, 2.5943925503754266, 4.544068044350276, 2.4885507165004443, 2.5477747053878224, 3.1942367487238292, 2.287801729930226, 3.651762447380111, 4.16354896490181, 2.7442929831226763, 2.155336037465062, 2.7442929831226763, 2.481442628502305, 3.325925955771466, 3.3261309567107946, 3.6534054906645013, 3.1743505974793798, 2.7867514221455614, 3.4500950758716025, 2.3324384599156054, 2.3961993470957363, 3.000434077479319, 3.3879234669734366, 2.164352855784437, 4.544068044350276, 2.503790683057181, 3.651762447380111, 3.2643455070500926, 3.325925955771466, 2.247973266361807, 3.651762447380111, 2.938519725176492, 3.070037866607755, 2.884795363948981, 2.6127838567197355, 3.775756037844098, 2.8068580295188172, 3.8516863154424277, 2.663700925389648, 4.101540872558349, 4.544068044350276, 2.7589118923979736, 3.2638726768652235, 3.3261309567107946, 3.1942367487238292, 2.938519725176492, 3.1942367487238292, 2.041392685158225, 3.7137424784090824, 2.7442929831226763, 2.9800033715837464, 4.101506496139928, 2.4183012913197452, 2.5514499979728753, 2.4899584794248346, 3.3283796034387376, 2.2528530309798933, 2.682145076373832, 2.7442929831226763, 3.7285161047597666, 2.893206753059848, 3.9076263048432662, 3.6516656039229356, 2.7781512503836434, 3.2641091563058082, 2.7972675408307164, 2.9380190974762104, 3.0729847446279304, 3.1300119496719043, 3.070037866607755, 2.682145076373832, 3.584670384464349, 3.2641091563058082, 2.403120521175818, 2.6748611407378116, 2.8432327780980096, 3.3881012015705165], \"xaxis\": \"x\", \"y\": [3.5224143601461106, 3.3694522698010303, 2.9211035222080444, 3.4672337163386118, 2.9498124971546087, 2.8003562965927657, 2.6609818685494138, 2.915834388514871, 3.517231590153419, 3.50213278242285, 3.3373043181869084, 2.981279762330244, 3.2728588610284106, 2.8120472247806623, 3.253460307670151, 3.4922919963620775, 3.517231590153419, 3.081365273554574, 3.1454408333797597, 3.1099500334884578, 3.006079994655048, 3.3442117872698374, 2.812935721414936, 3.2715159422615985, 2.8911918230413547, 3.706699316323359, 2.8234521862564375, 3.1023096356367175, 3.4249822599110917, 3.8400661148181374, 2.786433162339172, 3.2133734142263237, 3.476168619961232, 3.1099500334884578, 3.325385330385658, 3.469099958451536, 3.1640671223774346, 2.760883153348925, 4.089437419904262, 3.5123223357750035, 3.9324124814336425, 3.4771442520525726, 3.098810296057589, 3.4510046726721084, 2.9750791652279895, 3.2804100773965583, 2.824125711184114, 2.959242696358461, 2.8120472247806623, 2.901607174606034, 2.812935721414936, 3.4833862700189817, 4.019750067712227, 3.401864489097176, 2.8003562965927657, 2.9681700665378186, 3.1105941586287624, 2.8420256139848457, 3.0116163005002, 2.8145491721546767, 3.50213278242285, 3.2304397371733597, 3.4333967684215705, 2.983213844136661, 2.8911918230413547, 3.081365273554574, 2.9252141107445664, 3.1659965998153394, 2.9078049435678532, 3.2804100773965583, 4.019750067712227, 3.068958202835553, 3.0554040093933716, 2.95066460956446, 3.2823373222705237, 2.7758314468656944, 3.21413304850812, 3.0554040093933716], \"yaxis\": \"y\"}],                        {\"font\": {\"color\": \"black\", \"family\": \"Helvetica Neue, Helvetica, Arial, sans-serif\"}, \"legend\": {\"title\": {}, \"tracegroupgap\": 0, \"x\": 0.01, \"xanchor\": \"left\", \"y\": 0.99, \"yanchor\": \"top\"}, \"margin\": {\"t\": 60}, \"template\": {\"data\": {\"bar\": [{\"error_x\": {\"color\": \"#2a3f5f\"}, \"error_y\": {\"color\": \"#2a3f5f\"}, \"marker\": {\"line\": {\"color\": \"#E5ECF6\", \"width\": 0.5}}, \"type\": \"bar\"}], \"barpolar\": [{\"marker\": {\"line\": {\"color\": \"#E5ECF6\", \"width\": 0.5}}, \"type\": \"barpolar\"}], \"carpet\": [{\"aaxis\": {\"endlinecolor\": \"#2a3f5f\", \"gridcolor\": \"white\", \"linecolor\": \"white\", \"minorgridcolor\": \"white\", \"startlinecolor\": \"#2a3f5f\"}, \"baxis\": {\"endlinecolor\": \"#2a3f5f\", \"gridcolor\": \"white\", \"linecolor\": \"white\", \"minorgridcolor\": \"white\", \"startlinecolor\": \"#2a3f5f\"}, \"type\": \"carpet\"}], \"choropleth\": [{\"colorbar\": {\"outlinewidth\": 0, \"ticks\": \"\"}, \"type\": \"choropleth\"}], \"contour\": [{\"colorbar\": {\"outlinewidth\": 0, \"ticks\": \"\"}, \"colorscale\": [[0.0, \"#0d0887\"], [0.1111111111111111, \"#46039f\"], [0.2222222222222222, \"#7201a8\"], [0.3333333333333333, \"#9c179e\"], [0.4444444444444444, \"#bd3786\"], [0.5555555555555556, \"#d8576b\"], [0.6666666666666666, \"#ed7953\"], [0.7777777777777778, \"#fb9f3a\"], [0.8888888888888888, \"#fdca26\"], [1.0, \"#f0f921\"]], \"type\": \"contour\"}], \"contourcarpet\": [{\"colorbar\": {\"outlinewidth\": 0, \"ticks\": \"\"}, \"type\": \"contourcarpet\"}], \"heatmap\": [{\"colorbar\": {\"outlinewidth\": 0, \"ticks\": \"\"}, \"colorscale\": [[0.0, \"#0d0887\"], [0.1111111111111111, \"#46039f\"], [0.2222222222222222, \"#7201a8\"], [0.3333333333333333, \"#9c179e\"], [0.4444444444444444, \"#bd3786\"], [0.5555555555555556, \"#d8576b\"], [0.6666666666666666, \"#ed7953\"], [0.7777777777777778, \"#fb9f3a\"], [0.8888888888888888, \"#fdca26\"], [1.0, \"#f0f921\"]], \"type\": \"heatmap\"}], \"heatmapgl\": [{\"colorbar\": {\"outlinewidth\": 0, \"ticks\": \"\"}, \"colorscale\": [[0.0, \"#0d0887\"], [0.1111111111111111, \"#46039f\"], [0.2222222222222222, \"#7201a8\"], [0.3333333333333333, \"#9c179e\"], [0.4444444444444444, \"#bd3786\"], [0.5555555555555556, \"#d8576b\"], [0.6666666666666666, \"#ed7953\"], [0.7777777777777778, \"#fb9f3a\"], [0.8888888888888888, \"#fdca26\"], [1.0, \"#f0f921\"]], \"type\": \"heatmapgl\"}], \"histogram\": [{\"marker\": {\"colorbar\": {\"outlinewidth\": 0, \"ticks\": \"\"}}, \"type\": \"histogram\"}], \"histogram2d\": [{\"colorbar\": {\"outlinewidth\": 0, \"ticks\": \"\"}, \"colorscale\": [[0.0, \"#0d0887\"], [0.1111111111111111, \"#46039f\"], [0.2222222222222222, \"#7201a8\"], [0.3333333333333333, \"#9c179e\"], [0.4444444444444444, \"#bd3786\"], [0.5555555555555556, \"#d8576b\"], [0.6666666666666666, \"#ed7953\"], [0.7777777777777778, \"#fb9f3a\"], [0.8888888888888888, \"#fdca26\"], [1.0, \"#f0f921\"]], \"type\": \"histogram2d\"}], \"histogram2dcontour\": [{\"colorbar\": {\"outlinewidth\": 0, \"ticks\": \"\"}, \"colorscale\": [[0.0, \"#0d0887\"], [0.1111111111111111, \"#46039f\"], [0.2222222222222222, \"#7201a8\"], [0.3333333333333333, \"#9c179e\"], [0.4444444444444444, \"#bd3786\"], [0.5555555555555556, \"#d8576b\"], [0.6666666666666666, \"#ed7953\"], [0.7777777777777778, \"#fb9f3a\"], [0.8888888888888888, \"#fdca26\"], [1.0, \"#f0f921\"]], \"type\": \"histogram2dcontour\"}], \"mesh3d\": [{\"colorbar\": {\"outlinewidth\": 0, \"ticks\": \"\"}, \"type\": \"mesh3d\"}], \"parcoords\": [{\"line\": {\"colorbar\": {\"outlinewidth\": 0, \"ticks\": \"\"}}, \"type\": \"parcoords\"}], \"pie\": [{\"automargin\": true, \"type\": \"pie\"}], \"scatter\": [{\"marker\": {\"colorbar\": {\"outlinewidth\": 0, \"ticks\": \"\"}}, \"type\": \"scatter\"}], \"scatter3d\": [{\"line\": {\"colorbar\": {\"outlinewidth\": 0, \"ticks\": \"\"}}, \"marker\": {\"colorbar\": {\"outlinewidth\": 0, \"ticks\": \"\"}}, \"type\": \"scatter3d\"}], \"scattercarpet\": [{\"marker\": {\"colorbar\": {\"outlinewidth\": 0, \"ticks\": \"\"}}, \"type\": \"scattercarpet\"}], \"scattergeo\": [{\"marker\": {\"colorbar\": {\"outlinewidth\": 0, \"ticks\": \"\"}}, \"type\": \"scattergeo\"}], \"scattergl\": [{\"marker\": {\"colorbar\": {\"outlinewidth\": 0, \"ticks\": \"\"}}, \"type\": \"scattergl\"}], \"scattermapbox\": [{\"marker\": {\"colorbar\": {\"outlinewidth\": 0, \"ticks\": \"\"}}, \"type\": \"scattermapbox\"}], \"scatterpolar\": [{\"marker\": {\"colorbar\": {\"outlinewidth\": 0, \"ticks\": \"\"}}, \"type\": \"scatterpolar\"}], \"scatterpolargl\": [{\"marker\": {\"colorbar\": {\"outlinewidth\": 0, \"ticks\": \"\"}}, \"type\": \"scatterpolargl\"}], \"scatterternary\": [{\"marker\": {\"colorbar\": {\"outlinewidth\": 0, \"ticks\": \"\"}}, \"type\": \"scatterternary\"}], \"surface\": [{\"colorbar\": {\"outlinewidth\": 0, \"ticks\": \"\"}, \"colorscale\": [[0.0, \"#0d0887\"], [0.1111111111111111, \"#46039f\"], [0.2222222222222222, \"#7201a8\"], [0.3333333333333333, \"#9c179e\"], [0.4444444444444444, \"#bd3786\"], [0.5555555555555556, \"#d8576b\"], [0.6666666666666666, \"#ed7953\"], [0.7777777777777778, \"#fb9f3a\"], [0.8888888888888888, \"#fdca26\"], [1.0, \"#f0f921\"]], \"type\": \"surface\"}], \"table\": [{\"cells\": {\"fill\": {\"color\": \"#EBF0F8\"}, \"line\": {\"color\": \"white\"}}, \"header\": {\"fill\": {\"color\": \"#C8D4E3\"}, \"line\": {\"color\": \"white\"}}, \"type\": \"table\"}]}, \"layout\": {\"annotationdefaults\": {\"arrowcolor\": \"#2a3f5f\", \"arrowhead\": 0, \"arrowwidth\": 1}, \"autotypenumbers\": \"strict\", \"coloraxis\": {\"colorbar\": {\"outlinewidth\": 0, \"ticks\": \"\"}}, \"colorscale\": {\"diverging\": [[0, \"#8e0152\"], [0.1, \"#c51b7d\"], [0.2, \"#de77ae\"], [0.3, \"#f1b6da\"], [0.4, \"#fde0ef\"], [0.5, \"#f7f7f7\"], [0.6, \"#e6f5d0\"], [0.7, \"#b8e186\"], [0.8, \"#7fbc41\"], [0.9, \"#4d9221\"], [1, \"#276419\"]], \"sequential\": [[0.0, \"#0d0887\"], [0.1111111111111111, \"#46039f\"], [0.2222222222222222, \"#7201a8\"], [0.3333333333333333, \"#9c179e\"], [0.4444444444444444, \"#bd3786\"], [0.5555555555555556, \"#d8576b\"], [0.6666666666666666, \"#ed7953\"], [0.7777777777777778, \"#fb9f3a\"], [0.8888888888888888, \"#fdca26\"], [1.0, \"#f0f921\"]], \"sequentialminus\": [[0.0, \"#0d0887\"], [0.1111111111111111, \"#46039f\"], [0.2222222222222222, \"#7201a8\"], [0.3333333333333333, \"#9c179e\"], [0.4444444444444444, \"#bd3786\"], [0.5555555555555556, \"#d8576b\"], [0.6666666666666666, \"#ed7953\"], [0.7777777777777778, \"#fb9f3a\"], [0.8888888888888888, \"#fdca26\"], [1.0, \"#f0f921\"]]}, \"colorway\": [\"#636efa\", \"#EF553B\", \"#00cc96\", \"#ab63fa\", \"#FFA15A\", \"#19d3f3\", \"#FF6692\", \"#B6E880\", \"#FF97FF\", \"#FECB52\"], \"font\": {\"color\": \"#2a3f5f\"}, \"geo\": {\"bgcolor\": \"white\", \"lakecolor\": \"white\", \"landcolor\": \"#E5ECF6\", \"showlakes\": true, \"showland\": true, \"subunitcolor\": \"white\"}, \"hoverlabel\": {\"align\": \"left\"}, \"hovermode\": \"closest\", \"mapbox\": {\"style\": \"light\"}, \"paper_bgcolor\": \"white\", \"plot_bgcolor\": \"#E5ECF6\", \"polar\": {\"angularaxis\": {\"gridcolor\": \"white\", \"linecolor\": \"white\", \"ticks\": \"\"}, \"bgcolor\": \"#E5ECF6\", \"radialaxis\": {\"gridcolor\": \"white\", \"linecolor\": \"white\", \"ticks\": \"\"}}, \"scene\": {\"xaxis\": {\"backgroundcolor\": \"#E5ECF6\", \"gridcolor\": \"white\", \"gridwidth\": 2, \"linecolor\": \"white\", \"showbackground\": true, \"ticks\": \"\", \"zerolinecolor\": \"white\"}, \"yaxis\": {\"backgroundcolor\": \"#E5ECF6\", \"gridcolor\": \"white\", \"gridwidth\": 2, \"linecolor\": \"white\", \"showbackground\": true, \"ticks\": \"\", \"zerolinecolor\": \"white\"}, \"zaxis\": {\"backgroundcolor\": \"#E5ECF6\", \"gridcolor\": \"white\", \"gridwidth\": 2, \"linecolor\": \"white\", \"showbackground\": true, \"ticks\": \"\", \"zerolinecolor\": \"white\"}}, \"shapedefaults\": {\"line\": {\"color\": \"#2a3f5f\"}}, \"ternary\": {\"aaxis\": {\"gridcolor\": \"white\", \"linecolor\": \"white\", \"ticks\": \"\"}, \"baxis\": {\"gridcolor\": \"white\", \"linecolor\": \"white\", \"ticks\": \"\"}, \"bgcolor\": \"#E5ECF6\", \"caxis\": {\"gridcolor\": \"white\", \"linecolor\": \"white\", \"ticks\": \"\"}}, \"title\": {\"x\": 0.05}, \"xaxis\": {\"automargin\": true, \"gridcolor\": \"white\", \"linecolor\": \"white\", \"ticks\": \"\", \"title\": {\"standoff\": 15}, \"zerolinecolor\": \"white\", \"zerolinewidth\": 2}, \"yaxis\": {\"automargin\": true, \"gridcolor\": \"white\", \"linecolor\": \"white\", \"ticks\": \"\", \"title\": {\"standoff\": 15}, \"zerolinecolor\": \"white\", \"zerolinewidth\": 2}}}, \"title\": {\"text\": \"Model fit of Random Forest model\"}, \"xaxis\": {\"anchor\": \"y\", \"domain\": [0.0, 1.0], \"title\": {\"text\": \"measured data (sample)\"}}, \"yaxis\": {\"anchor\": \"x\", \"domain\": [0.0, 1.0], \"title\": {\"text\": \"ground truth and predicted\"}}},                        {\"responsive\": true}                    ).then(function(){\n",
       "                            \n",
       "var gd = document.getElementById('747042c1-f296-4578-a490-a4720e5e1a4b');\n",
       "var x = new MutationObserver(function (mutations, observer) {{\n",
       "        var display = window.getComputedStyle(gd).display;\n",
       "        if (!display || display === 'none') {{\n",
       "            console.log([gd, 'removed!']);\n",
       "            Plotly.purge(gd);\n",
       "            observer.disconnect();\n",
       "        }}\n",
       "}});\n",
       "\n",
       "// Listen for the removal of the full notebook cells\n",
       "var notebookContainer = gd.closest('#notebook-container');\n",
       "if (notebookContainer) {{\n",
       "    x.observe(notebookContainer, {childList: true});\n",
       "}}\n",
       "\n",
       "// Listen for the clearing of the current output cell\n",
       "var outputEl = gd.closest('.output');\n",
       "if (outputEl) {{\n",
       "    x.observe(outputEl, {childList: true});\n",
       "}}\n",
       "\n",
       "                        })                };                });            </script>        </div>"
      ]
     },
     "metadata": {},
     "output_type": "display_data"
    }
   ],
   "source": [
    "fig = px.scatter(y = bart.predict(X_test), x = y_test, \n",
    "           color_discrete_sequence=['#212c52','light grey', '#75c3ff','light grey'])\n",
    "fig.update_layout(\n",
    "    font_family=\"Helvetica Neue, Helvetica, Arial, sans-serif\",\n",
    "    font_color=\"black\",\n",
    "    title = {'text':'Model fit of Random Forest model'},\n",
    "    xaxis_title = \"measured data (sample)\",\n",
    "    yaxis_title = \"ground truth and predicted\",\n",
    "    #markersize= 12,\n",
    "  )\n",
    "fig.update_layout(legend=dict(\n",
    "    yanchor=\"top\",\n",
    "    title=None,\n",
    "    y=0.99,\n",
    "    xanchor=\"left\",\n",
    "    x=0.01\n",
    "))\n",
    "fig.update_traces(marker_size = 10)"
   ]
  },
  {
   "cell_type": "code",
   "execution_count": 206,
   "id": "worth-cedar",
   "metadata": {},
   "outputs": [],
   "source": [
    "predicitons = bart.predict(X_test)"
   ]
  },
  {
   "cell_type": "code",
   "execution_count": 207,
   "id": "egyptian-petroleum",
   "metadata": {},
   "outputs": [
    {
     "data": {
      "text/plain": [
       "['__class__',\n",
       " '__delattr__',\n",
       " '__dict__',\n",
       " '__dir__',\n",
       " '__doc__',\n",
       " '__eq__',\n",
       " '__format__',\n",
       " '__ge__',\n",
       " '__getattribute__',\n",
       " '__getstate__',\n",
       " '__gt__',\n",
       " '__hash__',\n",
       " '__init__',\n",
       " '__init_subclass__',\n",
       " '__le__',\n",
       " '__lt__',\n",
       " '__module__',\n",
       " '__ne__',\n",
       " '__new__',\n",
       " '__reduce__',\n",
       " '__reduce_ex__',\n",
       " '__repr__',\n",
       " '__setattr__',\n",
       " '__setstate__',\n",
       " '__sizeof__',\n",
       " '__str__',\n",
       " '__subclasshook__',\n",
       " '__weakref__',\n",
       " '_acceptance_trace',\n",
       " '_check_n_features',\n",
       " '_combine_chains',\n",
       " '_construct_model',\n",
       " '_convert_covariates_to_data',\n",
       " '_estimator_type',\n",
       " '_get_param_names',\n",
       " '_get_tags',\n",
       " '_model_samples',\n",
       " '_more_tags',\n",
       " '_out_of_sample_predict',\n",
       " '_prediction_samples',\n",
       " '_repr_html_',\n",
       " '_repr_html_inner',\n",
       " '_repr_mimebundle_',\n",
       " '_validate_data',\n",
       " 'acceptance_trace',\n",
       " 'alpha',\n",
       " 'beta',\n",
       " 'columns',\n",
       " 'combined_chains',\n",
       " 'data',\n",
       " 'extract',\n",
       " 'f_chains',\n",
       " 'f_delayed_chains',\n",
       " 'fit',\n",
       " 'fit_predict',\n",
       " 'from_extract',\n",
       " 'get_params',\n",
       " 'initializer',\n",
       " 'l2_error',\n",
       " 'model',\n",
       " 'model_samples',\n",
       " 'n_burn',\n",
       " 'n_chains',\n",
       " 'n_jobs',\n",
       " 'n_samples',\n",
       " 'n_trees',\n",
       " 'p_grow',\n",
       " 'p_prune',\n",
       " 'predict',\n",
       " 'prediction_samples',\n",
       " 'residuals',\n",
       " 'rmse',\n",
       " 'sampler',\n",
       " 'schedule',\n",
       " 'score',\n",
       " 'set_params',\n",
       " 'sigma',\n",
       " 'sigma_a',\n",
       " 'sigma_b',\n",
       " 'store_acceptance_trace',\n",
       " 'store_in_sample_predictions',\n",
       " 'thin',\n",
       " 'tree_sampler']"
      ]
     },
     "execution_count": 207,
     "metadata": {},
     "output_type": "execute_result"
    }
   ],
   "source": [
    "dir(bart)"
   ]
  },
  {
   "cell_type": "code",
   "execution_count": 1,
   "id": "square-berlin",
   "metadata": {},
   "outputs": [
    {
     "ename": "NameError",
     "evalue": "name 'bart' is not defined",
     "output_type": "error",
     "traceback": [
      "\u001b[1;31m---------------------------------------------------------------------------\u001b[0m",
      "\u001b[1;31mNameError\u001b[0m                                 Traceback (most recent call last)",
      "\u001b[1;32m<ipython-input-1-84111b57dae1>\u001b[0m in \u001b[0;36m<module>\u001b[1;34m\u001b[0m\n\u001b[1;32m----> 1\u001b[1;33m \u001b[0mbart\u001b[0m\u001b[1;33m\u001b[0m\u001b[1;33m\u001b[0m\u001b[0m\n\u001b[0m",
      "\u001b[1;31mNameError\u001b[0m: name 'bart' is not defined"
     ]
    }
   ],
   "source": []
  }
 ],
 "metadata": {
  "kernelspec": {
   "display_name": "Django Shell-Plus",
   "language": "python",
   "name": "django_extensions"
  },
  "language_info": {
   "codemirror_mode": {
    "name": "ipython",
    "version": 3
   },
   "file_extension": ".py",
   "mimetype": "text/x-python",
   "name": "python",
   "nbconvert_exporter": "python",
   "pygments_lexer": "ipython3",
   "version": "3.9.1"
  }
 },
 "nbformat": 4,
 "nbformat_minor": 5
}
