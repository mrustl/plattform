{
 "cells": [
  {
   "cell_type": "code",
   "execution_count": 152,
   "id": "spatial-forest",
   "metadata": {},
   "outputs": [],
   "source": [
    "from ews.models import BathingSpot\n",
    "from django_pandas.io import read_frame\n",
    "import pandas as pd\n",
    "import numpy as np\n",
    "import json\n",
    "from sklearn.model_selection import train_test_split\n",
    "from sklearn.ensemble import RandomForestRegressor\n",
    "from sklearn.metrics import mean_squared_error as MSE\n",
    "from shapely.geometry import shape, Point\n",
    "import plotly.express as px\n",
    "import statsmodels\n"
   ]
  },
  {
   "cell_type": "code",
   "execution_count": 153,
   "id": "eastern-swiss",
   "metadata": {},
   "outputs": [
    {
     "ename": "DoesNotExist",
     "evalue": "PredictionModel matching query does not exist.",
     "output_type": "error",
     "traceback": [
      "\u001b[1;31m---------------------------------------------------------------------------\u001b[0m",
      "\u001b[1;31mDoesNotExist\u001b[0m                              Traceback (most recent call last)",
      "\u001b[1;32m<ipython-input-153-83d659ee4f1b>\u001b[0m in \u001b[0;36m<module>\u001b[1;34m\u001b[0m\n\u001b[1;32m----> 1\u001b[1;33m \u001b[0mmodel\u001b[0m \u001b[1;33m=\u001b[0m \u001b[0mPredictionModel\u001b[0m\u001b[1;33m.\u001b[0m\u001b[0mobjects\u001b[0m\u001b[1;33m.\u001b[0m\u001b[0mget\u001b[0m\u001b[1;33m(\u001b[0m\u001b[0mname\u001b[0m \u001b[1;33m=\u001b[0m \u001b[1;34m\"ML model1\"\u001b[0m\u001b[1;33m)\u001b[0m\u001b[1;33m\u001b[0m\u001b[1;33m\u001b[0m\u001b[0m\n\u001b[0m",
      "\u001b[1;32m~\\miniconda3\\envs\\DWC\\lib\\site-packages\\django\\db\\models\\manager.py\u001b[0m in \u001b[0;36mmanager_method\u001b[1;34m(self, *args, **kwargs)\u001b[0m\n\u001b[0;32m     83\u001b[0m         \u001b[1;32mdef\u001b[0m \u001b[0mcreate_method\u001b[0m\u001b[1;33m(\u001b[0m\u001b[0mname\u001b[0m\u001b[1;33m,\u001b[0m \u001b[0mmethod\u001b[0m\u001b[1;33m)\u001b[0m\u001b[1;33m:\u001b[0m\u001b[1;33m\u001b[0m\u001b[1;33m\u001b[0m\u001b[0m\n\u001b[0;32m     84\u001b[0m             \u001b[1;32mdef\u001b[0m \u001b[0mmanager_method\u001b[0m\u001b[1;33m(\u001b[0m\u001b[0mself\u001b[0m\u001b[1;33m,\u001b[0m \u001b[1;33m*\u001b[0m\u001b[0margs\u001b[0m\u001b[1;33m,\u001b[0m \u001b[1;33m**\u001b[0m\u001b[0mkwargs\u001b[0m\u001b[1;33m)\u001b[0m\u001b[1;33m:\u001b[0m\u001b[1;33m\u001b[0m\u001b[1;33m\u001b[0m\u001b[0m\n\u001b[1;32m---> 85\u001b[1;33m                 \u001b[1;32mreturn\u001b[0m \u001b[0mgetattr\u001b[0m\u001b[1;33m(\u001b[0m\u001b[0mself\u001b[0m\u001b[1;33m.\u001b[0m\u001b[0mget_queryset\u001b[0m\u001b[1;33m(\u001b[0m\u001b[1;33m)\u001b[0m\u001b[1;33m,\u001b[0m \u001b[0mname\u001b[0m\u001b[1;33m)\u001b[0m\u001b[1;33m(\u001b[0m\u001b[1;33m*\u001b[0m\u001b[0margs\u001b[0m\u001b[1;33m,\u001b[0m \u001b[1;33m**\u001b[0m\u001b[0mkwargs\u001b[0m\u001b[1;33m)\u001b[0m\u001b[1;33m\u001b[0m\u001b[1;33m\u001b[0m\u001b[0m\n\u001b[0m\u001b[0;32m     86\u001b[0m             \u001b[0mmanager_method\u001b[0m\u001b[1;33m.\u001b[0m\u001b[0m__name__\u001b[0m \u001b[1;33m=\u001b[0m \u001b[0mmethod\u001b[0m\u001b[1;33m.\u001b[0m\u001b[0m__name__\u001b[0m\u001b[1;33m\u001b[0m\u001b[1;33m\u001b[0m\u001b[0m\n\u001b[0;32m     87\u001b[0m             \u001b[0mmanager_method\u001b[0m\u001b[1;33m.\u001b[0m\u001b[0m__doc__\u001b[0m \u001b[1;33m=\u001b[0m \u001b[0mmethod\u001b[0m\u001b[1;33m.\u001b[0m\u001b[0m__doc__\u001b[0m\u001b[1;33m\u001b[0m\u001b[1;33m\u001b[0m\u001b[0m\n",
      "\u001b[1;32m~\\miniconda3\\envs\\DWC\\lib\\site-packages\\django\\db\\models\\query.py\u001b[0m in \u001b[0;36mget\u001b[1;34m(self, *args, **kwargs)\u001b[0m\n\u001b[0;32m    427\u001b[0m             \u001b[1;32mreturn\u001b[0m \u001b[0mclone\u001b[0m\u001b[1;33m.\u001b[0m\u001b[0m_result_cache\u001b[0m\u001b[1;33m[\u001b[0m\u001b[1;36m0\u001b[0m\u001b[1;33m]\u001b[0m\u001b[1;33m\u001b[0m\u001b[1;33m\u001b[0m\u001b[0m\n\u001b[0;32m    428\u001b[0m         \u001b[1;32mif\u001b[0m \u001b[1;32mnot\u001b[0m \u001b[0mnum\u001b[0m\u001b[1;33m:\u001b[0m\u001b[1;33m\u001b[0m\u001b[1;33m\u001b[0m\u001b[0m\n\u001b[1;32m--> 429\u001b[1;33m             raise self.model.DoesNotExist(\n\u001b[0m\u001b[0;32m    430\u001b[0m                 \u001b[1;34m\"%s matching query does not exist.\"\u001b[0m \u001b[1;33m%\u001b[0m\u001b[1;33m\u001b[0m\u001b[1;33m\u001b[0m\u001b[0m\n\u001b[0;32m    431\u001b[0m                 \u001b[0mself\u001b[0m\u001b[1;33m.\u001b[0m\u001b[0mmodel\u001b[0m\u001b[1;33m.\u001b[0m\u001b[0m_meta\u001b[0m\u001b[1;33m.\u001b[0m\u001b[0mobject_name\u001b[0m\u001b[1;33m\u001b[0m\u001b[1;33m\u001b[0m\u001b[0m\n",
      "\u001b[1;31mDoesNotExist\u001b[0m: PredictionModel matching query does not exist."
     ]
    }
   ],
   "source": [
    "model = PredictionModel.objects.get(name = \"ML model1\")"
   ]
  },
  {
   "cell_type": "code",
   "execution_count": null,
   "id": "gorgeous-digest",
   "metadata": {},
   "outputs": [],
   "source": [
    "PredictionModel.objects.all()"
   ]
  },
  {
   "cell_type": "code",
   "execution_count": null,
   "id": "upper-innocent",
   "metadata": {},
   "outputs": [],
   "source": [
    "areas = read_frame(model.area.all())"
   ]
  },
  {
   "cell_type": "code",
   "execution_count": null,
   "id": "solid-embassy",
   "metadata": {},
   "outputs": [],
   "source": [
    "areavars = []\n",
    "for index1, row1 in areas.iterrows():\n",
    "    df = read_frame(Site.objects.filter(feature_type = FeatureType.objects.get(name=row1[\"feature_type\"])))\n",
    "    polygon = shape(row1[\"geom\"])\n",
    "    select = []\n",
    "    \n",
    "    for index2, row2 in df.iterrows():\n",
    "        select.append(polygon.contains(shape(row2['geom'])))\n",
    "    data = read_frame(FeatureData.objects.filter(site__in = df[select]['id']), index_col = \"date\")\n",
    "    data[\"area\"] = row1[\"name\"]\n",
    "    data[\"feature_type\"] = row1[\"feature_type\"]\n",
    "    areavars.append(data)"
   ]
  },
  {
   "cell_type": "code",
   "execution_count": null,
   "id": "obvious-rocket",
   "metadata": {},
   "outputs": [],
   "source": [
    "lagvars = []\n",
    "\n",
    "for i in range(len(areavars)):\n",
    "    ft = areavars[i].area.unique()\n",
    "    d = areavars[i].pivot(columns = 'site', values = 'value')\n",
    "    if len(d.columns) > 1:\n",
    "        d = pd.DataFrame(d.mean(axis = 1, skipna = True))\n",
    "    for j in [1, 2, 3, 4, 5]:\n",
    "        df = pd.DataFrame()\n",
    "        df[ft + '_shift_'+ str(j)] = d.rolling(window=j).mean().shift(1)\n",
    "        lagvars.append(df)\n",
    "        \n",
    "res = pd.concat(lagvars, axis = 1)"
   ]
  },
  {
   "cell_type": "code",
   "execution_count": null,
   "id": "corporate-arabic",
   "metadata": {},
   "outputs": [],
   "source": [
    "res.filter(regex='_shift_1').plot()"
   ]
  },
  {
   "cell_type": "code",
   "execution_count": null,
   "id": "received-blake",
   "metadata": {},
   "outputs": [],
   "source": [
    "res = res[res.index.month.isin([ 6, 7, 8, 9])].reset_index()"
   ]
  },
  {
   "cell_type": "code",
   "execution_count": null,
   "id": "extreme-calibration",
   "metadata": {},
   "outputs": [],
   "source": [
    "FIB = read_frame(FeatureData.objects.filter(site = model.site.all()[0]))"
   ]
  },
  {
   "cell_type": "code",
   "execution_count": null,
   "id": "horizontal-parallel",
   "metadata": {},
   "outputs": [],
   "source": [
    "\n",
    "d = FIB.merge(res, on= \"date\")"
   ]
  },
  {
   "cell_type": "code",
   "execution_count": null,
   "id": "specified-trance",
   "metadata": {},
   "outputs": [],
   "source": [
    "D = d.dropna()"
   ]
  },
  {
   "cell_type": "code",
   "execution_count": null,
   "id": "sharp-consideration",
   "metadata": {},
   "outputs": [],
   "source": [
    "y = np.log10(D[\"value\"])"
   ]
  },
  {
   "cell_type": "code",
   "execution_count": null,
   "id": "connected-headset",
   "metadata": {},
   "outputs": [],
   "source": [
    "X = D.drop([\"date\", \"value\", \"id\", \"site\"], axis = 1)"
   ]
  },
  {
   "cell_type": "code",
   "execution_count": null,
   "id": "lucky-george",
   "metadata": {},
   "outputs": [],
   "source": [
    "rf = RandomForestRegressor()\n",
    "rf.fit(X, y)\n",
    "y_pred= rf.predict(X)\n",
    "MSE(y, y_pred)"
   ]
  },
  {
   "cell_type": "code",
   "execution_count": null,
   "id": "welsh-barbados",
   "metadata": {},
   "outputs": [],
   "source": [
    "df = pd.DataFrame({'meas': y, 'pred':y_pred})"
   ]
  },
  {
   "cell_type": "code",
   "execution_count": null,
   "id": "treated-rendering",
   "metadata": {},
   "outputs": [],
   "source": [
    "fig = px.scatter(df, x = \"meas\", y = \"pred\", trendline=\"ols\")\n",
    "\n",
    "fig.update_layout(\n",
    "    font_family=\"Helvetica Neue, Helvetica, Arial, sans-serif\",\n",
    "    font_color=\"black\",\n",
    "    title = {'text':'Model fit of Random Forest model'},\n",
    "    xaxis_title = \"measured data (sample)\",\n",
    "    yaxis_title = \"fitted values (in sample fit)\",\n",
    "    #markercolor = \"#212c52\"\n",
    "  \n",
    ")\n",
    "fig.update_traces(marker_color='#75c3ff', marker_line_color='#212c52',\n",
    "                  marker_line_width=1.5, opacity=1)\n",
    "\n",
    "fig.show()"
   ]
  },
  {
   "cell_type": "code",
   "execution_count": null,
   "id": "emerging-assistant",
   "metadata": {},
   "outputs": [],
   "source": [
    "results = px.get_trendline_results(fig)\n",
    "print(results)\n",
    "\n",
    "#results.query(\"sex == 'Male' and smoker == 'Yes'\").px_fit_results.iloc[0].summary()"
   ]
  },
  {
   "cell_type": "code",
   "execution_count": null,
   "id": "civilian-hacker",
   "metadata": {},
   "outputs": [],
   "source": [
    "results.px_fit_results[0].summary()"
   ]
  },
  {
   "cell_type": "code",
   "execution_count": null,
   "id": "actual-applicant",
   "metadata": {},
   "outputs": [],
   "source": [
    "importances = pd.Series(data=rf.feature_importances_,\n",
    "                        index= X.columns)\n",
    "\n",
    "# Sort importances\n",
    "importances_sorted = importances.sort_values()\n",
    "importances_df = importances_sorted.reset_index()\n",
    "importances_df.columns = [\"feature\", \"importance\"]"
   ]
  },
  {
   "cell_type": "code",
   "execution_count": null,
   "id": "third-terrorist",
   "metadata": {},
   "outputs": [],
   "source": [
    "# Draw a horizontal barplot of importances_sorted\n",
    "import plotly.express as px\n",
    "\n",
    "fig = px.bar(importances_df, y=\"feature\", x=\"importance\", orientation='h'    )\n",
    "\n",
    "fig.update_layout(\n",
    "    font_family=\"Helvetica Neue, Helvetica, Arial, sans-serif\",\n",
    "    font_color=\"black\",\n",
    "    title = {'text':'Feature importance of Random Forest model'}\n",
    "    #markercolor = \"#212c52\"\n",
    "  \n",
    ")\n",
    "fig.update_traces(marker_color='#75c3ff', marker_line_color='#75c3ff',\n",
    "                  marker_line_width=1.5, opacity=1)\n",
    "\n",
    "fig.show()\n"
   ]
  }
 ],
 "metadata": {
  "kernelspec": {
   "display_name": "Django Shell-Plus",
   "language": "python",
   "name": "django_extensions"
  },
  "language_info": {
   "codemirror_mode": {
    "name": "ipython",
    "version": 3
   },
   "file_extension": ".py",
   "mimetype": "text/x-python",
   "name": "python",
   "nbconvert_exporter": "python",
   "pygments_lexer": "ipython3",
   "version": "3.9.1"
  }
 },
 "nbformat": 4,
 "nbformat_minor": 5
}
