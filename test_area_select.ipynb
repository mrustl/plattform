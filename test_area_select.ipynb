{
 "cells": [
  {
   "cell_type": "code",
   "execution_count": 247,
   "id": "spatial-forest",
   "metadata": {},
   "outputs": [],
   "source": [
    "from ews.models import BathingSpot\n",
    "from django_pandas.io import read_frame\n",
    "import pandas as pd\n",
    "import numpy as np\n",
    "import json\n",
    "from sklearn.model_selection import train_test_split\n",
    "from sklearn.ensemble import RandomForestRegressor\n",
    "from sklearn.metrics import mean_squared_error as MSE\n",
    "from shapely.geometry import shape, Point\n",
    "import plotly.express as px\n",
    "import statsmodels\n"
   ]
  },
  {
   "cell_type": "code",
   "execution_count": 545,
   "id": "eastern-swiss",
   "metadata": {},
   "outputs": [],
   "source": [
    "model = PredictionModel.objects.get(name = \"Random Forest model\")"
   ]
  },
  {
   "cell_type": "code",
   "execution_count": 546,
   "id": "killing-recommendation",
   "metadata": {},
   "outputs": [
    {
     "data": {
      "text/plain": [
       "<QuerySet [<PredictionModel: testmodel>, <PredictionModel: Random Forest model>, <PredictionModel: Random Forest Marne>, <PredictionModel: Model Pont d'Iena>, <PredictionModel: Pont d'iena_rg (rain/flow)>]>"
      ]
     },
     "execution_count": 546,
     "metadata": {},
     "output_type": "execute_result"
    }
   ],
   "source": [
    "PredictionModel.objects.all()"
   ]
  },
  {
   "cell_type": "code",
   "execution_count": 547,
   "id": "gorgeous-digest",
   "metadata": {},
   "outputs": [
    {
     "data": {
      "text/plain": [
       "<QuerySet [<PredictionModel: testmodel>, <PredictionModel: Random Forest model>, <PredictionModel: Random Forest Marne>, <PredictionModel: Model Pont d'Iena>, <PredictionModel: Pont d'iena_rg (rain/flow)>]>"
      ]
     },
     "execution_count": 547,
     "metadata": {},
     "output_type": "execute_result"
    }
   ],
   "source": [
    "PredictionModel.objects.all()"
   ]
  },
  {
   "cell_type": "code",
   "execution_count": 548,
   "id": "upper-innocent",
   "metadata": {},
   "outputs": [],
   "source": [
    "areas = read_frame(model.area.all())"
   ]
  },
  {
   "cell_type": "code",
   "execution_count": 549,
   "id": "solid-embassy",
   "metadata": {},
   "outputs": [],
   "source": [
    "areavars = []\n",
    "for index1, row1 in areas.iterrows():\n",
    "    df = read_frame(Site.objects.filter(feature_type = FeatureType.objects.get(name=row1[\"feature_type\"])))\n",
    "    polygon = shape(row1[\"geom\"])\n",
    "    select = []\n",
    "    \n",
    "    for index2, row2 in df.iterrows():\n",
    "        select.append(polygon.contains(shape(row2['geom'])))\n",
    "    data = read_frame(FeatureData.objects.filter(site__in = df[select]['id']), index_col = \"date\")\n",
    "    data[\"area\"] = row1[\"name\"]\n",
    "    data[\"feature_type\"] = row1[\"feature_type\"]\n",
    "    areavars.append(data)"
   ]
  },
  {
   "cell_type": "code",
   "execution_count": 550,
   "id": "obvious-rocket",
   "metadata": {},
   "outputs": [],
   "source": [
    "lagvars = []\n",
    "\n",
    "for i in range(len(areavars)):\n",
    "    ft = areavars[i].area.unique()\n",
    "    d = areavars[i].pivot(columns = 'site', values = 'value')\n",
    "    if len(d.columns) > 1:\n",
    "        d = pd.DataFrame(d.mean(axis = 1, skipna = True))\n",
    "    for j in [1, 2, 3, 4, 5]:\n",
    "        df = pd.DataFrame()\n",
    "        df[ft + '_shift_'+ str(j)] = d.rolling(window=j).mean().shift(1)\n",
    "        lagvars.append(df)\n",
    "        \n",
    "res = pd.concat(lagvars, axis = 1)"
   ]
  },
  {
   "cell_type": "code",
   "execution_count": 551,
   "id": "corporate-arabic",
   "metadata": {},
   "outputs": [
    {
     "data": {
      "text/plain": [
       "<AxesSubplot:xlabel='date'>"
      ]
     },
     "execution_count": 551,
     "metadata": {},
     "output_type": "execute_result"
    },
    {
     "data": {
      "image/png": "[encoded data removed]",
      "text/plain": [
       "<Figure size 432x288 with 1 Axes>"
      ]
     },
     "metadata": {
      "needs_background": "light"
     },
     "output_type": "display_data"
    }
   ],
   "source": [
    "res.filter(regex='_shift_1').plot()"
   ]
  },
  {
   "cell_type": "code",
   "execution_count": 552,
   "id": "received-blake",
   "metadata": {},
   "outputs": [],
   "source": [
    "res = res[res.index.month.isin([ 6, 7, 8, 9])].reset_index()"
   ]
  },
  {
   "cell_type": "code",
   "execution_count": 553,
   "id": "extreme-calibration",
   "metadata": {},
   "outputs": [],
   "source": [
    "FIB = read_frame(FeatureData.objects.filter(site = model.site.all()[0]))"
   ]
  },
  {
   "cell_type": "code",
   "execution_count": 554,
   "id": "economic-profile",
   "metadata": {},
   "outputs": [],
   "source": [
    "FIB[\"date\"] = FIB.date.round(\"D\")"
   ]
  },
  {
   "cell_type": "code",
   "execution_count": 555,
   "id": "horizontal-parallel",
   "metadata": {},
   "outputs": [],
   "source": [
    "d = FIB.merge(res, on= \"date\")"
   ]
  },
  {
   "cell_type": "code",
   "execution_count": 556,
   "id": "specified-trance",
   "metadata": {},
   "outputs": [],
   "source": [
    "D = d.dropna()"
   ]
  },
  {
   "cell_type": "code",
   "execution_count": 557,
   "id": "sharp-consideration",
   "metadata": {},
   "outputs": [],
   "source": [
    "y = np.log10(D[\"value\"])"
   ]
  },
  {
   "cell_type": "code",
   "execution_count": 558,
   "id": "connected-headset",
   "metadata": {},
   "outputs": [],
   "source": [
    "X = D.drop([\"date\", \"value\", \"id\", \"site\"], axis = 1)"
   ]
  },
  {
   "cell_type": "code",
   "execution_count": 559,
   "id": "parallel-nerve",
   "metadata": {},
   "outputs": [],
   "source": [
    "X_train, X_test, y_train, y_test = train_test_split(X, y, test_size=0.3, random_state=42)\n"
   ]
  },
  {
   "cell_type": "code",
   "execution_count": 560,
   "id": "bacterial-horse",
   "metadata": {},
   "outputs": [],
   "source": [
    "grid = {'n_estimators':[100], 'max_depth': np.linspace(10, 15, 6), 'max_features': [4,6,8]} \n"
   ]
  },
  {
   "cell_type": "code",
   "execution_count": 561,
   "id": "blocked-synthesis",
   "metadata": {},
   "outputs": [
    {
     "name": "stdout",
     "output_type": "stream",
     "text": [
      "OUT OF SAMPLE METRICS:\n",
      "Tuned  RandomForest R squared: 0.28705763689928854\n",
      "Tuned RandomForestt MSE: 0.2928771113678828\n",
      "---------------------------\n",
      "IN SAMPLE METRICS:\n",
      "Tuned  RandomForest R squared: 0.8998048570189183\n",
      "Tuned RandomForestt MSE: 0.2928771113678828\n"
     ]
    }
   ],
   "source": [
    "\n",
    "from sklearn.model_selection import GridSearchCV, train_test_split\n",
    "\n",
    "\n",
    "# Instantiate the ElasticNet regressor: elastic_net\n",
    "rf = RandomForestRegressor()\n",
    "\n",
    "# Setup the GridSearchCV object: gm_cv\n",
    "gm_cv = GridSearchCV(rf, param_grid=grid, cv = 5)\n",
    "\n",
    "# Fit it to the training data\n",
    "\n",
    "gm_cv.fit(X_train, y_train)\n",
    "rf = RandomForestRegressor(n_estimators = gm_cv.best_params_[\"n_estimators\"],\n",
    "                          max_depth = gm_cv.best_params_[\"max_depth\"],\n",
    "                          max_features = gm_cv.best_params_[\"max_features\"])\n",
    "rf.fit(X_train, y_train)\n",
    "\n",
    "\n",
    "# Predict on the test set and compute metrics\n",
    "y_pred = gm_cv.predict(X_test)\n",
    "y_pred1 = rf.predict(X_test)\n",
    "\n",
    "\n",
    "r2 = gm_cv.score(X_test, y_test)\n",
    "r2_in = gm_cv.score(X_train, y_train)\n",
    "\n",
    "mse = mean_squared_error(y_test, y_pred)\n",
    "mse_in = mean_squared_error(y_train, gm_cv.predict(X_train))\n",
    "\n",
    "print(str(\"OUT OF SAMPLE METRICS:\"))\n",
    "print(\"Tuned  RandomForest R squared: {}\".format(r2))\n",
    "print(\"Tuned RandomForestt MSE: {}\".format(mse))\n",
    "print('---------------------------')\n",
    "print(\"IN SAMPLE METRICS:\")\n",
    "print(\"Tuned  RandomForest R squared: {}\".format(r2_in))\n",
    "print(\"Tuned RandomForestt MSE: {}\".format(mse))\n",
    "\n"
   ]
  },
  {
   "cell_type": "code",
   "execution_count": 562,
   "id": "following-routine",
   "metadata": {},
   "outputs": [
    {
     "data": {
      "text/plain": [
       "{'max_depth': 11.0, 'max_features': 8, 'n_estimators': 100}"
      ]
     },
     "execution_count": 562,
     "metadata": {},
     "output_type": "execute_result"
    }
   ],
   "source": [
    "gm_cv.best_params_"
   ]
  },
  {
   "cell_type": "code",
   "execution_count": 563,
   "id": "welsh-barbados",
   "metadata": {},
   "outputs": [],
   "source": [
    "df_test = pd.DataFrame({'meas': y_test, 'pred': gm_cv.predict(X_test), 'split': 'out of sample'})\n",
    "df_train = pd.DataFrame({'meas': y_train, 'pred': gm_cv.predict(X_train), 'split': 'in sample'})\n",
    "df = pd.concat([df_test, df_train])\n",
    "                        \n"
   ]
  },
  {
   "cell_type": "code",
   "execution_count": 564,
   "id": "treated-rendering",
   "metadata": {
    "scrolled": true
   },
   "outputs": [
    {
     "data": {
      "application/vnd.plotly.v1+json": {
       "config": {
        "plotlyServerURL": "https://plot.ly"
       },
       "data": [
        {
         "hovertemplate": "split=out of sample<br>meas=%{x}<br>pred=%{y}<extra></extra>",
         "legendgroup": "out of sample",
         "marker": {
          "color": "#212c52",
          "size": 10,
          "symbol": "circle"
         },
         "mode": "markers",
         "name": "out of sample",
         "orientation": "v",
         "showlegend": true,
         "type": "scatter",
         "x": [
          2.574031267727719,
          2.6857417386022635,
          3.025715383901341,
          3.0538464268522527,
          3.037027879755775,
          3.119585774961784,
          2.637489729512511,
          2.94546858513182,
          3.885530833188092,
          2.5477747053878224,
          2.3654879848909,
          4.544068044350276,
          2.4899584794248346,
          3.4459154139511234,
          4.374216605428374,
          3.1743505974793798,
          2.041392685158225,
          2.6599162000698504,
          3.3925210899319325,
          4.544068044350276,
          3.4214393902200495,
          3.1950689964685903,
          2.403120521175818,
          3.1228709228644354,
          3.244524511570084,
          4.14188854970586,
          2.53655844257153,
          2.6857417386022635,
          2.5477747053878224,
          2.940516484932567,
          2.9858753573083936,
          3.380934463330702,
          2.5943925503754266,
          3.2643455070500926,
          4.028855809390444,
          2.8432327780980096,
          3.024074987307426,
          2.870403905279027,
          3.7480328941301435,
          3.7480328941301435,
          2.2068258760318495,
          3.1826999033360424,
          2.4899584794248346,
          2.94546858513182,
          2.5440680443502757,
          4.4428872189023485,
          2.247973266361807,
          4.544068044350276,
          2.9469432706978256,
          3.2038484637462346,
          2.6180480967120925,
          2.9628426812012423,
          3.0773679052841563,
          2.9508514588885464,
          2.3961993470957363,
          3.2038484637462346,
          3.7023443583557687,
          2.6148972160331345,
          2.7589118923979736,
          3.083860800866573,
          2.3324384599156054,
          2.893206753059848,
          4.544068044350276,
          4.544068044350276,
          2.6414741105040997,
          4.544068044350276,
          3.584670384464349,
          2.938519725176492,
          3.520483532740792,
          2.7972675408307164,
          3.4216039268698313,
          2.7589118923979736,
          2.2528530309798933,
          3.330413773349191,
          3.274619619091238
         ],
         "xaxis": "x",
         "y": [
          3.313859148610673,
          2.736430798162266,
          3.47837903209059,
          3.148139545115726,
          2.6720484687520343,
          2.76137699852843,
          2.538649335183788,
          2.8728101049030412,
          2.610022634056134,
          3.1296886766527154,
          3.4903233764158386,
          3.182614544257488,
          3.3575850735130284,
          3.4549795246397825,
          3.4353285906167046,
          2.922911656781264,
          2.519971863753991,
          2.9748567591143398,
          3.63614516900132,
          3.4046969126744018,
          3.318213957255525,
          3.315803808036011,
          2.676089722112725,
          3.5053413772941595,
          3.48263222713868,
          3.266233455915996,
          2.904211271847213,
          2.7969236390816907,
          2.659435534249651,
          2.750132797503613,
          3.383657115980073,
          3.2711458016668753,
          2.8469701586876375,
          3.3385784924598094,
          3.8382723865611617,
          2.8095259844002136,
          3.3980645054533727,
          2.6216865373732223,
          3.5064828566618904,
          3.5279387441674714,
          3.264035184447719,
          3.8107065776246687,
          3.023296582435712,
          2.825861712478021,
          2.501877161392274,
          3.449093862964795,
          2.632221351497699,
          3.5248322046922147,
          3.530558373102504,
          2.945247966397925,
          3.115582192376461,
          3.6052646106331236,
          3.0406953368312024,
          2.904621143634135,
          3.085558460792829,
          2.98757114932968,
          3.039417496758227,
          2.87099308632185,
          3.402899003371811,
          2.7631163853649396,
          2.7270602197016958,
          3.406458476442199,
          3.8044642283476393,
          3.624405904499893,
          2.883352952695721,
          3.6558079500057077,
          3.2316100594549777,
          3.0331868908261845,
          2.6108569920321054,
          2.611030046981451,
          3.5710967226870998,
          2.925050450942239,
          2.7738537085468353,
          3.4604358823562826,
          3.376826206879914
         ],
         "yaxis": "y"
        },
        {
         "hovertemplate": "split=in sample<br>meas=%{x}<br>pred=%{y}<extra></extra>",
         "legendgroup": "in sample",
         "marker": {
          "color": "#75c3ff",
          "size": 10,
          "symbol": "circle"
         },
         "mode": "markers",
         "name": "in sample",
         "orientation": "v",
         "showlegend": true,
         "type": "scatter",
         "x": [
          3.2143138974244,
          2.369215857410143,
          2.7867514221455614,
          3.044539760392411,
          4.544068044350276,
          2.2528530309798933,
          3.3546845539547285,
          2.3324384599156054,
          2.747411807886423,
          3.0729847446279304,
          2.9916690073799486,
          2.428134794028789,
          2.586587304671755,
          3.336859820916809,
          2.7315887651867388,
          2.5211380837040362,
          2.0969100130080562,
          3.3881012015705165,
          2.403120521175818,
          2.921166050637739,
          3.5341530741850624,
          3.166133970305109,
          4.544068044350276,
          4.544068044350276,
          4.544068044350276,
          3.2245330626060857,
          3.885530833188092,
          3.1451964061141817,
          2.5477747053878224,
          3.2345172835126865,
          3.2143138974244,
          2.591064607026499,
          3.0318122713303706,
          3.1089031276673134,
          2.8750612633917,
          3.1684974835230326,
          3.9205928620848085,
          3.0492180226701815,
          3.3283796034387376,
          3.3492775274679554,
          3.274388795550379,
          2.656098202012832,
          3.336859820916809,
          3.9563125308411946,
          3.6769678142947586,
          3.584670384464349,
          3.003029470553618,
          4.544068044350276,
          4.4428872189023485,
          4.317958924700952,
          3.307282047033346,
          3.143327129992046,
          2.8573324964312685,
          3.274388795550379,
          2.815577748324267,
          3.520483532740792,
          2.8524799936368566,
          2.399673721481038,
          3.0145205387579237,
          2.824776462475546,
          2.681241237375587,
          3.296665190261531,
          4.223755453657241,
          2.7737864449811935,
          4.544068044350276,
          3.253580289562183,
          3.7567881987681178,
          2.494154594018443,
          2.5943925503754266,
          2.403120521175818,
          3.1300119496719043,
          2.8750612633917,
          4.544068044350276,
          2.910624404889201,
          2.6893088591236203,
          3.1743505974793798,
          3.6534054906645013,
          4.268648164671602,
          3.7285161047597666,
          2.710963118995276,
          3.0199466816788423,
          3.2095150145426308,
          3.003029470553618,
          3.4216039268698313,
          3.244524511570084,
          2.5477747053878224,
          3.0773679052841563,
          4.374216605428374,
          2.4578818967339924,
          4.317958924700952,
          3.2853322276438846,
          3.519302849235429,
          3.274850320016665,
          4.374216605428374,
          2.369215857410143,
          2.5403294747908736,
          2.9800033715837464,
          3.7866804531966487,
          2.2068258760318495,
          2.4899584794248346,
          3.2643455070500926,
          3.7019994748896368,
          3.17868923977559,
          3.4214393902200495,
          2.663700925389648,
          3.059941888061955,
          2.900913067737669,
          3.470704429722788,
          3.8516863154424277,
          2.884795363948981,
          2.747411807886423,
          2.7234556720351857,
          4.374216605428374,
          2.290034611362518,
          2.494154594018443,
          2.806179973983887,
          3.317854489331469,
          4.544068044350276,
          3.380934463330702,
          2.7781512503836434,
          3.3283796034387376,
          3.2068258760318495,
          2.7589118923979736,
          3.2538224387080734,
          3.019116290447073,
          2.4899584794248346,
          2.4313637641589874,
          2.7193312869837265,
          3.7019994748896368,
          3.336859820916809,
          3.7866804531966487,
          3.0881360887005513,
          2.3283796034387376,
          3.4933186082321015,
          2.574031267727719,
          2.893206753059848,
          4.374216605428374,
          3.1950689964685903,
          2.6334684555795866,
          4.544068044350276,
          2.6893088591236203,
          3.163757523981956,
          2.155336037465062,
          3.7285161047597666,
          2.6414741105040997,
          2.494154594018443,
          2.637489729512511,
          2.3283796034387376,
          3.549371152333177,
          4.14188854970586,
          2.940516484932567,
          3.2234959409623944,
          3.7019994748896368,
          2.6857417386022635,
          4.544068044350276,
          2.663700925389648,
          2.870403905279027,
          4.544068044350276,
          2.503790683057181,
          4.103358939866562,
          4.069298012115529,
          3.380934463330702,
          2.9804578922761,
          2.727541257028556,
          2.598790506763115,
          2.82020145948564,
          3.7019994748896368,
          3.2543063323312857,
          4.028855809390444,
          3.7567881987681178,
          1.7853298350107671,
          3.1051694279993316,
          4.544068044350276,
          2.8344207036815328
         ],
         "xaxis": "x",
         "y": [
          3.4275226710095272,
          2.5740721742322914,
          2.8194791226929135,
          3.0867244508344958,
          4.427612282842676,
          2.5106747416607735,
          3.1672587327785893,
          2.4516513473357695,
          2.7517526501169027,
          2.8489168365203894,
          3.0882232286449924,
          2.536671622879638,
          2.817040803928825,
          3.2210960121035326,
          2.795944415755425,
          2.6691913546500596,
          2.24849161417605,
          3.3764808440052945,
          2.659704611308344,
          3.077995102547437,
          3.2976327404111654,
          3.011530912401968,
          4.271161165871669,
          4.09355201156946,
          4.24180656692377,
          3.3131043464421044,
          4.017408523771993,
          3.1353844789926955,
          2.5932886955679497,
          3.2800150593729933,
          3.239890478645563,
          2.638070170889094,
          3.000525842928707,
          3.1611097984807315,
          2.934501157045785,
          3.3742935715251927,
          3.5966483660587563,
          3.152588654263624,
          3.286292094005862,
          3.407895570141685,
          3.3174047283279897,
          3.0893663936751494,
          3.345870527407397,
          3.6328684781542955,
          3.8488038130041273,
          3.459469169057527,
          2.97222750624292,
          4.084112257578794,
          4.276989122045516,
          4.242631868119599,
          3.2993544603490705,
          3.1569640947114634,
          3.4073568961975518,
          3.2737565304511405,
          2.9670823696583453,
          3.3528350363448127,
          3.1065244327933312,
          2.5111371335106827,
          3.1551959597831036,
          2.9653297907027354,
          2.696610501178818,
          3.2085723201691514,
          4.041747809470906,
          2.794201240506834,
          4.110336655917818,
          3.159304926063975,
          3.5335090747326348,
          2.8250821961779504,
          2.743103462811387,
          2.7818664775433826,
          3.3299727037157196,
          2.8845653123670987,
          4.340124839629146,
          2.8724623612695943,
          2.905301744684846,
          3.071449677728452,
          3.636323971253368,
          4.001286635757555,
          3.505458704045541,
          2.7898617865658712,
          3.1464278969129684,
          2.939593270331124,
          2.950561247416751,
          3.404801149906121,
          3.281552611933775,
          2.5439436401803484,
          3.2556486900131687,
          4.318198756420136,
          2.5078594453612033,
          4.044128179142278,
          3.218760740377243,
          3.7592980086424403,
          3.4033181423392853,
          3.9647643723212025,
          2.6449031950703987,
          2.6874600474831305,
          3.3097110512298853,
          3.5889483202625434,
          2.331838168142872,
          2.6568721017000216,
          3.3530311785984726,
          3.481778035456289,
          3.214153974994018,
          3.3835750636332977,
          2.932287589152383,
          2.8753426773170245,
          3.059918206910699,
          3.1515942323996784,
          3.852101826181588,
          3.1883422227229614,
          2.784189601401855,
          2.9360145161977864,
          4.337648093083183,
          2.478788902315409,
          2.5374703139672077,
          2.884994465464695,
          3.401631088053432,
          3.905562254387627,
          3.5471740961475984,
          2.8949470726015107,
          3.4447064822216387,
          3.2285590041980634,
          2.919460275063325,
          3.1059387402094725,
          2.9950876458368993,
          2.6324729047095725,
          2.6193596622143582,
          2.85912913199306,
          3.5737263987281205,
          3.165503688242344,
          3.7092169983086696,
          3.0081694922490585,
          2.5007195198446923,
          3.4177941103204548,
          2.707241501887077,
          2.9940074885641854,
          4.187539643019813,
          3.2475416304581795,
          2.859411850225432,
          4.379513643527832,
          2.829445101797086,
          3.196900522117488,
          2.510687166133876,
          3.550598051947524,
          2.7505457494609744,
          2.630524259284495,
          2.592903565511857,
          2.6755364330325087,
          3.4086895215619286,
          3.841188483433553,
          2.856404863220244,
          3.3509641878830045,
          3.3972890336634203,
          2.733243151174378,
          3.9965343902873793,
          2.715200236413324,
          3.0023637572056403,
          4.189553004931253,
          2.6129800109667864,
          4.115092734654487,
          3.502624317944965,
          3.500545201691986,
          2.98258680514453,
          2.8128228324212374,
          2.7198698827773335,
          3.0100946325423075,
          3.5307504734648902,
          2.979707744451646,
          4.090246311692534,
          3.4500523118859605,
          2.1232934672253485,
          3.4022671960357673,
          4.065237937530075,
          2.9852239101874636
         ],
         "yaxis": "y"
        }
       ],
       "layout": {
        "font": {
         "color": "black",
         "family": "Helvetica Neue, Helvetica, Arial, sans-serif"
        },
        "legend": {
         "title": {},
         "tracegroupgap": 0,
         "x": 0.01,
         "xanchor": "left",
         "y": 0.99,
         "yanchor": "top"
        },
        "margin": {
         "t": 60
        },
        "template": {
         "data": {
          "bar": [
           {
            "error_x": {
             "color": "#2a3f5f"
            },
            "error_y": {
             "color": "#2a3f5f"
            },
            "marker": {
             "line": {
              "color": "#E5ECF6",
              "width": 0.5
             }
            },
            "type": "bar"
           }
          ],
          "barpolar": [
           {
            "marker": {
             "line": {
              "color": "#E5ECF6",
              "width": 0.5
             }
            },
            "type": "barpolar"
           }
          ],
          "carpet": [
           {
            "aaxis": {
             "endlinecolor": "#2a3f5f",
             "gridcolor": "white",
             "linecolor": "white",
             "minorgridcolor": "white",
             "startlinecolor": "#2a3f5f"
            },
            "baxis": {
             "endlinecolor": "#2a3f5f",
             "gridcolor": "white",
             "linecolor": "white",
             "minorgridcolor": "white",
             "startlinecolor": "#2a3f5f"
            },
            "type": "carpet"
           }
          ],
          "choropleth": [
           {
            "colorbar": {
             "outlinewidth": 0,
             "ticks": ""
            },
            "type": "choropleth"
           }
          ],
          "contour": [
           {
            "colorbar": {
             "outlinewidth": 0,
             "ticks": ""
            },
            "colorscale": [
             [
              0,
              "#0d0887"
             ],
             [
              0.1111111111111111,
              "#46039f"
             ],
             [
              0.2222222222222222,
              "#7201a8"
             ],
             [
              0.3333333333333333,
              "#9c179e"
             ],
             [
              0.4444444444444444,
              "#bd3786"
             ],
             [
              0.5555555555555556,
              "#d8576b"
             ],
             [
              0.6666666666666666,
              "#ed7953"
             ],
             [
              0.7777777777777778,
              "#fb9f3a"
             ],
             [
              0.8888888888888888,
              "#fdca26"
             ],
             [
              1,
              "#f0f921"
             ]
            ],
            "type": "contour"
           }
          ],
          "contourcarpet": [
           {
            "colorbar": {
             "outlinewidth": 0,
             "ticks": ""
            },
            "type": "contourcarpet"
           }
          ],
          "heatmap": [
           {
            "colorbar": {
             "outlinewidth": 0,
             "ticks": ""
            },
            "colorscale": [
             [
              0,
              "#0d0887"
             ],
             [
              0.1111111111111111,
              "#46039f"
             ],
             [
              0.2222222222222222,
              "#7201a8"
             ],
             [
              0.3333333333333333,
              "#9c179e"
             ],
             [
              0.4444444444444444,
              "#bd3786"
             ],
             [
              0.5555555555555556,
              "#d8576b"
             ],
             [
              0.6666666666666666,
              "#ed7953"
             ],
             [
              0.7777777777777778,
              "#fb9f3a"
             ],
             [
              0.8888888888888888,
              "#fdca26"
             ],
             [
              1,
              "#f0f921"
             ]
            ],
            "type": "heatmap"
           }
          ],
          "heatmapgl": [
           {
            "colorbar": {
             "outlinewidth": 0,
             "ticks": ""
            },
            "colorscale": [
             [
              0,
              "#0d0887"
             ],
             [
              0.1111111111111111,
              "#46039f"
             ],
             [
              0.2222222222222222,
              "#7201a8"
             ],
             [
              0.3333333333333333,
              "#9c179e"
             ],
             [
              0.4444444444444444,
              "#bd3786"
             ],
             [
              0.5555555555555556,
              "#d8576b"
             ],
             [
              0.6666666666666666,
              "#ed7953"
             ],
             [
              0.7777777777777778,
              "#fb9f3a"
             ],
             [
              0.8888888888888888,
              "#fdca26"
             ],
             [
              1,
              "#f0f921"
             ]
            ],
            "type": "heatmapgl"
           }
          ],
          "histogram": [
           {
            "marker": {
             "colorbar": {
              "outlinewidth": 0,
              "ticks": ""
             }
            },
            "type": "histogram"
           }
          ],
          "histogram2d": [
           {
            "colorbar": {
             "outlinewidth": 0,
             "ticks": ""
            },
            "colorscale": [
             [
              0,
              "#0d0887"
             ],
             [
              0.1111111111111111,
              "#46039f"
             ],
             [
              0.2222222222222222,
              "#7201a8"
             ],
             [
              0.3333333333333333,
              "#9c179e"
             ],
             [
              0.4444444444444444,
              "#bd3786"
             ],
             [
              0.5555555555555556,
              "#d8576b"
             ],
             [
              0.6666666666666666,
              "#ed7953"
             ],
             [
              0.7777777777777778,
              "#fb9f3a"
             ],
             [
              0.8888888888888888,
              "#fdca26"
             ],
             [
              1,
              "#f0f921"
             ]
            ],
            "type": "histogram2d"
           }
          ],
          "histogram2dcontour": [
           {
            "colorbar": {
             "outlinewidth": 0,
             "ticks": ""
            },
            "colorscale": [
             [
              0,
              "#0d0887"
             ],
             [
              0.1111111111111111,
              "#46039f"
             ],
             [
              0.2222222222222222,
              "#7201a8"
             ],
             [
              0.3333333333333333,
              "#9c179e"
             ],
             [
              0.4444444444444444,
              "#bd3786"
             ],
             [
              0.5555555555555556,
              "#d8576b"
             ],
             [
              0.6666666666666666,
              "#ed7953"
             ],
             [
              0.7777777777777778,
              "#fb9f3a"
             ],
             [
              0.8888888888888888,
              "#fdca26"
             ],
             [
              1,
              "#f0f921"
             ]
            ],
            "type": "histogram2dcontour"
           }
          ],
          "mesh3d": [
           {
            "colorbar": {
             "outlinewidth": 0,
             "ticks": ""
            },
            "type": "mesh3d"
           }
          ],
          "parcoords": [
           {
            "line": {
             "colorbar": {
              "outlinewidth": 0,
              "ticks": ""
             }
            },
            "type": "parcoords"
           }
          ],
          "pie": [
           {
            "automargin": true,
            "type": "pie"
           }
          ],
          "scatter": [
           {
            "marker": {
             "colorbar": {
              "outlinewidth": 0,
              "ticks": ""
             }
            },
            "type": "scatter"
           }
          ],
          "scatter3d": [
           {
            "line": {
             "colorbar": {
              "outlinewidth": 0,
              "ticks": ""
             }
            },
            "marker": {
             "colorbar": {
              "outlinewidth": 0,
              "ticks": ""
             }
            },
            "type": "scatter3d"
           }
          ],
          "scattercarpet": [
           {
            "marker": {
             "colorbar": {
              "outlinewidth": 0,
              "ticks": ""
             }
            },
            "type": "scattercarpet"
           }
          ],
          "scattergeo": [
           {
            "marker": {
             "colorbar": {
              "outlinewidth": 0,
              "ticks": ""
             }
            },
            "type": "scattergeo"
           }
          ],
          "scattergl": [
           {
            "marker": {
             "colorbar": {
              "outlinewidth": 0,
              "ticks": ""
             }
            },
            "type": "scattergl"
           }
          ],
          "scattermapbox": [
           {
            "marker": {
             "colorbar": {
              "outlinewidth": 0,
              "ticks": ""
             }
            },
            "type": "scattermapbox"
           }
          ],
          "scatterpolar": [
           {
            "marker": {
             "colorbar": {
              "outlinewidth": 0,
              "ticks": ""
             }
            },
            "type": "scatterpolar"
           }
          ],
          "scatterpolargl": [
           {
            "marker": {
             "colorbar": {
              "outlinewidth": 0,
              "ticks": ""
             }
            },
            "type": "scatterpolargl"
           }
          ],
          "scatterternary": [
           {
            "marker": {
             "colorbar": {
              "outlinewidth": 0,
              "ticks": ""
             }
            },
            "type": "scatterternary"
           }
          ],
          "surface": [
           {
            "colorbar": {
             "outlinewidth": 0,
             "ticks": ""
            },
            "colorscale": [
             [
              0,
              "#0d0887"
             ],
             [
              0.1111111111111111,
              "#46039f"
             ],
             [
              0.2222222222222222,
              "#7201a8"
             ],
             [
              0.3333333333333333,
              "#9c179e"
             ],
             [
              0.4444444444444444,
              "#bd3786"
             ],
             [
              0.5555555555555556,
              "#d8576b"
             ],
             [
              0.6666666666666666,
              "#ed7953"
             ],
             [
              0.7777777777777778,
              "#fb9f3a"
             ],
             [
              0.8888888888888888,
              "#fdca26"
             ],
             [
              1,
              "#f0f921"
             ]
            ],
            "type": "surface"
           }
          ],
          "table": [
           {
            "cells": {
             "fill": {
              "color": "#EBF0F8"
             },
             "line": {
              "color": "white"
             }
            },
            "header": {
             "fill": {
              "color": "#C8D4E3"
             },
             "line": {
              "color": "white"
             }
            },
            "type": "table"
           }
          ]
         },
         "layout": {
          "annotationdefaults": {
           "arrowcolor": "#2a3f5f",
           "arrowhead": 0,
           "arrowwidth": 1
          },
          "autotypenumbers": "strict",
          "coloraxis": {
           "colorbar": {
            "outlinewidth": 0,
            "ticks": ""
           }
          },
          "colorscale": {
           "diverging": [
            [
             0,
             "#8e0152"
            ],
            [
             0.1,
             "#c51b7d"
            ],
            [
             0.2,
             "#de77ae"
            ],
            [
             0.3,
             "#f1b6da"
            ],
            [
             0.4,
             "#fde0ef"
            ],
            [
             0.5,
             "#f7f7f7"
            ],
            [
             0.6,
             "#e6f5d0"
            ],
            [
             0.7,
             "#b8e186"
            ],
            [
             0.8,
             "#7fbc41"
            ],
            [
             0.9,
             "#4d9221"
            ],
            [
             1,
             "#276419"
            ]
           ],
           "sequential": [
            [
             0,
             "#0d0887"
            ],
            [
             0.1111111111111111,
             "#46039f"
            ],
            [
             0.2222222222222222,
             "#7201a8"
            ],
            [
             0.3333333333333333,
             "#9c179e"
            ],
            [
             0.4444444444444444,
             "#bd3786"
            ],
            [
             0.5555555555555556,
             "#d8576b"
            ],
            [
             0.6666666666666666,
             "#ed7953"
            ],
            [
             0.7777777777777778,
             "#fb9f3a"
            ],
            [
             0.8888888888888888,
             "#fdca26"
            ],
            [
             1,
             "#f0f921"
            ]
           ],
           "sequentialminus": [
            [
             0,
             "#0d0887"
            ],
            [
             0.1111111111111111,
             "#46039f"
            ],
            [
             0.2222222222222222,
             "#7201a8"
            ],
            [
             0.3333333333333333,
             "#9c179e"
            ],
            [
             0.4444444444444444,
             "#bd3786"
            ],
            [
             0.5555555555555556,
             "#d8576b"
            ],
            [
             0.6666666666666666,
             "#ed7953"
            ],
            [
             0.7777777777777778,
             "#fb9f3a"
            ],
            [
             0.8888888888888888,
             "#fdca26"
            ],
            [
             1,
             "#f0f921"
            ]
           ]
          },
          "colorway": [
           "#636efa",
           "#EF553B",
           "#00cc96",
           "#ab63fa",
           "#FFA15A",
           "#19d3f3",
           "#FF6692",
           "#B6E880",
           "#FF97FF",
           "#FECB52"
          ],
          "font": {
           "color": "#2a3f5f"
          },
          "geo": {
           "bgcolor": "white",
           "lakecolor": "white",
           "landcolor": "#E5ECF6",
           "showlakes": true,
           "showland": true,
           "subunitcolor": "white"
          },
          "hoverlabel": {
           "align": "left"
          },
          "hovermode": "closest",
          "mapbox": {
           "style": "light"
          },
          "paper_bgcolor": "white",
          "plot_bgcolor": "#E5ECF6",
          "polar": {
           "angularaxis": {
            "gridcolor": "white",
            "linecolor": "white",
            "ticks": ""
           },
           "bgcolor": "#E5ECF6",
           "radialaxis": {
            "gridcolor": "white",
            "linecolor": "white",
            "ticks": ""
           }
          },
          "scene": {
           "xaxis": {
            "backgroundcolor": "#E5ECF6",
            "gridcolor": "white",
            "gridwidth": 2,
            "linecolor": "white",
            "showbackground": true,
            "ticks": "",
            "zerolinecolor": "white"
           },
           "yaxis": {
            "backgroundcolor": "#E5ECF6",
            "gridcolor": "white",
            "gridwidth": 2,
            "linecolor": "white",
            "showbackground": true,
            "ticks": "",
            "zerolinecolor": "white"
           },
           "zaxis": {
            "backgroundcolor": "#E5ECF6",
            "gridcolor": "white",
            "gridwidth": 2,
            "linecolor": "white",
            "showbackground": true,
            "ticks": "",
            "zerolinecolor": "white"
           }
          },
          "shapedefaults": {
           "line": {
            "color": "#2a3f5f"
           }
          },
          "ternary": {
           "aaxis": {
            "gridcolor": "white",
            "linecolor": "white",
            "ticks": ""
           },
           "baxis": {
            "gridcolor": "white",
            "linecolor": "white",
            "ticks": ""
           },
           "bgcolor": "#E5ECF6",
           "caxis": {
            "gridcolor": "white",
            "linecolor": "white",
            "ticks": ""
           }
          },
          "title": {
           "x": 0.05
          },
          "xaxis": {
           "automargin": true,
           "gridcolor": "white",
           "linecolor": "white",
           "ticks": "",
           "title": {
            "standoff": 15
           },
           "zerolinecolor": "white",
           "zerolinewidth": 2
          },
          "yaxis": {
           "automargin": true,
           "gridcolor": "white",
           "linecolor": "white",
           "ticks": "",
           "title": {
            "standoff": 15
           },
           "zerolinecolor": "white",
           "zerolinewidth": 2
          }
         }
        },
        "title": {
         "text": "Model fit of Random Forest model"
        },
        "xaxis": {
         "anchor": "y",
         "domain": [
          0,
          1
         ],
         "title": {
          "text": "measured data (sample)"
         }
        },
        "yaxis": {
         "anchor": "x",
         "domain": [
          0,
          1
         ],
         "title": {
          "text": "fitted values (in sample fit)"
         }
        }
       }
      },
      "text/html": [
       "<div>                            <div id=\"d5483950-bd51-400b-adc2-bdd1658c3314\" class=\"plotly-graph-div\" style=\"height:525px; width:100%;\"></div>            <script type=\"text/javascript\">                require([\"plotly\"], function(Plotly) {                    window.PLOTLYENV=window.PLOTLYENV || {};                                    if (document.getElementById(\"d5483950-bd51-400b-adc2-bdd1658c3314\")) {                    Plotly.newPlot(                        \"d5483950-bd51-400b-adc2-bdd1658c3314\",                        [{\"hovertemplate\": \"split=out of sample<br>meas=%{x}<br>pred=%{y}<extra></extra>\", \"legendgroup\": \"out of sample\", \"marker\": {\"color\": \"#212c52\", \"size\": 10, \"symbol\": \"circle\"}, \"mode\": \"markers\", \"name\": \"out of sample\", \"orientation\": \"v\", \"showlegend\": true, \"type\": \"scatter\", \"x\": [2.574031267727719, 2.6857417386022635, 3.025715383901341, 3.0538464268522527, 3.037027879755775, 3.119585774961784, 2.637489729512511, 2.94546858513182, 3.885530833188092, 2.5477747053878224, 2.3654879848909, 4.544068044350276, 2.4899584794248346, 3.4459154139511234, 4.374216605428374, 3.1743505974793798, 2.041392685158225, 2.6599162000698504, 3.3925210899319325, 4.544068044350276, 3.4214393902200495, 3.1950689964685903, 2.403120521175818, 3.1228709228644354, 3.244524511570084, 4.14188854970586, 2.53655844257153, 2.6857417386022635, 2.5477747053878224, 2.940516484932567, 2.9858753573083936, 3.380934463330702, 2.5943925503754266, 3.2643455070500926, 4.028855809390444, 2.8432327780980096, 3.024074987307426, 2.870403905279027, 3.7480328941301435, 3.7480328941301435, 2.2068258760318495, 3.1826999033360424, 2.4899584794248346, 2.94546858513182, 2.5440680443502757, 4.4428872189023485, 2.247973266361807, 4.544068044350276, 2.9469432706978256, 3.2038484637462346, 2.6180480967120925, 2.9628426812012423, 3.0773679052841563, 2.9508514588885464, 2.3961993470957363, 3.2038484637462346, 3.7023443583557687, 2.6148972160331345, 2.7589118923979736, 3.083860800866573, 2.3324384599156054, 2.893206753059848, 4.544068044350276, 4.544068044350276, 2.6414741105040997, 4.544068044350276, 3.584670384464349, 2.938519725176492, 3.520483532740792, 2.7972675408307164, 3.4216039268698313, 2.7589118923979736, 2.2528530309798933, 3.330413773349191, 3.274619619091238], \"xaxis\": \"x\", \"y\": [3.313859148610673, 2.736430798162266, 3.47837903209059, 3.148139545115726, 2.6720484687520343, 2.76137699852843, 2.538649335183788, 2.8728101049030412, 2.610022634056134, 3.1296886766527154, 3.4903233764158386, 3.182614544257488, 3.3575850735130284, 3.4549795246397825, 3.4353285906167046, 2.922911656781264, 2.519971863753991, 2.9748567591143398, 3.63614516900132, 3.4046969126744018, 3.318213957255525, 3.315803808036011, 2.676089722112725, 3.5053413772941595, 3.48263222713868, 3.266233455915996, 2.904211271847213, 2.7969236390816907, 2.659435534249651, 2.750132797503613, 3.383657115980073, 3.2711458016668753, 2.8469701586876375, 3.3385784924598094, 3.8382723865611617, 2.8095259844002136, 3.3980645054533727, 2.6216865373732223, 3.5064828566618904, 3.5279387441674714, 3.264035184447719, 3.8107065776246687, 3.023296582435712, 2.825861712478021, 2.501877161392274, 3.449093862964795, 2.632221351497699, 3.5248322046922147, 3.530558373102504, 2.945247966397925, 3.115582192376461, 3.6052646106331236, 3.0406953368312024, 2.904621143634135, 3.085558460792829, 2.98757114932968, 3.039417496758227, 2.87099308632185, 3.402899003371811, 2.7631163853649396, 2.7270602197016958, 3.406458476442199, 3.8044642283476393, 3.624405904499893, 2.883352952695721, 3.6558079500057077, 3.2316100594549777, 3.0331868908261845, 2.6108569920321054, 2.611030046981451, 3.5710967226870998, 2.925050450942239, 2.7738537085468353, 3.4604358823562826, 3.376826206879914], \"yaxis\": \"y\"}, {\"hovertemplate\": \"split=in sample<br>meas=%{x}<br>pred=%{y}<extra></extra>\", \"legendgroup\": \"in sample\", \"marker\": {\"color\": \"#75c3ff\", \"size\": 10, \"symbol\": \"circle\"}, \"mode\": \"markers\", \"name\": \"in sample\", \"orientation\": \"v\", \"showlegend\": true, \"type\": \"scatter\", \"x\": [3.2143138974244, 2.369215857410143, 2.7867514221455614, 3.044539760392411, 4.544068044350276, 2.2528530309798933, 3.3546845539547285, 2.3324384599156054, 2.747411807886423, 3.0729847446279304, 2.9916690073799486, 2.428134794028789, 2.586587304671755, 3.336859820916809, 2.7315887651867388, 2.5211380837040362, 2.0969100130080562, 3.3881012015705165, 2.403120521175818, 2.921166050637739, 3.5341530741850624, 3.166133970305109, 4.544068044350276, 4.544068044350276, 4.544068044350276, 3.2245330626060857, 3.885530833188092, 3.1451964061141817, 2.5477747053878224, 3.2345172835126865, 3.2143138974244, 2.591064607026499, 3.0318122713303706, 3.1089031276673134, 2.8750612633917, 3.1684974835230326, 3.9205928620848085, 3.0492180226701815, 3.3283796034387376, 3.3492775274679554, 3.274388795550379, 2.656098202012832, 3.336859820916809, 3.9563125308411946, 3.6769678142947586, 3.584670384464349, 3.003029470553618, 4.544068044350276, 4.4428872189023485, 4.317958924700952, 3.307282047033346, 3.143327129992046, 2.8573324964312685, 3.274388795550379, 2.815577748324267, 3.520483532740792, 2.8524799936368566, 2.399673721481038, 3.0145205387579237, 2.824776462475546, 2.681241237375587, 3.296665190261531, 4.223755453657241, 2.7737864449811935, 4.544068044350276, 3.253580289562183, 3.7567881987681178, 2.494154594018443, 2.5943925503754266, 2.403120521175818, 3.1300119496719043, 2.8750612633917, 4.544068044350276, 2.910624404889201, 2.6893088591236203, 3.1743505974793798, 3.6534054906645013, 4.268648164671602, 3.7285161047597666, 2.710963118995276, 3.0199466816788423, 3.2095150145426308, 3.003029470553618, 3.4216039268698313, 3.244524511570084, 2.5477747053878224, 3.0773679052841563, 4.374216605428374, 2.4578818967339924, 4.317958924700952, 3.2853322276438846, 3.519302849235429, 3.274850320016665, 4.374216605428374, 2.369215857410143, 2.5403294747908736, 2.9800033715837464, 3.7866804531966487, 2.2068258760318495, 2.4899584794248346, 3.2643455070500926, 3.7019994748896368, 3.17868923977559, 3.4214393902200495, 2.663700925389648, 3.059941888061955, 2.900913067737669, 3.470704429722788, 3.8516863154424277, 2.884795363948981, 2.747411807886423, 2.7234556720351857, 4.374216605428374, 2.290034611362518, 2.494154594018443, 2.806179973983887, 3.317854489331469, 4.544068044350276, 3.380934463330702, 2.7781512503836434, 3.3283796034387376, 3.2068258760318495, 2.7589118923979736, 3.2538224387080734, 3.019116290447073, 2.4899584794248346, 2.4313637641589874, 2.7193312869837265, 3.7019994748896368, 3.336859820916809, 3.7866804531966487, 3.0881360887005513, 2.3283796034387376, 3.4933186082321015, 2.574031267727719, 2.893206753059848, 4.374216605428374, 3.1950689964685903, 2.6334684555795866, 4.544068044350276, 2.6893088591236203, 3.163757523981956, 2.155336037465062, 3.7285161047597666, 2.6414741105040997, 2.494154594018443, 2.637489729512511, 2.3283796034387376, 3.549371152333177, 4.14188854970586, 2.940516484932567, 3.2234959409623944, 3.7019994748896368, 2.6857417386022635, 4.544068044350276, 2.663700925389648, 2.870403905279027, 4.544068044350276, 2.503790683057181, 4.103358939866562, 4.069298012115529, 3.380934463330702, 2.9804578922761, 2.727541257028556, 2.598790506763115, 2.82020145948564, 3.7019994748896368, 3.2543063323312857, 4.028855809390444, 3.7567881987681178, 1.7853298350107671, 3.1051694279993316, 4.544068044350276, 2.8344207036815328], \"xaxis\": \"x\", \"y\": [3.4275226710095272, 2.5740721742322914, 2.8194791226929135, 3.0867244508344958, 4.427612282842676, 2.5106747416607735, 3.1672587327785893, 2.4516513473357695, 2.7517526501169027, 2.8489168365203894, 3.0882232286449924, 2.536671622879638, 2.817040803928825, 3.2210960121035326, 2.795944415755425, 2.6691913546500596, 2.24849161417605, 3.3764808440052945, 2.659704611308344, 3.077995102547437, 3.2976327404111654, 3.011530912401968, 4.271161165871669, 4.09355201156946, 4.24180656692377, 3.3131043464421044, 4.017408523771993, 3.1353844789926955, 2.5932886955679497, 3.2800150593729933, 3.239890478645563, 2.638070170889094, 3.000525842928707, 3.1611097984807315, 2.934501157045785, 3.3742935715251927, 3.5966483660587563, 3.152588654263624, 3.286292094005862, 3.407895570141685, 3.3174047283279897, 3.0893663936751494, 3.345870527407397, 3.6328684781542955, 3.8488038130041273, 3.459469169057527, 2.97222750624292, 4.084112257578794, 4.276989122045516, 4.242631868119599, 3.2993544603490705, 3.1569640947114634, 3.4073568961975518, 3.2737565304511405, 2.9670823696583453, 3.3528350363448127, 3.1065244327933312, 2.5111371335106827, 3.1551959597831036, 2.9653297907027354, 2.696610501178818, 3.2085723201691514, 4.041747809470906, 2.794201240506834, 4.110336655917818, 3.159304926063975, 3.5335090747326348, 2.8250821961779504, 2.743103462811387, 2.7818664775433826, 3.3299727037157196, 2.8845653123670987, 4.340124839629146, 2.8724623612695943, 2.905301744684846, 3.071449677728452, 3.636323971253368, 4.001286635757555, 3.505458704045541, 2.7898617865658712, 3.1464278969129684, 2.939593270331124, 2.950561247416751, 3.404801149906121, 3.281552611933775, 2.5439436401803484, 3.2556486900131687, 4.318198756420136, 2.5078594453612033, 4.044128179142278, 3.218760740377243, 3.7592980086424403, 3.4033181423392853, 3.9647643723212025, 2.6449031950703987, 2.6874600474831305, 3.3097110512298853, 3.5889483202625434, 2.331838168142872, 2.6568721017000216, 3.3530311785984726, 3.481778035456289, 3.214153974994018, 3.3835750636332977, 2.932287589152383, 2.8753426773170245, 3.059918206910699, 3.1515942323996784, 3.852101826181588, 3.1883422227229614, 2.784189601401855, 2.9360145161977864, 4.337648093083183, 2.478788902315409, 2.5374703139672077, 2.884994465464695, 3.401631088053432, 3.905562254387627, 3.5471740961475984, 2.8949470726015107, 3.4447064822216387, 3.2285590041980634, 2.919460275063325, 3.1059387402094725, 2.9950876458368993, 2.6324729047095725, 2.6193596622143582, 2.85912913199306, 3.5737263987281205, 3.165503688242344, 3.7092169983086696, 3.0081694922490585, 2.5007195198446923, 3.4177941103204548, 2.707241501887077, 2.9940074885641854, 4.187539643019813, 3.2475416304581795, 2.859411850225432, 4.379513643527832, 2.829445101797086, 3.196900522117488, 2.510687166133876, 3.550598051947524, 2.7505457494609744, 2.630524259284495, 2.592903565511857, 2.6755364330325087, 3.4086895215619286, 3.841188483433553, 2.856404863220244, 3.3509641878830045, 3.3972890336634203, 2.733243151174378, 3.9965343902873793, 2.715200236413324, 3.0023637572056403, 4.189553004931253, 2.6129800109667864, 4.115092734654487, 3.502624317944965, 3.500545201691986, 2.98258680514453, 2.8128228324212374, 2.7198698827773335, 3.0100946325423075, 3.5307504734648902, 2.979707744451646, 4.090246311692534, 3.4500523118859605, 2.1232934672253485, 3.4022671960357673, 4.065237937530075, 2.9852239101874636], \"yaxis\": \"y\"}],                        {\"font\": {\"color\": \"black\", \"family\": \"Helvetica Neue, Helvetica, Arial, sans-serif\"}, \"legend\": {\"title\": {}, \"tracegroupgap\": 0, \"x\": 0.01, \"xanchor\": \"left\", \"y\": 0.99, \"yanchor\": \"top\"}, \"margin\": {\"t\": 60}, \"template\": {\"data\": {\"bar\": [{\"error_x\": {\"color\": \"#2a3f5f\"}, \"error_y\": {\"color\": \"#2a3f5f\"}, \"marker\": {\"line\": {\"color\": \"#E5ECF6\", \"width\": 0.5}}, \"type\": \"bar\"}], \"barpolar\": [{\"marker\": {\"line\": {\"color\": \"#E5ECF6\", \"width\": 0.5}}, \"type\": \"barpolar\"}], \"carpet\": [{\"aaxis\": {\"endlinecolor\": \"#2a3f5f\", \"gridcolor\": \"white\", \"linecolor\": \"white\", \"minorgridcolor\": \"white\", \"startlinecolor\": \"#2a3f5f\"}, \"baxis\": {\"endlinecolor\": \"#2a3f5f\", \"gridcolor\": \"white\", \"linecolor\": \"white\", \"minorgridcolor\": \"white\", \"startlinecolor\": \"#2a3f5f\"}, \"type\": \"carpet\"}], \"choropleth\": [{\"colorbar\": {\"outlinewidth\": 0, \"ticks\": \"\"}, \"type\": \"choropleth\"}], \"contour\": [{\"colorbar\": {\"outlinewidth\": 0, \"ticks\": \"\"}, \"colorscale\": [[0.0, \"#0d0887\"], [0.1111111111111111, \"#46039f\"], [0.2222222222222222, \"#7201a8\"], [0.3333333333333333, \"#9c179e\"], [0.4444444444444444, \"#bd3786\"], [0.5555555555555556, \"#d8576b\"], [0.6666666666666666, \"#ed7953\"], [0.7777777777777778, \"#fb9f3a\"], [0.8888888888888888, \"#fdca26\"], [1.0, \"#f0f921\"]], \"type\": \"contour\"}], \"contourcarpet\": [{\"colorbar\": {\"outlinewidth\": 0, \"ticks\": \"\"}, \"type\": \"contourcarpet\"}], \"heatmap\": [{\"colorbar\": {\"outlinewidth\": 0, \"ticks\": \"\"}, \"colorscale\": [[0.0, \"#0d0887\"], [0.1111111111111111, \"#46039f\"], [0.2222222222222222, \"#7201a8\"], [0.3333333333333333, \"#9c179e\"], [0.4444444444444444, \"#bd3786\"], [0.5555555555555556, \"#d8576b\"], [0.6666666666666666, \"#ed7953\"], [0.7777777777777778, \"#fb9f3a\"], [0.8888888888888888, \"#fdca26\"], [1.0, \"#f0f921\"]], \"type\": \"heatmap\"}], \"heatmapgl\": [{\"colorbar\": {\"outlinewidth\": 0, \"ticks\": \"\"}, \"colorscale\": [[0.0, \"#0d0887\"], [0.1111111111111111, \"#46039f\"], [0.2222222222222222, \"#7201a8\"], [0.3333333333333333, \"#9c179e\"], [0.4444444444444444, \"#bd3786\"], [0.5555555555555556, \"#d8576b\"], [0.6666666666666666, \"#ed7953\"], [0.7777777777777778, \"#fb9f3a\"], [0.8888888888888888, \"#fdca26\"], [1.0, \"#f0f921\"]], \"type\": \"heatmapgl\"}], \"histogram\": [{\"marker\": {\"colorbar\": {\"outlinewidth\": 0, \"ticks\": \"\"}}, \"type\": \"histogram\"}], \"histogram2d\": [{\"colorbar\": {\"outlinewidth\": 0, \"ticks\": \"\"}, \"colorscale\": [[0.0, \"#0d0887\"], [0.1111111111111111, \"#46039f\"], [0.2222222222222222, \"#7201a8\"], [0.3333333333333333, \"#9c179e\"], [0.4444444444444444, \"#bd3786\"], [0.5555555555555556, \"#d8576b\"], [0.6666666666666666, \"#ed7953\"], [0.7777777777777778, \"#fb9f3a\"], [0.8888888888888888, \"#fdca26\"], [1.0, \"#f0f921\"]], \"type\": \"histogram2d\"}], \"histogram2dcontour\": [{\"colorbar\": {\"outlinewidth\": 0, \"ticks\": \"\"}, \"colorscale\": [[0.0, \"#0d0887\"], [0.1111111111111111, \"#46039f\"], [0.2222222222222222, \"#7201a8\"], [0.3333333333333333, \"#9c179e\"], [0.4444444444444444, \"#bd3786\"], [0.5555555555555556, \"#d8576b\"], [0.6666666666666666, \"#ed7953\"], [0.7777777777777778, \"#fb9f3a\"], [0.8888888888888888, \"#fdca26\"], [1.0, \"#f0f921\"]], \"type\": \"histogram2dcontour\"}], \"mesh3d\": [{\"colorbar\": {\"outlinewidth\": 0, \"ticks\": \"\"}, \"type\": \"mesh3d\"}], \"parcoords\": [{\"line\": {\"colorbar\": {\"outlinewidth\": 0, \"ticks\": \"\"}}, \"type\": \"parcoords\"}], \"pie\": [{\"automargin\": true, \"type\": \"pie\"}], \"scatter\": [{\"marker\": {\"colorbar\": {\"outlinewidth\": 0, \"ticks\": \"\"}}, \"type\": \"scatter\"}], \"scatter3d\": [{\"line\": {\"colorbar\": {\"outlinewidth\": 0, \"ticks\": \"\"}}, \"marker\": {\"colorbar\": {\"outlinewidth\": 0, \"ticks\": \"\"}}, \"type\": \"scatter3d\"}], \"scattercarpet\": [{\"marker\": {\"colorbar\": {\"outlinewidth\": 0, \"ticks\": \"\"}}, \"type\": \"scattercarpet\"}], \"scattergeo\": [{\"marker\": {\"colorbar\": {\"outlinewidth\": 0, \"ticks\": \"\"}}, \"type\": \"scattergeo\"}], \"scattergl\": [{\"marker\": {\"colorbar\": {\"outlinewidth\": 0, \"ticks\": \"\"}}, \"type\": \"scattergl\"}], \"scattermapbox\": [{\"marker\": {\"colorbar\": {\"outlinewidth\": 0, \"ticks\": \"\"}}, \"type\": \"scattermapbox\"}], \"scatterpolar\": [{\"marker\": {\"colorbar\": {\"outlinewidth\": 0, \"ticks\": \"\"}}, \"type\": \"scatterpolar\"}], \"scatterpolargl\": [{\"marker\": {\"colorbar\": {\"outlinewidth\": 0, \"ticks\": \"\"}}, \"type\": \"scatterpolargl\"}], \"scatterternary\": [{\"marker\": {\"colorbar\": {\"outlinewidth\": 0, \"ticks\": \"\"}}, \"type\": \"scatterternary\"}], \"surface\": [{\"colorbar\": {\"outlinewidth\": 0, \"ticks\": \"\"}, \"colorscale\": [[0.0, \"#0d0887\"], [0.1111111111111111, \"#46039f\"], [0.2222222222222222, \"#7201a8\"], [0.3333333333333333, \"#9c179e\"], [0.4444444444444444, \"#bd3786\"], [0.5555555555555556, \"#d8576b\"], [0.6666666666666666, \"#ed7953\"], [0.7777777777777778, \"#fb9f3a\"], [0.8888888888888888, \"#fdca26\"], [1.0, \"#f0f921\"]], \"type\": \"surface\"}], \"table\": [{\"cells\": {\"fill\": {\"color\": \"#EBF0F8\"}, \"line\": {\"color\": \"white\"}}, \"header\": {\"fill\": {\"color\": \"#C8D4E3\"}, \"line\": {\"color\": \"white\"}}, \"type\": \"table\"}]}, \"layout\": {\"annotationdefaults\": {\"arrowcolor\": \"#2a3f5f\", \"arrowhead\": 0, \"arrowwidth\": 1}, \"autotypenumbers\": \"strict\", \"coloraxis\": {\"colorbar\": {\"outlinewidth\": 0, \"ticks\": \"\"}}, \"colorscale\": {\"diverging\": [[0, \"#8e0152\"], [0.1, \"#c51b7d\"], [0.2, \"#de77ae\"], [0.3, \"#f1b6da\"], [0.4, \"#fde0ef\"], [0.5, \"#f7f7f7\"], [0.6, \"#e6f5d0\"], [0.7, \"#b8e186\"], [0.8, \"#7fbc41\"], [0.9, \"#4d9221\"], [1, \"#276419\"]], \"sequential\": [[0.0, \"#0d0887\"], [0.1111111111111111, \"#46039f\"], [0.2222222222222222, \"#7201a8\"], [0.3333333333333333, \"#9c179e\"], [0.4444444444444444, \"#bd3786\"], [0.5555555555555556, \"#d8576b\"], [0.6666666666666666, \"#ed7953\"], [0.7777777777777778, \"#fb9f3a\"], [0.8888888888888888, \"#fdca26\"], [1.0, \"#f0f921\"]], \"sequentialminus\": [[0.0, \"#0d0887\"], [0.1111111111111111, \"#46039f\"], [0.2222222222222222, \"#7201a8\"], [0.3333333333333333, \"#9c179e\"], [0.4444444444444444, \"#bd3786\"], [0.5555555555555556, \"#d8576b\"], [0.6666666666666666, \"#ed7953\"], [0.7777777777777778, \"#fb9f3a\"], [0.8888888888888888, \"#fdca26\"], [1.0, \"#f0f921\"]]}, \"colorway\": [\"#636efa\", \"#EF553B\", \"#00cc96\", \"#ab63fa\", \"#FFA15A\", \"#19d3f3\", \"#FF6692\", \"#B6E880\", \"#FF97FF\", \"#FECB52\"], \"font\": {\"color\": \"#2a3f5f\"}, \"geo\": {\"bgcolor\": \"white\", \"lakecolor\": \"white\", \"landcolor\": \"#E5ECF6\", \"showlakes\": true, \"showland\": true, \"subunitcolor\": \"white\"}, \"hoverlabel\": {\"align\": \"left\"}, \"hovermode\": \"closest\", \"mapbox\": {\"style\": \"light\"}, \"paper_bgcolor\": \"white\", \"plot_bgcolor\": \"#E5ECF6\", \"polar\": {\"angularaxis\": {\"gridcolor\": \"white\", \"linecolor\": \"white\", \"ticks\": \"\"}, \"bgcolor\": \"#E5ECF6\", \"radialaxis\": {\"gridcolor\": \"white\", \"linecolor\": \"white\", \"ticks\": \"\"}}, \"scene\": {\"xaxis\": {\"backgroundcolor\": \"#E5ECF6\", \"gridcolor\": \"white\", \"gridwidth\": 2, \"linecolor\": \"white\", \"showbackground\": true, \"ticks\": \"\", \"zerolinecolor\": \"white\"}, \"yaxis\": {\"backgroundcolor\": \"#E5ECF6\", \"gridcolor\": \"white\", \"gridwidth\": 2, \"linecolor\": \"white\", \"showbackground\": true, \"ticks\": \"\", \"zerolinecolor\": \"white\"}, \"zaxis\": {\"backgroundcolor\": \"#E5ECF6\", \"gridcolor\": \"white\", \"gridwidth\": 2, \"linecolor\": \"white\", \"showbackground\": true, \"ticks\": \"\", \"zerolinecolor\": \"white\"}}, \"shapedefaults\": {\"line\": {\"color\": \"#2a3f5f\"}}, \"ternary\": {\"aaxis\": {\"gridcolor\": \"white\", \"linecolor\": \"white\", \"ticks\": \"\"}, \"baxis\": {\"gridcolor\": \"white\", \"linecolor\": \"white\", \"ticks\": \"\"}, \"bgcolor\": \"#E5ECF6\", \"caxis\": {\"gridcolor\": \"white\", \"linecolor\": \"white\", \"ticks\": \"\"}}, \"title\": {\"x\": 0.05}, \"xaxis\": {\"automargin\": true, \"gridcolor\": \"white\", \"linecolor\": \"white\", \"ticks\": \"\", \"title\": {\"standoff\": 15}, \"zerolinecolor\": \"white\", \"zerolinewidth\": 2}, \"yaxis\": {\"automargin\": true, \"gridcolor\": \"white\", \"linecolor\": \"white\", \"ticks\": \"\", \"title\": {\"standoff\": 15}, \"zerolinecolor\": \"white\", \"zerolinewidth\": 2}}}, \"title\": {\"text\": \"Model fit of Random Forest model\"}, \"xaxis\": {\"anchor\": \"y\", \"domain\": [0.0, 1.0], \"title\": {\"text\": \"measured data (sample)\"}}, \"yaxis\": {\"anchor\": \"x\", \"domain\": [0.0, 1.0], \"title\": {\"text\": \"fitted values (in sample fit)\"}}},                        {\"responsive\": true}                    ).then(function(){\n",
       "                            \n",
       "var gd = document.getElementById('d5483950-bd51-400b-adc2-bdd1658c3314');\n",
       "var x = new MutationObserver(function (mutations, observer) {{\n",
       "        var display = window.getComputedStyle(gd).display;\n",
       "        if (!display || display === 'none') {{\n",
       "            console.log([gd, 'removed!']);\n",
       "            Plotly.purge(gd);\n",
       "            observer.disconnect();\n",
       "        }}\n",
       "}});\n",
       "\n",
       "// Listen for the removal of the full notebook cells\n",
       "var notebookContainer = gd.closest('#notebook-container');\n",
       "if (notebookContainer) {{\n",
       "    x.observe(notebookContainer, {childList: true});\n",
       "}}\n",
       "\n",
       "// Listen for the clearing of the current output cell\n",
       "var outputEl = gd.closest('.output');\n",
       "if (outputEl) {{\n",
       "    x.observe(outputEl, {childList: true});\n",
       "}}\n",
       "\n",
       "                        })                };                });            </script>        </div>"
      ]
     },
     "metadata": {},
     "output_type": "display_data"
    }
   ],
   "source": [
    "fig = px.scatter(df, x = \"meas\", y = \"pred\", color = \"split\", \n",
    "                 color_discrete_sequence=['#212c52','#75c3ff'])\n",
    "\n",
    "fig.update_layout(\n",
    "    font_family=\"Helvetica Neue, Helvetica, Arial, sans-serif\",\n",
    "    font_color=\"black\",\n",
    "    title = {'text':'Model fit of Random Forest model'},\n",
    "    xaxis_title = \"measured data (sample)\",\n",
    "    yaxis_title = \"fitted values (in sample fit)\",\n",
    "    #markersize= 12,\n",
    "  )\n",
    "fig.update_layout(legend=dict(\n",
    "    yanchor=\"top\",\n",
    "    title=None,\n",
    "    y=0.99,\n",
    "    xanchor=\"left\",\n",
    "    x=0.01\n",
    "))\n",
    "fig.update_traces(marker_size = 10)#['#75c3ff', \"red\"],#, marker_line_color='#212c52',\n",
    " #                 marker_line_width=1.5, opacity=1)\n",
    "\n",
    "fig.show()"
   ]
  },
  {
   "cell_type": "code",
   "execution_count": 565,
   "id": "actual-applicant",
   "metadata": {},
   "outputs": [],
   "source": [
    "importances = pd.Series(data=rf.feature_importances_,\n",
    "                        index= X.columns)\n",
    "\n",
    "# Sort importances\n",
    "importances_sorted = importances.sort_values()\n",
    "importances_df = importances_sorted.reset_index()\n",
    "importances_df.columns = [\"feature\", \"importance\"]"
   ]
  },
  {
   "cell_type": "code",
   "execution_count": 566,
   "id": "third-terrorist",
   "metadata": {},
   "outputs": [
    {
     "data": {
      "application/vnd.plotly.v1+json": {
       "config": {
        "plotlyServerURL": "https://plot.ly"
       },
       "data": [
        {
         "alignmentgroup": "True",
         "hovertemplate": "importance=%{x}<br>feature=%{y}<extra></extra>",
         "legendgroup": "",
         "marker": {
          "color": "#75c3ff",
          "line": {
           "color": "#75c3ff",
           "width": 1.5
          }
         },
         "name": "",
         "offsetgroup": "",
         "opacity": 1,
         "orientation": "h",
         "showlegend": false,
         "textposition": "auto",
         "type": "bar",
         "x": [
          0.001974030533763337,
          0.00496135658530749,
          0.005619144886970272,
          0.007659376395612002,
          0.012776644276890738,
          0.03808127354458581,
          0.04101527794060319,
          0.045264730230151345,
          0.04559329658872363,
          0.049198575355124854,
          0.05518886348644767,
          0.05969556001653992,
          0.06086550994773777,
          0.0635550240961079,
          0.06364956850765703,
          0.0647989221222788,
          0.06618536893936106,
          0.10318073179923633,
          0.10532212298829485,
          0.105414621758606
         ],
         "xaxis": "x",
         "y": [
          "network_shift_2",
          "network_shift_3",
          "network_shift_4",
          "network_shift_1",
          "network_shift_5",
          "Rainfall Nord_shift_5",
          "riverflow_shift_4",
          "Rainfall Nord_shift_1",
          "WWTP_shift_4",
          "riverflow_shift_3",
          "riverflow_shift_5",
          "Rainfall Nord_shift_2",
          "Rainfall Nord_shift_4",
          "Rainfall Nord_shift_3",
          "WWTP_shift_3",
          "riverflow_shift_2",
          "WWTP_shift_5",
          "riverflow_shift_1",
          "WWTP_shift_1",
          "WWTP_shift_2"
         ],
         "yaxis": "y"
        }
       ],
       "layout": {
        "barmode": "relative",
        "font": {
         "color": "black",
         "family": "Helvetica Neue, Helvetica, Arial, sans-serif"
        },
        "legend": {
         "tracegroupgap": 0
        },
        "margin": {
         "t": 60
        },
        "template": {
         "data": {
          "bar": [
           {
            "error_x": {
             "color": "#2a3f5f"
            },
            "error_y": {
             "color": "#2a3f5f"
            },
            "marker": {
             "line": {
              "color": "#E5ECF6",
              "width": 0.5
             }
            },
            "type": "bar"
           }
          ],
          "barpolar": [
           {
            "marker": {
             "line": {
              "color": "#E5ECF6",
              "width": 0.5
             }
            },
            "type": "barpolar"
           }
          ],
          "carpet": [
           {
            "aaxis": {
             "endlinecolor": "#2a3f5f",
             "gridcolor": "white",
             "linecolor": "white",
             "minorgridcolor": "white",
             "startlinecolor": "#2a3f5f"
            },
            "baxis": {
             "endlinecolor": "#2a3f5f",
             "gridcolor": "white",
             "linecolor": "white",
             "minorgridcolor": "white",
             "startlinecolor": "#2a3f5f"
            },
            "type": "carpet"
           }
          ],
          "choropleth": [
           {
            "colorbar": {
             "outlinewidth": 0,
             "ticks": ""
            },
            "type": "choropleth"
           }
          ],
          "contour": [
           {
            "colorbar": {
             "outlinewidth": 0,
             "ticks": ""
            },
            "colorscale": [
             [
              0,
              "#0d0887"
             ],
             [
              0.1111111111111111,
              "#46039f"
             ],
             [
              0.2222222222222222,
              "#7201a8"
             ],
             [
              0.3333333333333333,
              "#9c179e"
             ],
             [
              0.4444444444444444,
              "#bd3786"
             ],
             [
              0.5555555555555556,
              "#d8576b"
             ],
             [
              0.6666666666666666,
              "#ed7953"
             ],
             [
              0.7777777777777778,
              "#fb9f3a"
             ],
             [
              0.8888888888888888,
              "#fdca26"
             ],
             [
              1,
              "#f0f921"
             ]
            ],
            "type": "contour"
           }
          ],
          "contourcarpet": [
           {
            "colorbar": {
             "outlinewidth": 0,
             "ticks": ""
            },
            "type": "contourcarpet"
           }
          ],
          "heatmap": [
           {
            "colorbar": {
             "outlinewidth": 0,
             "ticks": ""
            },
            "colorscale": [
             [
              0,
              "#0d0887"
             ],
             [
              0.1111111111111111,
              "#46039f"
             ],
             [
              0.2222222222222222,
              "#7201a8"
             ],
             [
              0.3333333333333333,
              "#9c179e"
             ],
             [
              0.4444444444444444,
              "#bd3786"
             ],
             [
              0.5555555555555556,
              "#d8576b"
             ],
             [
              0.6666666666666666,
              "#ed7953"
             ],
             [
              0.7777777777777778,
              "#fb9f3a"
             ],
             [
              0.8888888888888888,
              "#fdca26"
             ],
             [
              1,
              "#f0f921"
             ]
            ],
            "type": "heatmap"
           }
          ],
          "heatmapgl": [
           {
            "colorbar": {
             "outlinewidth": 0,
             "ticks": ""
            },
            "colorscale": [
             [
              0,
              "#0d0887"
             ],
             [
              0.1111111111111111,
              "#46039f"
             ],
             [
              0.2222222222222222,
              "#7201a8"
             ],
             [
              0.3333333333333333,
              "#9c179e"
             ],
             [
              0.4444444444444444,
              "#bd3786"
             ],
             [
              0.5555555555555556,
              "#d8576b"
             ],
             [
              0.6666666666666666,
              "#ed7953"
             ],
             [
              0.7777777777777778,
              "#fb9f3a"
             ],
             [
              0.8888888888888888,
              "#fdca26"
             ],
             [
              1,
              "#f0f921"
             ]
            ],
            "type": "heatmapgl"
           }
          ],
          "histogram": [
           {
            "marker": {
             "colorbar": {
              "outlinewidth": 0,
              "ticks": ""
             }
            },
            "type": "histogram"
           }
          ],
          "histogram2d": [
           {
            "colorbar": {
             "outlinewidth": 0,
             "ticks": ""
            },
            "colorscale": [
             [
              0,
              "#0d0887"
             ],
             [
              0.1111111111111111,
              "#46039f"
             ],
             [
              0.2222222222222222,
              "#7201a8"
             ],
             [
              0.3333333333333333,
              "#9c179e"
             ],
             [
              0.4444444444444444,
              "#bd3786"
             ],
             [
              0.5555555555555556,
              "#d8576b"
             ],
             [
              0.6666666666666666,
              "#ed7953"
             ],
             [
              0.7777777777777778,
              "#fb9f3a"
             ],
             [
              0.8888888888888888,
              "#fdca26"
             ],
             [
              1,
              "#f0f921"
             ]
            ],
            "type": "histogram2d"
           }
          ],
          "histogram2dcontour": [
           {
            "colorbar": {
             "outlinewidth": 0,
             "ticks": ""
            },
            "colorscale": [
             [
              0,
              "#0d0887"
             ],
             [
              0.1111111111111111,
              "#46039f"
             ],
             [
              0.2222222222222222,
              "#7201a8"
             ],
             [
              0.3333333333333333,
              "#9c179e"
             ],
             [
              0.4444444444444444,
              "#bd3786"
             ],
             [
              0.5555555555555556,
              "#d8576b"
             ],
             [
              0.6666666666666666,
              "#ed7953"
             ],
             [
              0.7777777777777778,
              "#fb9f3a"
             ],
             [
              0.8888888888888888,
              "#fdca26"
             ],
             [
              1,
              "#f0f921"
             ]
            ],
            "type": "histogram2dcontour"
           }
          ],
          "mesh3d": [
           {
            "colorbar": {
             "outlinewidth": 0,
             "ticks": ""
            },
            "type": "mesh3d"
           }
          ],
          "parcoords": [
           {
            "line": {
             "colorbar": {
              "outlinewidth": 0,
              "ticks": ""
             }
            },
            "type": "parcoords"
           }
          ],
          "pie": [
           {
            "automargin": true,
            "type": "pie"
           }
          ],
          "scatter": [
           {
            "marker": {
             "colorbar": {
              "outlinewidth": 0,
              "ticks": ""
             }
            },
            "type": "scatter"
           }
          ],
          "scatter3d": [
           {
            "line": {
             "colorbar": {
              "outlinewidth": 0,
              "ticks": ""
             }
            },
            "marker": {
             "colorbar": {
              "outlinewidth": 0,
              "ticks": ""
             }
            },
            "type": "scatter3d"
           }
          ],
          "scattercarpet": [
           {
            "marker": {
             "colorbar": {
              "outlinewidth": 0,
              "ticks": ""
             }
            },
            "type": "scattercarpet"
           }
          ],
          "scattergeo": [
           {
            "marker": {
             "colorbar": {
              "outlinewidth": 0,
              "ticks": ""
             }
            },
            "type": "scattergeo"
           }
          ],
          "scattergl": [
           {
            "marker": {
             "colorbar": {
              "outlinewidth": 0,
              "ticks": ""
             }
            },
            "type": "scattergl"
           }
          ],
          "scattermapbox": [
           {
            "marker": {
             "colorbar": {
              "outlinewidth": 0,
              "ticks": ""
             }
            },
            "type": "scattermapbox"
           }
          ],
          "scatterpolar": [
           {
            "marker": {
             "colorbar": {
              "outlinewidth": 0,
              "ticks": ""
             }
            },
            "type": "scatterpolar"
           }
          ],
          "scatterpolargl": [
           {
            "marker": {
             "colorbar": {
              "outlinewidth": 0,
              "ticks": ""
             }
            },
            "type": "scatterpolargl"
           }
          ],
          "scatterternary": [
           {
            "marker": {
             "colorbar": {
              "outlinewidth": 0,
              "ticks": ""
             }
            },
            "type": "scatterternary"
           }
          ],
          "surface": [
           {
            "colorbar": {
             "outlinewidth": 0,
             "ticks": ""
            },
            "colorscale": [
             [
              0,
              "#0d0887"
             ],
             [
              0.1111111111111111,
              "#46039f"
             ],
             [
              0.2222222222222222,
              "#7201a8"
             ],
             [
              0.3333333333333333,
              "#9c179e"
             ],
             [
              0.4444444444444444,
              "#bd3786"
             ],
             [
              0.5555555555555556,
              "#d8576b"
             ],
             [
              0.6666666666666666,
              "#ed7953"
             ],
             [
              0.7777777777777778,
              "#fb9f3a"
             ],
             [
              0.8888888888888888,
              "#fdca26"
             ],
             [
              1,
              "#f0f921"
             ]
            ],
            "type": "surface"
           }
          ],
          "table": [
           {
            "cells": {
             "fill": {
              "color": "#EBF0F8"
             },
             "line": {
              "color": "white"
             }
            },
            "header": {
             "fill": {
              "color": "#C8D4E3"
             },
             "line": {
              "color": "white"
             }
            },
            "type": "table"
           }
          ]
         },
         "layout": {
          "annotationdefaults": {
           "arrowcolor": "#2a3f5f",
           "arrowhead": 0,
           "arrowwidth": 1
          },
          "autotypenumbers": "strict",
          "coloraxis": {
           "colorbar": {
            "outlinewidth": 0,
            "ticks": ""
           }
          },
          "colorscale": {
           "diverging": [
            [
             0,
             "#8e0152"
            ],
            [
             0.1,
             "#c51b7d"
            ],
            [
             0.2,
             "#de77ae"
            ],
            [
             0.3,
             "#f1b6da"
            ],
            [
             0.4,
             "#fde0ef"
            ],
            [
             0.5,
             "#f7f7f7"
            ],
            [
             0.6,
             "#e6f5d0"
            ],
            [
             0.7,
             "#b8e186"
            ],
            [
             0.8,
             "#7fbc41"
            ],
            [
             0.9,
             "#4d9221"
            ],
            [
             1,
             "#276419"
            ]
           ],
           "sequential": [
            [
             0,
             "#0d0887"
            ],
            [
             0.1111111111111111,
             "#46039f"
            ],
            [
             0.2222222222222222,
             "#7201a8"
            ],
            [
             0.3333333333333333,
             "#9c179e"
            ],
            [
             0.4444444444444444,
             "#bd3786"
            ],
            [
             0.5555555555555556,
             "#d8576b"
            ],
            [
             0.6666666666666666,
             "#ed7953"
            ],
            [
             0.7777777777777778,
             "#fb9f3a"
            ],
            [
             0.8888888888888888,
             "#fdca26"
            ],
            [
             1,
             "#f0f921"
            ]
           ],
           "sequentialminus": [
            [
             0,
             "#0d0887"
            ],
            [
             0.1111111111111111,
             "#46039f"
            ],
            [
             0.2222222222222222,
             "#7201a8"
            ],
            [
             0.3333333333333333,
             "#9c179e"
            ],
            [
             0.4444444444444444,
             "#bd3786"
            ],
            [
             0.5555555555555556,
             "#d8576b"
            ],
            [
             0.6666666666666666,
             "#ed7953"
            ],
            [
             0.7777777777777778,
             "#fb9f3a"
            ],
            [
             0.8888888888888888,
             "#fdca26"
            ],
            [
             1,
             "#f0f921"
            ]
           ]
          },
          "colorway": [
           "#636efa",
           "#EF553B",
           "#00cc96",
           "#ab63fa",
           "#FFA15A",
           "#19d3f3",
           "#FF6692",
           "#B6E880",
           "#FF97FF",
           "#FECB52"
          ],
          "font": {
           "color": "#2a3f5f"
          },
          "geo": {
           "bgcolor": "white",
           "lakecolor": "white",
           "landcolor": "#E5ECF6",
           "showlakes": true,
           "showland": true,
           "subunitcolor": "white"
          },
          "hoverlabel": {
           "align": "left"
          },
          "hovermode": "closest",
          "mapbox": {
           "style": "light"
          },
          "paper_bgcolor": "white",
          "plot_bgcolor": "#E5ECF6",
          "polar": {
           "angularaxis": {
            "gridcolor": "white",
            "linecolor": "white",
            "ticks": ""
           },
           "bgcolor": "#E5ECF6",
           "radialaxis": {
            "gridcolor": "white",
            "linecolor": "white",
            "ticks": ""
           }
          },
          "scene": {
           "xaxis": {
            "backgroundcolor": "#E5ECF6",
            "gridcolor": "white",
            "gridwidth": 2,
            "linecolor": "white",
            "showbackground": true,
            "ticks": "",
            "zerolinecolor": "white"
           },
           "yaxis": {
            "backgroundcolor": "#E5ECF6",
            "gridcolor": "white",
            "gridwidth": 2,
            "linecolor": "white",
            "showbackground": true,
            "ticks": "",
            "zerolinecolor": "white"
           },
           "zaxis": {
            "backgroundcolor": "#E5ECF6",
            "gridcolor": "white",
            "gridwidth": 2,
            "linecolor": "white",
            "showbackground": true,
            "ticks": "",
            "zerolinecolor": "white"
           }
          },
          "shapedefaults": {
           "line": {
            "color": "#2a3f5f"
           }
          },
          "ternary": {
           "aaxis": {
            "gridcolor": "white",
            "linecolor": "white",
            "ticks": ""
           },
           "baxis": {
            "gridcolor": "white",
            "linecolor": "white",
            "ticks": ""
           },
           "bgcolor": "#E5ECF6",
           "caxis": {
            "gridcolor": "white",
            "linecolor": "white",
            "ticks": ""
           }
          },
          "title": {
           "x": 0.05
          },
          "xaxis": {
           "automargin": true,
           "gridcolor": "white",
           "linecolor": "white",
           "ticks": "",
           "title": {
            "standoff": 15
           },
           "zerolinecolor": "white",
           "zerolinewidth": 2
          },
          "yaxis": {
           "automargin": true,
           "gridcolor": "white",
           "linecolor": "white",
           "ticks": "",
           "title": {
            "standoff": 15
           },
           "zerolinecolor": "white",
           "zerolinewidth": 2
          }
         }
        },
        "title": {
         "text": "Feature importance of Random Forest model"
        },
        "xaxis": {
         "anchor": "y",
         "domain": [
          0,
          1
         ],
         "title": {
          "text": "importance"
         }
        },
        "yaxis": {
         "anchor": "x",
         "domain": [
          0,
          1
         ],
         "title": {
          "text": "feature"
         }
        }
       }
      },
      "text/html": [
       "<div>                            <div id=\"4b7e0c34-16c8-44cf-8fec-4fafa42424ca\" class=\"plotly-graph-div\" style=\"height:525px; width:100%;\"></div>            <script type=\"text/javascript\">                require([\"plotly\"], function(Plotly) {                    window.PLOTLYENV=window.PLOTLYENV || {};                                    if (document.getElementById(\"4b7e0c34-16c8-44cf-8fec-4fafa42424ca\")) {                    Plotly.newPlot(                        \"4b7e0c34-16c8-44cf-8fec-4fafa42424ca\",                        [{\"alignmentgroup\": \"True\", \"hovertemplate\": \"importance=%{x}<br>feature=%{y}<extra></extra>\", \"legendgroup\": \"\", \"marker\": {\"color\": \"#75c3ff\", \"line\": {\"color\": \"#75c3ff\", \"width\": 1.5}}, \"name\": \"\", \"offsetgroup\": \"\", \"opacity\": 1, \"orientation\": \"h\", \"showlegend\": false, \"textposition\": \"auto\", \"type\": \"bar\", \"x\": [0.001974030533763337, 0.00496135658530749, 0.005619144886970272, 0.007659376395612002, 0.012776644276890738, 0.03808127354458581, 0.04101527794060319, 0.045264730230151345, 0.04559329658872363, 0.049198575355124854, 0.05518886348644767, 0.05969556001653992, 0.06086550994773777, 0.0635550240961079, 0.06364956850765703, 0.0647989221222788, 0.06618536893936106, 0.10318073179923633, 0.10532212298829485, 0.105414621758606], \"xaxis\": \"x\", \"y\": [\"network_shift_2\", \"network_shift_3\", \"network_shift_4\", \"network_shift_1\", \"network_shift_5\", \"Rainfall Nord_shift_5\", \"riverflow_shift_4\", \"Rainfall Nord_shift_1\", \"WWTP_shift_4\", \"riverflow_shift_3\", \"riverflow_shift_5\", \"Rainfall Nord_shift_2\", \"Rainfall Nord_shift_4\", \"Rainfall Nord_shift_3\", \"WWTP_shift_3\", \"riverflow_shift_2\", \"WWTP_shift_5\", \"riverflow_shift_1\", \"WWTP_shift_1\", \"WWTP_shift_2\"], \"yaxis\": \"y\"}],                        {\"barmode\": \"relative\", \"font\": {\"color\": \"black\", \"family\": \"Helvetica Neue, Helvetica, Arial, sans-serif\"}, \"legend\": {\"tracegroupgap\": 0}, \"margin\": {\"t\": 60}, \"template\": {\"data\": {\"bar\": [{\"error_x\": {\"color\": \"#2a3f5f\"}, \"error_y\": {\"color\": \"#2a3f5f\"}, \"marker\": {\"line\": {\"color\": \"#E5ECF6\", \"width\": 0.5}}, \"type\": \"bar\"}], \"barpolar\": [{\"marker\": {\"line\": {\"color\": \"#E5ECF6\", \"width\": 0.5}}, \"type\": \"barpolar\"}], \"carpet\": [{\"aaxis\": {\"endlinecolor\": \"#2a3f5f\", \"gridcolor\": \"white\", \"linecolor\": \"white\", \"minorgridcolor\": \"white\", \"startlinecolor\": \"#2a3f5f\"}, \"baxis\": {\"endlinecolor\": \"#2a3f5f\", \"gridcolor\": \"white\", \"linecolor\": \"white\", \"minorgridcolor\": \"white\", \"startlinecolor\": \"#2a3f5f\"}, \"type\": \"carpet\"}], \"choropleth\": [{\"colorbar\": {\"outlinewidth\": 0, \"ticks\": \"\"}, \"type\": \"choropleth\"}], \"contour\": [{\"colorbar\": {\"outlinewidth\": 0, \"ticks\": \"\"}, \"colorscale\": [[0.0, \"#0d0887\"], [0.1111111111111111, \"#46039f\"], [0.2222222222222222, \"#7201a8\"], [0.3333333333333333, \"#9c179e\"], [0.4444444444444444, \"#bd3786\"], [0.5555555555555556, \"#d8576b\"], [0.6666666666666666, \"#ed7953\"], [0.7777777777777778, \"#fb9f3a\"], [0.8888888888888888, \"#fdca26\"], [1.0, \"#f0f921\"]], \"type\": \"contour\"}], \"contourcarpet\": [{\"colorbar\": {\"outlinewidth\": 0, \"ticks\": \"\"}, \"type\": \"contourcarpet\"}], \"heatmap\": [{\"colorbar\": {\"outlinewidth\": 0, \"ticks\": \"\"}, \"colorscale\": [[0.0, \"#0d0887\"], [0.1111111111111111, \"#46039f\"], [0.2222222222222222, \"#7201a8\"], [0.3333333333333333, \"#9c179e\"], [0.4444444444444444, \"#bd3786\"], [0.5555555555555556, \"#d8576b\"], [0.6666666666666666, \"#ed7953\"], [0.7777777777777778, \"#fb9f3a\"], [0.8888888888888888, \"#fdca26\"], [1.0, \"#f0f921\"]], \"type\": \"heatmap\"}], \"heatmapgl\": [{\"colorbar\": {\"outlinewidth\": 0, \"ticks\": \"\"}, \"colorscale\": [[0.0, \"#0d0887\"], [0.1111111111111111, \"#46039f\"], [0.2222222222222222, \"#7201a8\"], [0.3333333333333333, \"#9c179e\"], [0.4444444444444444, \"#bd3786\"], [0.5555555555555556, \"#d8576b\"], [0.6666666666666666, \"#ed7953\"], [0.7777777777777778, \"#fb9f3a\"], [0.8888888888888888, \"#fdca26\"], [1.0, \"#f0f921\"]], \"type\": \"heatmapgl\"}], \"histogram\": [{\"marker\": {\"colorbar\": {\"outlinewidth\": 0, \"ticks\": \"\"}}, \"type\": \"histogram\"}], \"histogram2d\": [{\"colorbar\": {\"outlinewidth\": 0, \"ticks\": \"\"}, \"colorscale\": [[0.0, \"#0d0887\"], [0.1111111111111111, \"#46039f\"], [0.2222222222222222, \"#7201a8\"], [0.3333333333333333, \"#9c179e\"], [0.4444444444444444, \"#bd3786\"], [0.5555555555555556, \"#d8576b\"], [0.6666666666666666, \"#ed7953\"], [0.7777777777777778, \"#fb9f3a\"], [0.8888888888888888, \"#fdca26\"], [1.0, \"#f0f921\"]], \"type\": \"histogram2d\"}], \"histogram2dcontour\": [{\"colorbar\": {\"outlinewidth\": 0, \"ticks\": \"\"}, \"colorscale\": [[0.0, \"#0d0887\"], [0.1111111111111111, \"#46039f\"], [0.2222222222222222, \"#7201a8\"], [0.3333333333333333, \"#9c179e\"], [0.4444444444444444, \"#bd3786\"], [0.5555555555555556, \"#d8576b\"], [0.6666666666666666, \"#ed7953\"], [0.7777777777777778, \"#fb9f3a\"], [0.8888888888888888, \"#fdca26\"], [1.0, \"#f0f921\"]], \"type\": \"histogram2dcontour\"}], \"mesh3d\": [{\"colorbar\": {\"outlinewidth\": 0, \"ticks\": \"\"}, \"type\": \"mesh3d\"}], \"parcoords\": [{\"line\": {\"colorbar\": {\"outlinewidth\": 0, \"ticks\": \"\"}}, \"type\": \"parcoords\"}], \"pie\": [{\"automargin\": true, \"type\": \"pie\"}], \"scatter\": [{\"marker\": {\"colorbar\": {\"outlinewidth\": 0, \"ticks\": \"\"}}, \"type\": \"scatter\"}], \"scatter3d\": [{\"line\": {\"colorbar\": {\"outlinewidth\": 0, \"ticks\": \"\"}}, \"marker\": {\"colorbar\": {\"outlinewidth\": 0, \"ticks\": \"\"}}, \"type\": \"scatter3d\"}], \"scattercarpet\": [{\"marker\": {\"colorbar\": {\"outlinewidth\": 0, \"ticks\": \"\"}}, \"type\": \"scattercarpet\"}], \"scattergeo\": [{\"marker\": {\"colorbar\": {\"outlinewidth\": 0, \"ticks\": \"\"}}, \"type\": \"scattergeo\"}], \"scattergl\": [{\"marker\": {\"colorbar\": {\"outlinewidth\": 0, \"ticks\": \"\"}}, \"type\": \"scattergl\"}], \"scattermapbox\": [{\"marker\": {\"colorbar\": {\"outlinewidth\": 0, \"ticks\": \"\"}}, \"type\": \"scattermapbox\"}], \"scatterpolar\": [{\"marker\": {\"colorbar\": {\"outlinewidth\": 0, \"ticks\": \"\"}}, \"type\": \"scatterpolar\"}], \"scatterpolargl\": [{\"marker\": {\"colorbar\": {\"outlinewidth\": 0, \"ticks\": \"\"}}, \"type\": \"scatterpolargl\"}], \"scatterternary\": [{\"marker\": {\"colorbar\": {\"outlinewidth\": 0, \"ticks\": \"\"}}, \"type\": \"scatterternary\"}], \"surface\": [{\"colorbar\": {\"outlinewidth\": 0, \"ticks\": \"\"}, \"colorscale\": [[0.0, \"#0d0887\"], [0.1111111111111111, \"#46039f\"], [0.2222222222222222, \"#7201a8\"], [0.3333333333333333, \"#9c179e\"], [0.4444444444444444, \"#bd3786\"], [0.5555555555555556, \"#d8576b\"], [0.6666666666666666, \"#ed7953\"], [0.7777777777777778, \"#fb9f3a\"], [0.8888888888888888, \"#fdca26\"], [1.0, \"#f0f921\"]], \"type\": \"surface\"}], \"table\": [{\"cells\": {\"fill\": {\"color\": \"#EBF0F8\"}, \"line\": {\"color\": \"white\"}}, \"header\": {\"fill\": {\"color\": \"#C8D4E3\"}, \"line\": {\"color\": \"white\"}}, \"type\": \"table\"}]}, \"layout\": {\"annotationdefaults\": {\"arrowcolor\": \"#2a3f5f\", \"arrowhead\": 0, \"arrowwidth\": 1}, \"autotypenumbers\": \"strict\", \"coloraxis\": {\"colorbar\": {\"outlinewidth\": 0, \"ticks\": \"\"}}, \"colorscale\": {\"diverging\": [[0, \"#8e0152\"], [0.1, \"#c51b7d\"], [0.2, \"#de77ae\"], [0.3, \"#f1b6da\"], [0.4, \"#fde0ef\"], [0.5, \"#f7f7f7\"], [0.6, \"#e6f5d0\"], [0.7, \"#b8e186\"], [0.8, \"#7fbc41\"], [0.9, \"#4d9221\"], [1, \"#276419\"]], \"sequential\": [[0.0, \"#0d0887\"], [0.1111111111111111, \"#46039f\"], [0.2222222222222222, \"#7201a8\"], [0.3333333333333333, \"#9c179e\"], [0.4444444444444444, \"#bd3786\"], [0.5555555555555556, \"#d8576b\"], [0.6666666666666666, \"#ed7953\"], [0.7777777777777778, \"#fb9f3a\"], [0.8888888888888888, \"#fdca26\"], [1.0, \"#f0f921\"]], \"sequentialminus\": [[0.0, \"#0d0887\"], [0.1111111111111111, \"#46039f\"], [0.2222222222222222, \"#7201a8\"], [0.3333333333333333, \"#9c179e\"], [0.4444444444444444, \"#bd3786\"], [0.5555555555555556, \"#d8576b\"], [0.6666666666666666, \"#ed7953\"], [0.7777777777777778, \"#fb9f3a\"], [0.8888888888888888, \"#fdca26\"], [1.0, \"#f0f921\"]]}, \"colorway\": [\"#636efa\", \"#EF553B\", \"#00cc96\", \"#ab63fa\", \"#FFA15A\", \"#19d3f3\", \"#FF6692\", \"#B6E880\", \"#FF97FF\", \"#FECB52\"], \"font\": {\"color\": \"#2a3f5f\"}, \"geo\": {\"bgcolor\": \"white\", \"lakecolor\": \"white\", \"landcolor\": \"#E5ECF6\", \"showlakes\": true, \"showland\": true, \"subunitcolor\": \"white\"}, \"hoverlabel\": {\"align\": \"left\"}, \"hovermode\": \"closest\", \"mapbox\": {\"style\": \"light\"}, \"paper_bgcolor\": \"white\", \"plot_bgcolor\": \"#E5ECF6\", \"polar\": {\"angularaxis\": {\"gridcolor\": \"white\", \"linecolor\": \"white\", \"ticks\": \"\"}, \"bgcolor\": \"#E5ECF6\", \"radialaxis\": {\"gridcolor\": \"white\", \"linecolor\": \"white\", \"ticks\": \"\"}}, \"scene\": {\"xaxis\": {\"backgroundcolor\": \"#E5ECF6\", \"gridcolor\": \"white\", \"gridwidth\": 2, \"linecolor\": \"white\", \"showbackground\": true, \"ticks\": \"\", \"zerolinecolor\": \"white\"}, \"yaxis\": {\"backgroundcolor\": \"#E5ECF6\", \"gridcolor\": \"white\", \"gridwidth\": 2, \"linecolor\": \"white\", \"showbackground\": true, \"ticks\": \"\", \"zerolinecolor\": \"white\"}, \"zaxis\": {\"backgroundcolor\": \"#E5ECF6\", \"gridcolor\": \"white\", \"gridwidth\": 2, \"linecolor\": \"white\", \"showbackground\": true, \"ticks\": \"\", \"zerolinecolor\": \"white\"}}, \"shapedefaults\": {\"line\": {\"color\": \"#2a3f5f\"}}, \"ternary\": {\"aaxis\": {\"gridcolor\": \"white\", \"linecolor\": \"white\", \"ticks\": \"\"}, \"baxis\": {\"gridcolor\": \"white\", \"linecolor\": \"white\", \"ticks\": \"\"}, \"bgcolor\": \"#E5ECF6\", \"caxis\": {\"gridcolor\": \"white\", \"linecolor\": \"white\", \"ticks\": \"\"}}, \"title\": {\"x\": 0.05}, \"xaxis\": {\"automargin\": true, \"gridcolor\": \"white\", \"linecolor\": \"white\", \"ticks\": \"\", \"title\": {\"standoff\": 15}, \"zerolinecolor\": \"white\", \"zerolinewidth\": 2}, \"yaxis\": {\"automargin\": true, \"gridcolor\": \"white\", \"linecolor\": \"white\", \"ticks\": \"\", \"title\": {\"standoff\": 15}, \"zerolinecolor\": \"white\", \"zerolinewidth\": 2}}}, \"title\": {\"text\": \"Feature importance of Random Forest model\"}, \"xaxis\": {\"anchor\": \"y\", \"domain\": [0.0, 1.0], \"title\": {\"text\": \"importance\"}}, \"yaxis\": {\"anchor\": \"x\", \"domain\": [0.0, 1.0], \"title\": {\"text\": \"feature\"}}},                        {\"responsive\": true}                    ).then(function(){\n",
       "                            \n",
       "var gd = document.getElementById('4b7e0c34-16c8-44cf-8fec-4fafa42424ca');\n",
       "var x = new MutationObserver(function (mutations, observer) {{\n",
       "        var display = window.getComputedStyle(gd).display;\n",
       "        if (!display || display === 'none') {{\n",
       "            console.log([gd, 'removed!']);\n",
       "            Plotly.purge(gd);\n",
       "            observer.disconnect();\n",
       "        }}\n",
       "}});\n",
       "\n",
       "// Listen for the removal of the full notebook cells\n",
       "var notebookContainer = gd.closest('#notebook-container');\n",
       "if (notebookContainer) {{\n",
       "    x.observe(notebookContainer, {childList: true});\n",
       "}}\n",
       "\n",
       "// Listen for the clearing of the current output cell\n",
       "var outputEl = gd.closest('.output');\n",
       "if (outputEl) {{\n",
       "    x.observe(outputEl, {childList: true});\n",
       "}}\n",
       "\n",
       "                        })                };                });            </script>        </div>"
      ]
     },
     "metadata": {},
     "output_type": "display_data"
    }
   ],
   "source": [
    "# Draw a horizontal barplot of importances_sorted\n",
    "import plotly.express as px\n",
    "\n",
    "\n",
    "fig = px.bar(importances_df, y=\"feature\", x=\"importance\", orientation='h'    )\n",
    "\n",
    "fig.update_layout(\n",
    "    font_family=\"Helvetica Neue, Helvetica, Arial, sans-serif\",\n",
    "    font_color=\"black\",\n",
    "    title = {'text':'Feature importance of Random Forest model'}\n",
    "    #markercolor = \"#212c52\"\n",
    "  \n",
    ")\n",
    "fig.update_traces(marker_color='#75c3ff', marker_line_color='#75c3ff',\n",
    "                  marker_line_width=1.5, opacity=1)\n",
    "\n",
    "fig.show()\n"
   ]
  },
  {
   "cell_type": "markdown",
   "id": "ceramic-speech",
   "metadata": {},
   "source": [
    "## Calculating prediction intervals"
   ]
  },
  {
   "cell_type": "code",
   "execution_count": null,
   "id": "hydraulic-performer",
   "metadata": {},
   "outputs": [],
   "source": []
  },
  {
   "cell_type": "code",
   "execution_count": 567,
   "id": "positive-daniel",
   "metadata": {},
   "outputs": [],
   "source": [
    "from sklearn.ensemble import GradientBoostingRegressor# Set lower and upper quantile\n",
    "\n",
    "LOWER_ALPHA = 0.05\n",
    "UPPER_ALPHA = 0.95# Each model has to be separate\n",
    "\n",
    "lower_model = GradientBoostingRegressor(loss=\"quantile\",                   \n",
    "                                        alpha=LOWER_ALPHA)\n",
    "# The mid model will use the default loss\n",
    "mid_model = GradientBoostingRegressor(loss=\"ls\")\n",
    "\n",
    "upper_model = GradientBoostingRegressor(loss=\"quantile\",\n",
    "                                        alpha=UPPER_ALPHA)"
   ]
  },
  {
   "cell_type": "code",
   "execution_count": 609,
   "id": "senior-making",
   "metadata": {},
   "outputs": [],
   "source": [
    "import scipy.stats\n",
    "import decimal\n",
    "\n",
    "weights = scipy.stats.norm(3, 1).pdf(y_train.apply(float))"
   ]
  },
  {
   "cell_type": "code",
   "execution_count": 610,
   "id": "friendly-candidate",
   "metadata": {},
   "outputs": [
    {
     "data": {
      "text/plain": [
       "array([0.38988488, 0.32697131, 0.38997369, 0.39854677, 0.12111538,\n",
       "       0.30178126, 0.3746215 , 0.31925736, 0.38641671, 0.39788116,\n",
       "       0.39892844, 0.33876337, 0.36626669, 0.37693753, 0.38482722,\n",
       "       0.35572657, 0.26534503, 0.37000091, 0.33384746, 0.39770453,\n",
       "       0.34590252, 0.39347459, 0.12111538, 0.12111538, 0.12111538,\n",
       "       0.38901161, 0.26954472, 0.39475912, 0.36016523, 0.38812116,\n",
       "       0.38988488, 0.36694159, 0.39874046, 0.39658357, 0.39584072,\n",
       "       0.39331902, 0.26114378, 0.39845937, 0.37800226, 0.37533515,\n",
       "       0.38420342, 0.37603511, 0.37693753, 0.25253502, 0.3172449 ,\n",
       "       0.33626415, 0.39894045, 0.12111538, 0.14087247, 0.16738706,\n",
       "       0.38054545, 0.39486558, 0.39490283, 0.38420342, 0.39221532,\n",
       "       0.34840486, 0.39462489, 0.33315936, 0.39890022, 0.39286463,\n",
       "       0.37918081, 0.38176744, 0.18867539, 0.38886431, 0.12111538,\n",
       "       0.3863197 , 0.29960129, 0.35103185, 0.36743927, 0.33384746,\n",
       "       0.39558481, 0.39584072, 0.12111538, 0.39735208, 0.38014481,\n",
       "       0.39292458, 0.32225636, 0.17840971, 0.30595832, 0.38262125,\n",
       "       0.39886292, 0.39028158, 0.39894045, 0.36501623, 0.38719197,\n",
       "       0.36016523, 0.39775007, 0.15517928, 0.34442306, 0.16738706,\n",
       "       0.38302854, 0.34861879, 0.38415472, 0.15517928, 0.32697131,\n",
       "       0.35894467, 0.39886253, 0.29276893, 0.29127101, 0.35028446,\n",
       "       0.38524422, 0.31181658, 0.39262377, 0.36504154, 0.37700868,\n",
       "       0.39822622, 0.39698863, 0.35710699, 0.27758632, 0.39630364,\n",
       "       0.38641671, 0.38397535, 0.15517928, 0.3100679 , 0.35103185,\n",
       "       0.39151884, 0.37928997, 0.12111538, 0.37102195, 0.38924475,\n",
       "       0.37800226, 0.39050012, 0.38751517, 0.38629597, 0.39886939,\n",
       "       0.35028446, 0.33938772, 0.38353439, 0.31181658, 0.37693753,\n",
       "       0.29276893, 0.3973958 , 0.31839087, 0.35323555, 0.36434166,\n",
       "       0.39667383, 0.15517928, 0.39142377, 0.37302448, 0.12111538,\n",
       "       0.38014481, 0.39362886, 0.27924461, 0.30595832, 0.37410868,\n",
       "       0.35103185, 0.37357168, 0.31839087, 0.34306242, 0.20785943,\n",
       "       0.39823712, 0.389102  , 0.31181658, 0.37972132, 0.12111538,\n",
       "       0.37700868, 0.39560616, 0.12111538, 0.35273071, 0.21704751,\n",
       "       0.22522899, 0.37102195, 0.39886611, 0.38440622, 0.36809175,\n",
       "       0.39254571, 0.31181658, 0.38624848, 0.23499039, 0.29960129,\n",
       "       0.19077695, 0.3967421 , 0.12111538, 0.39351079])"
      ]
     },
     "execution_count": 610,
     "metadata": {},
     "output_type": "execute_result"
    }
   ],
   "source": [
    "weights"
   ]
  },
  {
   "cell_type": "code",
   "execution_count": 611,
   "id": "serial-valve",
   "metadata": {},
   "outputs": [
    {
     "data": {
      "application/vnd.plotly.v1+json": {
       "config": {
        "plotlyServerURL": "https://plot.ly"
       },
       "data": [
        {
         "hovertemplate": "x=%{x}<br>y=%{y}<extra></extra>",
         "legendgroup": "",
         "marker": {
          "color": "#636efa",
          "symbol": "circle"
         },
         "mode": "markers",
         "name": "",
         "orientation": "v",
         "showlegend": false,
         "type": "scatter",
         "x": [
          3.2143138974244,
          2.369215857410143,
          2.7867514221455614,
          3.044539760392411,
          4.544068044350276,
          2.2528530309798933,
          3.3546845539547285,
          2.3324384599156054,
          2.747411807886423,
          3.0729847446279304,
          2.9916690073799486,
          2.428134794028789,
          2.586587304671755,
          3.336859820916809,
          2.7315887651867388,
          2.5211380837040362,
          2.0969100130080562,
          3.3881012015705165,
          2.403120521175818,
          2.921166050637739,
          3.5341530741850624,
          3.166133970305109,
          4.544068044350276,
          4.544068044350276,
          4.544068044350276,
          3.2245330626060857,
          3.885530833188092,
          3.1451964061141817,
          2.5477747053878224,
          3.2345172835126865,
          3.2143138974244,
          2.591064607026499,
          3.0318122713303706,
          3.1089031276673134,
          2.8750612633917,
          3.1684974835230326,
          3.9205928620848085,
          3.0492180226701815,
          3.3283796034387376,
          3.3492775274679554,
          3.274388795550379,
          2.656098202012832,
          3.336859820916809,
          3.9563125308411946,
          3.6769678142947586,
          3.584670384464349,
          3.003029470553618,
          4.544068044350276,
          4.4428872189023485,
          4.317958924700952,
          3.307282047033346,
          3.143327129992046,
          2.8573324964312685,
          3.274388795550379,
          2.815577748324267,
          3.520483532740792,
          2.8524799936368566,
          2.399673721481038,
          3.0145205387579237,
          2.824776462475546,
          2.681241237375587,
          3.296665190261531,
          4.223755453657241,
          2.7737864449811935,
          4.544068044350276,
          3.253580289562183,
          3.7567881987681178,
          2.494154594018443,
          2.5943925503754266,
          2.403120521175818,
          3.1300119496719043,
          2.8750612633917,
          4.544068044350276,
          2.910624404889201,
          2.6893088591236203,
          3.1743505974793798,
          3.6534054906645013,
          4.268648164671602,
          3.7285161047597666,
          2.710963118995276,
          3.0199466816788423,
          3.2095150145426308,
          3.003029470553618,
          3.4216039268698313,
          3.244524511570084,
          2.5477747053878224,
          3.0773679052841563,
          4.374216605428374,
          2.4578818967339924,
          4.317958924700952,
          3.2853322276438846,
          3.519302849235429,
          3.274850320016665,
          4.374216605428374,
          2.369215857410143,
          2.5403294747908736,
          2.9800033715837464,
          3.7866804531966487,
          2.2068258760318495,
          2.4899584794248346,
          3.2643455070500926,
          3.7019994748896368,
          3.17868923977559,
          3.4214393902200495,
          2.663700925389648,
          3.059941888061955,
          2.900913067737669,
          3.470704429722788,
          3.8516863154424277,
          2.884795363948981,
          2.747411807886423,
          2.7234556720351857,
          4.374216605428374,
          2.290034611362518,
          2.494154594018443,
          2.806179973983887,
          3.317854489331469,
          4.544068044350276,
          3.380934463330702,
          2.7781512503836434,
          3.3283796034387376,
          3.2068258760318495,
          2.7589118923979736,
          3.2538224387080734,
          3.019116290447073,
          2.4899584794248346,
          2.4313637641589874,
          2.7193312869837265,
          3.7019994748896368,
          3.336859820916809,
          3.7866804531966487,
          3.0881360887005513,
          2.3283796034387376,
          3.4933186082321015,
          2.574031267727719,
          2.893206753059848,
          4.374216605428374,
          3.1950689964685903,
          2.6334684555795866,
          4.544068044350276,
          2.6893088591236203,
          3.163757523981956,
          2.155336037465062,
          3.7285161047597666,
          2.6414741105040997,
          2.494154594018443,
          2.637489729512511,
          2.3283796034387376,
          3.549371152333177,
          4.14188854970586,
          2.940516484932567,
          3.2234959409623944,
          3.7019994748896368,
          2.6857417386022635,
          4.544068044350276,
          2.663700925389648,
          2.870403905279027,
          4.544068044350276,
          2.503790683057181,
          4.103358939866562,
          4.069298012115529,
          3.380934463330702,
          2.9804578922761,
          2.727541257028556,
          2.598790506763115,
          2.82020145948564,
          3.7019994748896368,
          3.2543063323312857,
          4.028855809390444,
          3.7567881987681178,
          1.7853298350107671,
          3.1051694279993316,
          4.544068044350276,
          2.8344207036815328
         ],
         "xaxis": "x",
         "y": [
          0.38988488249540887,
          0.3269713094967829,
          0.3899736870710619,
          0.398546767683183,
          0.12111538460400939,
          0.3017812596426073,
          0.3746214986713139,
          0.3192573575090717,
          0.38641671063176686,
          0.3978811566464205,
          0.39892843625978774,
          0.33876336960279513,
          0.3662666856741392,
          0.37693753207444497,
          0.3848272184433749,
          0.3557265715632214,
          0.26534503115575986,
          0.3700009134604409,
          0.33384746253359987,
          0.3977045329220611,
          0.345902516951775,
          0.39347459247623745,
          0.12111538460400939,
          0.12111538460400939,
          0.12111538460400939,
          0.38901161340167506,
          0.26954472108108984,
          0.3947591166463077,
          0.3601652259867092,
          0.38812116338650704,
          0.38988488249540887,
          0.36694158555619083,
          0.39874046256226775,
          0.3965835747878126,
          0.3958407175084291,
          0.39331902255724255,
          0.26114378001235944,
          0.3984593712780351,
          0.37800225597899334,
          0.3753351462535891,
          0.3842034155075443,
          0.3760351121652155,
          0.37693753207444497,
          0.25253501628465236,
          0.31724490132189254,
          0.33626415158972156,
          0.3989404497209783,
          0.12111538460400939,
          0.14087246570713535,
          0.16738706451793747,
          0.380545449733605,
          0.39486558374901554,
          0.3949028311262782,
          0.3842034155075443,
          0.3922153151437157,
          0.3484048591240718,
          0.39462489059442396,
          0.33315935712512657,
          0.3989002249171132,
          0.39286463083313056,
          0.3791808133528354,
          0.38176744031204524,
          0.1886753929026275,
          0.3888643077654235,
          0.12111538460400939,
          0.38631969966913754,
          0.2996012898517979,
          0.35103184940718674,
          0.3674392666509177,
          0.33384746253359987,
          0.39558480628484244,
          0.3958407175084291,
          0.12111538460400939,
          0.3973520832680297,
          0.38014480779222226,
          0.39292457815373155,
          0.3222563600992647,
          0.1784097128544279,
          0.3059583214702973,
          0.3826212461692592,
          0.3988629246905179,
          0.39028157863830176,
          0.3989404497209783,
          0.3650162270266105,
          0.38719197419993345,
          0.3601652259867092,
          0.3977500724603273,
          0.15517928198288866,
          0.3444230598258357,
          0.16738706451793747,
          0.38302854089463206,
          0.34861878589068623,
          0.38415472325208583,
          0.15517928198288866,
          0.3269713094967829,
          0.35894466851287254,
          0.39886252681736645,
          0.292768934387982,
          0.2912710131148375,
          0.3502844607629829,
          0.3852442205338137,
          0.3118165750366971,
          0.392623769402442,
          0.36504154388292326,
          0.3770086803505918,
          0.39822621802262276,
          0.3969886281048992,
          0.3571069853359639,
          0.2775863222046036,
          0.3963036426071011,
          0.38641671063176686,
          0.3839753520326717,
          0.15517928198288866,
          0.31006790418364866,
          0.35103184940718674,
          0.3915188429977246,
          0.3792899710190074,
          0.12111538460400939,
          0.37102194548212675,
          0.3892447456315289,
          0.37800225597899334,
          0.3905001191023435,
          0.3875151744756766,
          0.3862959674003388,
          0.39886939381091807,
          0.3502844607629829,
          0.3393877168684511,
          0.3835343868177257,
          0.3118165750366971,
          0.37693753207444497,
          0.292768934387982,
          0.39739579974026557,
          0.3183908662757576,
          0.35323555222873754,
          0.3643416642134471,
          0.3966738263837302,
          0.15517928198288866,
          0.3914237720579579,
          0.37302448437661734,
          0.12111538460400939,
          0.38014480779222226,
          0.3936288587349934,
          0.27924461137187506,
          0.3059583214702973,
          0.37410867836170664,
          0.35103184940718674,
          0.37357167895002885,
          0.3183908662757576,
          0.3430624203955861,
          0.20785942623288453,
          0.3982371178980852,
          0.3891020030816928,
          0.3118165750366971,
          0.3797213211755755,
          0.12111538460400939,
          0.3770086803505918,
          0.3956061603887026,
          0.12111538460400939,
          0.3527307093122478,
          0.21704751022073535,
          0.2252289918968907,
          0.37102194548212675,
          0.3988661108473497,
          0.38440622170678473,
          0.36809174606137757,
          0.3925457096669267,
          0.3118165750366971,
          0.386248479040728,
          0.23499038713975834,
          0.2996012898517979,
          0.19077694930012418,
          0.3967420976431828,
          0.12111538460400939,
          0.39351079237160547
         ],
         "yaxis": "y"
        }
       ],
       "layout": {
        "legend": {
         "tracegroupgap": 0
        },
        "margin": {
         "t": 60
        },
        "template": {
         "data": {
          "bar": [
           {
            "error_x": {
             "color": "#2a3f5f"
            },
            "error_y": {
             "color": "#2a3f5f"
            },
            "marker": {
             "line": {
              "color": "#E5ECF6",
              "width": 0.5
             }
            },
            "type": "bar"
           }
          ],
          "barpolar": [
           {
            "marker": {
             "line": {
              "color": "#E5ECF6",
              "width": 0.5
             }
            },
            "type": "barpolar"
           }
          ],
          "carpet": [
           {
            "aaxis": {
             "endlinecolor": "#2a3f5f",
             "gridcolor": "white",
             "linecolor": "white",
             "minorgridcolor": "white",
             "startlinecolor": "#2a3f5f"
            },
            "baxis": {
             "endlinecolor": "#2a3f5f",
             "gridcolor": "white",
             "linecolor": "white",
             "minorgridcolor": "white",
             "startlinecolor": "#2a3f5f"
            },
            "type": "carpet"
           }
          ],
          "choropleth": [
           {
            "colorbar": {
             "outlinewidth": 0,
             "ticks": ""
            },
            "type": "choropleth"
           }
          ],
          "contour": [
           {
            "colorbar": {
             "outlinewidth": 0,
             "ticks": ""
            },
            "colorscale": [
             [
              0,
              "#0d0887"
             ],
             [
              0.1111111111111111,
              "#46039f"
             ],
             [
              0.2222222222222222,
              "#7201a8"
             ],
             [
              0.3333333333333333,
              "#9c179e"
             ],
             [
              0.4444444444444444,
              "#bd3786"
             ],
             [
              0.5555555555555556,
              "#d8576b"
             ],
             [
              0.6666666666666666,
              "#ed7953"
             ],
             [
              0.7777777777777778,
              "#fb9f3a"
             ],
             [
              0.8888888888888888,
              "#fdca26"
             ],
             [
              1,
              "#f0f921"
             ]
            ],
            "type": "contour"
           }
          ],
          "contourcarpet": [
           {
            "colorbar": {
             "outlinewidth": 0,
             "ticks": ""
            },
            "type": "contourcarpet"
           }
          ],
          "heatmap": [
           {
            "colorbar": {
             "outlinewidth": 0,
             "ticks": ""
            },
            "colorscale": [
             [
              0,
              "#0d0887"
             ],
             [
              0.1111111111111111,
              "#46039f"
             ],
             [
              0.2222222222222222,
              "#7201a8"
             ],
             [
              0.3333333333333333,
              "#9c179e"
             ],
             [
              0.4444444444444444,
              "#bd3786"
             ],
             [
              0.5555555555555556,
              "#d8576b"
             ],
             [
              0.6666666666666666,
              "#ed7953"
             ],
             [
              0.7777777777777778,
              "#fb9f3a"
             ],
             [
              0.8888888888888888,
              "#fdca26"
             ],
             [
              1,
              "#f0f921"
             ]
            ],
            "type": "heatmap"
           }
          ],
          "heatmapgl": [
           {
            "colorbar": {
             "outlinewidth": 0,
             "ticks": ""
            },
            "colorscale": [
             [
              0,
              "#0d0887"
             ],
             [
              0.1111111111111111,
              "#46039f"
             ],
             [
              0.2222222222222222,
              "#7201a8"
             ],
             [
              0.3333333333333333,
              "#9c179e"
             ],
             [
              0.4444444444444444,
              "#bd3786"
             ],
             [
              0.5555555555555556,
              "#d8576b"
             ],
             [
              0.6666666666666666,
              "#ed7953"
             ],
             [
              0.7777777777777778,
              "#fb9f3a"
             ],
             [
              0.8888888888888888,
              "#fdca26"
             ],
             [
              1,
              "#f0f921"
             ]
            ],
            "type": "heatmapgl"
           }
          ],
          "histogram": [
           {
            "marker": {
             "colorbar": {
              "outlinewidth": 0,
              "ticks": ""
             }
            },
            "type": "histogram"
           }
          ],
          "histogram2d": [
           {
            "colorbar": {
             "outlinewidth": 0,
             "ticks": ""
            },
            "colorscale": [
             [
              0,
              "#0d0887"
             ],
             [
              0.1111111111111111,
              "#46039f"
             ],
             [
              0.2222222222222222,
              "#7201a8"
             ],
             [
              0.3333333333333333,
              "#9c179e"
             ],
             [
              0.4444444444444444,
              "#bd3786"
             ],
             [
              0.5555555555555556,
              "#d8576b"
             ],
             [
              0.6666666666666666,
              "#ed7953"
             ],
             [
              0.7777777777777778,
              "#fb9f3a"
             ],
             [
              0.8888888888888888,
              "#fdca26"
             ],
             [
              1,
              "#f0f921"
             ]
            ],
            "type": "histogram2d"
           }
          ],
          "histogram2dcontour": [
           {
            "colorbar": {
             "outlinewidth": 0,
             "ticks": ""
            },
            "colorscale": [
             [
              0,
              "#0d0887"
             ],
             [
              0.1111111111111111,
              "#46039f"
             ],
             [
              0.2222222222222222,
              "#7201a8"
             ],
             [
              0.3333333333333333,
              "#9c179e"
             ],
             [
              0.4444444444444444,
              "#bd3786"
             ],
             [
              0.5555555555555556,
              "#d8576b"
             ],
             [
              0.6666666666666666,
              "#ed7953"
             ],
             [
              0.7777777777777778,
              "#fb9f3a"
             ],
             [
              0.8888888888888888,
              "#fdca26"
             ],
             [
              1,
              "#f0f921"
             ]
            ],
            "type": "histogram2dcontour"
           }
          ],
          "mesh3d": [
           {
            "colorbar": {
             "outlinewidth": 0,
             "ticks": ""
            },
            "type": "mesh3d"
           }
          ],
          "parcoords": [
           {
            "line": {
             "colorbar": {
              "outlinewidth": 0,
              "ticks": ""
             }
            },
            "type": "parcoords"
           }
          ],
          "pie": [
           {
            "automargin": true,
            "type": "pie"
           }
          ],
          "scatter": [
           {
            "marker": {
             "colorbar": {
              "outlinewidth": 0,
              "ticks": ""
             }
            },
            "type": "scatter"
           }
          ],
          "scatter3d": [
           {
            "line": {
             "colorbar": {
              "outlinewidth": 0,
              "ticks": ""
             }
            },
            "marker": {
             "colorbar": {
              "outlinewidth": 0,
              "ticks": ""
             }
            },
            "type": "scatter3d"
           }
          ],
          "scattercarpet": [
           {
            "marker": {
             "colorbar": {
              "outlinewidth": 0,
              "ticks": ""
             }
            },
            "type": "scattercarpet"
           }
          ],
          "scattergeo": [
           {
            "marker": {
             "colorbar": {
              "outlinewidth": 0,
              "ticks": ""
             }
            },
            "type": "scattergeo"
           }
          ],
          "scattergl": [
           {
            "marker": {
             "colorbar": {
              "outlinewidth": 0,
              "ticks": ""
             }
            },
            "type": "scattergl"
           }
          ],
          "scattermapbox": [
           {
            "marker": {
             "colorbar": {
              "outlinewidth": 0,
              "ticks": ""
             }
            },
            "type": "scattermapbox"
           }
          ],
          "scatterpolar": [
           {
            "marker": {
             "colorbar": {
              "outlinewidth": 0,
              "ticks": ""
             }
            },
            "type": "scatterpolar"
           }
          ],
          "scatterpolargl": [
           {
            "marker": {
             "colorbar": {
              "outlinewidth": 0,
              "ticks": ""
             }
            },
            "type": "scatterpolargl"
           }
          ],
          "scatterternary": [
           {
            "marker": {
             "colorbar": {
              "outlinewidth": 0,
              "ticks": ""
             }
            },
            "type": "scatterternary"
           }
          ],
          "surface": [
           {
            "colorbar": {
             "outlinewidth": 0,
             "ticks": ""
            },
            "colorscale": [
             [
              0,
              "#0d0887"
             ],
             [
              0.1111111111111111,
              "#46039f"
             ],
             [
              0.2222222222222222,
              "#7201a8"
             ],
             [
              0.3333333333333333,
              "#9c179e"
             ],
             [
              0.4444444444444444,
              "#bd3786"
             ],
             [
              0.5555555555555556,
              "#d8576b"
             ],
             [
              0.6666666666666666,
              "#ed7953"
             ],
             [
              0.7777777777777778,
              "#fb9f3a"
             ],
             [
              0.8888888888888888,
              "#fdca26"
             ],
             [
              1,
              "#f0f921"
             ]
            ],
            "type": "surface"
           }
          ],
          "table": [
           {
            "cells": {
             "fill": {
              "color": "#EBF0F8"
             },
             "line": {
              "color": "white"
             }
            },
            "header": {
             "fill": {
              "color": "#C8D4E3"
             },
             "line": {
              "color": "white"
             }
            },
            "type": "table"
           }
          ]
         },
         "layout": {
          "annotationdefaults": {
           "arrowcolor": "#2a3f5f",
           "arrowhead": 0,
           "arrowwidth": 1
          },
          "autotypenumbers": "strict",
          "coloraxis": {
           "colorbar": {
            "outlinewidth": 0,
            "ticks": ""
           }
          },
          "colorscale": {
           "diverging": [
            [
             0,
             "#8e0152"
            ],
            [
             0.1,
             "#c51b7d"
            ],
            [
             0.2,
             "#de77ae"
            ],
            [
             0.3,
             "#f1b6da"
            ],
            [
             0.4,
             "#fde0ef"
            ],
            [
             0.5,
             "#f7f7f7"
            ],
            [
             0.6,
             "#e6f5d0"
            ],
            [
             0.7,
             "#b8e186"
            ],
            [
             0.8,
             "#7fbc41"
            ],
            [
             0.9,
             "#4d9221"
            ],
            [
             1,
             "#276419"
            ]
           ],
           "sequential": [
            [
             0,
             "#0d0887"
            ],
            [
             0.1111111111111111,
             "#46039f"
            ],
            [
             0.2222222222222222,
             "#7201a8"
            ],
            [
             0.3333333333333333,
             "#9c179e"
            ],
            [
             0.4444444444444444,
             "#bd3786"
            ],
            [
             0.5555555555555556,
             "#d8576b"
            ],
            [
             0.6666666666666666,
             "#ed7953"
            ],
            [
             0.7777777777777778,
             "#fb9f3a"
            ],
            [
             0.8888888888888888,
             "#fdca26"
            ],
            [
             1,
             "#f0f921"
            ]
           ],
           "sequentialminus": [
            [
             0,
             "#0d0887"
            ],
            [
             0.1111111111111111,
             "#46039f"
            ],
            [
             0.2222222222222222,
             "#7201a8"
            ],
            [
             0.3333333333333333,
             "#9c179e"
            ],
            [
             0.4444444444444444,
             "#bd3786"
            ],
            [
             0.5555555555555556,
             "#d8576b"
            ],
            [
             0.6666666666666666,
             "#ed7953"
            ],
            [
             0.7777777777777778,
             "#fb9f3a"
            ],
            [
             0.8888888888888888,
             "#fdca26"
            ],
            [
             1,
             "#f0f921"
            ]
           ]
          },
          "colorway": [
           "#636efa",
           "#EF553B",
           "#00cc96",
           "#ab63fa",
           "#FFA15A",
           "#19d3f3",
           "#FF6692",
           "#B6E880",
           "#FF97FF",
           "#FECB52"
          ],
          "font": {
           "color": "#2a3f5f"
          },
          "geo": {
           "bgcolor": "white",
           "lakecolor": "white",
           "landcolor": "#E5ECF6",
           "showlakes": true,
           "showland": true,
           "subunitcolor": "white"
          },
          "hoverlabel": {
           "align": "left"
          },
          "hovermode": "closest",
          "mapbox": {
           "style": "light"
          },
          "paper_bgcolor": "white",
          "plot_bgcolor": "#E5ECF6",
          "polar": {
           "angularaxis": {
            "gridcolor": "white",
            "linecolor": "white",
            "ticks": ""
           },
           "bgcolor": "#E5ECF6",
           "radialaxis": {
            "gridcolor": "white",
            "linecolor": "white",
            "ticks": ""
           }
          },
          "scene": {
           "xaxis": {
            "backgroundcolor": "#E5ECF6",
            "gridcolor": "white",
            "gridwidth": 2,
            "linecolor": "white",
            "showbackground": true,
            "ticks": "",
            "zerolinecolor": "white"
           },
           "yaxis": {
            "backgroundcolor": "#E5ECF6",
            "gridcolor": "white",
            "gridwidth": 2,
            "linecolor": "white",
            "showbackground": true,
            "ticks": "",
            "zerolinecolor": "white"
           },
           "zaxis": {
            "backgroundcolor": "#E5ECF6",
            "gridcolor": "white",
            "gridwidth": 2,
            "linecolor": "white",
            "showbackground": true,
            "ticks": "",
            "zerolinecolor": "white"
           }
          },
          "shapedefaults": {
           "line": {
            "color": "#2a3f5f"
           }
          },
          "ternary": {
           "aaxis": {
            "gridcolor": "white",
            "linecolor": "white",
            "ticks": ""
           },
           "baxis": {
            "gridcolor": "white",
            "linecolor": "white",
            "ticks": ""
           },
           "bgcolor": "#E5ECF6",
           "caxis": {
            "gridcolor": "white",
            "linecolor": "white",
            "ticks": ""
           }
          },
          "title": {
           "x": 0.05
          },
          "xaxis": {
           "automargin": true,
           "gridcolor": "white",
           "linecolor": "white",
           "ticks": "",
           "title": {
            "standoff": 15
           },
           "zerolinecolor": "white",
           "zerolinewidth": 2
          },
          "yaxis": {
           "automargin": true,
           "gridcolor": "white",
           "linecolor": "white",
           "ticks": "",
           "title": {
            "standoff": 15
           },
           "zerolinecolor": "white",
           "zerolinewidth": 2
          }
         }
        },
        "xaxis": {
         "anchor": "y",
         "domain": [
          0,
          1
         ],
         "title": {
          "text": "x"
         }
        },
        "yaxis": {
         "anchor": "x",
         "domain": [
          0,
          1
         ],
         "title": {
          "text": "y"
         }
        }
       }
      },
      "text/html": [
       "<div>                            <div id=\"15c5f5d8-b17b-41f5-a800-9cbe047c3eb1\" class=\"plotly-graph-div\" style=\"height:525px; width:100%;\"></div>            <script type=\"text/javascript\">                require([\"plotly\"], function(Plotly) {                    window.PLOTLYENV=window.PLOTLYENV || {};                                    if (document.getElementById(\"15c5f5d8-b17b-41f5-a800-9cbe047c3eb1\")) {                    Plotly.newPlot(                        \"15c5f5d8-b17b-41f5-a800-9cbe047c3eb1\",                        [{\"hovertemplate\": \"x=%{x}<br>y=%{y}<extra></extra>\", \"legendgroup\": \"\", \"marker\": {\"color\": \"#636efa\", \"symbol\": \"circle\"}, \"mode\": \"markers\", \"name\": \"\", \"orientation\": \"v\", \"showlegend\": false, \"type\": \"scatter\", \"x\": [3.2143138974244, 2.369215857410143, 2.7867514221455614, 3.044539760392411, 4.544068044350276, 2.2528530309798933, 3.3546845539547285, 2.3324384599156054, 2.747411807886423, 3.0729847446279304, 2.9916690073799486, 2.428134794028789, 2.586587304671755, 3.336859820916809, 2.7315887651867388, 2.5211380837040362, 2.0969100130080562, 3.3881012015705165, 2.403120521175818, 2.921166050637739, 3.5341530741850624, 3.166133970305109, 4.544068044350276, 4.544068044350276, 4.544068044350276, 3.2245330626060857, 3.885530833188092, 3.1451964061141817, 2.5477747053878224, 3.2345172835126865, 3.2143138974244, 2.591064607026499, 3.0318122713303706, 3.1089031276673134, 2.8750612633917, 3.1684974835230326, 3.9205928620848085, 3.0492180226701815, 3.3283796034387376, 3.3492775274679554, 3.274388795550379, 2.656098202012832, 3.336859820916809, 3.9563125308411946, 3.6769678142947586, 3.584670384464349, 3.003029470553618, 4.544068044350276, 4.4428872189023485, 4.317958924700952, 3.307282047033346, 3.143327129992046, 2.8573324964312685, 3.274388795550379, 2.815577748324267, 3.520483532740792, 2.8524799936368566, 2.399673721481038, 3.0145205387579237, 2.824776462475546, 2.681241237375587, 3.296665190261531, 4.223755453657241, 2.7737864449811935, 4.544068044350276, 3.253580289562183, 3.7567881987681178, 2.494154594018443, 2.5943925503754266, 2.403120521175818, 3.1300119496719043, 2.8750612633917, 4.544068044350276, 2.910624404889201, 2.6893088591236203, 3.1743505974793798, 3.6534054906645013, 4.268648164671602, 3.7285161047597666, 2.710963118995276, 3.0199466816788423, 3.2095150145426308, 3.003029470553618, 3.4216039268698313, 3.244524511570084, 2.5477747053878224, 3.0773679052841563, 4.374216605428374, 2.4578818967339924, 4.317958924700952, 3.2853322276438846, 3.519302849235429, 3.274850320016665, 4.374216605428374, 2.369215857410143, 2.5403294747908736, 2.9800033715837464, 3.7866804531966487, 2.2068258760318495, 2.4899584794248346, 3.2643455070500926, 3.7019994748896368, 3.17868923977559, 3.4214393902200495, 2.663700925389648, 3.059941888061955, 2.900913067737669, 3.470704429722788, 3.8516863154424277, 2.884795363948981, 2.747411807886423, 2.7234556720351857, 4.374216605428374, 2.290034611362518, 2.494154594018443, 2.806179973983887, 3.317854489331469, 4.544068044350276, 3.380934463330702, 2.7781512503836434, 3.3283796034387376, 3.2068258760318495, 2.7589118923979736, 3.2538224387080734, 3.019116290447073, 2.4899584794248346, 2.4313637641589874, 2.7193312869837265, 3.7019994748896368, 3.336859820916809, 3.7866804531966487, 3.0881360887005513, 2.3283796034387376, 3.4933186082321015, 2.574031267727719, 2.893206753059848, 4.374216605428374, 3.1950689964685903, 2.6334684555795866, 4.544068044350276, 2.6893088591236203, 3.163757523981956, 2.155336037465062, 3.7285161047597666, 2.6414741105040997, 2.494154594018443, 2.637489729512511, 2.3283796034387376, 3.549371152333177, 4.14188854970586, 2.940516484932567, 3.2234959409623944, 3.7019994748896368, 2.6857417386022635, 4.544068044350276, 2.663700925389648, 2.870403905279027, 4.544068044350276, 2.503790683057181, 4.103358939866562, 4.069298012115529, 3.380934463330702, 2.9804578922761, 2.727541257028556, 2.598790506763115, 2.82020145948564, 3.7019994748896368, 3.2543063323312857, 4.028855809390444, 3.7567881987681178, 1.7853298350107671, 3.1051694279993316, 4.544068044350276, 2.8344207036815328], \"xaxis\": \"x\", \"y\": [0.38988488249540887, 0.3269713094967829, 0.3899736870710619, 0.398546767683183, 0.12111538460400939, 0.3017812596426073, 0.3746214986713139, 0.3192573575090717, 0.38641671063176686, 0.3978811566464205, 0.39892843625978774, 0.33876336960279513, 0.3662666856741392, 0.37693753207444497, 0.3848272184433749, 0.3557265715632214, 0.26534503115575986, 0.3700009134604409, 0.33384746253359987, 0.3977045329220611, 0.345902516951775, 0.39347459247623745, 0.12111538460400939, 0.12111538460400939, 0.12111538460400939, 0.38901161340167506, 0.26954472108108984, 0.3947591166463077, 0.3601652259867092, 0.38812116338650704, 0.38988488249540887, 0.36694158555619083, 0.39874046256226775, 0.3965835747878126, 0.3958407175084291, 0.39331902255724255, 0.26114378001235944, 0.3984593712780351, 0.37800225597899334, 0.3753351462535891, 0.3842034155075443, 0.3760351121652155, 0.37693753207444497, 0.25253501628465236, 0.31724490132189254, 0.33626415158972156, 0.3989404497209783, 0.12111538460400939, 0.14087246570713535, 0.16738706451793747, 0.380545449733605, 0.39486558374901554, 0.3949028311262782, 0.3842034155075443, 0.3922153151437157, 0.3484048591240718, 0.39462489059442396, 0.33315935712512657, 0.3989002249171132, 0.39286463083313056, 0.3791808133528354, 0.38176744031204524, 0.1886753929026275, 0.3888643077654235, 0.12111538460400939, 0.38631969966913754, 0.2996012898517979, 0.35103184940718674, 0.3674392666509177, 0.33384746253359987, 0.39558480628484244, 0.3958407175084291, 0.12111538460400939, 0.3973520832680297, 0.38014480779222226, 0.39292457815373155, 0.3222563600992647, 0.1784097128544279, 0.3059583214702973, 0.3826212461692592, 0.3988629246905179, 0.39028157863830176, 0.3989404497209783, 0.3650162270266105, 0.38719197419993345, 0.3601652259867092, 0.3977500724603273, 0.15517928198288866, 0.3444230598258357, 0.16738706451793747, 0.38302854089463206, 0.34861878589068623, 0.38415472325208583, 0.15517928198288866, 0.3269713094967829, 0.35894466851287254, 0.39886252681736645, 0.292768934387982, 0.2912710131148375, 0.3502844607629829, 0.3852442205338137, 0.3118165750366971, 0.392623769402442, 0.36504154388292326, 0.3770086803505918, 0.39822621802262276, 0.3969886281048992, 0.3571069853359639, 0.2775863222046036, 0.3963036426071011, 0.38641671063176686, 0.3839753520326717, 0.15517928198288866, 0.31006790418364866, 0.35103184940718674, 0.3915188429977246, 0.3792899710190074, 0.12111538460400939, 0.37102194548212675, 0.3892447456315289, 0.37800225597899334, 0.3905001191023435, 0.3875151744756766, 0.3862959674003388, 0.39886939381091807, 0.3502844607629829, 0.3393877168684511, 0.3835343868177257, 0.3118165750366971, 0.37693753207444497, 0.292768934387982, 0.39739579974026557, 0.3183908662757576, 0.35323555222873754, 0.3643416642134471, 0.3966738263837302, 0.15517928198288866, 0.3914237720579579, 0.37302448437661734, 0.12111538460400939, 0.38014480779222226, 0.3936288587349934, 0.27924461137187506, 0.3059583214702973, 0.37410867836170664, 0.35103184940718674, 0.37357167895002885, 0.3183908662757576, 0.3430624203955861, 0.20785942623288453, 0.3982371178980852, 0.3891020030816928, 0.3118165750366971, 0.3797213211755755, 0.12111538460400939, 0.3770086803505918, 0.3956061603887026, 0.12111538460400939, 0.3527307093122478, 0.21704751022073535, 0.2252289918968907, 0.37102194548212675, 0.3988661108473497, 0.38440622170678473, 0.36809174606137757, 0.3925457096669267, 0.3118165750366971, 0.386248479040728, 0.23499038713975834, 0.2996012898517979, 0.19077694930012418, 0.3967420976431828, 0.12111538460400939, 0.39351079237160547], \"yaxis\": \"y\"}],                        {\"legend\": {\"tracegroupgap\": 0}, \"margin\": {\"t\": 60}, \"template\": {\"data\": {\"bar\": [{\"error_x\": {\"color\": \"#2a3f5f\"}, \"error_y\": {\"color\": \"#2a3f5f\"}, \"marker\": {\"line\": {\"color\": \"#E5ECF6\", \"width\": 0.5}}, \"type\": \"bar\"}], \"barpolar\": [{\"marker\": {\"line\": {\"color\": \"#E5ECF6\", \"width\": 0.5}}, \"type\": \"barpolar\"}], \"carpet\": [{\"aaxis\": {\"endlinecolor\": \"#2a3f5f\", \"gridcolor\": \"white\", \"linecolor\": \"white\", \"minorgridcolor\": \"white\", \"startlinecolor\": \"#2a3f5f\"}, \"baxis\": {\"endlinecolor\": \"#2a3f5f\", \"gridcolor\": \"white\", \"linecolor\": \"white\", \"minorgridcolor\": \"white\", \"startlinecolor\": \"#2a3f5f\"}, \"type\": \"carpet\"}], \"choropleth\": [{\"colorbar\": {\"outlinewidth\": 0, \"ticks\": \"\"}, \"type\": \"choropleth\"}], \"contour\": [{\"colorbar\": {\"outlinewidth\": 0, \"ticks\": \"\"}, \"colorscale\": [[0.0, \"#0d0887\"], [0.1111111111111111, \"#46039f\"], [0.2222222222222222, \"#7201a8\"], [0.3333333333333333, \"#9c179e\"], [0.4444444444444444, \"#bd3786\"], [0.5555555555555556, \"#d8576b\"], [0.6666666666666666, \"#ed7953\"], [0.7777777777777778, \"#fb9f3a\"], [0.8888888888888888, \"#fdca26\"], [1.0, \"#f0f921\"]], \"type\": \"contour\"}], \"contourcarpet\": [{\"colorbar\": {\"outlinewidth\": 0, \"ticks\": \"\"}, \"type\": \"contourcarpet\"}], \"heatmap\": [{\"colorbar\": {\"outlinewidth\": 0, \"ticks\": \"\"}, \"colorscale\": [[0.0, \"#0d0887\"], [0.1111111111111111, \"#46039f\"], [0.2222222222222222, \"#7201a8\"], [0.3333333333333333, \"#9c179e\"], [0.4444444444444444, \"#bd3786\"], [0.5555555555555556, \"#d8576b\"], [0.6666666666666666, \"#ed7953\"], [0.7777777777777778, \"#fb9f3a\"], [0.8888888888888888, \"#fdca26\"], [1.0, \"#f0f921\"]], \"type\": \"heatmap\"}], \"heatmapgl\": [{\"colorbar\": {\"outlinewidth\": 0, \"ticks\": \"\"}, \"colorscale\": [[0.0, \"#0d0887\"], [0.1111111111111111, \"#46039f\"], [0.2222222222222222, \"#7201a8\"], [0.3333333333333333, \"#9c179e\"], [0.4444444444444444, \"#bd3786\"], [0.5555555555555556, \"#d8576b\"], [0.6666666666666666, \"#ed7953\"], [0.7777777777777778, \"#fb9f3a\"], [0.8888888888888888, \"#fdca26\"], [1.0, \"#f0f921\"]], \"type\": \"heatmapgl\"}], \"histogram\": [{\"marker\": {\"colorbar\": {\"outlinewidth\": 0, \"ticks\": \"\"}}, \"type\": \"histogram\"}], \"histogram2d\": [{\"colorbar\": {\"outlinewidth\": 0, \"ticks\": \"\"}, \"colorscale\": [[0.0, \"#0d0887\"], [0.1111111111111111, \"#46039f\"], [0.2222222222222222, \"#7201a8\"], [0.3333333333333333, \"#9c179e\"], [0.4444444444444444, \"#bd3786\"], [0.5555555555555556, \"#d8576b\"], [0.6666666666666666, \"#ed7953\"], [0.7777777777777778, \"#fb9f3a\"], [0.8888888888888888, \"#fdca26\"], [1.0, \"#f0f921\"]], \"type\": \"histogram2d\"}], \"histogram2dcontour\": [{\"colorbar\": {\"outlinewidth\": 0, \"ticks\": \"\"}, \"colorscale\": [[0.0, \"#0d0887\"], [0.1111111111111111, \"#46039f\"], [0.2222222222222222, \"#7201a8\"], [0.3333333333333333, \"#9c179e\"], [0.4444444444444444, \"#bd3786\"], [0.5555555555555556, \"#d8576b\"], [0.6666666666666666, \"#ed7953\"], [0.7777777777777778, \"#fb9f3a\"], [0.8888888888888888, \"#fdca26\"], [1.0, \"#f0f921\"]], \"type\": \"histogram2dcontour\"}], \"mesh3d\": [{\"colorbar\": {\"outlinewidth\": 0, \"ticks\": \"\"}, \"type\": \"mesh3d\"}], \"parcoords\": [{\"line\": {\"colorbar\": {\"outlinewidth\": 0, \"ticks\": \"\"}}, \"type\": \"parcoords\"}], \"pie\": [{\"automargin\": true, \"type\": \"pie\"}], \"scatter\": [{\"marker\": {\"colorbar\": {\"outlinewidth\": 0, \"ticks\": \"\"}}, \"type\": \"scatter\"}], \"scatter3d\": [{\"line\": {\"colorbar\": {\"outlinewidth\": 0, \"ticks\": \"\"}}, \"marker\": {\"colorbar\": {\"outlinewidth\": 0, \"ticks\": \"\"}}, \"type\": \"scatter3d\"}], \"scattercarpet\": [{\"marker\": {\"colorbar\": {\"outlinewidth\": 0, \"ticks\": \"\"}}, \"type\": \"scattercarpet\"}], \"scattergeo\": [{\"marker\": {\"colorbar\": {\"outlinewidth\": 0, \"ticks\": \"\"}}, \"type\": \"scattergeo\"}], \"scattergl\": [{\"marker\": {\"colorbar\": {\"outlinewidth\": 0, \"ticks\": \"\"}}, \"type\": \"scattergl\"}], \"scattermapbox\": [{\"marker\": {\"colorbar\": {\"outlinewidth\": 0, \"ticks\": \"\"}}, \"type\": \"scattermapbox\"}], \"scatterpolar\": [{\"marker\": {\"colorbar\": {\"outlinewidth\": 0, \"ticks\": \"\"}}, \"type\": \"scatterpolar\"}], \"scatterpolargl\": [{\"marker\": {\"colorbar\": {\"outlinewidth\": 0, \"ticks\": \"\"}}, \"type\": \"scatterpolargl\"}], \"scatterternary\": [{\"marker\": {\"colorbar\": {\"outlinewidth\": 0, \"ticks\": \"\"}}, \"type\": \"scatterternary\"}], \"surface\": [{\"colorbar\": {\"outlinewidth\": 0, \"ticks\": \"\"}, \"colorscale\": [[0.0, \"#0d0887\"], [0.1111111111111111, \"#46039f\"], [0.2222222222222222, \"#7201a8\"], [0.3333333333333333, \"#9c179e\"], [0.4444444444444444, \"#bd3786\"], [0.5555555555555556, \"#d8576b\"], [0.6666666666666666, \"#ed7953\"], [0.7777777777777778, \"#fb9f3a\"], [0.8888888888888888, \"#fdca26\"], [1.0, \"#f0f921\"]], \"type\": \"surface\"}], \"table\": [{\"cells\": {\"fill\": {\"color\": \"#EBF0F8\"}, \"line\": {\"color\": \"white\"}}, \"header\": {\"fill\": {\"color\": \"#C8D4E3\"}, \"line\": {\"color\": \"white\"}}, \"type\": \"table\"}]}, \"layout\": {\"annotationdefaults\": {\"arrowcolor\": \"#2a3f5f\", \"arrowhead\": 0, \"arrowwidth\": 1}, \"autotypenumbers\": \"strict\", \"coloraxis\": {\"colorbar\": {\"outlinewidth\": 0, \"ticks\": \"\"}}, \"colorscale\": {\"diverging\": [[0, \"#8e0152\"], [0.1, \"#c51b7d\"], [0.2, \"#de77ae\"], [0.3, \"#f1b6da\"], [0.4, \"#fde0ef\"], [0.5, \"#f7f7f7\"], [0.6, \"#e6f5d0\"], [0.7, \"#b8e186\"], [0.8, \"#7fbc41\"], [0.9, \"#4d9221\"], [1, \"#276419\"]], \"sequential\": [[0.0, \"#0d0887\"], [0.1111111111111111, \"#46039f\"], [0.2222222222222222, \"#7201a8\"], [0.3333333333333333, \"#9c179e\"], [0.4444444444444444, \"#bd3786\"], [0.5555555555555556, \"#d8576b\"], [0.6666666666666666, \"#ed7953\"], [0.7777777777777778, \"#fb9f3a\"], [0.8888888888888888, \"#fdca26\"], [1.0, \"#f0f921\"]], \"sequentialminus\": [[0.0, \"#0d0887\"], [0.1111111111111111, \"#46039f\"], [0.2222222222222222, \"#7201a8\"], [0.3333333333333333, \"#9c179e\"], [0.4444444444444444, \"#bd3786\"], [0.5555555555555556, \"#d8576b\"], [0.6666666666666666, \"#ed7953\"], [0.7777777777777778, \"#fb9f3a\"], [0.8888888888888888, \"#fdca26\"], [1.0, \"#f0f921\"]]}, \"colorway\": [\"#636efa\", \"#EF553B\", \"#00cc96\", \"#ab63fa\", \"#FFA15A\", \"#19d3f3\", \"#FF6692\", \"#B6E880\", \"#FF97FF\", \"#FECB52\"], \"font\": {\"color\": \"#2a3f5f\"}, \"geo\": {\"bgcolor\": \"white\", \"lakecolor\": \"white\", \"landcolor\": \"#E5ECF6\", \"showlakes\": true, \"showland\": true, \"subunitcolor\": \"white\"}, \"hoverlabel\": {\"align\": \"left\"}, \"hovermode\": \"closest\", \"mapbox\": {\"style\": \"light\"}, \"paper_bgcolor\": \"white\", \"plot_bgcolor\": \"#E5ECF6\", \"polar\": {\"angularaxis\": {\"gridcolor\": \"white\", \"linecolor\": \"white\", \"ticks\": \"\"}, \"bgcolor\": \"#E5ECF6\", \"radialaxis\": {\"gridcolor\": \"white\", \"linecolor\": \"white\", \"ticks\": \"\"}}, \"scene\": {\"xaxis\": {\"backgroundcolor\": \"#E5ECF6\", \"gridcolor\": \"white\", \"gridwidth\": 2, \"linecolor\": \"white\", \"showbackground\": true, \"ticks\": \"\", \"zerolinecolor\": \"white\"}, \"yaxis\": {\"backgroundcolor\": \"#E5ECF6\", \"gridcolor\": \"white\", \"gridwidth\": 2, \"linecolor\": \"white\", \"showbackground\": true, \"ticks\": \"\", \"zerolinecolor\": \"white\"}, \"zaxis\": {\"backgroundcolor\": \"#E5ECF6\", \"gridcolor\": \"white\", \"gridwidth\": 2, \"linecolor\": \"white\", \"showbackground\": true, \"ticks\": \"\", \"zerolinecolor\": \"white\"}}, \"shapedefaults\": {\"line\": {\"color\": \"#2a3f5f\"}}, \"ternary\": {\"aaxis\": {\"gridcolor\": \"white\", \"linecolor\": \"white\", \"ticks\": \"\"}, \"baxis\": {\"gridcolor\": \"white\", \"linecolor\": \"white\", \"ticks\": \"\"}, \"bgcolor\": \"#E5ECF6\", \"caxis\": {\"gridcolor\": \"white\", \"linecolor\": \"white\", \"ticks\": \"\"}}, \"title\": {\"x\": 0.05}, \"xaxis\": {\"automargin\": true, \"gridcolor\": \"white\", \"linecolor\": \"white\", \"ticks\": \"\", \"title\": {\"standoff\": 15}, \"zerolinecolor\": \"white\", \"zerolinewidth\": 2}, \"yaxis\": {\"automargin\": true, \"gridcolor\": \"white\", \"linecolor\": \"white\", \"ticks\": \"\", \"title\": {\"standoff\": 15}, \"zerolinecolor\": \"white\", \"zerolinewidth\": 2}}}, \"xaxis\": {\"anchor\": \"y\", \"domain\": [0.0, 1.0], \"title\": {\"text\": \"x\"}}, \"yaxis\": {\"anchor\": \"x\", \"domain\": [0.0, 1.0], \"title\": {\"text\": \"y\"}}},                        {\"responsive\": true}                    ).then(function(){\n",
       "                            \n",
       "var gd = document.getElementById('15c5f5d8-b17b-41f5-a800-9cbe047c3eb1');\n",
       "var x = new MutationObserver(function (mutations, observer) {{\n",
       "        var display = window.getComputedStyle(gd).display;\n",
       "        if (!display || display === 'none') {{\n",
       "            console.log([gd, 'removed!']);\n",
       "            Plotly.purge(gd);\n",
       "            observer.disconnect();\n",
       "        }}\n",
       "}});\n",
       "\n",
       "// Listen for the removal of the full notebook cells\n",
       "var notebookContainer = gd.closest('#notebook-container');\n",
       "if (notebookContainer) {{\n",
       "    x.observe(notebookContainer, {childList: true});\n",
       "}}\n",
       "\n",
       "// Listen for the clearing of the current output cell\n",
       "var outputEl = gd.closest('.output');\n",
       "if (outputEl) {{\n",
       "    x.observe(outputEl, {childList: true});\n",
       "}}\n",
       "\n",
       "                        })                };                });            </script>        </div>"
      ]
     },
     "metadata": {},
     "output_type": "display_data"
    }
   ],
   "source": [
    "px.scatter(x = y_train, y = weights)"
   ]
  },
  {
   "cell_type": "code",
   "execution_count": 612,
   "id": "weighted-nicholas",
   "metadata": {},
   "outputs": [],
   "source": [
    "# Fit models\n",
    "lower_model.fit(X_train, y_train, sample_weight =weights)\n",
    "mid_model.fit(X_train, y_train, sample_weight =weights)\n",
    "upper_model.fit(X_train, y_train, sample_weight =weights)# Record actual values on test set\n",
    "\n",
    "predictions = pd.DataFrame(y_test)# Predict\n",
    "\n",
    "predictions['lower'] = lower_model.predict(X_test)\n",
    "predictions['mid'] = mid_model.predict(X_test)\n",
    "predictions['upper'] = upper_model.predict(X_test)"
   ]
  },
  {
   "cell_type": "code",
   "execution_count": 613,
   "id": "psychological-watershed",
   "metadata": {},
   "outputs": [],
   "source": [
    "predictions[\"Nummer\"] = range(len(predictions))"
   ]
  },
  {
   "cell_type": "code",
   "execution_count": 614,
   "id": "laughing-yemen",
   "metadata": {},
   "outputs": [
    {
     "data": {
      "application/vnd.plotly.v1+json": {
       "config": {
        "plotlyServerURL": "https://plot.ly"
       },
       "data": [
        {
         "line": {
          "color": "rgba(68, 68, 68, 1)",
          "width": 0.5
         },
         "mode": "lines",
         "name": "Unteres Vorhersageintervall",
         "type": "scatter",
         "x": [
          0,
          1,
          2,
          3,
          4,
          5,
          6,
          7,
          8,
          9,
          10,
          11,
          12,
          13,
          14,
          15,
          16,
          17,
          18,
          19,
          20,
          21,
          22,
          23,
          24,
          25,
          26,
          27,
          28,
          29,
          30,
          31,
          32,
          33,
          34,
          35,
          36,
          37,
          38,
          39,
          40,
          41,
          42,
          43,
          44,
          45,
          46,
          47,
          48,
          49,
          50,
          51,
          52,
          53,
          54,
          55,
          56,
          57,
          58,
          59,
          60,
          61,
          62,
          63,
          64,
          65,
          66,
          67,
          68,
          69,
          70,
          71,
          72,
          73,
          74
         ],
         "y": [
          2.5920075613779225,
          2.2881439877169996,
          2.3699143215484266,
          2.886562217065384,
          2.3699143215484266,
          2.3995891330377823,
          2.307625154159031,
          2.3230872134228804,
          2.29102568257464,
          2.3699143215484266,
          2.8652116155224974,
          2.8668743418088125,
          2.588559009753337,
          2.319225446451016,
          2.8577701099260553,
          2.433809589938166,
          2.306996997094485,
          2.2671644909755226,
          2.897032975453069,
          3.215848754876392,
          2.8652116155224974,
          2.875980136993027,
          2.287903053457658,
          2.9419223065566884,
          2.74486762142984,
          2.855852375919201,
          2.196907924372261,
          2.3227705690994442,
          2.321186550449567,
          2.436940129177506,
          2.663994858623311,
          2.8658397725870435,
          2.324330665153272,
          2.829544660948663,
          3.340003022860013,
          2.3699143215484266,
          2.8662461847442664,
          2.334306184212277,
          2.94104103735624,
          2.3092499273920115,
          2.667858814107337,
          2.667858814107337,
          2.5356319255647204,
          2.29102568257464,
          2.274603114739403,
          2.889309091297325,
          2.398163022207645,
          2.8957235392682845,
          2.9363798990299372,
          2.440059634509617,
          2.6722993985662358,
          2.5361286800580256,
          2.675629389960008,
          2.5356319255647204,
          2.3277792167778584,
          2.1923081961581383,
          2.624689891495553,
          2.3086878799727266,
          2.934185217240146,
          2.3699143215484266,
          2.331162069508572,
          2.3115715631994957,
          2.7401103926475043,
          2.5356319255647204,
          2.437974698399275,
          2.7117741042638173,
          2.664939660011294,
          2.43631197211296,
          2.3212380994178803,
          2.4710486162122685,
          2.945969129489791,
          2.3214694678183196,
          2.436940129177506,
          2.664614819078219,
          2.319225446451016
         ]
        },
        {
         "fillcolor": "rgba(68, 68, 68, 0.1)",
         "line": {
          "color": "rgb(0, 86, 110)",
          "width": 1
         },
         "marker": {
          "color": "rgb(0, 86, 110)"
         },
         "mode": "lines",
         "name": "Vorhergesagter Mittelwert",
         "type": "scatter",
         "x": [
          0,
          1,
          2,
          3,
          4,
          5,
          6,
          7,
          8,
          9,
          10,
          11,
          12,
          13,
          14,
          15,
          16,
          17,
          18,
          19,
          20,
          21,
          22,
          23,
          24,
          25,
          26,
          27,
          28,
          29,
          30,
          31,
          32,
          33,
          34,
          35,
          36,
          37,
          38,
          39,
          40,
          41,
          42,
          43,
          44,
          45,
          46,
          47,
          48,
          49,
          50,
          51,
          52,
          53,
          54,
          55,
          56,
          57,
          58,
          59,
          60,
          61,
          62,
          63,
          64,
          65,
          66,
          67,
          68,
          69,
          70,
          71,
          72,
          73,
          74
         ],
         "y": [
          3.3736705459283525,
          2.7947048443139173,
          3.2184063058200114,
          3.0416305435562276,
          3.0479989015787607,
          2.6716216707765352,
          2.4085374003775937,
          2.793299626736066,
          2.664500683319416,
          2.895701098859504,
          3.9089286343297784,
          3.1952927126420647,
          3.6580581459838273,
          3.730829288237071,
          3.4884336078728584,
          2.8452912879142502,
          2.5045814126254315,
          2.8450171559630033,
          3.92675124455788,
          3.4224029579112982,
          3.1549662118821553,
          3.3561752873826083,
          2.7526501867260023,
          3.4047338776842957,
          3.322567625838307,
          3.3486117231354036,
          2.8032639508895136,
          2.853004394024131,
          2.7091601520042934,
          2.7418682916568384,
          3.621766362028396,
          3.3904667420621664,
          2.926272847770634,
          3.425194711324683,
          4.035944560233868,
          2.7563436905350427,
          3.589122868252221,
          2.812173616464549,
          3.492625283983194,
          3.6045761932108786,
          3.4377075467334803,
          3.4721908288890755,
          3.1442644842041876,
          2.8113684518666435,
          2.583005115150168,
          3.7753194787343927,
          2.537967251513692,
          3.393896070538748,
          3.3866228904430127,
          2.898633593432305,
          3.1944690412313377,
          3.8013620247183764,
          2.981764666354158,
          3.0345934702662287,
          2.8152368556080796,
          3.092096719057819,
          2.8223394406845643,
          2.820608175275278,
          3.4228762511070316,
          2.8032735250378416,
          2.7918843900319414,
          3.319338115566447,
          4.049856610561617,
          3.44972241941559,
          2.68123292630024,
          3.9017804369761926,
          3.3118742328212543,
          3.1165715061153723,
          2.5739377388878357,
          2.6915612058851024,
          3.460880689297054,
          2.945453357137767,
          2.8456252535904922,
          3.2990921773404795,
          3.4105073929644285
         ]
        },
        {
         "fillcolor": "rgba(68, 68, 68, 1)",
         "line": {
          "color": "rgba(68, 68, 68, 1)",
          "width": 0.5
         },
         "mode": "lines",
         "name": "Oberes Vorhersageintervall",
         "type": "scatter",
         "x": [
          0,
          1,
          2,
          3,
          4,
          5,
          6,
          7,
          8,
          9,
          10,
          11,
          12,
          13,
          14,
          15,
          16,
          17,
          18,
          19,
          20,
          21,
          22,
          23,
          24,
          25,
          26,
          27,
          28,
          29,
          30,
          31,
          32,
          33,
          34,
          35,
          36,
          37,
          38,
          39,
          40,
          41,
          42,
          43,
          44,
          45,
          46,
          47,
          48,
          49,
          50,
          51,
          52,
          53,
          54,
          55,
          56,
          57,
          58,
          59,
          60,
          61,
          62,
          63,
          64,
          65,
          66,
          67,
          68,
          69,
          70,
          71,
          72,
          73,
          74
         ],
         "y": [
          3.7928284373306194,
          3.1939619538530675,
          4.495222135926806,
          3.4860599693971097,
          4.097645950234767,
          3.1939619538530675,
          3.7941338944890046,
          3.4186829667706524,
          3.4186829667706524,
          4.097645950234767,
          4.390193993240007,
          4.020034316622677,
          3.746736354356023,
          3.9540527555482385,
          3.6588816313241455,
          3.4186829667706524,
          3.827495014995909,
          3.6116804420629887,
          4.079496843312848,
          4.02594777013505,
          3.662988853589909,
          3.653098592664277,
          4.097645950234767,
          3.8331642964548105,
          3.7949141572128746,
          3.524110163302154,
          3.4186829667706524,
          3.602443517608637,
          3.602443517608637,
          4.097645950234767,
          3.852596546863293,
          3.6572048994324944,
          3.7791130158772392,
          3.8132211989078795,
          4.028751415871181,
          4.097645950234767,
          3.662988853589909,
          3.7941338944890046,
          3.9745749477724908,
          4.135917639938699,
          4.116794153614005,
          4.489459682420843,
          4.116226121330307,
          3.4186829667706524,
          3.602443517608637,
          4.3611521034009,
          3.7941338944890046,
          3.931903685727558,
          4.152310924568903,
          3.4186829667706524,
          3.908417123037424,
          3.989986057606373,
          3.278812855868992,
          4.097645950234767,
          3.7791130158772392,
          3.486755352094403,
          3.3052362928199686,
          3.491068427115171,
          3.812116906945176,
          4.097645950234767,
          3.6116804420629887,
          3.5716281705868163,
          4.543302708613101,
          4.495222135926806,
          3.90628605782408,
          4.170778308989263,
          3.672445267418009,
          4.116226121330307,
          3.1939619538530675,
          3.7686235403964776,
          3.8612223532576704,
          3.4186829667706524,
          4.097645950234767,
          3.9972539636488533,
          3.5108327775801054
         ]
        },
        {
         "fillcolor": "rgba(68, 68, 68, 0.1)",
         "line": {
          "color": "red",
          "width": 1
         },
         "marker": {
          "color": "red"
         },
         "mode": "markers",
         "name": "Vorhergesagter Mittelwert",
         "type": "scatter",
         "x": [
          0,
          1,
          2,
          3,
          4,
          5,
          6,
          7,
          8,
          9,
          10,
          11,
          12,
          13,
          14,
          15,
          16,
          17,
          18,
          19,
          20,
          21,
          22,
          23,
          24,
          25,
          26,
          27,
          28,
          29,
          30,
          31,
          32,
          33,
          34,
          35,
          36,
          37,
          38,
          39,
          40,
          41,
          42,
          43,
          44,
          45,
          46,
          47,
          48,
          49,
          50,
          51,
          52,
          53,
          54,
          55,
          56,
          57,
          58,
          59,
          60,
          61,
          62,
          63,
          64,
          65,
          66,
          67,
          68,
          69,
          70,
          71,
          72,
          73,
          74
         ],
         "y": [
          2.574031267727719,
          2.6857417386022635,
          3.025715383901341,
          3.0538464268522527,
          3.037027879755775,
          3.119585774961784,
          2.637489729512511,
          2.94546858513182,
          3.885530833188092,
          2.5477747053878224,
          2.3654879848909,
          4.544068044350276,
          2.4899584794248346,
          3.4459154139511234,
          4.374216605428374,
          3.1743505974793798,
          2.041392685158225,
          2.6599162000698504,
          3.3925210899319325,
          4.544068044350276,
          3.4214393902200495,
          3.1950689964685903,
          2.403120521175818,
          3.1228709228644354,
          3.244524511570084,
          4.14188854970586,
          2.53655844257153,
          2.6857417386022635,
          2.5477747053878224,
          2.940516484932567,
          2.9858753573083936,
          3.380934463330702,
          2.5943925503754266,
          3.2643455070500926,
          4.028855809390444,
          2.8432327780980096,
          3.024074987307426,
          2.870403905279027,
          3.7480328941301435,
          3.7480328941301435,
          2.2068258760318495,
          3.1826999033360424,
          2.4899584794248346,
          2.94546858513182,
          2.5440680443502757,
          4.4428872189023485,
          2.247973266361807,
          4.544068044350276,
          2.9469432706978256,
          3.2038484637462346,
          2.6180480967120925,
          2.9628426812012423,
          3.0773679052841563,
          2.9508514588885464,
          2.3961993470957363,
          3.2038484637462346,
          3.7023443583557687,
          2.6148972160331345,
          2.7589118923979736,
          3.083860800866573,
          2.3324384599156054,
          2.893206753059848,
          4.544068044350276,
          4.544068044350276,
          2.6414741105040997,
          4.544068044350276,
          3.584670384464349,
          2.938519725176492,
          3.520483532740792,
          2.7972675408307164,
          3.4216039268698313,
          2.7589118923979736,
          2.2528530309798933,
          3.330413773349191,
          3.274619619091238
         ]
        }
       ],
       "layout": {
        "legend": {
         "title": {},
         "x": 0.01,
         "xanchor": "left",
         "y": 0.99,
         "yanchor": "top"
        },
        "template": {
         "data": {
          "bar": [
           {
            "error_x": {
             "color": "#2a3f5f"
            },
            "error_y": {
             "color": "#2a3f5f"
            },
            "marker": {
             "line": {
              "color": "#E5ECF6",
              "width": 0.5
             }
            },
            "type": "bar"
           }
          ],
          "barpolar": [
           {
            "marker": {
             "line": {
              "color": "#E5ECF6",
              "width": 0.5
             }
            },
            "type": "barpolar"
           }
          ],
          "carpet": [
           {
            "aaxis": {
             "endlinecolor": "#2a3f5f",
             "gridcolor": "white",
             "linecolor": "white",
             "minorgridcolor": "white",
             "startlinecolor": "#2a3f5f"
            },
            "baxis": {
             "endlinecolor": "#2a3f5f",
             "gridcolor": "white",
             "linecolor": "white",
             "minorgridcolor": "white",
             "startlinecolor": "#2a3f5f"
            },
            "type": "carpet"
           }
          ],
          "choropleth": [
           {
            "colorbar": {
             "outlinewidth": 0,
             "ticks": ""
            },
            "type": "choropleth"
           }
          ],
          "contour": [
           {
            "colorbar": {
             "outlinewidth": 0,
             "ticks": ""
            },
            "colorscale": [
             [
              0,
              "#0d0887"
             ],
             [
              0.1111111111111111,
              "#46039f"
             ],
             [
              0.2222222222222222,
              "#7201a8"
             ],
             [
              0.3333333333333333,
              "#9c179e"
             ],
             [
              0.4444444444444444,
              "#bd3786"
             ],
             [
              0.5555555555555556,
              "#d8576b"
             ],
             [
              0.6666666666666666,
              "#ed7953"
             ],
             [
              0.7777777777777778,
              "#fb9f3a"
             ],
             [
              0.8888888888888888,
              "#fdca26"
             ],
             [
              1,
              "#f0f921"
             ]
            ],
            "type": "contour"
           }
          ],
          "contourcarpet": [
           {
            "colorbar": {
             "outlinewidth": 0,
             "ticks": ""
            },
            "type": "contourcarpet"
           }
          ],
          "heatmap": [
           {
            "colorbar": {
             "outlinewidth": 0,
             "ticks": ""
            },
            "colorscale": [
             [
              0,
              "#0d0887"
             ],
             [
              0.1111111111111111,
              "#46039f"
             ],
             [
              0.2222222222222222,
              "#7201a8"
             ],
             [
              0.3333333333333333,
              "#9c179e"
             ],
             [
              0.4444444444444444,
              "#bd3786"
             ],
             [
              0.5555555555555556,
              "#d8576b"
             ],
             [
              0.6666666666666666,
              "#ed7953"
             ],
             [
              0.7777777777777778,
              "#fb9f3a"
             ],
             [
              0.8888888888888888,
              "#fdca26"
             ],
             [
              1,
              "#f0f921"
             ]
            ],
            "type": "heatmap"
           }
          ],
          "heatmapgl": [
           {
            "colorbar": {
             "outlinewidth": 0,
             "ticks": ""
            },
            "colorscale": [
             [
              0,
              "#0d0887"
             ],
             [
              0.1111111111111111,
              "#46039f"
             ],
             [
              0.2222222222222222,
              "#7201a8"
             ],
             [
              0.3333333333333333,
              "#9c179e"
             ],
             [
              0.4444444444444444,
              "#bd3786"
             ],
             [
              0.5555555555555556,
              "#d8576b"
             ],
             [
              0.6666666666666666,
              "#ed7953"
             ],
             [
              0.7777777777777778,
              "#fb9f3a"
             ],
             [
              0.8888888888888888,
              "#fdca26"
             ],
             [
              1,
              "#f0f921"
             ]
            ],
            "type": "heatmapgl"
           }
          ],
          "histogram": [
           {
            "marker": {
             "colorbar": {
              "outlinewidth": 0,
              "ticks": ""
             }
            },
            "type": "histogram"
           }
          ],
          "histogram2d": [
           {
            "colorbar": {
             "outlinewidth": 0,
             "ticks": ""
            },
            "colorscale": [
             [
              0,
              "#0d0887"
             ],
             [
              0.1111111111111111,
              "#46039f"
             ],
             [
              0.2222222222222222,
              "#7201a8"
             ],
             [
              0.3333333333333333,
              "#9c179e"
             ],
             [
              0.4444444444444444,
              "#bd3786"
             ],
             [
              0.5555555555555556,
              "#d8576b"
             ],
             [
              0.6666666666666666,
              "#ed7953"
             ],
             [
              0.7777777777777778,
              "#fb9f3a"
             ],
             [
              0.8888888888888888,
              "#fdca26"
             ],
             [
              1,
              "#f0f921"
             ]
            ],
            "type": "histogram2d"
           }
          ],
          "histogram2dcontour": [
           {
            "colorbar": {
             "outlinewidth": 0,
             "ticks": ""
            },
            "colorscale": [
             [
              0,
              "#0d0887"
             ],
             [
              0.1111111111111111,
              "#46039f"
             ],
             [
              0.2222222222222222,
              "#7201a8"
             ],
             [
              0.3333333333333333,
              "#9c179e"
             ],
             [
              0.4444444444444444,
              "#bd3786"
             ],
             [
              0.5555555555555556,
              "#d8576b"
             ],
             [
              0.6666666666666666,
              "#ed7953"
             ],
             [
              0.7777777777777778,
              "#fb9f3a"
             ],
             [
              0.8888888888888888,
              "#fdca26"
             ],
             [
              1,
              "#f0f921"
             ]
            ],
            "type": "histogram2dcontour"
           }
          ],
          "mesh3d": [
           {
            "colorbar": {
             "outlinewidth": 0,
             "ticks": ""
            },
            "type": "mesh3d"
           }
          ],
          "parcoords": [
           {
            "line": {
             "colorbar": {
              "outlinewidth": 0,
              "ticks": ""
             }
            },
            "type": "parcoords"
           }
          ],
          "pie": [
           {
            "automargin": true,
            "type": "pie"
           }
          ],
          "scatter": [
           {
            "marker": {
             "colorbar": {
              "outlinewidth": 0,
              "ticks": ""
             }
            },
            "type": "scatter"
           }
          ],
          "scatter3d": [
           {
            "line": {
             "colorbar": {
              "outlinewidth": 0,
              "ticks": ""
             }
            },
            "marker": {
             "colorbar": {
              "outlinewidth": 0,
              "ticks": ""
             }
            },
            "type": "scatter3d"
           }
          ],
          "scattercarpet": [
           {
            "marker": {
             "colorbar": {
              "outlinewidth": 0,
              "ticks": ""
             }
            },
            "type": "scattercarpet"
           }
          ],
          "scattergeo": [
           {
            "marker": {
             "colorbar": {
              "outlinewidth": 0,
              "ticks": ""
             }
            },
            "type": "scattergeo"
           }
          ],
          "scattergl": [
           {
            "marker": {
             "colorbar": {
              "outlinewidth": 0,
              "ticks": ""
             }
            },
            "type": "scattergl"
           }
          ],
          "scattermapbox": [
           {
            "marker": {
             "colorbar": {
              "outlinewidth": 0,
              "ticks": ""
             }
            },
            "type": "scattermapbox"
           }
          ],
          "scatterpolar": [
           {
            "marker": {
             "colorbar": {
              "outlinewidth": 0,
              "ticks": ""
             }
            },
            "type": "scatterpolar"
           }
          ],
          "scatterpolargl": [
           {
            "marker": {
             "colorbar": {
              "outlinewidth": 0,
              "ticks": ""
             }
            },
            "type": "scatterpolargl"
           }
          ],
          "scatterternary": [
           {
            "marker": {
             "colorbar": {
              "outlinewidth": 0,
              "ticks": ""
             }
            },
            "type": "scatterternary"
           }
          ],
          "surface": [
           {
            "colorbar": {
             "outlinewidth": 0,
             "ticks": ""
            },
            "colorscale": [
             [
              0,
              "#0d0887"
             ],
             [
              0.1111111111111111,
              "#46039f"
             ],
             [
              0.2222222222222222,
              "#7201a8"
             ],
             [
              0.3333333333333333,
              "#9c179e"
             ],
             [
              0.4444444444444444,
              "#bd3786"
             ],
             [
              0.5555555555555556,
              "#d8576b"
             ],
             [
              0.6666666666666666,
              "#ed7953"
             ],
             [
              0.7777777777777778,
              "#fb9f3a"
             ],
             [
              0.8888888888888888,
              "#fdca26"
             ],
             [
              1,
              "#f0f921"
             ]
            ],
            "type": "surface"
           }
          ],
          "table": [
           {
            "cells": {
             "fill": {
              "color": "#EBF0F8"
             },
             "line": {
              "color": "white"
             }
            },
            "header": {
             "fill": {
              "color": "#C8D4E3"
             },
             "line": {
              "color": "white"
             }
            },
            "type": "table"
           }
          ]
         },
         "layout": {
          "annotationdefaults": {
           "arrowcolor": "#2a3f5f",
           "arrowhead": 0,
           "arrowwidth": 1
          },
          "autotypenumbers": "strict",
          "coloraxis": {
           "colorbar": {
            "outlinewidth": 0,
            "ticks": ""
           }
          },
          "colorscale": {
           "diverging": [
            [
             0,
             "#8e0152"
            ],
            [
             0.1,
             "#c51b7d"
            ],
            [
             0.2,
             "#de77ae"
            ],
            [
             0.3,
             "#f1b6da"
            ],
            [
             0.4,
             "#fde0ef"
            ],
            [
             0.5,
             "#f7f7f7"
            ],
            [
             0.6,
             "#e6f5d0"
            ],
            [
             0.7,
             "#b8e186"
            ],
            [
             0.8,
             "#7fbc41"
            ],
            [
             0.9,
             "#4d9221"
            ],
            [
             1,
             "#276419"
            ]
           ],
           "sequential": [
            [
             0,
             "#0d0887"
            ],
            [
             0.1111111111111111,
             "#46039f"
            ],
            [
             0.2222222222222222,
             "#7201a8"
            ],
            [
             0.3333333333333333,
             "#9c179e"
            ],
            [
             0.4444444444444444,
             "#bd3786"
            ],
            [
             0.5555555555555556,
             "#d8576b"
            ],
            [
             0.6666666666666666,
             "#ed7953"
            ],
            [
             0.7777777777777778,
             "#fb9f3a"
            ],
            [
             0.8888888888888888,
             "#fdca26"
            ],
            [
             1,
             "#f0f921"
            ]
           ],
           "sequentialminus": [
            [
             0,
             "#0d0887"
            ],
            [
             0.1111111111111111,
             "#46039f"
            ],
            [
             0.2222222222222222,
             "#7201a8"
            ],
            [
             0.3333333333333333,
             "#9c179e"
            ],
            [
             0.4444444444444444,
             "#bd3786"
            ],
            [
             0.5555555555555556,
             "#d8576b"
            ],
            [
             0.6666666666666666,
             "#ed7953"
            ],
            [
             0.7777777777777778,
             "#fb9f3a"
            ],
            [
             0.8888888888888888,
             "#fdca26"
            ],
            [
             1,
             "#f0f921"
            ]
           ]
          },
          "colorway": [
           "#636efa",
           "#EF553B",
           "#00cc96",
           "#ab63fa",
           "#FFA15A",
           "#19d3f3",
           "#FF6692",
           "#B6E880",
           "#FF97FF",
           "#FECB52"
          ],
          "font": {
           "color": "#2a3f5f"
          },
          "geo": {
           "bgcolor": "white",
           "lakecolor": "white",
           "landcolor": "#E5ECF6",
           "showlakes": true,
           "showland": true,
           "subunitcolor": "white"
          },
          "hoverlabel": {
           "align": "left"
          },
          "hovermode": "closest",
          "mapbox": {
           "style": "light"
          },
          "paper_bgcolor": "white",
          "plot_bgcolor": "#E5ECF6",
          "polar": {
           "angularaxis": {
            "gridcolor": "white",
            "linecolor": "white",
            "ticks": ""
           },
           "bgcolor": "#E5ECF6",
           "radialaxis": {
            "gridcolor": "white",
            "linecolor": "white",
            "ticks": ""
           }
          },
          "scene": {
           "xaxis": {
            "backgroundcolor": "#E5ECF6",
            "gridcolor": "white",
            "gridwidth": 2,
            "linecolor": "white",
            "showbackground": true,
            "ticks": "",
            "zerolinecolor": "white"
           },
           "yaxis": {
            "backgroundcolor": "#E5ECF6",
            "gridcolor": "white",
            "gridwidth": 2,
            "linecolor": "white",
            "showbackground": true,
            "ticks": "",
            "zerolinecolor": "white"
           },
           "zaxis": {
            "backgroundcolor": "#E5ECF6",
            "gridcolor": "white",
            "gridwidth": 2,
            "linecolor": "white",
            "showbackground": true,
            "ticks": "",
            "zerolinecolor": "white"
           }
          },
          "shapedefaults": {
           "line": {
            "color": "#2a3f5f"
           }
          },
          "ternary": {
           "aaxis": {
            "gridcolor": "white",
            "linecolor": "white",
            "ticks": ""
           },
           "baxis": {
            "gridcolor": "white",
            "linecolor": "white",
            "ticks": ""
           },
           "bgcolor": "#E5ECF6",
           "caxis": {
            "gridcolor": "white",
            "linecolor": "white",
            "ticks": ""
           }
          },
          "title": {
           "x": 0.05
          },
          "xaxis": {
           "automargin": true,
           "gridcolor": "white",
           "linecolor": "white",
           "ticks": "",
           "title": {
            "standoff": 15
           },
           "zerolinecolor": "white",
           "zerolinewidth": 2
          },
          "yaxis": {
           "automargin": true,
           "gridcolor": "white",
           "linecolor": "white",
           "ticks": "",
           "title": {
            "standoff": 15
           },
           "zerolinecolor": "white",
           "zerolinewidth": 2
          }
         }
        },
        "title": {
         "text": "Vorhergesagte E.coli Konzentration seit Beginn der Badesaison 2020"
        },
        "yaxis": {
         "title": {
          "text": "E.coli lg [MPN/100ML), showlegend = True"
         }
        }
       }
      },
      "text/html": [
       "<div>                            <div id=\"be084ed8-cd29-460c-a614-9446032617a3\" class=\"plotly-graph-div\" style=\"height:525px; width:100%;\"></div>            <script type=\"text/javascript\">                require([\"plotly\"], function(Plotly) {                    window.PLOTLYENV=window.PLOTLYENV || {};                                    if (document.getElementById(\"be084ed8-cd29-460c-a614-9446032617a3\")) {                    Plotly.newPlot(                        \"be084ed8-cd29-460c-a614-9446032617a3\",                        [{\"line\": {\"color\": \"rgba(68, 68, 68, 1)\", \"width\": 0.5}, \"mode\": \"lines\", \"name\": \"Unteres Vorhersageintervall\", \"type\": \"scatter\", \"x\": [0, 1, 2, 3, 4, 5, 6, 7, 8, 9, 10, 11, 12, 13, 14, 15, 16, 17, 18, 19, 20, 21, 22, 23, 24, 25, 26, 27, 28, 29, 30, 31, 32, 33, 34, 35, 36, 37, 38, 39, 40, 41, 42, 43, 44, 45, 46, 47, 48, 49, 50, 51, 52, 53, 54, 55, 56, 57, 58, 59, 60, 61, 62, 63, 64, 65, 66, 67, 68, 69, 70, 71, 72, 73, 74], \"y\": [2.5920075613779225, 2.2881439877169996, 2.3699143215484266, 2.886562217065384, 2.3699143215484266, 2.3995891330377823, 2.307625154159031, 2.3230872134228804, 2.29102568257464, 2.3699143215484266, 2.8652116155224974, 2.8668743418088125, 2.588559009753337, 2.319225446451016, 2.8577701099260553, 2.433809589938166, 2.306996997094485, 2.2671644909755226, 2.897032975453069, 3.215848754876392, 2.8652116155224974, 2.875980136993027, 2.287903053457658, 2.9419223065566884, 2.74486762142984, 2.855852375919201, 2.196907924372261, 2.3227705690994442, 2.321186550449567, 2.436940129177506, 2.663994858623311, 2.8658397725870435, 2.324330665153272, 2.829544660948663, 3.340003022860013, 2.3699143215484266, 2.8662461847442664, 2.334306184212277, 2.94104103735624, 2.3092499273920115, 2.667858814107337, 2.667858814107337, 2.5356319255647204, 2.29102568257464, 2.274603114739403, 2.889309091297325, 2.398163022207645, 2.8957235392682845, 2.9363798990299372, 2.440059634509617, 2.6722993985662358, 2.5361286800580256, 2.675629389960008, 2.5356319255647204, 2.3277792167778584, 2.1923081961581383, 2.624689891495553, 2.3086878799727266, 2.934185217240146, 2.3699143215484266, 2.331162069508572, 2.3115715631994957, 2.7401103926475043, 2.5356319255647204, 2.437974698399275, 2.7117741042638173, 2.664939660011294, 2.43631197211296, 2.3212380994178803, 2.4710486162122685, 2.945969129489791, 2.3214694678183196, 2.436940129177506, 2.664614819078219, 2.319225446451016]}, {\"fillcolor\": \"rgba(68, 68, 68, 0.1)\", \"line\": {\"color\": \"rgb(0, 86, 110)\", \"width\": 1}, \"marker\": {\"color\": \"rgb(0, 86, 110)\"}, \"mode\": \"lines\", \"name\": \"Vorhergesagter Mittelwert\", \"type\": \"scatter\", \"x\": [0, 1, 2, 3, 4, 5, 6, 7, 8, 9, 10, 11, 12, 13, 14, 15, 16, 17, 18, 19, 20, 21, 22, 23, 24, 25, 26, 27, 28, 29, 30, 31, 32, 33, 34, 35, 36, 37, 38, 39, 40, 41, 42, 43, 44, 45, 46, 47, 48, 49, 50, 51, 52, 53, 54, 55, 56, 57, 58, 59, 60, 61, 62, 63, 64, 65, 66, 67, 68, 69, 70, 71, 72, 73, 74], \"y\": [3.3736705459283525, 2.7947048443139173, 3.2184063058200114, 3.0416305435562276, 3.0479989015787607, 2.6716216707765352, 2.4085374003775937, 2.793299626736066, 2.664500683319416, 2.895701098859504, 3.9089286343297784, 3.1952927126420647, 3.6580581459838273, 3.730829288237071, 3.4884336078728584, 2.8452912879142502, 2.5045814126254315, 2.8450171559630033, 3.92675124455788, 3.4224029579112982, 3.1549662118821553, 3.3561752873826083, 2.7526501867260023, 3.4047338776842957, 3.322567625838307, 3.3486117231354036, 2.8032639508895136, 2.853004394024131, 2.7091601520042934, 2.7418682916568384, 3.621766362028396, 3.3904667420621664, 2.926272847770634, 3.425194711324683, 4.035944560233868, 2.7563436905350427, 3.589122868252221, 2.812173616464549, 3.492625283983194, 3.6045761932108786, 3.4377075467334803, 3.4721908288890755, 3.1442644842041876, 2.8113684518666435, 2.583005115150168, 3.7753194787343927, 2.537967251513692, 3.393896070538748, 3.3866228904430127, 2.898633593432305, 3.1944690412313377, 3.8013620247183764, 2.981764666354158, 3.0345934702662287, 2.8152368556080796, 3.092096719057819, 2.8223394406845643, 2.820608175275278, 3.4228762511070316, 2.8032735250378416, 2.7918843900319414, 3.319338115566447, 4.049856610561617, 3.44972241941559, 2.68123292630024, 3.9017804369761926, 3.3118742328212543, 3.1165715061153723, 2.5739377388878357, 2.6915612058851024, 3.460880689297054, 2.945453357137767, 2.8456252535904922, 3.2990921773404795, 3.4105073929644285]}, {\"fillcolor\": \"rgba(68, 68, 68, 1)\", \"line\": {\"color\": \"rgba(68, 68, 68, 1)\", \"width\": 0.5}, \"mode\": \"lines\", \"name\": \"Oberes Vorhersageintervall\", \"type\": \"scatter\", \"x\": [0, 1, 2, 3, 4, 5, 6, 7, 8, 9, 10, 11, 12, 13, 14, 15, 16, 17, 18, 19, 20, 21, 22, 23, 24, 25, 26, 27, 28, 29, 30, 31, 32, 33, 34, 35, 36, 37, 38, 39, 40, 41, 42, 43, 44, 45, 46, 47, 48, 49, 50, 51, 52, 53, 54, 55, 56, 57, 58, 59, 60, 61, 62, 63, 64, 65, 66, 67, 68, 69, 70, 71, 72, 73, 74], \"y\": [3.7928284373306194, 3.1939619538530675, 4.495222135926806, 3.4860599693971097, 4.097645950234767, 3.1939619538530675, 3.7941338944890046, 3.4186829667706524, 3.4186829667706524, 4.097645950234767, 4.390193993240007, 4.020034316622677, 3.746736354356023, 3.9540527555482385, 3.6588816313241455, 3.4186829667706524, 3.827495014995909, 3.6116804420629887, 4.079496843312848, 4.02594777013505, 3.662988853589909, 3.653098592664277, 4.097645950234767, 3.8331642964548105, 3.7949141572128746, 3.524110163302154, 3.4186829667706524, 3.602443517608637, 3.602443517608637, 4.097645950234767, 3.852596546863293, 3.6572048994324944, 3.7791130158772392, 3.8132211989078795, 4.028751415871181, 4.097645950234767, 3.662988853589909, 3.7941338944890046, 3.9745749477724908, 4.135917639938699, 4.116794153614005, 4.489459682420843, 4.116226121330307, 3.4186829667706524, 3.602443517608637, 4.3611521034009, 3.7941338944890046, 3.931903685727558, 4.152310924568903, 3.4186829667706524, 3.908417123037424, 3.989986057606373, 3.278812855868992, 4.097645950234767, 3.7791130158772392, 3.486755352094403, 3.3052362928199686, 3.491068427115171, 3.812116906945176, 4.097645950234767, 3.6116804420629887, 3.5716281705868163, 4.543302708613101, 4.495222135926806, 3.90628605782408, 4.170778308989263, 3.672445267418009, 4.116226121330307, 3.1939619538530675, 3.7686235403964776, 3.8612223532576704, 3.4186829667706524, 4.097645950234767, 3.9972539636488533, 3.5108327775801054]}, {\"fillcolor\": \"rgba(68, 68, 68, 0.1)\", \"line\": {\"color\": \"red\", \"width\": 1}, \"marker\": {\"color\": \"red\"}, \"mode\": \"markers\", \"name\": \"Vorhergesagter Mittelwert\", \"type\": \"scatter\", \"x\": [0, 1, 2, 3, 4, 5, 6, 7, 8, 9, 10, 11, 12, 13, 14, 15, 16, 17, 18, 19, 20, 21, 22, 23, 24, 25, 26, 27, 28, 29, 30, 31, 32, 33, 34, 35, 36, 37, 38, 39, 40, 41, 42, 43, 44, 45, 46, 47, 48, 49, 50, 51, 52, 53, 54, 55, 56, 57, 58, 59, 60, 61, 62, 63, 64, 65, 66, 67, 68, 69, 70, 71, 72, 73, 74], \"y\": [2.574031267727719, 2.6857417386022635, 3.025715383901341, 3.0538464268522527, 3.037027879755775, 3.119585774961784, 2.637489729512511, 2.94546858513182, 3.885530833188092, 2.5477747053878224, 2.3654879848909, 4.544068044350276, 2.4899584794248346, 3.4459154139511234, 4.374216605428374, 3.1743505974793798, 2.041392685158225, 2.6599162000698504, 3.3925210899319325, 4.544068044350276, 3.4214393902200495, 3.1950689964685903, 2.403120521175818, 3.1228709228644354, 3.244524511570084, 4.14188854970586, 2.53655844257153, 2.6857417386022635, 2.5477747053878224, 2.940516484932567, 2.9858753573083936, 3.380934463330702, 2.5943925503754266, 3.2643455070500926, 4.028855809390444, 2.8432327780980096, 3.024074987307426, 2.870403905279027, 3.7480328941301435, 3.7480328941301435, 2.2068258760318495, 3.1826999033360424, 2.4899584794248346, 2.94546858513182, 2.5440680443502757, 4.4428872189023485, 2.247973266361807, 4.544068044350276, 2.9469432706978256, 3.2038484637462346, 2.6180480967120925, 2.9628426812012423, 3.0773679052841563, 2.9508514588885464, 2.3961993470957363, 3.2038484637462346, 3.7023443583557687, 2.6148972160331345, 2.7589118923979736, 3.083860800866573, 2.3324384599156054, 2.893206753059848, 4.544068044350276, 4.544068044350276, 2.6414741105040997, 4.544068044350276, 3.584670384464349, 2.938519725176492, 3.520483532740792, 2.7972675408307164, 3.4216039268698313, 2.7589118923979736, 2.2528530309798933, 3.330413773349191, 3.274619619091238]}],                        {\"legend\": {\"title\": {}, \"x\": 0.01, \"xanchor\": \"left\", \"y\": 0.99, \"yanchor\": \"top\"}, \"template\": {\"data\": {\"bar\": [{\"error_x\": {\"color\": \"#2a3f5f\"}, \"error_y\": {\"color\": \"#2a3f5f\"}, \"marker\": {\"line\": {\"color\": \"#E5ECF6\", \"width\": 0.5}}, \"type\": \"bar\"}], \"barpolar\": [{\"marker\": {\"line\": {\"color\": \"#E5ECF6\", \"width\": 0.5}}, \"type\": \"barpolar\"}], \"carpet\": [{\"aaxis\": {\"endlinecolor\": \"#2a3f5f\", \"gridcolor\": \"white\", \"linecolor\": \"white\", \"minorgridcolor\": \"white\", \"startlinecolor\": \"#2a3f5f\"}, \"baxis\": {\"endlinecolor\": \"#2a3f5f\", \"gridcolor\": \"white\", \"linecolor\": \"white\", \"minorgridcolor\": \"white\", \"startlinecolor\": \"#2a3f5f\"}, \"type\": \"carpet\"}], \"choropleth\": [{\"colorbar\": {\"outlinewidth\": 0, \"ticks\": \"\"}, \"type\": \"choropleth\"}], \"contour\": [{\"colorbar\": {\"outlinewidth\": 0, \"ticks\": \"\"}, \"colorscale\": [[0.0, \"#0d0887\"], [0.1111111111111111, \"#46039f\"], [0.2222222222222222, \"#7201a8\"], [0.3333333333333333, \"#9c179e\"], [0.4444444444444444, \"#bd3786\"], [0.5555555555555556, \"#d8576b\"], [0.6666666666666666, \"#ed7953\"], [0.7777777777777778, \"#fb9f3a\"], [0.8888888888888888, \"#fdca26\"], [1.0, \"#f0f921\"]], \"type\": \"contour\"}], \"contourcarpet\": [{\"colorbar\": {\"outlinewidth\": 0, \"ticks\": \"\"}, \"type\": \"contourcarpet\"}], \"heatmap\": [{\"colorbar\": {\"outlinewidth\": 0, \"ticks\": \"\"}, \"colorscale\": [[0.0, \"#0d0887\"], [0.1111111111111111, \"#46039f\"], [0.2222222222222222, \"#7201a8\"], [0.3333333333333333, \"#9c179e\"], [0.4444444444444444, \"#bd3786\"], [0.5555555555555556, \"#d8576b\"], [0.6666666666666666, \"#ed7953\"], [0.7777777777777778, \"#fb9f3a\"], [0.8888888888888888, \"#fdca26\"], [1.0, \"#f0f921\"]], \"type\": \"heatmap\"}], \"heatmapgl\": [{\"colorbar\": {\"outlinewidth\": 0, \"ticks\": \"\"}, \"colorscale\": [[0.0, \"#0d0887\"], [0.1111111111111111, \"#46039f\"], [0.2222222222222222, \"#7201a8\"], [0.3333333333333333, \"#9c179e\"], [0.4444444444444444, \"#bd3786\"], [0.5555555555555556, \"#d8576b\"], [0.6666666666666666, \"#ed7953\"], [0.7777777777777778, \"#fb9f3a\"], [0.8888888888888888, \"#fdca26\"], [1.0, \"#f0f921\"]], \"type\": \"heatmapgl\"}], \"histogram\": [{\"marker\": {\"colorbar\": {\"outlinewidth\": 0, \"ticks\": \"\"}}, \"type\": \"histogram\"}], \"histogram2d\": [{\"colorbar\": {\"outlinewidth\": 0, \"ticks\": \"\"}, \"colorscale\": [[0.0, \"#0d0887\"], [0.1111111111111111, \"#46039f\"], [0.2222222222222222, \"#7201a8\"], [0.3333333333333333, \"#9c179e\"], [0.4444444444444444, \"#bd3786\"], [0.5555555555555556, \"#d8576b\"], [0.6666666666666666, \"#ed7953\"], [0.7777777777777778, \"#fb9f3a\"], [0.8888888888888888, \"#fdca26\"], [1.0, \"#f0f921\"]], \"type\": \"histogram2d\"}], \"histogram2dcontour\": [{\"colorbar\": {\"outlinewidth\": 0, \"ticks\": \"\"}, \"colorscale\": [[0.0, \"#0d0887\"], [0.1111111111111111, \"#46039f\"], [0.2222222222222222, \"#7201a8\"], [0.3333333333333333, \"#9c179e\"], [0.4444444444444444, \"#bd3786\"], [0.5555555555555556, \"#d8576b\"], [0.6666666666666666, \"#ed7953\"], [0.7777777777777778, \"#fb9f3a\"], [0.8888888888888888, \"#fdca26\"], [1.0, \"#f0f921\"]], \"type\": \"histogram2dcontour\"}], \"mesh3d\": [{\"colorbar\": {\"outlinewidth\": 0, \"ticks\": \"\"}, \"type\": \"mesh3d\"}], \"parcoords\": [{\"line\": {\"colorbar\": {\"outlinewidth\": 0, \"ticks\": \"\"}}, \"type\": \"parcoords\"}], \"pie\": [{\"automargin\": true, \"type\": \"pie\"}], \"scatter\": [{\"marker\": {\"colorbar\": {\"outlinewidth\": 0, \"ticks\": \"\"}}, \"type\": \"scatter\"}], \"scatter3d\": [{\"line\": {\"colorbar\": {\"outlinewidth\": 0, \"ticks\": \"\"}}, \"marker\": {\"colorbar\": {\"outlinewidth\": 0, \"ticks\": \"\"}}, \"type\": \"scatter3d\"}], \"scattercarpet\": [{\"marker\": {\"colorbar\": {\"outlinewidth\": 0, \"ticks\": \"\"}}, \"type\": \"scattercarpet\"}], \"scattergeo\": [{\"marker\": {\"colorbar\": {\"outlinewidth\": 0, \"ticks\": \"\"}}, \"type\": \"scattergeo\"}], \"scattergl\": [{\"marker\": {\"colorbar\": {\"outlinewidth\": 0, \"ticks\": \"\"}}, \"type\": \"scattergl\"}], \"scattermapbox\": [{\"marker\": {\"colorbar\": {\"outlinewidth\": 0, \"ticks\": \"\"}}, \"type\": \"scattermapbox\"}], \"scatterpolar\": [{\"marker\": {\"colorbar\": {\"outlinewidth\": 0, \"ticks\": \"\"}}, \"type\": \"scatterpolar\"}], \"scatterpolargl\": [{\"marker\": {\"colorbar\": {\"outlinewidth\": 0, \"ticks\": \"\"}}, \"type\": \"scatterpolargl\"}], \"scatterternary\": [{\"marker\": {\"colorbar\": {\"outlinewidth\": 0, \"ticks\": \"\"}}, \"type\": \"scatterternary\"}], \"surface\": [{\"colorbar\": {\"outlinewidth\": 0, \"ticks\": \"\"}, \"colorscale\": [[0.0, \"#0d0887\"], [0.1111111111111111, \"#46039f\"], [0.2222222222222222, \"#7201a8\"], [0.3333333333333333, \"#9c179e\"], [0.4444444444444444, \"#bd3786\"], [0.5555555555555556, \"#d8576b\"], [0.6666666666666666, \"#ed7953\"], [0.7777777777777778, \"#fb9f3a\"], [0.8888888888888888, \"#fdca26\"], [1.0, \"#f0f921\"]], \"type\": \"surface\"}], \"table\": [{\"cells\": {\"fill\": {\"color\": \"#EBF0F8\"}, \"line\": {\"color\": \"white\"}}, \"header\": {\"fill\": {\"color\": \"#C8D4E3\"}, \"line\": {\"color\": \"white\"}}, \"type\": \"table\"}]}, \"layout\": {\"annotationdefaults\": {\"arrowcolor\": \"#2a3f5f\", \"arrowhead\": 0, \"arrowwidth\": 1}, \"autotypenumbers\": \"strict\", \"coloraxis\": {\"colorbar\": {\"outlinewidth\": 0, \"ticks\": \"\"}}, \"colorscale\": {\"diverging\": [[0, \"#8e0152\"], [0.1, \"#c51b7d\"], [0.2, \"#de77ae\"], [0.3, \"#f1b6da\"], [0.4, \"#fde0ef\"], [0.5, \"#f7f7f7\"], [0.6, \"#e6f5d0\"], [0.7, \"#b8e186\"], [0.8, \"#7fbc41\"], [0.9, \"#4d9221\"], [1, \"#276419\"]], \"sequential\": [[0.0, \"#0d0887\"], [0.1111111111111111, \"#46039f\"], [0.2222222222222222, \"#7201a8\"], [0.3333333333333333, \"#9c179e\"], [0.4444444444444444, \"#bd3786\"], [0.5555555555555556, \"#d8576b\"], [0.6666666666666666, \"#ed7953\"], [0.7777777777777778, \"#fb9f3a\"], [0.8888888888888888, \"#fdca26\"], [1.0, \"#f0f921\"]], \"sequentialminus\": [[0.0, \"#0d0887\"], [0.1111111111111111, \"#46039f\"], [0.2222222222222222, \"#7201a8\"], [0.3333333333333333, \"#9c179e\"], [0.4444444444444444, \"#bd3786\"], [0.5555555555555556, \"#d8576b\"], [0.6666666666666666, \"#ed7953\"], [0.7777777777777778, \"#fb9f3a\"], [0.8888888888888888, \"#fdca26\"], [1.0, \"#f0f921\"]]}, \"colorway\": [\"#636efa\", \"#EF553B\", \"#00cc96\", \"#ab63fa\", \"#FFA15A\", \"#19d3f3\", \"#FF6692\", \"#B6E880\", \"#FF97FF\", \"#FECB52\"], \"font\": {\"color\": \"#2a3f5f\"}, \"geo\": {\"bgcolor\": \"white\", \"lakecolor\": \"white\", \"landcolor\": \"#E5ECF6\", \"showlakes\": true, \"showland\": true, \"subunitcolor\": \"white\"}, \"hoverlabel\": {\"align\": \"left\"}, \"hovermode\": \"closest\", \"mapbox\": {\"style\": \"light\"}, \"paper_bgcolor\": \"white\", \"plot_bgcolor\": \"#E5ECF6\", \"polar\": {\"angularaxis\": {\"gridcolor\": \"white\", \"linecolor\": \"white\", \"ticks\": \"\"}, \"bgcolor\": \"#E5ECF6\", \"radialaxis\": {\"gridcolor\": \"white\", \"linecolor\": \"white\", \"ticks\": \"\"}}, \"scene\": {\"xaxis\": {\"backgroundcolor\": \"#E5ECF6\", \"gridcolor\": \"white\", \"gridwidth\": 2, \"linecolor\": \"white\", \"showbackground\": true, \"ticks\": \"\", \"zerolinecolor\": \"white\"}, \"yaxis\": {\"backgroundcolor\": \"#E5ECF6\", \"gridcolor\": \"white\", \"gridwidth\": 2, \"linecolor\": \"white\", \"showbackground\": true, \"ticks\": \"\", \"zerolinecolor\": \"white\"}, \"zaxis\": {\"backgroundcolor\": \"#E5ECF6\", \"gridcolor\": \"white\", \"gridwidth\": 2, \"linecolor\": \"white\", \"showbackground\": true, \"ticks\": \"\", \"zerolinecolor\": \"white\"}}, \"shapedefaults\": {\"line\": {\"color\": \"#2a3f5f\"}}, \"ternary\": {\"aaxis\": {\"gridcolor\": \"white\", \"linecolor\": \"white\", \"ticks\": \"\"}, \"baxis\": {\"gridcolor\": \"white\", \"linecolor\": \"white\", \"ticks\": \"\"}, \"bgcolor\": \"#E5ECF6\", \"caxis\": {\"gridcolor\": \"white\", \"linecolor\": \"white\", \"ticks\": \"\"}}, \"title\": {\"x\": 0.05}, \"xaxis\": {\"automargin\": true, \"gridcolor\": \"white\", \"linecolor\": \"white\", \"ticks\": \"\", \"title\": {\"standoff\": 15}, \"zerolinecolor\": \"white\", \"zerolinewidth\": 2}, \"yaxis\": {\"automargin\": true, \"gridcolor\": \"white\", \"linecolor\": \"white\", \"ticks\": \"\", \"title\": {\"standoff\": 15}, \"zerolinecolor\": \"white\", \"zerolinewidth\": 2}}}, \"title\": {\"text\": \"Vorhergesagte E.coli Konzentration seit Beginn der Badesaison 2020\"}, \"yaxis\": {\"title\": {\"text\": \"E.coli lg [MPN/100ML), showlegend = True\"}}},                        {\"responsive\": true}                    ).then(function(){\n",
       "                            \n",
       "var gd = document.getElementById('be084ed8-cd29-460c-a614-9446032617a3');\n",
       "var x = new MutationObserver(function (mutations, observer) {{\n",
       "        var display = window.getComputedStyle(gd).display;\n",
       "        if (!display || display === 'none') {{\n",
       "            console.log([gd, 'removed!']);\n",
       "            Plotly.purge(gd);\n",
       "            observer.disconnect();\n",
       "        }}\n",
       "}});\n",
       "\n",
       "// Listen for the removal of the full notebook cells\n",
       "var notebookContainer = gd.closest('#notebook-container');\n",
       "if (notebookContainer) {{\n",
       "    x.observe(notebookContainer, {childList: true});\n",
       "}}\n",
       "\n",
       "// Listen for the clearing of the current output cell\n",
       "var outputEl = gd.closest('.output');\n",
       "if (outputEl) {{\n",
       "    x.observe(outputEl, {childList: true});\n",
       "}}\n",
       "\n",
       "                        })                };                });            </script>        </div>"
      ]
     },
     "metadata": {},
     "output_type": "display_data"
    }
   ],
   "source": [
    "import plotly.graph_objects as go\n",
    "\n",
    "upper_bound = go.Scatter(name=\"Oberes Vorhersageintervall\",\n",
    "x= predictions[\"Nummer\"],\n",
    "y=predictions[\"upper\"],\n",
    "mode=\"lines\",\n",
    "line=dict(width=0.5, color=\"rgba(68, 68, 68, 1)\"),\n",
    "fillcolor=\"rgba(68, 68, 68, 1)\")#, fill=\"tonexty\")\n",
    "\n",
    "mean = go.Scatter(name=\"Vorhergesagter Mittelwert\",\n",
    "x= predictions[\"Nummer\"],\n",
    "y=predictions[\"mid\"],\n",
    "marker = dict(color = \"rgb(0, 86, 110)\"),\n",
    "mode=\"lines\",\n",
    "line=dict(width=1, color= \"rgb(0, 86, 110)\"),\n",
    "fillcolor=\"rgba(68, 68, 68, 0.1)\")#, fill=\"tonexty\")\n",
    "\n",
    "measurements = go.Scatter(name=\"Vorhergesagter Mittelwert\",\n",
    "x= predictions[\"Nummer\"],\n",
    "y=predictions[\"value\"],\n",
    "marker = dict(color = \"red\"),\n",
    "mode=\"markers\",\n",
    "line=dict(width=1, color= \"red\"),\n",
    "fillcolor=\"rgba(68, 68, 68, 0.1)\")#, fill=\"tonexty\")\n",
    "\n",
    "\n",
    "\n",
    "lower_bound = go.Scatter(name=\"Unteres Vorhersageintervall\",\n",
    "x= predictions[\"Nummer\"],\n",
    "y=predictions[\"lower\"],\n",
    "mode=\"lines\",\n",
    "line=dict(width=0.5, color=\"rgba(68, 68, 68, 1)\"))\n",
    "\n",
    "data = [lower_bound, mean, upper_bound, measurements]\n",
    "\n",
    "layout=go.Layout(title='Vorhergesagte E.coli Konzentration seit Beginn der Badesaison 2020',\n",
    "yaxis=dict(title=\"E.coli lg [MPN/100ML), showlegend = True\"))\n",
    "\n",
    "fig=go.Figure(data=data, layout = layout)\n",
    "fig.update_layout(legend=dict(\n",
    "    yanchor=\"top\",\n",
    "    title=None,\n",
    "    y=0.99,\n",
    "    xanchor=\"left\",\n",
    "    x=0.01\n",
    "))\n",
    "\n",
    "fig.show()\n",
    "    "
   ]
  },
  {
   "cell_type": "code",
   "execution_count": 618,
   "id": "mature-zealand",
   "metadata": {},
   "outputs": [
    {
     "data": {
      "application/vnd.plotly.v1+json": {
       "config": {
        "plotlyServerURL": "https://plot.ly"
       },
       "data": [
        {
         "hovertemplate": "value=%{x}<br>mid=%{y}<extra></extra>",
         "legendgroup": "",
         "marker": {
          "color": "#212c52",
          "size": 10,
          "symbol": "circle"
         },
         "mode": "markers",
         "name": "",
         "orientation": "v",
         "showlegend": false,
         "type": "scatter",
         "x": [
          2.574031267727719,
          2.6857417386022635,
          3.025715383901341,
          3.0538464268522527,
          3.037027879755775,
          3.119585774961784,
          2.637489729512511,
          2.94546858513182,
          3.885530833188092,
          2.5477747053878224,
          2.3654879848909,
          4.544068044350276,
          2.4899584794248346,
          3.4459154139511234,
          4.374216605428374,
          3.1743505974793798,
          2.041392685158225,
          2.6599162000698504,
          3.3925210899319325,
          4.544068044350276,
          3.4214393902200495,
          3.1950689964685903,
          2.403120521175818,
          3.1228709228644354,
          3.244524511570084,
          4.14188854970586,
          2.53655844257153,
          2.6857417386022635,
          2.5477747053878224,
          2.940516484932567,
          2.9858753573083936,
          3.380934463330702,
          2.5943925503754266,
          3.2643455070500926,
          4.028855809390444,
          2.8432327780980096,
          3.024074987307426,
          2.870403905279027,
          3.7480328941301435,
          3.7480328941301435,
          2.2068258760318495,
          3.1826999033360424,
          2.4899584794248346,
          2.94546858513182,
          2.5440680443502757,
          4.4428872189023485,
          2.247973266361807,
          4.544068044350276,
          2.9469432706978256,
          3.2038484637462346,
          2.6180480967120925,
          2.9628426812012423,
          3.0773679052841563,
          2.9508514588885464,
          2.3961993470957363,
          3.2038484637462346,
          3.7023443583557687,
          2.6148972160331345,
          2.7589118923979736,
          3.083860800866573,
          2.3324384599156054,
          2.893206753059848,
          4.544068044350276,
          4.544068044350276,
          2.6414741105040997,
          4.544068044350276,
          3.584670384464349,
          2.938519725176492,
          3.520483532740792,
          2.7972675408307164,
          3.4216039268698313,
          2.7589118923979736,
          2.2528530309798933,
          3.330413773349191,
          3.274619619091238
         ],
         "xaxis": "x",
         "y": [
          3.3736705459283525,
          2.7947048443139173,
          3.2184063058200114,
          3.0416305435562276,
          3.0479989015787607,
          2.6716216707765352,
          2.4085374003775937,
          2.793299626736066,
          2.664500683319416,
          2.895701098859504,
          3.9089286343297784,
          3.1952927126420647,
          3.6580581459838273,
          3.730829288237071,
          3.4884336078728584,
          2.8452912879142502,
          2.5045814126254315,
          2.8450171559630033,
          3.92675124455788,
          3.4224029579112982,
          3.1549662118821553,
          3.3561752873826083,
          2.7526501867260023,
          3.4047338776842957,
          3.322567625838307,
          3.3486117231354036,
          2.8032639508895136,
          2.853004394024131,
          2.7091601520042934,
          2.7418682916568384,
          3.621766362028396,
          3.3904667420621664,
          2.926272847770634,
          3.425194711324683,
          4.035944560233868,
          2.7563436905350427,
          3.589122868252221,
          2.812173616464549,
          3.492625283983194,
          3.6045761932108786,
          3.4377075467334803,
          3.4721908288890755,
          3.1442644842041876,
          2.8113684518666435,
          2.583005115150168,
          3.7753194787343927,
          2.537967251513692,
          3.393896070538748,
          3.3866228904430127,
          2.898633593432305,
          3.1944690412313377,
          3.8013620247183764,
          2.981764666354158,
          3.0345934702662287,
          2.8152368556080796,
          3.092096719057819,
          2.8223394406845643,
          2.820608175275278,
          3.4228762511070316,
          2.8032735250378416,
          2.7918843900319414,
          3.319338115566447,
          4.049856610561617,
          3.44972241941559,
          2.68123292630024,
          3.9017804369761926,
          3.3118742328212543,
          3.1165715061153723,
          2.5739377388878357,
          2.6915612058851024,
          3.460880689297054,
          2.945453357137767,
          2.8456252535904922,
          3.2990921773404795,
          3.4105073929644285
         ],
         "yaxis": "y"
        },
        {
         "hovertemplate": "<extra></extra>",
         "legendgroup": "",
         "marker": {
          "color": "#212c52",
          "size": 10,
          "symbol": "circle"
         },
         "mode": "lines",
         "name": "",
         "showlegend": false,
         "type": "scatter",
         "xaxis": "x",
         "yaxis": "y"
        }
       ],
       "layout": {
        "font": {
         "color": "black",
         "family": "Helvetica Neue, Helvetica, Arial, sans-serif"
        },
        "legend": {
         "title": {},
         "tracegroupgap": 0,
         "x": 0.01,
         "xanchor": "left",
         "y": 0.99,
         "yanchor": "top"
        },
        "margin": {
         "t": 60
        },
        "template": {
         "data": {
          "bar": [
           {
            "error_x": {
             "color": "#2a3f5f"
            },
            "error_y": {
             "color": "#2a3f5f"
            },
            "marker": {
             "line": {
              "color": "#E5ECF6",
              "width": 0.5
             }
            },
            "type": "bar"
           }
          ],
          "barpolar": [
           {
            "marker": {
             "line": {
              "color": "#E5ECF6",
              "width": 0.5
             }
            },
            "type": "barpolar"
           }
          ],
          "carpet": [
           {
            "aaxis": {
             "endlinecolor": "#2a3f5f",
             "gridcolor": "white",
             "linecolor": "white",
             "minorgridcolor": "white",
             "startlinecolor": "#2a3f5f"
            },
            "baxis": {
             "endlinecolor": "#2a3f5f",
             "gridcolor": "white",
             "linecolor": "white",
             "minorgridcolor": "white",
             "startlinecolor": "#2a3f5f"
            },
            "type": "carpet"
           }
          ],
          "choropleth": [
           {
            "colorbar": {
             "outlinewidth": 0,
             "ticks": ""
            },
            "type": "choropleth"
           }
          ],
          "contour": [
           {
            "colorbar": {
             "outlinewidth": 0,
             "ticks": ""
            },
            "colorscale": [
             [
              0,
              "#0d0887"
             ],
             [
              0.1111111111111111,
              "#46039f"
             ],
             [
              0.2222222222222222,
              "#7201a8"
             ],
             [
              0.3333333333333333,
              "#9c179e"
             ],
             [
              0.4444444444444444,
              "#bd3786"
             ],
             [
              0.5555555555555556,
              "#d8576b"
             ],
             [
              0.6666666666666666,
              "#ed7953"
             ],
             [
              0.7777777777777778,
              "#fb9f3a"
             ],
             [
              0.8888888888888888,
              "#fdca26"
             ],
             [
              1,
              "#f0f921"
             ]
            ],
            "type": "contour"
           }
          ],
          "contourcarpet": [
           {
            "colorbar": {
             "outlinewidth": 0,
             "ticks": ""
            },
            "type": "contourcarpet"
           }
          ],
          "heatmap": [
           {
            "colorbar": {
             "outlinewidth": 0,
             "ticks": ""
            },
            "colorscale": [
             [
              0,
              "#0d0887"
             ],
             [
              0.1111111111111111,
              "#46039f"
             ],
             [
              0.2222222222222222,
              "#7201a8"
             ],
             [
              0.3333333333333333,
              "#9c179e"
             ],
             [
              0.4444444444444444,
              "#bd3786"
             ],
             [
              0.5555555555555556,
              "#d8576b"
             ],
             [
              0.6666666666666666,
              "#ed7953"
             ],
             [
              0.7777777777777778,
              "#fb9f3a"
             ],
             [
              0.8888888888888888,
              "#fdca26"
             ],
             [
              1,
              "#f0f921"
             ]
            ],
            "type": "heatmap"
           }
          ],
          "heatmapgl": [
           {
            "colorbar": {
             "outlinewidth": 0,
             "ticks": ""
            },
            "colorscale": [
             [
              0,
              "#0d0887"
             ],
             [
              0.1111111111111111,
              "#46039f"
             ],
             [
              0.2222222222222222,
              "#7201a8"
             ],
             [
              0.3333333333333333,
              "#9c179e"
             ],
             [
              0.4444444444444444,
              "#bd3786"
             ],
             [
              0.5555555555555556,
              "#d8576b"
             ],
             [
              0.6666666666666666,
              "#ed7953"
             ],
             [
              0.7777777777777778,
              "#fb9f3a"
             ],
             [
              0.8888888888888888,
              "#fdca26"
             ],
             [
              1,
              "#f0f921"
             ]
            ],
            "type": "heatmapgl"
           }
          ],
          "histogram": [
           {
            "marker": {
             "colorbar": {
              "outlinewidth": 0,
              "ticks": ""
             }
            },
            "type": "histogram"
           }
          ],
          "histogram2d": [
           {
            "colorbar": {
             "outlinewidth": 0,
             "ticks": ""
            },
            "colorscale": [
             [
              0,
              "#0d0887"
             ],
             [
              0.1111111111111111,
              "#46039f"
             ],
             [
              0.2222222222222222,
              "#7201a8"
             ],
             [
              0.3333333333333333,
              "#9c179e"
             ],
             [
              0.4444444444444444,
              "#bd3786"
             ],
             [
              0.5555555555555556,
              "#d8576b"
             ],
             [
              0.6666666666666666,
              "#ed7953"
             ],
             [
              0.7777777777777778,
              "#fb9f3a"
             ],
             [
              0.8888888888888888,
              "#fdca26"
             ],
             [
              1,
              "#f0f921"
             ]
            ],
            "type": "histogram2d"
           }
          ],
          "histogram2dcontour": [
           {
            "colorbar": {
             "outlinewidth": 0,
             "ticks": ""
            },
            "colorscale": [
             [
              0,
              "#0d0887"
             ],
             [
              0.1111111111111111,
              "#46039f"
             ],
             [
              0.2222222222222222,
              "#7201a8"
             ],
             [
              0.3333333333333333,
              "#9c179e"
             ],
             [
              0.4444444444444444,
              "#bd3786"
             ],
             [
              0.5555555555555556,
              "#d8576b"
             ],
             [
              0.6666666666666666,
              "#ed7953"
             ],
             [
              0.7777777777777778,
              "#fb9f3a"
             ],
             [
              0.8888888888888888,
              "#fdca26"
             ],
             [
              1,
              "#f0f921"
             ]
            ],
            "type": "histogram2dcontour"
           }
          ],
          "mesh3d": [
           {
            "colorbar": {
             "outlinewidth": 0,
             "ticks": ""
            },
            "type": "mesh3d"
           }
          ],
          "parcoords": [
           {
            "line": {
             "colorbar": {
              "outlinewidth": 0,
              "ticks": ""
             }
            },
            "type": "parcoords"
           }
          ],
          "pie": [
           {
            "automargin": true,
            "type": "pie"
           }
          ],
          "scatter": [
           {
            "marker": {
             "colorbar": {
              "outlinewidth": 0,
              "ticks": ""
             }
            },
            "type": "scatter"
           }
          ],
          "scatter3d": [
           {
            "line": {
             "colorbar": {
              "outlinewidth": 0,
              "ticks": ""
             }
            },
            "marker": {
             "colorbar": {
              "outlinewidth": 0,
              "ticks": ""
             }
            },
            "type": "scatter3d"
           }
          ],
          "scattercarpet": [
           {
            "marker": {
             "colorbar": {
              "outlinewidth": 0,
              "ticks": ""
             }
            },
            "type": "scattercarpet"
           }
          ],
          "scattergeo": [
           {
            "marker": {
             "colorbar": {
              "outlinewidth": 0,
              "ticks": ""
             }
            },
            "type": "scattergeo"
           }
          ],
          "scattergl": [
           {
            "marker": {
             "colorbar": {
              "outlinewidth": 0,
              "ticks": ""
             }
            },
            "type": "scattergl"
           }
          ],
          "scattermapbox": [
           {
            "marker": {
             "colorbar": {
              "outlinewidth": 0,
              "ticks": ""
             }
            },
            "type": "scattermapbox"
           }
          ],
          "scatterpolar": [
           {
            "marker": {
             "colorbar": {
              "outlinewidth": 0,
              "ticks": ""
             }
            },
            "type": "scatterpolar"
           }
          ],
          "scatterpolargl": [
           {
            "marker": {
             "colorbar": {
              "outlinewidth": 0,
              "ticks": ""
             }
            },
            "type": "scatterpolargl"
           }
          ],
          "scatterternary": [
           {
            "marker": {
             "colorbar": {
              "outlinewidth": 0,
              "ticks": ""
             }
            },
            "type": "scatterternary"
           }
          ],
          "surface": [
           {
            "colorbar": {
             "outlinewidth": 0,
             "ticks": ""
            },
            "colorscale": [
             [
              0,
              "#0d0887"
             ],
             [
              0.1111111111111111,
              "#46039f"
             ],
             [
              0.2222222222222222,
              "#7201a8"
             ],
             [
              0.3333333333333333,
              "#9c179e"
             ],
             [
              0.4444444444444444,
              "#bd3786"
             ],
             [
              0.5555555555555556,
              "#d8576b"
             ],
             [
              0.6666666666666666,
              "#ed7953"
             ],
             [
              0.7777777777777778,
              "#fb9f3a"
             ],
             [
              0.8888888888888888,
              "#fdca26"
             ],
             [
              1,
              "#f0f921"
             ]
            ],
            "type": "surface"
           }
          ],
          "table": [
           {
            "cells": {
             "fill": {
              "color": "#EBF0F8"
             },
             "line": {
              "color": "white"
             }
            },
            "header": {
             "fill": {
              "color": "#C8D4E3"
             },
             "line": {
              "color": "white"
             }
            },
            "type": "table"
           }
          ]
         },
         "layout": {
          "annotationdefaults": {
           "arrowcolor": "#2a3f5f",
           "arrowhead": 0,
           "arrowwidth": 1
          },
          "autotypenumbers": "strict",
          "coloraxis": {
           "colorbar": {
            "outlinewidth": 0,
            "ticks": ""
           }
          },
          "colorscale": {
           "diverging": [
            [
             0,
             "#8e0152"
            ],
            [
             0.1,
             "#c51b7d"
            ],
            [
             0.2,
             "#de77ae"
            ],
            [
             0.3,
             "#f1b6da"
            ],
            [
             0.4,
             "#fde0ef"
            ],
            [
             0.5,
             "#f7f7f7"
            ],
            [
             0.6,
             "#e6f5d0"
            ],
            [
             0.7,
             "#b8e186"
            ],
            [
             0.8,
             "#7fbc41"
            ],
            [
             0.9,
             "#4d9221"
            ],
            [
             1,
             "#276419"
            ]
           ],
           "sequential": [
            [
             0,
             "#0d0887"
            ],
            [
             0.1111111111111111,
             "#46039f"
            ],
            [
             0.2222222222222222,
             "#7201a8"
            ],
            [
             0.3333333333333333,
             "#9c179e"
            ],
            [
             0.4444444444444444,
             "#bd3786"
            ],
            [
             0.5555555555555556,
             "#d8576b"
            ],
            [
             0.6666666666666666,
             "#ed7953"
            ],
            [
             0.7777777777777778,
             "#fb9f3a"
            ],
            [
             0.8888888888888888,
             "#fdca26"
            ],
            [
             1,
             "#f0f921"
            ]
           ],
           "sequentialminus": [
            [
             0,
             "#0d0887"
            ],
            [
             0.1111111111111111,
             "#46039f"
            ],
            [
             0.2222222222222222,
             "#7201a8"
            ],
            [
             0.3333333333333333,
             "#9c179e"
            ],
            [
             0.4444444444444444,
             "#bd3786"
            ],
            [
             0.5555555555555556,
             "#d8576b"
            ],
            [
             0.6666666666666666,
             "#ed7953"
            ],
            [
             0.7777777777777778,
             "#fb9f3a"
            ],
            [
             0.8888888888888888,
             "#fdca26"
            ],
            [
             1,
             "#f0f921"
            ]
           ]
          },
          "colorway": [
           "#636efa",
           "#EF553B",
           "#00cc96",
           "#ab63fa",
           "#FFA15A",
           "#19d3f3",
           "#FF6692",
           "#B6E880",
           "#FF97FF",
           "#FECB52"
          ],
          "font": {
           "color": "#2a3f5f"
          },
          "geo": {
           "bgcolor": "white",
           "lakecolor": "white",
           "landcolor": "#E5ECF6",
           "showlakes": true,
           "showland": true,
           "subunitcolor": "white"
          },
          "hoverlabel": {
           "align": "left"
          },
          "hovermode": "closest",
          "mapbox": {
           "style": "light"
          },
          "paper_bgcolor": "white",
          "plot_bgcolor": "#E5ECF6",
          "polar": {
           "angularaxis": {
            "gridcolor": "white",
            "linecolor": "white",
            "ticks": ""
           },
           "bgcolor": "#E5ECF6",
           "radialaxis": {
            "gridcolor": "white",
            "linecolor": "white",
            "ticks": ""
           }
          },
          "scene": {
           "xaxis": {
            "backgroundcolor": "#E5ECF6",
            "gridcolor": "white",
            "gridwidth": 2,
            "linecolor": "white",
            "showbackground": true,
            "ticks": "",
            "zerolinecolor": "white"
           },
           "yaxis": {
            "backgroundcolor": "#E5ECF6",
            "gridcolor": "white",
            "gridwidth": 2,
            "linecolor": "white",
            "showbackground": true,
            "ticks": "",
            "zerolinecolor": "white"
           },
           "zaxis": {
            "backgroundcolor": "#E5ECF6",
            "gridcolor": "white",
            "gridwidth": 2,
            "linecolor": "white",
            "showbackground": true,
            "ticks": "",
            "zerolinecolor": "white"
           }
          },
          "shapedefaults": {
           "line": {
            "color": "#2a3f5f"
           }
          },
          "ternary": {
           "aaxis": {
            "gridcolor": "white",
            "linecolor": "white",
            "ticks": ""
           },
           "baxis": {
            "gridcolor": "white",
            "linecolor": "white",
            "ticks": ""
           },
           "bgcolor": "#E5ECF6",
           "caxis": {
            "gridcolor": "white",
            "linecolor": "white",
            "ticks": ""
           }
          },
          "title": {
           "x": 0.05
          },
          "xaxis": {
           "automargin": true,
           "gridcolor": "white",
           "linecolor": "white",
           "ticks": "",
           "title": {
            "standoff": 15
           },
           "zerolinecolor": "white",
           "zerolinewidth": 2
          },
          "yaxis": {
           "automargin": true,
           "gridcolor": "white",
           "linecolor": "white",
           "ticks": "",
           "title": {
            "standoff": 15
           },
           "zerolinecolor": "white",
           "zerolinewidth": 2
          }
         }
        },
        "title": {
         "text": "Model fit of Random Forest model"
        },
        "xaxis": {
         "anchor": "y",
         "domain": [
          0,
          1
         ],
         "title": {
          "text": "measured data (sample)"
         }
        },
        "yaxis": {
         "anchor": "x",
         "domain": [
          0,
          1
         ],
         "title": {
          "text": "fitted values (in sample fit)"
         }
        }
       }
      },
      "text/html": [
       "<div>                            <div id=\"ba1f1e19-9045-49fa-9c53-37c40174b521\" class=\"plotly-graph-div\" style=\"height:525px; width:100%;\"></div>            <script type=\"text/javascript\">                require([\"plotly\"], function(Plotly) {                    window.PLOTLYENV=window.PLOTLYENV || {};                                    if (document.getElementById(\"ba1f1e19-9045-49fa-9c53-37c40174b521\")) {                    Plotly.newPlot(                        \"ba1f1e19-9045-49fa-9c53-37c40174b521\",                        [{\"hovertemplate\": \"value=%{x}<br>mid=%{y}<extra></extra>\", \"legendgroup\": \"\", \"marker\": {\"color\": \"#212c52\", \"size\": 10, \"symbol\": \"circle\"}, \"mode\": \"markers\", \"name\": \"\", \"orientation\": \"v\", \"showlegend\": false, \"type\": \"scatter\", \"x\": [2.574031267727719, 2.6857417386022635, 3.025715383901341, 3.0538464268522527, 3.037027879755775, 3.119585774961784, 2.637489729512511, 2.94546858513182, 3.885530833188092, 2.5477747053878224, 2.3654879848909, 4.544068044350276, 2.4899584794248346, 3.4459154139511234, 4.374216605428374, 3.1743505974793798, 2.041392685158225, 2.6599162000698504, 3.3925210899319325, 4.544068044350276, 3.4214393902200495, 3.1950689964685903, 2.403120521175818, 3.1228709228644354, 3.244524511570084, 4.14188854970586, 2.53655844257153, 2.6857417386022635, 2.5477747053878224, 2.940516484932567, 2.9858753573083936, 3.380934463330702, 2.5943925503754266, 3.2643455070500926, 4.028855809390444, 2.8432327780980096, 3.024074987307426, 2.870403905279027, 3.7480328941301435, 3.7480328941301435, 2.2068258760318495, 3.1826999033360424, 2.4899584794248346, 2.94546858513182, 2.5440680443502757, 4.4428872189023485, 2.247973266361807, 4.544068044350276, 2.9469432706978256, 3.2038484637462346, 2.6180480967120925, 2.9628426812012423, 3.0773679052841563, 2.9508514588885464, 2.3961993470957363, 3.2038484637462346, 3.7023443583557687, 2.6148972160331345, 2.7589118923979736, 3.083860800866573, 2.3324384599156054, 2.893206753059848, 4.544068044350276, 4.544068044350276, 2.6414741105040997, 4.544068044350276, 3.584670384464349, 2.938519725176492, 3.520483532740792, 2.7972675408307164, 3.4216039268698313, 2.7589118923979736, 2.2528530309798933, 3.330413773349191, 3.274619619091238], \"xaxis\": \"x\", \"y\": [3.3736705459283525, 2.7947048443139173, 3.2184063058200114, 3.0416305435562276, 3.0479989015787607, 2.6716216707765352, 2.4085374003775937, 2.793299626736066, 2.664500683319416, 2.895701098859504, 3.9089286343297784, 3.1952927126420647, 3.6580581459838273, 3.730829288237071, 3.4884336078728584, 2.8452912879142502, 2.5045814126254315, 2.8450171559630033, 3.92675124455788, 3.4224029579112982, 3.1549662118821553, 3.3561752873826083, 2.7526501867260023, 3.4047338776842957, 3.322567625838307, 3.3486117231354036, 2.8032639508895136, 2.853004394024131, 2.7091601520042934, 2.7418682916568384, 3.621766362028396, 3.3904667420621664, 2.926272847770634, 3.425194711324683, 4.035944560233868, 2.7563436905350427, 3.589122868252221, 2.812173616464549, 3.492625283983194, 3.6045761932108786, 3.4377075467334803, 3.4721908288890755, 3.1442644842041876, 2.8113684518666435, 2.583005115150168, 3.7753194787343927, 2.537967251513692, 3.393896070538748, 3.3866228904430127, 2.898633593432305, 3.1944690412313377, 3.8013620247183764, 2.981764666354158, 3.0345934702662287, 2.8152368556080796, 3.092096719057819, 2.8223394406845643, 2.820608175275278, 3.4228762511070316, 2.8032735250378416, 2.7918843900319414, 3.319338115566447, 4.049856610561617, 3.44972241941559, 2.68123292630024, 3.9017804369761926, 3.3118742328212543, 3.1165715061153723, 2.5739377388878357, 2.6915612058851024, 3.460880689297054, 2.945453357137767, 2.8456252535904922, 3.2990921773404795, 3.4105073929644285], \"yaxis\": \"y\"}, {\"hovertemplate\": \"<extra></extra>\", \"legendgroup\": \"\", \"marker\": {\"color\": \"#212c52\", \"size\": 10, \"symbol\": \"circle\"}, \"mode\": \"lines\", \"name\": \"\", \"showlegend\": false, \"type\": \"scatter\", \"xaxis\": \"x\", \"yaxis\": \"y\"}],                        {\"font\": {\"color\": \"black\", \"family\": \"Helvetica Neue, Helvetica, Arial, sans-serif\"}, \"legend\": {\"title\": {}, \"tracegroupgap\": 0, \"x\": 0.01, \"xanchor\": \"left\", \"y\": 0.99, \"yanchor\": \"top\"}, \"margin\": {\"t\": 60}, \"template\": {\"data\": {\"bar\": [{\"error_x\": {\"color\": \"#2a3f5f\"}, \"error_y\": {\"color\": \"#2a3f5f\"}, \"marker\": {\"line\": {\"color\": \"#E5ECF6\", \"width\": 0.5}}, \"type\": \"bar\"}], \"barpolar\": [{\"marker\": {\"line\": {\"color\": \"#E5ECF6\", \"width\": 0.5}}, \"type\": \"barpolar\"}], \"carpet\": [{\"aaxis\": {\"endlinecolor\": \"#2a3f5f\", \"gridcolor\": \"white\", \"linecolor\": \"white\", \"minorgridcolor\": \"white\", \"startlinecolor\": \"#2a3f5f\"}, \"baxis\": {\"endlinecolor\": \"#2a3f5f\", \"gridcolor\": \"white\", \"linecolor\": \"white\", \"minorgridcolor\": \"white\", \"startlinecolor\": \"#2a3f5f\"}, \"type\": \"carpet\"}], \"choropleth\": [{\"colorbar\": {\"outlinewidth\": 0, \"ticks\": \"\"}, \"type\": \"choropleth\"}], \"contour\": [{\"colorbar\": {\"outlinewidth\": 0, \"ticks\": \"\"}, \"colorscale\": [[0.0, \"#0d0887\"], [0.1111111111111111, \"#46039f\"], [0.2222222222222222, \"#7201a8\"], [0.3333333333333333, \"#9c179e\"], [0.4444444444444444, \"#bd3786\"], [0.5555555555555556, \"#d8576b\"], [0.6666666666666666, \"#ed7953\"], [0.7777777777777778, \"#fb9f3a\"], [0.8888888888888888, \"#fdca26\"], [1.0, \"#f0f921\"]], \"type\": \"contour\"}], \"contourcarpet\": [{\"colorbar\": {\"outlinewidth\": 0, \"ticks\": \"\"}, \"type\": \"contourcarpet\"}], \"heatmap\": [{\"colorbar\": {\"outlinewidth\": 0, \"ticks\": \"\"}, \"colorscale\": [[0.0, \"#0d0887\"], [0.1111111111111111, \"#46039f\"], [0.2222222222222222, \"#7201a8\"], [0.3333333333333333, \"#9c179e\"], [0.4444444444444444, \"#bd3786\"], [0.5555555555555556, \"#d8576b\"], [0.6666666666666666, \"#ed7953\"], [0.7777777777777778, \"#fb9f3a\"], [0.8888888888888888, \"#fdca26\"], [1.0, \"#f0f921\"]], \"type\": \"heatmap\"}], \"heatmapgl\": [{\"colorbar\": {\"outlinewidth\": 0, \"ticks\": \"\"}, \"colorscale\": [[0.0, \"#0d0887\"], [0.1111111111111111, \"#46039f\"], [0.2222222222222222, \"#7201a8\"], [0.3333333333333333, \"#9c179e\"], [0.4444444444444444, \"#bd3786\"], [0.5555555555555556, \"#d8576b\"], [0.6666666666666666, \"#ed7953\"], [0.7777777777777778, \"#fb9f3a\"], [0.8888888888888888, \"#fdca26\"], [1.0, \"#f0f921\"]], \"type\": \"heatmapgl\"}], \"histogram\": [{\"marker\": {\"colorbar\": {\"outlinewidth\": 0, \"ticks\": \"\"}}, \"type\": \"histogram\"}], \"histogram2d\": [{\"colorbar\": {\"outlinewidth\": 0, \"ticks\": \"\"}, \"colorscale\": [[0.0, \"#0d0887\"], [0.1111111111111111, \"#46039f\"], [0.2222222222222222, \"#7201a8\"], [0.3333333333333333, \"#9c179e\"], [0.4444444444444444, \"#bd3786\"], [0.5555555555555556, \"#d8576b\"], [0.6666666666666666, \"#ed7953\"], [0.7777777777777778, \"#fb9f3a\"], [0.8888888888888888, \"#fdca26\"], [1.0, \"#f0f921\"]], \"type\": \"histogram2d\"}], \"histogram2dcontour\": [{\"colorbar\": {\"outlinewidth\": 0, \"ticks\": \"\"}, \"colorscale\": [[0.0, \"#0d0887\"], [0.1111111111111111, \"#46039f\"], [0.2222222222222222, \"#7201a8\"], [0.3333333333333333, \"#9c179e\"], [0.4444444444444444, \"#bd3786\"], [0.5555555555555556, \"#d8576b\"], [0.6666666666666666, \"#ed7953\"], [0.7777777777777778, \"#fb9f3a\"], [0.8888888888888888, \"#fdca26\"], [1.0, \"#f0f921\"]], \"type\": \"histogram2dcontour\"}], \"mesh3d\": [{\"colorbar\": {\"outlinewidth\": 0, \"ticks\": \"\"}, \"type\": \"mesh3d\"}], \"parcoords\": [{\"line\": {\"colorbar\": {\"outlinewidth\": 0, \"ticks\": \"\"}}, \"type\": \"parcoords\"}], \"pie\": [{\"automargin\": true, \"type\": \"pie\"}], \"scatter\": [{\"marker\": {\"colorbar\": {\"outlinewidth\": 0, \"ticks\": \"\"}}, \"type\": \"scatter\"}], \"scatter3d\": [{\"line\": {\"colorbar\": {\"outlinewidth\": 0, \"ticks\": \"\"}}, \"marker\": {\"colorbar\": {\"outlinewidth\": 0, \"ticks\": \"\"}}, \"type\": \"scatter3d\"}], \"scattercarpet\": [{\"marker\": {\"colorbar\": {\"outlinewidth\": 0, \"ticks\": \"\"}}, \"type\": \"scattercarpet\"}], \"scattergeo\": [{\"marker\": {\"colorbar\": {\"outlinewidth\": 0, \"ticks\": \"\"}}, \"type\": \"scattergeo\"}], \"scattergl\": [{\"marker\": {\"colorbar\": {\"outlinewidth\": 0, \"ticks\": \"\"}}, \"type\": \"scattergl\"}], \"scattermapbox\": [{\"marker\": {\"colorbar\": {\"outlinewidth\": 0, \"ticks\": \"\"}}, \"type\": \"scattermapbox\"}], \"scatterpolar\": [{\"marker\": {\"colorbar\": {\"outlinewidth\": 0, \"ticks\": \"\"}}, \"type\": \"scatterpolar\"}], \"scatterpolargl\": [{\"marker\": {\"colorbar\": {\"outlinewidth\": 0, \"ticks\": \"\"}}, \"type\": \"scatterpolargl\"}], \"scatterternary\": [{\"marker\": {\"colorbar\": {\"outlinewidth\": 0, \"ticks\": \"\"}}, \"type\": \"scatterternary\"}], \"surface\": [{\"colorbar\": {\"outlinewidth\": 0, \"ticks\": \"\"}, \"colorscale\": [[0.0, \"#0d0887\"], [0.1111111111111111, \"#46039f\"], [0.2222222222222222, \"#7201a8\"], [0.3333333333333333, \"#9c179e\"], [0.4444444444444444, \"#bd3786\"], [0.5555555555555556, \"#d8576b\"], [0.6666666666666666, \"#ed7953\"], [0.7777777777777778, \"#fb9f3a\"], [0.8888888888888888, \"#fdca26\"], [1.0, \"#f0f921\"]], \"type\": \"surface\"}], \"table\": [{\"cells\": {\"fill\": {\"color\": \"#EBF0F8\"}, \"line\": {\"color\": \"white\"}}, \"header\": {\"fill\": {\"color\": \"#C8D4E3\"}, \"line\": {\"color\": \"white\"}}, \"type\": \"table\"}]}, \"layout\": {\"annotationdefaults\": {\"arrowcolor\": \"#2a3f5f\", \"arrowhead\": 0, \"arrowwidth\": 1}, \"autotypenumbers\": \"strict\", \"coloraxis\": {\"colorbar\": {\"outlinewidth\": 0, \"ticks\": \"\"}}, \"colorscale\": {\"diverging\": [[0, \"#8e0152\"], [0.1, \"#c51b7d\"], [0.2, \"#de77ae\"], [0.3, \"#f1b6da\"], [0.4, \"#fde0ef\"], [0.5, \"#f7f7f7\"], [0.6, \"#e6f5d0\"], [0.7, \"#b8e186\"], [0.8, \"#7fbc41\"], [0.9, \"#4d9221\"], [1, \"#276419\"]], \"sequential\": [[0.0, \"#0d0887\"], [0.1111111111111111, \"#46039f\"], [0.2222222222222222, \"#7201a8\"], [0.3333333333333333, \"#9c179e\"], [0.4444444444444444, \"#bd3786\"], [0.5555555555555556, \"#d8576b\"], [0.6666666666666666, \"#ed7953\"], [0.7777777777777778, \"#fb9f3a\"], [0.8888888888888888, \"#fdca26\"], [1.0, \"#f0f921\"]], \"sequentialminus\": [[0.0, \"#0d0887\"], [0.1111111111111111, \"#46039f\"], [0.2222222222222222, \"#7201a8\"], [0.3333333333333333, \"#9c179e\"], [0.4444444444444444, \"#bd3786\"], [0.5555555555555556, \"#d8576b\"], [0.6666666666666666, \"#ed7953\"], [0.7777777777777778, \"#fb9f3a\"], [0.8888888888888888, \"#fdca26\"], [1.0, \"#f0f921\"]]}, \"colorway\": [\"#636efa\", \"#EF553B\", \"#00cc96\", \"#ab63fa\", \"#FFA15A\", \"#19d3f3\", \"#FF6692\", \"#B6E880\", \"#FF97FF\", \"#FECB52\"], \"font\": {\"color\": \"#2a3f5f\"}, \"geo\": {\"bgcolor\": \"white\", \"lakecolor\": \"white\", \"landcolor\": \"#E5ECF6\", \"showlakes\": true, \"showland\": true, \"subunitcolor\": \"white\"}, \"hoverlabel\": {\"align\": \"left\"}, \"hovermode\": \"closest\", \"mapbox\": {\"style\": \"light\"}, \"paper_bgcolor\": \"white\", \"plot_bgcolor\": \"#E5ECF6\", \"polar\": {\"angularaxis\": {\"gridcolor\": \"white\", \"linecolor\": \"white\", \"ticks\": \"\"}, \"bgcolor\": \"#E5ECF6\", \"radialaxis\": {\"gridcolor\": \"white\", \"linecolor\": \"white\", \"ticks\": \"\"}}, \"scene\": {\"xaxis\": {\"backgroundcolor\": \"#E5ECF6\", \"gridcolor\": \"white\", \"gridwidth\": 2, \"linecolor\": \"white\", \"showbackground\": true, \"ticks\": \"\", \"zerolinecolor\": \"white\"}, \"yaxis\": {\"backgroundcolor\": \"#E5ECF6\", \"gridcolor\": \"white\", \"gridwidth\": 2, \"linecolor\": \"white\", \"showbackground\": true, \"ticks\": \"\", \"zerolinecolor\": \"white\"}, \"zaxis\": {\"backgroundcolor\": \"#E5ECF6\", \"gridcolor\": \"white\", \"gridwidth\": 2, \"linecolor\": \"white\", \"showbackground\": true, \"ticks\": \"\", \"zerolinecolor\": \"white\"}}, \"shapedefaults\": {\"line\": {\"color\": \"#2a3f5f\"}}, \"ternary\": {\"aaxis\": {\"gridcolor\": \"white\", \"linecolor\": \"white\", \"ticks\": \"\"}, \"baxis\": {\"gridcolor\": \"white\", \"linecolor\": \"white\", \"ticks\": \"\"}, \"bgcolor\": \"#E5ECF6\", \"caxis\": {\"gridcolor\": \"white\", \"linecolor\": \"white\", \"ticks\": \"\"}}, \"title\": {\"x\": 0.05}, \"xaxis\": {\"automargin\": true, \"gridcolor\": \"white\", \"linecolor\": \"white\", \"ticks\": \"\", \"title\": {\"standoff\": 15}, \"zerolinecolor\": \"white\", \"zerolinewidth\": 2}, \"yaxis\": {\"automargin\": true, \"gridcolor\": \"white\", \"linecolor\": \"white\", \"ticks\": \"\", \"title\": {\"standoff\": 15}, \"zerolinecolor\": \"white\", \"zerolinewidth\": 2}}}, \"title\": {\"text\": \"Model fit of Random Forest model\"}, \"xaxis\": {\"anchor\": \"y\", \"domain\": [0.0, 1.0], \"title\": {\"text\": \"measured data (sample)\"}}, \"yaxis\": {\"anchor\": \"x\", \"domain\": [0.0, 1.0], \"title\": {\"text\": \"fitted values (in sample fit)\"}}},                        {\"responsive\": true}                    ).then(function(){\n",
       "                            \n",
       "var gd = document.getElementById('ba1f1e19-9045-49fa-9c53-37c40174b521');\n",
       "var x = new MutationObserver(function (mutations, observer) {{\n",
       "        var display = window.getComputedStyle(gd).display;\n",
       "        if (!display || display === 'none') {{\n",
       "            console.log([gd, 'removed!']);\n",
       "            Plotly.purge(gd);\n",
       "            observer.disconnect();\n",
       "        }}\n",
       "}});\n",
       "\n",
       "// Listen for the removal of the full notebook cells\n",
       "var notebookContainer = gd.closest('#notebook-container');\n",
       "if (notebookContainer) {{\n",
       "    x.observe(notebookContainer, {childList: true});\n",
       "}}\n",
       "\n",
       "// Listen for the clearing of the current output cell\n",
       "var outputEl = gd.closest('.output');\n",
       "if (outputEl) {{\n",
       "    x.observe(outputEl, {childList: true});\n",
       "}}\n",
       "\n",
       "                        })                };                });            </script>        </div>"
      ]
     },
     "metadata": {},
     "output_type": "display_data"
    }
   ],
   "source": [
    "fig = px.scatter(predictions, x = \"value\", y = \"mid\", \n",
    "                 color_discrete_sequence=['#212c52'], trendline = 'OLS')\n",
    "\n",
    "fig.update_layout(\n",
    "    font_family=\"Helvetica Neue, Helvetica, Arial, sans-serif\",\n",
    "    font_color=\"black\",\n",
    "    title = {'text':'Model fit of Random Forest model'},\n",
    "    xaxis_title = \"measured data (sample)\",\n",
    "    yaxis_title = \"fitted values (in sample fit)\",\n",
    "    #markersize= 12,\n",
    "  )\n",
    "fig.update_layout(legend=dict(\n",
    "    yanchor=\"top\",\n",
    "    title=None,\n",
    "    y=0.99,\n",
    "    xanchor=\"left\",\n",
    "    x=0.01\n",
    "))\n",
    "fig.update_traces(marker_size = 10)#['#75c3ff', \"red\"],#, marker_line_color='#212c52',\n",
    " #                 marker_line_width=1.5, opacity=1)\n",
    "\n",
    "fig.show()"
   ]
  },
  {
   "cell_type": "code",
   "execution_count": null,
   "id": "third-anaheim",
   "metadata": {},
   "outputs": [],
   "source": []
  },
  {
   "cell_type": "code",
   "execution_count": null,
   "id": "latest-mortality",
   "metadata": {},
   "outputs": [],
   "source": []
  }
 ],
 "metadata": {
  "kernelspec": {
   "display_name": "Django Shell-Plus",
   "language": "python",
   "name": "django_extensions"
  },
  "language_info": {
   "codemirror_mode": {
    "name": "ipython",
    "version": 3
   },
   "file_extension": ".py",
   "mimetype": "text/x-python",
   "name": "python",
   "nbconvert_exporter": "python",
   "pygments_lexer": "ipython3",
   "version": "3.9.1"
  }
 },
 "nbformat": 4,
 "nbformat_minor": 5
}
