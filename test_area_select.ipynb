{
 "cells": [
  {
   "cell_type": "markdown",
   "id": "collect-interim",
   "metadata": {},
   "source": [
    "## Getting data by area and fitting Random forest model"
   ]
  },
  {
   "cell_type": "markdown",
   "id": "regulation-pocket",
   "metadata": {},
   "source": [
    "The present notebook:\n",
    "\n",
    "   - loads the data provided by the user selected by area.\n",
    "   - merges it with E.coli data\n",
    "   - trains a Random Forest model after grid search of hyperparameters\n",
    "   - Visualizes results in interactive plotly image"
   ]
  },
  {
   "cell_type": "code",
   "execution_count": 64,
   "id": "spatial-forest",
   "metadata": {},
   "outputs": [],
   "source": [
    "from ews.models import BathingSpot\n",
    "from django_pandas.io import read_frame\n",
    "import pandas as pd\n",
    "import numpy as np\n",
    "import json\n",
    "from sklearn.model_selection import train_test_split\n",
    "from sklearn.ensemble import RandomForestRegressor\n",
    "from sklearn.metrics import mean_squared_error\n",
    "from shapely.geometry import shape, Point\n",
    "import plotly.express as px\n",
    "import statsmodels\n"
   ]
  },
  {
   "cell_type": "code",
   "execution_count": 65,
   "id": "eastern-swiss",
   "metadata": {},
   "outputs": [],
   "source": [
    "model = PredictionModel.objects.get(name = \"Random Forest model\")"
   ]
  },
  {
   "cell_type": "code",
   "execution_count": 66,
   "id": "killing-recommendation",
   "metadata": {},
   "outputs": [
    {
     "data": {
      "text/plain": [
       "<QuerySet [<PredictionModel: testmodel>, <PredictionModel: Random Forest model>, <PredictionModel: Random Forest Marne>, <PredictionModel: Model Pont d'Iena>, <PredictionModel: Pont d'iena_rg (rain/flow)>, <PredictionModel: Chenneviere_model1>, <PredictionModel: Rainarea II Model>]>"
      ]
     },
     "execution_count": 66,
     "metadata": {},
     "output_type": "execute_result"
    }
   ],
   "source": [
    "PredictionModel.objects.all()"
   ]
  },
  {
   "cell_type": "code",
   "execution_count": 67,
   "id": "gorgeous-digest",
   "metadata": {},
   "outputs": [
    {
     "data": {
      "text/plain": [
       "<QuerySet [<PredictionModel: testmodel>, <PredictionModel: Random Forest model>, <PredictionModel: Random Forest Marne>, <PredictionModel: Model Pont d'Iena>, <PredictionModel: Pont d'iena_rg (rain/flow)>, <PredictionModel: Chenneviere_model1>, <PredictionModel: Rainarea II Model>]>"
      ]
     },
     "execution_count": 67,
     "metadata": {},
     "output_type": "execute_result"
    }
   ],
   "source": [
    "PredictionModel.objects.all()"
   ]
  },
  {
   "cell_type": "code",
   "execution_count": 68,
   "id": "upper-innocent",
   "metadata": {},
   "outputs": [],
   "source": [
    "areas = read_frame(model.area.all())"
   ]
  },
  {
   "cell_type": "code",
   "execution_count": 69,
   "id": "solid-embassy",
   "metadata": {},
   "outputs": [],
   "source": [
    "areavars = []\n",
    "for index1, row1 in areas.iterrows():\n",
    "    df = read_frame(Site.objects.filter(feature_type = FeatureType.objects.get(name=row1[\"feature_type\"])))\n",
    "    polygon = shape(row1[\"geom\"])\n",
    "    select = []\n",
    "    \n",
    "    for index2, row2 in df.iterrows():\n",
    "        select.append(polygon.contains(shape(row2['geom'])))\n",
    "    data = read_frame(FeatureData.objects.filter(site__in = df[select]['id']), index_col = \"date\")\n",
    "    data[\"area\"] = row1[\"name\"]\n",
    "    data[\"feature_type\"] = row1[\"feature_type\"]\n",
    "    areavars.append(data)"
   ]
  },
  {
   "cell_type": "code",
   "execution_count": 70,
   "id": "obvious-rocket",
   "metadata": {},
   "outputs": [],
   "source": [
    "lagvars = []\n",
    "\n",
    "for i in range(len(areavars)):\n",
    "    ft = areavars[i].area.unique()\n",
    "    d = areavars[i].pivot(columns = 'site', values = 'value')\n",
    "    if len(d.columns) > 1:\n",
    "        d = pd.DataFrame(d.mean(axis = 1, skipna = True))\n",
    "    for j in [1, 2, 3, 4, 5]:\n",
    "        df = pd.DataFrame()\n",
    "        df[ft + '_shift_'+ str(j)] = d.rolling(window=j).mean().shift(1)\n",
    "        lagvars.append(df)\n",
    "        \n",
    "res = pd.concat(lagvars, axis = 1)"
   ]
  },
  {
   "cell_type": "code",
   "execution_count": 71,
   "id": "corporate-arabic",
   "metadata": {},
   "outputs": [
    {
     "data": {
      "text/plain": [
       "<AxesSubplot:xlabel='date'>"
      ]
     },
     "execution_count": 71,
     "metadata": {},
     "output_type": "execute_result"
    },
    {
     "data": {
      "image/png": "[encoded data removed]",
      "text/plain": [
       "<Figure size 432x288 with 1 Axes>"
      ]
     },
     "metadata": {
      "needs_background": "light"
     },
     "output_type": "display_data"
    }
   ],
   "source": [
    "res.filter(regex='_shift_1').plot()"
   ]
  },
  {
   "cell_type": "code",
   "execution_count": 72,
   "id": "received-blake",
   "metadata": {},
   "outputs": [],
   "source": [
    "res = res[res.index.month.isin([ 6, 7, 8, 9])].reset_index()"
   ]
  },
  {
   "cell_type": "code",
   "execution_count": 73,
   "id": "extreme-calibration",
   "metadata": {},
   "outputs": [],
   "source": [
    "FIB = read_frame(FeatureData.objects.filter(site = model.site.all()[0]))"
   ]
  },
  {
   "cell_type": "code",
   "execution_count": 74,
   "id": "economic-profile",
   "metadata": {},
   "outputs": [],
   "source": [
    "FIB[\"date\"] = FIB.date.round(\"D\")"
   ]
  },
  {
   "cell_type": "code",
   "execution_count": 75,
   "id": "horizontal-parallel",
   "metadata": {},
   "outputs": [],
   "source": [
    "d = FIB.merge(res, on= \"date\")"
   ]
  },
  {
   "cell_type": "code",
   "execution_count": 76,
   "id": "specified-trance",
   "metadata": {},
   "outputs": [],
   "source": [
    "D = d.dropna()"
   ]
  },
  {
   "cell_type": "code",
   "execution_count": 77,
   "id": "sharp-consideration",
   "metadata": {},
   "outputs": [],
   "source": [
    "y = np.log10(D[\"value\"])"
   ]
  },
  {
   "cell_type": "code",
   "execution_count": 78,
   "id": "connected-headset",
   "metadata": {},
   "outputs": [],
   "source": [
    "X = D.drop([\"date\", \"value\", \"id\", \"site\"], axis = 1)"
   ]
  },
  {
   "cell_type": "code",
   "execution_count": 79,
   "id": "parallel-nerve",
   "metadata": {},
   "outputs": [],
   "source": [
    "X_train, X_test, y_train, y_test = train_test_split(X, y, test_size=0.3, random_state=4)\n"
   ]
  },
  {
   "cell_type": "code",
   "execution_count": 80,
   "id": "bacterial-horse",
   "metadata": {},
   "outputs": [],
   "source": [
    "grid = {'n_estimators':[100], 'max_depth': np.linspace(1, 6, 6), 'max_features': [2, 4,6]} \n"
   ]
  },
  {
   "cell_type": "code",
   "execution_count": 52,
   "id": "blocked-synthesis",
   "metadata": {},
   "outputs": [
    {
     "name": "stdout",
     "output_type": "stream",
     "text": [
      "OUT OF SAMPLE METRICS:\n",
      "Tuned  RandomForest R squared: 0.394505461440689\n",
      "Tuned RandomForestt MSE: 0.2884442071293737\n",
      "---------------------------\n",
      "IN SAMPLE METRICS:\n",
      "Tuned  RandomForest R squared: 0.6563104708136516\n",
      "Tuned RandomForestt MSE: 0.2884442071293737\n"
     ]
    }
   ],
   "source": [
    "\n",
    "from sklearn.model_selection import GridSearchCV, train_test_split\n",
    "\n",
    "\n",
    "# Instantiate the ElasticNet regressor: elastic_net\n",
    "rf = RandomForestRegressor()\n",
    "\n",
    "# Setup the GridSearchCV object: gm_cv\n",
    "gm_cv = GridSearchCV(rf, param_grid=grid, cv = 5)\n",
    "\n",
    "# Fit it to the training data\n",
    "\n",
    "gm_cv.fit(X_train, y_train)\n",
    "rf = RandomForestRegressor(n_estimators = gm_cv.best_params_[\"n_estimators\"],\n",
    "                           max_depth = gm_cv.best_params_[\"max_depth\"],\n",
    "                           max_features = gm_cv.best_params_[\"max_features\"])\n",
    "rf.fit(X_train, y_train)\n",
    "\n",
    "\n",
    "# Predict on the test set and compute metrics\n",
    "y_pred = gm_cv.predict(X_test)\n",
    "y_pred1 = rf.predict(X_test)\n",
    "\n",
    "\n",
    "r2 = gm_cv.score(X_test, y_test)\n",
    "r2_in = gm_cv.score(X_train, y_train)\n",
    "\n",
    "mse = mean_squared_error(y_test, y_pred)\n",
    "mse_in = mean_squared_error(y_train, gm_cv.predict(X_train))\n",
    "\n",
    "print(str(\"OUT OF SAMPLE METRICS:\"))\n",
    "print(\"Tuned  RandomForest R squared: {}\".format(r2))\n",
    "print(\"Tuned RandomForestt MSE: {}\".format(mse))\n",
    "print('---------------------------')\n",
    "print(\"IN SAMPLE METRICS:\")\n",
    "print(\"Tuned  RandomForest R squared: {}\".format(r2_in))\n",
    "print(\"Tuned RandomForestt MSE: {}\".format(mse))\n",
    "\n"
   ]
  },
  {
   "cell_type": "code",
   "execution_count": 53,
   "id": "welsh-barbados",
   "metadata": {},
   "outputs": [],
   "source": [
    "df_test = pd.DataFrame({'meas': y_test, 'pred': gm_cv.predict(X_test), 'split': 'out of sample'})\n",
    "df_train = pd.DataFrame({'meas': y_train, 'pred': gm_cv.predict(X_train), 'split': 'in sample'})\n",
    "df = pd.concat([df_test, df_train])\n",
    "                        \n"
   ]
  },
  {
   "cell_type": "code",
   "execution_count": 54,
   "id": "treated-rendering",
   "metadata": {
    "scrolled": true
   },
   "outputs": [
    {
     "data": {
      "application/vnd.plotly.v1+json": {
       "config": {
        "plotlyServerURL": "https://plot.ly"
       },
       "data": [
        {
         "hovertemplate": "split=out of sample<br>meas=%{x}<br>pred=%{y}<extra></extra>",
         "legendgroup": "out of sample",
         "marker": {
          "color": "#212c52",
          "size": 10,
          "symbol": "circle"
         },
         "mode": "markers",
         "name": "out of sample",
         "orientation": "v",
         "showlegend": true,
         "type": "scatter",
         "x": [
          3.380934463330702,
          2.574031267727719,
          3.244524511570084,
          2.6857417386022635,
          4.544068044350276,
          2.870403905279027,
          2.8750612633917,
          4.544068044350276,
          3.4459154139511234,
          2.399673721481038,
          4.544068044350276,
          2.9804578922761,
          4.544068044350276,
          3.5341530741850624,
          3.8516863154424277,
          3.3283796034387376,
          3.0773679052841563,
          3.1451964061141817,
          2.5477747053878224,
          2.3283796034387376,
          2.884795363948981,
          3.2853322276438846,
          2.6414741105040997,
          2.6334684555795866,
          2.3961993470957363,
          4.14188854970586,
          4.4428872189023485,
          4.028855809390444,
          4.374216605428374,
          2.893206753059848,
          2.9469432706978256,
          2.7589118923979736,
          2.494154594018443,
          1.7853298350107671,
          3.336859820916809,
          2.940516484932567,
          2.921166050637739,
          3.7019994748896368,
          4.544068044350276,
          3.2234959409623944,
          3.024074987307426,
          2.710963118995276,
          2.598790506763115,
          3.1051694279993316,
          3.0318122713303706,
          3.274619619091238,
          3.2643455070500926,
          2.747411807886423,
          2.893206753059848,
          3.9563125308411946,
          2.910624404889201,
          3.037027879755775,
          2.4899584794248346,
          2.4899584794248346,
          4.374216605428374,
          4.14188854970586,
          3.1228709228644354,
          4.544068044350276,
          3.003029470553618,
          3.119585774961784,
          3.2543063323312857,
          3.4214393902200495,
          2.727541257028556,
          4.544068044350276,
          2.591064607026499,
          2.041392685158225,
          2.403120521175818,
          2.3324384599156054,
          3.1684974835230326,
          2.0969100130080562,
          2.8432327780980096,
          2.6148972160331345,
          3.584670384464349,
          3.336859820916809,
          3.7567881987681178
         ],
         "xaxis": "x",
         "y": [
          3.3191549152489817,
          3.0408957461400097,
          3.2439506698133083,
          2.9413655629532314,
          3.147129764937786,
          2.6062903816071405,
          3.0103596052809327,
          3.9097886873433523,
          3.4239135665032507,
          2.841400157074167,
          3.3132115569692626,
          3.3447676173764025,
          3.9614354454345047,
          3.079275201193001,
          3.9335681394777384,
          3.399482766261804,
          3.7330205418962925,
          3.1180309574834753,
          2.9613799220465626,
          2.82188643648231,
          4.01861554605825,
          3.1987861196635183,
          3.092416696930201,
          3.32467226952526,
          2.9889690344195214,
          3.3901479473075704,
          4.046460792162254,
          3.832768015257285,
          3.8385978964104015,
          3.146447079773547,
          3.501647989674604,
          3.215021971848289,
          2.8010963402585447,
          2.8799318617416003,
          3.0870836364247225,
          2.905262414994397,
          3.270486223663744,
          3.2224907010844914,
          4.184362477575473,
          3.5829355360656137,
          3.4031517498709096,
          2.960777918915838,
          2.8010986187039504,
          4.024536194786935,
          2.8039708729677604,
          3.208242607019954,
          3.290383448260712,
          2.976811087004522,
          3.1269428185106682,
          3.446496376132458,
          3.0006609826668953,
          2.8111161710177215,
          2.981251283703668,
          2.8822005324912787,
          4.133129358993278,
          3.1761436126814067,
          3.5000399168308594,
          3.406826290426457,
          2.8180320094892797,
          3.0423381830181224,
          2.8316230250302667,
          3.291061042898619,
          2.8819988909809853,
          3.1179145055566977,
          2.804334172495875,
          2.6302225562500525,
          3.1389039484265475,
          2.7902919765869765,
          3.6636280884753605,
          2.780407393970463,
          2.8226153985425504,
          3.00654987140572,
          3.1774039534959475,
          3.419468947138573,
          2.8265629333347047
         ],
         "yaxis": "y"
        },
        {
         "hovertemplate": "split=in sample<br>meas=%{x}<br>pred=%{y}<extra></extra>",
         "legendgroup": "in sample",
         "marker": {
          "color": "#75c3ff",
          "size": 10,
          "symbol": "circle"
         },
         "mode": "markers",
         "name": "in sample",
         "orientation": "v",
         "showlegend": true,
         "type": "scatter",
         "x": [
          2.494154594018443,
          3.2143138974244,
          2.7234556720351857,
          2.681241237375587,
          3.083860800866573,
          3.4216039268698313,
          4.544068044350276,
          2.2068258760318495,
          4.4428872189023485,
          3.2345172835126865,
          2.503790683057181,
          3.0881360887005513,
          4.544068044350276,
          3.1950689964685903,
          2.656098202012832,
          2.815577748324267,
          3.019116290447073,
          2.369215857410143,
          4.544068044350276,
          3.470704429722788,
          2.637489729512511,
          2.2528530309798933,
          3.6769678142947586,
          4.028855809390444,
          4.069298012115529,
          3.549371152333177,
          2.6893088591236203,
          2.4578818967339924,
          2.403120521175818,
          2.7589118923979736,
          2.369215857410143,
          3.7285161047597666,
          2.8344207036815328,
          2.94546858513182,
          2.637489729512511,
          2.82020145948564,
          3.336859820916809,
          3.4933186082321015,
          4.544068044350276,
          2.586587304671755,
          3.2143138974244,
          3.317854489331469,
          2.6857417386022635,
          3.244524511570084,
          3.059941888061955,
          3.17868923977559,
          3.7019994748896368,
          3.380934463330702,
          2.5943925503754266,
          2.155336037465062,
          2.3654879848909,
          2.9916690073799486,
          3.0773679052841563,
          3.3881012015705165,
          3.0729847446279304,
          2.940516484932567,
          2.7315887651867388,
          2.9800033715837464,
          3.1300119496719043,
          3.253580289562183,
          4.544068044350276,
          2.5943925503754266,
          3.2068258760318495,
          2.9508514588885464,
          2.4899584794248346,
          3.7567881987681178,
          3.1743505974793798,
          2.8524799936368566,
          2.6599162000698504,
          3.584670384464349,
          4.544068044350276,
          3.0538464268522527,
          3.025715383901341,
          2.824776462475546,
          3.380934463330702,
          2.747411807886423,
          4.374216605428374,
          3.3925210899319325,
          3.6534054906645013,
          3.296665190261531,
          2.7589118923979736,
          3.003029470553618,
          2.5403294747908736,
          2.900913067737669,
          3.885530833188092,
          3.1089031276673134,
          2.2068258760318495,
          4.268648164671602,
          2.5211380837040362,
          4.544068044350276,
          3.7023443583557687,
          2.663700925389648,
          2.6180480967120925,
          3.7480328941301435,
          3.1826999033360424,
          2.4313637641589874,
          2.6414741105040997,
          3.3283796034387376,
          3.143327129992046,
          2.290034611362518,
          3.2245330626060857,
          2.7193312869837265,
          2.806179973983887,
          3.274388795550379,
          3.044539760392411,
          4.317958924700952,
          3.520483532740792,
          2.5440680443502757,
          3.2538224387080734,
          3.0199466816788423,
          3.330413773349191,
          3.166133970305109,
          2.5477747053878224,
          2.663700925389648,
          3.0492180226701815,
          2.494154594018443,
          3.4216039268698313,
          3.519302849235429,
          3.9205928620848085,
          2.3324384599156054,
          3.885530833188092,
          2.8573324964312685,
          2.2528530309798933,
          2.403120521175818,
          4.374216605428374,
          2.9628426812012423,
          3.7866804531966487,
          2.7737864449811935,
          4.317958924700952,
          3.7480328941301435,
          3.274850320016665,
          4.544068044350276,
          3.7285161047597666,
          2.8750612633917,
          3.2095150145426308,
          3.2038484637462346,
          3.2643455070500926,
          3.3492775274679554,
          2.5477747053878224,
          4.544068044350276,
          3.307282047033346,
          2.247973266361807,
          3.3546845539547285,
          2.7781512503836434,
          2.4899584794248346,
          2.6857417386022635,
          2.6893088591236203,
          2.7972675408307164,
          3.274388795550379,
          4.544068044350276,
          3.7019994748896368,
          2.7867514221455614,
          3.2038484637462346,
          3.1743505974793798,
          4.544068044350276,
          3.520483532740792,
          3.0145205387579237,
          3.163757523981956,
          3.4214393902200495,
          2.53655844257153,
          4.374216605428374,
          2.938519725176492,
          2.870403905279027,
          3.1950689964685903,
          2.574031267727719,
          3.7019994748896368,
          2.9858753573083936,
          4.103358939866562,
          2.5477747053878224,
          2.3283796034387376,
          2.428134794028789,
          2.94546858513182,
          3.7866804531966487,
          4.223755453657241
         ],
         "xaxis": "x",
         "y": [
          2.9448526746676746,
          3.626287224379872,
          2.979349672914118,
          2.7816954104012996,
          2.8446274521859127,
          3.277504057056999,
          4.216285070966148,
          2.845257915931657,
          3.8963971422255765,
          3.220442815333807,
          2.746552569095926,
          2.8803291158884794,
          3.473873210416201,
          3.332027661724005,
          3.193001074276671,
          3.225382607563041,
          2.825021192856828,
          2.8242619300549667,
          4.220025201970759,
          2.929545790004214,
          2.774891082907176,
          2.770875007161716,
          3.1986084362183407,
          4.021358515505752,
          3.1540033088841817,
          3.336282706573966,
          2.91824398723206,
          2.77319154488126,
          2.8925186176983324,
          3.2125543010095914,
          2.802227935184176,
          3.392112277620993,
          2.8944929445766703,
          2.9008830861417296,
          2.6114583399900466,
          3.1947796046274033,
          3.134582950520936,
          3.31752526596383,
          3.6335799486622244,
          3.019570255192065,
          3.140528174522201,
          3.2698126610252967,
          2.865582062627869,
          3.334069642718012,
          2.9476850516529067,
          3.2294838046640133,
          3.3595164344626425,
          3.501717026815589,
          2.9215080186363043,
          2.7678136141583654,
          2.9395380775169753,
          3.0483962349268383,
          3.1992001841695337,
          3.299886088074297,
          2.887280685804904,
          2.8422193150650132,
          2.838281358231323,
          3.309322050939977,
          3.1964220130191614,
          3.1002637534168525,
          4.009675008795961,
          3.004480766346628,
          3.3030430790139933,
          2.88112171831964,
          2.783246553383208,
          3.1153533973474117,
          2.9213235746247257,
          3.1927506598906423,
          2.847132631328668,
          3.193906608946977,
          4.362091704719546,
          3.1990581498387525,
          3.0527493798116425,
          3.2835101106514584,
          3.4544952781840563,
          2.78536467294488,
          3.691787554322102,
          3.395541873525776,
          3.5250326154011047,
          3.138781257442389,
          2.877447422766419,
          2.9174992874028045,
          2.9625993221579234,
          3.229694114828392,
          3.109498915525139,
          3.2443435374933993,
          2.6246842018886793,
          3.442134979695429,
          2.853658648531453,
          3.967675821925383,
          3.46079637048503,
          3.107512937447023,
          3.1051696828577446,
          3.2387632102440183,
          3.3909980023871005,
          2.911932475917208,
          2.9101021980218893,
          3.4351847348978826,
          3.0948558397436465,
          2.865864098839321,
          3.390390142700144,
          2.870362030823657,
          3.0013403273653227,
          3.2806337443276643,
          3.264854219838711,
          4.267856462595155,
          3.0061328856343277,
          2.8138538136667592,
          3.033574618011844,
          3.2912213108221406,
          3.4137848193786766,
          3.046072873022723,
          2.6147393365590883,
          2.8911324806248757,
          3.163147130350179,
          2.836607103440439,
          3.5123403860175073,
          3.7178666225035077,
          3.458104441656742,
          2.8490091419944332,
          3.8885250484479683,
          3.039723852771753,
          2.734664764115418,
          2.720253767112751,
          3.6796052861256086,
          3.142857245729916,
          3.2281101007298556,
          2.909992892375789,
          3.6464155359710086,
          3.5420154543453855,
          3.395578844683758,
          3.742573862276262,
          3.289562865538203,
          2.9961914577595117,
          2.9064504759485588,
          3.063729998356256,
          3.2587769584371564,
          3.2767404704724656,
          2.793283652487329,
          3.74939888988007,
          3.2805030057053552,
          2.6002402142535304,
          3.021035612242886,
          3.0037368167546616,
          2.8742167711532436,
          2.7528413587905662,
          2.985161040894491,
          2.8302609498684212,
          3.341821782426128,
          3.5338332167333406,
          3.328856807227515,
          2.9600757288258692,
          2.9831095977354947,
          3.078330527135121,
          3.7432306741919286,
          3.2211246653729484,
          3.220443080127503,
          3.372581251575502,
          3.259654398584581,
          2.873574595870005,
          4.210901347896323,
          2.891815108464399,
          2.8687364193080462,
          3.295587204750393,
          3.042169428215706,
          3.3424669210919493,
          3.0909002074353906,
          4.15855604754571,
          2.8250551591021638,
          3.033096397494274,
          2.5918317605179784,
          2.90575178893117,
          3.5938203773324973,
          3.787604450142628
         ],
         "yaxis": "y"
        }
       ],
       "layout": {
        "font": {
         "color": "black",
         "family": "Helvetica Neue, Helvetica, Arial, sans-serif"
        },
        "legend": {
         "title": {},
         "tracegroupgap": 0,
         "x": 0.01,
         "xanchor": "left",
         "y": 0.99,
         "yanchor": "top"
        },
        "margin": {
         "t": 60
        },
        "template": {
         "data": {
          "bar": [
           {
            "error_x": {
             "color": "#2a3f5f"
            },
            "error_y": {
             "color": "#2a3f5f"
            },
            "marker": {
             "line": {
              "color": "#E5ECF6",
              "width": 0.5
             }
            },
            "type": "bar"
           }
          ],
          "barpolar": [
           {
            "marker": {
             "line": {
              "color": "#E5ECF6",
              "width": 0.5
             }
            },
            "type": "barpolar"
           }
          ],
          "carpet": [
           {
            "aaxis": {
             "endlinecolor": "#2a3f5f",
             "gridcolor": "white",
             "linecolor": "white",
             "minorgridcolor": "white",
             "startlinecolor": "#2a3f5f"
            },
            "baxis": {
             "endlinecolor": "#2a3f5f",
             "gridcolor": "white",
             "linecolor": "white",
             "minorgridcolor": "white",
             "startlinecolor": "#2a3f5f"
            },
            "type": "carpet"
           }
          ],
          "choropleth": [
           {
            "colorbar": {
             "outlinewidth": 0,
             "ticks": ""
            },
            "type": "choropleth"
           }
          ],
          "contour": [
           {
            "colorbar": {
             "outlinewidth": 0,
             "ticks": ""
            },
            "colorscale": [
             [
              0,
              "#0d0887"
             ],
             [
              0.1111111111111111,
              "#46039f"
             ],
             [
              0.2222222222222222,
              "#7201a8"
             ],
             [
              0.3333333333333333,
              "#9c179e"
             ],
             [
              0.4444444444444444,
              "#bd3786"
             ],
             [
              0.5555555555555556,
              "#d8576b"
             ],
             [
              0.6666666666666666,
              "#ed7953"
             ],
             [
              0.7777777777777778,
              "#fb9f3a"
             ],
             [
              0.8888888888888888,
              "#fdca26"
             ],
             [
              1,
              "#f0f921"
             ]
            ],
            "type": "contour"
           }
          ],
          "contourcarpet": [
           {
            "colorbar": {
             "outlinewidth": 0,
             "ticks": ""
            },
            "type": "contourcarpet"
           }
          ],
          "heatmap": [
           {
            "colorbar": {
             "outlinewidth": 0,
             "ticks": ""
            },
            "colorscale": [
             [
              0,
              "#0d0887"
             ],
             [
              0.1111111111111111,
              "#46039f"
             ],
             [
              0.2222222222222222,
              "#7201a8"
             ],
             [
              0.3333333333333333,
              "#9c179e"
             ],
             [
              0.4444444444444444,
              "#bd3786"
             ],
             [
              0.5555555555555556,
              "#d8576b"
             ],
             [
              0.6666666666666666,
              "#ed7953"
             ],
             [
              0.7777777777777778,
              "#fb9f3a"
             ],
             [
              0.8888888888888888,
              "#fdca26"
             ],
             [
              1,
              "#f0f921"
             ]
            ],
            "type": "heatmap"
           }
          ],
          "heatmapgl": [
           {
            "colorbar": {
             "outlinewidth": 0,
             "ticks": ""
            },
            "colorscale": [
             [
              0,
              "#0d0887"
             ],
             [
              0.1111111111111111,
              "#46039f"
             ],
             [
              0.2222222222222222,
              "#7201a8"
             ],
             [
              0.3333333333333333,
              "#9c179e"
             ],
             [
              0.4444444444444444,
              "#bd3786"
             ],
             [
              0.5555555555555556,
              "#d8576b"
             ],
             [
              0.6666666666666666,
              "#ed7953"
             ],
             [
              0.7777777777777778,
              "#fb9f3a"
             ],
             [
              0.8888888888888888,
              "#fdca26"
             ],
             [
              1,
              "#f0f921"
             ]
            ],
            "type": "heatmapgl"
           }
          ],
          "histogram": [
           {
            "marker": {
             "colorbar": {
              "outlinewidth": 0,
              "ticks": ""
             }
            },
            "type": "histogram"
           }
          ],
          "histogram2d": [
           {
            "colorbar": {
             "outlinewidth": 0,
             "ticks": ""
            },
            "colorscale": [
             [
              0,
              "#0d0887"
             ],
             [
              0.1111111111111111,
              "#46039f"
             ],
             [
              0.2222222222222222,
              "#7201a8"
             ],
             [
              0.3333333333333333,
              "#9c179e"
             ],
             [
              0.4444444444444444,
              "#bd3786"
             ],
             [
              0.5555555555555556,
              "#d8576b"
             ],
             [
              0.6666666666666666,
              "#ed7953"
             ],
             [
              0.7777777777777778,
              "#fb9f3a"
             ],
             [
              0.8888888888888888,
              "#fdca26"
             ],
             [
              1,
              "#f0f921"
             ]
            ],
            "type": "histogram2d"
           }
          ],
          "histogram2dcontour": [
           {
            "colorbar": {
             "outlinewidth": 0,
             "ticks": ""
            },
            "colorscale": [
             [
              0,
              "#0d0887"
             ],
             [
              0.1111111111111111,
              "#46039f"
             ],
             [
              0.2222222222222222,
              "#7201a8"
             ],
             [
              0.3333333333333333,
              "#9c179e"
             ],
             [
              0.4444444444444444,
              "#bd3786"
             ],
             [
              0.5555555555555556,
              "#d8576b"
             ],
             [
              0.6666666666666666,
              "#ed7953"
             ],
             [
              0.7777777777777778,
              "#fb9f3a"
             ],
             [
              0.8888888888888888,
              "#fdca26"
             ],
             [
              1,
              "#f0f921"
             ]
            ],
            "type": "histogram2dcontour"
           }
          ],
          "mesh3d": [
           {
            "colorbar": {
             "outlinewidth": 0,
             "ticks": ""
            },
            "type": "mesh3d"
           }
          ],
          "parcoords": [
           {
            "line": {
             "colorbar": {
              "outlinewidth": 0,
              "ticks": ""
             }
            },
            "type": "parcoords"
           }
          ],
          "pie": [
           {
            "automargin": true,
            "type": "pie"
           }
          ],
          "scatter": [
           {
            "marker": {
             "colorbar": {
              "outlinewidth": 0,
              "ticks": ""
             }
            },
            "type": "scatter"
           }
          ],
          "scatter3d": [
           {
            "line": {
             "colorbar": {
              "outlinewidth": 0,
              "ticks": ""
             }
            },
            "marker": {
             "colorbar": {
              "outlinewidth": 0,
              "ticks": ""
             }
            },
            "type": "scatter3d"
           }
          ],
          "scattercarpet": [
           {
            "marker": {
             "colorbar": {
              "outlinewidth": 0,
              "ticks": ""
             }
            },
            "type": "scattercarpet"
           }
          ],
          "scattergeo": [
           {
            "marker": {
             "colorbar": {
              "outlinewidth": 0,
              "ticks": ""
             }
            },
            "type": "scattergeo"
           }
          ],
          "scattergl": [
           {
            "marker": {
             "colorbar": {
              "outlinewidth": 0,
              "ticks": ""
             }
            },
            "type": "scattergl"
           }
          ],
          "scattermapbox": [
           {
            "marker": {
             "colorbar": {
              "outlinewidth": 0,
              "ticks": ""
             }
            },
            "type": "scattermapbox"
           }
          ],
          "scatterpolar": [
           {
            "marker": {
             "colorbar": {
              "outlinewidth": 0,
              "ticks": ""
             }
            },
            "type": "scatterpolar"
           }
          ],
          "scatterpolargl": [
           {
            "marker": {
             "colorbar": {
              "outlinewidth": 0,
              "ticks": ""
             }
            },
            "type": "scatterpolargl"
           }
          ],
          "scatterternary": [
           {
            "marker": {
             "colorbar": {
              "outlinewidth": 0,
              "ticks": ""
             }
            },
            "type": "scatterternary"
           }
          ],
          "surface": [
           {
            "colorbar": {
             "outlinewidth": 0,
             "ticks": ""
            },
            "colorscale": [
             [
              0,
              "#0d0887"
             ],
             [
              0.1111111111111111,
              "#46039f"
             ],
             [
              0.2222222222222222,
              "#7201a8"
             ],
             [
              0.3333333333333333,
              "#9c179e"
             ],
             [
              0.4444444444444444,
              "#bd3786"
             ],
             [
              0.5555555555555556,
              "#d8576b"
             ],
             [
              0.6666666666666666,
              "#ed7953"
             ],
             [
              0.7777777777777778,
              "#fb9f3a"
             ],
             [
              0.8888888888888888,
              "#fdca26"
             ],
             [
              1,
              "#f0f921"
             ]
            ],
            "type": "surface"
           }
          ],
          "table": [
           {
            "cells": {
             "fill": {
              "color": "#EBF0F8"
             },
             "line": {
              "color": "white"
             }
            },
            "header": {
             "fill": {
              "color": "#C8D4E3"
             },
             "line": {
              "color": "white"
             }
            },
            "type": "table"
           }
          ]
         },
         "layout": {
          "annotationdefaults": {
           "arrowcolor": "#2a3f5f",
           "arrowhead": 0,
           "arrowwidth": 1
          },
          "autotypenumbers": "strict",
          "coloraxis": {
           "colorbar": {
            "outlinewidth": 0,
            "ticks": ""
           }
          },
          "colorscale": {
           "diverging": [
            [
             0,
             "#8e0152"
            ],
            [
             0.1,
             "#c51b7d"
            ],
            [
             0.2,
             "#de77ae"
            ],
            [
             0.3,
             "#f1b6da"
            ],
            [
             0.4,
             "#fde0ef"
            ],
            [
             0.5,
             "#f7f7f7"
            ],
            [
             0.6,
             "#e6f5d0"
            ],
            [
             0.7,
             "#b8e186"
            ],
            [
             0.8,
             "#7fbc41"
            ],
            [
             0.9,
             "#4d9221"
            ],
            [
             1,
             "#276419"
            ]
           ],
           "sequential": [
            [
             0,
             "#0d0887"
            ],
            [
             0.1111111111111111,
             "#46039f"
            ],
            [
             0.2222222222222222,
             "#7201a8"
            ],
            [
             0.3333333333333333,
             "#9c179e"
            ],
            [
             0.4444444444444444,
             "#bd3786"
            ],
            [
             0.5555555555555556,
             "#d8576b"
            ],
            [
             0.6666666666666666,
             "#ed7953"
            ],
            [
             0.7777777777777778,
             "#fb9f3a"
            ],
            [
             0.8888888888888888,
             "#fdca26"
            ],
            [
             1,
             "#f0f921"
            ]
           ],
           "sequentialminus": [
            [
             0,
             "#0d0887"
            ],
            [
             0.1111111111111111,
             "#46039f"
            ],
            [
             0.2222222222222222,
             "#7201a8"
            ],
            [
             0.3333333333333333,
             "#9c179e"
            ],
            [
             0.4444444444444444,
             "#bd3786"
            ],
            [
             0.5555555555555556,
             "#d8576b"
            ],
            [
             0.6666666666666666,
             "#ed7953"
            ],
            [
             0.7777777777777778,
             "#fb9f3a"
            ],
            [
             0.8888888888888888,
             "#fdca26"
            ],
            [
             1,
             "#f0f921"
            ]
           ]
          },
          "colorway": [
           "#636efa",
           "#EF553B",
           "#00cc96",
           "#ab63fa",
           "#FFA15A",
           "#19d3f3",
           "#FF6692",
           "#B6E880",
           "#FF97FF",
           "#FECB52"
          ],
          "font": {
           "color": "#2a3f5f"
          },
          "geo": {
           "bgcolor": "white",
           "lakecolor": "white",
           "landcolor": "#E5ECF6",
           "showlakes": true,
           "showland": true,
           "subunitcolor": "white"
          },
          "hoverlabel": {
           "align": "left"
          },
          "hovermode": "closest",
          "mapbox": {
           "style": "light"
          },
          "paper_bgcolor": "white",
          "plot_bgcolor": "#E5ECF6",
          "polar": {
           "angularaxis": {
            "gridcolor": "white",
            "linecolor": "white",
            "ticks": ""
           },
           "bgcolor": "#E5ECF6",
           "radialaxis": {
            "gridcolor": "white",
            "linecolor": "white",
            "ticks": ""
           }
          },
          "scene": {
           "xaxis": {
            "backgroundcolor": "#E5ECF6",
            "gridcolor": "white",
            "gridwidth": 2,
            "linecolor": "white",
            "showbackground": true,
            "ticks": "",
            "zerolinecolor": "white"
           },
           "yaxis": {
            "backgroundcolor": "#E5ECF6",
            "gridcolor": "white",
            "gridwidth": 2,
            "linecolor": "white",
            "showbackground": true,
            "ticks": "",
            "zerolinecolor": "white"
           },
           "zaxis": {
            "backgroundcolor": "#E5ECF6",
            "gridcolor": "white",
            "gridwidth": 2,
            "linecolor": "white",
            "showbackground": true,
            "ticks": "",
            "zerolinecolor": "white"
           }
          },
          "shapedefaults": {
           "line": {
            "color": "#2a3f5f"
           }
          },
          "ternary": {
           "aaxis": {
            "gridcolor": "white",
            "linecolor": "white",
            "ticks": ""
           },
           "baxis": {
            "gridcolor": "white",
            "linecolor": "white",
            "ticks": ""
           },
           "bgcolor": "#E5ECF6",
           "caxis": {
            "gridcolor": "white",
            "linecolor": "white",
            "ticks": ""
           }
          },
          "title": {
           "x": 0.05
          },
          "xaxis": {
           "automargin": true,
           "gridcolor": "white",
           "linecolor": "white",
           "ticks": "",
           "title": {
            "standoff": 15
           },
           "zerolinecolor": "white",
           "zerolinewidth": 2
          },
          "yaxis": {
           "automargin": true,
           "gridcolor": "white",
           "linecolor": "white",
           "ticks": "",
           "title": {
            "standoff": 15
           },
           "zerolinecolor": "white",
           "zerolinewidth": 2
          }
         }
        },
        "title": {
         "text": "Model fit of Random Forest model"
        },
        "xaxis": {
         "anchor": "y",
         "domain": [
          0,
          1
         ],
         "title": {
          "text": "measured data (sample)"
         }
        },
        "yaxis": {
         "anchor": "x",
         "domain": [
          0,
          1
         ],
         "title": {
          "text": "fitted values (in sample fit)"
         }
        }
       }
      },
      "text/html": [
       "<div>                            <div id=\"e28704f5-b54f-4340-ba7c-1208ec102d15\" class=\"plotly-graph-div\" style=\"height:525px; width:100%;\"></div>            <script type=\"text/javascript\">                require([\"plotly\"], function(Plotly) {                    window.PLOTLYENV=window.PLOTLYENV || {};                                    if (document.getElementById(\"e28704f5-b54f-4340-ba7c-1208ec102d15\")) {                    Plotly.newPlot(                        \"e28704f5-b54f-4340-ba7c-1208ec102d15\",                        [{\"hovertemplate\": \"split=out of sample<br>meas=%{x}<br>pred=%{y}<extra></extra>\", \"legendgroup\": \"out of sample\", \"marker\": {\"color\": \"#212c52\", \"size\": 10, \"symbol\": \"circle\"}, \"mode\": \"markers\", \"name\": \"out of sample\", \"orientation\": \"v\", \"showlegend\": true, \"type\": \"scatter\", \"x\": [3.380934463330702, 2.574031267727719, 3.244524511570084, 2.6857417386022635, 4.544068044350276, 2.870403905279027, 2.8750612633917, 4.544068044350276, 3.4459154139511234, 2.399673721481038, 4.544068044350276, 2.9804578922761, 4.544068044350276, 3.5341530741850624, 3.8516863154424277, 3.3283796034387376, 3.0773679052841563, 3.1451964061141817, 2.5477747053878224, 2.3283796034387376, 2.884795363948981, 3.2853322276438846, 2.6414741105040997, 2.6334684555795866, 2.3961993470957363, 4.14188854970586, 4.4428872189023485, 4.028855809390444, 4.374216605428374, 2.893206753059848, 2.9469432706978256, 2.7589118923979736, 2.494154594018443, 1.7853298350107671, 3.336859820916809, 2.940516484932567, 2.921166050637739, 3.7019994748896368, 4.544068044350276, 3.2234959409623944, 3.024074987307426, 2.710963118995276, 2.598790506763115, 3.1051694279993316, 3.0318122713303706, 3.274619619091238, 3.2643455070500926, 2.747411807886423, 2.893206753059848, 3.9563125308411946, 2.910624404889201, 3.037027879755775, 2.4899584794248346, 2.4899584794248346, 4.374216605428374, 4.14188854970586, 3.1228709228644354, 4.544068044350276, 3.003029470553618, 3.119585774961784, 3.2543063323312857, 3.4214393902200495, 2.727541257028556, 4.544068044350276, 2.591064607026499, 2.041392685158225, 2.403120521175818, 2.3324384599156054, 3.1684974835230326, 2.0969100130080562, 2.8432327780980096, 2.6148972160331345, 3.584670384464349, 3.336859820916809, 3.7567881987681178], \"xaxis\": \"x\", \"y\": [3.3191549152489817, 3.0408957461400097, 3.2439506698133083, 2.9413655629532314, 3.147129764937786, 2.6062903816071405, 3.0103596052809327, 3.9097886873433523, 3.4239135665032507, 2.841400157074167, 3.3132115569692626, 3.3447676173764025, 3.9614354454345047, 3.079275201193001, 3.9335681394777384, 3.399482766261804, 3.7330205418962925, 3.1180309574834753, 2.9613799220465626, 2.82188643648231, 4.01861554605825, 3.1987861196635183, 3.092416696930201, 3.32467226952526, 2.9889690344195214, 3.3901479473075704, 4.046460792162254, 3.832768015257285, 3.8385978964104015, 3.146447079773547, 3.501647989674604, 3.215021971848289, 2.8010963402585447, 2.8799318617416003, 3.0870836364247225, 2.905262414994397, 3.270486223663744, 3.2224907010844914, 4.184362477575473, 3.5829355360656137, 3.4031517498709096, 2.960777918915838, 2.8010986187039504, 4.024536194786935, 2.8039708729677604, 3.208242607019954, 3.290383448260712, 2.976811087004522, 3.1269428185106682, 3.446496376132458, 3.0006609826668953, 2.8111161710177215, 2.981251283703668, 2.8822005324912787, 4.133129358993278, 3.1761436126814067, 3.5000399168308594, 3.406826290426457, 2.8180320094892797, 3.0423381830181224, 2.8316230250302667, 3.291061042898619, 2.8819988909809853, 3.1179145055566977, 2.804334172495875, 2.6302225562500525, 3.1389039484265475, 2.7902919765869765, 3.6636280884753605, 2.780407393970463, 2.8226153985425504, 3.00654987140572, 3.1774039534959475, 3.419468947138573, 2.8265629333347047], \"yaxis\": \"y\"}, {\"hovertemplate\": \"split=in sample<br>meas=%{x}<br>pred=%{y}<extra></extra>\", \"legendgroup\": \"in sample\", \"marker\": {\"color\": \"#75c3ff\", \"size\": 10, \"symbol\": \"circle\"}, \"mode\": \"markers\", \"name\": \"in sample\", \"orientation\": \"v\", \"showlegend\": true, \"type\": \"scatter\", \"x\": [2.494154594018443, 3.2143138974244, 2.7234556720351857, 2.681241237375587, 3.083860800866573, 3.4216039268698313, 4.544068044350276, 2.2068258760318495, 4.4428872189023485, 3.2345172835126865, 2.503790683057181, 3.0881360887005513, 4.544068044350276, 3.1950689964685903, 2.656098202012832, 2.815577748324267, 3.019116290447073, 2.369215857410143, 4.544068044350276, 3.470704429722788, 2.637489729512511, 2.2528530309798933, 3.6769678142947586, 4.028855809390444, 4.069298012115529, 3.549371152333177, 2.6893088591236203, 2.4578818967339924, 2.403120521175818, 2.7589118923979736, 2.369215857410143, 3.7285161047597666, 2.8344207036815328, 2.94546858513182, 2.637489729512511, 2.82020145948564, 3.336859820916809, 3.4933186082321015, 4.544068044350276, 2.586587304671755, 3.2143138974244, 3.317854489331469, 2.6857417386022635, 3.244524511570084, 3.059941888061955, 3.17868923977559, 3.7019994748896368, 3.380934463330702, 2.5943925503754266, 2.155336037465062, 2.3654879848909, 2.9916690073799486, 3.0773679052841563, 3.3881012015705165, 3.0729847446279304, 2.940516484932567, 2.7315887651867388, 2.9800033715837464, 3.1300119496719043, 3.253580289562183, 4.544068044350276, 2.5943925503754266, 3.2068258760318495, 2.9508514588885464, 2.4899584794248346, 3.7567881987681178, 3.1743505974793798, 2.8524799936368566, 2.6599162000698504, 3.584670384464349, 4.544068044350276, 3.0538464268522527, 3.025715383901341, 2.824776462475546, 3.380934463330702, 2.747411807886423, 4.374216605428374, 3.3925210899319325, 3.6534054906645013, 3.296665190261531, 2.7589118923979736, 3.003029470553618, 2.5403294747908736, 2.900913067737669, 3.885530833188092, 3.1089031276673134, 2.2068258760318495, 4.268648164671602, 2.5211380837040362, 4.544068044350276, 3.7023443583557687, 2.663700925389648, 2.6180480967120925, 3.7480328941301435, 3.1826999033360424, 2.4313637641589874, 2.6414741105040997, 3.3283796034387376, 3.143327129992046, 2.290034611362518, 3.2245330626060857, 2.7193312869837265, 2.806179973983887, 3.274388795550379, 3.044539760392411, 4.317958924700952, 3.520483532740792, 2.5440680443502757, 3.2538224387080734, 3.0199466816788423, 3.330413773349191, 3.166133970305109, 2.5477747053878224, 2.663700925389648, 3.0492180226701815, 2.494154594018443, 3.4216039268698313, 3.519302849235429, 3.9205928620848085, 2.3324384599156054, 3.885530833188092, 2.8573324964312685, 2.2528530309798933, 2.403120521175818, 4.374216605428374, 2.9628426812012423, 3.7866804531966487, 2.7737864449811935, 4.317958924700952, 3.7480328941301435, 3.274850320016665, 4.544068044350276, 3.7285161047597666, 2.8750612633917, 3.2095150145426308, 3.2038484637462346, 3.2643455070500926, 3.3492775274679554, 2.5477747053878224, 4.544068044350276, 3.307282047033346, 2.247973266361807, 3.3546845539547285, 2.7781512503836434, 2.4899584794248346, 2.6857417386022635, 2.6893088591236203, 2.7972675408307164, 3.274388795550379, 4.544068044350276, 3.7019994748896368, 2.7867514221455614, 3.2038484637462346, 3.1743505974793798, 4.544068044350276, 3.520483532740792, 3.0145205387579237, 3.163757523981956, 3.4214393902200495, 2.53655844257153, 4.374216605428374, 2.938519725176492, 2.870403905279027, 3.1950689964685903, 2.574031267727719, 3.7019994748896368, 2.9858753573083936, 4.103358939866562, 2.5477747053878224, 2.3283796034387376, 2.428134794028789, 2.94546858513182, 3.7866804531966487, 4.223755453657241], \"xaxis\": \"x\", \"y\": [2.9448526746676746, 3.626287224379872, 2.979349672914118, 2.7816954104012996, 2.8446274521859127, 3.277504057056999, 4.216285070966148, 2.845257915931657, 3.8963971422255765, 3.220442815333807, 2.746552569095926, 2.8803291158884794, 3.473873210416201, 3.332027661724005, 3.193001074276671, 3.225382607563041, 2.825021192856828, 2.8242619300549667, 4.220025201970759, 2.929545790004214, 2.774891082907176, 2.770875007161716, 3.1986084362183407, 4.021358515505752, 3.1540033088841817, 3.336282706573966, 2.91824398723206, 2.77319154488126, 2.8925186176983324, 3.2125543010095914, 2.802227935184176, 3.392112277620993, 2.8944929445766703, 2.9008830861417296, 2.6114583399900466, 3.1947796046274033, 3.134582950520936, 3.31752526596383, 3.6335799486622244, 3.019570255192065, 3.140528174522201, 3.2698126610252967, 2.865582062627869, 3.334069642718012, 2.9476850516529067, 3.2294838046640133, 3.3595164344626425, 3.501717026815589, 2.9215080186363043, 2.7678136141583654, 2.9395380775169753, 3.0483962349268383, 3.1992001841695337, 3.299886088074297, 2.887280685804904, 2.8422193150650132, 2.838281358231323, 3.309322050939977, 3.1964220130191614, 3.1002637534168525, 4.009675008795961, 3.004480766346628, 3.3030430790139933, 2.88112171831964, 2.783246553383208, 3.1153533973474117, 2.9213235746247257, 3.1927506598906423, 2.847132631328668, 3.193906608946977, 4.362091704719546, 3.1990581498387525, 3.0527493798116425, 3.2835101106514584, 3.4544952781840563, 2.78536467294488, 3.691787554322102, 3.395541873525776, 3.5250326154011047, 3.138781257442389, 2.877447422766419, 2.9174992874028045, 2.9625993221579234, 3.229694114828392, 3.109498915525139, 3.2443435374933993, 2.6246842018886793, 3.442134979695429, 2.853658648531453, 3.967675821925383, 3.46079637048503, 3.107512937447023, 3.1051696828577446, 3.2387632102440183, 3.3909980023871005, 2.911932475917208, 2.9101021980218893, 3.4351847348978826, 3.0948558397436465, 2.865864098839321, 3.390390142700144, 2.870362030823657, 3.0013403273653227, 3.2806337443276643, 3.264854219838711, 4.267856462595155, 3.0061328856343277, 2.8138538136667592, 3.033574618011844, 3.2912213108221406, 3.4137848193786766, 3.046072873022723, 2.6147393365590883, 2.8911324806248757, 3.163147130350179, 2.836607103440439, 3.5123403860175073, 3.7178666225035077, 3.458104441656742, 2.8490091419944332, 3.8885250484479683, 3.039723852771753, 2.734664764115418, 2.720253767112751, 3.6796052861256086, 3.142857245729916, 3.2281101007298556, 2.909992892375789, 3.6464155359710086, 3.5420154543453855, 3.395578844683758, 3.742573862276262, 3.289562865538203, 2.9961914577595117, 2.9064504759485588, 3.063729998356256, 3.2587769584371564, 3.2767404704724656, 2.793283652487329, 3.74939888988007, 3.2805030057053552, 2.6002402142535304, 3.021035612242886, 3.0037368167546616, 2.8742167711532436, 2.7528413587905662, 2.985161040894491, 2.8302609498684212, 3.341821782426128, 3.5338332167333406, 3.328856807227515, 2.9600757288258692, 2.9831095977354947, 3.078330527135121, 3.7432306741919286, 3.2211246653729484, 3.220443080127503, 3.372581251575502, 3.259654398584581, 2.873574595870005, 4.210901347896323, 2.891815108464399, 2.8687364193080462, 3.295587204750393, 3.042169428215706, 3.3424669210919493, 3.0909002074353906, 4.15855604754571, 2.8250551591021638, 3.033096397494274, 2.5918317605179784, 2.90575178893117, 3.5938203773324973, 3.787604450142628], \"yaxis\": \"y\"}],                        {\"font\": {\"color\": \"black\", \"family\": \"Helvetica Neue, Helvetica, Arial, sans-serif\"}, \"legend\": {\"title\": {}, \"tracegroupgap\": 0, \"x\": 0.01, \"xanchor\": \"left\", \"y\": 0.99, \"yanchor\": \"top\"}, \"margin\": {\"t\": 60}, \"template\": {\"data\": {\"bar\": [{\"error_x\": {\"color\": \"#2a3f5f\"}, \"error_y\": {\"color\": \"#2a3f5f\"}, \"marker\": {\"line\": {\"color\": \"#E5ECF6\", \"width\": 0.5}}, \"type\": \"bar\"}], \"barpolar\": [{\"marker\": {\"line\": {\"color\": \"#E5ECF6\", \"width\": 0.5}}, \"type\": \"barpolar\"}], \"carpet\": [{\"aaxis\": {\"endlinecolor\": \"#2a3f5f\", \"gridcolor\": \"white\", \"linecolor\": \"white\", \"minorgridcolor\": \"white\", \"startlinecolor\": \"#2a3f5f\"}, \"baxis\": {\"endlinecolor\": \"#2a3f5f\", \"gridcolor\": \"white\", \"linecolor\": \"white\", \"minorgridcolor\": \"white\", \"startlinecolor\": \"#2a3f5f\"}, \"type\": \"carpet\"}], \"choropleth\": [{\"colorbar\": {\"outlinewidth\": 0, \"ticks\": \"\"}, \"type\": \"choropleth\"}], \"contour\": [{\"colorbar\": {\"outlinewidth\": 0, \"ticks\": \"\"}, \"colorscale\": [[0.0, \"#0d0887\"], [0.1111111111111111, \"#46039f\"], [0.2222222222222222, \"#7201a8\"], [0.3333333333333333, \"#9c179e\"], [0.4444444444444444, \"#bd3786\"], [0.5555555555555556, \"#d8576b\"], [0.6666666666666666, \"#ed7953\"], [0.7777777777777778, \"#fb9f3a\"], [0.8888888888888888, \"#fdca26\"], [1.0, \"#f0f921\"]], \"type\": \"contour\"}], \"contourcarpet\": [{\"colorbar\": {\"outlinewidth\": 0, \"ticks\": \"\"}, \"type\": \"contourcarpet\"}], \"heatmap\": [{\"colorbar\": {\"outlinewidth\": 0, \"ticks\": \"\"}, \"colorscale\": [[0.0, \"#0d0887\"], [0.1111111111111111, \"#46039f\"], [0.2222222222222222, \"#7201a8\"], [0.3333333333333333, \"#9c179e\"], [0.4444444444444444, \"#bd3786\"], [0.5555555555555556, \"#d8576b\"], [0.6666666666666666, \"#ed7953\"], [0.7777777777777778, \"#fb9f3a\"], [0.8888888888888888, \"#fdca26\"], [1.0, \"#f0f921\"]], \"type\": \"heatmap\"}], \"heatmapgl\": [{\"colorbar\": {\"outlinewidth\": 0, \"ticks\": \"\"}, \"colorscale\": [[0.0, \"#0d0887\"], [0.1111111111111111, \"#46039f\"], [0.2222222222222222, \"#7201a8\"], [0.3333333333333333, \"#9c179e\"], [0.4444444444444444, \"#bd3786\"], [0.5555555555555556, \"#d8576b\"], [0.6666666666666666, \"#ed7953\"], [0.7777777777777778, \"#fb9f3a\"], [0.8888888888888888, \"#fdca26\"], [1.0, \"#f0f921\"]], \"type\": \"heatmapgl\"}], \"histogram\": [{\"marker\": {\"colorbar\": {\"outlinewidth\": 0, \"ticks\": \"\"}}, \"type\": \"histogram\"}], \"histogram2d\": [{\"colorbar\": {\"outlinewidth\": 0, \"ticks\": \"\"}, \"colorscale\": [[0.0, \"#0d0887\"], [0.1111111111111111, \"#46039f\"], [0.2222222222222222, \"#7201a8\"], [0.3333333333333333, \"#9c179e\"], [0.4444444444444444, \"#bd3786\"], [0.5555555555555556, \"#d8576b\"], [0.6666666666666666, \"#ed7953\"], [0.7777777777777778, \"#fb9f3a\"], [0.8888888888888888, \"#fdca26\"], [1.0, \"#f0f921\"]], \"type\": \"histogram2d\"}], \"histogram2dcontour\": [{\"colorbar\": {\"outlinewidth\": 0, \"ticks\": \"\"}, \"colorscale\": [[0.0, \"#0d0887\"], [0.1111111111111111, \"#46039f\"], [0.2222222222222222, \"#7201a8\"], [0.3333333333333333, \"#9c179e\"], [0.4444444444444444, \"#bd3786\"], [0.5555555555555556, \"#d8576b\"], [0.6666666666666666, \"#ed7953\"], [0.7777777777777778, \"#fb9f3a\"], [0.8888888888888888, \"#fdca26\"], [1.0, \"#f0f921\"]], \"type\": \"histogram2dcontour\"}], \"mesh3d\": [{\"colorbar\": {\"outlinewidth\": 0, \"ticks\": \"\"}, \"type\": \"mesh3d\"}], \"parcoords\": [{\"line\": {\"colorbar\": {\"outlinewidth\": 0, \"ticks\": \"\"}}, \"type\": \"parcoords\"}], \"pie\": [{\"automargin\": true, \"type\": \"pie\"}], \"scatter\": [{\"marker\": {\"colorbar\": {\"outlinewidth\": 0, \"ticks\": \"\"}}, \"type\": \"scatter\"}], \"scatter3d\": [{\"line\": {\"colorbar\": {\"outlinewidth\": 0, \"ticks\": \"\"}}, \"marker\": {\"colorbar\": {\"outlinewidth\": 0, \"ticks\": \"\"}}, \"type\": \"scatter3d\"}], \"scattercarpet\": [{\"marker\": {\"colorbar\": {\"outlinewidth\": 0, \"ticks\": \"\"}}, \"type\": \"scattercarpet\"}], \"scattergeo\": [{\"marker\": {\"colorbar\": {\"outlinewidth\": 0, \"ticks\": \"\"}}, \"type\": \"scattergeo\"}], \"scattergl\": [{\"marker\": {\"colorbar\": {\"outlinewidth\": 0, \"ticks\": \"\"}}, \"type\": \"scattergl\"}], \"scattermapbox\": [{\"marker\": {\"colorbar\": {\"outlinewidth\": 0, \"ticks\": \"\"}}, \"type\": \"scattermapbox\"}], \"scatterpolar\": [{\"marker\": {\"colorbar\": {\"outlinewidth\": 0, \"ticks\": \"\"}}, \"type\": \"scatterpolar\"}], \"scatterpolargl\": [{\"marker\": {\"colorbar\": {\"outlinewidth\": 0, \"ticks\": \"\"}}, \"type\": \"scatterpolargl\"}], \"scatterternary\": [{\"marker\": {\"colorbar\": {\"outlinewidth\": 0, \"ticks\": \"\"}}, \"type\": \"scatterternary\"}], \"surface\": [{\"colorbar\": {\"outlinewidth\": 0, \"ticks\": \"\"}, \"colorscale\": [[0.0, \"#0d0887\"], [0.1111111111111111, \"#46039f\"], [0.2222222222222222, \"#7201a8\"], [0.3333333333333333, \"#9c179e\"], [0.4444444444444444, \"#bd3786\"], [0.5555555555555556, \"#d8576b\"], [0.6666666666666666, \"#ed7953\"], [0.7777777777777778, \"#fb9f3a\"], [0.8888888888888888, \"#fdca26\"], [1.0, \"#f0f921\"]], \"type\": \"surface\"}], \"table\": [{\"cells\": {\"fill\": {\"color\": \"#EBF0F8\"}, \"line\": {\"color\": \"white\"}}, \"header\": {\"fill\": {\"color\": \"#C8D4E3\"}, \"line\": {\"color\": \"white\"}}, \"type\": \"table\"}]}, \"layout\": {\"annotationdefaults\": {\"arrowcolor\": \"#2a3f5f\", \"arrowhead\": 0, \"arrowwidth\": 1}, \"autotypenumbers\": \"strict\", \"coloraxis\": {\"colorbar\": {\"outlinewidth\": 0, \"ticks\": \"\"}}, \"colorscale\": {\"diverging\": [[0, \"#8e0152\"], [0.1, \"#c51b7d\"], [0.2, \"#de77ae\"], [0.3, \"#f1b6da\"], [0.4, \"#fde0ef\"], [0.5, \"#f7f7f7\"], [0.6, \"#e6f5d0\"], [0.7, \"#b8e186\"], [0.8, \"#7fbc41\"], [0.9, \"#4d9221\"], [1, \"#276419\"]], \"sequential\": [[0.0, \"#0d0887\"], [0.1111111111111111, \"#46039f\"], [0.2222222222222222, \"#7201a8\"], [0.3333333333333333, \"#9c179e\"], [0.4444444444444444, \"#bd3786\"], [0.5555555555555556, \"#d8576b\"], [0.6666666666666666, \"#ed7953\"], [0.7777777777777778, \"#fb9f3a\"], [0.8888888888888888, \"#fdca26\"], [1.0, \"#f0f921\"]], \"sequentialminus\": [[0.0, \"#0d0887\"], [0.1111111111111111, \"#46039f\"], [0.2222222222222222, \"#7201a8\"], [0.3333333333333333, \"#9c179e\"], [0.4444444444444444, \"#bd3786\"], [0.5555555555555556, \"#d8576b\"], [0.6666666666666666, \"#ed7953\"], [0.7777777777777778, \"#fb9f3a\"], [0.8888888888888888, \"#fdca26\"], [1.0, \"#f0f921\"]]}, \"colorway\": [\"#636efa\", \"#EF553B\", \"#00cc96\", \"#ab63fa\", \"#FFA15A\", \"#19d3f3\", \"#FF6692\", \"#B6E880\", \"#FF97FF\", \"#FECB52\"], \"font\": {\"color\": \"#2a3f5f\"}, \"geo\": {\"bgcolor\": \"white\", \"lakecolor\": \"white\", \"landcolor\": \"#E5ECF6\", \"showlakes\": true, \"showland\": true, \"subunitcolor\": \"white\"}, \"hoverlabel\": {\"align\": \"left\"}, \"hovermode\": \"closest\", \"mapbox\": {\"style\": \"light\"}, \"paper_bgcolor\": \"white\", \"plot_bgcolor\": \"#E5ECF6\", \"polar\": {\"angularaxis\": {\"gridcolor\": \"white\", \"linecolor\": \"white\", \"ticks\": \"\"}, \"bgcolor\": \"#E5ECF6\", \"radialaxis\": {\"gridcolor\": \"white\", \"linecolor\": \"white\", \"ticks\": \"\"}}, \"scene\": {\"xaxis\": {\"backgroundcolor\": \"#E5ECF6\", \"gridcolor\": \"white\", \"gridwidth\": 2, \"linecolor\": \"white\", \"showbackground\": true, \"ticks\": \"\", \"zerolinecolor\": \"white\"}, \"yaxis\": {\"backgroundcolor\": \"#E5ECF6\", \"gridcolor\": \"white\", \"gridwidth\": 2, \"linecolor\": \"white\", \"showbackground\": true, \"ticks\": \"\", \"zerolinecolor\": \"white\"}, \"zaxis\": {\"backgroundcolor\": \"#E5ECF6\", \"gridcolor\": \"white\", \"gridwidth\": 2, \"linecolor\": \"white\", \"showbackground\": true, \"ticks\": \"\", \"zerolinecolor\": \"white\"}}, \"shapedefaults\": {\"line\": {\"color\": \"#2a3f5f\"}}, \"ternary\": {\"aaxis\": {\"gridcolor\": \"white\", \"linecolor\": \"white\", \"ticks\": \"\"}, \"baxis\": {\"gridcolor\": \"white\", \"linecolor\": \"white\", \"ticks\": \"\"}, \"bgcolor\": \"#E5ECF6\", \"caxis\": {\"gridcolor\": \"white\", \"linecolor\": \"white\", \"ticks\": \"\"}}, \"title\": {\"x\": 0.05}, \"xaxis\": {\"automargin\": true, \"gridcolor\": \"white\", \"linecolor\": \"white\", \"ticks\": \"\", \"title\": {\"standoff\": 15}, \"zerolinecolor\": \"white\", \"zerolinewidth\": 2}, \"yaxis\": {\"automargin\": true, \"gridcolor\": \"white\", \"linecolor\": \"white\", \"ticks\": \"\", \"title\": {\"standoff\": 15}, \"zerolinecolor\": \"white\", \"zerolinewidth\": 2}}}, \"title\": {\"text\": \"Model fit of Random Forest model\"}, \"xaxis\": {\"anchor\": \"y\", \"domain\": [0.0, 1.0], \"title\": {\"text\": \"measured data (sample)\"}}, \"yaxis\": {\"anchor\": \"x\", \"domain\": [0.0, 1.0], \"title\": {\"text\": \"fitted values (in sample fit)\"}}},                        {\"responsive\": true}                    ).then(function(){\n",
       "                            \n",
       "var gd = document.getElementById('e28704f5-b54f-4340-ba7c-1208ec102d15');\n",
       "var x = new MutationObserver(function (mutations, observer) {{\n",
       "        var display = window.getComputedStyle(gd).display;\n",
       "        if (!display || display === 'none') {{\n",
       "            console.log([gd, 'removed!']);\n",
       "            Plotly.purge(gd);\n",
       "            observer.disconnect();\n",
       "        }}\n",
       "}});\n",
       "\n",
       "// Listen for the removal of the full notebook cells\n",
       "var notebookContainer = gd.closest('#notebook-container');\n",
       "if (notebookContainer) {{\n",
       "    x.observe(notebookContainer, {childList: true});\n",
       "}}\n",
       "\n",
       "// Listen for the clearing of the current output cell\n",
       "var outputEl = gd.closest('.output');\n",
       "if (outputEl) {{\n",
       "    x.observe(outputEl, {childList: true});\n",
       "}}\n",
       "\n",
       "                        })                };                });            </script>        </div>"
      ]
     },
     "metadata": {},
     "output_type": "display_data"
    }
   ],
   "source": [
    "fig = px.scatter(df, x = \"meas\", y = \"pred\", color = \"split\", \n",
    "                 color_discrete_sequence=['#212c52','#75c3ff'])\n",
    "\n",
    "fig.update_layout(\n",
    "    font_family=\"Helvetica Neue, Helvetica, Arial, sans-serif\",\n",
    "    font_color=\"black\",\n",
    "    title = {'text':'Model fit of Random Forest model'},\n",
    "    xaxis_title = \"measured data (sample)\",\n",
    "    yaxis_title = \"fitted values (in sample fit)\",\n",
    "    #markersize= 12,\n",
    "  )\n",
    "fig.update_layout(legend=dict(\n",
    "    yanchor=\"top\",\n",
    "    title=None,\n",
    "    y=0.99,\n",
    "    xanchor=\"left\",\n",
    "    x=0.01\n",
    "))\n",
    "fig.update_traces(marker_size = 10)\n",
    "\n",
    "#['#75c3ff', \"red\"],#, marker_line_color='#212c52',\n",
    " #                 marker_line_width=1.5, opacity=1)\n",
    "\n"
   ]
  },
  {
   "cell_type": "code",
   "execution_count": 56,
   "id": "interpreted-howard",
   "metadata": {},
   "outputs": [
    {
     "data": {
      "application/vnd.plotly.v1+json": {
       "config": {
        "plotlyServerURL": "https://plot.ly"
       },
       "data": [
        {
         "hovertemplate": "split=out of sample<br>meas=%{x}<br>pred=%{y}<extra></extra>",
         "legendgroup": "out of sample",
         "marker": {
          "color": "#212c52",
          "size": 10,
          "symbol": "circle"
         },
         "mode": "markers",
         "name": "out of sample",
         "orientation": "v",
         "showlegend": true,
         "type": "scatter",
         "x": [
          3.380934463330702,
          2.574031267727719,
          3.244524511570084,
          2.6857417386022635,
          4.544068044350276,
          2.870403905279027,
          2.8750612633917,
          4.544068044350276,
          3.4459154139511234,
          2.399673721481038,
          4.544068044350276,
          2.9804578922761,
          4.544068044350276,
          3.5341530741850624,
          3.8516863154424277,
          3.3283796034387376,
          3.0773679052841563,
          3.1451964061141817,
          2.5477747053878224,
          2.3283796034387376,
          2.884795363948981,
          3.2853322276438846,
          2.6414741105040997,
          2.6334684555795866,
          2.3961993470957363,
          4.14188854970586,
          4.4428872189023485,
          4.028855809390444,
          4.374216605428374,
          2.893206753059848,
          2.9469432706978256,
          2.7589118923979736,
          2.494154594018443,
          1.7853298350107671,
          3.336859820916809,
          2.940516484932567,
          2.921166050637739,
          3.7019994748896368,
          4.544068044350276,
          3.2234959409623944,
          3.024074987307426,
          2.710963118995276,
          2.598790506763115,
          3.1051694279993316,
          3.0318122713303706,
          3.274619619091238,
          3.2643455070500926,
          2.747411807886423,
          2.893206753059848,
          3.9563125308411946,
          2.910624404889201,
          3.037027879755775,
          2.4899584794248346,
          2.4899584794248346,
          4.374216605428374,
          4.14188854970586,
          3.1228709228644354,
          4.544068044350276,
          3.003029470553618,
          3.119585774961784,
          3.2543063323312857,
          3.4214393902200495,
          2.727541257028556,
          4.544068044350276,
          2.591064607026499,
          2.041392685158225,
          2.403120521175818,
          2.3324384599156054,
          3.1684974835230326,
          2.0969100130080562,
          2.8432327780980096,
          2.6148972160331345,
          3.584670384464349,
          3.336859820916809,
          3.7567881987681178
         ],
         "xaxis": "x",
         "y": [
          3.3191549152489817,
          3.0408957461400097,
          3.2439506698133083,
          2.9413655629532314,
          3.147129764937786,
          2.6062903816071405,
          3.0103596052809327,
          3.9097886873433523,
          3.4239135665032507,
          2.841400157074167,
          3.3132115569692626,
          3.3447676173764025,
          3.9614354454345047,
          3.079275201193001,
          3.9335681394777384,
          3.399482766261804,
          3.7330205418962925,
          3.1180309574834753,
          2.9613799220465626,
          2.82188643648231,
          4.01861554605825,
          3.1987861196635183,
          3.092416696930201,
          3.32467226952526,
          2.9889690344195214,
          3.3901479473075704,
          4.046460792162254,
          3.832768015257285,
          3.8385978964104015,
          3.146447079773547,
          3.501647989674604,
          3.215021971848289,
          2.8010963402585447,
          2.8799318617416003,
          3.0870836364247225,
          2.905262414994397,
          3.270486223663744,
          3.2224907010844914,
          4.184362477575473,
          3.5829355360656137,
          3.4031517498709096,
          2.960777918915838,
          2.8010986187039504,
          4.024536194786935,
          2.8039708729677604,
          3.208242607019954,
          3.290383448260712,
          2.976811087004522,
          3.1269428185106682,
          3.446496376132458,
          3.0006609826668953,
          2.8111161710177215,
          2.981251283703668,
          2.8822005324912787,
          4.133129358993278,
          3.1761436126814067,
          3.5000399168308594,
          3.406826290426457,
          2.8180320094892797,
          3.0423381830181224,
          2.8316230250302667,
          3.291061042898619,
          2.8819988909809853,
          3.1179145055566977,
          2.804334172495875,
          2.6302225562500525,
          3.1389039484265475,
          2.7902919765869765,
          3.6636280884753605,
          2.780407393970463,
          2.8226153985425504,
          3.00654987140572,
          3.1774039534959475,
          3.419468947138573,
          2.8265629333347047
         ],
         "yaxis": "y"
        },
        {
         "hovertemplate": "split=in sample<br>meas=%{x}<br>pred=%{y}<extra></extra>",
         "legendgroup": "in sample",
         "marker": {
          "color": "#75c3ff",
          "size": 10,
          "symbol": "circle"
         },
         "mode": "markers",
         "name": "in sample",
         "orientation": "v",
         "showlegend": true,
         "type": "scatter",
         "x": [
          2.494154594018443,
          3.2143138974244,
          2.7234556720351857,
          2.681241237375587,
          3.083860800866573,
          3.4216039268698313,
          4.544068044350276,
          2.2068258760318495,
          4.4428872189023485,
          3.2345172835126865,
          2.503790683057181,
          3.0881360887005513,
          4.544068044350276,
          3.1950689964685903,
          2.656098202012832,
          2.815577748324267,
          3.019116290447073,
          2.369215857410143,
          4.544068044350276,
          3.470704429722788,
          2.637489729512511,
          2.2528530309798933,
          3.6769678142947586,
          4.028855809390444,
          4.069298012115529,
          3.549371152333177,
          2.6893088591236203,
          2.4578818967339924,
          2.403120521175818,
          2.7589118923979736,
          2.369215857410143,
          3.7285161047597666,
          2.8344207036815328,
          2.94546858513182,
          2.637489729512511,
          2.82020145948564,
          3.336859820916809,
          3.4933186082321015,
          4.544068044350276,
          2.586587304671755,
          3.2143138974244,
          3.317854489331469,
          2.6857417386022635,
          3.244524511570084,
          3.059941888061955,
          3.17868923977559,
          3.7019994748896368,
          3.380934463330702,
          2.5943925503754266,
          2.155336037465062,
          2.3654879848909,
          2.9916690073799486,
          3.0773679052841563,
          3.3881012015705165,
          3.0729847446279304,
          2.940516484932567,
          2.7315887651867388,
          2.9800033715837464,
          3.1300119496719043,
          3.253580289562183,
          4.544068044350276,
          2.5943925503754266,
          3.2068258760318495,
          2.9508514588885464,
          2.4899584794248346,
          3.7567881987681178,
          3.1743505974793798,
          2.8524799936368566,
          2.6599162000698504,
          3.584670384464349,
          4.544068044350276,
          3.0538464268522527,
          3.025715383901341,
          2.824776462475546,
          3.380934463330702,
          2.747411807886423,
          4.374216605428374,
          3.3925210899319325,
          3.6534054906645013,
          3.296665190261531,
          2.7589118923979736,
          3.003029470553618,
          2.5403294747908736,
          2.900913067737669,
          3.885530833188092,
          3.1089031276673134,
          2.2068258760318495,
          4.268648164671602,
          2.5211380837040362,
          4.544068044350276,
          3.7023443583557687,
          2.663700925389648,
          2.6180480967120925,
          3.7480328941301435,
          3.1826999033360424,
          2.4313637641589874,
          2.6414741105040997,
          3.3283796034387376,
          3.143327129992046,
          2.290034611362518,
          3.2245330626060857,
          2.7193312869837265,
          2.806179973983887,
          3.274388795550379,
          3.044539760392411,
          4.317958924700952,
          3.520483532740792,
          2.5440680443502757,
          3.2538224387080734,
          3.0199466816788423,
          3.330413773349191,
          3.166133970305109,
          2.5477747053878224,
          2.663700925389648,
          3.0492180226701815,
          2.494154594018443,
          3.4216039268698313,
          3.519302849235429,
          3.9205928620848085,
          2.3324384599156054,
          3.885530833188092,
          2.8573324964312685,
          2.2528530309798933,
          2.403120521175818,
          4.374216605428374,
          2.9628426812012423,
          3.7866804531966487,
          2.7737864449811935,
          4.317958924700952,
          3.7480328941301435,
          3.274850320016665,
          4.544068044350276,
          3.7285161047597666,
          2.8750612633917,
          3.2095150145426308,
          3.2038484637462346,
          3.2643455070500926,
          3.3492775274679554,
          2.5477747053878224,
          4.544068044350276,
          3.307282047033346,
          2.247973266361807,
          3.3546845539547285,
          2.7781512503836434,
          2.4899584794248346,
          2.6857417386022635,
          2.6893088591236203,
          2.7972675408307164,
          3.274388795550379,
          4.544068044350276,
          3.7019994748896368,
          2.7867514221455614,
          3.2038484637462346,
          3.1743505974793798,
          4.544068044350276,
          3.520483532740792,
          3.0145205387579237,
          3.163757523981956,
          3.4214393902200495,
          2.53655844257153,
          4.374216605428374,
          2.938519725176492,
          2.870403905279027,
          3.1950689964685903,
          2.574031267727719,
          3.7019994748896368,
          2.9858753573083936,
          4.103358939866562,
          2.5477747053878224,
          2.3283796034387376,
          2.428134794028789,
          2.94546858513182,
          3.7866804531966487,
          4.223755453657241
         ],
         "xaxis": "x",
         "y": [
          2.9448526746676746,
          3.626287224379872,
          2.979349672914118,
          2.7816954104012996,
          2.8446274521859127,
          3.277504057056999,
          4.216285070966148,
          2.845257915931657,
          3.8963971422255765,
          3.220442815333807,
          2.746552569095926,
          2.8803291158884794,
          3.473873210416201,
          3.332027661724005,
          3.193001074276671,
          3.225382607563041,
          2.825021192856828,
          2.8242619300549667,
          4.220025201970759,
          2.929545790004214,
          2.774891082907176,
          2.770875007161716,
          3.1986084362183407,
          4.021358515505752,
          3.1540033088841817,
          3.336282706573966,
          2.91824398723206,
          2.77319154488126,
          2.8925186176983324,
          3.2125543010095914,
          2.802227935184176,
          3.392112277620993,
          2.8944929445766703,
          2.9008830861417296,
          2.6114583399900466,
          3.1947796046274033,
          3.134582950520936,
          3.31752526596383,
          3.6335799486622244,
          3.019570255192065,
          3.140528174522201,
          3.2698126610252967,
          2.865582062627869,
          3.334069642718012,
          2.9476850516529067,
          3.2294838046640133,
          3.3595164344626425,
          3.501717026815589,
          2.9215080186363043,
          2.7678136141583654,
          2.9395380775169753,
          3.0483962349268383,
          3.1992001841695337,
          3.299886088074297,
          2.887280685804904,
          2.8422193150650132,
          2.838281358231323,
          3.309322050939977,
          3.1964220130191614,
          3.1002637534168525,
          4.009675008795961,
          3.004480766346628,
          3.3030430790139933,
          2.88112171831964,
          2.783246553383208,
          3.1153533973474117,
          2.9213235746247257,
          3.1927506598906423,
          2.847132631328668,
          3.193906608946977,
          4.362091704719546,
          3.1990581498387525,
          3.0527493798116425,
          3.2835101106514584,
          3.4544952781840563,
          2.78536467294488,
          3.691787554322102,
          3.395541873525776,
          3.5250326154011047,
          3.138781257442389,
          2.877447422766419,
          2.9174992874028045,
          2.9625993221579234,
          3.229694114828392,
          3.109498915525139,
          3.2443435374933993,
          2.6246842018886793,
          3.442134979695429,
          2.853658648531453,
          3.967675821925383,
          3.46079637048503,
          3.107512937447023,
          3.1051696828577446,
          3.2387632102440183,
          3.3909980023871005,
          2.911932475917208,
          2.9101021980218893,
          3.4351847348978826,
          3.0948558397436465,
          2.865864098839321,
          3.390390142700144,
          2.870362030823657,
          3.0013403273653227,
          3.2806337443276643,
          3.264854219838711,
          4.267856462595155,
          3.0061328856343277,
          2.8138538136667592,
          3.033574618011844,
          3.2912213108221406,
          3.4137848193786766,
          3.046072873022723,
          2.6147393365590883,
          2.8911324806248757,
          3.163147130350179,
          2.836607103440439,
          3.5123403860175073,
          3.7178666225035077,
          3.458104441656742,
          2.8490091419944332,
          3.8885250484479683,
          3.039723852771753,
          2.734664764115418,
          2.720253767112751,
          3.6796052861256086,
          3.142857245729916,
          3.2281101007298556,
          2.909992892375789,
          3.6464155359710086,
          3.5420154543453855,
          3.395578844683758,
          3.742573862276262,
          3.289562865538203,
          2.9961914577595117,
          2.9064504759485588,
          3.063729998356256,
          3.2587769584371564,
          3.2767404704724656,
          2.793283652487329,
          3.74939888988007,
          3.2805030057053552,
          2.6002402142535304,
          3.021035612242886,
          3.0037368167546616,
          2.8742167711532436,
          2.7528413587905662,
          2.985161040894491,
          2.8302609498684212,
          3.341821782426128,
          3.5338332167333406,
          3.328856807227515,
          2.9600757288258692,
          2.9831095977354947,
          3.078330527135121,
          3.7432306741919286,
          3.2211246653729484,
          3.220443080127503,
          3.372581251575502,
          3.259654398584581,
          2.873574595870005,
          4.210901347896323,
          2.891815108464399,
          2.8687364193080462,
          3.295587204750393,
          3.042169428215706,
          3.3424669210919493,
          3.0909002074353906,
          4.15855604754571,
          2.8250551591021638,
          3.033096397494274,
          2.5918317605179784,
          2.90575178893117,
          3.5938203773324973,
          3.787604450142628
         ],
         "yaxis": "y"
        }
       ],
       "layout": {
        "font": {
         "color": "black",
         "family": "Helvetica Neue, Helvetica, Arial, sans-serif"
        },
        "legend": {
         "title": {},
         "tracegroupgap": 0,
         "x": 0.01,
         "xanchor": "left",
         "y": 0.99,
         "yanchor": "top"
        },
        "margin": {
         "t": 60
        },
        "template": {
         "data": {
          "bar": [
           {
            "error_x": {
             "color": "#2a3f5f"
            },
            "error_y": {
             "color": "#2a3f5f"
            },
            "marker": {
             "line": {
              "color": "#E5ECF6",
              "width": 0.5
             }
            },
            "type": "bar"
           }
          ],
          "barpolar": [
           {
            "marker": {
             "line": {
              "color": "#E5ECF6",
              "width": 0.5
             }
            },
            "type": "barpolar"
           }
          ],
          "carpet": [
           {
            "aaxis": {
             "endlinecolor": "#2a3f5f",
             "gridcolor": "white",
             "linecolor": "white",
             "minorgridcolor": "white",
             "startlinecolor": "#2a3f5f"
            },
            "baxis": {
             "endlinecolor": "#2a3f5f",
             "gridcolor": "white",
             "linecolor": "white",
             "minorgridcolor": "white",
             "startlinecolor": "#2a3f5f"
            },
            "type": "carpet"
           }
          ],
          "choropleth": [
           {
            "colorbar": {
             "outlinewidth": 0,
             "ticks": ""
            },
            "type": "choropleth"
           }
          ],
          "contour": [
           {
            "colorbar": {
             "outlinewidth": 0,
             "ticks": ""
            },
            "colorscale": [
             [
              0,
              "#0d0887"
             ],
             [
              0.1111111111111111,
              "#46039f"
             ],
             [
              0.2222222222222222,
              "#7201a8"
             ],
             [
              0.3333333333333333,
              "#9c179e"
             ],
             [
              0.4444444444444444,
              "#bd3786"
             ],
             [
              0.5555555555555556,
              "#d8576b"
             ],
             [
              0.6666666666666666,
              "#ed7953"
             ],
             [
              0.7777777777777778,
              "#fb9f3a"
             ],
             [
              0.8888888888888888,
              "#fdca26"
             ],
             [
              1,
              "#f0f921"
             ]
            ],
            "type": "contour"
           }
          ],
          "contourcarpet": [
           {
            "colorbar": {
             "outlinewidth": 0,
             "ticks": ""
            },
            "type": "contourcarpet"
           }
          ],
          "heatmap": [
           {
            "colorbar": {
             "outlinewidth": 0,
             "ticks": ""
            },
            "colorscale": [
             [
              0,
              "#0d0887"
             ],
             [
              0.1111111111111111,
              "#46039f"
             ],
             [
              0.2222222222222222,
              "#7201a8"
             ],
             [
              0.3333333333333333,
              "#9c179e"
             ],
             [
              0.4444444444444444,
              "#bd3786"
             ],
             [
              0.5555555555555556,
              "#d8576b"
             ],
             [
              0.6666666666666666,
              "#ed7953"
             ],
             [
              0.7777777777777778,
              "#fb9f3a"
             ],
             [
              0.8888888888888888,
              "#fdca26"
             ],
             [
              1,
              "#f0f921"
             ]
            ],
            "type": "heatmap"
           }
          ],
          "heatmapgl": [
           {
            "colorbar": {
             "outlinewidth": 0,
             "ticks": ""
            },
            "colorscale": [
             [
              0,
              "#0d0887"
             ],
             [
              0.1111111111111111,
              "#46039f"
             ],
             [
              0.2222222222222222,
              "#7201a8"
             ],
             [
              0.3333333333333333,
              "#9c179e"
             ],
             [
              0.4444444444444444,
              "#bd3786"
             ],
             [
              0.5555555555555556,
              "#d8576b"
             ],
             [
              0.6666666666666666,
              "#ed7953"
             ],
             [
              0.7777777777777778,
              "#fb9f3a"
             ],
             [
              0.8888888888888888,
              "#fdca26"
             ],
             [
              1,
              "#f0f921"
             ]
            ],
            "type": "heatmapgl"
           }
          ],
          "histogram": [
           {
            "marker": {
             "colorbar": {
              "outlinewidth": 0,
              "ticks": ""
             }
            },
            "type": "histogram"
           }
          ],
          "histogram2d": [
           {
            "colorbar": {
             "outlinewidth": 0,
             "ticks": ""
            },
            "colorscale": [
             [
              0,
              "#0d0887"
             ],
             [
              0.1111111111111111,
              "#46039f"
             ],
             [
              0.2222222222222222,
              "#7201a8"
             ],
             [
              0.3333333333333333,
              "#9c179e"
             ],
             [
              0.4444444444444444,
              "#bd3786"
             ],
             [
              0.5555555555555556,
              "#d8576b"
             ],
             [
              0.6666666666666666,
              "#ed7953"
             ],
             [
              0.7777777777777778,
              "#fb9f3a"
             ],
             [
              0.8888888888888888,
              "#fdca26"
             ],
             [
              1,
              "#f0f921"
             ]
            ],
            "type": "histogram2d"
           }
          ],
          "histogram2dcontour": [
           {
            "colorbar": {
             "outlinewidth": 0,
             "ticks": ""
            },
            "colorscale": [
             [
              0,
              "#0d0887"
             ],
             [
              0.1111111111111111,
              "#46039f"
             ],
             [
              0.2222222222222222,
              "#7201a8"
             ],
             [
              0.3333333333333333,
              "#9c179e"
             ],
             [
              0.4444444444444444,
              "#bd3786"
             ],
             [
              0.5555555555555556,
              "#d8576b"
             ],
             [
              0.6666666666666666,
              "#ed7953"
             ],
             [
              0.7777777777777778,
              "#fb9f3a"
             ],
             [
              0.8888888888888888,
              "#fdca26"
             ],
             [
              1,
              "#f0f921"
             ]
            ],
            "type": "histogram2dcontour"
           }
          ],
          "mesh3d": [
           {
            "colorbar": {
             "outlinewidth": 0,
             "ticks": ""
            },
            "type": "mesh3d"
           }
          ],
          "parcoords": [
           {
            "line": {
             "colorbar": {
              "outlinewidth": 0,
              "ticks": ""
             }
            },
            "type": "parcoords"
           }
          ],
          "pie": [
           {
            "automargin": true,
            "type": "pie"
           }
          ],
          "scatter": [
           {
            "marker": {
             "colorbar": {
              "outlinewidth": 0,
              "ticks": ""
             }
            },
            "type": "scatter"
           }
          ],
          "scatter3d": [
           {
            "line": {
             "colorbar": {
              "outlinewidth": 0,
              "ticks": ""
             }
            },
            "marker": {
             "colorbar": {
              "outlinewidth": 0,
              "ticks": ""
             }
            },
            "type": "scatter3d"
           }
          ],
          "scattercarpet": [
           {
            "marker": {
             "colorbar": {
              "outlinewidth": 0,
              "ticks": ""
             }
            },
            "type": "scattercarpet"
           }
          ],
          "scattergeo": [
           {
            "marker": {
             "colorbar": {
              "outlinewidth": 0,
              "ticks": ""
             }
            },
            "type": "scattergeo"
           }
          ],
          "scattergl": [
           {
            "marker": {
             "colorbar": {
              "outlinewidth": 0,
              "ticks": ""
             }
            },
            "type": "scattergl"
           }
          ],
          "scattermapbox": [
           {
            "marker": {
             "colorbar": {
              "outlinewidth": 0,
              "ticks": ""
             }
            },
            "type": "scattermapbox"
           }
          ],
          "scatterpolar": [
           {
            "marker": {
             "colorbar": {
              "outlinewidth": 0,
              "ticks": ""
             }
            },
            "type": "scatterpolar"
           }
          ],
          "scatterpolargl": [
           {
            "marker": {
             "colorbar": {
              "outlinewidth": 0,
              "ticks": ""
             }
            },
            "type": "scatterpolargl"
           }
          ],
          "scatterternary": [
           {
            "marker": {
             "colorbar": {
              "outlinewidth": 0,
              "ticks": ""
             }
            },
            "type": "scatterternary"
           }
          ],
          "surface": [
           {
            "colorbar": {
             "outlinewidth": 0,
             "ticks": ""
            },
            "colorscale": [
             [
              0,
              "#0d0887"
             ],
             [
              0.1111111111111111,
              "#46039f"
             ],
             [
              0.2222222222222222,
              "#7201a8"
             ],
             [
              0.3333333333333333,
              "#9c179e"
             ],
             [
              0.4444444444444444,
              "#bd3786"
             ],
             [
              0.5555555555555556,
              "#d8576b"
             ],
             [
              0.6666666666666666,
              "#ed7953"
             ],
             [
              0.7777777777777778,
              "#fb9f3a"
             ],
             [
              0.8888888888888888,
              "#fdca26"
             ],
             [
              1,
              "#f0f921"
             ]
            ],
            "type": "surface"
           }
          ],
          "table": [
           {
            "cells": {
             "fill": {
              "color": "#EBF0F8"
             },
             "line": {
              "color": "white"
             }
            },
            "header": {
             "fill": {
              "color": "#C8D4E3"
             },
             "line": {
              "color": "white"
             }
            },
            "type": "table"
           }
          ]
         },
         "layout": {
          "annotationdefaults": {
           "arrowcolor": "#2a3f5f",
           "arrowhead": 0,
           "arrowwidth": 1
          },
          "autotypenumbers": "strict",
          "coloraxis": {
           "colorbar": {
            "outlinewidth": 0,
            "ticks": ""
           }
          },
          "colorscale": {
           "diverging": [
            [
             0,
             "#8e0152"
            ],
            [
             0.1,
             "#c51b7d"
            ],
            [
             0.2,
             "#de77ae"
            ],
            [
             0.3,
             "#f1b6da"
            ],
            [
             0.4,
             "#fde0ef"
            ],
            [
             0.5,
             "#f7f7f7"
            ],
            [
             0.6,
             "#e6f5d0"
            ],
            [
             0.7,
             "#b8e186"
            ],
            [
             0.8,
             "#7fbc41"
            ],
            [
             0.9,
             "#4d9221"
            ],
            [
             1,
             "#276419"
            ]
           ],
           "sequential": [
            [
             0,
             "#0d0887"
            ],
            [
             0.1111111111111111,
             "#46039f"
            ],
            [
             0.2222222222222222,
             "#7201a8"
            ],
            [
             0.3333333333333333,
             "#9c179e"
            ],
            [
             0.4444444444444444,
             "#bd3786"
            ],
            [
             0.5555555555555556,
             "#d8576b"
            ],
            [
             0.6666666666666666,
             "#ed7953"
            ],
            [
             0.7777777777777778,
             "#fb9f3a"
            ],
            [
             0.8888888888888888,
             "#fdca26"
            ],
            [
             1,
             "#f0f921"
            ]
           ],
           "sequentialminus": [
            [
             0,
             "#0d0887"
            ],
            [
             0.1111111111111111,
             "#46039f"
            ],
            [
             0.2222222222222222,
             "#7201a8"
            ],
            [
             0.3333333333333333,
             "#9c179e"
            ],
            [
             0.4444444444444444,
             "#bd3786"
            ],
            [
             0.5555555555555556,
             "#d8576b"
            ],
            [
             0.6666666666666666,
             "#ed7953"
            ],
            [
             0.7777777777777778,
             "#fb9f3a"
            ],
            [
             0.8888888888888888,
             "#fdca26"
            ],
            [
             1,
             "#f0f921"
            ]
           ]
          },
          "colorway": [
           "#636efa",
           "#EF553B",
           "#00cc96",
           "#ab63fa",
           "#FFA15A",
           "#19d3f3",
           "#FF6692",
           "#B6E880",
           "#FF97FF",
           "#FECB52"
          ],
          "font": {
           "color": "#2a3f5f"
          },
          "geo": {
           "bgcolor": "white",
           "lakecolor": "white",
           "landcolor": "#E5ECF6",
           "showlakes": true,
           "showland": true,
           "subunitcolor": "white"
          },
          "hoverlabel": {
           "align": "left"
          },
          "hovermode": "closest",
          "mapbox": {
           "style": "light"
          },
          "paper_bgcolor": "white",
          "plot_bgcolor": "#E5ECF6",
          "polar": {
           "angularaxis": {
            "gridcolor": "white",
            "linecolor": "white",
            "ticks": ""
           },
           "bgcolor": "#E5ECF6",
           "radialaxis": {
            "gridcolor": "white",
            "linecolor": "white",
            "ticks": ""
           }
          },
          "scene": {
           "xaxis": {
            "backgroundcolor": "#E5ECF6",
            "gridcolor": "white",
            "gridwidth": 2,
            "linecolor": "white",
            "showbackground": true,
            "ticks": "",
            "zerolinecolor": "white"
           },
           "yaxis": {
            "backgroundcolor": "#E5ECF6",
            "gridcolor": "white",
            "gridwidth": 2,
            "linecolor": "white",
            "showbackground": true,
            "ticks": "",
            "zerolinecolor": "white"
           },
           "zaxis": {
            "backgroundcolor": "#E5ECF6",
            "gridcolor": "white",
            "gridwidth": 2,
            "linecolor": "white",
            "showbackground": true,
            "ticks": "",
            "zerolinecolor": "white"
           }
          },
          "shapedefaults": {
           "line": {
            "color": "#2a3f5f"
           }
          },
          "ternary": {
           "aaxis": {
            "gridcolor": "white",
            "linecolor": "white",
            "ticks": ""
           },
           "baxis": {
            "gridcolor": "white",
            "linecolor": "white",
            "ticks": ""
           },
           "bgcolor": "#E5ECF6",
           "caxis": {
            "gridcolor": "white",
            "linecolor": "white",
            "ticks": ""
           }
          },
          "title": {
           "x": 0.05
          },
          "xaxis": {
           "automargin": true,
           "gridcolor": "white",
           "linecolor": "white",
           "ticks": "",
           "title": {
            "standoff": 15
           },
           "zerolinecolor": "white",
           "zerolinewidth": 2
          },
          "yaxis": {
           "automargin": true,
           "gridcolor": "white",
           "linecolor": "white",
           "ticks": "",
           "title": {
            "standoff": 15
           },
           "zerolinecolor": "white",
           "zerolinewidth": 2
          }
         }
        },
        "title": {
         "text": "Model fit of Random Forest model"
        },
        "xaxis": {
         "anchor": "y",
         "domain": [
          0,
          1
         ],
         "title": {
          "text": "measured data (sample)"
         }
        },
        "yaxis": {
         "anchor": "x",
         "domain": [
          0,
          1
         ],
         "title": {
          "text": "fitted values (in sample fit)"
         }
        }
       }
      },
      "text/html": [
       "<div>                            <div id=\"3f278045-31b2-4167-afb2-3124c90aacbd\" class=\"plotly-graph-div\" style=\"height:525px; width:100%;\"></div>            <script type=\"text/javascript\">                require([\"plotly\"], function(Plotly) {                    window.PLOTLYENV=window.PLOTLYENV || {};                                    if (document.getElementById(\"3f278045-31b2-4167-afb2-3124c90aacbd\")) {                    Plotly.newPlot(                        \"3f278045-31b2-4167-afb2-3124c90aacbd\",                        [{\"hovertemplate\": \"split=out of sample<br>meas=%{x}<br>pred=%{y}<extra></extra>\", \"legendgroup\": \"out of sample\", \"marker\": {\"color\": \"#212c52\", \"size\": 10, \"symbol\": \"circle\"}, \"mode\": \"markers\", \"name\": \"out of sample\", \"orientation\": \"v\", \"showlegend\": true, \"type\": \"scatter\", \"x\": [3.380934463330702, 2.574031267727719, 3.244524511570084, 2.6857417386022635, 4.544068044350276, 2.870403905279027, 2.8750612633917, 4.544068044350276, 3.4459154139511234, 2.399673721481038, 4.544068044350276, 2.9804578922761, 4.544068044350276, 3.5341530741850624, 3.8516863154424277, 3.3283796034387376, 3.0773679052841563, 3.1451964061141817, 2.5477747053878224, 2.3283796034387376, 2.884795363948981, 3.2853322276438846, 2.6414741105040997, 2.6334684555795866, 2.3961993470957363, 4.14188854970586, 4.4428872189023485, 4.028855809390444, 4.374216605428374, 2.893206753059848, 2.9469432706978256, 2.7589118923979736, 2.494154594018443, 1.7853298350107671, 3.336859820916809, 2.940516484932567, 2.921166050637739, 3.7019994748896368, 4.544068044350276, 3.2234959409623944, 3.024074987307426, 2.710963118995276, 2.598790506763115, 3.1051694279993316, 3.0318122713303706, 3.274619619091238, 3.2643455070500926, 2.747411807886423, 2.893206753059848, 3.9563125308411946, 2.910624404889201, 3.037027879755775, 2.4899584794248346, 2.4899584794248346, 4.374216605428374, 4.14188854970586, 3.1228709228644354, 4.544068044350276, 3.003029470553618, 3.119585774961784, 3.2543063323312857, 3.4214393902200495, 2.727541257028556, 4.544068044350276, 2.591064607026499, 2.041392685158225, 2.403120521175818, 2.3324384599156054, 3.1684974835230326, 2.0969100130080562, 2.8432327780980096, 2.6148972160331345, 3.584670384464349, 3.336859820916809, 3.7567881987681178], \"xaxis\": \"x\", \"y\": [3.3191549152489817, 3.0408957461400097, 3.2439506698133083, 2.9413655629532314, 3.147129764937786, 2.6062903816071405, 3.0103596052809327, 3.9097886873433523, 3.4239135665032507, 2.841400157074167, 3.3132115569692626, 3.3447676173764025, 3.9614354454345047, 3.079275201193001, 3.9335681394777384, 3.399482766261804, 3.7330205418962925, 3.1180309574834753, 2.9613799220465626, 2.82188643648231, 4.01861554605825, 3.1987861196635183, 3.092416696930201, 3.32467226952526, 2.9889690344195214, 3.3901479473075704, 4.046460792162254, 3.832768015257285, 3.8385978964104015, 3.146447079773547, 3.501647989674604, 3.215021971848289, 2.8010963402585447, 2.8799318617416003, 3.0870836364247225, 2.905262414994397, 3.270486223663744, 3.2224907010844914, 4.184362477575473, 3.5829355360656137, 3.4031517498709096, 2.960777918915838, 2.8010986187039504, 4.024536194786935, 2.8039708729677604, 3.208242607019954, 3.290383448260712, 2.976811087004522, 3.1269428185106682, 3.446496376132458, 3.0006609826668953, 2.8111161710177215, 2.981251283703668, 2.8822005324912787, 4.133129358993278, 3.1761436126814067, 3.5000399168308594, 3.406826290426457, 2.8180320094892797, 3.0423381830181224, 2.8316230250302667, 3.291061042898619, 2.8819988909809853, 3.1179145055566977, 2.804334172495875, 2.6302225562500525, 3.1389039484265475, 2.7902919765869765, 3.6636280884753605, 2.780407393970463, 2.8226153985425504, 3.00654987140572, 3.1774039534959475, 3.419468947138573, 2.8265629333347047], \"yaxis\": \"y\"}, {\"hovertemplate\": \"split=in sample<br>meas=%{x}<br>pred=%{y}<extra></extra>\", \"legendgroup\": \"in sample\", \"marker\": {\"color\": \"#75c3ff\", \"size\": 10, \"symbol\": \"circle\"}, \"mode\": \"markers\", \"name\": \"in sample\", \"orientation\": \"v\", \"showlegend\": true, \"type\": \"scatter\", \"x\": [2.494154594018443, 3.2143138974244, 2.7234556720351857, 2.681241237375587, 3.083860800866573, 3.4216039268698313, 4.544068044350276, 2.2068258760318495, 4.4428872189023485, 3.2345172835126865, 2.503790683057181, 3.0881360887005513, 4.544068044350276, 3.1950689964685903, 2.656098202012832, 2.815577748324267, 3.019116290447073, 2.369215857410143, 4.544068044350276, 3.470704429722788, 2.637489729512511, 2.2528530309798933, 3.6769678142947586, 4.028855809390444, 4.069298012115529, 3.549371152333177, 2.6893088591236203, 2.4578818967339924, 2.403120521175818, 2.7589118923979736, 2.369215857410143, 3.7285161047597666, 2.8344207036815328, 2.94546858513182, 2.637489729512511, 2.82020145948564, 3.336859820916809, 3.4933186082321015, 4.544068044350276, 2.586587304671755, 3.2143138974244, 3.317854489331469, 2.6857417386022635, 3.244524511570084, 3.059941888061955, 3.17868923977559, 3.7019994748896368, 3.380934463330702, 2.5943925503754266, 2.155336037465062, 2.3654879848909, 2.9916690073799486, 3.0773679052841563, 3.3881012015705165, 3.0729847446279304, 2.940516484932567, 2.7315887651867388, 2.9800033715837464, 3.1300119496719043, 3.253580289562183, 4.544068044350276, 2.5943925503754266, 3.2068258760318495, 2.9508514588885464, 2.4899584794248346, 3.7567881987681178, 3.1743505974793798, 2.8524799936368566, 2.6599162000698504, 3.584670384464349, 4.544068044350276, 3.0538464268522527, 3.025715383901341, 2.824776462475546, 3.380934463330702, 2.747411807886423, 4.374216605428374, 3.3925210899319325, 3.6534054906645013, 3.296665190261531, 2.7589118923979736, 3.003029470553618, 2.5403294747908736, 2.900913067737669, 3.885530833188092, 3.1089031276673134, 2.2068258760318495, 4.268648164671602, 2.5211380837040362, 4.544068044350276, 3.7023443583557687, 2.663700925389648, 2.6180480967120925, 3.7480328941301435, 3.1826999033360424, 2.4313637641589874, 2.6414741105040997, 3.3283796034387376, 3.143327129992046, 2.290034611362518, 3.2245330626060857, 2.7193312869837265, 2.806179973983887, 3.274388795550379, 3.044539760392411, 4.317958924700952, 3.520483532740792, 2.5440680443502757, 3.2538224387080734, 3.0199466816788423, 3.330413773349191, 3.166133970305109, 2.5477747053878224, 2.663700925389648, 3.0492180226701815, 2.494154594018443, 3.4216039268698313, 3.519302849235429, 3.9205928620848085, 2.3324384599156054, 3.885530833188092, 2.8573324964312685, 2.2528530309798933, 2.403120521175818, 4.374216605428374, 2.9628426812012423, 3.7866804531966487, 2.7737864449811935, 4.317958924700952, 3.7480328941301435, 3.274850320016665, 4.544068044350276, 3.7285161047597666, 2.8750612633917, 3.2095150145426308, 3.2038484637462346, 3.2643455070500926, 3.3492775274679554, 2.5477747053878224, 4.544068044350276, 3.307282047033346, 2.247973266361807, 3.3546845539547285, 2.7781512503836434, 2.4899584794248346, 2.6857417386022635, 2.6893088591236203, 2.7972675408307164, 3.274388795550379, 4.544068044350276, 3.7019994748896368, 2.7867514221455614, 3.2038484637462346, 3.1743505974793798, 4.544068044350276, 3.520483532740792, 3.0145205387579237, 3.163757523981956, 3.4214393902200495, 2.53655844257153, 4.374216605428374, 2.938519725176492, 2.870403905279027, 3.1950689964685903, 2.574031267727719, 3.7019994748896368, 2.9858753573083936, 4.103358939866562, 2.5477747053878224, 2.3283796034387376, 2.428134794028789, 2.94546858513182, 3.7866804531966487, 4.223755453657241], \"xaxis\": \"x\", \"y\": [2.9448526746676746, 3.626287224379872, 2.979349672914118, 2.7816954104012996, 2.8446274521859127, 3.277504057056999, 4.216285070966148, 2.845257915931657, 3.8963971422255765, 3.220442815333807, 2.746552569095926, 2.8803291158884794, 3.473873210416201, 3.332027661724005, 3.193001074276671, 3.225382607563041, 2.825021192856828, 2.8242619300549667, 4.220025201970759, 2.929545790004214, 2.774891082907176, 2.770875007161716, 3.1986084362183407, 4.021358515505752, 3.1540033088841817, 3.336282706573966, 2.91824398723206, 2.77319154488126, 2.8925186176983324, 3.2125543010095914, 2.802227935184176, 3.392112277620993, 2.8944929445766703, 2.9008830861417296, 2.6114583399900466, 3.1947796046274033, 3.134582950520936, 3.31752526596383, 3.6335799486622244, 3.019570255192065, 3.140528174522201, 3.2698126610252967, 2.865582062627869, 3.334069642718012, 2.9476850516529067, 3.2294838046640133, 3.3595164344626425, 3.501717026815589, 2.9215080186363043, 2.7678136141583654, 2.9395380775169753, 3.0483962349268383, 3.1992001841695337, 3.299886088074297, 2.887280685804904, 2.8422193150650132, 2.838281358231323, 3.309322050939977, 3.1964220130191614, 3.1002637534168525, 4.009675008795961, 3.004480766346628, 3.3030430790139933, 2.88112171831964, 2.783246553383208, 3.1153533973474117, 2.9213235746247257, 3.1927506598906423, 2.847132631328668, 3.193906608946977, 4.362091704719546, 3.1990581498387525, 3.0527493798116425, 3.2835101106514584, 3.4544952781840563, 2.78536467294488, 3.691787554322102, 3.395541873525776, 3.5250326154011047, 3.138781257442389, 2.877447422766419, 2.9174992874028045, 2.9625993221579234, 3.229694114828392, 3.109498915525139, 3.2443435374933993, 2.6246842018886793, 3.442134979695429, 2.853658648531453, 3.967675821925383, 3.46079637048503, 3.107512937447023, 3.1051696828577446, 3.2387632102440183, 3.3909980023871005, 2.911932475917208, 2.9101021980218893, 3.4351847348978826, 3.0948558397436465, 2.865864098839321, 3.390390142700144, 2.870362030823657, 3.0013403273653227, 3.2806337443276643, 3.264854219838711, 4.267856462595155, 3.0061328856343277, 2.8138538136667592, 3.033574618011844, 3.2912213108221406, 3.4137848193786766, 3.046072873022723, 2.6147393365590883, 2.8911324806248757, 3.163147130350179, 2.836607103440439, 3.5123403860175073, 3.7178666225035077, 3.458104441656742, 2.8490091419944332, 3.8885250484479683, 3.039723852771753, 2.734664764115418, 2.720253767112751, 3.6796052861256086, 3.142857245729916, 3.2281101007298556, 2.909992892375789, 3.6464155359710086, 3.5420154543453855, 3.395578844683758, 3.742573862276262, 3.289562865538203, 2.9961914577595117, 2.9064504759485588, 3.063729998356256, 3.2587769584371564, 3.2767404704724656, 2.793283652487329, 3.74939888988007, 3.2805030057053552, 2.6002402142535304, 3.021035612242886, 3.0037368167546616, 2.8742167711532436, 2.7528413587905662, 2.985161040894491, 2.8302609498684212, 3.341821782426128, 3.5338332167333406, 3.328856807227515, 2.9600757288258692, 2.9831095977354947, 3.078330527135121, 3.7432306741919286, 3.2211246653729484, 3.220443080127503, 3.372581251575502, 3.259654398584581, 2.873574595870005, 4.210901347896323, 2.891815108464399, 2.8687364193080462, 3.295587204750393, 3.042169428215706, 3.3424669210919493, 3.0909002074353906, 4.15855604754571, 2.8250551591021638, 3.033096397494274, 2.5918317605179784, 2.90575178893117, 3.5938203773324973, 3.787604450142628], \"yaxis\": \"y\"}],                        {\"font\": {\"color\": \"black\", \"family\": \"Helvetica Neue, Helvetica, Arial, sans-serif\"}, \"legend\": {\"title\": {}, \"tracegroupgap\": 0, \"x\": 0.01, \"xanchor\": \"left\", \"y\": 0.99, \"yanchor\": \"top\"}, \"margin\": {\"t\": 60}, \"template\": {\"data\": {\"bar\": [{\"error_x\": {\"color\": \"#2a3f5f\"}, \"error_y\": {\"color\": \"#2a3f5f\"}, \"marker\": {\"line\": {\"color\": \"#E5ECF6\", \"width\": 0.5}}, \"type\": \"bar\"}], \"barpolar\": [{\"marker\": {\"line\": {\"color\": \"#E5ECF6\", \"width\": 0.5}}, \"type\": \"barpolar\"}], \"carpet\": [{\"aaxis\": {\"endlinecolor\": \"#2a3f5f\", \"gridcolor\": \"white\", \"linecolor\": \"white\", \"minorgridcolor\": \"white\", \"startlinecolor\": \"#2a3f5f\"}, \"baxis\": {\"endlinecolor\": \"#2a3f5f\", \"gridcolor\": \"white\", \"linecolor\": \"white\", \"minorgridcolor\": \"white\", \"startlinecolor\": \"#2a3f5f\"}, \"type\": \"carpet\"}], \"choropleth\": [{\"colorbar\": {\"outlinewidth\": 0, \"ticks\": \"\"}, \"type\": \"choropleth\"}], \"contour\": [{\"colorbar\": {\"outlinewidth\": 0, \"ticks\": \"\"}, \"colorscale\": [[0.0, \"#0d0887\"], [0.1111111111111111, \"#46039f\"], [0.2222222222222222, \"#7201a8\"], [0.3333333333333333, \"#9c179e\"], [0.4444444444444444, \"#bd3786\"], [0.5555555555555556, \"#d8576b\"], [0.6666666666666666, \"#ed7953\"], [0.7777777777777778, \"#fb9f3a\"], [0.8888888888888888, \"#fdca26\"], [1.0, \"#f0f921\"]], \"type\": \"contour\"}], \"contourcarpet\": [{\"colorbar\": {\"outlinewidth\": 0, \"ticks\": \"\"}, \"type\": \"contourcarpet\"}], \"heatmap\": [{\"colorbar\": {\"outlinewidth\": 0, \"ticks\": \"\"}, \"colorscale\": [[0.0, \"#0d0887\"], [0.1111111111111111, \"#46039f\"], [0.2222222222222222, \"#7201a8\"], [0.3333333333333333, \"#9c179e\"], [0.4444444444444444, \"#bd3786\"], [0.5555555555555556, \"#d8576b\"], [0.6666666666666666, \"#ed7953\"], [0.7777777777777778, \"#fb9f3a\"], [0.8888888888888888, \"#fdca26\"], [1.0, \"#f0f921\"]], \"type\": \"heatmap\"}], \"heatmapgl\": [{\"colorbar\": {\"outlinewidth\": 0, \"ticks\": \"\"}, \"colorscale\": [[0.0, \"#0d0887\"], [0.1111111111111111, \"#46039f\"], [0.2222222222222222, \"#7201a8\"], [0.3333333333333333, \"#9c179e\"], [0.4444444444444444, \"#bd3786\"], [0.5555555555555556, \"#d8576b\"], [0.6666666666666666, \"#ed7953\"], [0.7777777777777778, \"#fb9f3a\"], [0.8888888888888888, \"#fdca26\"], [1.0, \"#f0f921\"]], \"type\": \"heatmapgl\"}], \"histogram\": [{\"marker\": {\"colorbar\": {\"outlinewidth\": 0, \"ticks\": \"\"}}, \"type\": \"histogram\"}], \"histogram2d\": [{\"colorbar\": {\"outlinewidth\": 0, \"ticks\": \"\"}, \"colorscale\": [[0.0, \"#0d0887\"], [0.1111111111111111, \"#46039f\"], [0.2222222222222222, \"#7201a8\"], [0.3333333333333333, \"#9c179e\"], [0.4444444444444444, \"#bd3786\"], [0.5555555555555556, \"#d8576b\"], [0.6666666666666666, \"#ed7953\"], [0.7777777777777778, \"#fb9f3a\"], [0.8888888888888888, \"#fdca26\"], [1.0, \"#f0f921\"]], \"type\": \"histogram2d\"}], \"histogram2dcontour\": [{\"colorbar\": {\"outlinewidth\": 0, \"ticks\": \"\"}, \"colorscale\": [[0.0, \"#0d0887\"], [0.1111111111111111, \"#46039f\"], [0.2222222222222222, \"#7201a8\"], [0.3333333333333333, \"#9c179e\"], [0.4444444444444444, \"#bd3786\"], [0.5555555555555556, \"#d8576b\"], [0.6666666666666666, \"#ed7953\"], [0.7777777777777778, \"#fb9f3a\"], [0.8888888888888888, \"#fdca26\"], [1.0, \"#f0f921\"]], \"type\": \"histogram2dcontour\"}], \"mesh3d\": [{\"colorbar\": {\"outlinewidth\": 0, \"ticks\": \"\"}, \"type\": \"mesh3d\"}], \"parcoords\": [{\"line\": {\"colorbar\": {\"outlinewidth\": 0, \"ticks\": \"\"}}, \"type\": \"parcoords\"}], \"pie\": [{\"automargin\": true, \"type\": \"pie\"}], \"scatter\": [{\"marker\": {\"colorbar\": {\"outlinewidth\": 0, \"ticks\": \"\"}}, \"type\": \"scatter\"}], \"scatter3d\": [{\"line\": {\"colorbar\": {\"outlinewidth\": 0, \"ticks\": \"\"}}, \"marker\": {\"colorbar\": {\"outlinewidth\": 0, \"ticks\": \"\"}}, \"type\": \"scatter3d\"}], \"scattercarpet\": [{\"marker\": {\"colorbar\": {\"outlinewidth\": 0, \"ticks\": \"\"}}, \"type\": \"scattercarpet\"}], \"scattergeo\": [{\"marker\": {\"colorbar\": {\"outlinewidth\": 0, \"ticks\": \"\"}}, \"type\": \"scattergeo\"}], \"scattergl\": [{\"marker\": {\"colorbar\": {\"outlinewidth\": 0, \"ticks\": \"\"}}, \"type\": \"scattergl\"}], \"scattermapbox\": [{\"marker\": {\"colorbar\": {\"outlinewidth\": 0, \"ticks\": \"\"}}, \"type\": \"scattermapbox\"}], \"scatterpolar\": [{\"marker\": {\"colorbar\": {\"outlinewidth\": 0, \"ticks\": \"\"}}, \"type\": \"scatterpolar\"}], \"scatterpolargl\": [{\"marker\": {\"colorbar\": {\"outlinewidth\": 0, \"ticks\": \"\"}}, \"type\": \"scatterpolargl\"}], \"scatterternary\": [{\"marker\": {\"colorbar\": {\"outlinewidth\": 0, \"ticks\": \"\"}}, \"type\": \"scatterternary\"}], \"surface\": [{\"colorbar\": {\"outlinewidth\": 0, \"ticks\": \"\"}, \"colorscale\": [[0.0, \"#0d0887\"], [0.1111111111111111, \"#46039f\"], [0.2222222222222222, \"#7201a8\"], [0.3333333333333333, \"#9c179e\"], [0.4444444444444444, \"#bd3786\"], [0.5555555555555556, \"#d8576b\"], [0.6666666666666666, \"#ed7953\"], [0.7777777777777778, \"#fb9f3a\"], [0.8888888888888888, \"#fdca26\"], [1.0, \"#f0f921\"]], \"type\": \"surface\"}], \"table\": [{\"cells\": {\"fill\": {\"color\": \"#EBF0F8\"}, \"line\": {\"color\": \"white\"}}, \"header\": {\"fill\": {\"color\": \"#C8D4E3\"}, \"line\": {\"color\": \"white\"}}, \"type\": \"table\"}]}, \"layout\": {\"annotationdefaults\": {\"arrowcolor\": \"#2a3f5f\", \"arrowhead\": 0, \"arrowwidth\": 1}, \"autotypenumbers\": \"strict\", \"coloraxis\": {\"colorbar\": {\"outlinewidth\": 0, \"ticks\": \"\"}}, \"colorscale\": {\"diverging\": [[0, \"#8e0152\"], [0.1, \"#c51b7d\"], [0.2, \"#de77ae\"], [0.3, \"#f1b6da\"], [0.4, \"#fde0ef\"], [0.5, \"#f7f7f7\"], [0.6, \"#e6f5d0\"], [0.7, \"#b8e186\"], [0.8, \"#7fbc41\"], [0.9, \"#4d9221\"], [1, \"#276419\"]], \"sequential\": [[0.0, \"#0d0887\"], [0.1111111111111111, \"#46039f\"], [0.2222222222222222, \"#7201a8\"], [0.3333333333333333, \"#9c179e\"], [0.4444444444444444, \"#bd3786\"], [0.5555555555555556, \"#d8576b\"], [0.6666666666666666, \"#ed7953\"], [0.7777777777777778, \"#fb9f3a\"], [0.8888888888888888, \"#fdca26\"], [1.0, \"#f0f921\"]], \"sequentialminus\": [[0.0, \"#0d0887\"], [0.1111111111111111, \"#46039f\"], [0.2222222222222222, \"#7201a8\"], [0.3333333333333333, \"#9c179e\"], [0.4444444444444444, \"#bd3786\"], [0.5555555555555556, \"#d8576b\"], [0.6666666666666666, \"#ed7953\"], [0.7777777777777778, \"#fb9f3a\"], [0.8888888888888888, \"#fdca26\"], [1.0, \"#f0f921\"]]}, \"colorway\": [\"#636efa\", \"#EF553B\", \"#00cc96\", \"#ab63fa\", \"#FFA15A\", \"#19d3f3\", \"#FF6692\", \"#B6E880\", \"#FF97FF\", \"#FECB52\"], \"font\": {\"color\": \"#2a3f5f\"}, \"geo\": {\"bgcolor\": \"white\", \"lakecolor\": \"white\", \"landcolor\": \"#E5ECF6\", \"showlakes\": true, \"showland\": true, \"subunitcolor\": \"white\"}, \"hoverlabel\": {\"align\": \"left\"}, \"hovermode\": \"closest\", \"mapbox\": {\"style\": \"light\"}, \"paper_bgcolor\": \"white\", \"plot_bgcolor\": \"#E5ECF6\", \"polar\": {\"angularaxis\": {\"gridcolor\": \"white\", \"linecolor\": \"white\", \"ticks\": \"\"}, \"bgcolor\": \"#E5ECF6\", \"radialaxis\": {\"gridcolor\": \"white\", \"linecolor\": \"white\", \"ticks\": \"\"}}, \"scene\": {\"xaxis\": {\"backgroundcolor\": \"#E5ECF6\", \"gridcolor\": \"white\", \"gridwidth\": 2, \"linecolor\": \"white\", \"showbackground\": true, \"ticks\": \"\", \"zerolinecolor\": \"white\"}, \"yaxis\": {\"backgroundcolor\": \"#E5ECF6\", \"gridcolor\": \"white\", \"gridwidth\": 2, \"linecolor\": \"white\", \"showbackground\": true, \"ticks\": \"\", \"zerolinecolor\": \"white\"}, \"zaxis\": {\"backgroundcolor\": \"#E5ECF6\", \"gridcolor\": \"white\", \"gridwidth\": 2, \"linecolor\": \"white\", \"showbackground\": true, \"ticks\": \"\", \"zerolinecolor\": \"white\"}}, \"shapedefaults\": {\"line\": {\"color\": \"#2a3f5f\"}}, \"ternary\": {\"aaxis\": {\"gridcolor\": \"white\", \"linecolor\": \"white\", \"ticks\": \"\"}, \"baxis\": {\"gridcolor\": \"white\", \"linecolor\": \"white\", \"ticks\": \"\"}, \"bgcolor\": \"#E5ECF6\", \"caxis\": {\"gridcolor\": \"white\", \"linecolor\": \"white\", \"ticks\": \"\"}}, \"title\": {\"x\": 0.05}, \"xaxis\": {\"automargin\": true, \"gridcolor\": \"white\", \"linecolor\": \"white\", \"ticks\": \"\", \"title\": {\"standoff\": 15}, \"zerolinecolor\": \"white\", \"zerolinewidth\": 2}, \"yaxis\": {\"automargin\": true, \"gridcolor\": \"white\", \"linecolor\": \"white\", \"ticks\": \"\", \"title\": {\"standoff\": 15}, \"zerolinecolor\": \"white\", \"zerolinewidth\": 2}}}, \"title\": {\"text\": \"Model fit of Random Forest model\"}, \"xaxis\": {\"anchor\": \"y\", \"domain\": [0.0, 1.0], \"title\": {\"text\": \"measured data (sample)\"}}, \"yaxis\": {\"anchor\": \"x\", \"domain\": [0.0, 1.0], \"title\": {\"text\": \"fitted values (in sample fit)\"}}},                        {\"responsive\": true}                    ).then(function(){\n",
       "                            \n",
       "var gd = document.getElementById('3f278045-31b2-4167-afb2-3124c90aacbd');\n",
       "var x = new MutationObserver(function (mutations, observer) {{\n",
       "        var display = window.getComputedStyle(gd).display;\n",
       "        if (!display || display === 'none') {{\n",
       "            console.log([gd, 'removed!']);\n",
       "            Plotly.purge(gd);\n",
       "            observer.disconnect();\n",
       "        }}\n",
       "}});\n",
       "\n",
       "// Listen for the removal of the full notebook cells\n",
       "var notebookContainer = gd.closest('#notebook-container');\n",
       "if (notebookContainer) {{\n",
       "    x.observe(notebookContainer, {childList: true});\n",
       "}}\n",
       "\n",
       "// Listen for the clearing of the current output cell\n",
       "var outputEl = gd.closest('.output');\n",
       "if (outputEl) {{\n",
       "    x.observe(outputEl, {childList: true});\n",
       "}}\n",
       "\n",
       "                        })                };                });            </script>        </div>"
      ]
     },
     "metadata": {},
     "output_type": "display_data"
    }
   ],
   "source": [
    "fig.show()"
   ]
  },
  {
   "cell_type": "code",
   "execution_count": 36,
   "id": "actual-applicant",
   "metadata": {},
   "outputs": [],
   "source": [
    "importances = pd.Series(data=rf.feature_importances_,\n",
    "                        index= X.columns)\n",
    "\n",
    "# Sort importances\n",
    "importances_sorted = importances.sort_values()\n",
    "importances_df = importances_sorted.reset_index()\n",
    "importances_df.columns = [\"feature\", \"importance\"]"
   ]
  },
  {
   "cell_type": "code",
   "execution_count": 37,
   "id": "third-terrorist",
   "metadata": {},
   "outputs": [
    {
     "data": {
      "application/vnd.plotly.v1+json": {
       "config": {
        "plotlyServerURL": "https://plot.ly"
       },
       "data": [
        {
         "alignmentgroup": "True",
         "hovertemplate": "importance=%{x}<br>feature=%{y}<extra></extra>",
         "legendgroup": "",
         "marker": {
          "color": "#75c3ff",
          "line": {
           "color": "#75c3ff",
           "width": 1.5
          }
         },
         "name": "",
         "offsetgroup": "",
         "opacity": 1,
         "orientation": "h",
         "showlegend": false,
         "textposition": "auto",
         "type": "bar",
         "x": [
          0.002666783973596782,
          0.004210591537117454,
          0.00549992442859446,
          0.00912988045643997,
          0.0111013725847535,
          0.031692285269622165,
          0.04233738140583711,
          0.04298739191766074,
          0.04571504699720816,
          0.050790623330013246,
          0.05363209685251457,
          0.05606299768830629,
          0.058525821591114024,
          0.0599783211183241,
          0.060993571578599415,
          0.06181000623105311,
          0.07503262576128078,
          0.09866774003979117,
          0.1020912377872683,
          0.12707429945090476
         ],
         "xaxis": "x",
         "y": [
          "network_shift_2",
          "network_shift_3",
          "network_shift_4",
          "network_shift_1",
          "network_shift_5",
          "Rainfall Nord_shift_5",
          "riverflow_shift_4",
          "WWTP_shift_4",
          "Rainfall Nord_shift_1",
          "riverflow_shift_3",
          "Rainfall Nord_shift_4",
          "WWTP_shift_3",
          "Rainfall Nord_shift_3",
          "riverflow_shift_5",
          "WWTP_shift_5",
          "riverflow_shift_2",
          "Rainfall Nord_shift_2",
          "riverflow_shift_1",
          "WWTP_shift_1",
          "WWTP_shift_2"
         ],
         "yaxis": "y"
        }
       ],
       "layout": {
        "barmode": "relative",
        "font": {
         "color": "black",
         "family": "Helvetica Neue, Helvetica, Arial, sans-serif"
        },
        "legend": {
         "tracegroupgap": 0
        },
        "margin": {
         "t": 60
        },
        "template": {
         "data": {
          "bar": [
           {
            "error_x": {
             "color": "#2a3f5f"
            },
            "error_y": {
             "color": "#2a3f5f"
            },
            "marker": {
             "line": {
              "color": "#E5ECF6",
              "width": 0.5
             }
            },
            "type": "bar"
           }
          ],
          "barpolar": [
           {
            "marker": {
             "line": {
              "color": "#E5ECF6",
              "width": 0.5
             }
            },
            "type": "barpolar"
           }
          ],
          "carpet": [
           {
            "aaxis": {
             "endlinecolor": "#2a3f5f",
             "gridcolor": "white",
             "linecolor": "white",
             "minorgridcolor": "white",
             "startlinecolor": "#2a3f5f"
            },
            "baxis": {
             "endlinecolor": "#2a3f5f",
             "gridcolor": "white",
             "linecolor": "white",
             "minorgridcolor": "white",
             "startlinecolor": "#2a3f5f"
            },
            "type": "carpet"
           }
          ],
          "choropleth": [
           {
            "colorbar": {
             "outlinewidth": 0,
             "ticks": ""
            },
            "type": "choropleth"
           }
          ],
          "contour": [
           {
            "colorbar": {
             "outlinewidth": 0,
             "ticks": ""
            },
            "colorscale": [
             [
              0,
              "#0d0887"
             ],
             [
              0.1111111111111111,
              "#46039f"
             ],
             [
              0.2222222222222222,
              "#7201a8"
             ],
             [
              0.3333333333333333,
              "#9c179e"
             ],
             [
              0.4444444444444444,
              "#bd3786"
             ],
             [
              0.5555555555555556,
              "#d8576b"
             ],
             [
              0.6666666666666666,
              "#ed7953"
             ],
             [
              0.7777777777777778,
              "#fb9f3a"
             ],
             [
              0.8888888888888888,
              "#fdca26"
             ],
             [
              1,
              "#f0f921"
             ]
            ],
            "type": "contour"
           }
          ],
          "contourcarpet": [
           {
            "colorbar": {
             "outlinewidth": 0,
             "ticks": ""
            },
            "type": "contourcarpet"
           }
          ],
          "heatmap": [
           {
            "colorbar": {
             "outlinewidth": 0,
             "ticks": ""
            },
            "colorscale": [
             [
              0,
              "#0d0887"
             ],
             [
              0.1111111111111111,
              "#46039f"
             ],
             [
              0.2222222222222222,
              "#7201a8"
             ],
             [
              0.3333333333333333,
              "#9c179e"
             ],
             [
              0.4444444444444444,
              "#bd3786"
             ],
             [
              0.5555555555555556,
              "#d8576b"
             ],
             [
              0.6666666666666666,
              "#ed7953"
             ],
             [
              0.7777777777777778,
              "#fb9f3a"
             ],
             [
              0.8888888888888888,
              "#fdca26"
             ],
             [
              1,
              "#f0f921"
             ]
            ],
            "type": "heatmap"
           }
          ],
          "heatmapgl": [
           {
            "colorbar": {
             "outlinewidth": 0,
             "ticks": ""
            },
            "colorscale": [
             [
              0,
              "#0d0887"
             ],
             [
              0.1111111111111111,
              "#46039f"
             ],
             [
              0.2222222222222222,
              "#7201a8"
             ],
             [
              0.3333333333333333,
              "#9c179e"
             ],
             [
              0.4444444444444444,
              "#bd3786"
             ],
             [
              0.5555555555555556,
              "#d8576b"
             ],
             [
              0.6666666666666666,
              "#ed7953"
             ],
             [
              0.7777777777777778,
              "#fb9f3a"
             ],
             [
              0.8888888888888888,
              "#fdca26"
             ],
             [
              1,
              "#f0f921"
             ]
            ],
            "type": "heatmapgl"
           }
          ],
          "histogram": [
           {
            "marker": {
             "colorbar": {
              "outlinewidth": 0,
              "ticks": ""
             }
            },
            "type": "histogram"
           }
          ],
          "histogram2d": [
           {
            "colorbar": {
             "outlinewidth": 0,
             "ticks": ""
            },
            "colorscale": [
             [
              0,
              "#0d0887"
             ],
             [
              0.1111111111111111,
              "#46039f"
             ],
             [
              0.2222222222222222,
              "#7201a8"
             ],
             [
              0.3333333333333333,
              "#9c179e"
             ],
             [
              0.4444444444444444,
              "#bd3786"
             ],
             [
              0.5555555555555556,
              "#d8576b"
             ],
             [
              0.6666666666666666,
              "#ed7953"
             ],
             [
              0.7777777777777778,
              "#fb9f3a"
             ],
             [
              0.8888888888888888,
              "#fdca26"
             ],
             [
              1,
              "#f0f921"
             ]
            ],
            "type": "histogram2d"
           }
          ],
          "histogram2dcontour": [
           {
            "colorbar": {
             "outlinewidth": 0,
             "ticks": ""
            },
            "colorscale": [
             [
              0,
              "#0d0887"
             ],
             [
              0.1111111111111111,
              "#46039f"
             ],
             [
              0.2222222222222222,
              "#7201a8"
             ],
             [
              0.3333333333333333,
              "#9c179e"
             ],
             [
              0.4444444444444444,
              "#bd3786"
             ],
             [
              0.5555555555555556,
              "#d8576b"
             ],
             [
              0.6666666666666666,
              "#ed7953"
             ],
             [
              0.7777777777777778,
              "#fb9f3a"
             ],
             [
              0.8888888888888888,
              "#fdca26"
             ],
             [
              1,
              "#f0f921"
             ]
            ],
            "type": "histogram2dcontour"
           }
          ],
          "mesh3d": [
           {
            "colorbar": {
             "outlinewidth": 0,
             "ticks": ""
            },
            "type": "mesh3d"
           }
          ],
          "parcoords": [
           {
            "line": {
             "colorbar": {
              "outlinewidth": 0,
              "ticks": ""
             }
            },
            "type": "parcoords"
           }
          ],
          "pie": [
           {
            "automargin": true,
            "type": "pie"
           }
          ],
          "scatter": [
           {
            "marker": {
             "colorbar": {
              "outlinewidth": 0,
              "ticks": ""
             }
            },
            "type": "scatter"
           }
          ],
          "scatter3d": [
           {
            "line": {
             "colorbar": {
              "outlinewidth": 0,
              "ticks": ""
             }
            },
            "marker": {
             "colorbar": {
              "outlinewidth": 0,
              "ticks": ""
             }
            },
            "type": "scatter3d"
           }
          ],
          "scattercarpet": [
           {
            "marker": {
             "colorbar": {
              "outlinewidth": 0,
              "ticks": ""
             }
            },
            "type": "scattercarpet"
           }
          ],
          "scattergeo": [
           {
            "marker": {
             "colorbar": {
              "outlinewidth": 0,
              "ticks": ""
             }
            },
            "type": "scattergeo"
           }
          ],
          "scattergl": [
           {
            "marker": {
             "colorbar": {
              "outlinewidth": 0,
              "ticks": ""
             }
            },
            "type": "scattergl"
           }
          ],
          "scattermapbox": [
           {
            "marker": {
             "colorbar": {
              "outlinewidth": 0,
              "ticks": ""
             }
            },
            "type": "scattermapbox"
           }
          ],
          "scatterpolar": [
           {
            "marker": {
             "colorbar": {
              "outlinewidth": 0,
              "ticks": ""
             }
            },
            "type": "scatterpolar"
           }
          ],
          "scatterpolargl": [
           {
            "marker": {
             "colorbar": {
              "outlinewidth": 0,
              "ticks": ""
             }
            },
            "type": "scatterpolargl"
           }
          ],
          "scatterternary": [
           {
            "marker": {
             "colorbar": {
              "outlinewidth": 0,
              "ticks": ""
             }
            },
            "type": "scatterternary"
           }
          ],
          "surface": [
           {
            "colorbar": {
             "outlinewidth": 0,
             "ticks": ""
            },
            "colorscale": [
             [
              0,
              "#0d0887"
             ],
             [
              0.1111111111111111,
              "#46039f"
             ],
             [
              0.2222222222222222,
              "#7201a8"
             ],
             [
              0.3333333333333333,
              "#9c179e"
             ],
             [
              0.4444444444444444,
              "#bd3786"
             ],
             [
              0.5555555555555556,
              "#d8576b"
             ],
             [
              0.6666666666666666,
              "#ed7953"
             ],
             [
              0.7777777777777778,
              "#fb9f3a"
             ],
             [
              0.8888888888888888,
              "#fdca26"
             ],
             [
              1,
              "#f0f921"
             ]
            ],
            "type": "surface"
           }
          ],
          "table": [
           {
            "cells": {
             "fill": {
              "color": "#EBF0F8"
             },
             "line": {
              "color": "white"
             }
            },
            "header": {
             "fill": {
              "color": "#C8D4E3"
             },
             "line": {
              "color": "white"
             }
            },
            "type": "table"
           }
          ]
         },
         "layout": {
          "annotationdefaults": {
           "arrowcolor": "#2a3f5f",
           "arrowhead": 0,
           "arrowwidth": 1
          },
          "autotypenumbers": "strict",
          "coloraxis": {
           "colorbar": {
            "outlinewidth": 0,
            "ticks": ""
           }
          },
          "colorscale": {
           "diverging": [
            [
             0,
             "#8e0152"
            ],
            [
             0.1,
             "#c51b7d"
            ],
            [
             0.2,
             "#de77ae"
            ],
            [
             0.3,
             "#f1b6da"
            ],
            [
             0.4,
             "#fde0ef"
            ],
            [
             0.5,
             "#f7f7f7"
            ],
            [
             0.6,
             "#e6f5d0"
            ],
            [
             0.7,
             "#b8e186"
            ],
            [
             0.8,
             "#7fbc41"
            ],
            [
             0.9,
             "#4d9221"
            ],
            [
             1,
             "#276419"
            ]
           ],
           "sequential": [
            [
             0,
             "#0d0887"
            ],
            [
             0.1111111111111111,
             "#46039f"
            ],
            [
             0.2222222222222222,
             "#7201a8"
            ],
            [
             0.3333333333333333,
             "#9c179e"
            ],
            [
             0.4444444444444444,
             "#bd3786"
            ],
            [
             0.5555555555555556,
             "#d8576b"
            ],
            [
             0.6666666666666666,
             "#ed7953"
            ],
            [
             0.7777777777777778,
             "#fb9f3a"
            ],
            [
             0.8888888888888888,
             "#fdca26"
            ],
            [
             1,
             "#f0f921"
            ]
           ],
           "sequentialminus": [
            [
             0,
             "#0d0887"
            ],
            [
             0.1111111111111111,
             "#46039f"
            ],
            [
             0.2222222222222222,
             "#7201a8"
            ],
            [
             0.3333333333333333,
             "#9c179e"
            ],
            [
             0.4444444444444444,
             "#bd3786"
            ],
            [
             0.5555555555555556,
             "#d8576b"
            ],
            [
             0.6666666666666666,
             "#ed7953"
            ],
            [
             0.7777777777777778,
             "#fb9f3a"
            ],
            [
             0.8888888888888888,
             "#fdca26"
            ],
            [
             1,
             "#f0f921"
            ]
           ]
          },
          "colorway": [
           "#636efa",
           "#EF553B",
           "#00cc96",
           "#ab63fa",
           "#FFA15A",
           "#19d3f3",
           "#FF6692",
           "#B6E880",
           "#FF97FF",
           "#FECB52"
          ],
          "font": {
           "color": "#2a3f5f"
          },
          "geo": {
           "bgcolor": "white",
           "lakecolor": "white",
           "landcolor": "#E5ECF6",
           "showlakes": true,
           "showland": true,
           "subunitcolor": "white"
          },
          "hoverlabel": {
           "align": "left"
          },
          "hovermode": "closest",
          "mapbox": {
           "style": "light"
          },
          "paper_bgcolor": "white",
          "plot_bgcolor": "#E5ECF6",
          "polar": {
           "angularaxis": {
            "gridcolor": "white",
            "linecolor": "white",
            "ticks": ""
           },
           "bgcolor": "#E5ECF6",
           "radialaxis": {
            "gridcolor": "white",
            "linecolor": "white",
            "ticks": ""
           }
          },
          "scene": {
           "xaxis": {
            "backgroundcolor": "#E5ECF6",
            "gridcolor": "white",
            "gridwidth": 2,
            "linecolor": "white",
            "showbackground": true,
            "ticks": "",
            "zerolinecolor": "white"
           },
           "yaxis": {
            "backgroundcolor": "#E5ECF6",
            "gridcolor": "white",
            "gridwidth": 2,
            "linecolor": "white",
            "showbackground": true,
            "ticks": "",
            "zerolinecolor": "white"
           },
           "zaxis": {
            "backgroundcolor": "#E5ECF6",
            "gridcolor": "white",
            "gridwidth": 2,
            "linecolor": "white",
            "showbackground": true,
            "ticks": "",
            "zerolinecolor": "white"
           }
          },
          "shapedefaults": {
           "line": {
            "color": "#2a3f5f"
           }
          },
          "ternary": {
           "aaxis": {
            "gridcolor": "white",
            "linecolor": "white",
            "ticks": ""
           },
           "baxis": {
            "gridcolor": "white",
            "linecolor": "white",
            "ticks": ""
           },
           "bgcolor": "#E5ECF6",
           "caxis": {
            "gridcolor": "white",
            "linecolor": "white",
            "ticks": ""
           }
          },
          "title": {
           "x": 0.05
          },
          "xaxis": {
           "automargin": true,
           "gridcolor": "white",
           "linecolor": "white",
           "ticks": "",
           "title": {
            "standoff": 15
           },
           "zerolinecolor": "white",
           "zerolinewidth": 2
          },
          "yaxis": {
           "automargin": true,
           "gridcolor": "white",
           "linecolor": "white",
           "ticks": "",
           "title": {
            "standoff": 15
           },
           "zerolinecolor": "white",
           "zerolinewidth": 2
          }
         }
        },
        "title": {
         "text": "Feature importance of Random Forest model"
        },
        "xaxis": {
         "anchor": "y",
         "domain": [
          0,
          1
         ],
         "title": {
          "text": "importance"
         }
        },
        "yaxis": {
         "anchor": "x",
         "domain": [
          0,
          1
         ],
         "title": {
          "text": "feature"
         }
        }
       }
      },
      "text/html": [
       "<div>                            <div id=\"79184aa8-ee72-4fee-a90d-e66d049df145\" class=\"plotly-graph-div\" style=\"height:525px; width:100%;\"></div>            <script type=\"text/javascript\">                require([\"plotly\"], function(Plotly) {                    window.PLOTLYENV=window.PLOTLYENV || {};                                    if (document.getElementById(\"79184aa8-ee72-4fee-a90d-e66d049df145\")) {                    Plotly.newPlot(                        \"79184aa8-ee72-4fee-a90d-e66d049df145\",                        [{\"alignmentgroup\": \"True\", \"hovertemplate\": \"importance=%{x}<br>feature=%{y}<extra></extra>\", \"legendgroup\": \"\", \"marker\": {\"color\": \"#75c3ff\", \"line\": {\"color\": \"#75c3ff\", \"width\": 1.5}}, \"name\": \"\", \"offsetgroup\": \"\", \"opacity\": 1, \"orientation\": \"h\", \"showlegend\": false, \"textposition\": \"auto\", \"type\": \"bar\", \"x\": [0.002666783973596782, 0.004210591537117454, 0.00549992442859446, 0.00912988045643997, 0.0111013725847535, 0.031692285269622165, 0.04233738140583711, 0.04298739191766074, 0.04571504699720816, 0.050790623330013246, 0.05363209685251457, 0.05606299768830629, 0.058525821591114024, 0.0599783211183241, 0.060993571578599415, 0.06181000623105311, 0.07503262576128078, 0.09866774003979117, 0.1020912377872683, 0.12707429945090476], \"xaxis\": \"x\", \"y\": [\"network_shift_2\", \"network_shift_3\", \"network_shift_4\", \"network_shift_1\", \"network_shift_5\", \"Rainfall Nord_shift_5\", \"riverflow_shift_4\", \"WWTP_shift_4\", \"Rainfall Nord_shift_1\", \"riverflow_shift_3\", \"Rainfall Nord_shift_4\", \"WWTP_shift_3\", \"Rainfall Nord_shift_3\", \"riverflow_shift_5\", \"WWTP_shift_5\", \"riverflow_shift_2\", \"Rainfall Nord_shift_2\", \"riverflow_shift_1\", \"WWTP_shift_1\", \"WWTP_shift_2\"], \"yaxis\": \"y\"}],                        {\"barmode\": \"relative\", \"font\": {\"color\": \"black\", \"family\": \"Helvetica Neue, Helvetica, Arial, sans-serif\"}, \"legend\": {\"tracegroupgap\": 0}, \"margin\": {\"t\": 60}, \"template\": {\"data\": {\"bar\": [{\"error_x\": {\"color\": \"#2a3f5f\"}, \"error_y\": {\"color\": \"#2a3f5f\"}, \"marker\": {\"line\": {\"color\": \"#E5ECF6\", \"width\": 0.5}}, \"type\": \"bar\"}], \"barpolar\": [{\"marker\": {\"line\": {\"color\": \"#E5ECF6\", \"width\": 0.5}}, \"type\": \"barpolar\"}], \"carpet\": [{\"aaxis\": {\"endlinecolor\": \"#2a3f5f\", \"gridcolor\": \"white\", \"linecolor\": \"white\", \"minorgridcolor\": \"white\", \"startlinecolor\": \"#2a3f5f\"}, \"baxis\": {\"endlinecolor\": \"#2a3f5f\", \"gridcolor\": \"white\", \"linecolor\": \"white\", \"minorgridcolor\": \"white\", \"startlinecolor\": \"#2a3f5f\"}, \"type\": \"carpet\"}], \"choropleth\": [{\"colorbar\": {\"outlinewidth\": 0, \"ticks\": \"\"}, \"type\": \"choropleth\"}], \"contour\": [{\"colorbar\": {\"outlinewidth\": 0, \"ticks\": \"\"}, \"colorscale\": [[0.0, \"#0d0887\"], [0.1111111111111111, \"#46039f\"], [0.2222222222222222, \"#7201a8\"], [0.3333333333333333, \"#9c179e\"], [0.4444444444444444, \"#bd3786\"], [0.5555555555555556, \"#d8576b\"], [0.6666666666666666, \"#ed7953\"], [0.7777777777777778, \"#fb9f3a\"], [0.8888888888888888, \"#fdca26\"], [1.0, \"#f0f921\"]], \"type\": \"contour\"}], \"contourcarpet\": [{\"colorbar\": {\"outlinewidth\": 0, \"ticks\": \"\"}, \"type\": \"contourcarpet\"}], \"heatmap\": [{\"colorbar\": {\"outlinewidth\": 0, \"ticks\": \"\"}, \"colorscale\": [[0.0, \"#0d0887\"], [0.1111111111111111, \"#46039f\"], [0.2222222222222222, \"#7201a8\"], [0.3333333333333333, \"#9c179e\"], [0.4444444444444444, \"#bd3786\"], [0.5555555555555556, \"#d8576b\"], [0.6666666666666666, \"#ed7953\"], [0.7777777777777778, \"#fb9f3a\"], [0.8888888888888888, \"#fdca26\"], [1.0, \"#f0f921\"]], \"type\": \"heatmap\"}], \"heatmapgl\": [{\"colorbar\": {\"outlinewidth\": 0, \"ticks\": \"\"}, \"colorscale\": [[0.0, \"#0d0887\"], [0.1111111111111111, \"#46039f\"], [0.2222222222222222, \"#7201a8\"], [0.3333333333333333, \"#9c179e\"], [0.4444444444444444, \"#bd3786\"], [0.5555555555555556, \"#d8576b\"], [0.6666666666666666, \"#ed7953\"], [0.7777777777777778, \"#fb9f3a\"], [0.8888888888888888, \"#fdca26\"], [1.0, \"#f0f921\"]], \"type\": \"heatmapgl\"}], \"histogram\": [{\"marker\": {\"colorbar\": {\"outlinewidth\": 0, \"ticks\": \"\"}}, \"type\": \"histogram\"}], \"histogram2d\": [{\"colorbar\": {\"outlinewidth\": 0, \"ticks\": \"\"}, \"colorscale\": [[0.0, \"#0d0887\"], [0.1111111111111111, \"#46039f\"], [0.2222222222222222, \"#7201a8\"], [0.3333333333333333, \"#9c179e\"], [0.4444444444444444, \"#bd3786\"], [0.5555555555555556, \"#d8576b\"], [0.6666666666666666, \"#ed7953\"], [0.7777777777777778, \"#fb9f3a\"], [0.8888888888888888, \"#fdca26\"], [1.0, \"#f0f921\"]], \"type\": \"histogram2d\"}], \"histogram2dcontour\": [{\"colorbar\": {\"outlinewidth\": 0, \"ticks\": \"\"}, \"colorscale\": [[0.0, \"#0d0887\"], [0.1111111111111111, \"#46039f\"], [0.2222222222222222, \"#7201a8\"], [0.3333333333333333, \"#9c179e\"], [0.4444444444444444, \"#bd3786\"], [0.5555555555555556, \"#d8576b\"], [0.6666666666666666, \"#ed7953\"], [0.7777777777777778, \"#fb9f3a\"], [0.8888888888888888, \"#fdca26\"], [1.0, \"#f0f921\"]], \"type\": \"histogram2dcontour\"}], \"mesh3d\": [{\"colorbar\": {\"outlinewidth\": 0, \"ticks\": \"\"}, \"type\": \"mesh3d\"}], \"parcoords\": [{\"line\": {\"colorbar\": {\"outlinewidth\": 0, \"ticks\": \"\"}}, \"type\": \"parcoords\"}], \"pie\": [{\"automargin\": true, \"type\": \"pie\"}], \"scatter\": [{\"marker\": {\"colorbar\": {\"outlinewidth\": 0, \"ticks\": \"\"}}, \"type\": \"scatter\"}], \"scatter3d\": [{\"line\": {\"colorbar\": {\"outlinewidth\": 0, \"ticks\": \"\"}}, \"marker\": {\"colorbar\": {\"outlinewidth\": 0, \"ticks\": \"\"}}, \"type\": \"scatter3d\"}], \"scattercarpet\": [{\"marker\": {\"colorbar\": {\"outlinewidth\": 0, \"ticks\": \"\"}}, \"type\": \"scattercarpet\"}], \"scattergeo\": [{\"marker\": {\"colorbar\": {\"outlinewidth\": 0, \"ticks\": \"\"}}, \"type\": \"scattergeo\"}], \"scattergl\": [{\"marker\": {\"colorbar\": {\"outlinewidth\": 0, \"ticks\": \"\"}}, \"type\": \"scattergl\"}], \"scattermapbox\": [{\"marker\": {\"colorbar\": {\"outlinewidth\": 0, \"ticks\": \"\"}}, \"type\": \"scattermapbox\"}], \"scatterpolar\": [{\"marker\": {\"colorbar\": {\"outlinewidth\": 0, \"ticks\": \"\"}}, \"type\": \"scatterpolar\"}], \"scatterpolargl\": [{\"marker\": {\"colorbar\": {\"outlinewidth\": 0, \"ticks\": \"\"}}, \"type\": \"scatterpolargl\"}], \"scatterternary\": [{\"marker\": {\"colorbar\": {\"outlinewidth\": 0, \"ticks\": \"\"}}, \"type\": \"scatterternary\"}], \"surface\": [{\"colorbar\": {\"outlinewidth\": 0, \"ticks\": \"\"}, \"colorscale\": [[0.0, \"#0d0887\"], [0.1111111111111111, \"#46039f\"], [0.2222222222222222, \"#7201a8\"], [0.3333333333333333, \"#9c179e\"], [0.4444444444444444, \"#bd3786\"], [0.5555555555555556, \"#d8576b\"], [0.6666666666666666, \"#ed7953\"], [0.7777777777777778, \"#fb9f3a\"], [0.8888888888888888, \"#fdca26\"], [1.0, \"#f0f921\"]], \"type\": \"surface\"}], \"table\": [{\"cells\": {\"fill\": {\"color\": \"#EBF0F8\"}, \"line\": {\"color\": \"white\"}}, \"header\": {\"fill\": {\"color\": \"#C8D4E3\"}, \"line\": {\"color\": \"white\"}}, \"type\": \"table\"}]}, \"layout\": {\"annotationdefaults\": {\"arrowcolor\": \"#2a3f5f\", \"arrowhead\": 0, \"arrowwidth\": 1}, \"autotypenumbers\": \"strict\", \"coloraxis\": {\"colorbar\": {\"outlinewidth\": 0, \"ticks\": \"\"}}, \"colorscale\": {\"diverging\": [[0, \"#8e0152\"], [0.1, \"#c51b7d\"], [0.2, \"#de77ae\"], [0.3, \"#f1b6da\"], [0.4, \"#fde0ef\"], [0.5, \"#f7f7f7\"], [0.6, \"#e6f5d0\"], [0.7, \"#b8e186\"], [0.8, \"#7fbc41\"], [0.9, \"#4d9221\"], [1, \"#276419\"]], \"sequential\": [[0.0, \"#0d0887\"], [0.1111111111111111, \"#46039f\"], [0.2222222222222222, \"#7201a8\"], [0.3333333333333333, \"#9c179e\"], [0.4444444444444444, \"#bd3786\"], [0.5555555555555556, \"#d8576b\"], [0.6666666666666666, \"#ed7953\"], [0.7777777777777778, \"#fb9f3a\"], [0.8888888888888888, \"#fdca26\"], [1.0, \"#f0f921\"]], \"sequentialminus\": [[0.0, \"#0d0887\"], [0.1111111111111111, \"#46039f\"], [0.2222222222222222, \"#7201a8\"], [0.3333333333333333, \"#9c179e\"], [0.4444444444444444, \"#bd3786\"], [0.5555555555555556, \"#d8576b\"], [0.6666666666666666, \"#ed7953\"], [0.7777777777777778, \"#fb9f3a\"], [0.8888888888888888, \"#fdca26\"], [1.0, \"#f0f921\"]]}, \"colorway\": [\"#636efa\", \"#EF553B\", \"#00cc96\", \"#ab63fa\", \"#FFA15A\", \"#19d3f3\", \"#FF6692\", \"#B6E880\", \"#FF97FF\", \"#FECB52\"], \"font\": {\"color\": \"#2a3f5f\"}, \"geo\": {\"bgcolor\": \"white\", \"lakecolor\": \"white\", \"landcolor\": \"#E5ECF6\", \"showlakes\": true, \"showland\": true, \"subunitcolor\": \"white\"}, \"hoverlabel\": {\"align\": \"left\"}, \"hovermode\": \"closest\", \"mapbox\": {\"style\": \"light\"}, \"paper_bgcolor\": \"white\", \"plot_bgcolor\": \"#E5ECF6\", \"polar\": {\"angularaxis\": {\"gridcolor\": \"white\", \"linecolor\": \"white\", \"ticks\": \"\"}, \"bgcolor\": \"#E5ECF6\", \"radialaxis\": {\"gridcolor\": \"white\", \"linecolor\": \"white\", \"ticks\": \"\"}}, \"scene\": {\"xaxis\": {\"backgroundcolor\": \"#E5ECF6\", \"gridcolor\": \"white\", \"gridwidth\": 2, \"linecolor\": \"white\", \"showbackground\": true, \"ticks\": \"\", \"zerolinecolor\": \"white\"}, \"yaxis\": {\"backgroundcolor\": \"#E5ECF6\", \"gridcolor\": \"white\", \"gridwidth\": 2, \"linecolor\": \"white\", \"showbackground\": true, \"ticks\": \"\", \"zerolinecolor\": \"white\"}, \"zaxis\": {\"backgroundcolor\": \"#E5ECF6\", \"gridcolor\": \"white\", \"gridwidth\": 2, \"linecolor\": \"white\", \"showbackground\": true, \"ticks\": \"\", \"zerolinecolor\": \"white\"}}, \"shapedefaults\": {\"line\": {\"color\": \"#2a3f5f\"}}, \"ternary\": {\"aaxis\": {\"gridcolor\": \"white\", \"linecolor\": \"white\", \"ticks\": \"\"}, \"baxis\": {\"gridcolor\": \"white\", \"linecolor\": \"white\", \"ticks\": \"\"}, \"bgcolor\": \"#E5ECF6\", \"caxis\": {\"gridcolor\": \"white\", \"linecolor\": \"white\", \"ticks\": \"\"}}, \"title\": {\"x\": 0.05}, \"xaxis\": {\"automargin\": true, \"gridcolor\": \"white\", \"linecolor\": \"white\", \"ticks\": \"\", \"title\": {\"standoff\": 15}, \"zerolinecolor\": \"white\", \"zerolinewidth\": 2}, \"yaxis\": {\"automargin\": true, \"gridcolor\": \"white\", \"linecolor\": \"white\", \"ticks\": \"\", \"title\": {\"standoff\": 15}, \"zerolinecolor\": \"white\", \"zerolinewidth\": 2}}}, \"title\": {\"text\": \"Feature importance of Random Forest model\"}, \"xaxis\": {\"anchor\": \"y\", \"domain\": [0.0, 1.0], \"title\": {\"text\": \"importance\"}}, \"yaxis\": {\"anchor\": \"x\", \"domain\": [0.0, 1.0], \"title\": {\"text\": \"feature\"}}},                        {\"responsive\": true}                    ).then(function(){\n",
       "                            \n",
       "var gd = document.getElementById('79184aa8-ee72-4fee-a90d-e66d049df145');\n",
       "var x = new MutationObserver(function (mutations, observer) {{\n",
       "        var display = window.getComputedStyle(gd).display;\n",
       "        if (!display || display === 'none') {{\n",
       "            console.log([gd, 'removed!']);\n",
       "            Plotly.purge(gd);\n",
       "            observer.disconnect();\n",
       "        }}\n",
       "}});\n",
       "\n",
       "// Listen for the removal of the full notebook cells\n",
       "var notebookContainer = gd.closest('#notebook-container');\n",
       "if (notebookContainer) {{\n",
       "    x.observe(notebookContainer, {childList: true});\n",
       "}}\n",
       "\n",
       "// Listen for the clearing of the current output cell\n",
       "var outputEl = gd.closest('.output');\n",
       "if (outputEl) {{\n",
       "    x.observe(outputEl, {childList: true});\n",
       "}}\n",
       "\n",
       "                        })                };                });            </script>        </div>"
      ]
     },
     "metadata": {},
     "output_type": "display_data"
    }
   ],
   "source": [
    "# Draw a horizontal barplot of importances_sorted\n",
    "import plotly.express as px\n",
    "\n",
    "\n",
    "fig = px.bar(importances_df, y=\"feature\", x=\"importance\", orientation='h'    )\n",
    "\n",
    "fig.update_layout(\n",
    "    font_family=\"Helvetica Neue, Helvetica, Arial, sans-serif\",\n",
    "    font_color=\"black\",\n",
    "    title = {'text':'Feature importance of Random Forest model'}\n",
    "    #markercolor = \"#212c52\"\n",
    "  \n",
    ")\n",
    "fig.update_traces(marker_color='#75c3ff', marker_line_color='#75c3ff',\n",
    "                  marker_line_width=1.5, opacity=1)\n",
    "\n",
    "fig.show()\n"
   ]
  },
  {
   "cell_type": "markdown",
   "id": "ceramic-speech",
   "metadata": {},
   "source": [
    "## Calculating prediction intervals"
   ]
  },
  {
   "cell_type": "code",
   "execution_count": null,
   "id": "hydraulic-performer",
   "metadata": {},
   "outputs": [],
   "source": []
  },
  {
   "cell_type": "code",
   "execution_count": 145,
   "id": "positive-daniel",
   "metadata": {},
   "outputs": [],
   "source": [
    "from sklearn.ensemble import GradientBoostingRegressor# Set lower and upper quantile\n",
    "\n",
    "LOWER_ALPHA = 0.05\n",
    "UPPER_ALPHA = 0.90# Each model has to be separate\n",
    "\n",
    "lower_model = GradientBoostingRegressor(loss=\"quantile\",                   \n",
    "                                        alpha=LOWER_ALPHA)\n",
    "# The mid model will use the default loss\n",
    "mid_model = GradientBoostingRegressor(loss=\"ls\")\n",
    "\n",
    "upper_model = GradientBoostingRegressor(loss=\"quantile\",\n",
    "                                        alpha=UPPER_ALPHA)"
   ]
  },
  {
   "cell_type": "code",
   "execution_count": 146,
   "id": "senior-making",
   "metadata": {},
   "outputs": [],
   "source": [
    "import scipy.stats\n",
    "import decimal\n",
    "\n",
    "weights = scipy.stats.norm(1.5, 1).pdf(y_train.apply(float))"
   ]
  },
  {
   "cell_type": "code",
   "execution_count": null,
   "id": "friendly-candidate",
   "metadata": {},
   "outputs": [],
   "source": []
  },
  {
   "cell_type": "code",
   "execution_count": 147,
   "id": "serial-valve",
   "metadata": {},
   "outputs": [
    {
     "data": {
      "application/vnd.plotly.v1+json": {
       "config": {
        "plotlyServerURL": "https://plot.ly"
       },
       "data": [
        {
         "hovertemplate": "x=%{x}<br>y=%{y}<extra></extra>",
         "legendgroup": "",
         "marker": {
          "color": "#636efa",
          "symbol": "circle"
         },
         "mode": "markers",
         "name": "",
         "orientation": "v",
         "showlegend": false,
         "type": "scatter",
         "x": [
          2.494154594018443,
          3.2143138974244,
          2.7234556720351857,
          2.681241237375587,
          3.083860800866573,
          3.4216039268698313,
          4.544068044350276,
          2.2068258760318495,
          4.4428872189023485,
          3.2345172835126865,
          2.503790683057181,
          3.0881360887005513,
          4.544068044350276,
          3.1950689964685903,
          2.656098202012832,
          2.815577748324267,
          3.019116290447073,
          2.369215857410143,
          4.544068044350276,
          3.470704429722788,
          2.637489729512511,
          2.2528530309798933,
          3.6769678142947586,
          4.028855809390444,
          4.069298012115529,
          3.549371152333177,
          2.6893088591236203,
          2.4578818967339924,
          2.403120521175818,
          2.7589118923979736,
          2.369215857410143,
          3.7285161047597666,
          2.8344207036815328,
          2.94546858513182,
          2.637489729512511,
          2.82020145948564,
          3.336859820916809,
          3.4933186082321015,
          4.544068044350276,
          2.586587304671755,
          3.2143138974244,
          3.317854489331469,
          2.6857417386022635,
          3.244524511570084,
          3.059941888061955,
          3.17868923977559,
          3.7019994748896368,
          3.380934463330702,
          2.5943925503754266,
          2.155336037465062,
          2.3654879848909,
          2.9916690073799486,
          3.0773679052841563,
          3.3881012015705165,
          3.0729847446279304,
          2.940516484932567,
          2.7315887651867388,
          2.9800033715837464,
          3.1300119496719043,
          3.253580289562183,
          4.544068044350276,
          2.5943925503754266,
          3.2068258760318495,
          2.9508514588885464,
          2.4899584794248346,
          3.7567881987681178,
          3.1743505974793798,
          2.8524799936368566,
          2.6599162000698504,
          3.584670384464349,
          4.544068044350276,
          3.0538464268522527,
          3.025715383901341,
          2.824776462475546,
          3.380934463330702,
          2.747411807886423,
          4.374216605428374,
          3.3925210899319325,
          3.6534054906645013,
          3.296665190261531,
          2.7589118923979736,
          3.003029470553618,
          2.5403294747908736,
          2.900913067737669,
          3.885530833188092,
          3.1089031276673134,
          2.2068258760318495,
          4.268648164671602,
          2.5211380837040362,
          4.544068044350276,
          3.7023443583557687,
          2.663700925389648,
          2.6180480967120925,
          3.7480328941301435,
          3.1826999033360424,
          2.4313637641589874,
          2.6414741105040997,
          3.3283796034387376,
          3.143327129992046,
          2.290034611362518,
          3.2245330626060857,
          2.7193312869837265,
          2.806179973983887,
          3.274388795550379,
          3.044539760392411,
          4.317958924700952,
          3.520483532740792,
          2.5440680443502757,
          3.2538224387080734,
          3.0199466816788423,
          3.330413773349191,
          3.166133970305109,
          2.5477747053878224,
          2.663700925389648,
          3.0492180226701815,
          2.494154594018443,
          3.4216039268698313,
          3.519302849235429,
          3.9205928620848085,
          2.3324384599156054,
          3.885530833188092,
          2.8573324964312685,
          2.2528530309798933,
          2.403120521175818,
          4.374216605428374,
          2.9628426812012423,
          3.7866804531966487,
          2.7737864449811935,
          4.317958924700952,
          3.7480328941301435,
          3.274850320016665,
          4.544068044350276,
          3.7285161047597666,
          2.8750612633917,
          3.2095150145426308,
          3.2038484637462346,
          3.2643455070500926,
          3.3492775274679554,
          2.5477747053878224,
          4.544068044350276,
          3.307282047033346,
          2.247973266361807,
          3.3546845539547285,
          2.7781512503836434,
          2.4899584794248346,
          2.6857417386022635,
          2.6893088591236203,
          2.7972675408307164,
          3.274388795550379,
          4.544068044350276,
          3.7019994748896368,
          2.7867514221455614,
          3.2038484637462346,
          3.1743505974793798,
          4.544068044350276,
          3.520483532740792,
          3.0145205387579237,
          3.163757523981956,
          3.4214393902200495,
          2.53655844257153,
          4.374216605428374,
          2.938519725176492,
          2.870403905279027,
          3.1950689964685903,
          2.574031267727719,
          3.7019994748896368,
          2.9858753573083936,
          4.103358939866562,
          2.5477747053878224,
          2.3283796034387376,
          2.428134794028789,
          2.94546858513182,
          3.7866804531966487,
          4.223755453657241
         ],
         "xaxis": "x",
         "y": [
          0.24338512550651864,
          0.09177873962691448,
          0.18874461446002117,
          0.1985719127427236,
          0.11380759137600645,
          0.06296228648350091,
          0.0038792491484222922,
          0.310758267884881,
          0.005251554637454089,
          0.0886363143701479,
          0.24105349458253364,
          0.11303851797445204,
          0.0038792491484222922,
          0.09483962378808201,
          0.204493301496657,
          0.1679127232306421,
          0.1258334986539871,
          0.2734308188657001,
          0.0038792491484222922,
          0.0572243078835087,
          0.20890410175870425,
          0.3004925322694479,
          0.037308542188986,
          0.016301561380397553,
          0.014704750550041211,
          0.048854949111361456,
          0.19668214815831483,
          0.25215598439975806,
          0.26533771421301006,
          0.18061851757543282,
          0.2734308188657001,
          0.03330390745823612,
          0.163772363891047,
          0.14034827758878407,
          0.20890410175870425,
          0.1668926512703367,
          0.07383181563913634,
          0.05471605677269913,
          0.0038792491484222922,
          0.2210703022014667,
          0.09177873962691448,
          0.07644100551473945,
          0.19751706989327597,
          0.08710670488373246,
          0.1181680068506739,
          0.09749664468342309,
          0.03531881772992519,
          0.06802392748791,
          0.21919663827484007,
          0.3218495128091474,
          0.2743163547578877,
          0.13114171494906435,
          0.11498158573139561,
          0.06711138301184906,
          0.11577819427568399,
          0.1413547762910639,
          0.18686964767118713,
          0.13343463811721817,
          0.10567277253058657,
          0.08573788813295743,
          0.0038792491484222922,
          0.21919663827484007,
          0.09296187475511541,
          0.139258479063999,
          0.24440039665845684,
          0.03125784106309966,
          0.09820840321344876,
          0.15984677165047098,
          0.20359117728876835,
          0.04541722506669231,
          0.0038792491484222922,
          0.1192947577812323,
          0.12457563349954309,
          0.16588593407077765,
          0.06802392748791,
          0.1832403422068256,
          0.0064125448095553525,
          0.06655300566670451,
          0.03926129376854772,
          0.07942505263283103,
          0.18061851757543282,
          0.12892978464561256,
          0.23221740832762866,
          0.14953612973455382,
          0.02318343622190406,
          0.10934763386063923,
          0.310758267884881,
          0.008637476046638795,
          0.23685668480954347,
          0.0038792491484222922,
          0.03529200353014829,
          0.20269792647943183,
          0.21353504672948542,
          0.03188038081875333,
          0.09684165901550454,
          0.25855217605413183,
          0.20795779975041653,
          0.07498819931140412,
          0.10339480486153838,
          0.2919957952109502,
          0.09018017411734607,
          0.18969781374434194,
          0.16999409200918014,
          0.08264786126246923,
          0.12102718745408125,
          0.0075260511992160835,
          0.051812938327500356,
          0.23131437248559383,
          0.08570148664357523,
          0.12567482136889466,
          0.07470966402663877,
          0.09956548240001487,
          0.23041933144708387,
          0.20269792647943183,
          0.12015451084151285,
          0.24338512550651864,
          0.06296228648350091,
          0.05193665211147762,
          0.021310115024849422,
          0.2821220703915279,
          0.02318343622190406,
          0.15879927651365328,
          0.3004925322694479,
          0.26533771421301006,
          0.0064125448095553525,
          0.13684684637170916,
          0.029205673789592036,
          0.17724816133436821,
          0.0075260511992160835,
          0.03188038081875333,
          0.08258019786917511,
          0.0038792491484222922,
          0.03330390745823612,
          0.15499920792381827,
          0.09253583300145109,
          0.09343508826790344,
          0.0841296626470169,
          0.07216123995210413,
          0.23041933144708387,
          0.0038792491484222922,
          0.077919991247922,
          0.30159490482702167,
          0.07144224409924513,
          0.17626374709429243,
          0.24440039665845684,
          0.19751706989327597,
          0.19668214815831483,
          0.17197776746441484,
          0.08264786126246923,
          0.0038792491484222922,
          0.03531881772992519,
          0.1743303625763614,
          0.09343508826790344,
          0.09820840321344876,
          0.0038792491484222922,
          0.051812938327500356,
          0.12671373848251563,
          0.09996020896734097,
          0.06298219583345864,
          0.23312855587020773,
          0.0064125448095553525,
          0.14176166697411377,
          0.15599333999141382,
          0.09483962378808201,
          0.22408941890714804,
          0.03531881772992519,
          0.13227776037777395,
          0.013464786374384252,
          0.23041933144708387,
          0.28307457025870564,
          0.2593295502902191,
          0.14034827758878407,
          0.029205673789592036,
          0.009770765939978521
         ],
         "yaxis": "y"
        }
       ],
       "layout": {
        "legend": {
         "tracegroupgap": 0
        },
        "margin": {
         "t": 60
        },
        "template": {
         "data": {
          "bar": [
           {
            "error_x": {
             "color": "#2a3f5f"
            },
            "error_y": {
             "color": "#2a3f5f"
            },
            "marker": {
             "line": {
              "color": "#E5ECF6",
              "width": 0.5
             }
            },
            "type": "bar"
           }
          ],
          "barpolar": [
           {
            "marker": {
             "line": {
              "color": "#E5ECF6",
              "width": 0.5
             }
            },
            "type": "barpolar"
           }
          ],
          "carpet": [
           {
            "aaxis": {
             "endlinecolor": "#2a3f5f",
             "gridcolor": "white",
             "linecolor": "white",
             "minorgridcolor": "white",
             "startlinecolor": "#2a3f5f"
            },
            "baxis": {
             "endlinecolor": "#2a3f5f",
             "gridcolor": "white",
             "linecolor": "white",
             "minorgridcolor": "white",
             "startlinecolor": "#2a3f5f"
            },
            "type": "carpet"
           }
          ],
          "choropleth": [
           {
            "colorbar": {
             "outlinewidth": 0,
             "ticks": ""
            },
            "type": "choropleth"
           }
          ],
          "contour": [
           {
            "colorbar": {
             "outlinewidth": 0,
             "ticks": ""
            },
            "colorscale": [
             [
              0,
              "#0d0887"
             ],
             [
              0.1111111111111111,
              "#46039f"
             ],
             [
              0.2222222222222222,
              "#7201a8"
             ],
             [
              0.3333333333333333,
              "#9c179e"
             ],
             [
              0.4444444444444444,
              "#bd3786"
             ],
             [
              0.5555555555555556,
              "#d8576b"
             ],
             [
              0.6666666666666666,
              "#ed7953"
             ],
             [
              0.7777777777777778,
              "#fb9f3a"
             ],
             [
              0.8888888888888888,
              "#fdca26"
             ],
             [
              1,
              "#f0f921"
             ]
            ],
            "type": "contour"
           }
          ],
          "contourcarpet": [
           {
            "colorbar": {
             "outlinewidth": 0,
             "ticks": ""
            },
            "type": "contourcarpet"
           }
          ],
          "heatmap": [
           {
            "colorbar": {
             "outlinewidth": 0,
             "ticks": ""
            },
            "colorscale": [
             [
              0,
              "#0d0887"
             ],
             [
              0.1111111111111111,
              "#46039f"
             ],
             [
              0.2222222222222222,
              "#7201a8"
             ],
             [
              0.3333333333333333,
              "#9c179e"
             ],
             [
              0.4444444444444444,
              "#bd3786"
             ],
             [
              0.5555555555555556,
              "#d8576b"
             ],
             [
              0.6666666666666666,
              "#ed7953"
             ],
             [
              0.7777777777777778,
              "#fb9f3a"
             ],
             [
              0.8888888888888888,
              "#fdca26"
             ],
             [
              1,
              "#f0f921"
             ]
            ],
            "type": "heatmap"
           }
          ],
          "heatmapgl": [
           {
            "colorbar": {
             "outlinewidth": 0,
             "ticks": ""
            },
            "colorscale": [
             [
              0,
              "#0d0887"
             ],
             [
              0.1111111111111111,
              "#46039f"
             ],
             [
              0.2222222222222222,
              "#7201a8"
             ],
             [
              0.3333333333333333,
              "#9c179e"
             ],
             [
              0.4444444444444444,
              "#bd3786"
             ],
             [
              0.5555555555555556,
              "#d8576b"
             ],
             [
              0.6666666666666666,
              "#ed7953"
             ],
             [
              0.7777777777777778,
              "#fb9f3a"
             ],
             [
              0.8888888888888888,
              "#fdca26"
             ],
             [
              1,
              "#f0f921"
             ]
            ],
            "type": "heatmapgl"
           }
          ],
          "histogram": [
           {
            "marker": {
             "colorbar": {
              "outlinewidth": 0,
              "ticks": ""
             }
            },
            "type": "histogram"
           }
          ],
          "histogram2d": [
           {
            "colorbar": {
             "outlinewidth": 0,
             "ticks": ""
            },
            "colorscale": [
             [
              0,
              "#0d0887"
             ],
             [
              0.1111111111111111,
              "#46039f"
             ],
             [
              0.2222222222222222,
              "#7201a8"
             ],
             [
              0.3333333333333333,
              "#9c179e"
             ],
             [
              0.4444444444444444,
              "#bd3786"
             ],
             [
              0.5555555555555556,
              "#d8576b"
             ],
             [
              0.6666666666666666,
              "#ed7953"
             ],
             [
              0.7777777777777778,
              "#fb9f3a"
             ],
             [
              0.8888888888888888,
              "#fdca26"
             ],
             [
              1,
              "#f0f921"
             ]
            ],
            "type": "histogram2d"
           }
          ],
          "histogram2dcontour": [
           {
            "colorbar": {
             "outlinewidth": 0,
             "ticks": ""
            },
            "colorscale": [
             [
              0,
              "#0d0887"
             ],
             [
              0.1111111111111111,
              "#46039f"
             ],
             [
              0.2222222222222222,
              "#7201a8"
             ],
             [
              0.3333333333333333,
              "#9c179e"
             ],
             [
              0.4444444444444444,
              "#bd3786"
             ],
             [
              0.5555555555555556,
              "#d8576b"
             ],
             [
              0.6666666666666666,
              "#ed7953"
             ],
             [
              0.7777777777777778,
              "#fb9f3a"
             ],
             [
              0.8888888888888888,
              "#fdca26"
             ],
             [
              1,
              "#f0f921"
             ]
            ],
            "type": "histogram2dcontour"
           }
          ],
          "mesh3d": [
           {
            "colorbar": {
             "outlinewidth": 0,
             "ticks": ""
            },
            "type": "mesh3d"
           }
          ],
          "parcoords": [
           {
            "line": {
             "colorbar": {
              "outlinewidth": 0,
              "ticks": ""
             }
            },
            "type": "parcoords"
           }
          ],
          "pie": [
           {
            "automargin": true,
            "type": "pie"
           }
          ],
          "scatter": [
           {
            "marker": {
             "colorbar": {
              "outlinewidth": 0,
              "ticks": ""
             }
            },
            "type": "scatter"
           }
          ],
          "scatter3d": [
           {
            "line": {
             "colorbar": {
              "outlinewidth": 0,
              "ticks": ""
             }
            },
            "marker": {
             "colorbar": {
              "outlinewidth": 0,
              "ticks": ""
             }
            },
            "type": "scatter3d"
           }
          ],
          "scattercarpet": [
           {
            "marker": {
             "colorbar": {
              "outlinewidth": 0,
              "ticks": ""
             }
            },
            "type": "scattercarpet"
           }
          ],
          "scattergeo": [
           {
            "marker": {
             "colorbar": {
              "outlinewidth": 0,
              "ticks": ""
             }
            },
            "type": "scattergeo"
           }
          ],
          "scattergl": [
           {
            "marker": {
             "colorbar": {
              "outlinewidth": 0,
              "ticks": ""
             }
            },
            "type": "scattergl"
           }
          ],
          "scattermapbox": [
           {
            "marker": {
             "colorbar": {
              "outlinewidth": 0,
              "ticks": ""
             }
            },
            "type": "scattermapbox"
           }
          ],
          "scatterpolar": [
           {
            "marker": {
             "colorbar": {
              "outlinewidth": 0,
              "ticks": ""
             }
            },
            "type": "scatterpolar"
           }
          ],
          "scatterpolargl": [
           {
            "marker": {
             "colorbar": {
              "outlinewidth": 0,
              "ticks": ""
             }
            },
            "type": "scatterpolargl"
           }
          ],
          "scatterternary": [
           {
            "marker": {
             "colorbar": {
              "outlinewidth": 0,
              "ticks": ""
             }
            },
            "type": "scatterternary"
           }
          ],
          "surface": [
           {
            "colorbar": {
             "outlinewidth": 0,
             "ticks": ""
            },
            "colorscale": [
             [
              0,
              "#0d0887"
             ],
             [
              0.1111111111111111,
              "#46039f"
             ],
             [
              0.2222222222222222,
              "#7201a8"
             ],
             [
              0.3333333333333333,
              "#9c179e"
             ],
             [
              0.4444444444444444,
              "#bd3786"
             ],
             [
              0.5555555555555556,
              "#d8576b"
             ],
             [
              0.6666666666666666,
              "#ed7953"
             ],
             [
              0.7777777777777778,
              "#fb9f3a"
             ],
             [
              0.8888888888888888,
              "#fdca26"
             ],
             [
              1,
              "#f0f921"
             ]
            ],
            "type": "surface"
           }
          ],
          "table": [
           {
            "cells": {
             "fill": {
              "color": "#EBF0F8"
             },
             "line": {
              "color": "white"
             }
            },
            "header": {
             "fill": {
              "color": "#C8D4E3"
             },
             "line": {
              "color": "white"
             }
            },
            "type": "table"
           }
          ]
         },
         "layout": {
          "annotationdefaults": {
           "arrowcolor": "#2a3f5f",
           "arrowhead": 0,
           "arrowwidth": 1
          },
          "autotypenumbers": "strict",
          "coloraxis": {
           "colorbar": {
            "outlinewidth": 0,
            "ticks": ""
           }
          },
          "colorscale": {
           "diverging": [
            [
             0,
             "#8e0152"
            ],
            [
             0.1,
             "#c51b7d"
            ],
            [
             0.2,
             "#de77ae"
            ],
            [
             0.3,
             "#f1b6da"
            ],
            [
             0.4,
             "#fde0ef"
            ],
            [
             0.5,
             "#f7f7f7"
            ],
            [
             0.6,
             "#e6f5d0"
            ],
            [
             0.7,
             "#b8e186"
            ],
            [
             0.8,
             "#7fbc41"
            ],
            [
             0.9,
             "#4d9221"
            ],
            [
             1,
             "#276419"
            ]
           ],
           "sequential": [
            [
             0,
             "#0d0887"
            ],
            [
             0.1111111111111111,
             "#46039f"
            ],
            [
             0.2222222222222222,
             "#7201a8"
            ],
            [
             0.3333333333333333,
             "#9c179e"
            ],
            [
             0.4444444444444444,
             "#bd3786"
            ],
            [
             0.5555555555555556,
             "#d8576b"
            ],
            [
             0.6666666666666666,
             "#ed7953"
            ],
            [
             0.7777777777777778,
             "#fb9f3a"
            ],
            [
             0.8888888888888888,
             "#fdca26"
            ],
            [
             1,
             "#f0f921"
            ]
           ],
           "sequentialminus": [
            [
             0,
             "#0d0887"
            ],
            [
             0.1111111111111111,
             "#46039f"
            ],
            [
             0.2222222222222222,
             "#7201a8"
            ],
            [
             0.3333333333333333,
             "#9c179e"
            ],
            [
             0.4444444444444444,
             "#bd3786"
            ],
            [
             0.5555555555555556,
             "#d8576b"
            ],
            [
             0.6666666666666666,
             "#ed7953"
            ],
            [
             0.7777777777777778,
             "#fb9f3a"
            ],
            [
             0.8888888888888888,
             "#fdca26"
            ],
            [
             1,
             "#f0f921"
            ]
           ]
          },
          "colorway": [
           "#636efa",
           "#EF553B",
           "#00cc96",
           "#ab63fa",
           "#FFA15A",
           "#19d3f3",
           "#FF6692",
           "#B6E880",
           "#FF97FF",
           "#FECB52"
          ],
          "font": {
           "color": "#2a3f5f"
          },
          "geo": {
           "bgcolor": "white",
           "lakecolor": "white",
           "landcolor": "#E5ECF6",
           "showlakes": true,
           "showland": true,
           "subunitcolor": "white"
          },
          "hoverlabel": {
           "align": "left"
          },
          "hovermode": "closest",
          "mapbox": {
           "style": "light"
          },
          "paper_bgcolor": "white",
          "plot_bgcolor": "#E5ECF6",
          "polar": {
           "angularaxis": {
            "gridcolor": "white",
            "linecolor": "white",
            "ticks": ""
           },
           "bgcolor": "#E5ECF6",
           "radialaxis": {
            "gridcolor": "white",
            "linecolor": "white",
            "ticks": ""
           }
          },
          "scene": {
           "xaxis": {
            "backgroundcolor": "#E5ECF6",
            "gridcolor": "white",
            "gridwidth": 2,
            "linecolor": "white",
            "showbackground": true,
            "ticks": "",
            "zerolinecolor": "white"
           },
           "yaxis": {
            "backgroundcolor": "#E5ECF6",
            "gridcolor": "white",
            "gridwidth": 2,
            "linecolor": "white",
            "showbackground": true,
            "ticks": "",
            "zerolinecolor": "white"
           },
           "zaxis": {
            "backgroundcolor": "#E5ECF6",
            "gridcolor": "white",
            "gridwidth": 2,
            "linecolor": "white",
            "showbackground": true,
            "ticks": "",
            "zerolinecolor": "white"
           }
          },
          "shapedefaults": {
           "line": {
            "color": "#2a3f5f"
           }
          },
          "ternary": {
           "aaxis": {
            "gridcolor": "white",
            "linecolor": "white",
            "ticks": ""
           },
           "baxis": {
            "gridcolor": "white",
            "linecolor": "white",
            "ticks": ""
           },
           "bgcolor": "#E5ECF6",
           "caxis": {
            "gridcolor": "white",
            "linecolor": "white",
            "ticks": ""
           }
          },
          "title": {
           "x": 0.05
          },
          "xaxis": {
           "automargin": true,
           "gridcolor": "white",
           "linecolor": "white",
           "ticks": "",
           "title": {
            "standoff": 15
           },
           "zerolinecolor": "white",
           "zerolinewidth": 2
          },
          "yaxis": {
           "automargin": true,
           "gridcolor": "white",
           "linecolor": "white",
           "ticks": "",
           "title": {
            "standoff": 15
           },
           "zerolinecolor": "white",
           "zerolinewidth": 2
          }
         }
        },
        "xaxis": {
         "anchor": "y",
         "domain": [
          0,
          1
         ],
         "title": {
          "text": "x"
         }
        },
        "yaxis": {
         "anchor": "x",
         "domain": [
          0,
          1
         ],
         "title": {
          "text": "y"
         }
        }
       }
      },
      "text/html": [
       "<div>                            <div id=\"6769cf95-c006-46b4-9c86-e26e8ebbe41c\" class=\"plotly-graph-div\" style=\"height:525px; width:100%;\"></div>            <script type=\"text/javascript\">                require([\"plotly\"], function(Plotly) {                    window.PLOTLYENV=window.PLOTLYENV || {};                                    if (document.getElementById(\"6769cf95-c006-46b4-9c86-e26e8ebbe41c\")) {                    Plotly.newPlot(                        \"6769cf95-c006-46b4-9c86-e26e8ebbe41c\",                        [{\"hovertemplate\": \"x=%{x}<br>y=%{y}<extra></extra>\", \"legendgroup\": \"\", \"marker\": {\"color\": \"#636efa\", \"symbol\": \"circle\"}, \"mode\": \"markers\", \"name\": \"\", \"orientation\": \"v\", \"showlegend\": false, \"type\": \"scatter\", \"x\": [2.494154594018443, 3.2143138974244, 2.7234556720351857, 2.681241237375587, 3.083860800866573, 3.4216039268698313, 4.544068044350276, 2.2068258760318495, 4.4428872189023485, 3.2345172835126865, 2.503790683057181, 3.0881360887005513, 4.544068044350276, 3.1950689964685903, 2.656098202012832, 2.815577748324267, 3.019116290447073, 2.369215857410143, 4.544068044350276, 3.470704429722788, 2.637489729512511, 2.2528530309798933, 3.6769678142947586, 4.028855809390444, 4.069298012115529, 3.549371152333177, 2.6893088591236203, 2.4578818967339924, 2.403120521175818, 2.7589118923979736, 2.369215857410143, 3.7285161047597666, 2.8344207036815328, 2.94546858513182, 2.637489729512511, 2.82020145948564, 3.336859820916809, 3.4933186082321015, 4.544068044350276, 2.586587304671755, 3.2143138974244, 3.317854489331469, 2.6857417386022635, 3.244524511570084, 3.059941888061955, 3.17868923977559, 3.7019994748896368, 3.380934463330702, 2.5943925503754266, 2.155336037465062, 2.3654879848909, 2.9916690073799486, 3.0773679052841563, 3.3881012015705165, 3.0729847446279304, 2.940516484932567, 2.7315887651867388, 2.9800033715837464, 3.1300119496719043, 3.253580289562183, 4.544068044350276, 2.5943925503754266, 3.2068258760318495, 2.9508514588885464, 2.4899584794248346, 3.7567881987681178, 3.1743505974793798, 2.8524799936368566, 2.6599162000698504, 3.584670384464349, 4.544068044350276, 3.0538464268522527, 3.025715383901341, 2.824776462475546, 3.380934463330702, 2.747411807886423, 4.374216605428374, 3.3925210899319325, 3.6534054906645013, 3.296665190261531, 2.7589118923979736, 3.003029470553618, 2.5403294747908736, 2.900913067737669, 3.885530833188092, 3.1089031276673134, 2.2068258760318495, 4.268648164671602, 2.5211380837040362, 4.544068044350276, 3.7023443583557687, 2.663700925389648, 2.6180480967120925, 3.7480328941301435, 3.1826999033360424, 2.4313637641589874, 2.6414741105040997, 3.3283796034387376, 3.143327129992046, 2.290034611362518, 3.2245330626060857, 2.7193312869837265, 2.806179973983887, 3.274388795550379, 3.044539760392411, 4.317958924700952, 3.520483532740792, 2.5440680443502757, 3.2538224387080734, 3.0199466816788423, 3.330413773349191, 3.166133970305109, 2.5477747053878224, 2.663700925389648, 3.0492180226701815, 2.494154594018443, 3.4216039268698313, 3.519302849235429, 3.9205928620848085, 2.3324384599156054, 3.885530833188092, 2.8573324964312685, 2.2528530309798933, 2.403120521175818, 4.374216605428374, 2.9628426812012423, 3.7866804531966487, 2.7737864449811935, 4.317958924700952, 3.7480328941301435, 3.274850320016665, 4.544068044350276, 3.7285161047597666, 2.8750612633917, 3.2095150145426308, 3.2038484637462346, 3.2643455070500926, 3.3492775274679554, 2.5477747053878224, 4.544068044350276, 3.307282047033346, 2.247973266361807, 3.3546845539547285, 2.7781512503836434, 2.4899584794248346, 2.6857417386022635, 2.6893088591236203, 2.7972675408307164, 3.274388795550379, 4.544068044350276, 3.7019994748896368, 2.7867514221455614, 3.2038484637462346, 3.1743505974793798, 4.544068044350276, 3.520483532740792, 3.0145205387579237, 3.163757523981956, 3.4214393902200495, 2.53655844257153, 4.374216605428374, 2.938519725176492, 2.870403905279027, 3.1950689964685903, 2.574031267727719, 3.7019994748896368, 2.9858753573083936, 4.103358939866562, 2.5477747053878224, 2.3283796034387376, 2.428134794028789, 2.94546858513182, 3.7866804531966487, 4.223755453657241], \"xaxis\": \"x\", \"y\": [0.24338512550651864, 0.09177873962691448, 0.18874461446002117, 0.1985719127427236, 0.11380759137600645, 0.06296228648350091, 0.0038792491484222922, 0.310758267884881, 0.005251554637454089, 0.0886363143701479, 0.24105349458253364, 0.11303851797445204, 0.0038792491484222922, 0.09483962378808201, 0.204493301496657, 0.1679127232306421, 0.1258334986539871, 0.2734308188657001, 0.0038792491484222922, 0.0572243078835087, 0.20890410175870425, 0.3004925322694479, 0.037308542188986, 0.016301561380397553, 0.014704750550041211, 0.048854949111361456, 0.19668214815831483, 0.25215598439975806, 0.26533771421301006, 0.18061851757543282, 0.2734308188657001, 0.03330390745823612, 0.163772363891047, 0.14034827758878407, 0.20890410175870425, 0.1668926512703367, 0.07383181563913634, 0.05471605677269913, 0.0038792491484222922, 0.2210703022014667, 0.09177873962691448, 0.07644100551473945, 0.19751706989327597, 0.08710670488373246, 0.1181680068506739, 0.09749664468342309, 0.03531881772992519, 0.06802392748791, 0.21919663827484007, 0.3218495128091474, 0.2743163547578877, 0.13114171494906435, 0.11498158573139561, 0.06711138301184906, 0.11577819427568399, 0.1413547762910639, 0.18686964767118713, 0.13343463811721817, 0.10567277253058657, 0.08573788813295743, 0.0038792491484222922, 0.21919663827484007, 0.09296187475511541, 0.139258479063999, 0.24440039665845684, 0.03125784106309966, 0.09820840321344876, 0.15984677165047098, 0.20359117728876835, 0.04541722506669231, 0.0038792491484222922, 0.1192947577812323, 0.12457563349954309, 0.16588593407077765, 0.06802392748791, 0.1832403422068256, 0.0064125448095553525, 0.06655300566670451, 0.03926129376854772, 0.07942505263283103, 0.18061851757543282, 0.12892978464561256, 0.23221740832762866, 0.14953612973455382, 0.02318343622190406, 0.10934763386063923, 0.310758267884881, 0.008637476046638795, 0.23685668480954347, 0.0038792491484222922, 0.03529200353014829, 0.20269792647943183, 0.21353504672948542, 0.03188038081875333, 0.09684165901550454, 0.25855217605413183, 0.20795779975041653, 0.07498819931140412, 0.10339480486153838, 0.2919957952109502, 0.09018017411734607, 0.18969781374434194, 0.16999409200918014, 0.08264786126246923, 0.12102718745408125, 0.0075260511992160835, 0.051812938327500356, 0.23131437248559383, 0.08570148664357523, 0.12567482136889466, 0.07470966402663877, 0.09956548240001487, 0.23041933144708387, 0.20269792647943183, 0.12015451084151285, 0.24338512550651864, 0.06296228648350091, 0.05193665211147762, 0.021310115024849422, 0.2821220703915279, 0.02318343622190406, 0.15879927651365328, 0.3004925322694479, 0.26533771421301006, 0.0064125448095553525, 0.13684684637170916, 0.029205673789592036, 0.17724816133436821, 0.0075260511992160835, 0.03188038081875333, 0.08258019786917511, 0.0038792491484222922, 0.03330390745823612, 0.15499920792381827, 0.09253583300145109, 0.09343508826790344, 0.0841296626470169, 0.07216123995210413, 0.23041933144708387, 0.0038792491484222922, 0.077919991247922, 0.30159490482702167, 0.07144224409924513, 0.17626374709429243, 0.24440039665845684, 0.19751706989327597, 0.19668214815831483, 0.17197776746441484, 0.08264786126246923, 0.0038792491484222922, 0.03531881772992519, 0.1743303625763614, 0.09343508826790344, 0.09820840321344876, 0.0038792491484222922, 0.051812938327500356, 0.12671373848251563, 0.09996020896734097, 0.06298219583345864, 0.23312855587020773, 0.0064125448095553525, 0.14176166697411377, 0.15599333999141382, 0.09483962378808201, 0.22408941890714804, 0.03531881772992519, 0.13227776037777395, 0.013464786374384252, 0.23041933144708387, 0.28307457025870564, 0.2593295502902191, 0.14034827758878407, 0.029205673789592036, 0.009770765939978521], \"yaxis\": \"y\"}],                        {\"legend\": {\"tracegroupgap\": 0}, \"margin\": {\"t\": 60}, \"template\": {\"data\": {\"bar\": [{\"error_x\": {\"color\": \"#2a3f5f\"}, \"error_y\": {\"color\": \"#2a3f5f\"}, \"marker\": {\"line\": {\"color\": \"#E5ECF6\", \"width\": 0.5}}, \"type\": \"bar\"}], \"barpolar\": [{\"marker\": {\"line\": {\"color\": \"#E5ECF6\", \"width\": 0.5}}, \"type\": \"barpolar\"}], \"carpet\": [{\"aaxis\": {\"endlinecolor\": \"#2a3f5f\", \"gridcolor\": \"white\", \"linecolor\": \"white\", \"minorgridcolor\": \"white\", \"startlinecolor\": \"#2a3f5f\"}, \"baxis\": {\"endlinecolor\": \"#2a3f5f\", \"gridcolor\": \"white\", \"linecolor\": \"white\", \"minorgridcolor\": \"white\", \"startlinecolor\": \"#2a3f5f\"}, \"type\": \"carpet\"}], \"choropleth\": [{\"colorbar\": {\"outlinewidth\": 0, \"ticks\": \"\"}, \"type\": \"choropleth\"}], \"contour\": [{\"colorbar\": {\"outlinewidth\": 0, \"ticks\": \"\"}, \"colorscale\": [[0.0, \"#0d0887\"], [0.1111111111111111, \"#46039f\"], [0.2222222222222222, \"#7201a8\"], [0.3333333333333333, \"#9c179e\"], [0.4444444444444444, \"#bd3786\"], [0.5555555555555556, \"#d8576b\"], [0.6666666666666666, \"#ed7953\"], [0.7777777777777778, \"#fb9f3a\"], [0.8888888888888888, \"#fdca26\"], [1.0, \"#f0f921\"]], \"type\": \"contour\"}], \"contourcarpet\": [{\"colorbar\": {\"outlinewidth\": 0, \"ticks\": \"\"}, \"type\": \"contourcarpet\"}], \"heatmap\": [{\"colorbar\": {\"outlinewidth\": 0, \"ticks\": \"\"}, \"colorscale\": [[0.0, \"#0d0887\"], [0.1111111111111111, \"#46039f\"], [0.2222222222222222, \"#7201a8\"], [0.3333333333333333, \"#9c179e\"], [0.4444444444444444, \"#bd3786\"], [0.5555555555555556, \"#d8576b\"], [0.6666666666666666, \"#ed7953\"], [0.7777777777777778, \"#fb9f3a\"], [0.8888888888888888, \"#fdca26\"], [1.0, \"#f0f921\"]], \"type\": \"heatmap\"}], \"heatmapgl\": [{\"colorbar\": {\"outlinewidth\": 0, \"ticks\": \"\"}, \"colorscale\": [[0.0, \"#0d0887\"], [0.1111111111111111, \"#46039f\"], [0.2222222222222222, \"#7201a8\"], [0.3333333333333333, \"#9c179e\"], [0.4444444444444444, \"#bd3786\"], [0.5555555555555556, \"#d8576b\"], [0.6666666666666666, \"#ed7953\"], [0.7777777777777778, \"#fb9f3a\"], [0.8888888888888888, \"#fdca26\"], [1.0, \"#f0f921\"]], \"type\": \"heatmapgl\"}], \"histogram\": [{\"marker\": {\"colorbar\": {\"outlinewidth\": 0, \"ticks\": \"\"}}, \"type\": \"histogram\"}], \"histogram2d\": [{\"colorbar\": {\"outlinewidth\": 0, \"ticks\": \"\"}, \"colorscale\": [[0.0, \"#0d0887\"], [0.1111111111111111, \"#46039f\"], [0.2222222222222222, \"#7201a8\"], [0.3333333333333333, \"#9c179e\"], [0.4444444444444444, \"#bd3786\"], [0.5555555555555556, \"#d8576b\"], [0.6666666666666666, \"#ed7953\"], [0.7777777777777778, \"#fb9f3a\"], [0.8888888888888888, \"#fdca26\"], [1.0, \"#f0f921\"]], \"type\": \"histogram2d\"}], \"histogram2dcontour\": [{\"colorbar\": {\"outlinewidth\": 0, \"ticks\": \"\"}, \"colorscale\": [[0.0, \"#0d0887\"], [0.1111111111111111, \"#46039f\"], [0.2222222222222222, \"#7201a8\"], [0.3333333333333333, \"#9c179e\"], [0.4444444444444444, \"#bd3786\"], [0.5555555555555556, \"#d8576b\"], [0.6666666666666666, \"#ed7953\"], [0.7777777777777778, \"#fb9f3a\"], [0.8888888888888888, \"#fdca26\"], [1.0, \"#f0f921\"]], \"type\": \"histogram2dcontour\"}], \"mesh3d\": [{\"colorbar\": {\"outlinewidth\": 0, \"ticks\": \"\"}, \"type\": \"mesh3d\"}], \"parcoords\": [{\"line\": {\"colorbar\": {\"outlinewidth\": 0, \"ticks\": \"\"}}, \"type\": \"parcoords\"}], \"pie\": [{\"automargin\": true, \"type\": \"pie\"}], \"scatter\": [{\"marker\": {\"colorbar\": {\"outlinewidth\": 0, \"ticks\": \"\"}}, \"type\": \"scatter\"}], \"scatter3d\": [{\"line\": {\"colorbar\": {\"outlinewidth\": 0, \"ticks\": \"\"}}, \"marker\": {\"colorbar\": {\"outlinewidth\": 0, \"ticks\": \"\"}}, \"type\": \"scatter3d\"}], \"scattercarpet\": [{\"marker\": {\"colorbar\": {\"outlinewidth\": 0, \"ticks\": \"\"}}, \"type\": \"scattercarpet\"}], \"scattergeo\": [{\"marker\": {\"colorbar\": {\"outlinewidth\": 0, \"ticks\": \"\"}}, \"type\": \"scattergeo\"}], \"scattergl\": [{\"marker\": {\"colorbar\": {\"outlinewidth\": 0, \"ticks\": \"\"}}, \"type\": \"scattergl\"}], \"scattermapbox\": [{\"marker\": {\"colorbar\": {\"outlinewidth\": 0, \"ticks\": \"\"}}, \"type\": \"scattermapbox\"}], \"scatterpolar\": [{\"marker\": {\"colorbar\": {\"outlinewidth\": 0, \"ticks\": \"\"}}, \"type\": \"scatterpolar\"}], \"scatterpolargl\": [{\"marker\": {\"colorbar\": {\"outlinewidth\": 0, \"ticks\": \"\"}}, \"type\": \"scatterpolargl\"}], \"scatterternary\": [{\"marker\": {\"colorbar\": {\"outlinewidth\": 0, \"ticks\": \"\"}}, \"type\": \"scatterternary\"}], \"surface\": [{\"colorbar\": {\"outlinewidth\": 0, \"ticks\": \"\"}, \"colorscale\": [[0.0, \"#0d0887\"], [0.1111111111111111, \"#46039f\"], [0.2222222222222222, \"#7201a8\"], [0.3333333333333333, \"#9c179e\"], [0.4444444444444444, \"#bd3786\"], [0.5555555555555556, \"#d8576b\"], [0.6666666666666666, \"#ed7953\"], [0.7777777777777778, \"#fb9f3a\"], [0.8888888888888888, \"#fdca26\"], [1.0, \"#f0f921\"]], \"type\": \"surface\"}], \"table\": [{\"cells\": {\"fill\": {\"color\": \"#EBF0F8\"}, \"line\": {\"color\": \"white\"}}, \"header\": {\"fill\": {\"color\": \"#C8D4E3\"}, \"line\": {\"color\": \"white\"}}, \"type\": \"table\"}]}, \"layout\": {\"annotationdefaults\": {\"arrowcolor\": \"#2a3f5f\", \"arrowhead\": 0, \"arrowwidth\": 1}, \"autotypenumbers\": \"strict\", \"coloraxis\": {\"colorbar\": {\"outlinewidth\": 0, \"ticks\": \"\"}}, \"colorscale\": {\"diverging\": [[0, \"#8e0152\"], [0.1, \"#c51b7d\"], [0.2, \"#de77ae\"], [0.3, \"#f1b6da\"], [0.4, \"#fde0ef\"], [0.5, \"#f7f7f7\"], [0.6, \"#e6f5d0\"], [0.7, \"#b8e186\"], [0.8, \"#7fbc41\"], [0.9, \"#4d9221\"], [1, \"#276419\"]], \"sequential\": [[0.0, \"#0d0887\"], [0.1111111111111111, \"#46039f\"], [0.2222222222222222, \"#7201a8\"], [0.3333333333333333, \"#9c179e\"], [0.4444444444444444, \"#bd3786\"], [0.5555555555555556, \"#d8576b\"], [0.6666666666666666, \"#ed7953\"], [0.7777777777777778, \"#fb9f3a\"], [0.8888888888888888, \"#fdca26\"], [1.0, \"#f0f921\"]], \"sequentialminus\": [[0.0, \"#0d0887\"], [0.1111111111111111, \"#46039f\"], [0.2222222222222222, \"#7201a8\"], [0.3333333333333333, \"#9c179e\"], [0.4444444444444444, \"#bd3786\"], [0.5555555555555556, \"#d8576b\"], [0.6666666666666666, \"#ed7953\"], [0.7777777777777778, \"#fb9f3a\"], [0.8888888888888888, \"#fdca26\"], [1.0, \"#f0f921\"]]}, \"colorway\": [\"#636efa\", \"#EF553B\", \"#00cc96\", \"#ab63fa\", \"#FFA15A\", \"#19d3f3\", \"#FF6692\", \"#B6E880\", \"#FF97FF\", \"#FECB52\"], \"font\": {\"color\": \"#2a3f5f\"}, \"geo\": {\"bgcolor\": \"white\", \"lakecolor\": \"white\", \"landcolor\": \"#E5ECF6\", \"showlakes\": true, \"showland\": true, \"subunitcolor\": \"white\"}, \"hoverlabel\": {\"align\": \"left\"}, \"hovermode\": \"closest\", \"mapbox\": {\"style\": \"light\"}, \"paper_bgcolor\": \"white\", \"plot_bgcolor\": \"#E5ECF6\", \"polar\": {\"angularaxis\": {\"gridcolor\": \"white\", \"linecolor\": \"white\", \"ticks\": \"\"}, \"bgcolor\": \"#E5ECF6\", \"radialaxis\": {\"gridcolor\": \"white\", \"linecolor\": \"white\", \"ticks\": \"\"}}, \"scene\": {\"xaxis\": {\"backgroundcolor\": \"#E5ECF6\", \"gridcolor\": \"white\", \"gridwidth\": 2, \"linecolor\": \"white\", \"showbackground\": true, \"ticks\": \"\", \"zerolinecolor\": \"white\"}, \"yaxis\": {\"backgroundcolor\": \"#E5ECF6\", \"gridcolor\": \"white\", \"gridwidth\": 2, \"linecolor\": \"white\", \"showbackground\": true, \"ticks\": \"\", \"zerolinecolor\": \"white\"}, \"zaxis\": {\"backgroundcolor\": \"#E5ECF6\", \"gridcolor\": \"white\", \"gridwidth\": 2, \"linecolor\": \"white\", \"showbackground\": true, \"ticks\": \"\", \"zerolinecolor\": \"white\"}}, \"shapedefaults\": {\"line\": {\"color\": \"#2a3f5f\"}}, \"ternary\": {\"aaxis\": {\"gridcolor\": \"white\", \"linecolor\": \"white\", \"ticks\": \"\"}, \"baxis\": {\"gridcolor\": \"white\", \"linecolor\": \"white\", \"ticks\": \"\"}, \"bgcolor\": \"#E5ECF6\", \"caxis\": {\"gridcolor\": \"white\", \"linecolor\": \"white\", \"ticks\": \"\"}}, \"title\": {\"x\": 0.05}, \"xaxis\": {\"automargin\": true, \"gridcolor\": \"white\", \"linecolor\": \"white\", \"ticks\": \"\", \"title\": {\"standoff\": 15}, \"zerolinecolor\": \"white\", \"zerolinewidth\": 2}, \"yaxis\": {\"automargin\": true, \"gridcolor\": \"white\", \"linecolor\": \"white\", \"ticks\": \"\", \"title\": {\"standoff\": 15}, \"zerolinecolor\": \"white\", \"zerolinewidth\": 2}}}, \"xaxis\": {\"anchor\": \"y\", \"domain\": [0.0, 1.0], \"title\": {\"text\": \"x\"}}, \"yaxis\": {\"anchor\": \"x\", \"domain\": [0.0, 1.0], \"title\": {\"text\": \"y\"}}},                        {\"responsive\": true}                    ).then(function(){\n",
       "                            \n",
       "var gd = document.getElementById('6769cf95-c006-46b4-9c86-e26e8ebbe41c');\n",
       "var x = new MutationObserver(function (mutations, observer) {{\n",
       "        var display = window.getComputedStyle(gd).display;\n",
       "        if (!display || display === 'none') {{\n",
       "            console.log([gd, 'removed!']);\n",
       "            Plotly.purge(gd);\n",
       "            observer.disconnect();\n",
       "        }}\n",
       "}});\n",
       "\n",
       "// Listen for the removal of the full notebook cells\n",
       "var notebookContainer = gd.closest('#notebook-container');\n",
       "if (notebookContainer) {{\n",
       "    x.observe(notebookContainer, {childList: true});\n",
       "}}\n",
       "\n",
       "// Listen for the clearing of the current output cell\n",
       "var outputEl = gd.closest('.output');\n",
       "if (outputEl) {{\n",
       "    x.observe(outputEl, {childList: true});\n",
       "}}\n",
       "\n",
       "                        })                };                });            </script>        </div>"
      ]
     },
     "metadata": {},
     "output_type": "display_data"
    }
   ],
   "source": [
    "px.scatter(x = y_train, y = weights)"
   ]
  },
  {
   "cell_type": "code",
   "execution_count": 148,
   "id": "weighted-nicholas",
   "metadata": {},
   "outputs": [],
   "source": [
    "# Fit models\n",
    "lower_model.fit(X_train, y_train, sample_weight =weights)\n",
    "mid_model.fit(X_train, y_train, sample_weight =weights)\n",
    "upper_model.fit(X_train, y_train, sample_weight =weights)# Record actual values on test set\n",
    "\n",
    "predictions = pd.DataFrame(y_test)# Predict\n",
    "\n",
    "predictions['lower'] = lower_model.predict(X_test)\n",
    "predictions['mid'] = mid_model.predict(X_test)\n",
    "predictions['upper'] = upper_model.predict(X_test)"
   ]
  },
  {
   "cell_type": "code",
   "execution_count": 149,
   "id": "psychological-watershed",
   "metadata": {},
   "outputs": [],
   "source": [
    "predictions[\"Nummer\"] = range(len(predictions))"
   ]
  },
  {
   "cell_type": "code",
   "execution_count": 150,
   "id": "laughing-yemen",
   "metadata": {},
   "outputs": [
    {
     "data": {
      "application/vnd.plotly.v1+json": {
       "config": {
        "plotlyServerURL": "https://plot.ly"
       },
       "data": [
        {
         "line": {
          "color": "rgba(68, 68, 68, 1)",
          "width": 0.5
         },
         "mode": "lines",
         "name": "Unteres Vorhersageintervall",
         "type": "scatter",
         "x": [
          0,
          1,
          2,
          3,
          4,
          5,
          6,
          7,
          8,
          9,
          10,
          11,
          12,
          13,
          14,
          15,
          16,
          17,
          18,
          19,
          20,
          21,
          22,
          23,
          24,
          25,
          26,
          27,
          28,
          29,
          30,
          31,
          32,
          33,
          34,
          35,
          36,
          37,
          38,
          39,
          40,
          41,
          42,
          43,
          44,
          45,
          46,
          47,
          48,
          49,
          50,
          51,
          52,
          53,
          54,
          55,
          56,
          57,
          58,
          59,
          60,
          61,
          62,
          63,
          64,
          65,
          66,
          67,
          68,
          69,
          70,
          71,
          72,
          73,
          74
         ],
         "y": [
          2.4798868951420383,
          2.373348542702116,
          2.366402828406507,
          2.3191772462892564,
          2.8155623600191158,
          2.3355709045789608,
          2.264813343851002,
          2.941104997200652,
          2.297024897316823,
          2.36178855648284,
          3.0017721073623127,
          2.5255799005184763,
          2.8181399926594493,
          2.939793372921687,
          3.9806547390192923,
          2.297024897316823,
          2.6215106763479135,
          2.325537657030882,
          2.366492510994952,
          2.36178855648284,
          2.9945137041666463,
          2.4538383471822005,
          2.310539109476383,
          3.035225645055699,
          2.3310686769310074,
          2.519933422162029,
          4.465884780262239,
          3.2777748571347542,
          2.5679363665858927,
          2.484509588098085,
          2.519933422162029,
          2.484509588098085,
          2.320778117705224,
          2.295632390882756,
          2.3234758766123926,
          2.299283167171076,
          2.366402828406507,
          2.5209572075624296,
          3.9119486473376224,
          3.0886032537261894,
          2.5199876244987447,
          2.2880520425484487,
          2.4226287475169013,
          2.8182296752478955,
          2.3106002000966406,
          2.35561783611198,
          2.4770064703679138,
          2.366492510994952,
          2.3198185319504274,
          2.5153107292059813,
          2.3310686769310074,
          2.2602016306739996,
          2.415848536588304,
          2.2635141079118384,
          4.4583272333905475,
          2.323565559200838,
          2.5186316274762017,
          2.5186316274762017,
          2.3106002000966406,
          2.408772376766061,
          2.36178855648284,
          2.4798868951420383,
          2.2980494835724263,
          2.8155623600191158,
          2.2602016306739996,
          2.527666636321052,
          2.326364722418896,
          2.3106002000966406,
          2.8622194223099706,
          2.929494476289376,
          2.2588998359881725,
          2.3234758766123926,
          2.424084266832171,
          2.6077361557961827,
          2.2588998359881725
         ]
        },
        {
         "fillcolor": "rgba(68, 68, 68, 0.1)",
         "line": {
          "color": "rgb(0, 86, 110)",
          "width": 2
         },
         "marker": {
          "color": "rgb(0, 86, 110)"
         },
         "mode": "lines",
         "name": "Vorhergesagter Mittelwert",
         "type": "scatter",
         "x": [
          0,
          1,
          2,
          3,
          4,
          5,
          6,
          7,
          8,
          9,
          10,
          11,
          12,
          13,
          14,
          15,
          16,
          17,
          18,
          19,
          20,
          21,
          22,
          23,
          24,
          25,
          26,
          27,
          28,
          29,
          30,
          31,
          32,
          33,
          34,
          35,
          36,
          37,
          38,
          39,
          40,
          41,
          42,
          43,
          44,
          45,
          46,
          47,
          48,
          49,
          50,
          51,
          52,
          53,
          54,
          55,
          56,
          57,
          58,
          59,
          60,
          61,
          62,
          63,
          64,
          65,
          66,
          67,
          68,
          69,
          70,
          71,
          72,
          73,
          74
         ],
         "y": [
          3.1752157017683453,
          3.178944797733927,
          2.953535941314955,
          3.014877143203048,
          3.1631124172355003,
          2.3905603687086803,
          2.917586214052029,
          3.773227735758041,
          3.488822815812059,
          2.6505591347761888,
          3.233695267890152,
          2.8871327638203192,
          3.7533335435585427,
          2.88578053510267,
          4.199021791773578,
          3.5031380193992465,
          3.962915178695638,
          2.7219349763824088,
          3.114285407421843,
          2.564369573578787,
          3.9971567583206413,
          3.2431678279321963,
          3.5381258284715886,
          2.8955036750025296,
          2.7211597242829724,
          3.2316357163999507,
          4.303365983021128,
          4.0016755480346164,
          3.8090140832507178,
          3.185917350820715,
          3.604059312898951,
          2.855159729462161,
          2.5826843704364264,
          2.9169977404262997,
          2.786250153697267,
          2.7546385454682505,
          3.027284943791769,
          3.2901845679512594,
          4.09600527912882,
          3.295913925625379,
          3.069648080977817,
          2.786196345257713,
          2.702310720098454,
          3.9040982515740676,
          2.9328187436689763,
          3.0947892138830895,
          3.3723062026187156,
          3.0152038102826912,
          2.482432764790642,
          3.358470818654782,
          2.99532431476768,
          2.47356339107303,
          2.5918436029569176,
          2.929673439304016,
          4.303365983021128,
          3.2262902667652584,
          3.3340340899102414,
          3.0526632981328894,
          2.7186230910200813,
          3.0311031783846403,
          2.649558861045117,
          3.0940271073742105,
          3.0528983500710356,
          3.1496605922847105,
          2.5060045158485615,
          2.549977382734108,
          2.845316682573744,
          2.6086952564061376,
          3.3922831485664666,
          2.393136771766826,
          2.5901997953576212,
          2.6252165320511565,
          3.0341534779216253,
          3.0473460028490917,
          2.5047171313038135
         ]
        },
        {
         "fillcolor": "rgba(68, 68, 68, 1)",
         "line": {
          "color": "rgba(68, 68, 68, 1)",
          "width": 0.5
         },
         "mode": "lines",
         "name": "Oberes Vorhersageintervall",
         "type": "scatter",
         "x": [
          0,
          1,
          2,
          3,
          4,
          5,
          6,
          7,
          8,
          9,
          10,
          11,
          12,
          13,
          14,
          15,
          16,
          17,
          18,
          19,
          20,
          21,
          22,
          23,
          24,
          25,
          26,
          27,
          28,
          29,
          30,
          31,
          32,
          33,
          34,
          35,
          36,
          37,
          38,
          39,
          40,
          41,
          42,
          43,
          44,
          45,
          46,
          47,
          48,
          49,
          50,
          51,
          52,
          53,
          54,
          55,
          56,
          57,
          58,
          59,
          60,
          61,
          62,
          63,
          64,
          65,
          66,
          67,
          68,
          69,
          70,
          71,
          72,
          73,
          74
         ],
         "y": [
          3.5562358909192278,
          3.2006161727377065,
          3.3178649605588624,
          3.1116764142727917,
          3.1446299002228133,
          2.90998801041157,
          3.0672220124871106,
          3.973533511493797,
          3.7405628160324986,
          3.023322442434227,
          3.3015287636100443,
          3.195585320823057,
          4.075234190465197,
          3.1155537826774293,
          4.335077045359765,
          3.7405628160324986,
          3.7917006411550775,
          3.0310746001867854,
          3.0834800162165066,
          3.01095945599747,
          3.663219660937369,
          3.276982966215076,
          3.3943662334381544,
          3.278251968045035,
          3.020554147568127,
          3.3672229454637006,
          4.566988717445137,
          4.287112492103808,
          3.5241029448963803,
          3.32006133092998,
          3.2826358146073953,
          3.0345071218085438,
          2.9473393816341082,
          3.11432589211898,
          3.1292892925970324,
          3.0963474150725294,
          3.27325912456342,
          3.7058525110692355,
          4.061109135175902,
          3.855551774370148,
          3.236582647459836,
          3.1253288383546676,
          2.928681106701235,
          4.229911550222953,
          3.0365539744131786,
          3.1243139856876674,
          3.645330968490011,
          3.163374219099637,
          3.099258407839075,
          3.880389427052559,
          3.183173523328595,
          2.997975835222167,
          3.209927422456594,
          3.0145202553083297,
          4.575056313549164,
          3.3781483774490053,
          3.273851415543835,
          3.228096440391718,
          2.9979863504637367,
          3.1867226659114327,
          3.01095945599747,
          3.2885195563742413,
          3.083941349781949,
          3.0145202553083297,
          2.987309125974305,
          2.9413209609707534,
          3.087297405752629,
          2.9956423979403444,
          3.7811478917315164,
          2.946337334545064,
          3.00576020565517,
          3.086895421402318,
          3.2933434937266832,
          3.657664127464407,
          3.0145202553083297
         ]
        },
        {
         "fillcolor": "rgba(68, 68, 68, 0.1)",
         "line": {
          "color": "red",
          "width": 2
         },
         "marker": {
          "color": "orange",
          "opacity": 0.8,
          "size": 8
         },
         "mode": "markers",
         "name": "Vorhergesagter Mittelwert",
         "type": "scatter",
         "x": [
          0,
          1,
          2,
          3,
          4,
          5,
          6,
          7,
          8,
          9,
          10,
          11,
          12,
          13,
          14,
          15,
          16,
          17,
          18,
          19,
          20,
          21,
          22,
          23,
          24,
          25,
          26,
          27,
          28,
          29,
          30,
          31,
          32,
          33,
          34,
          35,
          36,
          37,
          38,
          39,
          40,
          41,
          42,
          43,
          44,
          45,
          46,
          47,
          48,
          49,
          50,
          51,
          52,
          53,
          54,
          55,
          56,
          57,
          58,
          59,
          60,
          61,
          62,
          63,
          64,
          65,
          66,
          67,
          68,
          69,
          70,
          71,
          72,
          73,
          74
         ],
         "y": [
          3.380934463330702,
          2.574031267727719,
          3.244524511570084,
          2.6857417386022635,
          4.544068044350276,
          2.870403905279027,
          2.8750612633917,
          4.544068044350276,
          3.4459154139511234,
          2.399673721481038,
          4.544068044350276,
          2.9804578922761,
          4.544068044350276,
          3.5341530741850624,
          3.8516863154424277,
          3.3283796034387376,
          3.0773679052841563,
          3.1451964061141817,
          2.5477747053878224,
          2.3283796034387376,
          2.884795363948981,
          3.2853322276438846,
          2.6414741105040997,
          2.6334684555795866,
          2.3961993470957363,
          4.14188854970586,
          4.4428872189023485,
          4.028855809390444,
          4.374216605428374,
          2.893206753059848,
          2.9469432706978256,
          2.7589118923979736,
          2.494154594018443,
          1.7853298350107671,
          3.336859820916809,
          2.940516484932567,
          2.921166050637739,
          3.7019994748896368,
          4.544068044350276,
          3.2234959409623944,
          3.024074987307426,
          2.710963118995276,
          2.598790506763115,
          3.1051694279993316,
          3.0318122713303706,
          3.274619619091238,
          3.2643455070500926,
          2.747411807886423,
          2.893206753059848,
          3.9563125308411946,
          2.910624404889201,
          3.037027879755775,
          2.4899584794248346,
          2.4899584794248346,
          4.374216605428374,
          4.14188854970586,
          3.1228709228644354,
          4.544068044350276,
          3.003029470553618,
          3.119585774961784,
          3.2543063323312857,
          3.4214393902200495,
          2.727541257028556,
          4.544068044350276,
          2.591064607026499,
          2.041392685158225,
          2.403120521175818,
          2.3324384599156054,
          3.1684974835230326,
          2.0969100130080562,
          2.8432327780980096,
          2.6148972160331345,
          3.584670384464349,
          3.336859820916809,
          3.7567881987681178
         ]
        }
       ],
       "layout": {
        "template": {
         "data": {
          "bar": [
           {
            "error_x": {
             "color": "#2a3f5f"
            },
            "error_y": {
             "color": "#2a3f5f"
            },
            "marker": {
             "line": {
              "color": "#E5ECF6",
              "width": 0.5
             }
            },
            "type": "bar"
           }
          ],
          "barpolar": [
           {
            "marker": {
             "line": {
              "color": "#E5ECF6",
              "width": 0.5
             }
            },
            "type": "barpolar"
           }
          ],
          "carpet": [
           {
            "aaxis": {
             "endlinecolor": "#2a3f5f",
             "gridcolor": "white",
             "linecolor": "white",
             "minorgridcolor": "white",
             "startlinecolor": "#2a3f5f"
            },
            "baxis": {
             "endlinecolor": "#2a3f5f",
             "gridcolor": "white",
             "linecolor": "white",
             "minorgridcolor": "white",
             "startlinecolor": "#2a3f5f"
            },
            "type": "carpet"
           }
          ],
          "choropleth": [
           {
            "colorbar": {
             "outlinewidth": 0,
             "ticks": ""
            },
            "type": "choropleth"
           }
          ],
          "contour": [
           {
            "colorbar": {
             "outlinewidth": 0,
             "ticks": ""
            },
            "colorscale": [
             [
              0,
              "#0d0887"
             ],
             [
              0.1111111111111111,
              "#46039f"
             ],
             [
              0.2222222222222222,
              "#7201a8"
             ],
             [
              0.3333333333333333,
              "#9c179e"
             ],
             [
              0.4444444444444444,
              "#bd3786"
             ],
             [
              0.5555555555555556,
              "#d8576b"
             ],
             [
              0.6666666666666666,
              "#ed7953"
             ],
             [
              0.7777777777777778,
              "#fb9f3a"
             ],
             [
              0.8888888888888888,
              "#fdca26"
             ],
             [
              1,
              "#f0f921"
             ]
            ],
            "type": "contour"
           }
          ],
          "contourcarpet": [
           {
            "colorbar": {
             "outlinewidth": 0,
             "ticks": ""
            },
            "type": "contourcarpet"
           }
          ],
          "heatmap": [
           {
            "colorbar": {
             "outlinewidth": 0,
             "ticks": ""
            },
            "colorscale": [
             [
              0,
              "#0d0887"
             ],
             [
              0.1111111111111111,
              "#46039f"
             ],
             [
              0.2222222222222222,
              "#7201a8"
             ],
             [
              0.3333333333333333,
              "#9c179e"
             ],
             [
              0.4444444444444444,
              "#bd3786"
             ],
             [
              0.5555555555555556,
              "#d8576b"
             ],
             [
              0.6666666666666666,
              "#ed7953"
             ],
             [
              0.7777777777777778,
              "#fb9f3a"
             ],
             [
              0.8888888888888888,
              "#fdca26"
             ],
             [
              1,
              "#f0f921"
             ]
            ],
            "type": "heatmap"
           }
          ],
          "heatmapgl": [
           {
            "colorbar": {
             "outlinewidth": 0,
             "ticks": ""
            },
            "colorscale": [
             [
              0,
              "#0d0887"
             ],
             [
              0.1111111111111111,
              "#46039f"
             ],
             [
              0.2222222222222222,
              "#7201a8"
             ],
             [
              0.3333333333333333,
              "#9c179e"
             ],
             [
              0.4444444444444444,
              "#bd3786"
             ],
             [
              0.5555555555555556,
              "#d8576b"
             ],
             [
              0.6666666666666666,
              "#ed7953"
             ],
             [
              0.7777777777777778,
              "#fb9f3a"
             ],
             [
              0.8888888888888888,
              "#fdca26"
             ],
             [
              1,
              "#f0f921"
             ]
            ],
            "type": "heatmapgl"
           }
          ],
          "histogram": [
           {
            "marker": {
             "colorbar": {
              "outlinewidth": 0,
              "ticks": ""
             }
            },
            "type": "histogram"
           }
          ],
          "histogram2d": [
           {
            "colorbar": {
             "outlinewidth": 0,
             "ticks": ""
            },
            "colorscale": [
             [
              0,
              "#0d0887"
             ],
             [
              0.1111111111111111,
              "#46039f"
             ],
             [
              0.2222222222222222,
              "#7201a8"
             ],
             [
              0.3333333333333333,
              "#9c179e"
             ],
             [
              0.4444444444444444,
              "#bd3786"
             ],
             [
              0.5555555555555556,
              "#d8576b"
             ],
             [
              0.6666666666666666,
              "#ed7953"
             ],
             [
              0.7777777777777778,
              "#fb9f3a"
             ],
             [
              0.8888888888888888,
              "#fdca26"
             ],
             [
              1,
              "#f0f921"
             ]
            ],
            "type": "histogram2d"
           }
          ],
          "histogram2dcontour": [
           {
            "colorbar": {
             "outlinewidth": 0,
             "ticks": ""
            },
            "colorscale": [
             [
              0,
              "#0d0887"
             ],
             [
              0.1111111111111111,
              "#46039f"
             ],
             [
              0.2222222222222222,
              "#7201a8"
             ],
             [
              0.3333333333333333,
              "#9c179e"
             ],
             [
              0.4444444444444444,
              "#bd3786"
             ],
             [
              0.5555555555555556,
              "#d8576b"
             ],
             [
              0.6666666666666666,
              "#ed7953"
             ],
             [
              0.7777777777777778,
              "#fb9f3a"
             ],
             [
              0.8888888888888888,
              "#fdca26"
             ],
             [
              1,
              "#f0f921"
             ]
            ],
            "type": "histogram2dcontour"
           }
          ],
          "mesh3d": [
           {
            "colorbar": {
             "outlinewidth": 0,
             "ticks": ""
            },
            "type": "mesh3d"
           }
          ],
          "parcoords": [
           {
            "line": {
             "colorbar": {
              "outlinewidth": 0,
              "ticks": ""
             }
            },
            "type": "parcoords"
           }
          ],
          "pie": [
           {
            "automargin": true,
            "type": "pie"
           }
          ],
          "scatter": [
           {
            "marker": {
             "colorbar": {
              "outlinewidth": 0,
              "ticks": ""
             }
            },
            "type": "scatter"
           }
          ],
          "scatter3d": [
           {
            "line": {
             "colorbar": {
              "outlinewidth": 0,
              "ticks": ""
             }
            },
            "marker": {
             "colorbar": {
              "outlinewidth": 0,
              "ticks": ""
             }
            },
            "type": "scatter3d"
           }
          ],
          "scattercarpet": [
           {
            "marker": {
             "colorbar": {
              "outlinewidth": 0,
              "ticks": ""
             }
            },
            "type": "scattercarpet"
           }
          ],
          "scattergeo": [
           {
            "marker": {
             "colorbar": {
              "outlinewidth": 0,
              "ticks": ""
             }
            },
            "type": "scattergeo"
           }
          ],
          "scattergl": [
           {
            "marker": {
             "colorbar": {
              "outlinewidth": 0,
              "ticks": ""
             }
            },
            "type": "scattergl"
           }
          ],
          "scattermapbox": [
           {
            "marker": {
             "colorbar": {
              "outlinewidth": 0,
              "ticks": ""
             }
            },
            "type": "scattermapbox"
           }
          ],
          "scatterpolar": [
           {
            "marker": {
             "colorbar": {
              "outlinewidth": 0,
              "ticks": ""
             }
            },
            "type": "scatterpolar"
           }
          ],
          "scatterpolargl": [
           {
            "marker": {
             "colorbar": {
              "outlinewidth": 0,
              "ticks": ""
             }
            },
            "type": "scatterpolargl"
           }
          ],
          "scatterternary": [
           {
            "marker": {
             "colorbar": {
              "outlinewidth": 0,
              "ticks": ""
             }
            },
            "type": "scatterternary"
           }
          ],
          "surface": [
           {
            "colorbar": {
             "outlinewidth": 0,
             "ticks": ""
            },
            "colorscale": [
             [
              0,
              "#0d0887"
             ],
             [
              0.1111111111111111,
              "#46039f"
             ],
             [
              0.2222222222222222,
              "#7201a8"
             ],
             [
              0.3333333333333333,
              "#9c179e"
             ],
             [
              0.4444444444444444,
              "#bd3786"
             ],
             [
              0.5555555555555556,
              "#d8576b"
             ],
             [
              0.6666666666666666,
              "#ed7953"
             ],
             [
              0.7777777777777778,
              "#fb9f3a"
             ],
             [
              0.8888888888888888,
              "#fdca26"
             ],
             [
              1,
              "#f0f921"
             ]
            ],
            "type": "surface"
           }
          ],
          "table": [
           {
            "cells": {
             "fill": {
              "color": "#EBF0F8"
             },
             "line": {
              "color": "white"
             }
            },
            "header": {
             "fill": {
              "color": "#C8D4E3"
             },
             "line": {
              "color": "white"
             }
            },
            "type": "table"
           }
          ]
         },
         "layout": {
          "annotationdefaults": {
           "arrowcolor": "#2a3f5f",
           "arrowhead": 0,
           "arrowwidth": 1
          },
          "autotypenumbers": "strict",
          "coloraxis": {
           "colorbar": {
            "outlinewidth": 0,
            "ticks": ""
           }
          },
          "colorscale": {
           "diverging": [
            [
             0,
             "#8e0152"
            ],
            [
             0.1,
             "#c51b7d"
            ],
            [
             0.2,
             "#de77ae"
            ],
            [
             0.3,
             "#f1b6da"
            ],
            [
             0.4,
             "#fde0ef"
            ],
            [
             0.5,
             "#f7f7f7"
            ],
            [
             0.6,
             "#e6f5d0"
            ],
            [
             0.7,
             "#b8e186"
            ],
            [
             0.8,
             "#7fbc41"
            ],
            [
             0.9,
             "#4d9221"
            ],
            [
             1,
             "#276419"
            ]
           ],
           "sequential": [
            [
             0,
             "#0d0887"
            ],
            [
             0.1111111111111111,
             "#46039f"
            ],
            [
             0.2222222222222222,
             "#7201a8"
            ],
            [
             0.3333333333333333,
             "#9c179e"
            ],
            [
             0.4444444444444444,
             "#bd3786"
            ],
            [
             0.5555555555555556,
             "#d8576b"
            ],
            [
             0.6666666666666666,
             "#ed7953"
            ],
            [
             0.7777777777777778,
             "#fb9f3a"
            ],
            [
             0.8888888888888888,
             "#fdca26"
            ],
            [
             1,
             "#f0f921"
            ]
           ],
           "sequentialminus": [
            [
             0,
             "#0d0887"
            ],
            [
             0.1111111111111111,
             "#46039f"
            ],
            [
             0.2222222222222222,
             "#7201a8"
            ],
            [
             0.3333333333333333,
             "#9c179e"
            ],
            [
             0.4444444444444444,
             "#bd3786"
            ],
            [
             0.5555555555555556,
             "#d8576b"
            ],
            [
             0.6666666666666666,
             "#ed7953"
            ],
            [
             0.7777777777777778,
             "#fb9f3a"
            ],
            [
             0.8888888888888888,
             "#fdca26"
            ],
            [
             1,
             "#f0f921"
            ]
           ]
          },
          "colorway": [
           "#636efa",
           "#EF553B",
           "#00cc96",
           "#ab63fa",
           "#FFA15A",
           "#19d3f3",
           "#FF6692",
           "#B6E880",
           "#FF97FF",
           "#FECB52"
          ],
          "font": {
           "color": "#2a3f5f"
          },
          "geo": {
           "bgcolor": "white",
           "lakecolor": "white",
           "landcolor": "#E5ECF6",
           "showlakes": true,
           "showland": true,
           "subunitcolor": "white"
          },
          "hoverlabel": {
           "align": "left"
          },
          "hovermode": "closest",
          "mapbox": {
           "style": "light"
          },
          "paper_bgcolor": "white",
          "plot_bgcolor": "#E5ECF6",
          "polar": {
           "angularaxis": {
            "gridcolor": "white",
            "linecolor": "white",
            "ticks": ""
           },
           "bgcolor": "#E5ECF6",
           "radialaxis": {
            "gridcolor": "white",
            "linecolor": "white",
            "ticks": ""
           }
          },
          "scene": {
           "xaxis": {
            "backgroundcolor": "#E5ECF6",
            "gridcolor": "white",
            "gridwidth": 2,
            "linecolor": "white",
            "showbackground": true,
            "ticks": "",
            "zerolinecolor": "white"
           },
           "yaxis": {
            "backgroundcolor": "#E5ECF6",
            "gridcolor": "white",
            "gridwidth": 2,
            "linecolor": "white",
            "showbackground": true,
            "ticks": "",
            "zerolinecolor": "white"
           },
           "zaxis": {
            "backgroundcolor": "#E5ECF6",
            "gridcolor": "white",
            "gridwidth": 2,
            "linecolor": "white",
            "showbackground": true,
            "ticks": "",
            "zerolinecolor": "white"
           }
          },
          "shapedefaults": {
           "line": {
            "color": "#2a3f5f"
           }
          },
          "ternary": {
           "aaxis": {
            "gridcolor": "white",
            "linecolor": "white",
            "ticks": ""
           },
           "baxis": {
            "gridcolor": "white",
            "linecolor": "white",
            "ticks": ""
           },
           "bgcolor": "#E5ECF6",
           "caxis": {
            "gridcolor": "white",
            "linecolor": "white",
            "ticks": ""
           }
          },
          "title": {
           "x": 0.05
          },
          "xaxis": {
           "automargin": true,
           "gridcolor": "white",
           "linecolor": "white",
           "ticks": "",
           "title": {
            "standoff": 15
           },
           "zerolinecolor": "white",
           "zerolinewidth": 2
          },
          "yaxis": {
           "automargin": true,
           "gridcolor": "white",
           "linecolor": "white",
           "ticks": "",
           "title": {
            "standoff": 15
           },
           "zerolinecolor": "white",
           "zerolinewidth": 2
          }
         }
        },
        "title": {
         "text": "Vorhergesagte E.coli Konzentration seit Beginn der Badesaison 2020"
        },
        "yaxis": {
         "title": {
          "text": "E.coli lg [MPN/100ML), showlegend = True"
         }
        }
       }
      },
      "text/html": [
       "<div>                            <div id=\"29661df2-1d0a-43db-8ae3-c79bf430d5c6\" class=\"plotly-graph-div\" style=\"height:525px; width:100%;\"></div>            <script type=\"text/javascript\">                require([\"plotly\"], function(Plotly) {                    window.PLOTLYENV=window.PLOTLYENV || {};                                    if (document.getElementById(\"29661df2-1d0a-43db-8ae3-c79bf430d5c6\")) {                    Plotly.newPlot(                        \"29661df2-1d0a-43db-8ae3-c79bf430d5c6\",                        [{\"line\": {\"color\": \"rgba(68, 68, 68, 1)\", \"width\": 0.5}, \"mode\": \"lines\", \"name\": \"Unteres Vorhersageintervall\", \"type\": \"scatter\", \"x\": [0, 1, 2, 3, 4, 5, 6, 7, 8, 9, 10, 11, 12, 13, 14, 15, 16, 17, 18, 19, 20, 21, 22, 23, 24, 25, 26, 27, 28, 29, 30, 31, 32, 33, 34, 35, 36, 37, 38, 39, 40, 41, 42, 43, 44, 45, 46, 47, 48, 49, 50, 51, 52, 53, 54, 55, 56, 57, 58, 59, 60, 61, 62, 63, 64, 65, 66, 67, 68, 69, 70, 71, 72, 73, 74], \"y\": [2.4798868951420383, 2.373348542702116, 2.366402828406507, 2.3191772462892564, 2.8155623600191158, 2.3355709045789608, 2.264813343851002, 2.941104997200652, 2.297024897316823, 2.36178855648284, 3.0017721073623127, 2.5255799005184763, 2.8181399926594493, 2.939793372921687, 3.9806547390192923, 2.297024897316823, 2.6215106763479135, 2.325537657030882, 2.366492510994952, 2.36178855648284, 2.9945137041666463, 2.4538383471822005, 2.310539109476383, 3.035225645055699, 2.3310686769310074, 2.519933422162029, 4.465884780262239, 3.2777748571347542, 2.5679363665858927, 2.484509588098085, 2.519933422162029, 2.484509588098085, 2.320778117705224, 2.295632390882756, 2.3234758766123926, 2.299283167171076, 2.366402828406507, 2.5209572075624296, 3.9119486473376224, 3.0886032537261894, 2.5199876244987447, 2.2880520425484487, 2.4226287475169013, 2.8182296752478955, 2.3106002000966406, 2.35561783611198, 2.4770064703679138, 2.366492510994952, 2.3198185319504274, 2.5153107292059813, 2.3310686769310074, 2.2602016306739996, 2.415848536588304, 2.2635141079118384, 4.4583272333905475, 2.323565559200838, 2.5186316274762017, 2.5186316274762017, 2.3106002000966406, 2.408772376766061, 2.36178855648284, 2.4798868951420383, 2.2980494835724263, 2.8155623600191158, 2.2602016306739996, 2.527666636321052, 2.326364722418896, 2.3106002000966406, 2.8622194223099706, 2.929494476289376, 2.2588998359881725, 2.3234758766123926, 2.424084266832171, 2.6077361557961827, 2.2588998359881725]}, {\"fillcolor\": \"rgba(68, 68, 68, 0.1)\", \"line\": {\"color\": \"rgb(0, 86, 110)\", \"width\": 2}, \"marker\": {\"color\": \"rgb(0, 86, 110)\"}, \"mode\": \"lines\", \"name\": \"Vorhergesagter Mittelwert\", \"type\": \"scatter\", \"x\": [0, 1, 2, 3, 4, 5, 6, 7, 8, 9, 10, 11, 12, 13, 14, 15, 16, 17, 18, 19, 20, 21, 22, 23, 24, 25, 26, 27, 28, 29, 30, 31, 32, 33, 34, 35, 36, 37, 38, 39, 40, 41, 42, 43, 44, 45, 46, 47, 48, 49, 50, 51, 52, 53, 54, 55, 56, 57, 58, 59, 60, 61, 62, 63, 64, 65, 66, 67, 68, 69, 70, 71, 72, 73, 74], \"y\": [3.1752157017683453, 3.178944797733927, 2.953535941314955, 3.014877143203048, 3.1631124172355003, 2.3905603687086803, 2.917586214052029, 3.773227735758041, 3.488822815812059, 2.6505591347761888, 3.233695267890152, 2.8871327638203192, 3.7533335435585427, 2.88578053510267, 4.199021791773578, 3.5031380193992465, 3.962915178695638, 2.7219349763824088, 3.114285407421843, 2.564369573578787, 3.9971567583206413, 3.2431678279321963, 3.5381258284715886, 2.8955036750025296, 2.7211597242829724, 3.2316357163999507, 4.303365983021128, 4.0016755480346164, 3.8090140832507178, 3.185917350820715, 3.604059312898951, 2.855159729462161, 2.5826843704364264, 2.9169977404262997, 2.786250153697267, 2.7546385454682505, 3.027284943791769, 3.2901845679512594, 4.09600527912882, 3.295913925625379, 3.069648080977817, 2.786196345257713, 2.702310720098454, 3.9040982515740676, 2.9328187436689763, 3.0947892138830895, 3.3723062026187156, 3.0152038102826912, 2.482432764790642, 3.358470818654782, 2.99532431476768, 2.47356339107303, 2.5918436029569176, 2.929673439304016, 4.303365983021128, 3.2262902667652584, 3.3340340899102414, 3.0526632981328894, 2.7186230910200813, 3.0311031783846403, 2.649558861045117, 3.0940271073742105, 3.0528983500710356, 3.1496605922847105, 2.5060045158485615, 2.549977382734108, 2.845316682573744, 2.6086952564061376, 3.3922831485664666, 2.393136771766826, 2.5901997953576212, 2.6252165320511565, 3.0341534779216253, 3.0473460028490917, 2.5047171313038135]}, {\"fillcolor\": \"rgba(68, 68, 68, 1)\", \"line\": {\"color\": \"rgba(68, 68, 68, 1)\", \"width\": 0.5}, \"mode\": \"lines\", \"name\": \"Oberes Vorhersageintervall\", \"type\": \"scatter\", \"x\": [0, 1, 2, 3, 4, 5, 6, 7, 8, 9, 10, 11, 12, 13, 14, 15, 16, 17, 18, 19, 20, 21, 22, 23, 24, 25, 26, 27, 28, 29, 30, 31, 32, 33, 34, 35, 36, 37, 38, 39, 40, 41, 42, 43, 44, 45, 46, 47, 48, 49, 50, 51, 52, 53, 54, 55, 56, 57, 58, 59, 60, 61, 62, 63, 64, 65, 66, 67, 68, 69, 70, 71, 72, 73, 74], \"y\": [3.5562358909192278, 3.2006161727377065, 3.3178649605588624, 3.1116764142727917, 3.1446299002228133, 2.90998801041157, 3.0672220124871106, 3.973533511493797, 3.7405628160324986, 3.023322442434227, 3.3015287636100443, 3.195585320823057, 4.075234190465197, 3.1155537826774293, 4.335077045359765, 3.7405628160324986, 3.7917006411550775, 3.0310746001867854, 3.0834800162165066, 3.01095945599747, 3.663219660937369, 3.276982966215076, 3.3943662334381544, 3.278251968045035, 3.020554147568127, 3.3672229454637006, 4.566988717445137, 4.287112492103808, 3.5241029448963803, 3.32006133092998, 3.2826358146073953, 3.0345071218085438, 2.9473393816341082, 3.11432589211898, 3.1292892925970324, 3.0963474150725294, 3.27325912456342, 3.7058525110692355, 4.061109135175902, 3.855551774370148, 3.236582647459836, 3.1253288383546676, 2.928681106701235, 4.229911550222953, 3.0365539744131786, 3.1243139856876674, 3.645330968490011, 3.163374219099637, 3.099258407839075, 3.880389427052559, 3.183173523328595, 2.997975835222167, 3.209927422456594, 3.0145202553083297, 4.575056313549164, 3.3781483774490053, 3.273851415543835, 3.228096440391718, 2.9979863504637367, 3.1867226659114327, 3.01095945599747, 3.2885195563742413, 3.083941349781949, 3.0145202553083297, 2.987309125974305, 2.9413209609707534, 3.087297405752629, 2.9956423979403444, 3.7811478917315164, 2.946337334545064, 3.00576020565517, 3.086895421402318, 3.2933434937266832, 3.657664127464407, 3.0145202553083297]}, {\"fillcolor\": \"rgba(68, 68, 68, 0.1)\", \"line\": {\"color\": \"red\", \"width\": 2}, \"marker\": {\"color\": \"orange\", \"opacity\": 0.8, \"size\": 8}, \"mode\": \"markers\", \"name\": \"Vorhergesagter Mittelwert\", \"type\": \"scatter\", \"x\": [0, 1, 2, 3, 4, 5, 6, 7, 8, 9, 10, 11, 12, 13, 14, 15, 16, 17, 18, 19, 20, 21, 22, 23, 24, 25, 26, 27, 28, 29, 30, 31, 32, 33, 34, 35, 36, 37, 38, 39, 40, 41, 42, 43, 44, 45, 46, 47, 48, 49, 50, 51, 52, 53, 54, 55, 56, 57, 58, 59, 60, 61, 62, 63, 64, 65, 66, 67, 68, 69, 70, 71, 72, 73, 74], \"y\": [3.380934463330702, 2.574031267727719, 3.244524511570084, 2.6857417386022635, 4.544068044350276, 2.870403905279027, 2.8750612633917, 4.544068044350276, 3.4459154139511234, 2.399673721481038, 4.544068044350276, 2.9804578922761, 4.544068044350276, 3.5341530741850624, 3.8516863154424277, 3.3283796034387376, 3.0773679052841563, 3.1451964061141817, 2.5477747053878224, 2.3283796034387376, 2.884795363948981, 3.2853322276438846, 2.6414741105040997, 2.6334684555795866, 2.3961993470957363, 4.14188854970586, 4.4428872189023485, 4.028855809390444, 4.374216605428374, 2.893206753059848, 2.9469432706978256, 2.7589118923979736, 2.494154594018443, 1.7853298350107671, 3.336859820916809, 2.940516484932567, 2.921166050637739, 3.7019994748896368, 4.544068044350276, 3.2234959409623944, 3.024074987307426, 2.710963118995276, 2.598790506763115, 3.1051694279993316, 3.0318122713303706, 3.274619619091238, 3.2643455070500926, 2.747411807886423, 2.893206753059848, 3.9563125308411946, 2.910624404889201, 3.037027879755775, 2.4899584794248346, 2.4899584794248346, 4.374216605428374, 4.14188854970586, 3.1228709228644354, 4.544068044350276, 3.003029470553618, 3.119585774961784, 3.2543063323312857, 3.4214393902200495, 2.727541257028556, 4.544068044350276, 2.591064607026499, 2.041392685158225, 2.403120521175818, 2.3324384599156054, 3.1684974835230326, 2.0969100130080562, 2.8432327780980096, 2.6148972160331345, 3.584670384464349, 3.336859820916809, 3.7567881987681178]}],                        {\"template\": {\"data\": {\"bar\": [{\"error_x\": {\"color\": \"#2a3f5f\"}, \"error_y\": {\"color\": \"#2a3f5f\"}, \"marker\": {\"line\": {\"color\": \"#E5ECF6\", \"width\": 0.5}}, \"type\": \"bar\"}], \"barpolar\": [{\"marker\": {\"line\": {\"color\": \"#E5ECF6\", \"width\": 0.5}}, \"type\": \"barpolar\"}], \"carpet\": [{\"aaxis\": {\"endlinecolor\": \"#2a3f5f\", \"gridcolor\": \"white\", \"linecolor\": \"white\", \"minorgridcolor\": \"white\", \"startlinecolor\": \"#2a3f5f\"}, \"baxis\": {\"endlinecolor\": \"#2a3f5f\", \"gridcolor\": \"white\", \"linecolor\": \"white\", \"minorgridcolor\": \"white\", \"startlinecolor\": \"#2a3f5f\"}, \"type\": \"carpet\"}], \"choropleth\": [{\"colorbar\": {\"outlinewidth\": 0, \"ticks\": \"\"}, \"type\": \"choropleth\"}], \"contour\": [{\"colorbar\": {\"outlinewidth\": 0, \"ticks\": \"\"}, \"colorscale\": [[0.0, \"#0d0887\"], [0.1111111111111111, \"#46039f\"], [0.2222222222222222, \"#7201a8\"], [0.3333333333333333, \"#9c179e\"], [0.4444444444444444, \"#bd3786\"], [0.5555555555555556, \"#d8576b\"], [0.6666666666666666, \"#ed7953\"], [0.7777777777777778, \"#fb9f3a\"], [0.8888888888888888, \"#fdca26\"], [1.0, \"#f0f921\"]], \"type\": \"contour\"}], \"contourcarpet\": [{\"colorbar\": {\"outlinewidth\": 0, \"ticks\": \"\"}, \"type\": \"contourcarpet\"}], \"heatmap\": [{\"colorbar\": {\"outlinewidth\": 0, \"ticks\": \"\"}, \"colorscale\": [[0.0, \"#0d0887\"], [0.1111111111111111, \"#46039f\"], [0.2222222222222222, \"#7201a8\"], [0.3333333333333333, \"#9c179e\"], [0.4444444444444444, \"#bd3786\"], [0.5555555555555556, \"#d8576b\"], [0.6666666666666666, \"#ed7953\"], [0.7777777777777778, \"#fb9f3a\"], [0.8888888888888888, \"#fdca26\"], [1.0, \"#f0f921\"]], \"type\": \"heatmap\"}], \"heatmapgl\": [{\"colorbar\": {\"outlinewidth\": 0, \"ticks\": \"\"}, \"colorscale\": [[0.0, \"#0d0887\"], [0.1111111111111111, \"#46039f\"], [0.2222222222222222, \"#7201a8\"], [0.3333333333333333, \"#9c179e\"], [0.4444444444444444, \"#bd3786\"], [0.5555555555555556, \"#d8576b\"], [0.6666666666666666, \"#ed7953\"], [0.7777777777777778, \"#fb9f3a\"], [0.8888888888888888, \"#fdca26\"], [1.0, \"#f0f921\"]], \"type\": \"heatmapgl\"}], \"histogram\": [{\"marker\": {\"colorbar\": {\"outlinewidth\": 0, \"ticks\": \"\"}}, \"type\": \"histogram\"}], \"histogram2d\": [{\"colorbar\": {\"outlinewidth\": 0, \"ticks\": \"\"}, \"colorscale\": [[0.0, \"#0d0887\"], [0.1111111111111111, \"#46039f\"], [0.2222222222222222, \"#7201a8\"], [0.3333333333333333, \"#9c179e\"], [0.4444444444444444, \"#bd3786\"], [0.5555555555555556, \"#d8576b\"], [0.6666666666666666, \"#ed7953\"], [0.7777777777777778, \"#fb9f3a\"], [0.8888888888888888, \"#fdca26\"], [1.0, \"#f0f921\"]], \"type\": \"histogram2d\"}], \"histogram2dcontour\": [{\"colorbar\": {\"outlinewidth\": 0, \"ticks\": \"\"}, \"colorscale\": [[0.0, \"#0d0887\"], [0.1111111111111111, \"#46039f\"], [0.2222222222222222, \"#7201a8\"], [0.3333333333333333, \"#9c179e\"], [0.4444444444444444, \"#bd3786\"], [0.5555555555555556, \"#d8576b\"], [0.6666666666666666, \"#ed7953\"], [0.7777777777777778, \"#fb9f3a\"], [0.8888888888888888, \"#fdca26\"], [1.0, \"#f0f921\"]], \"type\": \"histogram2dcontour\"}], \"mesh3d\": [{\"colorbar\": {\"outlinewidth\": 0, \"ticks\": \"\"}, \"type\": \"mesh3d\"}], \"parcoords\": [{\"line\": {\"colorbar\": {\"outlinewidth\": 0, \"ticks\": \"\"}}, \"type\": \"parcoords\"}], \"pie\": [{\"automargin\": true, \"type\": \"pie\"}], \"scatter\": [{\"marker\": {\"colorbar\": {\"outlinewidth\": 0, \"ticks\": \"\"}}, \"type\": \"scatter\"}], \"scatter3d\": [{\"line\": {\"colorbar\": {\"outlinewidth\": 0, \"ticks\": \"\"}}, \"marker\": {\"colorbar\": {\"outlinewidth\": 0, \"ticks\": \"\"}}, \"type\": \"scatter3d\"}], \"scattercarpet\": [{\"marker\": {\"colorbar\": {\"outlinewidth\": 0, \"ticks\": \"\"}}, \"type\": \"scattercarpet\"}], \"scattergeo\": [{\"marker\": {\"colorbar\": {\"outlinewidth\": 0, \"ticks\": \"\"}}, \"type\": \"scattergeo\"}], \"scattergl\": [{\"marker\": {\"colorbar\": {\"outlinewidth\": 0, \"ticks\": \"\"}}, \"type\": \"scattergl\"}], \"scattermapbox\": [{\"marker\": {\"colorbar\": {\"outlinewidth\": 0, \"ticks\": \"\"}}, \"type\": \"scattermapbox\"}], \"scatterpolar\": [{\"marker\": {\"colorbar\": {\"outlinewidth\": 0, \"ticks\": \"\"}}, \"type\": \"scatterpolar\"}], \"scatterpolargl\": [{\"marker\": {\"colorbar\": {\"outlinewidth\": 0, \"ticks\": \"\"}}, \"type\": \"scatterpolargl\"}], \"scatterternary\": [{\"marker\": {\"colorbar\": {\"outlinewidth\": 0, \"ticks\": \"\"}}, \"type\": \"scatterternary\"}], \"surface\": [{\"colorbar\": {\"outlinewidth\": 0, \"ticks\": \"\"}, \"colorscale\": [[0.0, \"#0d0887\"], [0.1111111111111111, \"#46039f\"], [0.2222222222222222, \"#7201a8\"], [0.3333333333333333, \"#9c179e\"], [0.4444444444444444, \"#bd3786\"], [0.5555555555555556, \"#d8576b\"], [0.6666666666666666, \"#ed7953\"], [0.7777777777777778, \"#fb9f3a\"], [0.8888888888888888, \"#fdca26\"], [1.0, \"#f0f921\"]], \"type\": \"surface\"}], \"table\": [{\"cells\": {\"fill\": {\"color\": \"#EBF0F8\"}, \"line\": {\"color\": \"white\"}}, \"header\": {\"fill\": {\"color\": \"#C8D4E3\"}, \"line\": {\"color\": \"white\"}}, \"type\": \"table\"}]}, \"layout\": {\"annotationdefaults\": {\"arrowcolor\": \"#2a3f5f\", \"arrowhead\": 0, \"arrowwidth\": 1}, \"autotypenumbers\": \"strict\", \"coloraxis\": {\"colorbar\": {\"outlinewidth\": 0, \"ticks\": \"\"}}, \"colorscale\": {\"diverging\": [[0, \"#8e0152\"], [0.1, \"#c51b7d\"], [0.2, \"#de77ae\"], [0.3, \"#f1b6da\"], [0.4, \"#fde0ef\"], [0.5, \"#f7f7f7\"], [0.6, \"#e6f5d0\"], [0.7, \"#b8e186\"], [0.8, \"#7fbc41\"], [0.9, \"#4d9221\"], [1, \"#276419\"]], \"sequential\": [[0.0, \"#0d0887\"], [0.1111111111111111, \"#46039f\"], [0.2222222222222222, \"#7201a8\"], [0.3333333333333333, \"#9c179e\"], [0.4444444444444444, \"#bd3786\"], [0.5555555555555556, \"#d8576b\"], [0.6666666666666666, \"#ed7953\"], [0.7777777777777778, \"#fb9f3a\"], [0.8888888888888888, \"#fdca26\"], [1.0, \"#f0f921\"]], \"sequentialminus\": [[0.0, \"#0d0887\"], [0.1111111111111111, \"#46039f\"], [0.2222222222222222, \"#7201a8\"], [0.3333333333333333, \"#9c179e\"], [0.4444444444444444, \"#bd3786\"], [0.5555555555555556, \"#d8576b\"], [0.6666666666666666, \"#ed7953\"], [0.7777777777777778, \"#fb9f3a\"], [0.8888888888888888, \"#fdca26\"], [1.0, \"#f0f921\"]]}, \"colorway\": [\"#636efa\", \"#EF553B\", \"#00cc96\", \"#ab63fa\", \"#FFA15A\", \"#19d3f3\", \"#FF6692\", \"#B6E880\", \"#FF97FF\", \"#FECB52\"], \"font\": {\"color\": \"#2a3f5f\"}, \"geo\": {\"bgcolor\": \"white\", \"lakecolor\": \"white\", \"landcolor\": \"#E5ECF6\", \"showlakes\": true, \"showland\": true, \"subunitcolor\": \"white\"}, \"hoverlabel\": {\"align\": \"left\"}, \"hovermode\": \"closest\", \"mapbox\": {\"style\": \"light\"}, \"paper_bgcolor\": \"white\", \"plot_bgcolor\": \"#E5ECF6\", \"polar\": {\"angularaxis\": {\"gridcolor\": \"white\", \"linecolor\": \"white\", \"ticks\": \"\"}, \"bgcolor\": \"#E5ECF6\", \"radialaxis\": {\"gridcolor\": \"white\", \"linecolor\": \"white\", \"ticks\": \"\"}}, \"scene\": {\"xaxis\": {\"backgroundcolor\": \"#E5ECF6\", \"gridcolor\": \"white\", \"gridwidth\": 2, \"linecolor\": \"white\", \"showbackground\": true, \"ticks\": \"\", \"zerolinecolor\": \"white\"}, \"yaxis\": {\"backgroundcolor\": \"#E5ECF6\", \"gridcolor\": \"white\", \"gridwidth\": 2, \"linecolor\": \"white\", \"showbackground\": true, \"ticks\": \"\", \"zerolinecolor\": \"white\"}, \"zaxis\": {\"backgroundcolor\": \"#E5ECF6\", \"gridcolor\": \"white\", \"gridwidth\": 2, \"linecolor\": \"white\", \"showbackground\": true, \"ticks\": \"\", \"zerolinecolor\": \"white\"}}, \"shapedefaults\": {\"line\": {\"color\": \"#2a3f5f\"}}, \"ternary\": {\"aaxis\": {\"gridcolor\": \"white\", \"linecolor\": \"white\", \"ticks\": \"\"}, \"baxis\": {\"gridcolor\": \"white\", \"linecolor\": \"white\", \"ticks\": \"\"}, \"bgcolor\": \"#E5ECF6\", \"caxis\": {\"gridcolor\": \"white\", \"linecolor\": \"white\", \"ticks\": \"\"}}, \"title\": {\"x\": 0.05}, \"xaxis\": {\"automargin\": true, \"gridcolor\": \"white\", \"linecolor\": \"white\", \"ticks\": \"\", \"title\": {\"standoff\": 15}, \"zerolinecolor\": \"white\", \"zerolinewidth\": 2}, \"yaxis\": {\"automargin\": true, \"gridcolor\": \"white\", \"linecolor\": \"white\", \"ticks\": \"\", \"title\": {\"standoff\": 15}, \"zerolinecolor\": \"white\", \"zerolinewidth\": 2}}}, \"title\": {\"text\": \"Vorhergesagte E.coli Konzentration seit Beginn der Badesaison 2020\"}, \"yaxis\": {\"title\": {\"text\": \"E.coli lg [MPN/100ML), showlegend = True\"}}},                        {\"responsive\": true}                    ).then(function(){\n",
       "                            \n",
       "var gd = document.getElementById('29661df2-1d0a-43db-8ae3-c79bf430d5c6');\n",
       "var x = new MutationObserver(function (mutations, observer) {{\n",
       "        var display = window.getComputedStyle(gd).display;\n",
       "        if (!display || display === 'none') {{\n",
       "            console.log([gd, 'removed!']);\n",
       "            Plotly.purge(gd);\n",
       "            observer.disconnect();\n",
       "        }}\n",
       "}});\n",
       "\n",
       "// Listen for the removal of the full notebook cells\n",
       "var notebookContainer = gd.closest('#notebook-container');\n",
       "if (notebookContainer) {{\n",
       "    x.observe(notebookContainer, {childList: true});\n",
       "}}\n",
       "\n",
       "// Listen for the clearing of the current output cell\n",
       "var outputEl = gd.closest('.output');\n",
       "if (outputEl) {{\n",
       "    x.observe(outputEl, {childList: true});\n",
       "}}\n",
       "\n",
       "                        })                };                });            </script>        </div>"
      ]
     },
     "metadata": {},
     "output_type": "display_data"
    }
   ],
   "source": [
    "import plotly.graph_objects as go\n",
    "\n",
    "upper_bound = go.Scatter(name=\"Oberes Vorhersageintervall\",\n",
    "x= predictions[\"Nummer\"],\n",
    "y=predictions[\"upper\"],\n",
    "mode=\"lines\",\n",
    "line=dict(width=0.5, color=\"rgba(68, 68, 68, 1)\"),\n",
    "fillcolor=\"rgba(68, 68, 68, 1)\")#, fill=\"tonexty\")\n",
    "\n",
    "mean = go.Scatter(name=\"Vorhergesagter Mittelwert\",\n",
    "x= predictions[\"Nummer\"],\n",
    "y=predictions[\"mid\"],\n",
    "marker = dict(color = \"rgb(0, 86, 110)\"),\n",
    "mode=\"lines\",\n",
    "line=dict(width=2, color= \"rgb(0, 86, 110)\"),\n",
    "fillcolor=\"rgba(68, 68, 68, 0.1)\")#, fill=\"tonexty\")\n",
    "\n",
    "measurements = go.Scatter(name=\"Vorhergesagter Mittelwert\",\n",
    "x= predictions[\"Nummer\"],\n",
    "y=predictions[\"value\"],\n",
    "marker = dict(color = \"orange\", size = 8, opacity = .8),\n",
    "mode=\"markers\",\n",
    "line=dict(width=2, color= \"red\"),\n",
    "fillcolor=\"rgba(68, 68, 68, 0.1)\")#, fill=\"tonexty\")\n",
    "\n",
    "\n",
    "\n",
    "lower_bound = go.Scatter(name=\"Unteres Vorhersageintervall\",\n",
    "x= predictions[\"Nummer\"],\n",
    "y=predictions[\"lower\"],\n",
    "mode=\"lines\",\n",
    "line=dict(width=0.5, color=\"rgba(68, 68, 68, 1)\"))\n",
    "\n",
    "data = [lower_bound, mean, upper_bound, measurements]\n",
    "\n",
    "layout=go.Layout(title='Vorhergesagte E.coli Konzentration seit Beginn der Badesaison 2020',\n",
    "yaxis=dict(title=\"E.coli lg [MPN/100ML), showlegend = True\"))\n",
    "\n",
    "fig=go.Figure(data=data, layout = layout)\n",
    "#fig.update_layout(legend=dict(\n",
    "#    yanchor=\"top\",\n",
    "#    title=None,\n",
    "#    y=0.99,\n",
    "#    xanchor=\"left\",\n",
    "#    x=0.01\n",
    "#))\n",
    "\n",
    "fig.show()\n",
    "    "
   ]
  },
  {
   "cell_type": "code",
   "execution_count": 151,
   "id": "mature-zealand",
   "metadata": {},
   "outputs": [
    {
     "data": {
      "application/vnd.plotly.v1+json": {
       "config": {
        "plotlyServerURL": "https://plot.ly"
       },
       "data": [
        {
         "hovertemplate": "value=%{x}<br>upper=%{y}<extra></extra>",
         "legendgroup": "",
         "marker": {
          "color": "#212c52",
          "size": 10,
          "symbol": "circle"
         },
         "mode": "markers",
         "name": "",
         "orientation": "v",
         "showlegend": false,
         "type": "scatter",
         "x": [
          3.380934463330702,
          2.574031267727719,
          3.244524511570084,
          2.6857417386022635,
          4.544068044350276,
          2.870403905279027,
          2.8750612633917,
          4.544068044350276,
          3.4459154139511234,
          2.399673721481038,
          4.544068044350276,
          2.9804578922761,
          4.544068044350276,
          3.5341530741850624,
          3.8516863154424277,
          3.3283796034387376,
          3.0773679052841563,
          3.1451964061141817,
          2.5477747053878224,
          2.3283796034387376,
          2.884795363948981,
          3.2853322276438846,
          2.6414741105040997,
          2.6334684555795866,
          2.3961993470957363,
          4.14188854970586,
          4.4428872189023485,
          4.028855809390444,
          4.374216605428374,
          2.893206753059848,
          2.9469432706978256,
          2.7589118923979736,
          2.494154594018443,
          1.7853298350107671,
          3.336859820916809,
          2.940516484932567,
          2.921166050637739,
          3.7019994748896368,
          4.544068044350276,
          3.2234959409623944,
          3.024074987307426,
          2.710963118995276,
          2.598790506763115,
          3.1051694279993316,
          3.0318122713303706,
          3.274619619091238,
          3.2643455070500926,
          2.747411807886423,
          2.893206753059848,
          3.9563125308411946,
          2.910624404889201,
          3.037027879755775,
          2.4899584794248346,
          2.4899584794248346,
          4.374216605428374,
          4.14188854970586,
          3.1228709228644354,
          4.544068044350276,
          3.003029470553618,
          3.119585774961784,
          3.2543063323312857,
          3.4214393902200495,
          2.727541257028556,
          4.544068044350276,
          2.591064607026499,
          2.041392685158225,
          2.403120521175818,
          2.3324384599156054,
          3.1684974835230326,
          2.0969100130080562,
          2.8432327780980096,
          2.6148972160331345,
          3.584670384464349,
          3.336859820916809,
          3.7567881987681178
         ],
         "xaxis": "x",
         "y": [
          3.5562358909192278,
          3.2006161727377065,
          3.3178649605588624,
          3.1116764142727917,
          3.1446299002228133,
          2.90998801041157,
          3.0672220124871106,
          3.973533511493797,
          3.7405628160324986,
          3.023322442434227,
          3.3015287636100443,
          3.195585320823057,
          4.075234190465197,
          3.1155537826774293,
          4.335077045359765,
          3.7405628160324986,
          3.7917006411550775,
          3.0310746001867854,
          3.0834800162165066,
          3.01095945599747,
          3.663219660937369,
          3.276982966215076,
          3.3943662334381544,
          3.278251968045035,
          3.020554147568127,
          3.3672229454637006,
          4.566988717445137,
          4.287112492103808,
          3.5241029448963803,
          3.32006133092998,
          3.2826358146073953,
          3.0345071218085438,
          2.9473393816341082,
          3.11432589211898,
          3.1292892925970324,
          3.0963474150725294,
          3.27325912456342,
          3.7058525110692355,
          4.061109135175902,
          3.855551774370148,
          3.236582647459836,
          3.1253288383546676,
          2.928681106701235,
          4.229911550222953,
          3.0365539744131786,
          3.1243139856876674,
          3.645330968490011,
          3.163374219099637,
          3.099258407839075,
          3.880389427052559,
          3.183173523328595,
          2.997975835222167,
          3.209927422456594,
          3.0145202553083297,
          4.575056313549164,
          3.3781483774490053,
          3.273851415543835,
          3.228096440391718,
          2.9979863504637367,
          3.1867226659114327,
          3.01095945599747,
          3.2885195563742413,
          3.083941349781949,
          3.0145202553083297,
          2.987309125974305,
          2.9413209609707534,
          3.087297405752629,
          2.9956423979403444,
          3.7811478917315164,
          2.946337334545064,
          3.00576020565517,
          3.086895421402318,
          3.2933434937266832,
          3.657664127464407,
          3.0145202553083297
         ],
         "yaxis": "y"
        },
        {
         "hovertemplate": "<extra></extra>",
         "legendgroup": "",
         "marker": {
          "color": "#212c52",
          "size": 10,
          "symbol": "circle"
         },
         "mode": "lines",
         "name": "",
         "showlegend": false,
         "type": "scatter",
         "xaxis": "x",
         "yaxis": "y"
        }
       ],
       "layout": {
        "font": {
         "color": "black",
         "family": "Helvetica Neue, Helvetica, Arial, sans-serif"
        },
        "legend": {
         "title": {},
         "tracegroupgap": 0,
         "x": 0.01,
         "xanchor": "left",
         "y": 0.99,
         "yanchor": "top"
        },
        "margin": {
         "t": 60
        },
        "template": {
         "data": {
          "bar": [
           {
            "error_x": {
             "color": "#2a3f5f"
            },
            "error_y": {
             "color": "#2a3f5f"
            },
            "marker": {
             "line": {
              "color": "#E5ECF6",
              "width": 0.5
             }
            },
            "type": "bar"
           }
          ],
          "barpolar": [
           {
            "marker": {
             "line": {
              "color": "#E5ECF6",
              "width": 0.5
             }
            },
            "type": "barpolar"
           }
          ],
          "carpet": [
           {
            "aaxis": {
             "endlinecolor": "#2a3f5f",
             "gridcolor": "white",
             "linecolor": "white",
             "minorgridcolor": "white",
             "startlinecolor": "#2a3f5f"
            },
            "baxis": {
             "endlinecolor": "#2a3f5f",
             "gridcolor": "white",
             "linecolor": "white",
             "minorgridcolor": "white",
             "startlinecolor": "#2a3f5f"
            },
            "type": "carpet"
           }
          ],
          "choropleth": [
           {
            "colorbar": {
             "outlinewidth": 0,
             "ticks": ""
            },
            "type": "choropleth"
           }
          ],
          "contour": [
           {
            "colorbar": {
             "outlinewidth": 0,
             "ticks": ""
            },
            "colorscale": [
             [
              0,
              "#0d0887"
             ],
             [
              0.1111111111111111,
              "#46039f"
             ],
             [
              0.2222222222222222,
              "#7201a8"
             ],
             [
              0.3333333333333333,
              "#9c179e"
             ],
             [
              0.4444444444444444,
              "#bd3786"
             ],
             [
              0.5555555555555556,
              "#d8576b"
             ],
             [
              0.6666666666666666,
              "#ed7953"
             ],
             [
              0.7777777777777778,
              "#fb9f3a"
             ],
             [
              0.8888888888888888,
              "#fdca26"
             ],
             [
              1,
              "#f0f921"
             ]
            ],
            "type": "contour"
           }
          ],
          "contourcarpet": [
           {
            "colorbar": {
             "outlinewidth": 0,
             "ticks": ""
            },
            "type": "contourcarpet"
           }
          ],
          "heatmap": [
           {
            "colorbar": {
             "outlinewidth": 0,
             "ticks": ""
            },
            "colorscale": [
             [
              0,
              "#0d0887"
             ],
             [
              0.1111111111111111,
              "#46039f"
             ],
             [
              0.2222222222222222,
              "#7201a8"
             ],
             [
              0.3333333333333333,
              "#9c179e"
             ],
             [
              0.4444444444444444,
              "#bd3786"
             ],
             [
              0.5555555555555556,
              "#d8576b"
             ],
             [
              0.6666666666666666,
              "#ed7953"
             ],
             [
              0.7777777777777778,
              "#fb9f3a"
             ],
             [
              0.8888888888888888,
              "#fdca26"
             ],
             [
              1,
              "#f0f921"
             ]
            ],
            "type": "heatmap"
           }
          ],
          "heatmapgl": [
           {
            "colorbar": {
             "outlinewidth": 0,
             "ticks": ""
            },
            "colorscale": [
             [
              0,
              "#0d0887"
             ],
             [
              0.1111111111111111,
              "#46039f"
             ],
             [
              0.2222222222222222,
              "#7201a8"
             ],
             [
              0.3333333333333333,
              "#9c179e"
             ],
             [
              0.4444444444444444,
              "#bd3786"
             ],
             [
              0.5555555555555556,
              "#d8576b"
             ],
             [
              0.6666666666666666,
              "#ed7953"
             ],
             [
              0.7777777777777778,
              "#fb9f3a"
             ],
             [
              0.8888888888888888,
              "#fdca26"
             ],
             [
              1,
              "#f0f921"
             ]
            ],
            "type": "heatmapgl"
           }
          ],
          "histogram": [
           {
            "marker": {
             "colorbar": {
              "outlinewidth": 0,
              "ticks": ""
             }
            },
            "type": "histogram"
           }
          ],
          "histogram2d": [
           {
            "colorbar": {
             "outlinewidth": 0,
             "ticks": ""
            },
            "colorscale": [
             [
              0,
              "#0d0887"
             ],
             [
              0.1111111111111111,
              "#46039f"
             ],
             [
              0.2222222222222222,
              "#7201a8"
             ],
             [
              0.3333333333333333,
              "#9c179e"
             ],
             [
              0.4444444444444444,
              "#bd3786"
             ],
             [
              0.5555555555555556,
              "#d8576b"
             ],
             [
              0.6666666666666666,
              "#ed7953"
             ],
             [
              0.7777777777777778,
              "#fb9f3a"
             ],
             [
              0.8888888888888888,
              "#fdca26"
             ],
             [
              1,
              "#f0f921"
             ]
            ],
            "type": "histogram2d"
           }
          ],
          "histogram2dcontour": [
           {
            "colorbar": {
             "outlinewidth": 0,
             "ticks": ""
            },
            "colorscale": [
             [
              0,
              "#0d0887"
             ],
             [
              0.1111111111111111,
              "#46039f"
             ],
             [
              0.2222222222222222,
              "#7201a8"
             ],
             [
              0.3333333333333333,
              "#9c179e"
             ],
             [
              0.4444444444444444,
              "#bd3786"
             ],
             [
              0.5555555555555556,
              "#d8576b"
             ],
             [
              0.6666666666666666,
              "#ed7953"
             ],
             [
              0.7777777777777778,
              "#fb9f3a"
             ],
             [
              0.8888888888888888,
              "#fdca26"
             ],
             [
              1,
              "#f0f921"
             ]
            ],
            "type": "histogram2dcontour"
           }
          ],
          "mesh3d": [
           {
            "colorbar": {
             "outlinewidth": 0,
             "ticks": ""
            },
            "type": "mesh3d"
           }
          ],
          "parcoords": [
           {
            "line": {
             "colorbar": {
              "outlinewidth": 0,
              "ticks": ""
             }
            },
            "type": "parcoords"
           }
          ],
          "pie": [
           {
            "automargin": true,
            "type": "pie"
           }
          ],
          "scatter": [
           {
            "marker": {
             "colorbar": {
              "outlinewidth": 0,
              "ticks": ""
             }
            },
            "type": "scatter"
           }
          ],
          "scatter3d": [
           {
            "line": {
             "colorbar": {
              "outlinewidth": 0,
              "ticks": ""
             }
            },
            "marker": {
             "colorbar": {
              "outlinewidth": 0,
              "ticks": ""
             }
            },
            "type": "scatter3d"
           }
          ],
          "scattercarpet": [
           {
            "marker": {
             "colorbar": {
              "outlinewidth": 0,
              "ticks": ""
             }
            },
            "type": "scattercarpet"
           }
          ],
          "scattergeo": [
           {
            "marker": {
             "colorbar": {
              "outlinewidth": 0,
              "ticks": ""
             }
            },
            "type": "scattergeo"
           }
          ],
          "scattergl": [
           {
            "marker": {
             "colorbar": {
              "outlinewidth": 0,
              "ticks": ""
             }
            },
            "type": "scattergl"
           }
          ],
          "scattermapbox": [
           {
            "marker": {
             "colorbar": {
              "outlinewidth": 0,
              "ticks": ""
             }
            },
            "type": "scattermapbox"
           }
          ],
          "scatterpolar": [
           {
            "marker": {
             "colorbar": {
              "outlinewidth": 0,
              "ticks": ""
             }
            },
            "type": "scatterpolar"
           }
          ],
          "scatterpolargl": [
           {
            "marker": {
             "colorbar": {
              "outlinewidth": 0,
              "ticks": ""
             }
            },
            "type": "scatterpolargl"
           }
          ],
          "scatterternary": [
           {
            "marker": {
             "colorbar": {
              "outlinewidth": 0,
              "ticks": ""
             }
            },
            "type": "scatterternary"
           }
          ],
          "surface": [
           {
            "colorbar": {
             "outlinewidth": 0,
             "ticks": ""
            },
            "colorscale": [
             [
              0,
              "#0d0887"
             ],
             [
              0.1111111111111111,
              "#46039f"
             ],
             [
              0.2222222222222222,
              "#7201a8"
             ],
             [
              0.3333333333333333,
              "#9c179e"
             ],
             [
              0.4444444444444444,
              "#bd3786"
             ],
             [
              0.5555555555555556,
              "#d8576b"
             ],
             [
              0.6666666666666666,
              "#ed7953"
             ],
             [
              0.7777777777777778,
              "#fb9f3a"
             ],
             [
              0.8888888888888888,
              "#fdca26"
             ],
             [
              1,
              "#f0f921"
             ]
            ],
            "type": "surface"
           }
          ],
          "table": [
           {
            "cells": {
             "fill": {
              "color": "#EBF0F8"
             },
             "line": {
              "color": "white"
             }
            },
            "header": {
             "fill": {
              "color": "#C8D4E3"
             },
             "line": {
              "color": "white"
             }
            },
            "type": "table"
           }
          ]
         },
         "layout": {
          "annotationdefaults": {
           "arrowcolor": "#2a3f5f",
           "arrowhead": 0,
           "arrowwidth": 1
          },
          "autotypenumbers": "strict",
          "coloraxis": {
           "colorbar": {
            "outlinewidth": 0,
            "ticks": ""
           }
          },
          "colorscale": {
           "diverging": [
            [
             0,
             "#8e0152"
            ],
            [
             0.1,
             "#c51b7d"
            ],
            [
             0.2,
             "#de77ae"
            ],
            [
             0.3,
             "#f1b6da"
            ],
            [
             0.4,
             "#fde0ef"
            ],
            [
             0.5,
             "#f7f7f7"
            ],
            [
             0.6,
             "#e6f5d0"
            ],
            [
             0.7,
             "#b8e186"
            ],
            [
             0.8,
             "#7fbc41"
            ],
            [
             0.9,
             "#4d9221"
            ],
            [
             1,
             "#276419"
            ]
           ],
           "sequential": [
            [
             0,
             "#0d0887"
            ],
            [
             0.1111111111111111,
             "#46039f"
            ],
            [
             0.2222222222222222,
             "#7201a8"
            ],
            [
             0.3333333333333333,
             "#9c179e"
            ],
            [
             0.4444444444444444,
             "#bd3786"
            ],
            [
             0.5555555555555556,
             "#d8576b"
            ],
            [
             0.6666666666666666,
             "#ed7953"
            ],
            [
             0.7777777777777778,
             "#fb9f3a"
            ],
            [
             0.8888888888888888,
             "#fdca26"
            ],
            [
             1,
             "#f0f921"
            ]
           ],
           "sequentialminus": [
            [
             0,
             "#0d0887"
            ],
            [
             0.1111111111111111,
             "#46039f"
            ],
            [
             0.2222222222222222,
             "#7201a8"
            ],
            [
             0.3333333333333333,
             "#9c179e"
            ],
            [
             0.4444444444444444,
             "#bd3786"
            ],
            [
             0.5555555555555556,
             "#d8576b"
            ],
            [
             0.6666666666666666,
             "#ed7953"
            ],
            [
             0.7777777777777778,
             "#fb9f3a"
            ],
            [
             0.8888888888888888,
             "#fdca26"
            ],
            [
             1,
             "#f0f921"
            ]
           ]
          },
          "colorway": [
           "#636efa",
           "#EF553B",
           "#00cc96",
           "#ab63fa",
           "#FFA15A",
           "#19d3f3",
           "#FF6692",
           "#B6E880",
           "#FF97FF",
           "#FECB52"
          ],
          "font": {
           "color": "#2a3f5f"
          },
          "geo": {
           "bgcolor": "white",
           "lakecolor": "white",
           "landcolor": "#E5ECF6",
           "showlakes": true,
           "showland": true,
           "subunitcolor": "white"
          },
          "hoverlabel": {
           "align": "left"
          },
          "hovermode": "closest",
          "mapbox": {
           "style": "light"
          },
          "paper_bgcolor": "white",
          "plot_bgcolor": "#E5ECF6",
          "polar": {
           "angularaxis": {
            "gridcolor": "white",
            "linecolor": "white",
            "ticks": ""
           },
           "bgcolor": "#E5ECF6",
           "radialaxis": {
            "gridcolor": "white",
            "linecolor": "white",
            "ticks": ""
           }
          },
          "scene": {
           "xaxis": {
            "backgroundcolor": "#E5ECF6",
            "gridcolor": "white",
            "gridwidth": 2,
            "linecolor": "white",
            "showbackground": true,
            "ticks": "",
            "zerolinecolor": "white"
           },
           "yaxis": {
            "backgroundcolor": "#E5ECF6",
            "gridcolor": "white",
            "gridwidth": 2,
            "linecolor": "white",
            "showbackground": true,
            "ticks": "",
            "zerolinecolor": "white"
           },
           "zaxis": {
            "backgroundcolor": "#E5ECF6",
            "gridcolor": "white",
            "gridwidth": 2,
            "linecolor": "white",
            "showbackground": true,
            "ticks": "",
            "zerolinecolor": "white"
           }
          },
          "shapedefaults": {
           "line": {
            "color": "#2a3f5f"
           }
          },
          "ternary": {
           "aaxis": {
            "gridcolor": "white",
            "linecolor": "white",
            "ticks": ""
           },
           "baxis": {
            "gridcolor": "white",
            "linecolor": "white",
            "ticks": ""
           },
           "bgcolor": "#E5ECF6",
           "caxis": {
            "gridcolor": "white",
            "linecolor": "white",
            "ticks": ""
           }
          },
          "title": {
           "x": 0.05
          },
          "xaxis": {
           "automargin": true,
           "gridcolor": "white",
           "linecolor": "white",
           "ticks": "",
           "title": {
            "standoff": 15
           },
           "zerolinecolor": "white",
           "zerolinewidth": 2
          },
          "yaxis": {
           "automargin": true,
           "gridcolor": "white",
           "linecolor": "white",
           "ticks": "",
           "title": {
            "standoff": 15
           },
           "zerolinecolor": "white",
           "zerolinewidth": 2
          }
         }
        },
        "title": {
         "text": "Model fit of Random Forest model"
        },
        "xaxis": {
         "anchor": "y",
         "domain": [
          0,
          1
         ],
         "title": {
          "text": "measured data (sample)"
         }
        },
        "yaxis": {
         "anchor": "x",
         "domain": [
          0,
          1
         ],
         "title": {
          "text": "fitted values (in sample fit)"
         }
        }
       }
      },
      "text/html": [
       "<div>                            <div id=\"8287c156-48f2-4b13-b06b-d026b8fb741b\" class=\"plotly-graph-div\" style=\"height:525px; width:100%;\"></div>            <script type=\"text/javascript\">                require([\"plotly\"], function(Plotly) {                    window.PLOTLYENV=window.PLOTLYENV || {};                                    if (document.getElementById(\"8287c156-48f2-4b13-b06b-d026b8fb741b\")) {                    Plotly.newPlot(                        \"8287c156-48f2-4b13-b06b-d026b8fb741b\",                        [{\"hovertemplate\": \"value=%{x}<br>upper=%{y}<extra></extra>\", \"legendgroup\": \"\", \"marker\": {\"color\": \"#212c52\", \"size\": 10, \"symbol\": \"circle\"}, \"mode\": \"markers\", \"name\": \"\", \"orientation\": \"v\", \"showlegend\": false, \"type\": \"scatter\", \"x\": [3.380934463330702, 2.574031267727719, 3.244524511570084, 2.6857417386022635, 4.544068044350276, 2.870403905279027, 2.8750612633917, 4.544068044350276, 3.4459154139511234, 2.399673721481038, 4.544068044350276, 2.9804578922761, 4.544068044350276, 3.5341530741850624, 3.8516863154424277, 3.3283796034387376, 3.0773679052841563, 3.1451964061141817, 2.5477747053878224, 2.3283796034387376, 2.884795363948981, 3.2853322276438846, 2.6414741105040997, 2.6334684555795866, 2.3961993470957363, 4.14188854970586, 4.4428872189023485, 4.028855809390444, 4.374216605428374, 2.893206753059848, 2.9469432706978256, 2.7589118923979736, 2.494154594018443, 1.7853298350107671, 3.336859820916809, 2.940516484932567, 2.921166050637739, 3.7019994748896368, 4.544068044350276, 3.2234959409623944, 3.024074987307426, 2.710963118995276, 2.598790506763115, 3.1051694279993316, 3.0318122713303706, 3.274619619091238, 3.2643455070500926, 2.747411807886423, 2.893206753059848, 3.9563125308411946, 2.910624404889201, 3.037027879755775, 2.4899584794248346, 2.4899584794248346, 4.374216605428374, 4.14188854970586, 3.1228709228644354, 4.544068044350276, 3.003029470553618, 3.119585774961784, 3.2543063323312857, 3.4214393902200495, 2.727541257028556, 4.544068044350276, 2.591064607026499, 2.041392685158225, 2.403120521175818, 2.3324384599156054, 3.1684974835230326, 2.0969100130080562, 2.8432327780980096, 2.6148972160331345, 3.584670384464349, 3.336859820916809, 3.7567881987681178], \"xaxis\": \"x\", \"y\": [3.5562358909192278, 3.2006161727377065, 3.3178649605588624, 3.1116764142727917, 3.1446299002228133, 2.90998801041157, 3.0672220124871106, 3.973533511493797, 3.7405628160324986, 3.023322442434227, 3.3015287636100443, 3.195585320823057, 4.075234190465197, 3.1155537826774293, 4.335077045359765, 3.7405628160324986, 3.7917006411550775, 3.0310746001867854, 3.0834800162165066, 3.01095945599747, 3.663219660937369, 3.276982966215076, 3.3943662334381544, 3.278251968045035, 3.020554147568127, 3.3672229454637006, 4.566988717445137, 4.287112492103808, 3.5241029448963803, 3.32006133092998, 3.2826358146073953, 3.0345071218085438, 2.9473393816341082, 3.11432589211898, 3.1292892925970324, 3.0963474150725294, 3.27325912456342, 3.7058525110692355, 4.061109135175902, 3.855551774370148, 3.236582647459836, 3.1253288383546676, 2.928681106701235, 4.229911550222953, 3.0365539744131786, 3.1243139856876674, 3.645330968490011, 3.163374219099637, 3.099258407839075, 3.880389427052559, 3.183173523328595, 2.997975835222167, 3.209927422456594, 3.0145202553083297, 4.575056313549164, 3.3781483774490053, 3.273851415543835, 3.228096440391718, 2.9979863504637367, 3.1867226659114327, 3.01095945599747, 3.2885195563742413, 3.083941349781949, 3.0145202553083297, 2.987309125974305, 2.9413209609707534, 3.087297405752629, 2.9956423979403444, 3.7811478917315164, 2.946337334545064, 3.00576020565517, 3.086895421402318, 3.2933434937266832, 3.657664127464407, 3.0145202553083297], \"yaxis\": \"y\"}, {\"hovertemplate\": \"<extra></extra>\", \"legendgroup\": \"\", \"marker\": {\"color\": \"#212c52\", \"size\": 10, \"symbol\": \"circle\"}, \"mode\": \"lines\", \"name\": \"\", \"showlegend\": false, \"type\": \"scatter\", \"xaxis\": \"x\", \"yaxis\": \"y\"}],                        {\"font\": {\"color\": \"black\", \"family\": \"Helvetica Neue, Helvetica, Arial, sans-serif\"}, \"legend\": {\"title\": {}, \"tracegroupgap\": 0, \"x\": 0.01, \"xanchor\": \"left\", \"y\": 0.99, \"yanchor\": \"top\"}, \"margin\": {\"t\": 60}, \"template\": {\"data\": {\"bar\": [{\"error_x\": {\"color\": \"#2a3f5f\"}, \"error_y\": {\"color\": \"#2a3f5f\"}, \"marker\": {\"line\": {\"color\": \"#E5ECF6\", \"width\": 0.5}}, \"type\": \"bar\"}], \"barpolar\": [{\"marker\": {\"line\": {\"color\": \"#E5ECF6\", \"width\": 0.5}}, \"type\": \"barpolar\"}], \"carpet\": [{\"aaxis\": {\"endlinecolor\": \"#2a3f5f\", \"gridcolor\": \"white\", \"linecolor\": \"white\", \"minorgridcolor\": \"white\", \"startlinecolor\": \"#2a3f5f\"}, \"baxis\": {\"endlinecolor\": \"#2a3f5f\", \"gridcolor\": \"white\", \"linecolor\": \"white\", \"minorgridcolor\": \"white\", \"startlinecolor\": \"#2a3f5f\"}, \"type\": \"carpet\"}], \"choropleth\": [{\"colorbar\": {\"outlinewidth\": 0, \"ticks\": \"\"}, \"type\": \"choropleth\"}], \"contour\": [{\"colorbar\": {\"outlinewidth\": 0, \"ticks\": \"\"}, \"colorscale\": [[0.0, \"#0d0887\"], [0.1111111111111111, \"#46039f\"], [0.2222222222222222, \"#7201a8\"], [0.3333333333333333, \"#9c179e\"], [0.4444444444444444, \"#bd3786\"], [0.5555555555555556, \"#d8576b\"], [0.6666666666666666, \"#ed7953\"], [0.7777777777777778, \"#fb9f3a\"], [0.8888888888888888, \"#fdca26\"], [1.0, \"#f0f921\"]], \"type\": \"contour\"}], \"contourcarpet\": [{\"colorbar\": {\"outlinewidth\": 0, \"ticks\": \"\"}, \"type\": \"contourcarpet\"}], \"heatmap\": [{\"colorbar\": {\"outlinewidth\": 0, \"ticks\": \"\"}, \"colorscale\": [[0.0, \"#0d0887\"], [0.1111111111111111, \"#46039f\"], [0.2222222222222222, \"#7201a8\"], [0.3333333333333333, \"#9c179e\"], [0.4444444444444444, \"#bd3786\"], [0.5555555555555556, \"#d8576b\"], [0.6666666666666666, \"#ed7953\"], [0.7777777777777778, \"#fb9f3a\"], [0.8888888888888888, \"#fdca26\"], [1.0, \"#f0f921\"]], \"type\": \"heatmap\"}], \"heatmapgl\": [{\"colorbar\": {\"outlinewidth\": 0, \"ticks\": \"\"}, \"colorscale\": [[0.0, \"#0d0887\"], [0.1111111111111111, \"#46039f\"], [0.2222222222222222, \"#7201a8\"], [0.3333333333333333, \"#9c179e\"], [0.4444444444444444, \"#bd3786\"], [0.5555555555555556, \"#d8576b\"], [0.6666666666666666, \"#ed7953\"], [0.7777777777777778, \"#fb9f3a\"], [0.8888888888888888, \"#fdca26\"], [1.0, \"#f0f921\"]], \"type\": \"heatmapgl\"}], \"histogram\": [{\"marker\": {\"colorbar\": {\"outlinewidth\": 0, \"ticks\": \"\"}}, \"type\": \"histogram\"}], \"histogram2d\": [{\"colorbar\": {\"outlinewidth\": 0, \"ticks\": \"\"}, \"colorscale\": [[0.0, \"#0d0887\"], [0.1111111111111111, \"#46039f\"], [0.2222222222222222, \"#7201a8\"], [0.3333333333333333, \"#9c179e\"], [0.4444444444444444, \"#bd3786\"], [0.5555555555555556, \"#d8576b\"], [0.6666666666666666, \"#ed7953\"], [0.7777777777777778, \"#fb9f3a\"], [0.8888888888888888, \"#fdca26\"], [1.0, \"#f0f921\"]], \"type\": \"histogram2d\"}], \"histogram2dcontour\": [{\"colorbar\": {\"outlinewidth\": 0, \"ticks\": \"\"}, \"colorscale\": [[0.0, \"#0d0887\"], [0.1111111111111111, \"#46039f\"], [0.2222222222222222, \"#7201a8\"], [0.3333333333333333, \"#9c179e\"], [0.4444444444444444, \"#bd3786\"], [0.5555555555555556, \"#d8576b\"], [0.6666666666666666, \"#ed7953\"], [0.7777777777777778, \"#fb9f3a\"], [0.8888888888888888, \"#fdca26\"], [1.0, \"#f0f921\"]], \"type\": \"histogram2dcontour\"}], \"mesh3d\": [{\"colorbar\": {\"outlinewidth\": 0, \"ticks\": \"\"}, \"type\": \"mesh3d\"}], \"parcoords\": [{\"line\": {\"colorbar\": {\"outlinewidth\": 0, \"ticks\": \"\"}}, \"type\": \"parcoords\"}], \"pie\": [{\"automargin\": true, \"type\": \"pie\"}], \"scatter\": [{\"marker\": {\"colorbar\": {\"outlinewidth\": 0, \"ticks\": \"\"}}, \"type\": \"scatter\"}], \"scatter3d\": [{\"line\": {\"colorbar\": {\"outlinewidth\": 0, \"ticks\": \"\"}}, \"marker\": {\"colorbar\": {\"outlinewidth\": 0, \"ticks\": \"\"}}, \"type\": \"scatter3d\"}], \"scattercarpet\": [{\"marker\": {\"colorbar\": {\"outlinewidth\": 0, \"ticks\": \"\"}}, \"type\": \"scattercarpet\"}], \"scattergeo\": [{\"marker\": {\"colorbar\": {\"outlinewidth\": 0, \"ticks\": \"\"}}, \"type\": \"scattergeo\"}], \"scattergl\": [{\"marker\": {\"colorbar\": {\"outlinewidth\": 0, \"ticks\": \"\"}}, \"type\": \"scattergl\"}], \"scattermapbox\": [{\"marker\": {\"colorbar\": {\"outlinewidth\": 0, \"ticks\": \"\"}}, \"type\": \"scattermapbox\"}], \"scatterpolar\": [{\"marker\": {\"colorbar\": {\"outlinewidth\": 0, \"ticks\": \"\"}}, \"type\": \"scatterpolar\"}], \"scatterpolargl\": [{\"marker\": {\"colorbar\": {\"outlinewidth\": 0, \"ticks\": \"\"}}, \"type\": \"scatterpolargl\"}], \"scatterternary\": [{\"marker\": {\"colorbar\": {\"outlinewidth\": 0, \"ticks\": \"\"}}, \"type\": \"scatterternary\"}], \"surface\": [{\"colorbar\": {\"outlinewidth\": 0, \"ticks\": \"\"}, \"colorscale\": [[0.0, \"#0d0887\"], [0.1111111111111111, \"#46039f\"], [0.2222222222222222, \"#7201a8\"], [0.3333333333333333, \"#9c179e\"], [0.4444444444444444, \"#bd3786\"], [0.5555555555555556, \"#d8576b\"], [0.6666666666666666, \"#ed7953\"], [0.7777777777777778, \"#fb9f3a\"], [0.8888888888888888, \"#fdca26\"], [1.0, \"#f0f921\"]], \"type\": \"surface\"}], \"table\": [{\"cells\": {\"fill\": {\"color\": \"#EBF0F8\"}, \"line\": {\"color\": \"white\"}}, \"header\": {\"fill\": {\"color\": \"#C8D4E3\"}, \"line\": {\"color\": \"white\"}}, \"type\": \"table\"}]}, \"layout\": {\"annotationdefaults\": {\"arrowcolor\": \"#2a3f5f\", \"arrowhead\": 0, \"arrowwidth\": 1}, \"autotypenumbers\": \"strict\", \"coloraxis\": {\"colorbar\": {\"outlinewidth\": 0, \"ticks\": \"\"}}, \"colorscale\": {\"diverging\": [[0, \"#8e0152\"], [0.1, \"#c51b7d\"], [0.2, \"#de77ae\"], [0.3, \"#f1b6da\"], [0.4, \"#fde0ef\"], [0.5, \"#f7f7f7\"], [0.6, \"#e6f5d0\"], [0.7, \"#b8e186\"], [0.8, \"#7fbc41\"], [0.9, \"#4d9221\"], [1, \"#276419\"]], \"sequential\": [[0.0, \"#0d0887\"], [0.1111111111111111, \"#46039f\"], [0.2222222222222222, \"#7201a8\"], [0.3333333333333333, \"#9c179e\"], [0.4444444444444444, \"#bd3786\"], [0.5555555555555556, \"#d8576b\"], [0.6666666666666666, \"#ed7953\"], [0.7777777777777778, \"#fb9f3a\"], [0.8888888888888888, \"#fdca26\"], [1.0, \"#f0f921\"]], \"sequentialminus\": [[0.0, \"#0d0887\"], [0.1111111111111111, \"#46039f\"], [0.2222222222222222, \"#7201a8\"], [0.3333333333333333, \"#9c179e\"], [0.4444444444444444, \"#bd3786\"], [0.5555555555555556, \"#d8576b\"], [0.6666666666666666, \"#ed7953\"], [0.7777777777777778, \"#fb9f3a\"], [0.8888888888888888, \"#fdca26\"], [1.0, \"#f0f921\"]]}, \"colorway\": [\"#636efa\", \"#EF553B\", \"#00cc96\", \"#ab63fa\", \"#FFA15A\", \"#19d3f3\", \"#FF6692\", \"#B6E880\", \"#FF97FF\", \"#FECB52\"], \"font\": {\"color\": \"#2a3f5f\"}, \"geo\": {\"bgcolor\": \"white\", \"lakecolor\": \"white\", \"landcolor\": \"#E5ECF6\", \"showlakes\": true, \"showland\": true, \"subunitcolor\": \"white\"}, \"hoverlabel\": {\"align\": \"left\"}, \"hovermode\": \"closest\", \"mapbox\": {\"style\": \"light\"}, \"paper_bgcolor\": \"white\", \"plot_bgcolor\": \"#E5ECF6\", \"polar\": {\"angularaxis\": {\"gridcolor\": \"white\", \"linecolor\": \"white\", \"ticks\": \"\"}, \"bgcolor\": \"#E5ECF6\", \"radialaxis\": {\"gridcolor\": \"white\", \"linecolor\": \"white\", \"ticks\": \"\"}}, \"scene\": {\"xaxis\": {\"backgroundcolor\": \"#E5ECF6\", \"gridcolor\": \"white\", \"gridwidth\": 2, \"linecolor\": \"white\", \"showbackground\": true, \"ticks\": \"\", \"zerolinecolor\": \"white\"}, \"yaxis\": {\"backgroundcolor\": \"#E5ECF6\", \"gridcolor\": \"white\", \"gridwidth\": 2, \"linecolor\": \"white\", \"showbackground\": true, \"ticks\": \"\", \"zerolinecolor\": \"white\"}, \"zaxis\": {\"backgroundcolor\": \"#E5ECF6\", \"gridcolor\": \"white\", \"gridwidth\": 2, \"linecolor\": \"white\", \"showbackground\": true, \"ticks\": \"\", \"zerolinecolor\": \"white\"}}, \"shapedefaults\": {\"line\": {\"color\": \"#2a3f5f\"}}, \"ternary\": {\"aaxis\": {\"gridcolor\": \"white\", \"linecolor\": \"white\", \"ticks\": \"\"}, \"baxis\": {\"gridcolor\": \"white\", \"linecolor\": \"white\", \"ticks\": \"\"}, \"bgcolor\": \"#E5ECF6\", \"caxis\": {\"gridcolor\": \"white\", \"linecolor\": \"white\", \"ticks\": \"\"}}, \"title\": {\"x\": 0.05}, \"xaxis\": {\"automargin\": true, \"gridcolor\": \"white\", \"linecolor\": \"white\", \"ticks\": \"\", \"title\": {\"standoff\": 15}, \"zerolinecolor\": \"white\", \"zerolinewidth\": 2}, \"yaxis\": {\"automargin\": true, \"gridcolor\": \"white\", \"linecolor\": \"white\", \"ticks\": \"\", \"title\": {\"standoff\": 15}, \"zerolinecolor\": \"white\", \"zerolinewidth\": 2}}}, \"title\": {\"text\": \"Model fit of Random Forest model\"}, \"xaxis\": {\"anchor\": \"y\", \"domain\": [0.0, 1.0], \"title\": {\"text\": \"measured data (sample)\"}}, \"yaxis\": {\"anchor\": \"x\", \"domain\": [0.0, 1.0], \"title\": {\"text\": \"fitted values (in sample fit)\"}}},                        {\"responsive\": true}                    ).then(function(){\n",
       "                            \n",
       "var gd = document.getElementById('8287c156-48f2-4b13-b06b-d026b8fb741b');\n",
       "var x = new MutationObserver(function (mutations, observer) {{\n",
       "        var display = window.getComputedStyle(gd).display;\n",
       "        if (!display || display === 'none') {{\n",
       "            console.log([gd, 'removed!']);\n",
       "            Plotly.purge(gd);\n",
       "            observer.disconnect();\n",
       "        }}\n",
       "}});\n",
       "\n",
       "// Listen for the removal of the full notebook cells\n",
       "var notebookContainer = gd.closest('#notebook-container');\n",
       "if (notebookContainer) {{\n",
       "    x.observe(notebookContainer, {childList: true});\n",
       "}}\n",
       "\n",
       "// Listen for the clearing of the current output cell\n",
       "var outputEl = gd.closest('.output');\n",
       "if (outputEl) {{\n",
       "    x.observe(outputEl, {childList: true});\n",
       "}}\n",
       "\n",
       "                        })                };                });            </script>        </div>"
      ]
     },
     "metadata": {},
     "output_type": "display_data"
    }
   ],
   "source": [
    "fig = px.scatter(predictions, x = \"value\", y = \"upper\", \n",
    "                 color_discrete_sequence=['#212c52'], trendline = 'OLS')\n",
    "\n",
    "fig.update_layout(\n",
    "    font_family=\"Helvetica Neue, Helvetica, Arial, sans-serif\",\n",
    "    font_color=\"black\",\n",
    "    title = {'text':'Model fit of Random Forest model'},\n",
    "    xaxis_title = \"measured data (sample)\",\n",
    "    yaxis_title = \"fitted values (in sample fit)\",\n",
    "    #markersize= 12,\n",
    "  )\n",
    "fig.update_layout(legend=dict(\n",
    "    yanchor=\"top\",\n",
    "    title=None,\n",
    "    y=0.99,\n",
    "    xanchor=\"left\",\n",
    "    x=0.01\n",
    "))\n",
    "fig.update_traces(marker_size = 10)#['#75c3ff', \"red\"],#, marker_line_color='#212c52',\n",
    " #                 marker_line_width=1.5, opacity=1)\n",
    "\n",
    "fig.show()"
   ]
  },
  {
   "cell_type": "code",
   "execution_count": 152,
   "id": "third-anaheim",
   "metadata": {},
   "outputs": [
    {
     "data": {
      "text/plain": [
       "2.9542425094393248"
      ]
     },
     "execution_count": 152,
     "metadata": {},
     "output_type": "execute_result"
    }
   ],
   "source": [
    "np.log10(900)"
   ]
  },
  {
   "cell_type": "code",
   "execution_count": null,
   "id": "latest-mortality",
   "metadata": {},
   "outputs": [],
   "source": []
  }
 ],
 "metadata": {
  "kernelspec": {
   "display_name": "Django Shell-Plus",
   "language": "python",
   "name": "django_extensions"
  },
  "language_info": {
   "codemirror_mode": {
    "name": "ipython",
    "version": 3
   },
   "file_extension": ".py",
   "mimetype": "text/x-python",
   "name": "python",
   "nbconvert_exporter": "python",
   "pygments_lexer": "ipython3",
   "version": "3.9.1"
  }
 },
 "nbformat": 4,
 "nbformat_minor": 5
}
