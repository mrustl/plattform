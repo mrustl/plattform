{
 "cells": [
  {
   "cell_type": "code",
   "execution_count": 14,
   "id": "spatial-forest",
   "metadata": {},
   "outputs": [],
   "source": [
    "from ews.models import *\n",
    "import pandas as pd\n",
    "import geojson\n",
    "import numpy as np\n",
    "from django_pandas.io import read_frame"
   ]
  },
  {
   "cell_type": "code",
   "execution_count": 16,
   "id": "associate-horizon",
   "metadata": {},
   "outputs": [],
   "source": [
    "d = read_frame(SelectArea.objects.all())"
   ]
  },
  {
   "cell_type": "code",
   "execution_count": 23,
   "id": "baking-dragon",
   "metadata": {},
   "outputs": [],
   "source": [
    "x = pd.json_normalize(d[\"geom\"])"
   ]
  },
  {
   "cell_type": "code",
   "execution_count": 31,
   "id": "wrong-brunei",
   "metadata": {},
   "outputs": [
    {
     "data": {
      "text/plain": [
       "0    {'type': 'Polygon', 'coordinates': [[[2.327353...\n",
       "1    {'type': 'Polygon', 'coordinates': [[[2.327353...\n",
       "Name: geom, dtype: object"
      ]
     },
     "execution_count": 31,
     "metadata": {},
     "output_type": "execute_result"
    }
   ],
   "source": [
    "d[\"geom\"]"
   ]
  },
  {
   "cell_type": "code",
   "execution_count": 34,
   "id": "intimate-sister",
   "metadata": {},
   "outputs": [],
   "source": [
    "sites = read_frame(Site.objects.all())"
   ]
  },
  {
   "cell_type": "code",
   "execution_count": 35,
   "id": "curious-beads",
   "metadata": {},
   "outputs": [
    {
     "data": {
      "text/html": [
       "<div>\n",
       "<style scoped>\n",
       "    .dataframe tbody tr th:only-of-type {\n",
       "        vertical-align: middle;\n",
       "    }\n",
       "\n",
       "    .dataframe tbody tr th {\n",
       "        vertical-align: top;\n",
       "    }\n",
       "\n",
       "    .dataframe thead th {\n",
       "        text-align: right;\n",
       "    }\n",
       "</style>\n",
       "<table border=\"1\" class=\"dataframe\">\n",
       "  <thead>\n",
       "    <tr style=\"text-align: right;\">\n",
       "      <th></th>\n",
       "      <th>id</th>\n",
       "      <th>name</th>\n",
       "      <th>ref_name</th>\n",
       "      <th>geom</th>\n",
       "      <th>owner</th>\n",
       "      <th>feature_type</th>\n",
       "    </tr>\n",
       "  </thead>\n",
       "  <tbody>\n",
       "    <tr>\n",
       "      <th>0</th>\n",
       "      <td>37</td>\n",
       "      <td>seine_valenton_wwtp</td>\n",
       "      <td>Seine Amont</td>\n",
       "      <td>{'coordinates': [2.41622, 48.77783], 'type': '...</td>\n",
       "      <td>wolfi</td>\n",
       "      <td>WWTP</td>\n",
       "    </tr>\n",
       "    <tr>\n",
       "      <th>1</th>\n",
       "      <td>38</td>\n",
       "      <td>marne_aval_wwtp</td>\n",
       "      <td>Marne Aval</td>\n",
       "      <td>{'coordinates': [2.52324, 48.80188], 'type': '...</td>\n",
       "      <td>wolfi</td>\n",
       "      <td>WWTP</td>\n",
       "    </tr>\n",
       "    <tr>\n",
       "      <th>2</th>\n",
       "      <td>39</td>\n",
       "      <td>fresnes_choisy</td>\n",
       "      <td>CHOI50</td>\n",
       "      <td>{'coordinates': [2.41101, 48.7677], 'type': 'P...</td>\n",
       "      <td>wolfi</td>\n",
       "      <td>Network</td>\n",
       "    </tr>\n",
       "    <tr>\n",
       "      <th>3</th>\n",
       "      <td>40</td>\n",
       "      <td>saint_baudile</td>\n",
       "      <td>SB</td>\n",
       "      <td>{'coordinates': [2.53054, 48.85357], 'type': '...</td>\n",
       "      <td>wolfi</td>\n",
       "      <td>Network</td>\n",
       "    </tr>\n",
       "    <tr>\n",
       "      <th>4</th>\n",
       "      <td>41</td>\n",
       "      <td>canal_chesney</td>\n",
       "      <td>GO</td>\n",
       "      <td>{'coordinates': [2.56808, 48.86462], 'type': '...</td>\n",
       "      <td>wolfi</td>\n",
       "      <td>Network</td>\n",
       "    </tr>\n",
       "    <tr>\n",
       "      <th>...</th>\n",
       "      <td>...</td>\n",
       "      <td>...</td>\n",
       "      <td>...</td>\n",
       "      <td>...</td>\n",
       "      <td>...</td>\n",
       "      <td>...</td>\n",
       "    </tr>\n",
       "    <tr>\n",
       "      <th>191</th>\n",
       "      <td>241</td>\n",
       "      <td>chenneviere_si</td>\n",
       "      <td>Chenneviere</td>\n",
       "      <td>{'coordinates': [2.52159, 48.79069], 'type': '...</td>\n",
       "      <td>wolfi</td>\n",
       "      <td>BathingSpot</td>\n",
       "    </tr>\n",
       "    <tr>\n",
       "      <th>192</th>\n",
       "      <td>242</td>\n",
       "      <td>pont_d'iena_rg</td>\n",
       "      <td>Pont d'Iéna (RG)</td>\n",
       "      <td>{'type': 'Point', 'coordinates': [2.29262352, ...</td>\n",
       "      <td>wolfi</td>\n",
       "      <td>BathingSpot</td>\n",
       "    </tr>\n",
       "    <tr>\n",
       "      <th>193</th>\n",
       "      <td>243</td>\n",
       "      <td>pont_de_l'alma_rg</td>\n",
       "      <td>Pont de l'Alma (RG)</td>\n",
       "      <td>{'coordinates': [2.301785946, 48.86302085], 't...</td>\n",
       "      <td>wolfi</td>\n",
       "      <td>BathingSpot</td>\n",
       "    </tr>\n",
       "    <tr>\n",
       "      <th>194</th>\n",
       "      <td>244</td>\n",
       "      <td>marne_dwc_2019</td>\n",
       "      <td>Marne_DWC_2019</td>\n",
       "      <td>{'coordinates': [2.5301, 48.85346], 'type': 'P...</td>\n",
       "      <td>wolfi</td>\n",
       "      <td>BathingSpot</td>\n",
       "    </tr>\n",
       "    <tr>\n",
       "      <th>195</th>\n",
       "      <td>245</td>\n",
       "      <td>pont_alma_dwc_2019</td>\n",
       "      <td>Pont Alma_DWC_2019</td>\n",
       "      <td>{'coordinates': [2.305, 48.86302], 'type': 'Po...</td>\n",
       "      <td>wolfi</td>\n",
       "      <td>BathingSpot</td>\n",
       "    </tr>\n",
       "  </tbody>\n",
       "</table>\n",
       "<p>196 rows × 6 columns</p>\n",
       "</div>"
      ],
      "text/plain": [
       "      id                 name             ref_name  \\\n",
       "0     37  seine_valenton_wwtp          Seine Amont   \n",
       "1     38      marne_aval_wwtp           Marne Aval   \n",
       "2     39       fresnes_choisy               CHOI50   \n",
       "3     40        saint_baudile                   SB   \n",
       "4     41        canal_chesney                   GO   \n",
       "..   ...                  ...                  ...   \n",
       "191  241       chenneviere_si          Chenneviere   \n",
       "192  242       pont_d'iena_rg     Pont d'Iéna (RG)   \n",
       "193  243    pont_de_l'alma_rg  Pont de l'Alma (RG)   \n",
       "194  244       marne_dwc_2019       Marne_DWC_2019   \n",
       "195  245   pont_alma_dwc_2019   Pont Alma_DWC_2019   \n",
       "\n",
       "                                                  geom  owner feature_type  \n",
       "0    {'coordinates': [2.41622, 48.77783], 'type': '...  wolfi         WWTP  \n",
       "1    {'coordinates': [2.52324, 48.80188], 'type': '...  wolfi         WWTP  \n",
       "2    {'coordinates': [2.41101, 48.7677], 'type': 'P...  wolfi      Network  \n",
       "3    {'coordinates': [2.53054, 48.85357], 'type': '...  wolfi      Network  \n",
       "4    {'coordinates': [2.56808, 48.86462], 'type': '...  wolfi      Network  \n",
       "..                                                 ...    ...          ...  \n",
       "191  {'coordinates': [2.52159, 48.79069], 'type': '...  wolfi  BathingSpot  \n",
       "192  {'type': 'Point', 'coordinates': [2.29262352, ...  wolfi  BathingSpot  \n",
       "193  {'coordinates': [2.301785946, 48.86302085], 't...  wolfi  BathingSpot  \n",
       "194  {'coordinates': [2.5301, 48.85346], 'type': 'P...  wolfi  BathingSpot  \n",
       "195  {'coordinates': [2.305, 48.86302], 'type': 'Po...  wolfi  BathingSpot  \n",
       "\n",
       "[196 rows x 6 columns]"
      ]
     },
     "execution_count": 35,
     "metadata": {},
     "output_type": "execute_result"
    }
   ],
   "source": [
    "sites"
   ]
  },
  {
   "cell_type": "code",
   "execution_count": null,
   "id": "rapid-header",
   "metadata": {},
   "outputs": [],
   "source": []
  }
 ],
 "metadata": {
  "kernelspec": {
   "display_name": "Django Shell-Plus",
   "language": "python",
   "name": "django_extensions"
  },
  "language_info": {
   "codemirror_mode": {
    "name": "ipython",
    "version": 3
   },
   "file_extension": ".py",
   "mimetype": "text/x-python",
   "name": "python",
   "nbconvert_exporter": "python",
   "pygments_lexer": "ipython3",
   "version": "3.9.1"
  }
 },
 "nbformat": 4,
 "nbformat_minor": 5
}
