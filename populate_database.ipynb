{
 "cells": [
  {
   "cell_type": "code",
   "execution_count": 63,
   "id": "mexican-brass",
   "metadata": {},
   "outputs": [],
   "source": [
    "from ews.models import *\n",
    "import pandas as pd\n",
    "#import geopandas\n",
    "import geojson\n",
    "import matplotlib.pyplot as plt\n",
    "import numpy as np\n"
   ]
  },
  {
   "cell_type": "code",
   "execution_count": 64,
   "id": "spatial-australian",
   "metadata": {},
   "outputs": [
    {
     "data": {
      "text/plain": [
       "<QuerySet [<Site: neuilly_sur_marne_smv17>, <Site: chenneviere_si>, <Site: pont_d'iéna_rg>, <Site: pont_de_l'alma_rg>, <Site: marne_dwc_2019>, <Site: pont_alma_dwc_2019>, <Site: seine_valenton>, <Site: marne_aval_wwtp>, <Site: fresnes_choisy>, <Site: saint_baudile>, <Site: canal_chesney>, <Site: centre_urbain>, <Site: neuilly_gagny>, <Site: ru_de_nelse>, <Site: maltournée>, <Site: avenue_de_neptune_nogent>, <Site: alfortville_flow>, <Site: bartel_flow>, <Site: charenton_flow>, <Site: des_4_flow>, '...(remaining elements truncated)...']>"
      ]
     },
     "execution_count": 64,
     "metadata": {},
     "output_type": "execute_result"
    }
   ],
   "source": [
    "Site.objects.all()"
   ]
  },
  {
   "cell_type": "code",
   "execution_count": 65,
   "id": "weird-lunch",
   "metadata": {},
   "outputs": [],
   "source": [
    "loc = Site()"
   ]
  },
  {
   "cell_type": "code",
   "execution_count": 66,
   "id": "south-steel",
   "metadata": {},
   "outputs": [],
   "source": [
    "d = pd.read_csv(\"D:/DWC_plattform/metadata_clean.csv\")"
   ]
  },
  {
   "cell_type": "code",
   "execution_count": 67,
   "id": "actual-packing",
   "metadata": {},
   "outputs": [
    {
     "data": {
      "text/html": [
       "<div>\n",
       "<style scoped>\n",
       "    .dataframe tbody tr th:only-of-type {\n",
       "        vertical-align: middle;\n",
       "    }\n",
       "\n",
       "    .dataframe tbody tr th {\n",
       "        vertical-align: top;\n",
       "    }\n",
       "\n",
       "    .dataframe thead th {\n",
       "        text-align: right;\n",
       "    }\n",
       "</style>\n",
       "<table border=\"1\" class=\"dataframe\">\n",
       "  <thead>\n",
       "    <tr style=\"text-align: right;\">\n",
       "      <th></th>\n",
       "      <th>SiteName</th>\n",
       "      <th>SiteReferencementName</th>\n",
       "      <th>SiteType</th>\n",
       "      <th>SourceID</th>\n",
       "      <th>SiteLatitude(y)</th>\n",
       "      <th>SiteLongitude(x)</th>\n",
       "    </tr>\n",
       "  </thead>\n",
       "  <tbody>\n",
       "    <tr>\n",
       "      <th>0</th>\n",
       "      <td>neuilly_sur_marne_smv17</td>\n",
       "      <td>SMV17 - Neuilly-sur-Marne</td>\n",
       "      <td>River</td>\n",
       "      <td>SMV</td>\n",
       "      <td>48.852620</td>\n",
       "      <td>2.522907</td>\n",
       "    </tr>\n",
       "    <tr>\n",
       "      <th>1</th>\n",
       "      <td>chenneviere_si</td>\n",
       "      <td>Chenneviere</td>\n",
       "      <td>River</td>\n",
       "      <td>SIAAP</td>\n",
       "      <td>48.790690</td>\n",
       "      <td>2.521590</td>\n",
       "    </tr>\n",
       "    <tr>\n",
       "      <th>2</th>\n",
       "      <td>pont_d'iéna_rg</td>\n",
       "      <td>Pont d'Iéna (RG)</td>\n",
       "      <td>River</td>\n",
       "      <td>VDP</td>\n",
       "      <td>48.859478</td>\n",
       "      <td>2.292624</td>\n",
       "    </tr>\n",
       "    <tr>\n",
       "      <th>3</th>\n",
       "      <td>pont_de_l'alma_rg</td>\n",
       "      <td>Pont de l'Alma (RG)</td>\n",
       "      <td>River</td>\n",
       "      <td>VDP</td>\n",
       "      <td>48.863021</td>\n",
       "      <td>2.301786</td>\n",
       "    </tr>\n",
       "    <tr>\n",
       "      <th>4</th>\n",
       "      <td>marne_dwc_2019</td>\n",
       "      <td>Marne_DWC_2019</td>\n",
       "      <td>River</td>\n",
       "      <td>SIAAP</td>\n",
       "      <td>48.853460</td>\n",
       "      <td>2.530100</td>\n",
       "    </tr>\n",
       "    <tr>\n",
       "      <th>...</th>\n",
       "      <td>...</td>\n",
       "      <td>...</td>\n",
       "      <td>...</td>\n",
       "      <td>...</td>\n",
       "      <td>...</td>\n",
       "      <td>...</td>\n",
       "    </tr>\n",
       "    <tr>\n",
       "      <th>121</th>\n",
       "      <td>marine</td>\n",
       "      <td>DO27505634-DO Marine</td>\n",
       "      <td>Network</td>\n",
       "      <td>VDP</td>\n",
       "      <td>48.844970</td>\n",
       "      <td>2.367150</td>\n",
       "    </tr>\n",
       "    <tr>\n",
       "      <th>122</th>\n",
       "      <td>mirabeau_convention</td>\n",
       "      <td>DO27505639-DO Mirabeau-Convention</td>\n",
       "      <td>Network</td>\n",
       "      <td>VDP</td>\n",
       "      <td>48.846890</td>\n",
       "      <td>2.276920</td>\n",
       "    </tr>\n",
       "    <tr>\n",
       "      <th>123</th>\n",
       "      <td>javel_leblanc</td>\n",
       "      <td>DO27505640-DO Javel-Leblanc</td>\n",
       "      <td>Network</td>\n",
       "      <td>VDP</td>\n",
       "      <td>48.841620</td>\n",
       "      <td>2.271710</td>\n",
       "    </tr>\n",
       "    <tr>\n",
       "      <th>124</th>\n",
       "      <td>wilson</td>\n",
       "      <td>DO29204430-DO Wilson</td>\n",
       "      <td>Network</td>\n",
       "      <td>VDP</td>\n",
       "      <td>48.900820</td>\n",
       "      <td>2.282630</td>\n",
       "    </tr>\n",
       "    <tr>\n",
       "      <th>125</th>\n",
       "      <td>usine_de_crue_watt</td>\n",
       "      <td>TP27505632-Usine de crue Watt</td>\n",
       "      <td>Network</td>\n",
       "      <td>VDP</td>\n",
       "      <td>48.828220</td>\n",
       "      <td>2.385430</td>\n",
       "    </tr>\n",
       "  </tbody>\n",
       "</table>\n",
       "<p>126 rows × 6 columns</p>\n",
       "</div>"
      ],
      "text/plain": [
       "                    SiteName              SiteReferencementName SiteType  \\\n",
       "0    neuilly_sur_marne_smv17          SMV17 - Neuilly-sur-Marne    River   \n",
       "1             chenneviere_si                        Chenneviere    River   \n",
       "2             pont_d'iéna_rg                   Pont d'Iéna (RG)    River   \n",
       "3          pont_de_l'alma_rg                Pont de l'Alma (RG)    River   \n",
       "4             marne_dwc_2019                     Marne_DWC_2019    River   \n",
       "..                       ...                                ...      ...   \n",
       "121                   marine               DO27505634-DO Marine  Network   \n",
       "122      mirabeau_convention  DO27505639-DO Mirabeau-Convention  Network   \n",
       "123            javel_leblanc        DO27505640-DO Javel-Leblanc  Network   \n",
       "124                   wilson               DO29204430-DO Wilson  Network   \n",
       "125       usine_de_crue_watt      TP27505632-Usine de crue Watt  Network   \n",
       "\n",
       "    SourceID  SiteLatitude(y)  SiteLongitude(x)  \n",
       "0        SMV        48.852620          2.522907  \n",
       "1      SIAAP        48.790690          2.521590  \n",
       "2        VDP        48.859478          2.292624  \n",
       "3        VDP        48.863021          2.301786  \n",
       "4      SIAAP        48.853460          2.530100  \n",
       "..       ...              ...               ...  \n",
       "121      VDP        48.844970          2.367150  \n",
       "122      VDP        48.846890          2.276920  \n",
       "123      VDP        48.841620          2.271710  \n",
       "124      VDP        48.900820          2.282630  \n",
       "125      VDP        48.828220          2.385430  \n",
       "\n",
       "[126 rows x 6 columns]"
      ]
     },
     "execution_count": 67,
     "metadata": {},
     "output_type": "execute_result"
    }
   ],
   "source": [
    "d"
   ]
  },
  {
   "cell_type": "code",
   "execution_count": 68,
   "id": "certified-worcester",
   "metadata": {},
   "outputs": [],
   "source": [
    "#FeatureType.objects.bulk_create([FeatureType(name=\"WWTP\"), FeatureType(name=\"Network\"), FeatureType(name=\"River\")])"
   ]
  },
  {
   "cell_type": "code",
   "execution_count": 69,
   "id": "distant-brave",
   "metadata": {},
   "outputs": [
    {
     "data": {
      "text/plain": [
       "(126, {'ews.Site': 126})"
      ]
     },
     "execution_count": 69,
     "metadata": {},
     "output_type": "execute_result"
    }
   ],
   "source": [
    "Site.objects.all().delete()"
   ]
  },
  {
   "cell_type": "code",
   "execution_count": 70,
   "id": "needed-newark",
   "metadata": {},
   "outputs": [
    {
     "data": {
      "text/plain": [
       "<FeatureType: River>"
      ]
     },
     "execution_count": 70,
     "metadata": {},
     "output_type": "execute_result"
    }
   ],
   "source": [
    "FeatureType.objects.get(name = d.SiteType[0])"
   ]
  },
  {
   "cell_type": "code",
   "execution_count": 71,
   "id": "complex-flash",
   "metadata": {},
   "outputs": [],
   "source": [
    "for index, row in d.iterrows():\n",
    "    loc = Site()\n",
    "    loc.name = row['SiteName']\n",
    "    loc.ref_name = row['SiteReferencementName']\n",
    "    loc.geom = {\"coordinates\": [row['SiteLongitude(x)'],row['SiteLatitude(y)']], \"type\": \"Point\"}\n",
    "    loc.feature_type = FeatureType.objects.get(name = row['SiteType'])\n",
    "    loc.owner = User.objects.get(id = 1)\n",
    "    loc.save()"
   ]
  },
  {
   "cell_type": "code",
   "execution_count": 72,
   "id": "subject-nitrogen",
   "metadata": {},
   "outputs": [],
   "source": [
    "flows = pd.read_csv('D:/DWC_plattform/flows.csv',parse_dates = True, index_col = \"date\")"
   ]
  },
  {
   "cell_type": "code",
   "execution_count": 73,
   "id": "social-carbon",
   "metadata": {},
   "outputs": [
    {
     "data": {
      "text/html": [
       "<div>\n",
       "<style scoped>\n",
       "    .dataframe tbody tr th:only-of-type {\n",
       "        vertical-align: middle;\n",
       "    }\n",
       "\n",
       "    .dataframe tbody tr th {\n",
       "        vertical-align: top;\n",
       "    }\n",
       "\n",
       "    .dataframe thead th {\n",
       "        text-align: right;\n",
       "    }\n",
       "</style>\n",
       "<table border=\"1\" class=\"dataframe\">\n",
       "  <thead>\n",
       "    <tr style=\"text-align: right;\">\n",
       "      <th></th>\n",
       "      <th>value</th>\n",
       "      <th>site</th>\n",
       "    </tr>\n",
       "    <tr>\n",
       "      <th>date</th>\n",
       "      <th></th>\n",
       "      <th></th>\n",
       "    </tr>\n",
       "  </thead>\n",
       "  <tbody>\n",
       "    <tr>\n",
       "      <th>2018-12-31 23:00:00+00:00</th>\n",
       "      <td>0.0</td>\n",
       "      <td>avenue_de_neptune_nogent</td>\n",
       "    </tr>\n",
       "    <tr>\n",
       "      <th>2018-12-31 23:05:00+00:00</th>\n",
       "      <td>0.0</td>\n",
       "      <td>avenue_de_neptune_nogent</td>\n",
       "    </tr>\n",
       "    <tr>\n",
       "      <th>2018-12-31 23:10:00+00:00</th>\n",
       "      <td>0.0</td>\n",
       "      <td>avenue_de_neptune_nogent</td>\n",
       "    </tr>\n",
       "    <tr>\n",
       "      <th>2018-12-31 23:15:00+00:00</th>\n",
       "      <td>0.0</td>\n",
       "      <td>avenue_de_neptune_nogent</td>\n",
       "    </tr>\n",
       "    <tr>\n",
       "      <th>2018-12-31 23:20:00+00:00</th>\n",
       "      <td>0.0</td>\n",
       "      <td>avenue_de_neptune_nogent</td>\n",
       "    </tr>\n",
       "  </tbody>\n",
       "</table>\n",
       "</div>"
      ],
      "text/plain": [
       "                           value                      site\n",
       "date                                                      \n",
       "2018-12-31 23:00:00+00:00    0.0  avenue_de_neptune_nogent\n",
       "2018-12-31 23:05:00+00:00    0.0  avenue_de_neptune_nogent\n",
       "2018-12-31 23:10:00+00:00    0.0  avenue_de_neptune_nogent\n",
       "2018-12-31 23:15:00+00:00    0.0  avenue_de_neptune_nogent\n",
       "2018-12-31 23:20:00+00:00    0.0  avenue_de_neptune_nogent"
      ]
     },
     "execution_count": 73,
     "metadata": {},
     "output_type": "execute_result"
    }
   ],
   "source": [
    "flows.head()"
   ]
  },
  {
   "cell_type": "code",
   "execution_count": 74,
   "id": "coated-sympathy",
   "metadata": {},
   "outputs": [],
   "source": [
    "sites = flows.site.unique()"
   ]
  },
  {
   "cell_type": "code",
   "execution_count": 75,
   "id": "numerical-destruction",
   "metadata": {},
   "outputs": [],
   "source": [
    "select = flows[flows[\"site\"]==sites[0]]"
   ]
  },
  {
   "cell_type": "code",
   "execution_count": 76,
   "id": "subtle-edward",
   "metadata": {},
   "outputs": [],
   "source": [
    "daily = select.resample(\"6H\").mean()"
   ]
  },
  {
   "cell_type": "code",
   "execution_count": 77,
   "id": "informal-merit",
   "metadata": {},
   "outputs": [],
   "source": [
    "aggregates =flows.groupby(\"site\").resample(\"6H\").mean()"
   ]
  },
  {
   "cell_type": "code",
   "execution_count": 78,
   "id": "accessory-barrier",
   "metadata": {},
   "outputs": [],
   "source": [
    "d = aggregates.reset_index()"
   ]
  },
  {
   "cell_type": "code",
   "execution_count": 79,
   "id": "general-julian",
   "metadata": {},
   "outputs": [],
   "source": [
    "d.value = d.value.round(3)"
   ]
  },
  {
   "cell_type": "code",
   "execution_count": 80,
   "id": "infrared-current",
   "metadata": {},
   "outputs": [
    {
     "data": {
      "text/html": [
       "<div>\n",
       "<style scoped>\n",
       "    .dataframe tbody tr th:only-of-type {\n",
       "        vertical-align: middle;\n",
       "    }\n",
       "\n",
       "    .dataframe tbody tr th {\n",
       "        vertical-align: top;\n",
       "    }\n",
       "\n",
       "    .dataframe thead th {\n",
       "        text-align: right;\n",
       "    }\n",
       "</style>\n",
       "<table border=\"1\" class=\"dataframe\">\n",
       "  <thead>\n",
       "    <tr style=\"text-align: right;\">\n",
       "      <th></th>\n",
       "      <th>site</th>\n",
       "      <th>date</th>\n",
       "      <th>value</th>\n",
       "    </tr>\n",
       "  </thead>\n",
       "  <tbody>\n",
       "    <tr>\n",
       "      <th>114268</th>\n",
       "      <td>canal_chesney</td>\n",
       "      <td>2015-07-05 00:00:00+00:00</td>\n",
       "      <td>-9999.0</td>\n",
       "    </tr>\n",
       "    <tr>\n",
       "      <th>114270</th>\n",
       "      <td>canal_chesney</td>\n",
       "      <td>2015-07-05 12:00:00+00:00</td>\n",
       "      <td>-9999.0</td>\n",
       "    </tr>\n",
       "    <tr>\n",
       "      <th>114267</th>\n",
       "      <td>canal_chesney</td>\n",
       "      <td>2015-07-04 18:00:00+00:00</td>\n",
       "      <td>-9999.0</td>\n",
       "    </tr>\n",
       "    <tr>\n",
       "      <th>114266</th>\n",
       "      <td>canal_chesney</td>\n",
       "      <td>2015-07-04 12:00:00+00:00</td>\n",
       "      <td>-9999.0</td>\n",
       "    </tr>\n",
       "    <tr>\n",
       "      <th>114265</th>\n",
       "      <td>canal_chesney</td>\n",
       "      <td>2015-07-04 06:00:00+00:00</td>\n",
       "      <td>-9999.0</td>\n",
       "    </tr>\n",
       "    <tr>\n",
       "      <th>...</th>\n",
       "      <td>...</td>\n",
       "      <td>...</td>\n",
       "      <td>...</td>\n",
       "    </tr>\n",
       "    <tr>\n",
       "      <th>133076</th>\n",
       "      <td>cd52</td>\n",
       "      <td>2019-05-21 06:00:00+00:00</td>\n",
       "      <td>NaN</td>\n",
       "    </tr>\n",
       "    <tr>\n",
       "      <th>133077</th>\n",
       "      <td>cd52</td>\n",
       "      <td>2019-05-21 12:00:00+00:00</td>\n",
       "      <td>NaN</td>\n",
       "    </tr>\n",
       "    <tr>\n",
       "      <th>133078</th>\n",
       "      <td>cd52</td>\n",
       "      <td>2019-05-21 18:00:00+00:00</td>\n",
       "      <td>NaN</td>\n",
       "    </tr>\n",
       "    <tr>\n",
       "      <th>133079</th>\n",
       "      <td>cd52</td>\n",
       "      <td>2019-05-22 00:00:00+00:00</td>\n",
       "      <td>NaN</td>\n",
       "    </tr>\n",
       "    <tr>\n",
       "      <th>133080</th>\n",
       "      <td>cd52</td>\n",
       "      <td>2019-05-22 06:00:00+00:00</td>\n",
       "      <td>NaN</td>\n",
       "    </tr>\n",
       "  </tbody>\n",
       "</table>\n",
       "<p>133975 rows × 3 columns</p>\n",
       "</div>"
      ],
      "text/plain": [
       "                 site                      date   value\n",
       "114268  canal_chesney 2015-07-05 00:00:00+00:00 -9999.0\n",
       "114270  canal_chesney 2015-07-05 12:00:00+00:00 -9999.0\n",
       "114267  canal_chesney 2015-07-04 18:00:00+00:00 -9999.0\n",
       "114266  canal_chesney 2015-07-04 12:00:00+00:00 -9999.0\n",
       "114265  canal_chesney 2015-07-04 06:00:00+00:00 -9999.0\n",
       "...               ...                       ...     ...\n",
       "133076           cd52 2019-05-21 06:00:00+00:00     NaN\n",
       "133077           cd52 2019-05-21 12:00:00+00:00     NaN\n",
       "133078           cd52 2019-05-21 18:00:00+00:00     NaN\n",
       "133079           cd52 2019-05-22 00:00:00+00:00     NaN\n",
       "133080           cd52 2019-05-22 06:00:00+00:00     NaN\n",
       "\n",
       "[133975 rows x 3 columns]"
      ]
     },
     "execution_count": 80,
     "metadata": {},
     "output_type": "execute_result"
    }
   ],
   "source": [
    "d.sort_values(by = \"value\")"
   ]
  },
  {
   "cell_type": "code",
   "execution_count": 81,
   "id": "sunset-dollar",
   "metadata": {},
   "outputs": [],
   "source": [
    "d.loc[d[\"value\"] < 0, [\"value\"]] = np.nan"
   ]
  },
  {
   "cell_type": "code",
   "execution_count": 82,
   "id": "coral-trace",
   "metadata": {},
   "outputs": [],
   "source": [
    "d = d.dropna()"
   ]
  },
  {
   "cell_type": "code",
   "execution_count": 83,
   "id": "prescription-strategy",
   "metadata": {},
   "outputs": [
    {
     "data": {
      "text/plain": [
       "(0, {})"
      ]
     },
     "execution_count": 83,
     "metadata": {},
     "output_type": "execute_result"
    }
   ],
   "source": [
    "#FeatureData.objects.all().delete()"
   ]
  },
  {
   "cell_type": "code",
   "execution_count": 84,
   "id": "earned-blast",
   "metadata": {},
   "outputs": [],
   "source": [
    "y=d.sort_values(by = \"value\", ascending = False).tail(3)"
   ]
  },
  {
   "cell_type": "code",
   "execution_count": 85,
   "id": "stylish-scientist",
   "metadata": {},
   "outputs": [
    {
     "data": {
      "text/html": [
       "<div>\n",
       "<style scoped>\n",
       "    .dataframe tbody tr th:only-of-type {\n",
       "        vertical-align: middle;\n",
       "    }\n",
       "\n",
       "    .dataframe tbody tr th {\n",
       "        vertical-align: top;\n",
       "    }\n",
       "\n",
       "    .dataframe thead th {\n",
       "        text-align: right;\n",
       "    }\n",
       "</style>\n",
       "<table border=\"1\" class=\"dataframe\">\n",
       "  <thead>\n",
       "    <tr style=\"text-align: right;\">\n",
       "      <th></th>\n",
       "      <th>site</th>\n",
       "      <th>date</th>\n",
       "      <th>value</th>\n",
       "    </tr>\n",
       "  </thead>\n",
       "  <tbody>\n",
       "    <tr>\n",
       "      <th>48122</th>\n",
       "      <td>avenir</td>\n",
       "      <td>2019-10-30 18:00:00+00:00</td>\n",
       "      <td>0.0</td>\n",
       "    </tr>\n",
       "    <tr>\n",
       "      <th>48121</th>\n",
       "      <td>avenir</td>\n",
       "      <td>2019-10-30 12:00:00+00:00</td>\n",
       "      <td>0.0</td>\n",
       "    </tr>\n",
       "    <tr>\n",
       "      <th>133974</th>\n",
       "      <td>cd52</td>\n",
       "      <td>2019-12-31 18:00:00+00:00</td>\n",
       "      <td>0.0</td>\n",
       "    </tr>\n",
       "  </tbody>\n",
       "</table>\n",
       "</div>"
      ],
      "text/plain": [
       "          site                      date  value\n",
       "48122   avenir 2019-10-30 18:00:00+00:00    0.0\n",
       "48121   avenir 2019-10-30 12:00:00+00:00    0.0\n",
       "133974    cd52 2019-12-31 18:00:00+00:00    0.0"
      ]
     },
     "execution_count": 85,
     "metadata": {},
     "output_type": "execute_result"
    }
   ],
   "source": [
    "y"
   ]
  },
  {
   "cell_type": "code",
   "execution_count": 86,
   "id": "crucial-geneva",
   "metadata": {},
   "outputs": [],
   "source": [
    "list = []\n",
    "for index, row in d.iterrows():\n",
    "    dpoint = FeatureData()\n",
    "    dpoint.date = row[\"date\"]\n",
    "    dpoint.value = row[\"value\"]\n",
    "    dpoint.site = Site.objects.get(name = row['site'])\n",
    "    dpoint.save()\n",
    "    \n",
    "    \n"
   ]
  },
  {
   "cell_type": "code",
   "execution_count": null,
   "id": "documentary-daniel",
   "metadata": {},
   "outputs": [],
   "source": []
  },
  {
   "cell_type": "code",
   "execution_count": null,
   "id": "third-listing",
   "metadata": {},
   "outputs": [],
   "source": []
  }
 ],
 "metadata": {
  "kernelspec": {
   "display_name": "Django Shell-Plus",
   "language": "python",
   "name": "django_extensions"
  },
  "language_info": {
   "codemirror_mode": {
    "name": "ipython",
    "version": 3
   },
   "file_extension": ".py",
   "mimetype": "text/x-python",
   "name": "python",
   "nbconvert_exporter": "python",
   "pygments_lexer": "ipython3",
   "version": "3.9.1"
  }
 },
 "nbformat": 4,
 "nbformat_minor": 5
}
