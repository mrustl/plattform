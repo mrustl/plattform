{
 "cells": [
  {
   "cell_type": "code",
   "execution_count": 64,
   "id": "mexican-brass",
   "metadata": {},
   "outputs": [],
   "source": [
    "from ews.models import *\n",
    "import pandas as pd\n",
    "import geopandas\n",
    "import geojson\n"
   ]
  },
  {
   "cell_type": "code",
   "execution_count": 65,
   "id": "spatial-australian",
   "metadata": {},
   "outputs": [
    {
     "data": {
      "text/plain": [
       "<QuerySet []>"
      ]
     },
     "execution_count": 65,
     "metadata": {},
     "output_type": "execute_result"
    }
   ],
   "source": [
    "Site.objects.all()"
   ]
  },
  {
   "cell_type": "code",
   "execution_count": 66,
   "id": "weird-lunch",
   "metadata": {},
   "outputs": [],
   "source": [
    "loc = Site()"
   ]
  },
  {
   "cell_type": "code",
   "execution_count": 67,
   "id": "south-steel",
   "metadata": {},
   "outputs": [],
   "source": [
    "d = pd.read_csv(\"D:/DWC_plattform/Metadata_import.csv\")"
   ]
  },
  {
   "cell_type": "code",
   "execution_count": 68,
   "id": "actual-packing",
   "metadata": {},
   "outputs": [
    {
     "data": {
      "text/html": [
       "<div>\n",
       "<style scoped>\n",
       "    .dataframe tbody tr th:only-of-type {\n",
       "        vertical-align: middle;\n",
       "    }\n",
       "\n",
       "    .dataframe tbody tr th {\n",
       "        vertical-align: top;\n",
       "    }\n",
       "\n",
       "    .dataframe thead th {\n",
       "        text-align: right;\n",
       "    }\n",
       "</style>\n",
       "<table border=\"1\" class=\"dataframe\">\n",
       "  <thead>\n",
       "    <tr style=\"text-align: right;\">\n",
       "      <th></th>\n",
       "      <th>SiteName</th>\n",
       "      <th>SiteReferencementName</th>\n",
       "      <th>SiteType</th>\n",
       "      <th>SourceID</th>\n",
       "      <th>SiteLatitude(y)</th>\n",
       "      <th>SiteLongitude (x)</th>\n",
       "    </tr>\n",
       "  </thead>\n",
       "  <tbody>\n",
       "    <tr>\n",
       "      <th>0</th>\n",
       "      <td>Neuilly-sur-Marne_SMV17</td>\n",
       "      <td>SMV17 - Neuilly-sur-Marne</td>\n",
       "      <td>River</td>\n",
       "      <td>SMV</td>\n",
       "      <td>48.852620</td>\n",
       "      <td>2.522907</td>\n",
       "    </tr>\n",
       "    <tr>\n",
       "      <th>1</th>\n",
       "      <td>Chenneviere_SI</td>\n",
       "      <td>Chenneviere</td>\n",
       "      <td>River</td>\n",
       "      <td>SIAAP</td>\n",
       "      <td>48.790690</td>\n",
       "      <td>2.521590</td>\n",
       "    </tr>\n",
       "    <tr>\n",
       "      <th>2</th>\n",
       "      <td>Pont d'Iéna_RG</td>\n",
       "      <td>Pont d'Iéna (RG)</td>\n",
       "      <td>River</td>\n",
       "      <td>VDP</td>\n",
       "      <td>48.859478</td>\n",
       "      <td>2.292624</td>\n",
       "    </tr>\n",
       "    <tr>\n",
       "      <th>3</th>\n",
       "      <td>Pont de l'Alma_RG</td>\n",
       "      <td>Pont de l'Alma (RG)</td>\n",
       "      <td>River</td>\n",
       "      <td>VDP</td>\n",
       "      <td>48.863021</td>\n",
       "      <td>2.301786</td>\n",
       "    </tr>\n",
       "    <tr>\n",
       "      <th>4</th>\n",
       "      <td>Marne_DWC_2019</td>\n",
       "      <td>Marne_DWC_2019</td>\n",
       "      <td>River</td>\n",
       "      <td>SIAAP</td>\n",
       "      <td>48.853460</td>\n",
       "      <td>2.530100</td>\n",
       "    </tr>\n",
       "    <tr>\n",
       "      <th>...</th>\n",
       "      <td>...</td>\n",
       "      <td>...</td>\n",
       "      <td>...</td>\n",
       "      <td>...</td>\n",
       "      <td>...</td>\n",
       "      <td>...</td>\n",
       "    </tr>\n",
       "    <tr>\n",
       "      <th>121</th>\n",
       "      <td>Marine</td>\n",
       "      <td>DO27505634-DO Marine</td>\n",
       "      <td>Network</td>\n",
       "      <td>VDP</td>\n",
       "      <td>48.844970</td>\n",
       "      <td>2.367150</td>\n",
       "    </tr>\n",
       "    <tr>\n",
       "      <th>122</th>\n",
       "      <td>Mirabeau-Convention</td>\n",
       "      <td>DO27505639-DO Mirabeau-Convention</td>\n",
       "      <td>Network</td>\n",
       "      <td>VDP</td>\n",
       "      <td>48.846890</td>\n",
       "      <td>2.276920</td>\n",
       "    </tr>\n",
       "    <tr>\n",
       "      <th>123</th>\n",
       "      <td>Javel-Leblanc</td>\n",
       "      <td>DO27505640-DO Javel-Leblanc</td>\n",
       "      <td>Network</td>\n",
       "      <td>VDP</td>\n",
       "      <td>48.841620</td>\n",
       "      <td>2.271710</td>\n",
       "    </tr>\n",
       "    <tr>\n",
       "      <th>124</th>\n",
       "      <td>Wilson</td>\n",
       "      <td>DO29204430-DO Wilson</td>\n",
       "      <td>Network</td>\n",
       "      <td>VDP</td>\n",
       "      <td>48.900820</td>\n",
       "      <td>2.282630</td>\n",
       "    </tr>\n",
       "    <tr>\n",
       "      <th>125</th>\n",
       "      <td>Usine de crue Watt</td>\n",
       "      <td>TP27505632-Usine de crue Watt</td>\n",
       "      <td>Network</td>\n",
       "      <td>VDP</td>\n",
       "      <td>48.828220</td>\n",
       "      <td>2.385430</td>\n",
       "    </tr>\n",
       "  </tbody>\n",
       "</table>\n",
       "<p>126 rows × 6 columns</p>\n",
       "</div>"
      ],
      "text/plain": [
       "                    SiteName              SiteReferencementName SiteType  \\\n",
       "0    Neuilly-sur-Marne_SMV17          SMV17 - Neuilly-sur-Marne    River   \n",
       "1             Chenneviere_SI                        Chenneviere    River   \n",
       "2             Pont d'Iéna_RG                   Pont d'Iéna (RG)    River   \n",
       "3          Pont de l'Alma_RG               Pont de l'Alma (RG)     River   \n",
       "4             Marne_DWC_2019                     Marne_DWC_2019    River   \n",
       "..                       ...                                ...      ...   \n",
       "121                   Marine               DO27505634-DO Marine  Network   \n",
       "122      Mirabeau-Convention  DO27505639-DO Mirabeau-Convention  Network   \n",
       "123            Javel-Leblanc        DO27505640-DO Javel-Leblanc  Network   \n",
       "124                   Wilson               DO29204430-DO Wilson  Network   \n",
       "125       Usine de crue Watt      TP27505632-Usine de crue Watt  Network   \n",
       "\n",
       "    SourceID  SiteLatitude(y)  SiteLongitude (x)  \n",
       "0        SMV        48.852620           2.522907  \n",
       "1      SIAAP        48.790690           2.521590  \n",
       "2        VDP        48.859478           2.292624  \n",
       "3        VDP        48.863021           2.301786  \n",
       "4      SIAAP        48.853460           2.530100  \n",
       "..       ...              ...                ...  \n",
       "121      VDP        48.844970           2.367150  \n",
       "122      VDP        48.846890           2.276920  \n",
       "123      VDP        48.841620           2.271710  \n",
       "124      VDP        48.900820           2.282630  \n",
       "125      VDP        48.828220           2.385430  \n",
       "\n",
       "[126 rows x 6 columns]"
      ]
     },
     "execution_count": 68,
     "metadata": {},
     "output_type": "execute_result"
    }
   ],
   "source": [
    "d"
   ]
  },
  {
   "cell_type": "code",
   "execution_count": 69,
   "id": "certified-worcester",
   "metadata": {},
   "outputs": [],
   "source": [
    "gdf = geopandas.GeoDataFrame(\n",
    "    d, geometry=geopandas.points_from_xy(d['SiteLongitude (x)'], d['SiteLatitude(y)']))"
   ]
  },
  {
   "cell_type": "code",
   "execution_count": 70,
   "id": "needed-newark",
   "metadata": {},
   "outputs": [
    {
     "data": {
      "text/plain": [
       "<FeatureType: River>"
      ]
     },
     "execution_count": 70,
     "metadata": {},
     "output_type": "execute_result"
    }
   ],
   "source": [
    "FeatureType.objects.get(name = d.SiteType[0])"
   ]
  },
  {
   "cell_type": "code",
   "execution_count": 74,
   "id": "complex-flash",
   "metadata": {},
   "outputs": [],
   "source": [
    "for index, row in d.iterrows():\n",
    "    loc = Site()\n",
    "    loc.name = row['SiteName']\n",
    "    loc.ref_name = row['SiteReferencementName']\n",
    "    loc.location = {\"coordinates\": [row['SiteLongitude (x)'],row['SiteLatitude(y)']], \"type\": \"Point\"}\n",
    "    loc.feature_type = FeatureType.objects.get(name = row['SiteType'])\n",
    "    loc.owner = User.objects.get(id = 1)\n",
    "    loc.save()"
   ]
  },
  {
   "cell_type": "code",
   "execution_count": null,
   "id": "subject-nitrogen",
   "metadata": {},
   "outputs": [],
   "source": []
  },
  {
   "cell_type": "code",
   "execution_count": null,
   "id": "crucial-geneva",
   "metadata": {},
   "outputs": [],
   "source": []
  }
 ],
 "metadata": {
  "kernelspec": {
   "display_name": "Django Shell-Plus",
   "language": "python",
   "name": "django_extensions"
  },
  "language_info": {
   "codemirror_mode": {
    "name": "ipython",
    "version": 3
   },
   "file_extension": ".py",
   "mimetype": "text/x-python",
   "name": "python",
   "nbconvert_exporter": "python",
   "pygments_lexer": "ipython3",
   "version": "3.9.1"
  }
 },
 "nbformat": 4,
 "nbformat_minor": 5
}
