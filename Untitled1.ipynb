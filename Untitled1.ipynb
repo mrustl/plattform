{
 "cells": [
  {
   "cell_type": "code",
   "execution_count": 1,
   "id": "expressed-cliff",
   "metadata": {},
   "outputs": [],
   "source": [
    "from ews.models import *\n",
    "import pandas as pd\n",
    "import geojson\n",
    "import numpy as np"
   ]
  },
  {
   "cell_type": "code",
   "execution_count": 3,
   "id": "resistant-queens",
   "metadata": {},
   "outputs": [],
   "source": [
    "d = pd.read_csv('D:/DWC_plattform/metadata_clean_tab.csv')"
   ]
  },
  {
   "cell_type": "code",
   "execution_count": 5,
   "id": "dangerous-collector",
   "metadata": {},
   "outputs": [],
   "source": [
    "d = d[d['SiteType']==\"River\"]"
   ]
  },
  {
   "cell_type": "code",
   "execution_count": 6,
   "id": "adjusted-extreme",
   "metadata": {},
   "outputs": [
    {
     "data": {
      "text/html": [
       "<div>\n",
       "<style scoped>\n",
       "    .dataframe tbody tr th:only-of-type {\n",
       "        vertical-align: middle;\n",
       "    }\n",
       "\n",
       "    .dataframe tbody tr th {\n",
       "        vertical-align: top;\n",
       "    }\n",
       "\n",
       "    .dataframe thead th {\n",
       "        text-align: right;\n",
       "    }\n",
       "</style>\n",
       "<table border=\"1\" class=\"dataframe\">\n",
       "  <thead>\n",
       "    <tr style=\"text-align: right;\">\n",
       "      <th></th>\n",
       "      <th>SiteName</th>\n",
       "      <th>SiteReferencementName</th>\n",
       "      <th>SiteType</th>\n",
       "      <th>SourceID</th>\n",
       "      <th>SiteLatitude(y)</th>\n",
       "      <th>SiteLongitude(x)</th>\n",
       "    </tr>\n",
       "  </thead>\n",
       "  <tbody>\n",
       "    <tr>\n",
       "      <th>0</th>\n",
       "      <td>neuilly_sur_marne_smv17</td>\n",
       "      <td>SMV17 - Neuilly-sur-Marne</td>\n",
       "      <td>River</td>\n",
       "      <td>SMV</td>\n",
       "      <td>48.85261968</td>\n",
       "      <td>2.522907</td>\n",
       "    </tr>\n",
       "    <tr>\n",
       "      <th>1</th>\n",
       "      <td>chenneviere_si</td>\n",
       "      <td>Chenneviere</td>\n",
       "      <td>River</td>\n",
       "      <td>SIAAP</td>\n",
       "      <td>48.79069</td>\n",
       "      <td>2.521590</td>\n",
       "    </tr>\n",
       "    <tr>\n",
       "      <th>2</th>\n",
       "      <td>pont_d'i�na_rg</td>\n",
       "      <td>Pont d'I�na (RG)</td>\n",
       "      <td>River</td>\n",
       "      <td>VDP</td>\n",
       "      <td>48.85947756</td>\n",
       "      <td>2.292624</td>\n",
       "    </tr>\n",
       "    <tr>\n",
       "      <th>3</th>\n",
       "      <td>pont_de_l'alma_rg</td>\n",
       "      <td>Pont de l'Alma (RG)</td>\n",
       "      <td>River</td>\n",
       "      <td>VDP</td>\n",
       "      <td>48.86302085</td>\n",
       "      <td>2.301786</td>\n",
       "    </tr>\n",
       "    <tr>\n",
       "      <th>4</th>\n",
       "      <td>marne_dwc_2019</td>\n",
       "      <td>Marne_DWC_2019</td>\n",
       "      <td>River</td>\n",
       "      <td>SIAAP</td>\n",
       "      <td>48.85346</td>\n",
       "      <td>2.530100</td>\n",
       "    </tr>\n",
       "    <tr>\n",
       "      <th>5</th>\n",
       "      <td>pont_alma_dwc_2019</td>\n",
       "      <td>Pont Alma_DWC_2019</td>\n",
       "      <td>River</td>\n",
       "      <td>SIAAP</td>\n",
       "      <td>48.86302</td>\n",
       "      <td>2.305000</td>\n",
       "    </tr>\n",
       "  </tbody>\n",
       "</table>\n",
       "</div>"
      ],
      "text/plain": [
       "                  SiteName      SiteReferencementName SiteType SourceID  \\\n",
       "0  neuilly_sur_marne_smv17  SMV17 - Neuilly-sur-Marne    River      SMV   \n",
       "1           chenneviere_si                Chenneviere    River    SIAAP   \n",
       "2           pont_d'i�na_rg           Pont d'I�na (RG)    River      VDP   \n",
       "3        pont_de_l'alma_rg        Pont de l'Alma (RG)    River      VDP   \n",
       "4           marne_dwc_2019             Marne_DWC_2019    River    SIAAP   \n",
       "5       pont_alma_dwc_2019         Pont Alma_DWC_2019    River    SIAAP   \n",
       "\n",
       "  SiteLatitude(y)  SiteLongitude(x)  \n",
       "0     48.85261968          2.522907  \n",
       "1        48.79069          2.521590  \n",
       "2     48.85947756          2.292624  \n",
       "3     48.86302085          2.301786  \n",
       "4        48.85346          2.530100  \n",
       "5        48.86302          2.305000  "
      ]
     },
     "execution_count": 6,
     "metadata": {},
     "output_type": "execute_result"
    }
   ],
   "source": [
    "d "
   ]
  }
 ],
 "metadata": {
  "kernelspec": {
   "display_name": "Django Shell-Plus",
   "language": "python",
   "name": "django_extensions"
  },
  "language_info": {
   "codemirror_mode": {
    "name": "ipython",
    "version": 3
   },
   "file_extension": ".py",
   "mimetype": "text/x-python",
   "name": "python",
   "nbconvert_exporter": "python",
   "pygments_lexer": "ipython3",
   "version": "3.9.1"
  }
 },
 "nbformat": 4,
 "nbformat_minor": 5
}
